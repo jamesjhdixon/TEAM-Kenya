{
 "cells": [
  {
   "cell_type": "markdown",
   "source": [
    "This notebook will (crudely) scale the stock tables so that the 2012 base year in current TEAM is aligned with the data (currently 2015). then the model will be calibrated so that 2015 = stock data. capiche?"
   ],
   "metadata": {
    "collapsed": false,
    "pycharm": {
     "name": "#%% md\n"
    }
   }
  },
  {
   "cell_type": "code",
   "execution_count": 92,
   "outputs": [],
   "source": [
    "import pandas as pd"
   ],
   "metadata": {
    "collapsed": false,
    "pycharm": {
     "name": "#%%\n"
    }
   }
  },
  {
   "cell_type": "code",
   "execution_count": 93,
   "outputs": [],
   "source": [
    "stockdir = f'./../ccg_team_notebook/out_data/processed/'"
   ],
   "metadata": {
    "collapsed": false,
    "pycharm": {
     "name": "#%%\n"
    }
   }
  },
  {
   "cell_type": "code",
   "execution_count": 94,
   "outputs": [],
   "source": [
    "stocktables = {'numveh95':['NumVeh'], 'numveh':['NumVeh'], 'newveh95':['NumNewVeh'], 'newveh':['NumNewVeh'], 'totnumveh95':['TotNumVeh', 'TotNumVeh-1'], 'totnumveh':['TotNumVeh'], 'tot95':['TOT_Stock'], 'tot':['TOT_Stock']}"
   ],
   "metadata": {
    "collapsed": false,
    "pycharm": {
     "name": "#%%\n"
    }
   }
  },
  {
   "cell_type": "code",
   "execution_count": 95,
   "outputs": [
    {
     "data": {
      "text/plain": "                  Vehicle category  VehTypeID           2012           2015  \\\n0              Passenger cars (PC)          3  390670.998086  532406.000609   \n1  Light commercial vehicles (LCV)          5   83692.000443  119229.999964   \n2       Heavy goods vehicles (HGV)          5   31676.999794   57791.999893   \n3                            Buses          4    5497.499986   10040.999998   \n4                 Motorcycles (MC)          2  205209.499194  539767.999558   \n\n            2017  scaling factor  \n0  626896.002291        0.733784  \n1  142921.999645        0.701937  \n2   75201.999959        0.548121  \n3   13070.000006        0.547505  \n4  762806.999801        0.380181  ",
      "text/html": "<div>\n<style scoped>\n    .dataframe tbody tr th:only-of-type {\n        vertical-align: middle;\n    }\n\n    .dataframe tbody tr th {\n        vertical-align: top;\n    }\n\n    .dataframe thead th {\n        text-align: right;\n    }\n</style>\n<table border=\"1\" class=\"dataframe\">\n  <thead>\n    <tr style=\"text-align: right;\">\n      <th></th>\n      <th>Vehicle category</th>\n      <th>VehTypeID</th>\n      <th>2012</th>\n      <th>2015</th>\n      <th>2017</th>\n      <th>scaling factor</th>\n    </tr>\n  </thead>\n  <tbody>\n    <tr>\n      <th>0</th>\n      <td>Passenger cars (PC)</td>\n      <td>3</td>\n      <td>390670.998086</td>\n      <td>532406.000609</td>\n      <td>626896.002291</td>\n      <td>0.733784</td>\n    </tr>\n    <tr>\n      <th>1</th>\n      <td>Light commercial vehicles (LCV)</td>\n      <td>5</td>\n      <td>83692.000443</td>\n      <td>119229.999964</td>\n      <td>142921.999645</td>\n      <td>0.701937</td>\n    </tr>\n    <tr>\n      <th>2</th>\n      <td>Heavy goods vehicles (HGV)</td>\n      <td>5</td>\n      <td>31676.999794</td>\n      <td>57791.999893</td>\n      <td>75201.999959</td>\n      <td>0.548121</td>\n    </tr>\n    <tr>\n      <th>3</th>\n      <td>Buses</td>\n      <td>4</td>\n      <td>5497.499986</td>\n      <td>10040.999998</td>\n      <td>13070.000006</td>\n      <td>0.547505</td>\n    </tr>\n    <tr>\n      <th>4</th>\n      <td>Motorcycles (MC)</td>\n      <td>2</td>\n      <td>205209.499194</td>\n      <td>539767.999558</td>\n      <td>762806.999801</td>\n      <td>0.380181</td>\n    </tr>\n  </tbody>\n</table>\n</div>"
     },
     "execution_count": 95,
     "metadata": {},
     "output_type": "execute_result"
    }
   ],
   "source": [
    "# define multiplication factor from GIZ tabular data\n",
    "historical_stock = pd.read_excel('./giz/historic_vehicle_stock.xlsx')\n",
    "historical_stock"
   ],
   "metadata": {
    "collapsed": false,
    "pycharm": {
     "name": "#%%\n"
    }
   }
  },
  {
   "cell_type": "code",
   "execution_count": 96,
   "outputs": [],
   "source": [
    "tables = list(stocktables.keys())\n",
    "\n",
    "for table in tables:\n",
    "    # read table\n",
    "\n",
    "    df = pd.read_csv(stockdir+table+'.csv')\n",
    "\n",
    "    for col in stocktables[table]:\n",
    "        for vehtype in historical_stock.VehTypeID.unique():\n",
    "\n",
    "            #multiply relevant column by scaling factor\n",
    "            df.loc[df[df.VehTypeID == vehtype].index.tolist(), col] *= historical_stock[historical_stock.VehTypeID == vehtype]['scaling factor'].tolist()[0]\n",
    "\n",
    "    df.to_csv(f'{stockdir}low_stock/{table}_low-stock.csv', index=False)"
   ],
   "metadata": {
    "collapsed": false,
    "pycharm": {
     "name": "#%%\n"
    }
   }
  }
 ],
 "metadata": {
  "kernelspec": {
   "display_name": "Python 3",
   "language": "python",
   "name": "python3"
  },
  "language_info": {
   "codemirror_mode": {
    "name": "ipython",
    "version": 2
   },
   "file_extension": ".py",
   "mimetype": "text/x-python",
   "name": "python",
   "nbconvert_exporter": "python",
   "pygments_lexer": "ipython2",
   "version": "2.7.6"
  }
 },
 "nbformat": 4,
 "nbformat_minor": 0
}