{
 "cells": [
  {
   "cell_type": "code",
   "execution_count": 1,
   "id": "initial_id",
   "metadata": {
    "collapsed": true,
    "ExecuteTime": {
     "end_time": "2023-08-08T15:31:08.890368700Z",
     "start_time": "2023-08-08T15:31:08.159923Z"
    }
   },
   "outputs": [],
   "source": [
    "import pandas as pd"
   ]
  },
  {
   "cell_type": "code",
   "execution_count": 4,
   "outputs": [
    {
     "data": {
      "text/plain": "        Unnamed: 0  ScenarioID  CountryID  TechID  Year  Age  TransTypeID  \\\n0                0           1          9      70  2012    5            1   \n1                1           1          9      70  2012    6            1   \n2                2           1          9      70  2012    7            1   \n3                3           1          9      70  2012    8            1   \n4                4           1          9      70  2012    9            1   \n...            ...         ...        ...     ...   ...  ...          ...   \n203185      203185           1          9    4275  2050   16            1   \n203186      203186           1          9    4275  2050   32            1   \n203187      203187           1          9    4275  2050   33            1   \n203188      203188           1          9    4275  2050   34            1   \n203189      203189           1          9    4275  2050   35            1   \n\n        VehTypeID  MassCatID  EngineID  FuelID      NumVeh  \n0               3          1         1       1   84.696857  \n1               3          1         1       1  169.393714  \n2               3          1         1       1  592.878000  \n3               3          1         1       1  677.574857  \n4               3          1         1       1  931.665429  \n...           ...        ...       ...     ...         ...  \n203185          8         45         7      15    0.000000  \n203186          8         45         7      15    0.000000  \n203187          8         45         7      15    0.000000  \n203188          8         45         7      15    0.000000  \n203189          8         45         7      15    0.000000  \n\n[203190 rows x 12 columns]",
      "text/html": "<div>\n<style scoped>\n    .dataframe tbody tr th:only-of-type {\n        vertical-align: middle;\n    }\n\n    .dataframe tbody tr th {\n        vertical-align: top;\n    }\n\n    .dataframe thead th {\n        text-align: right;\n    }\n</style>\n<table border=\"1\" class=\"dataframe\">\n  <thead>\n    <tr style=\"text-align: right;\">\n      <th></th>\n      <th>Unnamed: 0</th>\n      <th>ScenarioID</th>\n      <th>CountryID</th>\n      <th>TechID</th>\n      <th>Year</th>\n      <th>Age</th>\n      <th>TransTypeID</th>\n      <th>VehTypeID</th>\n      <th>MassCatID</th>\n      <th>EngineID</th>\n      <th>FuelID</th>\n      <th>NumVeh</th>\n    </tr>\n  </thead>\n  <tbody>\n    <tr>\n      <th>0</th>\n      <td>0</td>\n      <td>1</td>\n      <td>9</td>\n      <td>70</td>\n      <td>2012</td>\n      <td>5</td>\n      <td>1</td>\n      <td>3</td>\n      <td>1</td>\n      <td>1</td>\n      <td>1</td>\n      <td>84.696857</td>\n    </tr>\n    <tr>\n      <th>1</th>\n      <td>1</td>\n      <td>1</td>\n      <td>9</td>\n      <td>70</td>\n      <td>2012</td>\n      <td>6</td>\n      <td>1</td>\n      <td>3</td>\n      <td>1</td>\n      <td>1</td>\n      <td>1</td>\n      <td>169.393714</td>\n    </tr>\n    <tr>\n      <th>2</th>\n      <td>2</td>\n      <td>1</td>\n      <td>9</td>\n      <td>70</td>\n      <td>2012</td>\n      <td>7</td>\n      <td>1</td>\n      <td>3</td>\n      <td>1</td>\n      <td>1</td>\n      <td>1</td>\n      <td>592.878000</td>\n    </tr>\n    <tr>\n      <th>3</th>\n      <td>3</td>\n      <td>1</td>\n      <td>9</td>\n      <td>70</td>\n      <td>2012</td>\n      <td>8</td>\n      <td>1</td>\n      <td>3</td>\n      <td>1</td>\n      <td>1</td>\n      <td>1</td>\n      <td>677.574857</td>\n    </tr>\n    <tr>\n      <th>4</th>\n      <td>4</td>\n      <td>1</td>\n      <td>9</td>\n      <td>70</td>\n      <td>2012</td>\n      <td>9</td>\n      <td>1</td>\n      <td>3</td>\n      <td>1</td>\n      <td>1</td>\n      <td>1</td>\n      <td>931.665429</td>\n    </tr>\n    <tr>\n      <th>...</th>\n      <td>...</td>\n      <td>...</td>\n      <td>...</td>\n      <td>...</td>\n      <td>...</td>\n      <td>...</td>\n      <td>...</td>\n      <td>...</td>\n      <td>...</td>\n      <td>...</td>\n      <td>...</td>\n      <td>...</td>\n    </tr>\n    <tr>\n      <th>203185</th>\n      <td>203185</td>\n      <td>1</td>\n      <td>9</td>\n      <td>4275</td>\n      <td>2050</td>\n      <td>16</td>\n      <td>1</td>\n      <td>8</td>\n      <td>45</td>\n      <td>7</td>\n      <td>15</td>\n      <td>0.000000</td>\n    </tr>\n    <tr>\n      <th>203186</th>\n      <td>203186</td>\n      <td>1</td>\n      <td>9</td>\n      <td>4275</td>\n      <td>2050</td>\n      <td>32</td>\n      <td>1</td>\n      <td>8</td>\n      <td>45</td>\n      <td>7</td>\n      <td>15</td>\n      <td>0.000000</td>\n    </tr>\n    <tr>\n      <th>203187</th>\n      <td>203187</td>\n      <td>1</td>\n      <td>9</td>\n      <td>4275</td>\n      <td>2050</td>\n      <td>33</td>\n      <td>1</td>\n      <td>8</td>\n      <td>45</td>\n      <td>7</td>\n      <td>15</td>\n      <td>0.000000</td>\n    </tr>\n    <tr>\n      <th>203188</th>\n      <td>203188</td>\n      <td>1</td>\n      <td>9</td>\n      <td>4275</td>\n      <td>2050</td>\n      <td>34</td>\n      <td>1</td>\n      <td>8</td>\n      <td>45</td>\n      <td>7</td>\n      <td>15</td>\n      <td>0.000000</td>\n    </tr>\n    <tr>\n      <th>203189</th>\n      <td>203189</td>\n      <td>1</td>\n      <td>9</td>\n      <td>4275</td>\n      <td>2050</td>\n      <td>35</td>\n      <td>1</td>\n      <td>8</td>\n      <td>45</td>\n      <td>7</td>\n      <td>15</td>\n      <td>0.000000</td>\n    </tr>\n  </tbody>\n</table>\n<p>203190 rows × 12 columns</p>\n</div>"
     },
     "execution_count": 4,
     "metadata": {},
     "output_type": "execute_result"
    }
   ],
   "source": [
    "df = pd.read_csv(f'./../data/vehicle-fleet/out_data/processed/numveh.csv')\n",
    "df"
   ],
   "metadata": {
    "collapsed": false,
    "ExecuteTime": {
     "end_time": "2023-08-08T15:33:20.487398Z",
     "start_time": "2023-08-08T15:33:20.372525400Z"
    }
   },
   "id": "facc8b3d18174122"
  },
  {
   "cell_type": "code",
   "execution_count": 14,
   "outputs": [
    {
     "data": {
      "text/plain": "0.0"
     },
     "execution_count": 14,
     "metadata": {},
     "output_type": "execute_result"
    }
   ],
   "source": [
    "df[(df.Year==201)].NumVeh.sum()"
   ],
   "metadata": {
    "collapsed": false,
    "ExecuteTime": {
     "end_time": "2023-08-08T15:34:18.847163600Z",
     "start_time": "2023-08-08T15:34:18.815575600Z"
    }
   },
   "id": "b5c80d34077c4f62"
  }
 ],
 "metadata": {
  "kernelspec": {
   "display_name": "Python 3",
   "language": "python",
   "name": "python3"
  },
  "language_info": {
   "codemirror_mode": {
    "name": "ipython",
    "version": 2
   },
   "file_extension": ".py",
   "mimetype": "text/x-python",
   "name": "python",
   "nbconvert_exporter": "python",
   "pygments_lexer": "ipython2",
   "version": "2.7.6"
  }
 },
 "nbformat": 4,
 "nbformat_minor": 5
}
