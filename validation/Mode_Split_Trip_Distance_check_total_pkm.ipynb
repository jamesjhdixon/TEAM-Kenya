{
 "cells": [
  {
   "cell_type": "code",
   "execution_count": 1,
   "metadata": {
    "collapsed": true,
    "ExecuteTime": {
     "end_time": "2023-08-08T11:30:49.658656200Z",
     "start_time": "2023-08-08T11:30:48.288864900Z"
    }
   },
   "outputs": [],
   "source": [
    "import pandas as pd"
   ]
  },
  {
   "cell_type": "code",
   "execution_count": 2,
   "outputs": [],
   "source": [
    "def read_mode_shares_data(scenario):\n",
    "    df = pd.read_excel(f'./../scenarios/data-out/{scenario}/Mode_Shares_TripLength.xlsx')\n",
    "    return df"
   ],
   "metadata": {
    "collapsed": false,
    "ExecuteTime": {
     "end_time": "2023-08-08T11:30:49.666611Z",
     "start_time": "2023-08-08T11:30:49.666611Z"
    }
   }
  },
  {
   "cell_type": "code",
   "execution_count": 3,
   "outputs": [],
   "source": [
    "def read_travel_demand(scenario='KUJINAO'):\n",
    "    df = pd.read_excel(f'./../scenarios/data-out/{scenario}/Travel_Demand.xlsx')\n",
    "    return df"
   ],
   "metadata": {
    "collapsed": false,
    "ExecuteTime": {
     "end_time": "2023-08-08T11:30:49.668933700Z",
     "start_time": "2023-08-08T11:30:49.668933700Z"
    }
   }
  },
  {
   "cell_type": "code",
   "execution_count": 4,
   "outputs": [
    {
     "data": {
      "text/plain": "      ScenarioID  CountryID  PolicyID  Year  triplenID  modeID          td\n0              1          9         0  2012          1       1  140.554901\n1              1          9         0  2012          1       2    1.527704\n2              1          9         0  2012          1       3    0.621154\n3              1          9         0  2012          1       4    0.372925\n4              1          9         0  2012          1       5    0.057659\n...          ...        ...       ...   ...        ...     ...         ...\n8539           1          9         0  2100          8       8   11.078624\n8540           1          9         0  2100          8       9    6.033093\n8541           1          9         0  2100          8      10    2.257127\n8542           1          9         0  2100          8      11    1.408617\n8543           1          9         0  2100          8      12    0.141406\n\n[8544 rows x 7 columns]",
      "text/html": "<div>\n<style scoped>\n    .dataframe tbody tr th:only-of-type {\n        vertical-align: middle;\n    }\n\n    .dataframe tbody tr th {\n        vertical-align: top;\n    }\n\n    .dataframe thead th {\n        text-align: right;\n    }\n</style>\n<table border=\"1\" class=\"dataframe\">\n  <thead>\n    <tr style=\"text-align: right;\">\n      <th></th>\n      <th>ScenarioID</th>\n      <th>CountryID</th>\n      <th>PolicyID</th>\n      <th>Year</th>\n      <th>triplenID</th>\n      <th>modeID</th>\n      <th>td</th>\n    </tr>\n  </thead>\n  <tbody>\n    <tr>\n      <th>0</th>\n      <td>1</td>\n      <td>9</td>\n      <td>0</td>\n      <td>2012</td>\n      <td>1</td>\n      <td>1</td>\n      <td>140.554901</td>\n    </tr>\n    <tr>\n      <th>1</th>\n      <td>1</td>\n      <td>9</td>\n      <td>0</td>\n      <td>2012</td>\n      <td>1</td>\n      <td>2</td>\n      <td>1.527704</td>\n    </tr>\n    <tr>\n      <th>2</th>\n      <td>1</td>\n      <td>9</td>\n      <td>0</td>\n      <td>2012</td>\n      <td>1</td>\n      <td>3</td>\n      <td>0.621154</td>\n    </tr>\n    <tr>\n      <th>3</th>\n      <td>1</td>\n      <td>9</td>\n      <td>0</td>\n      <td>2012</td>\n      <td>1</td>\n      <td>4</td>\n      <td>0.372925</td>\n    </tr>\n    <tr>\n      <th>4</th>\n      <td>1</td>\n      <td>9</td>\n      <td>0</td>\n      <td>2012</td>\n      <td>1</td>\n      <td>5</td>\n      <td>0.057659</td>\n    </tr>\n    <tr>\n      <th>...</th>\n      <td>...</td>\n      <td>...</td>\n      <td>...</td>\n      <td>...</td>\n      <td>...</td>\n      <td>...</td>\n      <td>...</td>\n    </tr>\n    <tr>\n      <th>8539</th>\n      <td>1</td>\n      <td>9</td>\n      <td>0</td>\n      <td>2100</td>\n      <td>8</td>\n      <td>8</td>\n      <td>11.078624</td>\n    </tr>\n    <tr>\n      <th>8540</th>\n      <td>1</td>\n      <td>9</td>\n      <td>0</td>\n      <td>2100</td>\n      <td>8</td>\n      <td>9</td>\n      <td>6.033093</td>\n    </tr>\n    <tr>\n      <th>8541</th>\n      <td>1</td>\n      <td>9</td>\n      <td>0</td>\n      <td>2100</td>\n      <td>8</td>\n      <td>10</td>\n      <td>2.257127</td>\n    </tr>\n    <tr>\n      <th>8542</th>\n      <td>1</td>\n      <td>9</td>\n      <td>0</td>\n      <td>2100</td>\n      <td>8</td>\n      <td>11</td>\n      <td>1.408617</td>\n    </tr>\n    <tr>\n      <th>8543</th>\n      <td>1</td>\n      <td>9</td>\n      <td>0</td>\n      <td>2100</td>\n      <td>8</td>\n      <td>12</td>\n      <td>0.141406</td>\n    </tr>\n  </tbody>\n</table>\n<p>8544 rows × 7 columns</p>\n</div>"
     },
     "execution_count": 4,
     "metadata": {},
     "output_type": "execute_result"
    }
   ],
   "source": [
    "df = read_mode_shares_data('OMOKA')\n",
    "df"
   ],
   "metadata": {
    "collapsed": false,
    "ExecuteTime": {
     "end_time": "2023-08-08T11:30:50.910705600Z",
     "start_time": "2023-08-08T11:30:49.668933700Z"
    }
   }
  },
  {
   "cell_type": "code",
   "execution_count": 5,
   "outputs": [
    {
     "name": "stdout",
     "output_type": "stream",
     "text": [
      "1490.5257808626639\n",
      "1490.5257808626639\n",
      "1490.5257808626639\n",
      "1490.5257808626639\n",
      "1490.5257808626639\n",
      "1490.5257808626639\n",
      "1490.5257808626639\n",
      "1490.5257808626639\n",
      "1490.525778478478\n",
      "1490.5258061871857\n",
      "1490.5257703945979\n",
      "1490.525796032044\n",
      "1490.5257656336762\n",
      "1490.5257726074199\n",
      "1490.5257820920094\n",
      "1490.525779894088\n",
      "1490.5257795960645\n",
      "1490.5257730470053\n",
      "1490.5257806167945\n",
      "1490.5257765676358\n",
      "1490.525818298338\n",
      "1490.5257827814203\n",
      "1490.5257790933836\n",
      "1490.5257839288097\n",
      "1490.5257953803527\n",
      "1490.525780486642\n",
      "1490.5258024286009\n",
      "1490.525792668341\n",
      "1490.525761316298\n",
      "1490.5257697876082\n",
      "1490.5257932271338\n",
      "1490.5257820810662\n",
      "1490.5257991354451\n",
      "1490.5257872852962\n",
      "1490.5257688115817\n",
      "1490.5257629218981\n",
      "1490.5257913644891\n",
      "1490.52577288705\n",
      "1490.5257989454547\n"
     ]
    }
   ],
   "source": [
    "total_pkm_pc = []\n",
    "for year in range(2012,2051):\n",
    "    # total_pkm_pc.append(df[df.Year==year].td.sum())\n",
    "    print(df[df.Year==year].td.sum())"
   ],
   "metadata": {
    "collapsed": false,
    "ExecuteTime": {
     "end_time": "2023-08-08T11:30:50.934199900Z",
     "start_time": "2023-08-08T11:30:50.910705600Z"
    }
   }
  },
  {
   "cell_type": "code",
   "execution_count": 6,
   "outputs": [
    {
     "data": {
      "text/plain": "    ScenarioID  CountryID  PolicyID  Year   Trips_Com  chTrips_Com_Ageing  \\\n0            1          9         0  2012  102.986794            1.000000   \n1            1          9         0  2013  102.101776            0.999591   \n2            1          9         0  2014  103.738594            0.999079   \n3            1          9         0  2015  100.365494            0.998720   \n4            1          9         0  2016  100.938568            0.998413   \n..         ...        ...       ...   ...         ...                 ...   \n84           1          9         0  2096  123.022781            0.941449   \n85           1          9         0  2097  122.999283            0.941269   \n86           1          9         0  2098  122.978004            0.941106   \n87           1          9         0  2099  122.958557            0.940957   \n88           1          9         0  2100  122.940399            0.940818   \n\n    chTrips_Com_TeleWork  chTrips4dayweek  chTripsComGig   ATL_Com  ...  \\\n0               1.000000            1.000       1.000000  8.900050  ...   \n1               1.000000            1.000       0.991812  8.771302  ...   \n2               1.000000            1.000       1.008229  8.697289  ...   \n3               1.000000            1.000       0.975796  9.116610  ...   \n4               1.000000            1.000       0.981670  8.971702  ...   \n..                   ...              ...            ...       ...  ...   \n84              0.927835            0.975       0.981816  8.618203  ...   \n85              0.927835            0.975       0.981816  8.618203  ...   \n86              0.927835            0.975       0.981816  8.618203  ...   \n87              0.927835            0.975       0.981816  8.618203  ...   \n88              0.927835            0.975       0.981816  8.618203  ...   \n\n         td_all    OR_com   OR_busi  OR_leilong  OR_leiloc  OR_school  \\\n0   3708.318359  1.002959  1.002959    1.002959   1.002959   1.002959   \n1   3624.689209  1.553014  1.553014    1.553014   1.553014   1.553014   \n2   3598.573242  1.553014  1.553014    1.553014   1.553014   1.553014   \n3   3632.763672  1.553014  1.553014    1.553014   1.553014   1.553014   \n4   3629.915771  1.553014  1.553014    1.553014   1.553014   1.553014   \n..          ...       ...       ...         ...        ...        ...   \n84  6646.553711  1.132807  1.111848    2.182353   2.182353   2.033296   \n85  6647.082031  1.132807  1.111848    2.182353   2.182353   2.033296   \n86  6647.561523  1.132807  1.111848    2.182353   2.182353   2.033296   \n87  6648.000488  1.132807  1.111848    2.182353   2.182353   2.033296   \n88  6648.408691  1.132807  1.111848    2.182353   2.182353   2.033296   \n\n     OR_shop     OR_pb  OR_other    OR_avg  \n0   1.002959  1.002959  1.002959  1.002959  \n1   1.553014  1.553014  1.553014  1.553014  \n2   1.553014  1.553014  1.553014  1.553014  \n3   1.553014  1.553014  1.553014  1.553014  \n4   1.553014  1.553014  1.553014  1.553014  \n..       ...       ...       ...       ...  \n84  1.678676  1.663926  1.606691  1.679334  \n85  1.678676  1.663926  1.606691  1.679399  \n86  1.678676  1.663926  1.606691  1.679458  \n87  1.678676  1.663926  1.606691  1.679512  \n88  1.678676  1.663926  1.606691  1.679562  \n\n[89 rows x 179 columns]",
      "text/html": "<div>\n<style scoped>\n    .dataframe tbody tr th:only-of-type {\n        vertical-align: middle;\n    }\n\n    .dataframe tbody tr th {\n        vertical-align: top;\n    }\n\n    .dataframe thead th {\n        text-align: right;\n    }\n</style>\n<table border=\"1\" class=\"dataframe\">\n  <thead>\n    <tr style=\"text-align: right;\">\n      <th></th>\n      <th>ScenarioID</th>\n      <th>CountryID</th>\n      <th>PolicyID</th>\n      <th>Year</th>\n      <th>Trips_Com</th>\n      <th>chTrips_Com_Ageing</th>\n      <th>chTrips_Com_TeleWork</th>\n      <th>chTrips4dayweek</th>\n      <th>chTripsComGig</th>\n      <th>ATL_Com</th>\n      <th>...</th>\n      <th>td_all</th>\n      <th>OR_com</th>\n      <th>OR_busi</th>\n      <th>OR_leilong</th>\n      <th>OR_leiloc</th>\n      <th>OR_school</th>\n      <th>OR_shop</th>\n      <th>OR_pb</th>\n      <th>OR_other</th>\n      <th>OR_avg</th>\n    </tr>\n  </thead>\n  <tbody>\n    <tr>\n      <th>0</th>\n      <td>1</td>\n      <td>9</td>\n      <td>0</td>\n      <td>2012</td>\n      <td>102.986794</td>\n      <td>1.000000</td>\n      <td>1.000000</td>\n      <td>1.000</td>\n      <td>1.000000</td>\n      <td>8.900050</td>\n      <td>...</td>\n      <td>3708.318359</td>\n      <td>1.002959</td>\n      <td>1.002959</td>\n      <td>1.002959</td>\n      <td>1.002959</td>\n      <td>1.002959</td>\n      <td>1.002959</td>\n      <td>1.002959</td>\n      <td>1.002959</td>\n      <td>1.002959</td>\n    </tr>\n    <tr>\n      <th>1</th>\n      <td>1</td>\n      <td>9</td>\n      <td>0</td>\n      <td>2013</td>\n      <td>102.101776</td>\n      <td>0.999591</td>\n      <td>1.000000</td>\n      <td>1.000</td>\n      <td>0.991812</td>\n      <td>8.771302</td>\n      <td>...</td>\n      <td>3624.689209</td>\n      <td>1.553014</td>\n      <td>1.553014</td>\n      <td>1.553014</td>\n      <td>1.553014</td>\n      <td>1.553014</td>\n      <td>1.553014</td>\n      <td>1.553014</td>\n      <td>1.553014</td>\n      <td>1.553014</td>\n    </tr>\n    <tr>\n      <th>2</th>\n      <td>1</td>\n      <td>9</td>\n      <td>0</td>\n      <td>2014</td>\n      <td>103.738594</td>\n      <td>0.999079</td>\n      <td>1.000000</td>\n      <td>1.000</td>\n      <td>1.008229</td>\n      <td>8.697289</td>\n      <td>...</td>\n      <td>3598.573242</td>\n      <td>1.553014</td>\n      <td>1.553014</td>\n      <td>1.553014</td>\n      <td>1.553014</td>\n      <td>1.553014</td>\n      <td>1.553014</td>\n      <td>1.553014</td>\n      <td>1.553014</td>\n      <td>1.553014</td>\n    </tr>\n    <tr>\n      <th>3</th>\n      <td>1</td>\n      <td>9</td>\n      <td>0</td>\n      <td>2015</td>\n      <td>100.365494</td>\n      <td>0.998720</td>\n      <td>1.000000</td>\n      <td>1.000</td>\n      <td>0.975796</td>\n      <td>9.116610</td>\n      <td>...</td>\n      <td>3632.763672</td>\n      <td>1.553014</td>\n      <td>1.553014</td>\n      <td>1.553014</td>\n      <td>1.553014</td>\n      <td>1.553014</td>\n      <td>1.553014</td>\n      <td>1.553014</td>\n      <td>1.553014</td>\n      <td>1.553014</td>\n    </tr>\n    <tr>\n      <th>4</th>\n      <td>1</td>\n      <td>9</td>\n      <td>0</td>\n      <td>2016</td>\n      <td>100.938568</td>\n      <td>0.998413</td>\n      <td>1.000000</td>\n      <td>1.000</td>\n      <td>0.981670</td>\n      <td>8.971702</td>\n      <td>...</td>\n      <td>3629.915771</td>\n      <td>1.553014</td>\n      <td>1.553014</td>\n      <td>1.553014</td>\n      <td>1.553014</td>\n      <td>1.553014</td>\n      <td>1.553014</td>\n      <td>1.553014</td>\n      <td>1.553014</td>\n      <td>1.553014</td>\n    </tr>\n    <tr>\n      <th>...</th>\n      <td>...</td>\n      <td>...</td>\n      <td>...</td>\n      <td>...</td>\n      <td>...</td>\n      <td>...</td>\n      <td>...</td>\n      <td>...</td>\n      <td>...</td>\n      <td>...</td>\n      <td>...</td>\n      <td>...</td>\n      <td>...</td>\n      <td>...</td>\n      <td>...</td>\n      <td>...</td>\n      <td>...</td>\n      <td>...</td>\n      <td>...</td>\n      <td>...</td>\n      <td>...</td>\n    </tr>\n    <tr>\n      <th>84</th>\n      <td>1</td>\n      <td>9</td>\n      <td>0</td>\n      <td>2096</td>\n      <td>123.022781</td>\n      <td>0.941449</td>\n      <td>0.927835</td>\n      <td>0.975</td>\n      <td>0.981816</td>\n      <td>8.618203</td>\n      <td>...</td>\n      <td>6646.553711</td>\n      <td>1.132807</td>\n      <td>1.111848</td>\n      <td>2.182353</td>\n      <td>2.182353</td>\n      <td>2.033296</td>\n      <td>1.678676</td>\n      <td>1.663926</td>\n      <td>1.606691</td>\n      <td>1.679334</td>\n    </tr>\n    <tr>\n      <th>85</th>\n      <td>1</td>\n      <td>9</td>\n      <td>0</td>\n      <td>2097</td>\n      <td>122.999283</td>\n      <td>0.941269</td>\n      <td>0.927835</td>\n      <td>0.975</td>\n      <td>0.981816</td>\n      <td>8.618203</td>\n      <td>...</td>\n      <td>6647.082031</td>\n      <td>1.132807</td>\n      <td>1.111848</td>\n      <td>2.182353</td>\n      <td>2.182353</td>\n      <td>2.033296</td>\n      <td>1.678676</td>\n      <td>1.663926</td>\n      <td>1.606691</td>\n      <td>1.679399</td>\n    </tr>\n    <tr>\n      <th>86</th>\n      <td>1</td>\n      <td>9</td>\n      <td>0</td>\n      <td>2098</td>\n      <td>122.978004</td>\n      <td>0.941106</td>\n      <td>0.927835</td>\n      <td>0.975</td>\n      <td>0.981816</td>\n      <td>8.618203</td>\n      <td>...</td>\n      <td>6647.561523</td>\n      <td>1.132807</td>\n      <td>1.111848</td>\n      <td>2.182353</td>\n      <td>2.182353</td>\n      <td>2.033296</td>\n      <td>1.678676</td>\n      <td>1.663926</td>\n      <td>1.606691</td>\n      <td>1.679458</td>\n    </tr>\n    <tr>\n      <th>87</th>\n      <td>1</td>\n      <td>9</td>\n      <td>0</td>\n      <td>2099</td>\n      <td>122.958557</td>\n      <td>0.940957</td>\n      <td>0.927835</td>\n      <td>0.975</td>\n      <td>0.981816</td>\n      <td>8.618203</td>\n      <td>...</td>\n      <td>6648.000488</td>\n      <td>1.132807</td>\n      <td>1.111848</td>\n      <td>2.182353</td>\n      <td>2.182353</td>\n      <td>2.033296</td>\n      <td>1.678676</td>\n      <td>1.663926</td>\n      <td>1.606691</td>\n      <td>1.679512</td>\n    </tr>\n    <tr>\n      <th>88</th>\n      <td>1</td>\n      <td>9</td>\n      <td>0</td>\n      <td>2100</td>\n      <td>122.940399</td>\n      <td>0.940818</td>\n      <td>0.927835</td>\n      <td>0.975</td>\n      <td>0.981816</td>\n      <td>8.618203</td>\n      <td>...</td>\n      <td>6648.408691</td>\n      <td>1.132807</td>\n      <td>1.111848</td>\n      <td>2.182353</td>\n      <td>2.182353</td>\n      <td>2.033296</td>\n      <td>1.678676</td>\n      <td>1.663926</td>\n      <td>1.606691</td>\n      <td>1.679562</td>\n    </tr>\n  </tbody>\n</table>\n<p>89 rows × 179 columns</p>\n</div>"
     },
     "execution_count": 6,
     "metadata": {},
     "output_type": "execute_result"
    }
   ],
   "source": [
    "td = read_travel_demand()\n",
    "td"
   ],
   "metadata": {
    "collapsed": false,
    "ExecuteTime": {
     "end_time": "2023-08-08T11:30:51.155160100Z",
     "start_time": "2023-08-08T11:30:50.934199900Z"
    }
   }
  },
  {
   "cell_type": "code",
   "execution_count": 9,
   "outputs": [
    {
     "data": {
      "text/plain": "['ScenarioID',\n 'CountryID',\n 'PolicyID',\n 'Year',\n 'Trips_Com',\n 'chTrips_Com_Ageing',\n 'chTrips_Com_TeleWork',\n 'chTrips4dayweek',\n 'chTripsComGig',\n 'ATL_Com',\n 'chATL_Com_TeleWork',\n 'chATL_Com_Prox',\n 'chATL_Com_Gig',\n 'MS_Com_Walk',\n 'MS_Com_Bike',\n 'MS_Com_CarDriver',\n 'MS_Com_CarPass',\n 'MS_Com_Moto',\n 'MS_Com_LocalBus',\n 'MS_Com_Coach',\n 'MS_Com_RailTube',\n 'MS_Com_OtherPriv',\n 'MS_Com_Taxi',\n 'MS_Com_Air',\n 'MS_Com_OtherPub',\n 'Trips_Busi',\n 'chTrips_Busi_Ageing',\n 'chTrips_Busi_TeleConf',\n 'chTrips_Busi_Air',\n 'chTrips_Busi_Gig',\n 'ATL_Busi',\n 'chATL_Busi_Air',\n 'chATL_Busi_TeleConf',\n 'MS_Busi_Walk',\n 'MS_Busi_Bike',\n 'MS_Busi_CarDriver',\n 'MS_Busi_CarPass',\n 'MS_Busi_Moto',\n 'MS_Busi_LocalBus',\n 'MS_Busi_Coach',\n 'MS_Busi_RailTube',\n 'MS_Busi_OtherPriv',\n 'MS_Busi_Taxi',\n 'MS_Busi_Air',\n 'MS_Busi_OtherPub',\n 'Trips_LeiLong',\n 'chTrips_LeiLong_Ageing',\n 'chTrips_LeiLong_Hol',\n 'ATL_LeiLong',\n 'chATL_LeiLong_Wkds',\n 'MS_LeiLong_Walk',\n 'MS_LeiLong_Bike',\n 'MS_LeiLong_CarDriver',\n 'MS_LeiLong_CarPass',\n 'MS_LeiLong_Moto',\n 'MS_LeiLong_LocalBus',\n 'MS_LeiLong_Coach',\n 'MS_LeiLong_RailTube',\n 'MS_LeiLong_OtherPriv',\n 'MS_LeiLong_Taxi',\n 'MS_LeiLong_Air',\n 'MS_LeiLong_OtherPub',\n 'Trips_LeiLoc',\n 'chTrips_LeiLoc_Ageing',\n 'chTrips_LeiLoc_Local',\n 'chTrips_LeiLoc_Blend',\n 'ATL_LeiLoc',\n 'chATL_LeiLoc_WC',\n 'MS_LeiLoc_Walk',\n 'MS_LeiLoc_Bike',\n 'MS_LeiLoc_CarDriver',\n 'MS_LeiLoc_CarPass',\n 'MS_LeiLoc_Moto',\n 'MS_LeiLoc_LocalBus',\n 'MS_LeiLoc_Coach',\n 'MS_LeiLoc_RailTube',\n 'MS_LeiLoc_OtherPriv',\n 'MS_LeiLoc_Taxi',\n 'MS_LeiLoc_Air',\n 'MS_LeiLoc_OtherPub',\n 'Trips_School',\n 'chTrips_School_Ageing',\n 'chTrips_School',\n 'ATL_School',\n 'chATL_School_Prox',\n 'MS_School_Walk',\n 'MS_School_Bike',\n 'MS_School_CarDriver',\n 'MS_School_CarPass',\n 'MS_School_Moto',\n 'MS_School_LocalBus',\n 'MS_School_Coach',\n 'MS_School_RailTube',\n 'MS_School_OtherPriv',\n 'MS_School_Taxi',\n 'MS_School_Air',\n 'MS_School_OtherPub',\n 'Trips_Shop',\n 'chTrips_Shop_Ageing',\n 'chTrips_Shop_WC',\n 'chTrips_Shop_TeleShop',\n 'ATL_Shop',\n 'chATL_Shop_Local',\n 'MS_Shop_Walk',\n 'MS_Shop_Bike',\n 'MS_Shop_CarDriver',\n 'MS_Shop_CarPass',\n 'MS_Shop_Moto',\n 'MS_Shop_LocalBus',\n 'MS_Shop_Coach',\n 'MS_Shop_RailTube',\n 'MS_Shop_OtherPriv',\n 'MS_Shop_Taxi',\n 'MS_Shop_Air',\n 'MS_Shop_OtherPub',\n 'Trips_PB',\n 'chTrips_PB_Ageing',\n 'chTrips_PB_TeleActivity',\n 'ATL_PB',\n 'chATL_PB_Local',\n 'MS_PB_Walk',\n 'MS_PB_Bike',\n 'MS_PB_CarDriver',\n 'MS_PB_CarPass',\n 'MS_PB_Moto',\n 'MS_PB_LocalBus',\n 'MS_PB_Coach',\n 'MS_PB_RailTube',\n 'MS_PB_OtherPriv',\n 'MS_PB_Taxi',\n 'MS_PB_Air',\n 'MS_PB_OtherPub',\n 'Trips_Other',\n 'chTrips_Other_Ageing',\n 'chTrips_Other_TeleActivity',\n 'ATL_Other',\n 'chATL_Other_Prox',\n 'MS_Other_Walk',\n 'MS_Other_Bike',\n 'MS_Other_CarDriver',\n 'MS_Other_CarPass',\n 'MS_Other_Moto',\n 'MS_Other_LocalBus',\n 'MS_Other_Coach',\n 'MS_Other_RailTube',\n 'MS_Other_OtherPriv',\n 'MS_Other_Taxi',\n 'MS_Other_Air',\n 'MS_Other_OtherPub',\n 'td_card',\n 'td_carp',\n 'td_moto',\n 'td_opriv',\n 'td_bus',\n 'td_coach',\n 'td_rail',\n 'td_taxi',\n 'td_air',\n 'td_opub',\n 'td_walk',\n 'td_bike',\n 'td_com',\n 'td_busi',\n 'td_leilong',\n 'td_leiloc',\n 'td_school',\n 'td_shop',\n 'td_pb',\n 'td_other',\n 'td_all',\n 'OR_com',\n 'OR_busi',\n 'OR_leilong',\n 'OR_leiloc',\n 'OR_school',\n 'OR_shop',\n 'OR_pb',\n 'OR_other',\n 'OR_avg']"
     },
     "execution_count": 9,
     "metadata": {},
     "output_type": "execute_result"
    }
   ],
   "source": [
    "td.columns.tolist()"
   ],
   "metadata": {
    "collapsed": false,
    "ExecuteTime": {
     "end_time": "2023-08-08T11:31:45.352041400Z",
     "start_time": "2023-08-08T11:31:45.320636700Z"
    }
   }
  },
  {
   "cell_type": "code",
   "execution_count": 14,
   "outputs": [
    {
     "data": {
      "text/plain": "0     11124.955203\n1     10874.066745\n2     10795.719549\n3     10898.290935\n4     10889.747413\n          ...     \n84    19929.766470\n85    19931.354910\n86    19932.795839\n87    19934.112810\n88    19935.342178\nLength: 89, dtype: float64"
     },
     "execution_count": 14,
     "metadata": {},
     "output_type": "execute_result"
    }
   ],
   "source": [
    "td[[t for t in td.columns.tolist() if t[0:3] == 'td_']].sum(axis=1)"
   ],
   "metadata": {
    "collapsed": false,
    "ExecuteTime": {
     "end_time": "2023-08-08T11:33:53.482809100Z",
     "start_time": "2023-08-08T11:33:53.467061800Z"
    }
   }
  },
  {
   "cell_type": "code",
   "execution_count": 17,
   "outputs": [
    {
     "data": {
      "text/plain": "Text(0.5, 1.0, 'Total passenger distance - all modes, all purposes (from travel_demand)')"
     },
     "execution_count": 17,
     "metadata": {},
     "output_type": "execute_result"
    },
    {
     "data": {
      "text/plain": "<Figure size 640x480 with 1 Axes>",
      "image/png": "[encoded data removed]"
     },
     "metadata": {},
     "output_type": "display_data"
    }
   ],
   "source": [
    "import matplotlib.pyplot as plt\n",
    "%matplotlib inline\n",
    "\n",
    "fig,ax = plt.subplots()\n",
    "\n",
    "ax.plot(range(2012,2051), td[[t for t in td.columns.tolist() if t[0:3] == 'td_']].sum(axis=1).tolist()[0:39])\n",
    "ax.set_ylim(0)\n",
    "ax.set_ylabel('sum(td_i)')\n",
    "plt.title('Total passenger distance - all modes, all purposes (from travel_demand)')\n"
   ],
   "metadata": {
    "collapsed": false,
    "ExecuteTime": {
     "end_time": "2023-08-08T11:37:43.116827400Z",
     "start_time": "2023-08-08T11:37:42.950180400Z"
    }
   }
  },
  {
   "cell_type": "code",
   "execution_count": 18,
   "outputs": [
    {
     "data": {
      "text/plain": "0     3708.318359\n1     3624.689209\n2     3598.573242\n3     3632.763672\n4     3629.915771\n         ...     \n84    6646.553711\n85    6647.082031\n86    6647.561523\n87    6648.000488\n88    6648.408691\nName: td_all, Length: 89, dtype: float64"
     },
     "execution_count": 18,
     "metadata": {},
     "output_type": "execute_result"
    }
   ],
   "source": [
    "td['td_all']"
   ],
   "metadata": {
    "collapsed": false,
    "ExecuteTime": {
     "end_time": "2023-08-08T12:28:23.472710700Z",
     "start_time": "2023-08-08T12:28:23.454488600Z"
    }
   }
  }
 ],
 "metadata": {
  "kernelspec": {
   "display_name": "Python 3",
   "language": "python",
   "name": "python3"
  },
  "language_info": {
   "codemirror_mode": {
    "name": "ipython",
    "version": 2
   },
   "file_extension": ".py",
   "mimetype": "text/x-python",
   "name": "python",
   "nbconvert_exporter": "python",
   "pygments_lexer": "ipython2",
   "version": "2.7.6"
  }
 },
 "nbformat": 4,
 "nbformat_minor": 0
}
