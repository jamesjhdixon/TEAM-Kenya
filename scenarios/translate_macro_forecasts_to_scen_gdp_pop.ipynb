{
 "cells": [
  {
   "cell_type": "markdown",
   "source": [
    "This workbook translates scenarios for GDP_GR and DisposableIncome and and saves them to a version of scen_gdp_pop\n",
    "\n",
    "** note that it is GDP per capita that is needed and not population."
   ],
   "metadata": {
    "collapsed": false
   }
  },
  {
   "cell_type": "code",
   "execution_count": 21,
   "outputs": [],
   "source": [
    "import pandas as pd"
   ],
   "metadata": {
    "collapsed": false
   }
  },
  {
   "cell_type": "code",
   "execution_count": 22,
   "outputs": [],
   "source": [
    "def return_technology():\n",
    "    technology = pd.read_excel(f'./../TEAM-Kenya_data_out/Technology.xlsx')\n",
    "    return technology"
   ],
   "metadata": {
    "collapsed": false
   }
  },
  {
   "cell_type": "code",
   "execution_count": 23,
   "outputs": [],
   "source": [
    "# return scen_carsegments\n",
    "def return_scen_gdp_pop():\n",
    "    scen_gdp_pop = pd.read_excel(f'./../TEAM-Kenya_data_out/Scen_GDP_Pop.xlsx')\n",
    "    return scen_gdp_pop"
   ],
   "metadata": {
    "collapsed": false
   }
  },
  {
   "cell_type": "code",
   "execution_count": 24,
   "outputs": [],
   "source": [
    "# change growth rate of gdp into growth rate of gdp per capita. To be applied to BASE data before scenarios\n",
    "def gdp_pc_gr(s):\n",
    "    for i in s.index.values[1:]:\n",
    "        gdp_index = 1 + s.at[i, 'GDP_GR']/100\n",
    "        gdp_pc_index = gdp_index / (s.at[i, 'Pop'] / s.at[i-1, 'Pop'])\n",
    "        s.at[i, 'GDP_GR'] = 100*(gdp_pc_index -1)\n",
    "    return s"
   ],
   "metadata": {
    "collapsed": false
   }
  },
  {
   "cell_type": "code",
   "execution_count": 25,
   "outputs": [],
   "source": [
    "# for the moment the scenario_dict for this uses RELATIVE increases/decreases versus the base case\n",
    "scenario_dict = {'OMOKA': {'GDP_GR':1.2, 'DisposableIncome':1.2},\n",
    "                 'ELECTRICDREAMS': {'GDP_GR':1.1, 'DisposableIncome':1.1},\n",
    "                 'KUJINAO': {'GDP_GR':1, 'DisposableIncome':1},\n",
    "                 'STREETFIGHTING': {'GDP_GR':0.8, 'DisposableIncome':0.8}}"
   ],
   "metadata": {
    "collapsed": false
   }
  },
  {
   "cell_type": "code",
   "execution_count": 26,
   "outputs": [],
   "source": [
    "scenarios = ['OMOKA', 'ELECTRICDREAMS', 'KUJINAO', 'STREETFIGHTING']\n",
    "\n",
    "for scenario in scenarios:\n",
    "\n",
    "    scen_gdp_pop = return_scen_gdp_pop()\n",
    "\n",
    "    scen_gdp_pop = gdp_pc_gr(scen_gdp_pop)\n",
    "\n",
    "    for var in scenario_dict[scenario]:\n",
    "        scen_gdp_pop[var] *= scenario_dict[scenario][var]\n",
    "\n",
    "    # save\n",
    "    scen_gdp_pop.to_excel(f'./../TEAM-Kenya_data_out/Scen_GDP_Pop{scenario}.xlsx', index=False)"
   ],
   "metadata": {
    "collapsed": false
   }
  }
 ],
 "metadata": {
  "kernelspec": {
   "display_name": "Python 3",
   "language": "python",
   "name": "python3"
  },
  "language_info": {
   "codemirror_mode": {
    "name": "ipython",
    "version": 2
   },
   "file_extension": ".py",
   "mimetype": "text/x-python",
   "name": "python",
   "nbconvert_exporter": "python",
   "pygments_lexer": "ipython2",
   "version": "2.7.6"
  }
 },
 "nbformat": 4,
 "nbformat_minor": 0
}
