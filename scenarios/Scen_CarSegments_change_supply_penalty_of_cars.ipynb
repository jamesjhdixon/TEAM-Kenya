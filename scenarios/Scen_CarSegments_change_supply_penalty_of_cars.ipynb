{
 "cells": [
  {
   "cell_type": "markdown",
   "source": [
    "This notebook changes the supply penalties manually in the cost_data."
   ],
   "metadata": {
    "collapsed": false,
    "pycharm": {
     "name": "#%% md\n"
    }
   }
  },
  {
   "cell_type": "code",
   "execution_count": 15,
   "outputs": [],
   "source": [
    "import pandas as pd"
   ],
   "metadata": {
    "collapsed": false,
    "pycharm": {
     "name": "#%%\n"
    }
   }
  },
  {
   "cell_type": "code",
   "execution_count": 16,
   "outputs": [
    {
     "data": {
      "text/plain": "        ScenarioID  CountryID  PolicyID  Year  TechID  TransTypeID  VehTypeID  \\\n0                1          9         0  2012      10            1          2   \n1                1          9         0  2012      20            1          2   \n2                1          9         0  2012      25            1          2   \n3                1          9         0  2012      30            1          2   \n4                1          9         0  2012      40            1          2   \n...            ...        ...       ...   ...     ...          ...        ...   \n164955           1          9         0  2100   14889            2          5   \n164956           1          9         0  2100   14890            2          5   \n164957           1          9         0  2100   14891            2          5   \n164958           1          9         0  2100   14892            2          5   \n164959           1          9         0  2100   14893            2          5   \n\n        MassCatID  FuelID  HybridFlag  ...  AnnCostsPriv  AnnCostsCompUser  \\\n0               4       1           0  ...      0.000000          0.000000   \n1               4      12           0  ...      0.000000          0.000000   \n2               4      12           0  ...      0.000000          0.000000   \n3               4       1           0  ...      0.000000          0.000000   \n4               4       1           0  ...      0.000000          0.000000   \n...           ...     ...         ...  ...           ...               ...   \n164955         28      13           0  ...   8338.140625      12065.480469   \n164956         28      13           0  ...   7160.471191      10361.366211   \n164957         28      13           0  ...   6148.913086       8897.618164   \n164958         28      13           0  ...   5280.202148       7640.573730   \n164959         28      13           0  ...   4534.329102       6561.278320   \n\n        AnnCostsCompFleet  NoChargingAccessPenalty  ChargingTime  \\\n0                0.000000                        0         0.000   \n1                0.000000                        0         0.000   \n2                0.000000                        0         0.000   \n3                0.000000                        0         0.000   \n4                0.000000                        0         0.000   \n...                   ...                      ...           ...   \n164955       10103.958984                     3000         0.167   \n164956        8676.887695                     3000         0.167   \n164957        7451.105469                     3000         0.167   \n164958        6398.422363                     3000         0.167   \n164959        5494.591309                     3000         0.167   \n\n        SupplyPenalty  Range           TCO  FVDepreciation  FVRunningCost  \n0                 0.0      0      0.000000             0.0       0.000000  \n1                 0.0      0      0.000000             0.0       0.000000  \n2                 0.0      0      0.000000             0.0       0.000000  \n3                 0.0      0      0.000000             0.0       0.000000  \n4                 0.0      0      0.000000             0.0       0.000000  \n...               ...    ...           ...             ...            ...  \n164955       100000.0      0  55181.656250          9800.0   12702.480469  \n164956       100000.0      0  47366.707031          8400.0   10907.366211  \n164957       100000.0      0  42258.226562          8400.0    9443.618164  \n164958       100000.0      0  37871.140625          8400.0    8186.573730  \n164959       100000.0      0  34104.402344          8400.0    7107.278320  \n\n[164960 rows x 26 columns]",
      "text/html": "<div>\n<style scoped>\n    .dataframe tbody tr th:only-of-type {\n        vertical-align: middle;\n    }\n\n    .dataframe tbody tr th {\n        vertical-align: top;\n    }\n\n    .dataframe thead th {\n        text-align: right;\n    }\n</style>\n<table border=\"1\" class=\"dataframe\">\n  <thead>\n    <tr style=\"text-align: right;\">\n      <th></th>\n      <th>ScenarioID</th>\n      <th>CountryID</th>\n      <th>PolicyID</th>\n      <th>Year</th>\n      <th>TechID</th>\n      <th>TransTypeID</th>\n      <th>VehTypeID</th>\n      <th>MassCatID</th>\n      <th>FuelID</th>\n      <th>HybridFlag</th>\n      <th>...</th>\n      <th>AnnCostsPriv</th>\n      <th>AnnCostsCompUser</th>\n      <th>AnnCostsCompFleet</th>\n      <th>NoChargingAccessPenalty</th>\n      <th>ChargingTime</th>\n      <th>SupplyPenalty</th>\n      <th>Range</th>\n      <th>TCO</th>\n      <th>FVDepreciation</th>\n      <th>FVRunningCost</th>\n    </tr>\n  </thead>\n  <tbody>\n    <tr>\n      <th>0</th>\n      <td>1</td>\n      <td>9</td>\n      <td>0</td>\n      <td>2012</td>\n      <td>10</td>\n      <td>1</td>\n      <td>2</td>\n      <td>4</td>\n      <td>1</td>\n      <td>0</td>\n      <td>...</td>\n      <td>0.000000</td>\n      <td>0.000000</td>\n      <td>0.000000</td>\n      <td>0</td>\n      <td>0.000</td>\n      <td>0.0</td>\n      <td>0</td>\n      <td>0.000000</td>\n      <td>0.0</td>\n      <td>0.000000</td>\n    </tr>\n    <tr>\n      <th>1</th>\n      <td>1</td>\n      <td>9</td>\n      <td>0</td>\n      <td>2012</td>\n      <td>20</td>\n      <td>1</td>\n      <td>2</td>\n      <td>4</td>\n      <td>12</td>\n      <td>0</td>\n      <td>...</td>\n      <td>0.000000</td>\n      <td>0.000000</td>\n      <td>0.000000</td>\n      <td>0</td>\n      <td>0.000</td>\n      <td>0.0</td>\n      <td>0</td>\n      <td>0.000000</td>\n      <td>0.0</td>\n      <td>0.000000</td>\n    </tr>\n    <tr>\n      <th>2</th>\n      <td>1</td>\n      <td>9</td>\n      <td>0</td>\n      <td>2012</td>\n      <td>25</td>\n      <td>1</td>\n      <td>2</td>\n      <td>4</td>\n      <td>12</td>\n      <td>0</td>\n      <td>...</td>\n      <td>0.000000</td>\n      <td>0.000000</td>\n      <td>0.000000</td>\n      <td>0</td>\n      <td>0.000</td>\n      <td>0.0</td>\n      <td>0</td>\n      <td>0.000000</td>\n      <td>0.0</td>\n      <td>0.000000</td>\n    </tr>\n    <tr>\n      <th>3</th>\n      <td>1</td>\n      <td>9</td>\n      <td>0</td>\n      <td>2012</td>\n      <td>30</td>\n      <td>1</td>\n      <td>2</td>\n      <td>4</td>\n      <td>1</td>\n      <td>0</td>\n      <td>...</td>\n      <td>0.000000</td>\n      <td>0.000000</td>\n      <td>0.000000</td>\n      <td>0</td>\n      <td>0.000</td>\n      <td>0.0</td>\n      <td>0</td>\n      <td>0.000000</td>\n      <td>0.0</td>\n      <td>0.000000</td>\n    </tr>\n    <tr>\n      <th>4</th>\n      <td>1</td>\n      <td>9</td>\n      <td>0</td>\n      <td>2012</td>\n      <td>40</td>\n      <td>1</td>\n      <td>2</td>\n      <td>4</td>\n      <td>1</td>\n      <td>0</td>\n      <td>...</td>\n      <td>0.000000</td>\n      <td>0.000000</td>\n      <td>0.000000</td>\n      <td>0</td>\n      <td>0.000</td>\n      <td>0.0</td>\n      <td>0</td>\n      <td>0.000000</td>\n      <td>0.0</td>\n      <td>0.000000</td>\n    </tr>\n    <tr>\n      <th>...</th>\n      <td>...</td>\n      <td>...</td>\n      <td>...</td>\n      <td>...</td>\n      <td>...</td>\n      <td>...</td>\n      <td>...</td>\n      <td>...</td>\n      <td>...</td>\n      <td>...</td>\n      <td>...</td>\n      <td>...</td>\n      <td>...</td>\n      <td>...</td>\n      <td>...</td>\n      <td>...</td>\n      <td>...</td>\n      <td>...</td>\n      <td>...</td>\n      <td>...</td>\n      <td>...</td>\n    </tr>\n    <tr>\n      <th>164955</th>\n      <td>1</td>\n      <td>9</td>\n      <td>0</td>\n      <td>2100</td>\n      <td>14889</td>\n      <td>2</td>\n      <td>5</td>\n      <td>28</td>\n      <td>13</td>\n      <td>0</td>\n      <td>...</td>\n      <td>8338.140625</td>\n      <td>12065.480469</td>\n      <td>10103.958984</td>\n      <td>3000</td>\n      <td>0.167</td>\n      <td>100000.0</td>\n      <td>0</td>\n      <td>55181.656250</td>\n      <td>9800.0</td>\n      <td>12702.480469</td>\n    </tr>\n    <tr>\n      <th>164956</th>\n      <td>1</td>\n      <td>9</td>\n      <td>0</td>\n      <td>2100</td>\n      <td>14890</td>\n      <td>2</td>\n      <td>5</td>\n      <td>28</td>\n      <td>13</td>\n      <td>0</td>\n      <td>...</td>\n      <td>7160.471191</td>\n      <td>10361.366211</td>\n      <td>8676.887695</td>\n      <td>3000</td>\n      <td>0.167</td>\n      <td>100000.0</td>\n      <td>0</td>\n      <td>47366.707031</td>\n      <td>8400.0</td>\n      <td>10907.366211</td>\n    </tr>\n    <tr>\n      <th>164957</th>\n      <td>1</td>\n      <td>9</td>\n      <td>0</td>\n      <td>2100</td>\n      <td>14891</td>\n      <td>2</td>\n      <td>5</td>\n      <td>28</td>\n      <td>13</td>\n      <td>0</td>\n      <td>...</td>\n      <td>6148.913086</td>\n      <td>8897.618164</td>\n      <td>7451.105469</td>\n      <td>3000</td>\n      <td>0.167</td>\n      <td>100000.0</td>\n      <td>0</td>\n      <td>42258.226562</td>\n      <td>8400.0</td>\n      <td>9443.618164</td>\n    </tr>\n    <tr>\n      <th>164958</th>\n      <td>1</td>\n      <td>9</td>\n      <td>0</td>\n      <td>2100</td>\n      <td>14892</td>\n      <td>2</td>\n      <td>5</td>\n      <td>28</td>\n      <td>13</td>\n      <td>0</td>\n      <td>...</td>\n      <td>5280.202148</td>\n      <td>7640.573730</td>\n      <td>6398.422363</td>\n      <td>3000</td>\n      <td>0.167</td>\n      <td>100000.0</td>\n      <td>0</td>\n      <td>37871.140625</td>\n      <td>8400.0</td>\n      <td>8186.573730</td>\n    </tr>\n    <tr>\n      <th>164959</th>\n      <td>1</td>\n      <td>9</td>\n      <td>0</td>\n      <td>2100</td>\n      <td>14893</td>\n      <td>2</td>\n      <td>5</td>\n      <td>28</td>\n      <td>13</td>\n      <td>0</td>\n      <td>...</td>\n      <td>4534.329102</td>\n      <td>6561.278320</td>\n      <td>5494.591309</td>\n      <td>3000</td>\n      <td>0.167</td>\n      <td>100000.0</td>\n      <td>0</td>\n      <td>34104.402344</td>\n      <td>8400.0</td>\n      <td>7107.278320</td>\n    </tr>\n  </tbody>\n</table>\n<p>164960 rows × 26 columns</p>\n</div>"
     },
     "execution_count": 16,
     "metadata": {},
     "output_type": "execute_result"
    }
   ],
   "source": [
    "cost_data = pd.read_excel(f'./TEAM-Kenya_data_out/Cost_Data.xlsx')\n",
    "cost_data"
   ],
   "metadata": {
    "collapsed": false,
    "pycharm": {
     "name": "#%%\n"
    }
   }
  },
  {
   "cell_type": "code",
   "execution_count": 17,
   "outputs": [
    {
     "data": {
      "text/plain": "      TechID  ModeID  VehTypeID  MassCatID  FuelID  EngineID  TransTypeID  \\\n0         10       1          2          4       1        10            1   \n1         20       1          2          4      12        10            1   \n2         25       1          2          4      12        11            1   \n3         26       1          2          4      12        12            1   \n4         30       1          2          4       1        11            1   \n...      ...     ...        ...        ...     ...       ...          ...   \n2241   14889       1          5         28      13        13            2   \n2242   14890       1          5         28      13        13            2   \n2243   14891       1          5         28      13        13            2   \n2244   14892       1          5         28      13        13            2   \n2245   14893       1          5         28      13        13            2   \n\n      Availability  Final_Year  HybridFlag  spec_energ_consump  \\\n0             1980      2000.0           0                6.57   \n1             1995      2010.0           0                9.51   \n2             2010      2020.0           0                8.38   \n3             2020         NaN           0                7.18   \n4             2000      2010.0           0                5.65   \n...            ...         ...         ...                 ...   \n2241          2033      2038.0           0              179.20   \n2242          2038      2043.0           0              153.89   \n2243          2043      2048.0           0              132.15   \n2244          2048      2053.0           0              113.48   \n2245          2053         NaN           0               97.45   \n\n      spec_energ_electric  noise_class  PurchasePrice  ExpectedLifeFactor  \\\n0                     NaN            0         5000.0                   1   \n1                     NaN            2         7000.0                   1   \n2                     NaN            2         6000.0                   1   \n3                     NaN            2         5500.0                   1   \n4                     NaN            0         5000.0                   1   \n...                   ...          ...            ...                 ...   \n2241                  1.0            2        14000.0                   1   \n2242                  1.0            2        12000.0                   1   \n2243                  1.0            2        12000.0                   1   \n2244                  1.0            2        12000.0                   1   \n2245                  1.0            2        12000.0                   1   \n\n      Capacity  AveEconLife  SecondHandImportFlag  note  \n0          2.0           10                     0   NaN  \n1          2.0           10                     0   NaN  \n2          2.0           10                     0   NaN  \n3          2.0           10                     0   NaN  \n4          2.0           10                     0   NaN  \n...        ...          ...                   ...   ...  \n2241       2.5           10                     1   NaN  \n2242       2.5           10                     1   NaN  \n2243       2.5           10                     1   NaN  \n2244       2.5           10                     1   NaN  \n2245       2.5           10                     1   NaN  \n\n[2246 rows x 19 columns]",
      "text/html": "<div>\n<style scoped>\n    .dataframe tbody tr th:only-of-type {\n        vertical-align: middle;\n    }\n\n    .dataframe tbody tr th {\n        vertical-align: top;\n    }\n\n    .dataframe thead th {\n        text-align: right;\n    }\n</style>\n<table border=\"1\" class=\"dataframe\">\n  <thead>\n    <tr style=\"text-align: right;\">\n      <th></th>\n      <th>TechID</th>\n      <th>ModeID</th>\n      <th>VehTypeID</th>\n      <th>MassCatID</th>\n      <th>FuelID</th>\n      <th>EngineID</th>\n      <th>TransTypeID</th>\n      <th>Availability</th>\n      <th>Final_Year</th>\n      <th>HybridFlag</th>\n      <th>spec_energ_consump</th>\n      <th>spec_energ_electric</th>\n      <th>noise_class</th>\n      <th>PurchasePrice</th>\n      <th>ExpectedLifeFactor</th>\n      <th>Capacity</th>\n      <th>AveEconLife</th>\n      <th>SecondHandImportFlag</th>\n      <th>note</th>\n    </tr>\n  </thead>\n  <tbody>\n    <tr>\n      <th>0</th>\n      <td>10</td>\n      <td>1</td>\n      <td>2</td>\n      <td>4</td>\n      <td>1</td>\n      <td>10</td>\n      <td>1</td>\n      <td>1980</td>\n      <td>2000.0</td>\n      <td>0</td>\n      <td>6.57</td>\n      <td>NaN</td>\n      <td>0</td>\n      <td>5000.0</td>\n      <td>1</td>\n      <td>2.0</td>\n      <td>10</td>\n      <td>0</td>\n      <td>NaN</td>\n    </tr>\n    <tr>\n      <th>1</th>\n      <td>20</td>\n      <td>1</td>\n      <td>2</td>\n      <td>4</td>\n      <td>12</td>\n      <td>10</td>\n      <td>1</td>\n      <td>1995</td>\n      <td>2010.0</td>\n      <td>0</td>\n      <td>9.51</td>\n      <td>NaN</td>\n      <td>2</td>\n      <td>7000.0</td>\n      <td>1</td>\n      <td>2.0</td>\n      <td>10</td>\n      <td>0</td>\n      <td>NaN</td>\n    </tr>\n    <tr>\n      <th>2</th>\n      <td>25</td>\n      <td>1</td>\n      <td>2</td>\n      <td>4</td>\n      <td>12</td>\n      <td>11</td>\n      <td>1</td>\n      <td>2010</td>\n      <td>2020.0</td>\n      <td>0</td>\n      <td>8.38</td>\n      <td>NaN</td>\n      <td>2</td>\n      <td>6000.0</td>\n      <td>1</td>\n      <td>2.0</td>\n      <td>10</td>\n      <td>0</td>\n      <td>NaN</td>\n    </tr>\n    <tr>\n      <th>3</th>\n      <td>26</td>\n      <td>1</td>\n      <td>2</td>\n      <td>4</td>\n      <td>12</td>\n      <td>12</td>\n      <td>1</td>\n      <td>2020</td>\n      <td>NaN</td>\n      <td>0</td>\n      <td>7.18</td>\n      <td>NaN</td>\n      <td>2</td>\n      <td>5500.0</td>\n      <td>1</td>\n      <td>2.0</td>\n      <td>10</td>\n      <td>0</td>\n      <td>NaN</td>\n    </tr>\n    <tr>\n      <th>4</th>\n      <td>30</td>\n      <td>1</td>\n      <td>2</td>\n      <td>4</td>\n      <td>1</td>\n      <td>11</td>\n      <td>1</td>\n      <td>2000</td>\n      <td>2010.0</td>\n      <td>0</td>\n      <td>5.65</td>\n      <td>NaN</td>\n      <td>0</td>\n      <td>5000.0</td>\n      <td>1</td>\n      <td>2.0</td>\n      <td>10</td>\n      <td>0</td>\n      <td>NaN</td>\n    </tr>\n    <tr>\n      <th>...</th>\n      <td>...</td>\n      <td>...</td>\n      <td>...</td>\n      <td>...</td>\n      <td>...</td>\n      <td>...</td>\n      <td>...</td>\n      <td>...</td>\n      <td>...</td>\n      <td>...</td>\n      <td>...</td>\n      <td>...</td>\n      <td>...</td>\n      <td>...</td>\n      <td>...</td>\n      <td>...</td>\n      <td>...</td>\n      <td>...</td>\n      <td>...</td>\n    </tr>\n    <tr>\n      <th>2241</th>\n      <td>14889</td>\n      <td>1</td>\n      <td>5</td>\n      <td>28</td>\n      <td>13</td>\n      <td>13</td>\n      <td>2</td>\n      <td>2033</td>\n      <td>2038.0</td>\n      <td>0</td>\n      <td>179.20</td>\n      <td>1.0</td>\n      <td>2</td>\n      <td>14000.0</td>\n      <td>1</td>\n      <td>2.5</td>\n      <td>10</td>\n      <td>1</td>\n      <td>NaN</td>\n    </tr>\n    <tr>\n      <th>2242</th>\n      <td>14890</td>\n      <td>1</td>\n      <td>5</td>\n      <td>28</td>\n      <td>13</td>\n      <td>13</td>\n      <td>2</td>\n      <td>2038</td>\n      <td>2043.0</td>\n      <td>0</td>\n      <td>153.89</td>\n      <td>1.0</td>\n      <td>2</td>\n      <td>12000.0</td>\n      <td>1</td>\n      <td>2.5</td>\n      <td>10</td>\n      <td>1</td>\n      <td>NaN</td>\n    </tr>\n    <tr>\n      <th>2243</th>\n      <td>14891</td>\n      <td>1</td>\n      <td>5</td>\n      <td>28</td>\n      <td>13</td>\n      <td>13</td>\n      <td>2</td>\n      <td>2043</td>\n      <td>2048.0</td>\n      <td>0</td>\n      <td>132.15</td>\n      <td>1.0</td>\n      <td>2</td>\n      <td>12000.0</td>\n      <td>1</td>\n      <td>2.5</td>\n      <td>10</td>\n      <td>1</td>\n      <td>NaN</td>\n    </tr>\n    <tr>\n      <th>2244</th>\n      <td>14892</td>\n      <td>1</td>\n      <td>5</td>\n      <td>28</td>\n      <td>13</td>\n      <td>13</td>\n      <td>2</td>\n      <td>2048</td>\n      <td>2053.0</td>\n      <td>0</td>\n      <td>113.48</td>\n      <td>1.0</td>\n      <td>2</td>\n      <td>12000.0</td>\n      <td>1</td>\n      <td>2.5</td>\n      <td>10</td>\n      <td>1</td>\n      <td>NaN</td>\n    </tr>\n    <tr>\n      <th>2245</th>\n      <td>14893</td>\n      <td>1</td>\n      <td>5</td>\n      <td>28</td>\n      <td>13</td>\n      <td>13</td>\n      <td>2</td>\n      <td>2053</td>\n      <td>NaN</td>\n      <td>0</td>\n      <td>97.45</td>\n      <td>1.0</td>\n      <td>2</td>\n      <td>12000.0</td>\n      <td>1</td>\n      <td>2.5</td>\n      <td>10</td>\n      <td>1</td>\n      <td>NaN</td>\n    </tr>\n  </tbody>\n</table>\n<p>2246 rows × 19 columns</p>\n</div>"
     },
     "execution_count": 17,
     "metadata": {},
     "output_type": "execute_result"
    }
   ],
   "source": [
    "technology = pd.read_csv(f'./data/technology.csv')\n",
    "technology"
   ],
   "metadata": {
    "collapsed": false,
    "pycharm": {
     "name": "#%%\n"
    }
   }
  },
  {
   "cell_type": "code",
   "execution_count": 18,
   "outputs": [],
   "source": [
    "# return petrol and diesel car technologies and remove the supply penalties after 2035\n",
    "cost_data.loc[cost_data[(cost_data.TechID.isin(technology[(technology.VehTypeID==3) & (technology.FuelID != 12)].TechID.tolist())) & (cost_data.Year >= 2035)].index.tolist(), 'SupplyPenalty'] = 0"
   ],
   "metadata": {
    "collapsed": false,
    "pycharm": {
     "name": "#%%\n"
    }
   }
  },
  {
   "cell_type": "code",
   "execution_count": 19,
   "outputs": [],
   "source": [
    "cost_data.to_excel(f'./TEAM-Kenya_data_out/Cost_Data_noSP.xlsx', index=False)"
   ],
   "metadata": {
    "collapsed": false,
    "pycharm": {
     "name": "#%%\n"
    }
   }
  },
  {
   "cell_type": "code",
   "execution_count": 20,
   "outputs": [
    {
     "data": {
      "text/plain": "22819     0.0\n22820     0.0\n22821     0.0\n22822     0.0\n22823     0.0\n         ... \n164223    0.0\n164224    0.0\n164225    0.0\n164226    0.0\n164278    0.0\nName: SupplyPenalty, Length: 31998, dtype: float64"
     },
     "execution_count": 20,
     "metadata": {},
     "output_type": "execute_result"
    }
   ],
   "source": [
    "cost_data.loc[cost_data[(cost_data.TechID.isin(technology[(technology.VehTypeID==3) & (technology.FuelID != 12)].TechID.tolist())) & (cost_data.Year >= 2035)].index.tolist(), 'SupplyPenalty']"
   ],
   "metadata": {
    "collapsed": false,
    "pycharm": {
     "name": "#%%\n"
    }
   }
  }
 ],
 "metadata": {
  "kernelspec": {
   "display_name": "Python 3",
   "language": "python",
   "name": "python3"
  },
  "language_info": {
   "codemirror_mode": {
    "name": "ipython",
    "version": 2
   },
   "file_extension": ".py",
   "mimetype": "text/x-python",
   "name": "python",
   "nbconvert_exporter": "python",
   "pygments_lexer": "ipython2",
   "version": "2.7.6"
  }
 },
 "nbformat": 4,
 "nbformat_minor": 0
}