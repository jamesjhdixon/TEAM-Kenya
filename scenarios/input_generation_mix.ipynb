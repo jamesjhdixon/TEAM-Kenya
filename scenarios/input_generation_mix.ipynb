{
 "cells": [
  {
   "cell_type": "markdown",
   "source": [
    "This notebook inputs electricity generation mix data into TEAM"
   ],
   "metadata": {
    "collapsed": false
   }
  },
  {
   "cell_type": "code",
   "execution_count": 16,
   "outputs": [],
   "source": [
    "import pandas as pd"
   ],
   "metadata": {
    "collapsed": false
   }
  },
  {
   "cell_type": "code",
   "execution_count": 17,
   "outputs": [
    {
     "data": {
      "text/plain": "      LCEIParDefinition  ScenarioID CountryAB  Year  PrimID  PrimShare\n0              DECC2013           1         A  1990       1   0.049000\n1              DECC2013           1         A  1990       2   0.166000\n2              DECC2013           1         A  1990       3   0.062035\n3              DECC2013           1         A  1990       4   0.032965\n4              DECC2013           1         A  1990       5   0.000000\n...                 ...         ...       ...   ...     ...        ...\n35963           UKERC20           4        SF  2100       4   0.019153\n35964           UKERC20           4        SF  2100       5   0.150000\n35965           UKERC20           4        SF  2100       6   0.198848\n35966           UKERC20           4        SF  2100       7   0.230000\n35967           UKERC20           4        SF  2100       8   0.000000\n\n[35968 rows x 6 columns]",
      "text/html": "<div>\n<style scoped>\n    .dataframe tbody tr th:only-of-type {\n        vertical-align: middle;\n    }\n\n    .dataframe tbody tr th {\n        vertical-align: top;\n    }\n\n    .dataframe thead th {\n        text-align: right;\n    }\n</style>\n<table border=\"1\" class=\"dataframe\">\n  <thead>\n    <tr style=\"text-align: right;\">\n      <th></th>\n      <th>LCEIParDefinition</th>\n      <th>ScenarioID</th>\n      <th>CountryAB</th>\n      <th>Year</th>\n      <th>PrimID</th>\n      <th>PrimShare</th>\n    </tr>\n  </thead>\n  <tbody>\n    <tr>\n      <th>0</th>\n      <td>DECC2013</td>\n      <td>1</td>\n      <td>A</td>\n      <td>1990</td>\n      <td>1</td>\n      <td>0.049000</td>\n    </tr>\n    <tr>\n      <th>1</th>\n      <td>DECC2013</td>\n      <td>1</td>\n      <td>A</td>\n      <td>1990</td>\n      <td>2</td>\n      <td>0.166000</td>\n    </tr>\n    <tr>\n      <th>2</th>\n      <td>DECC2013</td>\n      <td>1</td>\n      <td>A</td>\n      <td>1990</td>\n      <td>3</td>\n      <td>0.062035</td>\n    </tr>\n    <tr>\n      <th>3</th>\n      <td>DECC2013</td>\n      <td>1</td>\n      <td>A</td>\n      <td>1990</td>\n      <td>4</td>\n      <td>0.032965</td>\n    </tr>\n    <tr>\n      <th>4</th>\n      <td>DECC2013</td>\n      <td>1</td>\n      <td>A</td>\n      <td>1990</td>\n      <td>5</td>\n      <td>0.000000</td>\n    </tr>\n    <tr>\n      <th>...</th>\n      <td>...</td>\n      <td>...</td>\n      <td>...</td>\n      <td>...</td>\n      <td>...</td>\n      <td>...</td>\n    </tr>\n    <tr>\n      <th>35963</th>\n      <td>UKERC20</td>\n      <td>4</td>\n      <td>SF</td>\n      <td>2100</td>\n      <td>4</td>\n      <td>0.019153</td>\n    </tr>\n    <tr>\n      <th>35964</th>\n      <td>UKERC20</td>\n      <td>4</td>\n      <td>SF</td>\n      <td>2100</td>\n      <td>5</td>\n      <td>0.150000</td>\n    </tr>\n    <tr>\n      <th>35965</th>\n      <td>UKERC20</td>\n      <td>4</td>\n      <td>SF</td>\n      <td>2100</td>\n      <td>6</td>\n      <td>0.198848</td>\n    </tr>\n    <tr>\n      <th>35966</th>\n      <td>UKERC20</td>\n      <td>4</td>\n      <td>SF</td>\n      <td>2100</td>\n      <td>7</td>\n      <td>0.230000</td>\n    </tr>\n    <tr>\n      <th>35967</th>\n      <td>UKERC20</td>\n      <td>4</td>\n      <td>SF</td>\n      <td>2100</td>\n      <td>8</td>\n      <td>0.000000</td>\n    </tr>\n  </tbody>\n</table>\n<p>35968 rows × 6 columns</p>\n</div>"
     },
     "execution_count": 17,
     "metadata": {},
     "output_type": "execute_result"
    }
   ],
   "source": [
    "# load the correct table\n",
    "ge = pd.read_excel(f'./../TEAM-Kenya_data_out/GE_UserData.xlsx')\n",
    "ge"
   ],
   "metadata": {
    "collapsed": false
   }
  },
  {
   "cell_type": "code",
   "execution_count": 18,
   "outputs": [],
   "source": [
    "# lookup primary energy key --> energy\n",
    "Prim_lookup = {1: 'OIL',\n",
    "               2: 'NGAS',\n",
    "               3: 'COAL',\n",
    "               4: 'LIG',\n",
    "               5: 'URAN',\n",
    "               6: 'HYDRO',\n",
    "               7: 'WIND',\n",
    "               8: 'PV',\n",
    "               9: 'CCS'}\n",
    "\n",
    "energy_dict = {1: {1990:0.503704,\n",
    "                   2000:0.503704,\n",
    "                   2010:0.286704,\n",
    "                   2020:0.079149,\n",
    "                   2030:0.05,\n",
    "                   2040:0.05,\n",
    "                   2050:0.05,\n",
    "                   2060:0.05,\n",
    "                   2070:0.05,\n",
    "                   2080:0.05,\n",
    "                   2090:0.05,\n",
    "                   2100:0.05},\n",
    "               2: {1990:0,\n",
    "                   2000:0,\n",
    "                   2010:0,\n",
    "                   2020:0,\n",
    "                   2030:0,\n",
    "                   2040:0,\n",
    "                   2050:0,\n",
    "                   2060:0,\n",
    "                   2070:0,\n",
    "                   2080:0,\n",
    "                   2090:0,\n",
    "                   2100:0},\n",
    "               3: {1990:0,\n",
    "                   2000:0,\n",
    "                   2010:0,\n",
    "                   2020:0,\n",
    "                   2030:0,\n",
    "                   2040:0,\n",
    "                   2050:0,\n",
    "                   2060:0,\n",
    "                   2070:0,\n",
    "                   2080:0,\n",
    "                   2090:0,\n",
    "                   2100:0},\n",
    "               4: {1990:0,\n",
    "                   2000:0,\n",
    "                   2010:0,\n",
    "                   2020:0,\n",
    "                   2030:0,\n",
    "                   2040:0,\n",
    "                   2050:0,\n",
    "                   2060:0,\n",
    "                   2070:0,\n",
    "                   2080:0,\n",
    "                   2090:0,\n",
    "                   2100:0},\n",
    "               5: {1990:0,\n",
    "                   2000:0,\n",
    "                   2010:0,\n",
    "                   2020:0,\n",
    "                   2030:0,\n",
    "                   2040:0,\n",
    "                   2050:0,\n",
    "                   2060:0,\n",
    "                   2070:0,\n",
    "                   2080:0,\n",
    "                   2090:0,\n",
    "                   2100:0},\n",
    "               6: {1990:0.496296,\n",
    "                   2000:0.496296,\n",
    "                   2010:0.710526,\n",
    "                   2020:0.8,\n",
    "                   2030:0.8,\n",
    "                   2040:0.8,\n",
    "                   2050:0.8,\n",
    "                   2060:0.8,\n",
    "                   2070:0.8,\n",
    "                   2080:0.8,\n",
    "                   2090:0.8,\n",
    "                   2100:0.8},\n",
    "               7: {1990:0,\n",
    "                   2000:0,\n",
    "                   2010:0.00277,\n",
    "                   2020:0.113191,\n",
    "                   2030:0.14,\n",
    "                   2040:0.14,\n",
    "                   2050:0.14,\n",
    "                   2060:0.14,\n",
    "                   2070:0.14,\n",
    "                   2080:0.14,\n",
    "                   2090:0.14,\n",
    "                   2100:0.14},\n",
    "               8: {1990:0,\n",
    "                   2000:0,\n",
    "                   2010:0,\n",
    "                   2020:0.00766,\n",
    "                   2030:0.01,\n",
    "                   2040:0.01,\n",
    "                   2050:0.01,\n",
    "                   2060:0.01,\n",
    "                   2070:0.01,\n",
    "                   2080:0.01,\n",
    "                   2090:0.01,\n",
    "                   2100:0.01},\n",
    "               9: {1990:0,\n",
    "                   2000:0,\n",
    "                   2010:0,\n",
    "                   2020:0,\n",
    "                   2030:0,\n",
    "                   2040:0,\n",
    "                   2050:0,\n",
    "                   2060:0,\n",
    "                   2070:0,\n",
    "                   2080:0,\n",
    "                   2090:0,\n",
    "                   2100:0}}"
   ],
   "metadata": {
    "collapsed": false
   }
  },
  {
   "cell_type": "code",
   "execution_count": 19,
   "outputs": [
    {
     "name": "stdout",
     "output_type": "stream",
     "text": [
      "1\n",
      "2\n",
      "3\n",
      "4\n",
      "5\n",
      "6\n",
      "7\n",
      "8\n",
      "9\n"
     ]
    }
   ],
   "source": [
    "for energy in energy_dict:\n",
    "    print(energy)"
   ],
   "metadata": {
    "collapsed": false
   }
  },
  {
   "cell_type": "code",
   "execution_count": 20,
   "outputs": [
    {
     "data": {
      "text/plain": "      LCEIParDefinition  ScenarioID CountryAB  Year  PrimID  PrimShare\n0              DECC2013           1         A  1990       1   0.049000\n1              DECC2013           1         A  1990       2   0.166000\n2              DECC2013           1         A  1990       3   0.062035\n3              DECC2013           1         A  1990       4   0.032965\n4              DECC2013           1         A  1990       5   0.000000\n...                 ...         ...       ...   ...     ...        ...\n35963           UKERC20           4        SF  2100       4   0.019153\n35964           UKERC20           4        SF  2100       5   0.150000\n35965           UKERC20           4        SF  2100       6   0.198848\n35966           UKERC20           4        SF  2100       7   0.230000\n35967           UKERC20           4        SF  2100       8   0.000000\n\n[35968 rows x 6 columns]",
      "text/html": "<div>\n<style scoped>\n    .dataframe tbody tr th:only-of-type {\n        vertical-align: middle;\n    }\n\n    .dataframe tbody tr th {\n        vertical-align: top;\n    }\n\n    .dataframe thead th {\n        text-align: right;\n    }\n</style>\n<table border=\"1\" class=\"dataframe\">\n  <thead>\n    <tr style=\"text-align: right;\">\n      <th></th>\n      <th>LCEIParDefinition</th>\n      <th>ScenarioID</th>\n      <th>CountryAB</th>\n      <th>Year</th>\n      <th>PrimID</th>\n      <th>PrimShare</th>\n    </tr>\n  </thead>\n  <tbody>\n    <tr>\n      <th>0</th>\n      <td>DECC2013</td>\n      <td>1</td>\n      <td>A</td>\n      <td>1990</td>\n      <td>1</td>\n      <td>0.049000</td>\n    </tr>\n    <tr>\n      <th>1</th>\n      <td>DECC2013</td>\n      <td>1</td>\n      <td>A</td>\n      <td>1990</td>\n      <td>2</td>\n      <td>0.166000</td>\n    </tr>\n    <tr>\n      <th>2</th>\n      <td>DECC2013</td>\n      <td>1</td>\n      <td>A</td>\n      <td>1990</td>\n      <td>3</td>\n      <td>0.062035</td>\n    </tr>\n    <tr>\n      <th>3</th>\n      <td>DECC2013</td>\n      <td>1</td>\n      <td>A</td>\n      <td>1990</td>\n      <td>4</td>\n      <td>0.032965</td>\n    </tr>\n    <tr>\n      <th>4</th>\n      <td>DECC2013</td>\n      <td>1</td>\n      <td>A</td>\n      <td>1990</td>\n      <td>5</td>\n      <td>0.000000</td>\n    </tr>\n    <tr>\n      <th>...</th>\n      <td>...</td>\n      <td>...</td>\n      <td>...</td>\n      <td>...</td>\n      <td>...</td>\n      <td>...</td>\n    </tr>\n    <tr>\n      <th>35963</th>\n      <td>UKERC20</td>\n      <td>4</td>\n      <td>SF</td>\n      <td>2100</td>\n      <td>4</td>\n      <td>0.019153</td>\n    </tr>\n    <tr>\n      <th>35964</th>\n      <td>UKERC20</td>\n      <td>4</td>\n      <td>SF</td>\n      <td>2100</td>\n      <td>5</td>\n      <td>0.150000</td>\n    </tr>\n    <tr>\n      <th>35965</th>\n      <td>UKERC20</td>\n      <td>4</td>\n      <td>SF</td>\n      <td>2100</td>\n      <td>6</td>\n      <td>0.198848</td>\n    </tr>\n    <tr>\n      <th>35966</th>\n      <td>UKERC20</td>\n      <td>4</td>\n      <td>SF</td>\n      <td>2100</td>\n      <td>7</td>\n      <td>0.230000</td>\n    </tr>\n    <tr>\n      <th>35967</th>\n      <td>UKERC20</td>\n      <td>4</td>\n      <td>SF</td>\n      <td>2100</td>\n      <td>8</td>\n      <td>0.000000</td>\n    </tr>\n  </tbody>\n</table>\n<p>35968 rows × 6 columns</p>\n</div>"
     },
     "execution_count": 20,
     "metadata": {},
     "output_type": "execute_result"
    }
   ],
   "source": [
    "for energy in energy_dict:\n",
    "\n",
    "    for year in energy_dict[energy]:\n",
    "        set_ind = ge[(ge.CountryAB=='KEN') & (ge.Year == year) & (ge.PrimID == energy)].index.tolist()\n",
    "\n",
    "        ge.loc[set_ind, 'PrimShare'] = energy_dict[energy][year]\n",
    "\n",
    "ge"
   ],
   "metadata": {
    "collapsed": false
   }
  },
  {
   "cell_type": "code",
   "execution_count": 21,
   "outputs": [],
   "source": [
    "ge.to_excel(f'./../TEAM-Kenya_data_out/GE_UserData_KEN.xlsx', index=False)"
   ],
   "metadata": {
    "collapsed": false
   }
  }
 ],
 "metadata": {
  "kernelspec": {
   "display_name": "Python 3",
   "language": "python",
   "name": "python3"
  },
  "language_info": {
   "codemirror_mode": {
    "name": "ipython",
    "version": 2
   },
   "file_extension": ".py",
   "mimetype": "text/x-python",
   "name": "python",
   "nbconvert_exporter": "python",
   "pygments_lexer": "ipython2",
   "version": "2.7.6"
  }
 },
 "nbformat": 4,
 "nbformat_minor": 0
}
