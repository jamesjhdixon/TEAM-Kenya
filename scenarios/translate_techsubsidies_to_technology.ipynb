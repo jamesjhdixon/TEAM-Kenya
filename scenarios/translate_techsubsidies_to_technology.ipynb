{
 "cells": [
  {
   "cell_type": "markdown",
   "source": [
    "This notebook translates technology subsidy in the scenarios to the required format in policy impact tables\n",
    "\n",
    "v2 (12 May 2023) --> paste it in policy_step1_technologytax and then *ACCEPT* through TEAM UI"
   ],
   "metadata": {
    "collapsed": false
   }
  },
  {
   "cell_type": "code",
   "execution_count": 10,
   "outputs": [],
   "source": [
    "import pandas as pd"
   ],
   "metadata": {
    "collapsed": false
   }
  },
  {
   "cell_type": "code",
   "execution_count": 11,
   "outputs": [],
   "source": [
    "scenario_names = ['OMOKA', 'ELECTRICDREAMS', 'KUJINAO', 'STREETFIGHTING']"
   ],
   "metadata": {
    "collapsed": false
   }
  },
  {
   "cell_type": "code",
   "execution_count": 12,
   "outputs": [],
   "source": [
    "# you only need this for PurchasePrice and second-hand import flag\n",
    "def return_technology():\n",
    "    technology = pd.read_excel(f'./../TEAM-Kenya_data_out/Technology.xlsx')\n",
    "    return technology"
   ],
   "metadata": {
    "collapsed": false
   }
  },
  {
   "cell_type": "code",
   "execution_count": 13,
   "outputs": [],
   "source": [
    "def return_policy_impacts():\n",
    "    policy_impacts = pd.read_excel(f'./../TEAM-Kenya_data_out/Policy_Impacts.xlsx')\n",
    "    return policy_impacts"
   ],
   "metadata": {
    "collapsed": false
   }
  },
  {
   "cell_type": "code",
   "execution_count": 14,
   "outputs": [],
   "source": [
    "def return_policy_step1_techtax():\n",
    "    policy_step1 = pd.read_excel(f'./../TEAM-Kenya_data_out/Policy_Step1_TechnologyTax.xlsx')\n",
    "    return policy_step1"
   ],
   "metadata": {
    "collapsed": false
   }
  },
  {
   "cell_type": "code",
   "execution_count": 15,
   "outputs": [],
   "source": [
    "def return_base_rates_policy_impacts(policy_impacts, technology, base_rates={'ImportDuty': 0.25, 'ExciseDuty': 0.2, 'VAT': 0.16}):\n",
    "\n",
    "    for techid in technology.TechID.unique().tolist():\n",
    "\n",
    "        set_inds = policy_impacts[policy_impacts.TechID == techid].index.tolist()\n",
    "\n",
    "        policy_impacts.loc[set_inds, 'PurchaseTax'] = base_rates['ImportDuty']*technology[technology.TechID == techid]['PurchasePrice'].item() + base_rates['ExciseDuty']*(1+base_rates['ImportDuty'])*technology[technology.TechID == techid]['PurchasePrice'].item() + base_rates['VAT']*(1+base_rates['ExciseDuty'])*(1+base_rates['ImportDuty'])*technology[technology.TechID == techid]['PurchasePrice'].item()\n",
    "\n",
    "    return policy_impacts"
   ],
   "metadata": {
    "collapsed": false
   }
  },
  {
   "cell_type": "code",
   "execution_count": 16,
   "outputs": [],
   "source": [
    "# subsidies can be by FuelID, by VehTypeID.\n",
    "# Narrative: Omoka focussed on growth of public e-mobility so subsidies highest for e-buses. Electric dreams has subsidies highest for e-cars and E2Ws. Street fighting = no subsidies. Kujinao has some subsidies for second-hand imported electric buses\n",
    "\n",
    "# purhcasetax dictionary, by scenario, by fuelid (12=elec), by vehtypeid (1=bike, 2=moto, 3=car, 4=bus, 5=truck, 6=train, 7=ship, 8=plane), by SHI status (SecondHandImportFlag=0 for non-SHI, = 1 for SHI) by variable:value key value pair\n",
    "\n",
    "# omoka - the most subisidsed electric buses\n",
    "purchasetax_dict = {'OMOKA': {11: {2: {0: {'ImportDuty': 0, 'ExciseDuty': 0.1, 'VAT': 0.16}},\n",
    "                            3: {0: {'ImportDuty': 0.25, 'ExciseDuty': 0.1, 'VAT': 0.16}, 1:{'ImportDuty': 0.25, 'ExciseDuty': 0.1, 'VAT': 0.16}},\n",
    "                            4: {0: {'ImportDuty': 0, 'ExciseDuty': 0, 'VAT': 0}, 1:{'ImportDuty': 0, 'ExciseDuty': 0, 'VAT': 0}},\n",
    "                            5: {0: {'ImportDuty': 0.25, 'ExciseDuty': 0.1, 'VAT': 0.16}, 1:{'ImportDuty': 0.25, 'ExciseDuty': 0.1, 'VAT': 0.16}},\n",
    "                            6: {0: {'ImportDuty': 0.25, 'ExciseDuty': 0.1, 'VAT': 0.16}}}},\n",
    "\n",
    "             # electric dreams - the most subsidised EVs.\n",
    "             'ELECTRICDREAMS': {11: {2: {0: {'ImportDuty': 0, 'ExciseDuty': -0.1, 'VAT': 0}},\n",
    "                            3: {0: {'ImportDuty': 0, 'ExciseDuty': -0.1, 'VAT': 0}, 1:{'ImportDuty': 0, 'ExciseDuty': -0.1, 'VAT': 0}},\n",
    "                            4: {0: {'ImportDuty': 0, 'ExciseDuty': 0, 'VAT': 0}, 1:{'ImportDuty': 0, 'ExciseDuty': 0, 'VAT': 0}},\n",
    "                            5: {0: {'ImportDuty': 0, 'ExciseDuty': -0.1, 'VAT': 0}, 1:{'ImportDuty': 0, 'ExciseDuty': -0.1, 'VAT': 0}},\n",
    "                            6: {0: {'ImportDuty': 0, 'ExciseDuty': -0.1, 'VAT': 0}}}},\n",
    "\n",
    "            # kujinao - reflects current kenyan policy as of 2023\n",
    "             'KUJINAO': {11: {2: {0: {'ImportDuty': 0, 'ExciseDuty': 0.1, 'VAT': 0.16}},\n",
    "                            3: {0: {'ImportDuty': 0.25, 'ExciseDuty': 0.1, 'VAT': 0.16}, 1:{'ImportDuty': 0.25, 'ExciseDuty': 0.1, 'VAT': 0.16}},\n",
    "                            4: {0: {'ImportDuty': 0, 'ExciseDuty': 0.1, 'VAT': 0.16}, 1:{'ImportDuty': 0.25, 'ExciseDuty': 0.1, 'VAT': 0.16}},\n",
    "                            5: {0: {'ImportDuty': 0.25, 'ExciseDuty': 0.1, 'VAT': 0.16}, 1:{'ImportDuty': 0.25, 'ExciseDuty': 0.1, 'VAT': 0.16}},\n",
    "                            6: {0: {'ImportDuty': 0.25, 'ExciseDuty': 0.1, 'VAT': 0.16}}}},\n",
    "\n",
    "            # street fighting - no change vs 'base case' (no EV subsidies)\n",
    "             'STREETFIGHTING': {11: {2: {0: {'ImportDuty': 0.25, 'ExciseDuty': 0.2, 'VAT': 0.16}},\n",
    "                            3: {0: {'ImportDuty': 0.25, 'ExciseDuty': 0.2, 'VAT': 0.16}, 1:{'ImportDuty': 0.25, 'ExciseDuty': 0.2, 'VAT': 0.16}},\n",
    "                            4: {0: {'ImportDuty': 0.25, 'ExciseDuty': 0.2, 'VAT': 0.16}, 1:{'ImportDuty': 0.25, 'ExciseDuty': 0.2, 'VAT': 0.16}},\n",
    "                            5: {0: {'ImportDuty': 0.25, 'ExciseDuty': 0.2, 'VAT': 0.16}, 1:{'ImportDuty': 0.25, 'ExciseDuty': 0.2, 'VAT': 0.16}},\n",
    "                            6: {0: {'ImportDuty': 0.25, 'ExciseDuty': 0.2, 'VAT': 0.16}}}}}"
   ],
   "metadata": {
    "collapsed": false
   }
  },
  {
   "cell_type": "code",
   "execution_count": 17,
   "outputs": [],
   "source": [
    "# function to change those rates based on purchasetax_dictionary\n",
    "def return_changed_policy_impacts(scenario, policy_impacts, technology):\n",
    "\n",
    "    for fuelid in list(purchasetax_dict[scenario].keys()):\n",
    "\n",
    "        for vehicletypeid in list(purchasetax_dict[scenario][fuelid].keys()):\n",
    "\n",
    "            for shi_status in list(purchasetax_dict[scenario][fuelid][vehicletypeid].keys()):\n",
    "\n",
    "                # return dictionary of rates\n",
    "                rates = purchasetax_dict[scenario][fuelid][vehicletypeid][shi_status]\n",
    "\n",
    "                # return list of techIDs to which this set of rates applies\n",
    "                techids = technology[(technology.FuelID == fuelid) & (technology.VehTypeID == vehicletypeid) & (technology.SecondHandImportFlag == shi_status)]['TechID'].tolist()\n",
    "\n",
    "                for techid in techids:\n",
    "\n",
    "                    set_inds = policy_impacts[policy_impacts.TechID == techid].index.tolist()\n",
    "\n",
    "                    policy_impacts.loc[set_inds, 'PurchaseTax'] = rates['ImportDuty']*technology[technology.TechID == techid]['PurchasePrice'].item() + rates['ExciseDuty']*(1+rates['ImportDuty'])*technology[technology.TechID == techid]['PurchasePrice'].item() + rates['VAT']*(1+rates['ExciseDuty'])*(1+rates['ImportDuty'])*technology[technology.TechID == techid]['PurchasePrice'].item()\n",
    "\n",
    "    return policy_impacts"
   ],
   "metadata": {
    "collapsed": false
   }
  },
  {
   "cell_type": "code",
   "execution_count": 18,
   "outputs": [],
   "source": [
    "# re-write taxation policy with scenarios\n",
    "\n",
    "for scenario_name in scenario_names:\n",
    "\n",
    "    technology = return_technology()\n",
    "    # policy_impacts = return_policy_impacts()\n",
    "    policy_step1 = return_policy_step1_techtax()\n",
    "\n",
    "    # write base rates\n",
    "    policy_step1 = return_base_rates_policy_impacts(policy_step1, technology)\n",
    "\n",
    "    # change for scenario\n",
    "    policy_step1 = return_changed_policy_impacts(scenario_name, policy_step1, technology)\n",
    "\n",
    "    # save\n",
    "    policy_step1.to_excel(f'./../TEAM-Kenya_data_out/Policy_Step1_TechnologyTax{scenario_name}.xlsx', index=False)"
   ],
   "metadata": {
    "collapsed": false
   }
  },
  {
   "cell_type": "code",
   "execution_count": 20,
   "outputs": [
    {
     "data": {
      "text/plain": "      TechID  ModeID  VehTypeID  MassCatID  FuelID  EngineID  TransTypeID  \\\n2245   14893       1          5         28      13        13            2   \n\n      Availability  Final_Year  HybridFlag  spec_energ_consump  \\\n2245          2053         NaN           0           97.449997   \n\n      spec_energ_electric  noise_class  PurchasePrice  ExpectedLifeFactor  \\\n2245                  1.0            2        12000.0                   1   \n\n      Capacity  AveEconLife  SecondHandImportFlag  note  \n2245       2.5           10                     1   NaN  ",
      "text/html": "<div>\n<style scoped>\n    .dataframe tbody tr th:only-of-type {\n        vertical-align: middle;\n    }\n\n    .dataframe tbody tr th {\n        vertical-align: top;\n    }\n\n    .dataframe thead th {\n        text-align: right;\n    }\n</style>\n<table border=\"1\" class=\"dataframe\">\n  <thead>\n    <tr style=\"text-align: right;\">\n      <th></th>\n      <th>TechID</th>\n      <th>ModeID</th>\n      <th>VehTypeID</th>\n      <th>MassCatID</th>\n      <th>FuelID</th>\n      <th>EngineID</th>\n      <th>TransTypeID</th>\n      <th>Availability</th>\n      <th>Final_Year</th>\n      <th>HybridFlag</th>\n      <th>spec_energ_consump</th>\n      <th>spec_energ_electric</th>\n      <th>noise_class</th>\n      <th>PurchasePrice</th>\n      <th>ExpectedLifeFactor</th>\n      <th>Capacity</th>\n      <th>AveEconLife</th>\n      <th>SecondHandImportFlag</th>\n      <th>note</th>\n    </tr>\n  </thead>\n  <tbody>\n    <tr>\n      <th>2245</th>\n      <td>14893</td>\n      <td>1</td>\n      <td>5</td>\n      <td>28</td>\n      <td>13</td>\n      <td>13</td>\n      <td>2</td>\n      <td>2053</td>\n      <td>NaN</td>\n      <td>0</td>\n      <td>97.449997</td>\n      <td>1.0</td>\n      <td>2</td>\n      <td>12000.0</td>\n      <td>1</td>\n      <td>2.5</td>\n      <td>10</td>\n      <td>1</td>\n      <td>NaN</td>\n    </tr>\n  </tbody>\n</table>\n</div>"
     },
     "execution_count": 20,
     "metadata": {},
     "output_type": "execute_result"
    }
   ],
   "source": [
    "technology[technology.TechID == 14893]"
   ],
   "metadata": {
    "collapsed": false
   }
  }
 ],
 "metadata": {
  "kernelspec": {
   "display_name": "Python 3",
   "language": "python",
   "name": "python3"
  },
  "language_info": {
   "codemirror_mode": {
    "name": "ipython",
    "version": 2
   },
   "file_extension": ".py",
   "mimetype": "text/x-python",
   "name": "python",
   "nbconvert_exporter": "python",
   "pygments_lexer": "ipython2",
   "version": "2.7.6"
  }
 },
 "nbformat": 4,
 "nbformat_minor": 0
}
