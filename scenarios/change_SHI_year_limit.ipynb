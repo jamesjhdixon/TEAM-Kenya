{
 "cells": [
  {
   "cell_type": "markdown",
   "source": [
    "This notebook changes the lag of SHI vehicles - pushes it along by 5 years (to take it from 8 to 3)"
   ],
   "metadata": {
    "collapsed": false,
    "pycharm": {
     "name": "#%% md\n"
    }
   }
  },
  {
   "cell_type": "code",
   "execution_count": 4,
   "outputs": [],
   "source": [
    "import pandas as pd"
   ],
   "metadata": {
    "collapsed": false,
    "pycharm": {
     "name": "#%%\n"
    }
   }
  },
  {
   "cell_type": "code",
   "execution_count": 6,
   "outputs": [
    {
     "data": {
      "text/plain": "      TechID  ModeID  VehTypeID  MassCatID  FuelID  EngineID  TransTypeID  \\\n0         10       1          2          4       1        10            1   \n1         20       1          2          4      12        10            1   \n2         25       1          2          4      12        11            1   \n3         26       1          2          4      12        12            1   \n4         30       1          2          4       1        11            1   \n...      ...     ...        ...        ...     ...       ...          ...   \n2241   14889       1          5         28      13        13            2   \n2242   14890       1          5         28      13        13            2   \n2243   14891       1          5         28      13        13            2   \n2244   14892       1          5         28      13        13            2   \n2245   14893       1          5         28      13        13            2   \n\n      Availability  Final_Year  HybridFlag  spec_energ_consump  \\\n0             1980      2000.0           0            6.571951   \n1             1995      2010.0           0            9.514442   \n2             2010      2020.0           0            8.380919   \n3             2020         NaN           0            7.183646   \n4             2000      2010.0           0            5.645645   \n...            ...         ...         ...                 ...   \n2241          2033      2038.0           0          179.199997   \n2242          2038      2043.0           0          153.889999   \n2243          2043      2048.0           0          132.149994   \n2244          2048      2053.0           0          113.480003   \n2245          2053         NaN           0           97.449997   \n\n      spec_energ_electric  noise_class  PurchasePrice  ExpectedLifeFactor  \\\n0                     NaN            0         5000.0                   1   \n1                     NaN            2         7000.0                   1   \n2                     NaN            2         6000.0                   1   \n3                     NaN            2         5500.0                   1   \n4                     NaN            0         5000.0                   1   \n...                   ...          ...            ...                 ...   \n2241                  1.0            2        14000.0                   1   \n2242                  1.0            2        12000.0                   1   \n2243                  1.0            2        12000.0                   1   \n2244                  1.0            2        12000.0                   1   \n2245                  1.0            2        12000.0                   1   \n\n      Capacity  AveEconLife  SecondHandImportFlag  note  \n0          2.0           10                     0   NaN  \n1          2.0           10                     0   NaN  \n2          2.0           10                     0   NaN  \n3          2.0           10                     0   NaN  \n4          2.0           10                     0   NaN  \n...        ...          ...                   ...   ...  \n2241       2.5           10                     1   NaN  \n2242       2.5           10                     1   NaN  \n2243       2.5           10                     1   NaN  \n2244       2.5           10                     1   NaN  \n2245       2.5           10                     1   NaN  \n\n[2246 rows x 19 columns]",
      "text/html": "<div>\n<style scoped>\n    .dataframe tbody tr th:only-of-type {\n        vertical-align: middle;\n    }\n\n    .dataframe tbody tr th {\n        vertical-align: top;\n    }\n\n    .dataframe thead th {\n        text-align: right;\n    }\n</style>\n<table border=\"1\" class=\"dataframe\">\n  <thead>\n    <tr style=\"text-align: right;\">\n      <th></th>\n      <th>TechID</th>\n      <th>ModeID</th>\n      <th>VehTypeID</th>\n      <th>MassCatID</th>\n      <th>FuelID</th>\n      <th>EngineID</th>\n      <th>TransTypeID</th>\n      <th>Availability</th>\n      <th>Final_Year</th>\n      <th>HybridFlag</th>\n      <th>spec_energ_consump</th>\n      <th>spec_energ_electric</th>\n      <th>noise_class</th>\n      <th>PurchasePrice</th>\n      <th>ExpectedLifeFactor</th>\n      <th>Capacity</th>\n      <th>AveEconLife</th>\n      <th>SecondHandImportFlag</th>\n      <th>note</th>\n    </tr>\n  </thead>\n  <tbody>\n    <tr>\n      <th>0</th>\n      <td>10</td>\n      <td>1</td>\n      <td>2</td>\n      <td>4</td>\n      <td>1</td>\n      <td>10</td>\n      <td>1</td>\n      <td>1980</td>\n      <td>2000.0</td>\n      <td>0</td>\n      <td>6.571951</td>\n      <td>NaN</td>\n      <td>0</td>\n      <td>5000.0</td>\n      <td>1</td>\n      <td>2.0</td>\n      <td>10</td>\n      <td>0</td>\n      <td>NaN</td>\n    </tr>\n    <tr>\n      <th>1</th>\n      <td>20</td>\n      <td>1</td>\n      <td>2</td>\n      <td>4</td>\n      <td>12</td>\n      <td>10</td>\n      <td>1</td>\n      <td>1995</td>\n      <td>2010.0</td>\n      <td>0</td>\n      <td>9.514442</td>\n      <td>NaN</td>\n      <td>2</td>\n      <td>7000.0</td>\n      <td>1</td>\n      <td>2.0</td>\n      <td>10</td>\n      <td>0</td>\n      <td>NaN</td>\n    </tr>\n    <tr>\n      <th>2</th>\n      <td>25</td>\n      <td>1</td>\n      <td>2</td>\n      <td>4</td>\n      <td>12</td>\n      <td>11</td>\n      <td>1</td>\n      <td>2010</td>\n      <td>2020.0</td>\n      <td>0</td>\n      <td>8.380919</td>\n      <td>NaN</td>\n      <td>2</td>\n      <td>6000.0</td>\n      <td>1</td>\n      <td>2.0</td>\n      <td>10</td>\n      <td>0</td>\n      <td>NaN</td>\n    </tr>\n    <tr>\n      <th>3</th>\n      <td>26</td>\n      <td>1</td>\n      <td>2</td>\n      <td>4</td>\n      <td>12</td>\n      <td>12</td>\n      <td>1</td>\n      <td>2020</td>\n      <td>NaN</td>\n      <td>0</td>\n      <td>7.183646</td>\n      <td>NaN</td>\n      <td>2</td>\n      <td>5500.0</td>\n      <td>1</td>\n      <td>2.0</td>\n      <td>10</td>\n      <td>0</td>\n      <td>NaN</td>\n    </tr>\n    <tr>\n      <th>4</th>\n      <td>30</td>\n      <td>1</td>\n      <td>2</td>\n      <td>4</td>\n      <td>1</td>\n      <td>11</td>\n      <td>1</td>\n      <td>2000</td>\n      <td>2010.0</td>\n      <td>0</td>\n      <td>5.645645</td>\n      <td>NaN</td>\n      <td>0</td>\n      <td>5000.0</td>\n      <td>1</td>\n      <td>2.0</td>\n      <td>10</td>\n      <td>0</td>\n      <td>NaN</td>\n    </tr>\n    <tr>\n      <th>...</th>\n      <td>...</td>\n      <td>...</td>\n      <td>...</td>\n      <td>...</td>\n      <td>...</td>\n      <td>...</td>\n      <td>...</td>\n      <td>...</td>\n      <td>...</td>\n      <td>...</td>\n      <td>...</td>\n      <td>...</td>\n      <td>...</td>\n      <td>...</td>\n      <td>...</td>\n      <td>...</td>\n      <td>...</td>\n      <td>...</td>\n      <td>...</td>\n    </tr>\n    <tr>\n      <th>2241</th>\n      <td>14889</td>\n      <td>1</td>\n      <td>5</td>\n      <td>28</td>\n      <td>13</td>\n      <td>13</td>\n      <td>2</td>\n      <td>2033</td>\n      <td>2038.0</td>\n      <td>0</td>\n      <td>179.199997</td>\n      <td>1.0</td>\n      <td>2</td>\n      <td>14000.0</td>\n      <td>1</td>\n      <td>2.5</td>\n      <td>10</td>\n      <td>1</td>\n      <td>NaN</td>\n    </tr>\n    <tr>\n      <th>2242</th>\n      <td>14890</td>\n      <td>1</td>\n      <td>5</td>\n      <td>28</td>\n      <td>13</td>\n      <td>13</td>\n      <td>2</td>\n      <td>2038</td>\n      <td>2043.0</td>\n      <td>0</td>\n      <td>153.889999</td>\n      <td>1.0</td>\n      <td>2</td>\n      <td>12000.0</td>\n      <td>1</td>\n      <td>2.5</td>\n      <td>10</td>\n      <td>1</td>\n      <td>NaN</td>\n    </tr>\n    <tr>\n      <th>2243</th>\n      <td>14891</td>\n      <td>1</td>\n      <td>5</td>\n      <td>28</td>\n      <td>13</td>\n      <td>13</td>\n      <td>2</td>\n      <td>2043</td>\n      <td>2048.0</td>\n      <td>0</td>\n      <td>132.149994</td>\n      <td>1.0</td>\n      <td>2</td>\n      <td>12000.0</td>\n      <td>1</td>\n      <td>2.5</td>\n      <td>10</td>\n      <td>1</td>\n      <td>NaN</td>\n    </tr>\n    <tr>\n      <th>2244</th>\n      <td>14892</td>\n      <td>1</td>\n      <td>5</td>\n      <td>28</td>\n      <td>13</td>\n      <td>13</td>\n      <td>2</td>\n      <td>2048</td>\n      <td>2053.0</td>\n      <td>0</td>\n      <td>113.480003</td>\n      <td>1.0</td>\n      <td>2</td>\n      <td>12000.0</td>\n      <td>1</td>\n      <td>2.5</td>\n      <td>10</td>\n      <td>1</td>\n      <td>NaN</td>\n    </tr>\n    <tr>\n      <th>2245</th>\n      <td>14893</td>\n      <td>1</td>\n      <td>5</td>\n      <td>28</td>\n      <td>13</td>\n      <td>13</td>\n      <td>2</td>\n      <td>2053</td>\n      <td>NaN</td>\n      <td>0</td>\n      <td>97.449997</td>\n      <td>1.0</td>\n      <td>2</td>\n      <td>12000.0</td>\n      <td>1</td>\n      <td>2.5</td>\n      <td>10</td>\n      <td>1</td>\n      <td>NaN</td>\n    </tr>\n  </tbody>\n</table>\n<p>2246 rows × 19 columns</p>\n</div>"
     },
     "execution_count": 6,
     "metadata": {},
     "output_type": "execute_result"
    }
   ],
   "source": [
    "technology = pd.read_excel(f'./TEAM-Kenya_data_out/Technology.xlsx')\n",
    "technology"
   ],
   "metadata": {
    "collapsed": false,
    "pycharm": {
     "name": "#%%\n"
    }
   }
  },
  {
   "cell_type": "code",
   "execution_count": 9,
   "outputs": [],
   "source": [
    "technology.loc[technology[technology.TechID>9000].index.tolist(), 'Availability'] -= 5"
   ],
   "metadata": {
    "collapsed": false,
    "pycharm": {
     "name": "#%%\n"
    }
   }
  },
  {
   "cell_type": "code",
   "execution_count": 10,
   "outputs": [],
   "source": [
    "technology.loc[technology[technology.TechID>9000].index.tolist(), 'Final_Year'] -= 5"
   ],
   "metadata": {
    "collapsed": false,
    "pycharm": {
     "name": "#%%\n"
    }
   }
  },
  {
   "cell_type": "code",
   "execution_count": 11,
   "outputs": [],
   "source": [
    "technology.to_csv('./TEAM-Kenya_data_out/technology_max3yearsSHI.csv')"
   ],
   "metadata": {
    "collapsed": false,
    "pycharm": {
     "name": "#%%\n"
    }
   }
  }
 ],
 "metadata": {
  "kernelspec": {
   "display_name": "Python 3",
   "language": "python",
   "name": "python3"
  },
  "language_info": {
   "codemirror_mode": {
    "name": "ipython",
    "version": 2
   },
   "file_extension": ".py",
   "mimetype": "text/x-python",
   "name": "python",
   "nbconvert_exporter": "python",
   "pygments_lexer": "ipython2",
   "version": "2.7.6"
  }
 },
 "nbformat": 4,
 "nbformat_minor": 0
}