{
 "cells": [
  {
   "cell_type": "markdown",
   "source": [
    "This notebook changes supply penalties of specified technology types in Scen_CarSegments.\n",
    "Before, it was being done to Cost_data but I think that was useless as values are reset in Update Costs macro.\n",
    "\n",
    "***MAKE SURE YOU RUN SCEN_VANTYPES_TRANSLATE... BEFORE THIS!!***"
   ],
   "metadata": {
    "collapsed": false,
    "pycharm": {
     "name": "#%% md\n"
    }
   }
  },
  {
   "cell_type": "code",
   "execution_count": 1,
   "outputs": [],
   "source": [
    "import pandas as pd"
   ],
   "metadata": {
    "collapsed": false,
    "pycharm": {
     "name": "#%%\n"
    },
    "ExecuteTime": {
     "end_time": "2023-10-26T15:25:34.452333700Z",
     "start_time": "2023-10-26T15:25:34.448858900Z"
    }
   }
  },
  {
   "cell_type": "code",
   "execution_count": 2,
   "outputs": [],
   "source": [
    "# function to return SP cols from df (scen_vantypes)\n",
    "def return_SPcols(powertrain, df):\n",
    "    \n",
    "    cols = [s for s in df.columns.tolist() if s[0:2] == 'SP']\n",
    "    SPcols = [s for s in cols if powertrain in s]\n",
    "    \n",
    "    return SPcols"
   ],
   "metadata": {
    "collapsed": false,
    "ExecuteTime": {
     "end_time": "2023-10-26T15:25:34.465958300Z",
     "start_time": "2023-10-26T15:25:34.452333700Z"
    }
   }
  },
  {
   "cell_type": "code",
   "execution_count": 3,
   "outputs": [],
   "source": [
    "# function to return interpolated values in SP dictionaries (below)\n",
    "def return_interpolated_value(y, powertrain, scenario, SPdata):\n",
    "    \n",
    "    SPdict = SPdata[scenario][powertrain]\n",
    "    \n",
    "    if y in SPdict:\n",
    "        x = SPdict[y]\n",
    "    else:\n",
    "        # if it's not the last one in the sorted list\n",
    "        if sorted(list(SPdict.keys())+[y]).index(y) < len(list(SPdict.keys())+[y]) - 1:\n",
    "            x = SPdict[list(SPdict.keys())[sorted(list(SPdict.keys())+[y]).index(y)-1]] + (y - list(SPdict.keys())[sorted(list(SPdict.keys())+[y]).index(y)-1])/(list(SPdict.keys())[sorted(list(SPdict.keys())+[y]).index(y)] - list(SPdict.keys())[sorted(list(SPdict.keys())+[y]).index(y)-1]) * (SPdict[list(SPdict.keys())[sorted(list(SPdict.keys())+[y]).index(y)]] - SPdict[list(SPdict.keys())[sorted(list(SPdict.keys())+[y]).index(y)-1]])\n",
    "        else:\n",
    "            if sorted(list(SPdict.keys())+[y]).index(y) == 0:\n",
    "                x = 0\n",
    "            else:\n",
    "                x = SPdict[list(SPdict.keys())[-1]]\n",
    "    return int(x)"
   ],
   "metadata": {
    "collapsed": false,
    "ExecuteTime": {
     "end_time": "2023-10-26T15:25:34.465958300Z",
     "start_time": "2023-10-26T15:25:34.457384700Z"
    }
   }
  },
  {
   "cell_type": "code",
   "execution_count": 4,
   "outputs": [],
   "source": [
    "# define desired SPs as a set of years with amounts (£) in a dictionary\n",
    "# keep this!\n",
    "\n",
    "\n",
    "SPdata = {'OMOKA': {'Petrol': {2012: 0, 2029: 0, 2034: 5000, 2035: 5000},  # OMOKA = elec and HFC on equal footing after 2035\n",
    "          'Diesel': {2012: 0, 2029: 0, 2034: 5000, 2035: 5000},\n",
    "          'SPHEV': {2012: 6200, 2015: 3600, 2029: 1800, 2034: 5000, 2035: 5000},\n",
    "          'SPPHEV': {2012: 80000, 2015: 8000, 2034: 5000, 2035: 5000},\n",
    "          'SPBEV': {2012: 9000, 2015: 7000, 2029: 5000, 2034: 1000, 2037: 0},\n",
    "          'BioV': {2012: 100000},\n",
    "          'GV': {2012: 100000000},\n",
    "          'HFC': {2012: 100000000, 2029: 100000, 2034: 1000, 2037: 0}},\n",
    "          'ELECTRICDREAMS': {'Petrol': {2012: 0, 2029: 0, 2034: 7500, 2035: 10000},  # ED = elec trucks favoured from 2030\n",
    "          'Diesel': {2012: 0, 2029: 0, 2034: 5000, 2035: 10000},\n",
    "          'SPHEV': {2012: 6200, 2015: 3600, 2029: 1800, 2034: 5000, 2035: 5000},\n",
    "          'SPPHEV': {2012: 80000, 2015: 8000, 2034: 5000, 2035: 5000},\n",
    "          'SPBEV': {2012: 9000, 2015: 7000, 2029: 5000, 2034: 1000, 2035: 0},\n",
    "          'BioV': {2012: 100000},\n",
    "          'GV': {2012: 100000000},\n",
    "          'HFC': {2012: 100000000}},\n",
    "          'KUJINAO': {'Petrol': {2012: 0, 2029: 0, 2034: 5000, 2040: 5000},  # KUJINAO = SP across board to slow uptake \n",
    "          'Diesel': {2012: 0, 2029: 0, 2034: 5000, 2040: 5000},\n",
    "          'SPHEV': {2012: 6200, 2015: 3600, 2029: 1800, 2034: 5000, 2035: 5000},\n",
    "          'SPPHEV': {2012: 80000, 2015: 8000, 2034: 5000, 2035: 5000},\n",
    "          'SPBEV': {2012: 9000, 2015: 7000, 2029: 5000},\n",
    "          'BioV': {2012: 100000},\n",
    "          'GV': {2012: 100000000},\n",
    "          'HFC': {2012: 100000000}},\n",
    "          'STREETFIGHTING': {'Petrol': {2012: 0},  # SF = petrol and diesel favoured\n",
    "          'Diesel': {2012: 0},\n",
    "          'SPHEV': {2012: 6200, 2015: 3600, 2029: 1800, 2034: 5000, 2035: 5000},\n",
    "          'SPPHEV': {2012: 80000, 2015: 8000, 2034: 5000, 2035: 5000},\n",
    "          'SPBEV': {2012: 90000},\n",
    "          'BioV': {2012: 100000},\n",
    "          'GV': {2012: 100000000},\n",
    "          'HFC': {2012: 100000000}}}"
   ],
   "metadata": {
    "collapsed": false,
    "ExecuteTime": {
     "end_time": "2023-10-26T15:25:34.477811300Z",
     "start_time": "2023-10-26T15:25:34.472967800Z"
    }
   }
  },
  {
   "cell_type": "code",
   "execution_count": 5,
   "outputs": [],
   "source": [
    "for scenario in SPdata:\n",
    "    \n",
    "    # load data\n",
    "    scen_vantypes = pd.read_excel(f'./../TEAM-Kenya_data_out/scenarios/Scen_VanTypes{scenario}.xlsx')\n",
    "    \n",
    "    for powertrain in SPdata[scenario]:\n",
    "        \n",
    "        for y in range(2012, 2101):\n",
    "        \n",
    "            scen_vantypes.loc[scen_vantypes[scen_vantypes.Year == y].index.values[0], return_SPcols(powertrain, scen_vantypes)] = return_interpolated_value(y, powertrain, scenario, SPdata)\n",
    "            \n",
    "    \n",
    "    scen_vantypes.to_excel(f'./../TEAM-Kenya_data_out/scenarios/Scen_VanTypes{scenario}.xlsx', index=False)"
   ],
   "metadata": {
    "collapsed": false,
    "ExecuteTime": {
     "end_time": "2023-10-26T15:25:39.169854700Z",
     "start_time": "2023-10-26T15:25:34.477811300Z"
    }
   }
  }
 ],
 "metadata": {
  "kernelspec": {
   "display_name": "Python 3",
   "language": "python",
   "name": "python3"
  },
  "language_info": {
   "codemirror_mode": {
    "name": "ipython",
    "version": 2
   },
   "file_extension": ".py",
   "mimetype": "text/x-python",
   "name": "python",
   "nbconvert_exporter": "python",
   "pygments_lexer": "ipython2",
   "version": "2.7.6"
  }
 },
 "nbformat": 4,
 "nbformat_minor": 0
}
