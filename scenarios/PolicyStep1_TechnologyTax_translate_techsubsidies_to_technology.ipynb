{
 "cells": [
  {
   "cell_type": "markdown",
   "source": [
    "This notebook translates technology subsidy in the scenarios to the required format in policy impact tables\n",
    "\n",
    "v2 (12 May 2023) --> paste it in policy_step1_technologytax and then *ACCEPT* through TEAM UI\n",
    "\n",
    "v3 (15 Aug 2023) --> added a year dimension so you can vary subsidies by year"
   ],
   "metadata": {
    "collapsed": false
   }
  },
  {
   "cell_type": "code",
   "execution_count": 168,
   "outputs": [],
   "source": [
    "import pandas as pd\n",
    "import numpy as np"
   ],
   "metadata": {
    "collapsed": false,
    "ExecuteTime": {
     "end_time": "2023-08-15T11:09:15.159396300Z",
     "start_time": "2023-08-15T11:09:15.125898700Z"
    }
   }
  },
  {
   "cell_type": "code",
   "execution_count": 169,
   "outputs": [],
   "source": [
    "scenario_names = ['OMOKA', 'ELECTRICDREAMS', 'KUJINAO', 'STREETFIGHTING']"
   ],
   "metadata": {
    "collapsed": false,
    "ExecuteTime": {
     "end_time": "2023-08-15T11:09:15.180135600Z",
     "start_time": "2023-08-15T11:09:15.128048700Z"
    }
   }
  },
  {
   "cell_type": "code",
   "execution_count": 170,
   "outputs": [],
   "source": [
    "# you only need this for PurchasePrice and second-hand import flag\n",
    "def return_technology():\n",
    "    technology = pd.read_excel(f'./../TEAM-Kenya_data_out/original-team-uk-data/Technology.xlsx')\n",
    "    return technology"
   ],
   "metadata": {
    "collapsed": false,
    "ExecuteTime": {
     "end_time": "2023-08-15T11:09:15.180135600Z",
     "start_time": "2023-08-15T11:09:15.141275100Z"
    }
   }
  },
  {
   "cell_type": "code",
   "execution_count": 171,
   "outputs": [],
   "source": [
    "def return_policy_impacts():\n",
    "    policy_impacts = pd.read_excel(f'./../TEAM-Kenya_data_out/original-team-uk-data/Policy_Impacts.xlsx')\n",
    "    return policy_impacts"
   ],
   "metadata": {
    "collapsed": false,
    "ExecuteTime": {
     "end_time": "2023-08-15T11:09:15.180135600Z",
     "start_time": "2023-08-15T11:09:15.141275100Z"
    }
   }
  },
  {
   "cell_type": "code",
   "execution_count": 172,
   "outputs": [],
   "source": [
    "def return_policy_step1_techtax():\n",
    "    policy_step1 = pd.read_excel(f'./../TEAM-Kenya_data_out/original-team-uk-data/Policy_Step1_TechnologyTax.xlsx')\n",
    "    return policy_step1"
   ],
   "metadata": {
    "collapsed": false,
    "ExecuteTime": {
     "end_time": "2023-08-15T11:09:15.180135600Z",
     "start_time": "2023-08-15T11:09:15.147788400Z"
    }
   }
  },
  {
   "cell_type": "code",
   "execution_count": 173,
   "outputs": [],
   "source": [
    "def return_base_rates_policy_impacts(policy_impacts, technology, base_rates = {'ImportDuty': 0.25, 'ExciseDuty': 0.2, 'VAT': 0.16}):\n",
    "\n",
    "    for techid in technology.TechID.unique().tolist():\n",
    "\n",
    "        set_inds = policy_impacts[policy_impacts.TechID == techid].index.tolist()\n",
    "\n",
    "        policy_impacts.loc[set_inds, 'PurchaseTax'] = base_rates['ImportDuty']*technology[technology.TechID == techid]['PurchasePrice'].item() + base_rates['ExciseDuty']*(1+base_rates['ImportDuty'])*technology[technology.TechID == techid]['PurchasePrice'].item() + base_rates['VAT']*(1+base_rates['ExciseDuty'])*(1+base_rates['ImportDuty'])*technology[technology.TechID == techid]['PurchasePrice'].item()\n",
    "\n",
    "    return policy_impacts"
   ],
   "metadata": {
    "collapsed": false,
    "ExecuteTime": {
     "end_time": "2023-08-15T11:09:15.180135600Z",
     "start_time": "2023-08-15T11:09:15.164496500Z"
    }
   }
  },
  {
   "cell_type": "code",
   "execution_count": 174,
   "outputs": [],
   "source": [
    "# subsidies can be by FuelID, by VehTypeID.\n",
    "# Narrative: Omoka focussed on growth of public e-mobility so subsidies highest for e-buses. Electric dreams has subsidies highest for e-cars and E2Ws. Street fighting = no subsidies. Kujinao has some subsidies for second-hand imported electric buses\n",
    "\n",
    "# purhcasetax dictionary, by scenario, by fuelid (12=elec), by vehtypeid (1=bike, 2=moto, 3=car, 4=bus, 5=truck, 6=train, 7=ship, 8=plane), by SHI status (SecondHandImportFlag=0 for non-SHI, = 1 for SHI) by variable:value key value pair\n",
    "\n",
    "# omoka - the most subisidsed electric buses\n",
    "purchasetax_dict = {'OMOKA': {\n",
    "        12: {\n",
    "            2: {\n",
    "                0: {\n",
    "                    'ImportDuty': {2012: 0.25, 2028: 0},\n",
    "                    'ExciseDuty': {2012: 0.1, 2040: 0},\n",
    "                    'VAT': {2012: 0.16}\n",
    "                }\n",
    "            },\n",
    "            3: {\n",
    "                0: {\n",
    "                    'ImportDuty': {2012: 0.25, 2040: 0.15},\n",
    "                    'ExciseDuty': {2012: 0.1},\n",
    "                    'VAT': {2012: 0.16}\n",
    "                },\n",
    "                1: {\n",
    "                    'ImportDuty': {2012: 0.25, 2040: 0.15},\n",
    "                    'ExciseDuty': {2012: 0.1},\n",
    "                    'VAT': {2012: 0.1\n",
    "                }\n",
    "            },\n",
    "            4: {\n",
    "                0: {\n",
    "                    'ImportDuty': {2012: 0.25, 2023: 0},\n",
    "                    'ExciseDuty': {2012: 0.1, 2023: 0.05, 2028: 0},\n",
    "                    'VAT': {2012: 0.16, 2025: 0}\n",
    "                },\n",
    "                1: {\n",
    "                    'ImportDuty': {2012: 0.25, 2023: 0},\n",
    "                    'ExciseDuty': {2012: 0.1, 2023: 0.05, 2028: 0},\n",
    "                    'VAT': {2012: 0.16, 2025: 0}\n",
    "                }\n",
    "            },\n",
    "            5: {\n",
    "                0: {\n",
    "                    'ImportDuty': {2012: 0.25, 2023: 0.15, 2035: 0},\n",
    "                    'ExciseDuty': {2012: 0.1, 2023: 0.05, 2028: 0},\n",
    "                    'VAT': {2012: 0.16, 2025: 0}\n",
    "                },\n",
    "                1: {\n",
    "                    'ImportDuty': {2012: 0.25, 2023: 0.15, 2035: 0},\n",
    "                    'ExciseDuty': {2012: 0.1, 2023: 0.05, 2028: 0},\n",
    "                    'VAT': {2012: 0.16, 2025: 0}\n",
    "                }\n",
    "            },\n",
    "            6: {\n",
    "                0: {\n",
    "                    'ImportDuty': {2012: 0.25, 2023: 0},\n",
    "                    'ExciseDuty': {2012: 0.1, 2023: 0},\n",
    "                    'VAT': {2012: 0.16, 2023: 0}\n",
    "                }\n",
    "            }\n",
    "        }\n",
    "    },\n",
    "\n",
    "            # electric dreams - the most subsidised EVs.               \n",
    "            'ELECTRICDREAMS': {\n",
    "        12: {\n",
    "            2: {\n",
    "                0: {\n",
    "                    'ImportDuty': {2012: 0.25, 2023: 0},\n",
    "                    'ExciseDuty': {2012: 0.1, 2023: 0},\n",
    "                    'VAT': {2012: 0.16, 2023: 0}\n",
    "                }\n",
    "            },\n",
    "            3: {\n",
    "                0: {\n",
    "                    'ImportDuty': {2012: 0.25, 2023: 0},\n",
    "                    'ExciseDuty': {2012: 0.1, 2023: 0},\n",
    "                    'VAT': {2012: 0.16, 2023: 0}\n",
    "                },\n",
    "                1: {\n",
    "                    'ImportDuty': {2012: 0.25, 2023: 0},\n",
    "                    'ExciseDuty': {2012: 0.1, 2023: 0},\n",
    "                    'VAT': {2012: 0.16, 2023: 0}\n",
    "                }\n",
    "            },\n",
    "            4: {\n",
    "                0: {\n",
    "                    'ImportDuty': {2012: 0.25, 2040: 0.15},\n",
    "                    'ExciseDuty': {2012: 0.1, 2040: 0.05},\n",
    "                    'VAT': {2012: 0.16, 2040: 0.1}\n",
    "                },\n",
    "                1: {\n",
    "                    'ImportDuty': {2012: 0.25, 2040: 0.15},\n",
    "                    'ExciseDuty': {2012: 0.1, 2040: 0.05},\n",
    "                    'VAT': {2012: 0.16, 2040: 0.1}\n",
    "                }\n",
    "            },\n",
    "            5: {\n",
    "                0: {\n",
    "                    'ImportDuty': {2012: 0.25, 2023: 0.15, 2035: 0},\n",
    "                    'ExciseDuty': {2012: 0.1, 2023: 0.05, 2028: 0},\n",
    "                    'VAT': {2012: 0.16, 2025: 0}\n",
    "                },\n",
    "                1: {\n",
    "                    'ImportDuty': {2012: 0.25, 2023: 0.15, 2035: 0},\n",
    "                    'ExciseDuty': {2012: 0.1, 2023: 0.05, 2028: 0},\n",
    "                    'VAT': {2012: 0.16, 2025: 0}\n",
    "                }\n",
    "            },\n",
    "            6: {\n",
    "                0: {\n",
    "                    'ImportDuty': {2012: 0.25, 2023: 0},\n",
    "                    'ExciseDuty': {2012: 0.1, 2023: 0},\n",
    "                    'VAT': {2012: 0.16, 2023: 0}\n",
    "                }\n",
    "            }\n",
    "        }\n",
    "    },\n",
    "                         \n",
    "            # kujinao - reflects current kenyan policy as of 2023\n",
    "                    \n",
    "            'KUJINAO': {\n",
    "        12: {\n",
    "            2: {\n",
    "                0: {\n",
    "                    'ImportDuty': {2012: 0.25, 2030: 0},\n",
    "                    'ExciseDuty': {2012: 0.1},\n",
    "                    'VAT': {2012: 0.16}\n",
    "                }\n",
    "            },\n",
    "            3: {\n",
    "                0: {\n",
    "                    'ImportDuty': {2012: 0.25},\n",
    "                    'ExciseDuty': {2012: 0.1},\n",
    "                    'VAT': {2012: 0.16}\n",
    "                },\n",
    "                1: {\n",
    "                    'ImportDuty': {2012: 0.25},\n",
    "                    'ExciseDuty': {2012: 0.1},\n",
    "                    'VAT': {2012: 0.16}\n",
    "                }\n",
    "            },\n",
    "            4: {\n",
    "                0: {\n",
    "                    'ImportDuty': {2012: 0.25},\n",
    "                    'ExciseDuty': {2012: 0.1},\n",
    "                    'VAT': {2012: 0.16}\n",
    "                },\n",
    "                1: {\n",
    "                    'ImportDuty': {2012: 0.25},\n",
    "                    'ExciseDuty': {2012: 0.1},\n",
    "                    'VAT': {2012: 0.16}\n",
    "                }\n",
    "            },\n",
    "            5: {\n",
    "                0: {\n",
    "                    'ImportDuty': {2012: 0.25},\n",
    "                    'ExciseDuty': {2012: 0.1},\n",
    "                    'VAT': {2012: 0.16}\n",
    "                },\n",
    "                1: {\n",
    "                    'ImportDuty': {2012: 0.25},\n",
    "                    'ExciseDuty': {2012: 0.1},\n",
    "                    'VAT': {2012: 0.16}\n",
    "                }\n",
    "            },\n",
    "            6: {\n",
    "                0: {\n",
    "                    'ImportDuty': {2012: 0.25},\n",
    "                    'ExciseDuty': {2012: 0.1},\n",
    "                    'VAT': {2012: 0.16}\n",
    "                }\n",
    "            }\n",
    "        }\n",
    "    },\n",
    "                                \n",
    "            # streetfighting - low growth results in high taxes stifling growth in e-mob markets?\n",
    "                    \n",
    "            'STREETFIGHTING': {\n",
    "        12: {\n",
    "            2: {\n",
    "                0: {\n",
    "                    'ImportDuty': {2012: 0.25, 2025: 0.3},\n",
    "                    'ExciseDuty': {2012: 0.15},\n",
    "                    'VAT': {2012: 0.16}\n",
    "                }\n",
    "            },\n",
    "            3: {\n",
    "                0: {\n",
    "                    'ImportDuty': {2012: 0.25, 2023: 0.3},\n",
    "                    'ExciseDuty': {2012: 0.1, 2020: 0.2},\n",
    "                    'VAT': {2012: 0.16, 2028: 0.2}\n",
    "                },\n",
    "                1: {\n",
    "                    'ImportDuty': {2012: 0.25, 2023: 0.3},\n",
    "                    'ExciseDuty': {2012: 0.1, 2020: 0.2},\n",
    "                    'VAT': {2012: 0.16, 2028: 0.2}\n",
    "                }\n",
    "            },\n",
    "            4: {\n",
    "                0: {\n",
    "                    'ImportDuty': {2012: 0.25, 2023: 0.3},\n",
    "                    'ExciseDuty': {2012: 0.1, 2020: 0.2},\n",
    "                    'VAT': {2012: 0.16, 2028: 0.2}\n",
    "                },\n",
    "                1: {\n",
    "                    'ImportDuty': {2012: 0.25, 2023: 0.3},\n",
    "                    'ExciseDuty': {2012: 0.1, 2020: 0.2},\n",
    "                    'VAT': {2012: 0.16, 2028: 0.2}\n",
    "                }\n",
    "            },\n",
    "            5: {\n",
    "                0: {\n",
    "                    'ImportDuty': {2012: 0.25, 2023: 0.3},\n",
    "                    'ExciseDuty': {2012: 0.1, 2020: 0.2},\n",
    "                    'VAT': {2012: 0.16, 2028: 0.2}\n",
    "                },\n",
    "                1: {\n",
    "                    'ImportDuty': {2012: 0.25, 2023: 0.3},\n",
    "                    'ExciseDuty': {2012: 0.1, 2020: 0.2},\n",
    "                    'VAT': {2012: 0.16, 2028: 0.2}\n",
    "                }\n",
    "            },\n",
    "            6: {\n",
    "                0: {\n",
    "                    'ImportDuty': {2012: 0.25, 2023: 0.3},\n",
    "                    'ExciseDuty': {2012: 0.1, 2020: 0.2},\n",
    "                    'VAT': {2012: 0.16, 2028: 0.2}\n",
    "                }\n",
    "            }\n",
    "        }\n",
    "    }}"
   ],
   "metadata": {
    "collapsed": false,
    "ExecuteTime": {
     "end_time": "2023-08-15T11:09:15.211778200Z",
     "start_time": "2023-08-15T11:09:15.164496500Z"
    }
   }
  },
  {
   "cell_type": "code",
   "execution_count": 175,
   "outputs": [],
   "source": [
    "# function to return interpolated values in purchase tax dictionaries (above)\n",
    "def return_interpolated_value(y, fuelID, vehicleID, secondhandflagID, scenario, tax_type, purchasetax_data):\n",
    "    \n",
    "    # return a dict of {year: value}\n",
    "    PTdict = purchasetax_data[scenario][fuelID][vehicleID][secondhandflagID][tax_type]\n",
    "    \n",
    "    if y in PTdict:\n",
    "        x = PTdict[y]\n",
    "    else:\n",
    "        # if it's not the last one in the sorted list\n",
    "        if sorted(list(PTdict.keys())+[y]).index(y) < len(list(PTdict.keys())+[y]) - 1:\n",
    "            x = PTdict[list(PTdict.keys())[sorted(list(PTdict.keys())+[y]).index(y)-1]] + (y - list(PTdict.keys())[sorted(list(PTdict.keys())+[y]).index(y)-1])/(list(PTdict.keys())[sorted(list(PTdict.keys())+[y]).index(y)] - list(PTdict.keys())[sorted(list(PTdict.keys())+[y]).index(y)-1]) * (PTdict[list(PTdict.keys())[sorted(list(PTdict.keys())+[y]).index(y)]] - PTdict[list(PTdict.keys())[sorted(list(PTdict.keys())+[y]).index(y)-1]])\n",
    "        else:\n",
    "            if sorted(list(PTdict.keys())+[y]).index(y) == 0:\n",
    "                x = 0\n",
    "            else:\n",
    "                x = PTdict[list(PTdict.keys())[-1]]\n",
    "    return np.round(x, 2)"
   ],
   "metadata": {
    "collapsed": false,
    "ExecuteTime": {
     "end_time": "2023-08-15T11:09:15.243621800Z",
     "start_time": "2023-08-15T11:09:15.195993200Z"
    }
   }
  },
  {
   "cell_type": "code",
   "execution_count": 176,
   "outputs": [],
   "source": [
    "# function to change those rates based on purchasetax_dictionary\n",
    "def return_changed_policy_impacts(year, scenario, policy_impacts, technology, purchasetax_dict):\n",
    "\n",
    "    for fuelid in list(purchasetax_dict[scenario].keys()):\n",
    "\n",
    "        for vehicletypeid in list(purchasetax_dict[scenario][fuelid].keys()):\n",
    "\n",
    "            for shi_status in list(purchasetax_dict[scenario][fuelid][vehicletypeid].keys()):\n",
    "\n",
    "                # return dictionary of rates for this year\n",
    "                rates = {}\n",
    "                for rate in list(purchasetax_dict[scenario][fuelid][vehicletypeid][shi_status].keys()):\n",
    "                    rates[rate] = return_interpolated_value(year, fuelid, vehicletypeid, shi_status, scenario, rate, purchasetax_dict)\n",
    "                \n",
    "                # return list of techIDs to which this set of rates applies\n",
    "                techids = technology[(technology.FuelID == fuelid) & (technology.VehTypeID == vehicletypeid) & (technology.SecondHandImportFlag == shi_status)]['TechID'].tolist()\n",
    "                \n",
    "                for techid in techids:\n",
    "\n",
    "                    set_inds = policy_impacts[(policy_impacts.Year == year) & (policy_impacts.TechID == techid)].index.tolist()\n",
    "\n",
    "                    policy_impacts.loc[set_inds, 'PurchaseTax'] = rates['ImportDuty']*technology[technology.TechID == techid]['PurchasePrice'].item() + rates['ExciseDuty']*(1+rates['ImportDuty'])*technology[technology.TechID == techid]['PurchasePrice'].item() + rates['VAT']*(1+rates['ExciseDuty'])*(1+rates['ImportDuty'])*technology[technology.TechID == techid]['PurchasePrice'].item()\n",
    "\n",
    "    return policy_impacts"
   ],
   "metadata": {
    "collapsed": false,
    "ExecuteTime": {
     "end_time": "2023-08-15T11:09:15.243621800Z",
     "start_time": "2023-08-15T11:09:15.217811500Z"
    }
   }
  },
  {
   "cell_type": "code",
   "execution_count": 177,
   "outputs": [
    {
     "name": "stdout",
     "output_type": "stream",
     "text": [
      "doing OMOKA\n",
      "doing ELECTRICDREAMS\n",
      "doing KUJINAO\n",
      "doing STREETFIGHTING\n"
     ]
    }
   ],
   "source": [
    "# re-write taxation policy with scenarios\n",
    "\n",
    "for scenario_name in scenario_names:\n",
    "    \n",
    "    print(f'doing {scenario_name}')\n",
    "    \n",
    "    technology = return_technology()\n",
    "    # policy_impacts = return_policy_impacts()\n",
    "    policy_step1 = return_policy_step1_techtax()\n",
    "\n",
    "    # write base rates\n",
    "    policy_step1 = return_base_rates_policy_impacts(policy_step1, technology)\n",
    "\n",
    "    # change for scenario for each year\n",
    "    for year in range(2012, 2051):\n",
    "        policy_step1 = return_changed_policy_impacts(year, scenario_name, policy_step1, technology, purchasetax_dict)\n",
    "\n",
    "    # save\n",
    "    policy_step1.to_excel(f'./../TEAM-Kenya_data_out/scenarios/Policy_Step1_TechnologyTax{scenario_name}.xlsx', index=False)"
   ],
   "metadata": {
    "collapsed": false,
    "ExecuteTime": {
     "end_time": "2023-08-15T11:14:57.053983800Z",
     "start_time": "2023-08-15T11:09:15.217811500Z"
    }
   }
  }
 ],
 "metadata": {
  "kernelspec": {
   "display_name": "Python 3",
   "language": "python",
   "name": "python3"
  },
  "language_info": {
   "codemirror_mode": {
    "name": "ipython",
    "version": 2
   },
   "file_extension": ".py",
   "mimetype": "text/x-python",
   "name": "python",
   "nbconvert_exporter": "python",
   "pygments_lexer": "ipython2",
   "version": "2.7.6"
  }
 },
 "nbformat": 4,
 "nbformat_minor": 0
}
