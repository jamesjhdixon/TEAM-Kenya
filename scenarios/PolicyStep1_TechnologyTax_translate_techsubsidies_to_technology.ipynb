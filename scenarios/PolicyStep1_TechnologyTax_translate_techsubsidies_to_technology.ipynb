{
 "cells": [
  {
   "cell_type": "markdown",
   "source": [
    "This notebook translates technology subsidy in the scenarios to the required format in policy impact tables\n",
    "\n",
    "v2 (12 May 2023) --> paste it in policy_step1_technologytax and then *ACCEPT* through TEAM UI"
   ],
   "metadata": {
    "collapsed": false
   }
  },
  {
   "cell_type": "code",
   "execution_count": 1,
   "outputs": [],
   "source": [
    "import pandas as pd"
   ],
   "metadata": {
    "collapsed": false,
    "ExecuteTime": {
     "end_time": "2023-08-11T07:58:19.157272600Z",
     "start_time": "2023-08-11T07:58:18.657733400Z"
    }
   }
  },
  {
   "cell_type": "code",
   "execution_count": 2,
   "outputs": [],
   "source": [
    "scenario_names = ['OMOKA', 'ELECTRICDREAMS', 'KUJINAO', 'STREETFIGHTING']"
   ],
   "metadata": {
    "collapsed": false,
    "ExecuteTime": {
     "end_time": "2023-08-11T07:58:19.171842400Z",
     "start_time": "2023-08-11T07:58:19.161116500Z"
    }
   }
  },
  {
   "cell_type": "code",
   "execution_count": 3,
   "outputs": [],
   "source": [
    "# you only need this for PurchasePrice and second-hand import flag\n",
    "def return_technology():\n",
    "    technology = pd.read_excel(f'./../TEAM-Kenya_data_out/original-team-uk-data/Technology.xlsx')\n",
    "    return technology"
   ],
   "metadata": {
    "collapsed": false,
    "ExecuteTime": {
     "end_time": "2023-08-11T07:58:19.171842400Z",
     "start_time": "2023-08-11T07:58:19.167109200Z"
    }
   }
  },
  {
   "cell_type": "code",
   "execution_count": 4,
   "outputs": [],
   "source": [
    "def return_policy_impacts():\n",
    "    policy_impacts = pd.read_excel(f'./../TEAM-Kenya_data_out/original-team-uk-data/Policy_Impacts.xlsx')\n",
    "    return policy_impacts"
   ],
   "metadata": {
    "collapsed": false,
    "ExecuteTime": {
     "end_time": "2023-08-11T07:58:19.171842400Z",
     "start_time": "2023-08-11T07:58:19.167109200Z"
    }
   }
  },
  {
   "cell_type": "code",
   "execution_count": 5,
   "outputs": [],
   "source": [
    "def return_policy_step1_techtax():\n",
    "    policy_step1 = pd.read_excel(f'./../TEAM-Kenya_data_out/original-team-uk-data/Policy_Step1_TechnologyTax.xlsx')\n",
    "    return policy_step1"
   ],
   "metadata": {
    "collapsed": false,
    "ExecuteTime": {
     "end_time": "2023-08-11T07:58:19.183854500Z",
     "start_time": "2023-08-11T07:58:19.176828700Z"
    }
   }
  },
  {
   "cell_type": "code",
   "execution_count": 6,
   "outputs": [],
   "source": [
    "def return_base_rates_policy_impacts(policy_impacts, technology, base_rates={'ImportDuty': 0.25, 'ExciseDuty': 0.2, 'VAT': 0.16}):\n",
    "\n",
    "    for techid in technology.TechID.unique().tolist():\n",
    "\n",
    "        set_inds = policy_impacts[policy_impacts.TechID == techid].index.tolist()\n",
    "\n",
    "        policy_impacts.loc[set_inds, 'PurchaseTax'] = base_rates['ImportDuty']*technology[technology.TechID == techid]['PurchasePrice'].item() + base_rates['ExciseDuty']*(1+base_rates['ImportDuty'])*technology[technology.TechID == techid]['PurchasePrice'].item() + base_rates['VAT']*(1+base_rates['ExciseDuty'])*(1+base_rates['ImportDuty'])*technology[technology.TechID == techid]['PurchasePrice'].item()\n",
    "\n",
    "    return policy_impacts"
   ],
   "metadata": {
    "collapsed": false,
    "ExecuteTime": {
     "end_time": "2023-08-11T07:58:19.183854500Z",
     "start_time": "2023-08-11T07:58:19.178332600Z"
    }
   }
  },
  {
   "cell_type": "code",
   "execution_count": 7,
   "outputs": [],
   "source": [
    "# subsidies can be by FuelID, by VehTypeID.\n",
    "# Narrative: Omoka focussed on growth of public e-mobility so subsidies highest for e-buses. Electric dreams has subsidies highest for e-cars and E2Ws. Street fighting = no subsidies. Kujinao has some subsidies for second-hand imported electric buses\n",
    "\n",
    "# purhcasetax dictionary, by scenario, by fuelid (12=elec), by vehtypeid (1=bike, 2=moto, 3=car, 4=bus, 5=truck, 6=train, 7=ship, 8=plane), by SHI status (SecondHandImportFlag=0 for non-SHI, = 1 for SHI) by variable:value key value pair\n",
    "\n",
    "# omoka - the most subisidsed electric buses\n",
    "purchasetax_dict = {'OMOKA': {12: {2: {0: {'ImportDuty': 0, 'ExciseDuty': 0.1, 'VAT': 0.16}},\n",
    "                            3: {0: {'ImportDuty': 0.25, 'ExciseDuty': 0.1, 'VAT': 0.16}, 1:{'ImportDuty': 0.25, 'ExciseDuty': 0.1, 'VAT': 0.16}},\n",
    "                            4: {0: {'ImportDuty': 0, 'ExciseDuty': 0, 'VAT': 0}, 1:{'ImportDuty': 0, 'ExciseDuty': 0, 'VAT': 0}},\n",
    "                            5: {0: {'ImportDuty': 0, 'ExciseDuty': 0, 'VAT': 0}, 1:{'ImportDuty': 0, 'ExciseDuty': 0, 'VAT': 0}},\n",
    "                            6: {0: {'ImportDuty': 0.25, 'ExciseDuty': 0.1, 'VAT': 0.16}}}},\n",
    "\n",
    "             # electric dreams - the most subsidised EVs.\n",
    "             'ELECTRICDREAMS': {12: {2: {0: {'ImportDuty': 0, 'ExciseDuty': -0.1, 'VAT': 0}},\n",
    "                            3: {0: {'ImportDuty': 0, 'ExciseDuty': -0.1, 'VAT': 0}, 1:{'ImportDuty': 0, 'ExciseDuty': -0.1, 'VAT': 0}},\n",
    "                            4: {0: {'ImportDuty': 0, 'ExciseDuty': 0, 'VAT': 0}, 1:{'ImportDuty': 0, 'ExciseDuty': 0, 'VAT': 0}},\n",
    "                            5: {0: {'ImportDuty': 0, 'ExciseDuty': -0.1, 'VAT': 0}, 1:{'ImportDuty': 0, 'ExciseDuty': -0.1, 'VAT': 0}},\n",
    "                            6: {0: {'ImportDuty': 0, 'ExciseDuty': -0.1, 'VAT': 0}}}},\n",
    "\n",
    "            # kujinao - reflects current kenyan policy as of 2023\n",
    "             'KUJINAO': {12: {2: {0: {'ImportDuty': 0, 'ExciseDuty': 0.1, 'VAT': 0.16}},\n",
    "                            3: {0: {'ImportDuty': 0.25, 'ExciseDuty': 0.15, 'VAT': 0.16}, 1:{'ImportDuty': 0.25, 'ExciseDuty': 0.1, 'VAT': 0.16}},\n",
    "                            4: {0: {'ImportDuty': 0, 'ExciseDuty': 0.1, 'VAT': 0.16}, 1:{'ImportDuty': 0.25, 'ExciseDuty': 0.1, 'VAT': 0.16}},\n",
    "                            5: {0: {'ImportDuty': 0.25, 'ExciseDuty': 0.1, 'VAT': 0.16}, 1:{'ImportDuty': 0.25, 'ExciseDuty': 0.1, 'VAT': 0.16}},\n",
    "                            6: {0: {'ImportDuty': 0.25, 'ExciseDuty': 0.1, 'VAT': 0.16}}}},\n",
    "\n",
    "            # street fighting - no change vs 'base case' (no EV subsidies)\n",
    "             'STREETFIGHTING': {12: {2: {0: {'ImportDuty': 0.25, 'ExciseDuty': 0.2, 'VAT': 0.16}},\n",
    "                            3: {0: {'ImportDuty': 0.25, 'ExciseDuty': 0.2, 'VAT': 0.16}, 1:{'ImportDuty': 0.25, 'ExciseDuty': 0.2, 'VAT': 0.16}},\n",
    "                            4: {0: {'ImportDuty': 0.3, 'ExciseDuty': 0.25, 'VAT': 0.2}, 1:{'ImportDuty': 0.25, 'ExciseDuty': 0.2, 'VAT': 0.16}},\n",
    "                            5: {0: {'ImportDuty': 0.25, 'ExciseDuty': 0.2, 'VAT': 0.16}, 1:{'ImportDuty': 0.25, 'ExciseDuty': 0.2, 'VAT': 0.16}},\n",
    "                            6: {0: {'ImportDuty': 0.25, 'ExciseDuty': 0.2, 'VAT': 0.16}}}}}"
   ],
   "metadata": {
    "collapsed": false,
    "ExecuteTime": {
     "end_time": "2023-08-11T07:58:19.210126900Z",
     "start_time": "2023-08-11T07:58:19.183854500Z"
    }
   }
  },
  {
   "cell_type": "code",
   "execution_count": 8,
   "outputs": [],
   "source": [
    "# function to change those rates based on purchasetax_dictionary\n",
    "def return_changed_policy_impacts(scenario, policy_impacts, technology):\n",
    "\n",
    "    for fuelid in list(purchasetax_dict[scenario].keys()):\n",
    "\n",
    "        for vehicletypeid in list(purchasetax_dict[scenario][fuelid].keys()):\n",
    "\n",
    "            for shi_status in list(purchasetax_dict[scenario][fuelid][vehicletypeid].keys()):\n",
    "\n",
    "                # return dictionary of rates\n",
    "                rates = purchasetax_dict[scenario][fuelid][vehicletypeid][shi_status]\n",
    "\n",
    "                # return list of techIDs to which this set of rates applies\n",
    "                techids = technology[(technology.FuelID == fuelid) & (technology.VehTypeID == vehicletypeid) & (technology.SecondHandImportFlag == shi_status)]['TechID'].tolist()\n",
    "\n",
    "                for techid in techids:\n",
    "\n",
    "                    set_inds = policy_impacts[policy_impacts.TechID == techid].index.tolist()\n",
    "\n",
    "                    policy_impacts.loc[set_inds, 'PurchaseTax'] = rates['ImportDuty']*technology[technology.TechID == techid]['PurchasePrice'].item() + rates['ExciseDuty']*(1+rates['ImportDuty'])*technology[technology.TechID == techid]['PurchasePrice'].item() + rates['VAT']*(1+rates['ExciseDuty'])*(1+rates['ImportDuty'])*technology[technology.TechID == techid]['PurchasePrice'].item()\n",
    "\n",
    "    return policy_impacts"
   ],
   "metadata": {
    "collapsed": false,
    "ExecuteTime": {
     "end_time": "2023-08-11T07:58:19.210126900Z",
     "start_time": "2023-08-11T07:58:19.197509100Z"
    }
   }
  },
  {
   "cell_type": "code",
   "execution_count": 9,
   "outputs": [],
   "source": [
    "# re-write taxation policy with scenarios\n",
    "\n",
    "for scenario_name in scenario_names:\n",
    "\n",
    "    technology = return_technology()\n",
    "    # policy_impacts = return_policy_impacts()\n",
    "    policy_step1 = return_policy_step1_techtax()\n",
    "\n",
    "    # write base rates\n",
    "    policy_step1 = return_base_rates_policy_impacts(policy_step1, technology)\n",
    "\n",
    "    # change for scenario\n",
    "    policy_step1 = return_changed_policy_impacts(scenario_name, policy_step1, technology)\n",
    "\n",
    "    # save\n",
    "    policy_step1.to_excel(f'./../TEAM-Kenya_data_out/scenarios/Policy_Step1_TechnologyTax{scenario_name}.xlsx', index=False)"
   ],
   "metadata": {
    "collapsed": false,
    "ExecuteTime": {
     "end_time": "2023-08-11T08:02:27.057945900Z",
     "start_time": "2023-08-11T07:58:19.205123600Z"
    }
   }
  }
 ],
 "metadata": {
  "kernelspec": {
   "display_name": "Python 3",
   "language": "python",
   "name": "python3"
  },
  "language_info": {
   "codemirror_mode": {
    "name": "ipython",
    "version": 2
   },
   "file_extension": ".py",
   "mimetype": "text/x-python",
   "name": "python",
   "nbconvert_exporter": "python",
   "pygments_lexer": "ipython2",
   "version": "2.7.6"
  }
 },
 "nbformat": 4,
 "nbformat_minor": 0
}
