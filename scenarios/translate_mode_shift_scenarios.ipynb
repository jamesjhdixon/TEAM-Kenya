{
 "cells": [
  {
   "cell_type": "markdown",
   "source": [
    "This notebook translates data in the format of the scenario workshops (in the format developed by Christian) to the one used in TEAM."
   ],
   "metadata": {
    "collapsed": false
   }
  },
  {
   "cell_type": "code",
   "execution_count": 79,
   "outputs": [],
   "source": [
    "import pandas as pd"
   ],
   "metadata": {
    "collapsed": false
   }
  },
  {
   "cell_type": "code",
   "execution_count": 80,
   "outputs": [],
   "source": [
    "# enter scenario name\n",
    "scenario_name = ''"
   ],
   "metadata": {
    "collapsed": false
   }
  },
  {
   "cell_type": "code",
   "execution_count": 81,
   "outputs": [
    {
     "data": {
      "text/plain": "        ScenarioID  CountryID  PolicyID  Year  triplenID  shiftfromID  \\\n0                1          9         0  2012          1            1   \n1                1          9         0  2012          1            1   \n2                1          9         0  2012          1            1   \n3                1          9         0  2012          1            1   \n4                1          9         0  2012          1            1   \n...            ...        ...       ...   ...        ...          ...   \n102523           1          9         0  2100          8           12   \n102524           1          9         0  2100          8           12   \n102525           1          9         0  2100          8           12   \n102526           1          9         0  2100          8           12   \n102527           1          9         0  2100          8           12   \n\n        shifttoID   ms  \n0               1  1.0  \n1               2  0.0  \n2               3  0.0  \n3               4  0.0  \n4               5  0.0  \n...           ...  ...  \n102523          8  0.0  \n102524          9  0.0  \n102525         10  0.0  \n102526         11  0.0  \n102527         12  1.0  \n\n[102528 rows x 8 columns]",
      "text/html": "<div>\n<style scoped>\n    .dataframe tbody tr th:only-of-type {\n        vertical-align: middle;\n    }\n\n    .dataframe tbody tr th {\n        vertical-align: top;\n    }\n\n    .dataframe thead th {\n        text-align: right;\n    }\n</style>\n<table border=\"1\" class=\"dataframe\">\n  <thead>\n    <tr style=\"text-align: right;\">\n      <th></th>\n      <th>ScenarioID</th>\n      <th>CountryID</th>\n      <th>PolicyID</th>\n      <th>Year</th>\n      <th>triplenID</th>\n      <th>shiftfromID</th>\n      <th>shifttoID</th>\n      <th>ms</th>\n    </tr>\n  </thead>\n  <tbody>\n    <tr>\n      <th>0</th>\n      <td>1</td>\n      <td>9</td>\n      <td>0</td>\n      <td>2012</td>\n      <td>1</td>\n      <td>1</td>\n      <td>1</td>\n      <td>1.0</td>\n    </tr>\n    <tr>\n      <th>1</th>\n      <td>1</td>\n      <td>9</td>\n      <td>0</td>\n      <td>2012</td>\n      <td>1</td>\n      <td>1</td>\n      <td>2</td>\n      <td>0.0</td>\n    </tr>\n    <tr>\n      <th>2</th>\n      <td>1</td>\n      <td>9</td>\n      <td>0</td>\n      <td>2012</td>\n      <td>1</td>\n      <td>1</td>\n      <td>3</td>\n      <td>0.0</td>\n    </tr>\n    <tr>\n      <th>3</th>\n      <td>1</td>\n      <td>9</td>\n      <td>0</td>\n      <td>2012</td>\n      <td>1</td>\n      <td>1</td>\n      <td>4</td>\n      <td>0.0</td>\n    </tr>\n    <tr>\n      <th>4</th>\n      <td>1</td>\n      <td>9</td>\n      <td>0</td>\n      <td>2012</td>\n      <td>1</td>\n      <td>1</td>\n      <td>5</td>\n      <td>0.0</td>\n    </tr>\n    <tr>\n      <th>...</th>\n      <td>...</td>\n      <td>...</td>\n      <td>...</td>\n      <td>...</td>\n      <td>...</td>\n      <td>...</td>\n      <td>...</td>\n      <td>...</td>\n    </tr>\n    <tr>\n      <th>102523</th>\n      <td>1</td>\n      <td>9</td>\n      <td>0</td>\n      <td>2100</td>\n      <td>8</td>\n      <td>12</td>\n      <td>8</td>\n      <td>0.0</td>\n    </tr>\n    <tr>\n      <th>102524</th>\n      <td>1</td>\n      <td>9</td>\n      <td>0</td>\n      <td>2100</td>\n      <td>8</td>\n      <td>12</td>\n      <td>9</td>\n      <td>0.0</td>\n    </tr>\n    <tr>\n      <th>102525</th>\n      <td>1</td>\n      <td>9</td>\n      <td>0</td>\n      <td>2100</td>\n      <td>8</td>\n      <td>12</td>\n      <td>10</td>\n      <td>0.0</td>\n    </tr>\n    <tr>\n      <th>102526</th>\n      <td>1</td>\n      <td>9</td>\n      <td>0</td>\n      <td>2100</td>\n      <td>8</td>\n      <td>12</td>\n      <td>11</td>\n      <td>0.0</td>\n    </tr>\n    <tr>\n      <th>102527</th>\n      <td>1</td>\n      <td>9</td>\n      <td>0</td>\n      <td>2100</td>\n      <td>8</td>\n      <td>12</td>\n      <td>12</td>\n      <td>1.0</td>\n    </tr>\n  </tbody>\n</table>\n<p>102528 rows × 8 columns</p>\n</div>"
     },
     "execution_count": 81,
     "metadata": {},
     "output_type": "execute_result"
    }
   ],
   "source": [
    "ms = pd.read_excel(f'./../TEAM-Kenya_data_out/Mode_Shift.xlsx')\n",
    "ms"
   ],
   "metadata": {
    "collapsed": false
   }
  },
  {
   "cell_type": "code",
   "execution_count": 82,
   "outputs": [
    {
     "data": {
      "text/plain": "    Year  TripLength1_FromMode3_ToMode1  TripLength1_FromMode3_ToMode2  \\\n0   2012                           0.00                              0   \n1   2013                           0.00                              0   \n2   2014                           0.00                              0   \n3   2015                           0.00                              0   \n4   2016                           0.00                              0   \n..   ...                            ...                            ...   \n84  2096                           0.05                              0   \n85  2097                           0.05                              0   \n86  2098                           0.05                              0   \n87  2099                           0.05                              0   \n88  2100                           0.05                              0   \n\n    TripLength1_FromMode3_ToMode3  TripLength1_FromMode3_ToMode4  \\\n0                            1.00                              0   \n1                            1.00                              0   \n2                            1.00                              0   \n3                            1.00                              0   \n4                            1.00                              0   \n..                            ...                            ...   \n84                           0.95                              0   \n85                           0.95                              0   \n86                           0.95                              0   \n87                           0.95                              0   \n88                           0.95                              0   \n\n    TripLength1_FromMode3_ToMode5  TripLength1_FromMode3_ToMode6  \\\n0                               0                              0   \n1                               0                              0   \n2                               0                              0   \n3                               0                              0   \n4                               0                              0   \n..                            ...                            ...   \n84                              0                              0   \n85                              0                              0   \n86                              0                              0   \n87                              0                              0   \n88                              0                              0   \n\n    TripLength1_FromMode3_ToMode7  TripLength1_FromMode3_ToMode8  \\\n0                               0                              0   \n1                               0                              0   \n2                               0                              0   \n3                               0                              0   \n4                               0                              0   \n..                            ...                            ...   \n84                              0                              0   \n85                              0                              0   \n86                              0                              0   \n87                              0                              0   \n88                              0                              0   \n\n    TripLength1_FromMode3_ToMode9  ...  TripLength8_FromMode11_ToMode3  \\\n0                               0  ...                               0   \n1                               0  ...                               0   \n2                               0  ...                               0   \n3                               0  ...                               0   \n4                               0  ...                               0   \n..                            ...  ...                             ...   \n84                              0  ...                               0   \n85                              0  ...                               0   \n86                              0  ...                               0   \n87                              0  ...                               0   \n88                              0  ...                               0   \n\n    TripLength8_FromMode11_ToMode4  TripLength8_FromMode11_ToMode5  \\\n0                                0                               0   \n1                                0                               0   \n2                                0                               0   \n3                                0                               0   \n4                                0                               0   \n..                             ...                             ...   \n84                               0                               0   \n85                               0                               0   \n86                               0                               0   \n87                               0                               0   \n88                               0                               0   \n\n    TripLength8_FromMode11_ToMode6  TripLength8_FromMode11_ToMode7  \\\n0                                0                               0   \n1                                0                               0   \n2                                0                               0   \n3                                0                               0   \n4                                0                               0   \n..                             ...                             ...   \n84                               0                               0   \n85                               0                               0   \n86                               0                               0   \n87                               0                               0   \n88                               0                               0   \n\n    TripLength8_FromMode11_ToMode8  TripLength8_FromMode11_ToMode9  \\\n0                            0.000                               0   \n1                            0.000                               0   \n2                            0.000                               0   \n3                            0.000                               0   \n4                            0.000                               0   \n..                             ...                             ...   \n84                           0.242                               0   \n85                           0.244                               0   \n86                           0.246                               0   \n87                           0.248                               0   \n88                           0.250                               0   \n\n    TripLength8_FromMode11_ToMode10  TripLength8_FromMode11_ToMode11  \\\n0                                 0                            1.000   \n1                                 0                            1.000   \n2                                 0                            1.000   \n3                                 0                            1.000   \n4                                 0                            1.000   \n..                              ...                              ...   \n84                                0                            0.758   \n85                                0                            0.756   \n86                                0                            0.754   \n87                                0                            0.752   \n88                                0                            0.750   \n\n    TripLength8_FromMode11_ToMode12  \n0                                 0  \n1                                 0  \n2                                 0  \n3                                 0  \n4                                 0  \n..                              ...  \n84                                0  \n85                                0  \n86                                0  \n87                                0  \n88                                0  \n\n[89 rows x 397 columns]",
      "text/html": "<div>\n<style scoped>\n    .dataframe tbody tr th:only-of-type {\n        vertical-align: middle;\n    }\n\n    .dataframe tbody tr th {\n        vertical-align: top;\n    }\n\n    .dataframe thead th {\n        text-align: right;\n    }\n</style>\n<table border=\"1\" class=\"dataframe\">\n  <thead>\n    <tr style=\"text-align: right;\">\n      <th></th>\n      <th>Year</th>\n      <th>TripLength1_FromMode3_ToMode1</th>\n      <th>TripLength1_FromMode3_ToMode2</th>\n      <th>TripLength1_FromMode3_ToMode3</th>\n      <th>TripLength1_FromMode3_ToMode4</th>\n      <th>TripLength1_FromMode3_ToMode5</th>\n      <th>TripLength1_FromMode3_ToMode6</th>\n      <th>TripLength1_FromMode3_ToMode7</th>\n      <th>TripLength1_FromMode3_ToMode8</th>\n      <th>TripLength1_FromMode3_ToMode9</th>\n      <th>...</th>\n      <th>TripLength8_FromMode11_ToMode3</th>\n      <th>TripLength8_FromMode11_ToMode4</th>\n      <th>TripLength8_FromMode11_ToMode5</th>\n      <th>TripLength8_FromMode11_ToMode6</th>\n      <th>TripLength8_FromMode11_ToMode7</th>\n      <th>TripLength8_FromMode11_ToMode8</th>\n      <th>TripLength8_FromMode11_ToMode9</th>\n      <th>TripLength8_FromMode11_ToMode10</th>\n      <th>TripLength8_FromMode11_ToMode11</th>\n      <th>TripLength8_FromMode11_ToMode12</th>\n    </tr>\n  </thead>\n  <tbody>\n    <tr>\n      <th>0</th>\n      <td>2012</td>\n      <td>0.00</td>\n      <td>0</td>\n      <td>1.00</td>\n      <td>0</td>\n      <td>0</td>\n      <td>0</td>\n      <td>0</td>\n      <td>0</td>\n      <td>0</td>\n      <td>...</td>\n      <td>0</td>\n      <td>0</td>\n      <td>0</td>\n      <td>0</td>\n      <td>0</td>\n      <td>0.000</td>\n      <td>0</td>\n      <td>0</td>\n      <td>1.000</td>\n      <td>0</td>\n    </tr>\n    <tr>\n      <th>1</th>\n      <td>2013</td>\n      <td>0.00</td>\n      <td>0</td>\n      <td>1.00</td>\n      <td>0</td>\n      <td>0</td>\n      <td>0</td>\n      <td>0</td>\n      <td>0</td>\n      <td>0</td>\n      <td>...</td>\n      <td>0</td>\n      <td>0</td>\n      <td>0</td>\n      <td>0</td>\n      <td>0</td>\n      <td>0.000</td>\n      <td>0</td>\n      <td>0</td>\n      <td>1.000</td>\n      <td>0</td>\n    </tr>\n    <tr>\n      <th>2</th>\n      <td>2014</td>\n      <td>0.00</td>\n      <td>0</td>\n      <td>1.00</td>\n      <td>0</td>\n      <td>0</td>\n      <td>0</td>\n      <td>0</td>\n      <td>0</td>\n      <td>0</td>\n      <td>...</td>\n      <td>0</td>\n      <td>0</td>\n      <td>0</td>\n      <td>0</td>\n      <td>0</td>\n      <td>0.000</td>\n      <td>0</td>\n      <td>0</td>\n      <td>1.000</td>\n      <td>0</td>\n    </tr>\n    <tr>\n      <th>3</th>\n      <td>2015</td>\n      <td>0.00</td>\n      <td>0</td>\n      <td>1.00</td>\n      <td>0</td>\n      <td>0</td>\n      <td>0</td>\n      <td>0</td>\n      <td>0</td>\n      <td>0</td>\n      <td>...</td>\n      <td>0</td>\n      <td>0</td>\n      <td>0</td>\n      <td>0</td>\n      <td>0</td>\n      <td>0.000</td>\n      <td>0</td>\n      <td>0</td>\n      <td>1.000</td>\n      <td>0</td>\n    </tr>\n    <tr>\n      <th>4</th>\n      <td>2016</td>\n      <td>0.00</td>\n      <td>0</td>\n      <td>1.00</td>\n      <td>0</td>\n      <td>0</td>\n      <td>0</td>\n      <td>0</td>\n      <td>0</td>\n      <td>0</td>\n      <td>...</td>\n      <td>0</td>\n      <td>0</td>\n      <td>0</td>\n      <td>0</td>\n      <td>0</td>\n      <td>0.000</td>\n      <td>0</td>\n      <td>0</td>\n      <td>1.000</td>\n      <td>0</td>\n    </tr>\n    <tr>\n      <th>...</th>\n      <td>...</td>\n      <td>...</td>\n      <td>...</td>\n      <td>...</td>\n      <td>...</td>\n      <td>...</td>\n      <td>...</td>\n      <td>...</td>\n      <td>...</td>\n      <td>...</td>\n      <td>...</td>\n      <td>...</td>\n      <td>...</td>\n      <td>...</td>\n      <td>...</td>\n      <td>...</td>\n      <td>...</td>\n      <td>...</td>\n      <td>...</td>\n      <td>...</td>\n      <td>...</td>\n    </tr>\n    <tr>\n      <th>84</th>\n      <td>2096</td>\n      <td>0.05</td>\n      <td>0</td>\n      <td>0.95</td>\n      <td>0</td>\n      <td>0</td>\n      <td>0</td>\n      <td>0</td>\n      <td>0</td>\n      <td>0</td>\n      <td>...</td>\n      <td>0</td>\n      <td>0</td>\n      <td>0</td>\n      <td>0</td>\n      <td>0</td>\n      <td>0.242</td>\n      <td>0</td>\n      <td>0</td>\n      <td>0.758</td>\n      <td>0</td>\n    </tr>\n    <tr>\n      <th>85</th>\n      <td>2097</td>\n      <td>0.05</td>\n      <td>0</td>\n      <td>0.95</td>\n      <td>0</td>\n      <td>0</td>\n      <td>0</td>\n      <td>0</td>\n      <td>0</td>\n      <td>0</td>\n      <td>...</td>\n      <td>0</td>\n      <td>0</td>\n      <td>0</td>\n      <td>0</td>\n      <td>0</td>\n      <td>0.244</td>\n      <td>0</td>\n      <td>0</td>\n      <td>0.756</td>\n      <td>0</td>\n    </tr>\n    <tr>\n      <th>86</th>\n      <td>2098</td>\n      <td>0.05</td>\n      <td>0</td>\n      <td>0.95</td>\n      <td>0</td>\n      <td>0</td>\n      <td>0</td>\n      <td>0</td>\n      <td>0</td>\n      <td>0</td>\n      <td>...</td>\n      <td>0</td>\n      <td>0</td>\n      <td>0</td>\n      <td>0</td>\n      <td>0</td>\n      <td>0.246</td>\n      <td>0</td>\n      <td>0</td>\n      <td>0.754</td>\n      <td>0</td>\n    </tr>\n    <tr>\n      <th>87</th>\n      <td>2099</td>\n      <td>0.05</td>\n      <td>0</td>\n      <td>0.95</td>\n      <td>0</td>\n      <td>0</td>\n      <td>0</td>\n      <td>0</td>\n      <td>0</td>\n      <td>0</td>\n      <td>...</td>\n      <td>0</td>\n      <td>0</td>\n      <td>0</td>\n      <td>0</td>\n      <td>0</td>\n      <td>0.248</td>\n      <td>0</td>\n      <td>0</td>\n      <td>0.752</td>\n      <td>0</td>\n    </tr>\n    <tr>\n      <th>88</th>\n      <td>2100</td>\n      <td>0.05</td>\n      <td>0</td>\n      <td>0.95</td>\n      <td>0</td>\n      <td>0</td>\n      <td>0</td>\n      <td>0</td>\n      <td>0</td>\n      <td>0</td>\n      <td>...</td>\n      <td>0</td>\n      <td>0</td>\n      <td>0</td>\n      <td>0</td>\n      <td>0</td>\n      <td>0.250</td>\n      <td>0</td>\n      <td>0</td>\n      <td>0.750</td>\n      <td>0</td>\n    </tr>\n  </tbody>\n</table>\n<p>89 rows × 397 columns</p>\n</div>"
     },
     "execution_count": 82,
     "metadata": {},
     "output_type": "execute_result"
    }
   ],
   "source": [
    "df = pd.read_excel(f'mode_shift_setup_Kenya{scenario_name}.xlsx', skiprows=[0])\n",
    "df"
   ],
   "metadata": {
    "collapsed": false
   }
  },
  {
   "cell_type": "code",
   "execution_count": 83,
   "outputs": [],
   "source": [
    "triplengths = range(1, 9)\n",
    "from_modes = range(1, 13)\n",
    "to_modes = range(1, 13)\n",
    "years = range(2012, 2101)"
   ],
   "metadata": {
    "collapsed": false
   }
  },
  {
   "cell_type": "code",
   "execution_count": 84,
   "outputs": [],
   "source": [
    "for triplength in triplengths:\n",
    "\n",
    "    for from_mode in from_modes:\n",
    "\n",
    "        for to_mode in to_modes:\n",
    "\n",
    "            if f'TripLength{triplength}_FromMode{from_mode}_ToMode{to_mode}' in df.columns.tolist():\n",
    "                col_name = f'TripLength{triplength}_FromMode{from_mode}_ToMode{to_mode}'\n",
    "\n",
    "                # fill data\n",
    "                for year in years:\n",
    "\n",
    "                    # find the index to fill for this data point in ms\n",
    "                    set_ind = ms[(ms.Year == year) & (ms.triplenID == triplength) & (ms.shiftfromID == from_mode) & (ms.shifttoID == to_mode)]['ms'].index.tolist()[0]\n",
    "\n",
    "                    # set equal\n",
    "                    ms.at[set_ind, 'ms'] = df[df.Year==year][col_name].item()"
   ],
   "metadata": {
    "collapsed": false
   }
  },
  {
   "cell_type": "code",
   "execution_count": 85,
   "outputs": [],
   "source": [
    "# save\n",
    "ms.to_excel(f'./../TEAM-Kenya_data_out/Mode_Shift{scenario_name}.xlsx', index=False)"
   ],
   "metadata": {
    "collapsed": false
   }
  }
 ],
 "metadata": {
  "kernelspec": {
   "display_name": "Python 3",
   "language": "python",
   "name": "python3"
  },
  "language_info": {
   "codemirror_mode": {
    "name": "ipython",
    "version": 2
   },
   "file_extension": ".py",
   "mimetype": "text/x-python",
   "name": "python",
   "nbconvert_exporter": "python",
   "pygments_lexer": "ipython2",
   "version": "2.7.6"
  }
 },
 "nbformat": 4,
 "nbformat_minor": 0
}
