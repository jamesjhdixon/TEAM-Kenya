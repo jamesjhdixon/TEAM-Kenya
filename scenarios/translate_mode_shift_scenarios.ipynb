{
 "cells": [
  {
   "cell_type": "markdown",
   "source": [
    "This notebook translates data in the format of the scenario workshops (in the format developed by Christian) to the one used in TEAM."
   ],
   "metadata": {
    "collapsed": false
   }
  },
  {
   "cell_type": "code",
   "execution_count": 20,
   "outputs": [],
   "source": [
    "import pandas as pd"
   ],
   "metadata": {
    "collapsed": false
   }
  },
  {
   "cell_type": "code",
   "execution_count": 21,
   "outputs": [],
   "source": [
    "# enter scenario name\n",
    "scenario_names = ['OMOKA', 'ELECTRICDREAMS', 'KUJINAO', 'STREETFIGHTING']"
   ],
   "metadata": {
    "collapsed": false
   }
  },
  {
   "cell_type": "code",
   "execution_count": 22,
   "outputs": [
    {
     "data": {
      "text/plain": "        Unnamed: 0  ScenarioID  CountryID  PolicyID  Year  triplenID  \\\n0                0           1          9         0  2012          1   \n1                1           1          9         0  2012          1   \n2                2           1          9         0  2012          1   \n3                3           1          9         0  2012          1   \n4                4           1          9         0  2012          1   \n...            ...         ...        ...       ...   ...        ...   \n102523      102523           1          9         0  2100          8   \n102524      102524           1          9         0  2100          8   \n102525      102525           1          9         0  2100          8   \n102526      102526           1          9         0  2100          8   \n102527      102527           1          9         0  2100          8   \n\n        shiftfromID  shifttoID   ms  \n0                 1          1  1.0  \n1                 1          2  0.0  \n2                 1          3  0.0  \n3                 1          4  0.0  \n4                 1          5  0.0  \n...             ...        ...  ...  \n102523           12          8  0.0  \n102524           12          9  0.0  \n102525           12         10  0.0  \n102526           12         11  0.0  \n102527           12         12  1.0  \n\n[102528 rows x 9 columns]",
      "text/html": "<div>\n<style scoped>\n    .dataframe tbody tr th:only-of-type {\n        vertical-align: middle;\n    }\n\n    .dataframe tbody tr th {\n        vertical-align: top;\n    }\n\n    .dataframe thead th {\n        text-align: right;\n    }\n</style>\n<table border=\"1\" class=\"dataframe\">\n  <thead>\n    <tr style=\"text-align: right;\">\n      <th></th>\n      <th>Unnamed: 0</th>\n      <th>ScenarioID</th>\n      <th>CountryID</th>\n      <th>PolicyID</th>\n      <th>Year</th>\n      <th>triplenID</th>\n      <th>shiftfromID</th>\n      <th>shifttoID</th>\n      <th>ms</th>\n    </tr>\n  </thead>\n  <tbody>\n    <tr>\n      <th>0</th>\n      <td>0</td>\n      <td>1</td>\n      <td>9</td>\n      <td>0</td>\n      <td>2012</td>\n      <td>1</td>\n      <td>1</td>\n      <td>1</td>\n      <td>1.0</td>\n    </tr>\n    <tr>\n      <th>1</th>\n      <td>1</td>\n      <td>1</td>\n      <td>9</td>\n      <td>0</td>\n      <td>2012</td>\n      <td>1</td>\n      <td>1</td>\n      <td>2</td>\n      <td>0.0</td>\n    </tr>\n    <tr>\n      <th>2</th>\n      <td>2</td>\n      <td>1</td>\n      <td>9</td>\n      <td>0</td>\n      <td>2012</td>\n      <td>1</td>\n      <td>1</td>\n      <td>3</td>\n      <td>0.0</td>\n    </tr>\n    <tr>\n      <th>3</th>\n      <td>3</td>\n      <td>1</td>\n      <td>9</td>\n      <td>0</td>\n      <td>2012</td>\n      <td>1</td>\n      <td>1</td>\n      <td>4</td>\n      <td>0.0</td>\n    </tr>\n    <tr>\n      <th>4</th>\n      <td>4</td>\n      <td>1</td>\n      <td>9</td>\n      <td>0</td>\n      <td>2012</td>\n      <td>1</td>\n      <td>1</td>\n      <td>5</td>\n      <td>0.0</td>\n    </tr>\n    <tr>\n      <th>...</th>\n      <td>...</td>\n      <td>...</td>\n      <td>...</td>\n      <td>...</td>\n      <td>...</td>\n      <td>...</td>\n      <td>...</td>\n      <td>...</td>\n      <td>...</td>\n    </tr>\n    <tr>\n      <th>102523</th>\n      <td>102523</td>\n      <td>1</td>\n      <td>9</td>\n      <td>0</td>\n      <td>2100</td>\n      <td>8</td>\n      <td>12</td>\n      <td>8</td>\n      <td>0.0</td>\n    </tr>\n    <tr>\n      <th>102524</th>\n      <td>102524</td>\n      <td>1</td>\n      <td>9</td>\n      <td>0</td>\n      <td>2100</td>\n      <td>8</td>\n      <td>12</td>\n      <td>9</td>\n      <td>0.0</td>\n    </tr>\n    <tr>\n      <th>102525</th>\n      <td>102525</td>\n      <td>1</td>\n      <td>9</td>\n      <td>0</td>\n      <td>2100</td>\n      <td>8</td>\n      <td>12</td>\n      <td>10</td>\n      <td>0.0</td>\n    </tr>\n    <tr>\n      <th>102526</th>\n      <td>102526</td>\n      <td>1</td>\n      <td>9</td>\n      <td>0</td>\n      <td>2100</td>\n      <td>8</td>\n      <td>12</td>\n      <td>11</td>\n      <td>0.0</td>\n    </tr>\n    <tr>\n      <th>102527</th>\n      <td>102527</td>\n      <td>1</td>\n      <td>9</td>\n      <td>0</td>\n      <td>2100</td>\n      <td>8</td>\n      <td>12</td>\n      <td>12</td>\n      <td>1.0</td>\n    </tr>\n  </tbody>\n</table>\n<p>102528 rows × 9 columns</p>\n</div>"
     },
     "execution_count": 22,
     "metadata": {},
     "output_type": "execute_result"
    }
   ],
   "source": [
    "ms = pd.read_excel(f'./../TEAM-Kenya_data_out/Mode_Shift.xlsx')\n",
    "ms"
   ],
   "metadata": {
    "collapsed": false
   }
  },
  {
   "cell_type": "code",
   "execution_count": 23,
   "outputs": [],
   "source": [
    "def df_load(scenario_name):\n",
    "    df = pd.read_excel(f'mode_shift_setup_Kenya.xlsx', sheet_name=f'KEN_{scenario_name}', skiprows=[0])\n",
    "    return df"
   ],
   "metadata": {
    "collapsed": false
   }
  },
  {
   "cell_type": "code",
   "execution_count": 24,
   "outputs": [],
   "source": [
    "triplengths = range(1, 9)\n",
    "from_modes = range(1, 13)\n",
    "to_modes = range(1, 13)\n",
    "years = range(2012, 2101)"
   ],
   "metadata": {
    "collapsed": false
   }
  },
  {
   "cell_type": "code",
   "execution_count": 25,
   "outputs": [],
   "source": [
    "for scenario_name in scenario_names:\n",
    "\n",
    "    df = df_load(scenario_name)\n",
    "\n",
    "    for triplength in triplengths:\n",
    "\n",
    "        for from_mode in from_modes:\n",
    "\n",
    "            for to_mode in to_modes:\n",
    "\n",
    "                if f'TripLength{triplength}_FromMode{from_mode}_ToMode{to_mode}' in df.columns.tolist():\n",
    "                    col_name = f'TripLength{triplength}_FromMode{from_mode}_ToMode{to_mode}'\n",
    "\n",
    "                    # fill data\n",
    "                    for year in years:\n",
    "\n",
    "                        # find the index to fill for this data point in ms\n",
    "                        set_ind = ms[(ms.Year == year) & (ms.triplenID == triplength) & (ms.shiftfromID == from_mode) & (ms.shifttoID == to_mode)]['ms'].index.tolist()[0]\n",
    "\n",
    "                        # set equal\n",
    "                        ms.at[set_ind, 'ms'] = df[df.Year==year][col_name].item()\n",
    "\n",
    "    # save\n",
    "    ms.to_excel(f'./../TEAM-Kenya_data_out/Mode_Shift{scenario_name}.xlsx', index=False)"
   ],
   "metadata": {
    "collapsed": false
   }
  }
 ],
 "metadata": {
  "kernelspec": {
   "display_name": "Python 3",
   "language": "python",
   "name": "python3"
  },
  "language_info": {
   "codemirror_mode": {
    "name": "ipython",
    "version": 2
   },
   "file_extension": ".py",
   "mimetype": "text/x-python",
   "name": "python",
   "nbconvert_exporter": "python",
   "pygments_lexer": "ipython2",
   "version": "2.7.6"
  }
 },
 "nbformat": 4,
 "nbformat_minor": 0
}
