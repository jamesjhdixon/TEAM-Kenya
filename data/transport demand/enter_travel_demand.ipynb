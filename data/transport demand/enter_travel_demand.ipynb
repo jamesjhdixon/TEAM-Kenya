{
 "cells": [
  {
   "cell_type": "markdown",
   "source": [
    "This notebook enters the travel demand into the travel_demand sheet. to be improved following Eric's work"
   ],
   "metadata": {
    "collapsed": false,
    "pycharm": {
     "name": "#%% md\n"
    }
   }
  },
  {
   "cell_type": "code",
   "execution_count": 2,
   "outputs": [],
   "source": [
    "import pandas as pd"
   ],
   "metadata": {
    "collapsed": false,
    "pycharm": {
     "name": "#%%\n"
    }
   }
  },
  {
   "cell_type": "code",
   "execution_count": 3,
   "outputs": [
    {
     "data": {
      "text/plain": "    ScenarioID  CountryID  PolicyID  Year   Trips_Com  chTrips_Com_Ageing  \\\n0            1          9         0  2012  147.123993            1.000000   \n1            1          9         0  2013  145.859680            0.999591   \n2            1          9         0  2014  148.197998            0.999079   \n3            1          9         0  2015  143.379272            0.998720   \n4            1          9         0  2016  144.197952            0.998413   \n..         ...        ...       ...   ...         ...                 ...   \n84           1          9         0  2096  123.022781            0.941449   \n85           1          9         0  2097  122.999283            0.941269   \n86           1          9         0  2098  122.978004            0.941106   \n87           1          9         0  2099  122.958557            0.940957   \n88           1          9         0  2100  122.940399            0.940818   \n\n    chTrips_Com_TeleWork  chTrips4dayweek  chTripsComGig   ATL_Com  ...  \\\n0               1.000000            1.000       1.000000  8.900050  ...   \n1               1.000000            1.000       0.991812  8.771302  ...   \n2               1.000000            1.000       1.008229  8.697289  ...   \n3               1.000000            1.000       0.975796  9.116610  ...   \n4               1.000000            1.000       0.981670  8.971702  ...   \n..                   ...              ...            ...       ...  ...   \n84              0.927835            0.975       0.981816  8.618203  ...   \n85              0.927835            0.975       0.981816  8.618203  ...   \n86              0.927835            0.975       0.981816  8.618203  ...   \n87              0.927835            0.975       0.981816  8.618203  ...   \n88              0.927835            0.975       0.981816  8.618203  ...   \n\n         td_all    OR_com   OR_busi  OR_leilong  OR_leiloc  OR_school  \\\n0   6607.292969  1.117497  1.098954    2.046046   2.046046   1.914174   \n1   6637.943848  1.117497  1.098954    2.046049   2.046049   1.914177   \n2   6508.682617  1.117497  1.098954    2.046050   2.046049   1.914177   \n3   6654.992676  1.117497  1.098954    2.046050   2.046049   1.914177   \n4   6615.688965  1.117497  1.098954    2.046049   2.046049   1.914177   \n..          ...       ...       ...         ...        ...        ...   \n84  6646.553711  1.132807  1.111848    2.182353   2.182353   2.033296   \n85  6647.082031  1.132807  1.111848    2.182353   2.182353   2.033296   \n86  6647.561523  1.132807  1.111848    2.182353   2.182353   2.033296   \n87  6648.000488  1.132807  1.111848    2.182353   2.182353   2.033296   \n88  6648.408691  1.132807  1.111848    2.182353   2.182353   2.033296   \n\n     OR_shop     OR_pb  OR_other    OR_avg  \n0   1.600436  1.587386  1.536749  1.553013  \n1   1.600437  1.587388  1.536751  1.557800  \n2   1.600437  1.587388  1.536751  1.547847  \n3   1.600437  1.587388  1.536751  1.556540  \n4   1.600437  1.587388  1.536751  1.553172  \n..       ...       ...       ...       ...  \n84  1.678676  1.663926  1.606691  1.679334  \n85  1.678676  1.663926  1.606691  1.679399  \n86  1.678676  1.663926  1.606691  1.679458  \n87  1.678676  1.663926  1.606691  1.679512  \n88  1.678676  1.663926  1.606691  1.679562  \n\n[89 rows x 179 columns]",
      "text/html": "<div>\n<style scoped>\n    .dataframe tbody tr th:only-of-type {\n        vertical-align: middle;\n    }\n\n    .dataframe tbody tr th {\n        vertical-align: top;\n    }\n\n    .dataframe thead th {\n        text-align: right;\n    }\n</style>\n<table border=\"1\" class=\"dataframe\">\n  <thead>\n    <tr style=\"text-align: right;\">\n      <th></th>\n      <th>ScenarioID</th>\n      <th>CountryID</th>\n      <th>PolicyID</th>\n      <th>Year</th>\n      <th>Trips_Com</th>\n      <th>chTrips_Com_Ageing</th>\n      <th>chTrips_Com_TeleWork</th>\n      <th>chTrips4dayweek</th>\n      <th>chTripsComGig</th>\n      <th>ATL_Com</th>\n      <th>...</th>\n      <th>td_all</th>\n      <th>OR_com</th>\n      <th>OR_busi</th>\n      <th>OR_leilong</th>\n      <th>OR_leiloc</th>\n      <th>OR_school</th>\n      <th>OR_shop</th>\n      <th>OR_pb</th>\n      <th>OR_other</th>\n      <th>OR_avg</th>\n    </tr>\n  </thead>\n  <tbody>\n    <tr>\n      <th>0</th>\n      <td>1</td>\n      <td>9</td>\n      <td>0</td>\n      <td>2012</td>\n      <td>147.123993</td>\n      <td>1.000000</td>\n      <td>1.000000</td>\n      <td>1.000</td>\n      <td>1.000000</td>\n      <td>8.900050</td>\n      <td>...</td>\n      <td>6607.292969</td>\n      <td>1.117497</td>\n      <td>1.098954</td>\n      <td>2.046046</td>\n      <td>2.046046</td>\n      <td>1.914174</td>\n      <td>1.600436</td>\n      <td>1.587386</td>\n      <td>1.536749</td>\n      <td>1.553013</td>\n    </tr>\n    <tr>\n      <th>1</th>\n      <td>1</td>\n      <td>9</td>\n      <td>0</td>\n      <td>2013</td>\n      <td>145.859680</td>\n      <td>0.999591</td>\n      <td>1.000000</td>\n      <td>1.000</td>\n      <td>0.991812</td>\n      <td>8.771302</td>\n      <td>...</td>\n      <td>6637.943848</td>\n      <td>1.117497</td>\n      <td>1.098954</td>\n      <td>2.046049</td>\n      <td>2.046049</td>\n      <td>1.914177</td>\n      <td>1.600437</td>\n      <td>1.587388</td>\n      <td>1.536751</td>\n      <td>1.557800</td>\n    </tr>\n    <tr>\n      <th>2</th>\n      <td>1</td>\n      <td>9</td>\n      <td>0</td>\n      <td>2014</td>\n      <td>148.197998</td>\n      <td>0.999079</td>\n      <td>1.000000</td>\n      <td>1.000</td>\n      <td>1.008229</td>\n      <td>8.697289</td>\n      <td>...</td>\n      <td>6508.682617</td>\n      <td>1.117497</td>\n      <td>1.098954</td>\n      <td>2.046050</td>\n      <td>2.046049</td>\n      <td>1.914177</td>\n      <td>1.600437</td>\n      <td>1.587388</td>\n      <td>1.536751</td>\n      <td>1.547847</td>\n    </tr>\n    <tr>\n      <th>3</th>\n      <td>1</td>\n      <td>9</td>\n      <td>0</td>\n      <td>2015</td>\n      <td>143.379272</td>\n      <td>0.998720</td>\n      <td>1.000000</td>\n      <td>1.000</td>\n      <td>0.975796</td>\n      <td>9.116610</td>\n      <td>...</td>\n      <td>6654.992676</td>\n      <td>1.117497</td>\n      <td>1.098954</td>\n      <td>2.046050</td>\n      <td>2.046049</td>\n      <td>1.914177</td>\n      <td>1.600437</td>\n      <td>1.587388</td>\n      <td>1.536751</td>\n      <td>1.556540</td>\n    </tr>\n    <tr>\n      <th>4</th>\n      <td>1</td>\n      <td>9</td>\n      <td>0</td>\n      <td>2016</td>\n      <td>144.197952</td>\n      <td>0.998413</td>\n      <td>1.000000</td>\n      <td>1.000</td>\n      <td>0.981670</td>\n      <td>8.971702</td>\n      <td>...</td>\n      <td>6615.688965</td>\n      <td>1.117497</td>\n      <td>1.098954</td>\n      <td>2.046049</td>\n      <td>2.046049</td>\n      <td>1.914177</td>\n      <td>1.600437</td>\n      <td>1.587388</td>\n      <td>1.536751</td>\n      <td>1.553172</td>\n    </tr>\n    <tr>\n      <th>...</th>\n      <td>...</td>\n      <td>...</td>\n      <td>...</td>\n      <td>...</td>\n      <td>...</td>\n      <td>...</td>\n      <td>...</td>\n      <td>...</td>\n      <td>...</td>\n      <td>...</td>\n      <td>...</td>\n      <td>...</td>\n      <td>...</td>\n      <td>...</td>\n      <td>...</td>\n      <td>...</td>\n      <td>...</td>\n      <td>...</td>\n      <td>...</td>\n      <td>...</td>\n      <td>...</td>\n    </tr>\n    <tr>\n      <th>84</th>\n      <td>1</td>\n      <td>9</td>\n      <td>0</td>\n      <td>2096</td>\n      <td>123.022781</td>\n      <td>0.941449</td>\n      <td>0.927835</td>\n      <td>0.975</td>\n      <td>0.981816</td>\n      <td>8.618203</td>\n      <td>...</td>\n      <td>6646.553711</td>\n      <td>1.132807</td>\n      <td>1.111848</td>\n      <td>2.182353</td>\n      <td>2.182353</td>\n      <td>2.033296</td>\n      <td>1.678676</td>\n      <td>1.663926</td>\n      <td>1.606691</td>\n      <td>1.679334</td>\n    </tr>\n    <tr>\n      <th>85</th>\n      <td>1</td>\n      <td>9</td>\n      <td>0</td>\n      <td>2097</td>\n      <td>122.999283</td>\n      <td>0.941269</td>\n      <td>0.927835</td>\n      <td>0.975</td>\n      <td>0.981816</td>\n      <td>8.618203</td>\n      <td>...</td>\n      <td>6647.082031</td>\n      <td>1.132807</td>\n      <td>1.111848</td>\n      <td>2.182353</td>\n      <td>2.182353</td>\n      <td>2.033296</td>\n      <td>1.678676</td>\n      <td>1.663926</td>\n      <td>1.606691</td>\n      <td>1.679399</td>\n    </tr>\n    <tr>\n      <th>86</th>\n      <td>1</td>\n      <td>9</td>\n      <td>0</td>\n      <td>2098</td>\n      <td>122.978004</td>\n      <td>0.941106</td>\n      <td>0.927835</td>\n      <td>0.975</td>\n      <td>0.981816</td>\n      <td>8.618203</td>\n      <td>...</td>\n      <td>6647.561523</td>\n      <td>1.132807</td>\n      <td>1.111848</td>\n      <td>2.182353</td>\n      <td>2.182353</td>\n      <td>2.033296</td>\n      <td>1.678676</td>\n      <td>1.663926</td>\n      <td>1.606691</td>\n      <td>1.679458</td>\n    </tr>\n    <tr>\n      <th>87</th>\n      <td>1</td>\n      <td>9</td>\n      <td>0</td>\n      <td>2099</td>\n      <td>122.958557</td>\n      <td>0.940957</td>\n      <td>0.927835</td>\n      <td>0.975</td>\n      <td>0.981816</td>\n      <td>8.618203</td>\n      <td>...</td>\n      <td>6648.000488</td>\n      <td>1.132807</td>\n      <td>1.111848</td>\n      <td>2.182353</td>\n      <td>2.182353</td>\n      <td>2.033296</td>\n      <td>1.678676</td>\n      <td>1.663926</td>\n      <td>1.606691</td>\n      <td>1.679512</td>\n    </tr>\n    <tr>\n      <th>88</th>\n      <td>1</td>\n      <td>9</td>\n      <td>0</td>\n      <td>2100</td>\n      <td>122.940399</td>\n      <td>0.940818</td>\n      <td>0.927835</td>\n      <td>0.975</td>\n      <td>0.981816</td>\n      <td>8.618203</td>\n      <td>...</td>\n      <td>6648.408691</td>\n      <td>1.132807</td>\n      <td>1.111848</td>\n      <td>2.182353</td>\n      <td>2.182353</td>\n      <td>2.033296</td>\n      <td>1.678676</td>\n      <td>1.663926</td>\n      <td>1.606691</td>\n      <td>1.679562</td>\n    </tr>\n  </tbody>\n</table>\n<p>89 rows × 179 columns</p>\n</div>"
     },
     "execution_count": 3,
     "metadata": {},
     "output_type": "execute_result"
    }
   ],
   "source": [
    "travel_demand = pd.read_excel(f'./TEAM-Kenya_data_out/Travel_demand.xlsx')\n",
    "travel_demand"
   ],
   "metadata": {
    "collapsed": false,
    "pycharm": {
     "name": "#%%\n"
    }
   }
  },
  {
   "cell_type": "code",
   "execution_count": 4,
   "outputs": [],
   "source": [
    "# procesed travel survey data from WB survey (commuting journeys only\n",
    "\n",
    "travel_survey_data = {'Walk': 19335, 'Microbus/Matatu': 5845, 'Bodaboda (Bicycle taxi)': 1092, 'Other, specify': 681, 'Own bicycle': 418, 'Own vehicle': 338, 'Bus regular': 199, 'Taxi (vehicle)': 51, 'Shared taxi': 1}\n",
    "\n",
    "# conversions from modes in uk data to kenya data\n",
    "conversions = {'Walk':'Walk', 'Bike':'Own bicycle', 'CarDriver':'Own vehicle',\n",
    "               'CarPass':'Shared taxi', 'Moto': 'Bodaboda (Bicycle taxi)',\n",
    "               'LocalBus':'Microbus/Matatu', 'Coach':'Bus regular',\n",
    "               'RailTube':'Other, specify', 'OtherPriv':'Other, specify',\n",
    "               'Taxi':'Taxi (vehicle)', 'Air':'Shared taxi', 'OtherPub': 'Other, specify'}"
   ],
   "metadata": {
    "collapsed": false,
    "pycharm": {
     "name": "#%%\n"
    }
   }
  },
  {
   "cell_type": "code",
   "execution_count": 5,
   "outputs": [],
   "source": [
    "# list purposes (purps) and modes\n",
    "purps = ['Com', 'Busi', 'LeiLong', 'LeiLoc', 'School', 'Shop', 'PB', 'Other']\n",
    "modes = ['Walk', 'Bike', 'CarDriver', 'CarPass', 'Moto', 'LocalBus', 'Coach', 'RailTube',\n",
    "         'OtherPriv', 'Taxi', 'Air', 'OtherPub']\n",
    "\n",
    "# dictionary of scales (UK --> Kenya)\n",
    "# TODO: test these assumptions with what Eric comes up with\n",
    "scale_purps = {'Com':{'Trips':0.7, 'ATL':1}, 'Busi':{'Trips':0.7, 'ATL':1}, 'LeiLong':{'Trips':0.2, 'ATL':0.6}, 'LeiLoc':{'Trips':0.3, 'ATL':1}, 'School':{'Trips':1, 'ATL':1.2}, 'Shop':{'Trips':1, 'ATL':1}, 'PB':{'Trips':0.7, 'ATL':1}, 'Other':{'Trips':0.7, 'ATL':1}}\n",
    "\n",
    "# enter number of trips and ATL based on scaling factors above.\n",
    "for purp in purps:\n",
    "    travel_demand.at[0,f'Trips_{purp}'] *= scale_purps[purp]['Trips']\n",
    "    travel_demand.at[0,f'ATL_{purp}'] *= scale_purps[purp]['ATL']"
   ],
   "metadata": {
    "collapsed": false,
    "pycharm": {
     "name": "#%%\n"
    }
   }
  },
  {
   "cell_type": "code",
   "execution_count": 6,
   "outputs": [],
   "source": [
    "# derive mode splits based on the WB travel survey data\n",
    "\n",
    "mode_splits = {}\n",
    "for purp in purps:\n",
    "\n",
    "    mode_splits[purp] = {}\n",
    "\n",
    "    for mode in modes:\n",
    "\n",
    "        mode_splits[purp][mode] = travel_survey_data[conversions[mode]]/sum(travel_survey_data.values())\n",
    "\n",
    "    # normalise to ensure that they add up to 1 at this level...\n",
    "    factor=1.0/sum(mode_splits[purp].values())\n",
    "    mode_splits[purp] = {k: v*factor for k, v in mode_splits[purp].items()}"
   ],
   "metadata": {
    "collapsed": false,
    "pycharm": {
     "name": "#%%\n"
    }
   }
  },
  {
   "cell_type": "code",
   "execution_count": 7,
   "outputs": [
    {
     "data": {
      "text/plain": "{'Com': {'Walk': 0.6593800088667598,\n  'Bike': 0.014255021655355861,\n  'CarDriver': 0.011526787845718376,\n  'CarPass': 3.410292262046857e-05,\n  'Moto': 0.03724039150155168,\n  'LocalBus': 0.19933158271663878,\n  'Coach': 0.006786481601473245,\n  'RailTube': 0.023224090304539095,\n  'OtherPriv': 0.023224090304539095,\n  'Taxi': 0.001739249053643897,\n  'Air': 3.410292262046857e-05,\n  'OtherPub': 0.023224090304539095},\n 'Busi': {'Walk': 0.6593800088667598,\n  'Bike': 0.014255021655355861,\n  'CarDriver': 0.011526787845718376,\n  'CarPass': 3.410292262046857e-05,\n  'Moto': 0.03724039150155168,\n  'LocalBus': 0.19933158271663878,\n  'Coach': 0.006786481601473245,\n  'RailTube': 0.023224090304539095,\n  'OtherPriv': 0.023224090304539095,\n  'Taxi': 0.001739249053643897,\n  'Air': 3.410292262046857e-05,\n  'OtherPub': 0.023224090304539095},\n 'LeiLong': {'Walk': 0.6593800088667598,\n  'Bike': 0.014255021655355861,\n  'CarDriver': 0.011526787845718376,\n  'CarPass': 3.410292262046857e-05,\n  'Moto': 0.03724039150155168,\n  'LocalBus': 0.19933158271663878,\n  'Coach': 0.006786481601473245,\n  'RailTube': 0.023224090304539095,\n  'OtherPriv': 0.023224090304539095,\n  'Taxi': 0.001739249053643897,\n  'Air': 3.410292262046857e-05,\n  'OtherPub': 0.023224090304539095},\n 'LeiLoc': {'Walk': 0.6593800088667598,\n  'Bike': 0.014255021655355861,\n  'CarDriver': 0.011526787845718376,\n  'CarPass': 3.410292262046857e-05,\n  'Moto': 0.03724039150155168,\n  'LocalBus': 0.19933158271663878,\n  'Coach': 0.006786481601473245,\n  'RailTube': 0.023224090304539095,\n  'OtherPriv': 0.023224090304539095,\n  'Taxi': 0.001739249053643897,\n  'Air': 3.410292262046857e-05,\n  'OtherPub': 0.023224090304539095},\n 'School': {'Walk': 0.6593800088667598,\n  'Bike': 0.014255021655355861,\n  'CarDriver': 0.011526787845718376,\n  'CarPass': 3.410292262046857e-05,\n  'Moto': 0.03724039150155168,\n  'LocalBus': 0.19933158271663878,\n  'Coach': 0.006786481601473245,\n  'RailTube': 0.023224090304539095,\n  'OtherPriv': 0.023224090304539095,\n  'Taxi': 0.001739249053643897,\n  'Air': 3.410292262046857e-05,\n  'OtherPub': 0.023224090304539095},\n 'Shop': {'Walk': 0.6593800088667598,\n  'Bike': 0.014255021655355861,\n  'CarDriver': 0.011526787845718376,\n  'CarPass': 3.410292262046857e-05,\n  'Moto': 0.03724039150155168,\n  'LocalBus': 0.19933158271663878,\n  'Coach': 0.006786481601473245,\n  'RailTube': 0.023224090304539095,\n  'OtherPriv': 0.023224090304539095,\n  'Taxi': 0.001739249053643897,\n  'Air': 3.410292262046857e-05,\n  'OtherPub': 0.023224090304539095},\n 'PB': {'Walk': 0.6593800088667598,\n  'Bike': 0.014255021655355861,\n  'CarDriver': 0.011526787845718376,\n  'CarPass': 3.410292262046857e-05,\n  'Moto': 0.03724039150155168,\n  'LocalBus': 0.19933158271663878,\n  'Coach': 0.006786481601473245,\n  'RailTube': 0.023224090304539095,\n  'OtherPriv': 0.023224090304539095,\n  'Taxi': 0.001739249053643897,\n  'Air': 3.410292262046857e-05,\n  'OtherPub': 0.023224090304539095},\n 'Other': {'Walk': 0.6593800088667598,\n  'Bike': 0.014255021655355861,\n  'CarDriver': 0.011526787845718376,\n  'CarPass': 3.410292262046857e-05,\n  'Moto': 0.03724039150155168,\n  'LocalBus': 0.19933158271663878,\n  'Coach': 0.006786481601473245,\n  'RailTube': 0.023224090304539095,\n  'OtherPriv': 0.023224090304539095,\n  'Taxi': 0.001739249053643897,\n  'Air': 3.410292262046857e-05,\n  'OtherPub': 0.023224090304539095}}"
     },
     "execution_count": 7,
     "metadata": {},
     "output_type": "execute_result"
    }
   ],
   "source": [
    "mode_splits"
   ],
   "metadata": {
    "collapsed": false,
    "pycharm": {
     "name": "#%%\n"
    }
   }
  },
  {
   "cell_type": "code",
   "execution_count": 8,
   "outputs": [
    {
     "data": {
      "text/plain": "    ScenarioID  CountryID  PolicyID  Year   Trips_Com  chTrips_Com_Ageing  \\\n0            1          9         0  2012  102.986795            1.000000   \n1            1          9         0  2013  145.859680            0.999591   \n2            1          9         0  2014  148.197998            0.999079   \n3            1          9         0  2015  143.379272            0.998720   \n4            1          9         0  2016  144.197952            0.998413   \n..         ...        ...       ...   ...         ...                 ...   \n84           1          9         0  2096  123.022781            0.941449   \n85           1          9         0  2097  122.999283            0.941269   \n86           1          9         0  2098  122.978004            0.941106   \n87           1          9         0  2099  122.958557            0.940957   \n88           1          9         0  2100  122.940399            0.940818   \n\n    chTrips_Com_TeleWork  chTrips4dayweek  chTripsComGig   ATL_Com  ...  \\\n0               1.000000            1.000       1.000000  8.900050  ...   \n1               1.000000            1.000       0.991812  8.771302  ...   \n2               1.000000            1.000       1.008229  8.697289  ...   \n3               1.000000            1.000       0.975796  9.116610  ...   \n4               1.000000            1.000       0.981670  8.971702  ...   \n..                   ...              ...            ...       ...  ...   \n84              0.927835            0.975       0.981816  8.618203  ...   \n85              0.927835            0.975       0.981816  8.618203  ...   \n86              0.927835            0.975       0.981816  8.618203  ...   \n87              0.927835            0.975       0.981816  8.618203  ...   \n88              0.927835            0.975       0.981816  8.618203  ...   \n\n         td_all    OR_com   OR_busi  OR_leilong  OR_leiloc  OR_school  \\\n0   6607.292969  1.117497  1.098954    2.046046   2.046046   1.914174   \n1   6637.943848  1.117497  1.098954    2.046049   2.046049   1.914177   \n2   6508.682617  1.117497  1.098954    2.046050   2.046049   1.914177   \n3   6654.992676  1.117497  1.098954    2.046050   2.046049   1.914177   \n4   6615.688965  1.117497  1.098954    2.046049   2.046049   1.914177   \n..          ...       ...       ...         ...        ...        ...   \n84  6646.553711  1.132807  1.111848    2.182353   2.182353   2.033296   \n85  6647.082031  1.132807  1.111848    2.182353   2.182353   2.033296   \n86  6647.561523  1.132807  1.111848    2.182353   2.182353   2.033296   \n87  6648.000488  1.132807  1.111848    2.182353   2.182353   2.033296   \n88  6648.408691  1.132807  1.111848    2.182353   2.182353   2.033296   \n\n     OR_shop     OR_pb  OR_other    OR_avg  \n0   1.600436  1.587386  1.536749  1.553013  \n1   1.600437  1.587388  1.536751  1.557800  \n2   1.600437  1.587388  1.536751  1.547847  \n3   1.600437  1.587388  1.536751  1.556540  \n4   1.600437  1.587388  1.536751  1.553172  \n..       ...       ...       ...       ...  \n84  1.678676  1.663926  1.606691  1.679334  \n85  1.678676  1.663926  1.606691  1.679399  \n86  1.678676  1.663926  1.606691  1.679458  \n87  1.678676  1.663926  1.606691  1.679512  \n88  1.678676  1.663926  1.606691  1.679562  \n\n[89 rows x 179 columns]",
      "text/html": "<div>\n<style scoped>\n    .dataframe tbody tr th:only-of-type {\n        vertical-align: middle;\n    }\n\n    .dataframe tbody tr th {\n        vertical-align: top;\n    }\n\n    .dataframe thead th {\n        text-align: right;\n    }\n</style>\n<table border=\"1\" class=\"dataframe\">\n  <thead>\n    <tr style=\"text-align: right;\">\n      <th></th>\n      <th>ScenarioID</th>\n      <th>CountryID</th>\n      <th>PolicyID</th>\n      <th>Year</th>\n      <th>Trips_Com</th>\n      <th>chTrips_Com_Ageing</th>\n      <th>chTrips_Com_TeleWork</th>\n      <th>chTrips4dayweek</th>\n      <th>chTripsComGig</th>\n      <th>ATL_Com</th>\n      <th>...</th>\n      <th>td_all</th>\n      <th>OR_com</th>\n      <th>OR_busi</th>\n      <th>OR_leilong</th>\n      <th>OR_leiloc</th>\n      <th>OR_school</th>\n      <th>OR_shop</th>\n      <th>OR_pb</th>\n      <th>OR_other</th>\n      <th>OR_avg</th>\n    </tr>\n  </thead>\n  <tbody>\n    <tr>\n      <th>0</th>\n      <td>1</td>\n      <td>9</td>\n      <td>0</td>\n      <td>2012</td>\n      <td>102.986795</td>\n      <td>1.000000</td>\n      <td>1.000000</td>\n      <td>1.000</td>\n      <td>1.000000</td>\n      <td>8.900050</td>\n      <td>...</td>\n      <td>6607.292969</td>\n      <td>1.117497</td>\n      <td>1.098954</td>\n      <td>2.046046</td>\n      <td>2.046046</td>\n      <td>1.914174</td>\n      <td>1.600436</td>\n      <td>1.587386</td>\n      <td>1.536749</td>\n      <td>1.553013</td>\n    </tr>\n    <tr>\n      <th>1</th>\n      <td>1</td>\n      <td>9</td>\n      <td>0</td>\n      <td>2013</td>\n      <td>145.859680</td>\n      <td>0.999591</td>\n      <td>1.000000</td>\n      <td>1.000</td>\n      <td>0.991812</td>\n      <td>8.771302</td>\n      <td>...</td>\n      <td>6637.943848</td>\n      <td>1.117497</td>\n      <td>1.098954</td>\n      <td>2.046049</td>\n      <td>2.046049</td>\n      <td>1.914177</td>\n      <td>1.600437</td>\n      <td>1.587388</td>\n      <td>1.536751</td>\n      <td>1.557800</td>\n    </tr>\n    <tr>\n      <th>2</th>\n      <td>1</td>\n      <td>9</td>\n      <td>0</td>\n      <td>2014</td>\n      <td>148.197998</td>\n      <td>0.999079</td>\n      <td>1.000000</td>\n      <td>1.000</td>\n      <td>1.008229</td>\n      <td>8.697289</td>\n      <td>...</td>\n      <td>6508.682617</td>\n      <td>1.117497</td>\n      <td>1.098954</td>\n      <td>2.046050</td>\n      <td>2.046049</td>\n      <td>1.914177</td>\n      <td>1.600437</td>\n      <td>1.587388</td>\n      <td>1.536751</td>\n      <td>1.547847</td>\n    </tr>\n    <tr>\n      <th>3</th>\n      <td>1</td>\n      <td>9</td>\n      <td>0</td>\n      <td>2015</td>\n      <td>143.379272</td>\n      <td>0.998720</td>\n      <td>1.000000</td>\n      <td>1.000</td>\n      <td>0.975796</td>\n      <td>9.116610</td>\n      <td>...</td>\n      <td>6654.992676</td>\n      <td>1.117497</td>\n      <td>1.098954</td>\n      <td>2.046050</td>\n      <td>2.046049</td>\n      <td>1.914177</td>\n      <td>1.600437</td>\n      <td>1.587388</td>\n      <td>1.536751</td>\n      <td>1.556540</td>\n    </tr>\n    <tr>\n      <th>4</th>\n      <td>1</td>\n      <td>9</td>\n      <td>0</td>\n      <td>2016</td>\n      <td>144.197952</td>\n      <td>0.998413</td>\n      <td>1.000000</td>\n      <td>1.000</td>\n      <td>0.981670</td>\n      <td>8.971702</td>\n      <td>...</td>\n      <td>6615.688965</td>\n      <td>1.117497</td>\n      <td>1.098954</td>\n      <td>2.046049</td>\n      <td>2.046049</td>\n      <td>1.914177</td>\n      <td>1.600437</td>\n      <td>1.587388</td>\n      <td>1.536751</td>\n      <td>1.553172</td>\n    </tr>\n    <tr>\n      <th>...</th>\n      <td>...</td>\n      <td>...</td>\n      <td>...</td>\n      <td>...</td>\n      <td>...</td>\n      <td>...</td>\n      <td>...</td>\n      <td>...</td>\n      <td>...</td>\n      <td>...</td>\n      <td>...</td>\n      <td>...</td>\n      <td>...</td>\n      <td>...</td>\n      <td>...</td>\n      <td>...</td>\n      <td>...</td>\n      <td>...</td>\n      <td>...</td>\n      <td>...</td>\n      <td>...</td>\n    </tr>\n    <tr>\n      <th>84</th>\n      <td>1</td>\n      <td>9</td>\n      <td>0</td>\n      <td>2096</td>\n      <td>123.022781</td>\n      <td>0.941449</td>\n      <td>0.927835</td>\n      <td>0.975</td>\n      <td>0.981816</td>\n      <td>8.618203</td>\n      <td>...</td>\n      <td>6646.553711</td>\n      <td>1.132807</td>\n      <td>1.111848</td>\n      <td>2.182353</td>\n      <td>2.182353</td>\n      <td>2.033296</td>\n      <td>1.678676</td>\n      <td>1.663926</td>\n      <td>1.606691</td>\n      <td>1.679334</td>\n    </tr>\n    <tr>\n      <th>85</th>\n      <td>1</td>\n      <td>9</td>\n      <td>0</td>\n      <td>2097</td>\n      <td>122.999283</td>\n      <td>0.941269</td>\n      <td>0.927835</td>\n      <td>0.975</td>\n      <td>0.981816</td>\n      <td>8.618203</td>\n      <td>...</td>\n      <td>6647.082031</td>\n      <td>1.132807</td>\n      <td>1.111848</td>\n      <td>2.182353</td>\n      <td>2.182353</td>\n      <td>2.033296</td>\n      <td>1.678676</td>\n      <td>1.663926</td>\n      <td>1.606691</td>\n      <td>1.679399</td>\n    </tr>\n    <tr>\n      <th>86</th>\n      <td>1</td>\n      <td>9</td>\n      <td>0</td>\n      <td>2098</td>\n      <td>122.978004</td>\n      <td>0.941106</td>\n      <td>0.927835</td>\n      <td>0.975</td>\n      <td>0.981816</td>\n      <td>8.618203</td>\n      <td>...</td>\n      <td>6647.561523</td>\n      <td>1.132807</td>\n      <td>1.111848</td>\n      <td>2.182353</td>\n      <td>2.182353</td>\n      <td>2.033296</td>\n      <td>1.678676</td>\n      <td>1.663926</td>\n      <td>1.606691</td>\n      <td>1.679458</td>\n    </tr>\n    <tr>\n      <th>87</th>\n      <td>1</td>\n      <td>9</td>\n      <td>0</td>\n      <td>2099</td>\n      <td>122.958557</td>\n      <td>0.940957</td>\n      <td>0.927835</td>\n      <td>0.975</td>\n      <td>0.981816</td>\n      <td>8.618203</td>\n      <td>...</td>\n      <td>6648.000488</td>\n      <td>1.132807</td>\n      <td>1.111848</td>\n      <td>2.182353</td>\n      <td>2.182353</td>\n      <td>2.033296</td>\n      <td>1.678676</td>\n      <td>1.663926</td>\n      <td>1.606691</td>\n      <td>1.679512</td>\n    </tr>\n    <tr>\n      <th>88</th>\n      <td>1</td>\n      <td>9</td>\n      <td>0</td>\n      <td>2100</td>\n      <td>122.940399</td>\n      <td>0.940818</td>\n      <td>0.927835</td>\n      <td>0.975</td>\n      <td>0.981816</td>\n      <td>8.618203</td>\n      <td>...</td>\n      <td>6648.408691</td>\n      <td>1.132807</td>\n      <td>1.111848</td>\n      <td>2.182353</td>\n      <td>2.182353</td>\n      <td>2.033296</td>\n      <td>1.678676</td>\n      <td>1.663926</td>\n      <td>1.606691</td>\n      <td>1.679562</td>\n    </tr>\n  </tbody>\n</table>\n<p>89 rows × 179 columns</p>\n</div>"
     },
     "execution_count": 8,
     "metadata": {},
     "output_type": "execute_result"
    }
   ],
   "source": [
    "for purp in purps:\n",
    "\n",
    "    for mode in modes:\n",
    "        travel_demand.at[0,f'MS_{purp}_{mode}'] = mode_splits[purp][mode]\n",
    "\n",
    "travel_demand"
   ],
   "metadata": {
    "collapsed": false,
    "pycharm": {
     "name": "#%%\n"
    }
   }
  },
  {
   "cell_type": "markdown",
   "source": [
    "Now update the td_{mode} and td_{purp} values for the base year at the RHS of the table.\n",
    "\n",
    "For td_{mode}, update using the mode_shares_triplength table.\n",
    "\n",
    "For td_{purp}, simply use the existing table for ATL_{purp}*Trips{purp}"
   ],
   "metadata": {
    "collapsed": false,
    "pycharm": {
     "name": "#%% md\n"
    }
   }
  },
  {
   "cell_type": "code",
   "execution_count": 9,
   "outputs": [
    {
     "data": {
      "text/plain": "      ScenarioID  CountryID  PolicyID  Year  triplenID  modeID          td\n0              1          9         0  2012          1       1  140.554895\n1              1          9         0  2012          1       2    1.527704\n2              1          9         0  2012          1       3    0.621154\n3              1          9         0  2012          1       4    0.372925\n4              1          9         0  2012          1       5    0.057659\n...          ...        ...       ...   ...        ...     ...         ...\n8539           1          9         0  2100          8       8   11.078624\n8540           1          9         0  2100          8       9    6.033094\n8541           1          9         0  2100          8      10    2.257127\n8542           1          9         0  2100          8      11    1.408617\n8543           1          9         0  2100          8      12    0.141406\n\n[8544 rows x 7 columns]",
      "text/html": "<div>\n<style scoped>\n    .dataframe tbody tr th:only-of-type {\n        vertical-align: middle;\n    }\n\n    .dataframe tbody tr th {\n        vertical-align: top;\n    }\n\n    .dataframe thead th {\n        text-align: right;\n    }\n</style>\n<table border=\"1\" class=\"dataframe\">\n  <thead>\n    <tr style=\"text-align: right;\">\n      <th></th>\n      <th>ScenarioID</th>\n      <th>CountryID</th>\n      <th>PolicyID</th>\n      <th>Year</th>\n      <th>triplenID</th>\n      <th>modeID</th>\n      <th>td</th>\n    </tr>\n  </thead>\n  <tbody>\n    <tr>\n      <th>0</th>\n      <td>1</td>\n      <td>9</td>\n      <td>0</td>\n      <td>2012</td>\n      <td>1</td>\n      <td>1</td>\n      <td>140.554895</td>\n    </tr>\n    <tr>\n      <th>1</th>\n      <td>1</td>\n      <td>9</td>\n      <td>0</td>\n      <td>2012</td>\n      <td>1</td>\n      <td>2</td>\n      <td>1.527704</td>\n    </tr>\n    <tr>\n      <th>2</th>\n      <td>1</td>\n      <td>9</td>\n      <td>0</td>\n      <td>2012</td>\n      <td>1</td>\n      <td>3</td>\n      <td>0.621154</td>\n    </tr>\n    <tr>\n      <th>3</th>\n      <td>1</td>\n      <td>9</td>\n      <td>0</td>\n      <td>2012</td>\n      <td>1</td>\n      <td>4</td>\n      <td>0.372925</td>\n    </tr>\n    <tr>\n      <th>4</th>\n      <td>1</td>\n      <td>9</td>\n      <td>0</td>\n      <td>2012</td>\n      <td>1</td>\n      <td>5</td>\n      <td>0.057659</td>\n    </tr>\n    <tr>\n      <th>...</th>\n      <td>...</td>\n      <td>...</td>\n      <td>...</td>\n      <td>...</td>\n      <td>...</td>\n      <td>...</td>\n      <td>...</td>\n    </tr>\n    <tr>\n      <th>8539</th>\n      <td>1</td>\n      <td>9</td>\n      <td>0</td>\n      <td>2100</td>\n      <td>8</td>\n      <td>8</td>\n      <td>11.078624</td>\n    </tr>\n    <tr>\n      <th>8540</th>\n      <td>1</td>\n      <td>9</td>\n      <td>0</td>\n      <td>2100</td>\n      <td>8</td>\n      <td>9</td>\n      <td>6.033094</td>\n    </tr>\n    <tr>\n      <th>8541</th>\n      <td>1</td>\n      <td>9</td>\n      <td>0</td>\n      <td>2100</td>\n      <td>8</td>\n      <td>10</td>\n      <td>2.257127</td>\n    </tr>\n    <tr>\n      <th>8542</th>\n      <td>1</td>\n      <td>9</td>\n      <td>0</td>\n      <td>2100</td>\n      <td>8</td>\n      <td>11</td>\n      <td>1.408617</td>\n    </tr>\n    <tr>\n      <th>8543</th>\n      <td>1</td>\n      <td>9</td>\n      <td>0</td>\n      <td>2100</td>\n      <td>8</td>\n      <td>12</td>\n      <td>0.141406</td>\n    </tr>\n  </tbody>\n</table>\n<p>8544 rows × 7 columns</p>\n</div>"
     },
     "execution_count": 9,
     "metadata": {},
     "output_type": "execute_result"
    }
   ],
   "source": [
    "# load in mode_shares_triplength\n",
    "mode_shares_triplength = pd.read_csv('./TEAM-Kenya_data_out/mode_shares_triplength_team_kenya.csv')\n",
    "mode_shares_triplength"
   ],
   "metadata": {
    "collapsed": false,
    "pycharm": {
     "name": "#%%\n"
    }
   }
  },
  {
   "cell_type": "code",
   "execution_count": 10,
   "outputs": [],
   "source": [
    "# mode ID lookup for mode_shares_triplength table\n",
    "modeID_lookup = {'Walk':1, 'Bike':2, 'CarDriver':3, 'CarPass':4, 'Moto':5, 'LocalBus':6, 'Coach':7, 'RailTube':8,\n",
    "         'OtherPriv':9, 'Taxi':10, 'Air':11, 'OtherPub':12}\n",
    "\n",
    "# ffs why is nothing in team the same. lookup between modes in the left of the table and the right of the table\n",
    "cols_lookup_mode = {'Walk':'walk', 'Bike':'bike', 'CarDriver':'card', 'CarPass':'carp', 'Moto':'moto', 'LocalBus':'bus', 'Coach':'coach', 'RailTube':'rail', 'OtherPriv':'opriv', 'Taxi':'taxi', 'Air':'air', 'OtherPub':'opub'}\n",
    "\n",
    "cols_lookup_purp = {'Com':'com', 'Busi':'busi', 'LeiLong':'leilong', 'LeiLoc':'leiloc', 'School':'school', 'Shop':'shop', 'PB':'pb', 'Other':'other'}"
   ],
   "metadata": {
    "collapsed": false,
    "pycharm": {
     "name": "#%%\n"
    }
   }
  },
  {
   "cell_type": "code",
   "execution_count": 11,
   "outputs": [
    {
     "data": {
      "text/plain": "57.85162779316307"
     },
     "execution_count": 11,
     "metadata": {},
     "output_type": "execute_result"
    }
   ],
   "source": [
    "mode_shares_triplength[(mode_shares_triplength.modeID == 5) & (mode_shares_triplength.Year == 2012)].td.sum()"
   ],
   "metadata": {
    "collapsed": false,
    "pycharm": {
     "name": "#%%\n"
    }
   }
  },
  {
   "cell_type": "code",
   "execution_count": 12,
   "outputs": [],
   "source": [
    "# update mode data\n",
    "for mode in modes:\n",
    "\n",
    "    # sum total distance for each mode across all triplengths\n",
    "    td_mode = mode_shares_triplength[(mode_shares_triplength.modeID == modeID_lookup[mode]) & (mode_shares_triplength.Year == 2012)].td.sum()\n",
    "\n",
    "    travel_demand.at[0, f'td_{cols_lookup_mode[mode]}'] = td_mode"
   ],
   "metadata": {
    "collapsed": false,
    "pycharm": {
     "name": "#%%\n"
    }
   }
  },
  {
   "cell_type": "code",
   "execution_count": 13,
   "outputs": [],
   "source": [
    "# update purp data\n",
    "for purp in purps:\n",
    "\n",
    "    # multiply atl of purp by number of trips of purp\n",
    "    td_purp = travel_demand.at[0, f'Trips_{purp}'] * travel_demand.at[0, f'ATL_{purp}']\n",
    "\n",
    "    travel_demand.at[0, f'td_{cols_lookup_purp[purp]}'] = td_purp"
   ],
   "metadata": {
    "collapsed": false,
    "pycharm": {
     "name": "#%%\n"
    }
   }
  },
  {
   "cell_type": "code",
   "execution_count": 14,
   "outputs": [],
   "source": [
    "# finally, sum all purp td values to give td_all\n",
    "travel_demand.at[0, 'td_all'] = travel_demand.loc[0,['td_'+ p for p in list(cols_lookup_purp.values())]].sum()"
   ],
   "metadata": {
    "collapsed": false,
    "pycharm": {
     "name": "#%%\n"
    }
   }
  },
  {
   "cell_type": "code",
   "execution_count": 17,
   "outputs": [
    {
     "data": {
      "text/plain": "    ScenarioID  CountryID  PolicyID  Year   Trips_Com  chTrips_Com_Ageing  \\\n0            1          9         0  2012  102.986795            1.000000   \n1            1          9         0  2013  145.859680            0.999591   \n2            1          9         0  2014  148.197998            0.999079   \n3            1          9         0  2015  143.379272            0.998720   \n4            1          9         0  2016  144.197952            0.998413   \n..         ...        ...       ...   ...         ...                 ...   \n84           1          9         0  2096  123.022781            0.941449   \n85           1          9         0  2097  122.999283            0.941269   \n86           1          9         0  2098  122.978004            0.941106   \n87           1          9         0  2099  122.958557            0.940957   \n88           1          9         0  2100  122.940399            0.940818   \n\n    chTrips_Com_TeleWork  chTrips4dayweek  chTripsComGig   ATL_Com  ...  \\\n0               1.000000            1.000       1.000000  8.900050  ...   \n1               1.000000            1.000       0.991812  8.771302  ...   \n2               1.000000            1.000       1.008229  8.697289  ...   \n3               1.000000            1.000       0.975796  9.116610  ...   \n4               1.000000            1.000       0.981670  8.971702  ...   \n..                   ...              ...            ...       ...  ...   \n84              0.927835            0.975       0.981816  8.618203  ...   \n85              0.927835            0.975       0.981816  8.618203  ...   \n86              0.927835            0.975       0.981816  8.618203  ...   \n87              0.927835            0.975       0.981816  8.618203  ...   \n88              0.927835            0.975       0.981816  8.618203  ...   \n\n         td_all    OR_com   OR_busi  OR_leilong  OR_leiloc  OR_school  \\\n0   3708.318317  1.117497  1.098954    2.046046   2.046046   1.914174   \n1   6637.943848  1.117497  1.098954    2.046049   2.046049   1.914177   \n2   6508.682617  1.117497  1.098954    2.046050   2.046049   1.914177   \n3   6654.992676  1.117497  1.098954    2.046050   2.046049   1.914177   \n4   6615.688965  1.117497  1.098954    2.046049   2.046049   1.914177   \n..          ...       ...       ...         ...        ...        ...   \n84  6646.553711  1.132807  1.111848    2.182353   2.182353   2.033296   \n85  6647.082031  1.132807  1.111848    2.182353   2.182353   2.033296   \n86  6647.561523  1.132807  1.111848    2.182353   2.182353   2.033296   \n87  6648.000488  1.132807  1.111848    2.182353   2.182353   2.033296   \n88  6648.408691  1.132807  1.111848    2.182353   2.182353   2.033296   \n\n     OR_shop     OR_pb  OR_other    OR_avg  \n0   1.600436  1.587386  1.536749  1.553013  \n1   1.600437  1.587388  1.536751  1.557800  \n2   1.600437  1.587388  1.536751  1.547847  \n3   1.600437  1.587388  1.536751  1.556540  \n4   1.600437  1.587388  1.536751  1.553172  \n..       ...       ...       ...       ...  \n84  1.678676  1.663926  1.606691  1.679334  \n85  1.678676  1.663926  1.606691  1.679399  \n86  1.678676  1.663926  1.606691  1.679458  \n87  1.678676  1.663926  1.606691  1.679512  \n88  1.678676  1.663926  1.606691  1.679562  \n\n[89 rows x 179 columns]",
      "text/html": "<div>\n<style scoped>\n    .dataframe tbody tr th:only-of-type {\n        vertical-align: middle;\n    }\n\n    .dataframe tbody tr th {\n        vertical-align: top;\n    }\n\n    .dataframe thead th {\n        text-align: right;\n    }\n</style>\n<table border=\"1\" class=\"dataframe\">\n  <thead>\n    <tr style=\"text-align: right;\">\n      <th></th>\n      <th>ScenarioID</th>\n      <th>CountryID</th>\n      <th>PolicyID</th>\n      <th>Year</th>\n      <th>Trips_Com</th>\n      <th>chTrips_Com_Ageing</th>\n      <th>chTrips_Com_TeleWork</th>\n      <th>chTrips4dayweek</th>\n      <th>chTripsComGig</th>\n      <th>ATL_Com</th>\n      <th>...</th>\n      <th>td_all</th>\n      <th>OR_com</th>\n      <th>OR_busi</th>\n      <th>OR_leilong</th>\n      <th>OR_leiloc</th>\n      <th>OR_school</th>\n      <th>OR_shop</th>\n      <th>OR_pb</th>\n      <th>OR_other</th>\n      <th>OR_avg</th>\n    </tr>\n  </thead>\n  <tbody>\n    <tr>\n      <th>0</th>\n      <td>1</td>\n      <td>9</td>\n      <td>0</td>\n      <td>2012</td>\n      <td>102.986795</td>\n      <td>1.000000</td>\n      <td>1.000000</td>\n      <td>1.000</td>\n      <td>1.000000</td>\n      <td>8.900050</td>\n      <td>...</td>\n      <td>3708.318317</td>\n      <td>1.117497</td>\n      <td>1.098954</td>\n      <td>2.046046</td>\n      <td>2.046046</td>\n      <td>1.914174</td>\n      <td>1.600436</td>\n      <td>1.587386</td>\n      <td>1.536749</td>\n      <td>1.553013</td>\n    </tr>\n    <tr>\n      <th>1</th>\n      <td>1</td>\n      <td>9</td>\n      <td>0</td>\n      <td>2013</td>\n      <td>145.859680</td>\n      <td>0.999591</td>\n      <td>1.000000</td>\n      <td>1.000</td>\n      <td>0.991812</td>\n      <td>8.771302</td>\n      <td>...</td>\n      <td>6637.943848</td>\n      <td>1.117497</td>\n      <td>1.098954</td>\n      <td>2.046049</td>\n      <td>2.046049</td>\n      <td>1.914177</td>\n      <td>1.600437</td>\n      <td>1.587388</td>\n      <td>1.536751</td>\n      <td>1.557800</td>\n    </tr>\n    <tr>\n      <th>2</th>\n      <td>1</td>\n      <td>9</td>\n      <td>0</td>\n      <td>2014</td>\n      <td>148.197998</td>\n      <td>0.999079</td>\n      <td>1.000000</td>\n      <td>1.000</td>\n      <td>1.008229</td>\n      <td>8.697289</td>\n      <td>...</td>\n      <td>6508.682617</td>\n      <td>1.117497</td>\n      <td>1.098954</td>\n      <td>2.046050</td>\n      <td>2.046049</td>\n      <td>1.914177</td>\n      <td>1.600437</td>\n      <td>1.587388</td>\n      <td>1.536751</td>\n      <td>1.547847</td>\n    </tr>\n    <tr>\n      <th>3</th>\n      <td>1</td>\n      <td>9</td>\n      <td>0</td>\n      <td>2015</td>\n      <td>143.379272</td>\n      <td>0.998720</td>\n      <td>1.000000</td>\n      <td>1.000</td>\n      <td>0.975796</td>\n      <td>9.116610</td>\n      <td>...</td>\n      <td>6654.992676</td>\n      <td>1.117497</td>\n      <td>1.098954</td>\n      <td>2.046050</td>\n      <td>2.046049</td>\n      <td>1.914177</td>\n      <td>1.600437</td>\n      <td>1.587388</td>\n      <td>1.536751</td>\n      <td>1.556540</td>\n    </tr>\n    <tr>\n      <th>4</th>\n      <td>1</td>\n      <td>9</td>\n      <td>0</td>\n      <td>2016</td>\n      <td>144.197952</td>\n      <td>0.998413</td>\n      <td>1.000000</td>\n      <td>1.000</td>\n      <td>0.981670</td>\n      <td>8.971702</td>\n      <td>...</td>\n      <td>6615.688965</td>\n      <td>1.117497</td>\n      <td>1.098954</td>\n      <td>2.046049</td>\n      <td>2.046049</td>\n      <td>1.914177</td>\n      <td>1.600437</td>\n      <td>1.587388</td>\n      <td>1.536751</td>\n      <td>1.553172</td>\n    </tr>\n    <tr>\n      <th>...</th>\n      <td>...</td>\n      <td>...</td>\n      <td>...</td>\n      <td>...</td>\n      <td>...</td>\n      <td>...</td>\n      <td>...</td>\n      <td>...</td>\n      <td>...</td>\n      <td>...</td>\n      <td>...</td>\n      <td>...</td>\n      <td>...</td>\n      <td>...</td>\n      <td>...</td>\n      <td>...</td>\n      <td>...</td>\n      <td>...</td>\n      <td>...</td>\n      <td>...</td>\n      <td>...</td>\n    </tr>\n    <tr>\n      <th>84</th>\n      <td>1</td>\n      <td>9</td>\n      <td>0</td>\n      <td>2096</td>\n      <td>123.022781</td>\n      <td>0.941449</td>\n      <td>0.927835</td>\n      <td>0.975</td>\n      <td>0.981816</td>\n      <td>8.618203</td>\n      <td>...</td>\n      <td>6646.553711</td>\n      <td>1.132807</td>\n      <td>1.111848</td>\n      <td>2.182353</td>\n      <td>2.182353</td>\n      <td>2.033296</td>\n      <td>1.678676</td>\n      <td>1.663926</td>\n      <td>1.606691</td>\n      <td>1.679334</td>\n    </tr>\n    <tr>\n      <th>85</th>\n      <td>1</td>\n      <td>9</td>\n      <td>0</td>\n      <td>2097</td>\n      <td>122.999283</td>\n      <td>0.941269</td>\n      <td>0.927835</td>\n      <td>0.975</td>\n      <td>0.981816</td>\n      <td>8.618203</td>\n      <td>...</td>\n      <td>6647.082031</td>\n      <td>1.132807</td>\n      <td>1.111848</td>\n      <td>2.182353</td>\n      <td>2.182353</td>\n      <td>2.033296</td>\n      <td>1.678676</td>\n      <td>1.663926</td>\n      <td>1.606691</td>\n      <td>1.679399</td>\n    </tr>\n    <tr>\n      <th>86</th>\n      <td>1</td>\n      <td>9</td>\n      <td>0</td>\n      <td>2098</td>\n      <td>122.978004</td>\n      <td>0.941106</td>\n      <td>0.927835</td>\n      <td>0.975</td>\n      <td>0.981816</td>\n      <td>8.618203</td>\n      <td>...</td>\n      <td>6647.561523</td>\n      <td>1.132807</td>\n      <td>1.111848</td>\n      <td>2.182353</td>\n      <td>2.182353</td>\n      <td>2.033296</td>\n      <td>1.678676</td>\n      <td>1.663926</td>\n      <td>1.606691</td>\n      <td>1.679458</td>\n    </tr>\n    <tr>\n      <th>87</th>\n      <td>1</td>\n      <td>9</td>\n      <td>0</td>\n      <td>2099</td>\n      <td>122.958557</td>\n      <td>0.940957</td>\n      <td>0.927835</td>\n      <td>0.975</td>\n      <td>0.981816</td>\n      <td>8.618203</td>\n      <td>...</td>\n      <td>6648.000488</td>\n      <td>1.132807</td>\n      <td>1.111848</td>\n      <td>2.182353</td>\n      <td>2.182353</td>\n      <td>2.033296</td>\n      <td>1.678676</td>\n      <td>1.663926</td>\n      <td>1.606691</td>\n      <td>1.679512</td>\n    </tr>\n    <tr>\n      <th>88</th>\n      <td>1</td>\n      <td>9</td>\n      <td>0</td>\n      <td>2100</td>\n      <td>122.940399</td>\n      <td>0.940818</td>\n      <td>0.927835</td>\n      <td>0.975</td>\n      <td>0.981816</td>\n      <td>8.618203</td>\n      <td>...</td>\n      <td>6648.408691</td>\n      <td>1.132807</td>\n      <td>1.111848</td>\n      <td>2.182353</td>\n      <td>2.182353</td>\n      <td>2.033296</td>\n      <td>1.678676</td>\n      <td>1.663926</td>\n      <td>1.606691</td>\n      <td>1.679562</td>\n    </tr>\n  </tbody>\n</table>\n<p>89 rows × 179 columns</p>\n</div>"
     },
     "execution_count": 17,
     "metadata": {},
     "output_type": "execute_result"
    }
   ],
   "source": [
    "travel_demand"
   ],
   "metadata": {
    "collapsed": false,
    "pycharm": {
     "name": "#%%\n"
    }
   }
  },
  {
   "cell_type": "code",
   "execution_count": 16,
   "outputs": [],
   "source": [
    "# write to csv\n",
    "travel_demand.to_csv(f'./TEAM-Kenya_data_out/Travel_demand_TEAM-Kenya.csv', index=False)"
   ],
   "metadata": {
    "collapsed": false,
    "pycharm": {
     "name": "#%%\n"
    }
   }
  }
 ],
 "metadata": {
  "kernelspec": {
   "display_name": "Python 3",
   "language": "python",
   "name": "python3"
  },
  "language_info": {
   "codemirror_mode": {
    "name": "ipython",
    "version": 2
   },
   "file_extension": ".py",
   "mimetype": "text/x-python",
   "name": "python",
   "nbconvert_exporter": "python",
   "pygments_lexer": "ipython2",
   "version": "2.7.6"
  }
 },
 "nbformat": 4,
 "nbformat_minor": 0
}