{
 "cells": [
  {
   "cell_type": "markdown",
   "source": [
    "This workbook is a workaround as the AEMDA data is incorrect (TechIDs are mixed up).\n",
    "\n",
    "This workbook takes the numveh95 table (from TEAM-Kenya) and the technology table. It 'refreshes' the techIDs.\n",
    "\n",
    "*WARNING WARNING* this is quick + dirty. Waiting for Paschal's analysis."
   ],
   "metadata": {
    "collapsed": false,
    "pycharm": {
     "name": "#%% md\n"
    }
   }
  },
  {
   "cell_type": "code",
   "execution_count": 9,
   "outputs": [],
   "source": [
    "import pandas as pd"
   ],
   "metadata": {
    "collapsed": false,
    "pycharm": {
     "name": "#%%\n"
    }
   }
  },
  {
   "cell_type": "code",
   "execution_count": 10,
   "outputs": [
    {
     "data": {
      "text/plain": "      CountryID  TechID  Age  TransTypeID  VehTypeID  MassCatID  EngineID  \\\n0             9      70    5            1          3          1         1   \n1             9      70    6            1          3          1         1   \n2             9      70    7            1          3          1         1   \n3             9      70    8            1          3          1         1   \n4             9      70    9            1          3          1         1   \n...         ...     ...  ...          ...        ...        ...       ...   \n5205          9    4275   16            1          8         45         7   \n5206          9    4275   32            1          8         45         7   \n5207          9    4275   33            1          8         45         7   \n5208          9    4275   34            1          8         45         7   \n5209          9    4275   35            1          8         45         7   \n\n      FuelID        NumVeh  \n0          1  8.469686e+01  \n1          1  1.693937e+02  \n2          1  5.928780e+02  \n3          1  6.775749e+02  \n4          1  9.316654e+02  \n...      ...           ...  \n5205      15  9.028010e-02  \n5206      15  3.025660e-12  \n5207      15  3.782154e-16  \n5208      15  2.250437e-21  \n5209      15  5.665234e-28  \n\n[5210 rows x 9 columns]",
      "text/html": "<div>\n<style scoped>\n    .dataframe tbody tr th:only-of-type {\n        vertical-align: middle;\n    }\n\n    .dataframe tbody tr th {\n        vertical-align: top;\n    }\n\n    .dataframe thead th {\n        text-align: right;\n    }\n</style>\n<table border=\"1\" class=\"dataframe\">\n  <thead>\n    <tr style=\"text-align: right;\">\n      <th></th>\n      <th>CountryID</th>\n      <th>TechID</th>\n      <th>Age</th>\n      <th>TransTypeID</th>\n      <th>VehTypeID</th>\n      <th>MassCatID</th>\n      <th>EngineID</th>\n      <th>FuelID</th>\n      <th>NumVeh</th>\n    </tr>\n  </thead>\n  <tbody>\n    <tr>\n      <th>0</th>\n      <td>9</td>\n      <td>70</td>\n      <td>5</td>\n      <td>1</td>\n      <td>3</td>\n      <td>1</td>\n      <td>1</td>\n      <td>1</td>\n      <td>8.469686e+01</td>\n    </tr>\n    <tr>\n      <th>1</th>\n      <td>9</td>\n      <td>70</td>\n      <td>6</td>\n      <td>1</td>\n      <td>3</td>\n      <td>1</td>\n      <td>1</td>\n      <td>1</td>\n      <td>1.693937e+02</td>\n    </tr>\n    <tr>\n      <th>2</th>\n      <td>9</td>\n      <td>70</td>\n      <td>7</td>\n      <td>1</td>\n      <td>3</td>\n      <td>1</td>\n      <td>1</td>\n      <td>1</td>\n      <td>5.928780e+02</td>\n    </tr>\n    <tr>\n      <th>3</th>\n      <td>9</td>\n      <td>70</td>\n      <td>8</td>\n      <td>1</td>\n      <td>3</td>\n      <td>1</td>\n      <td>1</td>\n      <td>1</td>\n      <td>6.775749e+02</td>\n    </tr>\n    <tr>\n      <th>4</th>\n      <td>9</td>\n      <td>70</td>\n      <td>9</td>\n      <td>1</td>\n      <td>3</td>\n      <td>1</td>\n      <td>1</td>\n      <td>1</td>\n      <td>9.316654e+02</td>\n    </tr>\n    <tr>\n      <th>...</th>\n      <td>...</td>\n      <td>...</td>\n      <td>...</td>\n      <td>...</td>\n      <td>...</td>\n      <td>...</td>\n      <td>...</td>\n      <td>...</td>\n      <td>...</td>\n    </tr>\n    <tr>\n      <th>5205</th>\n      <td>9</td>\n      <td>4275</td>\n      <td>16</td>\n      <td>1</td>\n      <td>8</td>\n      <td>45</td>\n      <td>7</td>\n      <td>15</td>\n      <td>9.028010e-02</td>\n    </tr>\n    <tr>\n      <th>5206</th>\n      <td>9</td>\n      <td>4275</td>\n      <td>32</td>\n      <td>1</td>\n      <td>8</td>\n      <td>45</td>\n      <td>7</td>\n      <td>15</td>\n      <td>3.025660e-12</td>\n    </tr>\n    <tr>\n      <th>5207</th>\n      <td>9</td>\n      <td>4275</td>\n      <td>33</td>\n      <td>1</td>\n      <td>8</td>\n      <td>45</td>\n      <td>7</td>\n      <td>15</td>\n      <td>3.782154e-16</td>\n    </tr>\n    <tr>\n      <th>5208</th>\n      <td>9</td>\n      <td>4275</td>\n      <td>34</td>\n      <td>1</td>\n      <td>8</td>\n      <td>45</td>\n      <td>7</td>\n      <td>15</td>\n      <td>2.250437e-21</td>\n    </tr>\n    <tr>\n      <th>5209</th>\n      <td>9</td>\n      <td>4275</td>\n      <td>35</td>\n      <td>1</td>\n      <td>8</td>\n      <td>45</td>\n      <td>7</td>\n      <td>15</td>\n      <td>5.665234e-28</td>\n    </tr>\n  </tbody>\n</table>\n<p>5210 rows × 9 columns</p>\n</div>"
     },
     "execution_count": 10,
     "metadata": {},
     "output_type": "execute_result"
    }
   ],
   "source": [
    "numveh95 = pd.read_csv(f'./ccg_team_notebook/out_data/processed/numveh95.csv')\n",
    "numveh95"
   ],
   "metadata": {
    "collapsed": false,
    "pycharm": {
     "name": "#%%\n"
    }
   }
  },
  {
   "cell_type": "code",
   "execution_count": 11,
   "outputs": [
    {
     "data": {
      "text/plain": "      TechID  ModeID  VehTypeID  MassCatID  FuelID  EngineID  TransTypeID  \\\n0         10       1          2          4       1        10            1   \n1         20       1          2          4      12        10            1   \n2         25       1          2          4      12        11            1   \n3         26       1          2          4      12        12            1   \n4         30       1          2          4       1        11            1   \n...      ...     ...        ...        ...     ...       ...          ...   \n2241   14889       1          5         28      13        13            2   \n2242   14890       1          5         28      13        13            2   \n2243   14891       1          5         28      13        13            2   \n2244   14892       1          5         28      13        13            2   \n2245   14893       1          5         28      13        13            2   \n\n      Availability  Final_Year  HybridFlag  spec_energ_consump  \\\n0             1980      2000.0           0            6.571951   \n1             1995      2010.0           0            9.514442   \n2             2010      2020.0           0            8.380919   \n3             2020         NaN           0            7.183646   \n4             2000      2010.0           0            5.645645   \n...            ...         ...         ...                 ...   \n2241          2033      2038.0           0          179.200000   \n2242          2038      2043.0           0          153.890000   \n2243          2043      2048.0           0          132.150000   \n2244          2048      2053.0           0          113.480000   \n2245          2053         NaN           0           97.450000   \n\n      spec_energ_electric  noise_class  PurchasePrice  ExpectedLifeFactor  \\\n0                     NaN            0         5000.0                   1   \n1                     NaN            2         7000.0                   1   \n2                     NaN            2         6000.0                   1   \n3                     NaN            2         5500.0                   1   \n4                     NaN            0         5000.0                   1   \n...                   ...          ...            ...                 ...   \n2241                  1.0            2        14000.0                   1   \n2242                  1.0            2        12000.0                   1   \n2243                  1.0            2        12000.0                   1   \n2244                  1.0            2        12000.0                   1   \n2245                  1.0            2        12000.0                   1   \n\n      Capacity  AveEconLife  SecondHandImportFlag  \n0          2.0           10                     0  \n1          2.0           10                     0  \n2          2.0           10                     0  \n3          2.0           10                     0  \n4          2.0           10                     0  \n...        ...          ...                   ...  \n2241       2.5           10                     1  \n2242       2.5           10                     1  \n2243       2.5           10                     1  \n2244       2.5           10                     1  \n2245       2.5           10                     1  \n\n[2246 rows x 18 columns]",
      "text/html": "<div>\n<style scoped>\n    .dataframe tbody tr th:only-of-type {\n        vertical-align: middle;\n    }\n\n    .dataframe tbody tr th {\n        vertical-align: top;\n    }\n\n    .dataframe thead th {\n        text-align: right;\n    }\n</style>\n<table border=\"1\" class=\"dataframe\">\n  <thead>\n    <tr style=\"text-align: right;\">\n      <th></th>\n      <th>TechID</th>\n      <th>ModeID</th>\n      <th>VehTypeID</th>\n      <th>MassCatID</th>\n      <th>FuelID</th>\n      <th>EngineID</th>\n      <th>TransTypeID</th>\n      <th>Availability</th>\n      <th>Final_Year</th>\n      <th>HybridFlag</th>\n      <th>spec_energ_consump</th>\n      <th>spec_energ_electric</th>\n      <th>noise_class</th>\n      <th>PurchasePrice</th>\n      <th>ExpectedLifeFactor</th>\n      <th>Capacity</th>\n      <th>AveEconLife</th>\n      <th>SecondHandImportFlag</th>\n    </tr>\n  </thead>\n  <tbody>\n    <tr>\n      <th>0</th>\n      <td>10</td>\n      <td>1</td>\n      <td>2</td>\n      <td>4</td>\n      <td>1</td>\n      <td>10</td>\n      <td>1</td>\n      <td>1980</td>\n      <td>2000.0</td>\n      <td>0</td>\n      <td>6.571951</td>\n      <td>NaN</td>\n      <td>0</td>\n      <td>5000.0</td>\n      <td>1</td>\n      <td>2.0</td>\n      <td>10</td>\n      <td>0</td>\n    </tr>\n    <tr>\n      <th>1</th>\n      <td>20</td>\n      <td>1</td>\n      <td>2</td>\n      <td>4</td>\n      <td>12</td>\n      <td>10</td>\n      <td>1</td>\n      <td>1995</td>\n      <td>2010.0</td>\n      <td>0</td>\n      <td>9.514442</td>\n      <td>NaN</td>\n      <td>2</td>\n      <td>7000.0</td>\n      <td>1</td>\n      <td>2.0</td>\n      <td>10</td>\n      <td>0</td>\n    </tr>\n    <tr>\n      <th>2</th>\n      <td>25</td>\n      <td>1</td>\n      <td>2</td>\n      <td>4</td>\n      <td>12</td>\n      <td>11</td>\n      <td>1</td>\n      <td>2010</td>\n      <td>2020.0</td>\n      <td>0</td>\n      <td>8.380919</td>\n      <td>NaN</td>\n      <td>2</td>\n      <td>6000.0</td>\n      <td>1</td>\n      <td>2.0</td>\n      <td>10</td>\n      <td>0</td>\n    </tr>\n    <tr>\n      <th>3</th>\n      <td>26</td>\n      <td>1</td>\n      <td>2</td>\n      <td>4</td>\n      <td>12</td>\n      <td>12</td>\n      <td>1</td>\n      <td>2020</td>\n      <td>NaN</td>\n      <td>0</td>\n      <td>7.183646</td>\n      <td>NaN</td>\n      <td>2</td>\n      <td>5500.0</td>\n      <td>1</td>\n      <td>2.0</td>\n      <td>10</td>\n      <td>0</td>\n    </tr>\n    <tr>\n      <th>4</th>\n      <td>30</td>\n      <td>1</td>\n      <td>2</td>\n      <td>4</td>\n      <td>1</td>\n      <td>11</td>\n      <td>1</td>\n      <td>2000</td>\n      <td>2010.0</td>\n      <td>0</td>\n      <td>5.645645</td>\n      <td>NaN</td>\n      <td>0</td>\n      <td>5000.0</td>\n      <td>1</td>\n      <td>2.0</td>\n      <td>10</td>\n      <td>0</td>\n    </tr>\n    <tr>\n      <th>...</th>\n      <td>...</td>\n      <td>...</td>\n      <td>...</td>\n      <td>...</td>\n      <td>...</td>\n      <td>...</td>\n      <td>...</td>\n      <td>...</td>\n      <td>...</td>\n      <td>...</td>\n      <td>...</td>\n      <td>...</td>\n      <td>...</td>\n      <td>...</td>\n      <td>...</td>\n      <td>...</td>\n      <td>...</td>\n      <td>...</td>\n    </tr>\n    <tr>\n      <th>2241</th>\n      <td>14889</td>\n      <td>1</td>\n      <td>5</td>\n      <td>28</td>\n      <td>13</td>\n      <td>13</td>\n      <td>2</td>\n      <td>2033</td>\n      <td>2038.0</td>\n      <td>0</td>\n      <td>179.200000</td>\n      <td>1.0</td>\n      <td>2</td>\n      <td>14000.0</td>\n      <td>1</td>\n      <td>2.5</td>\n      <td>10</td>\n      <td>1</td>\n    </tr>\n    <tr>\n      <th>2242</th>\n      <td>14890</td>\n      <td>1</td>\n      <td>5</td>\n      <td>28</td>\n      <td>13</td>\n      <td>13</td>\n      <td>2</td>\n      <td>2038</td>\n      <td>2043.0</td>\n      <td>0</td>\n      <td>153.890000</td>\n      <td>1.0</td>\n      <td>2</td>\n      <td>12000.0</td>\n      <td>1</td>\n      <td>2.5</td>\n      <td>10</td>\n      <td>1</td>\n    </tr>\n    <tr>\n      <th>2243</th>\n      <td>14891</td>\n      <td>1</td>\n      <td>5</td>\n      <td>28</td>\n      <td>13</td>\n      <td>13</td>\n      <td>2</td>\n      <td>2043</td>\n      <td>2048.0</td>\n      <td>0</td>\n      <td>132.150000</td>\n      <td>1.0</td>\n      <td>2</td>\n      <td>12000.0</td>\n      <td>1</td>\n      <td>2.5</td>\n      <td>10</td>\n      <td>1</td>\n    </tr>\n    <tr>\n      <th>2244</th>\n      <td>14892</td>\n      <td>1</td>\n      <td>5</td>\n      <td>28</td>\n      <td>13</td>\n      <td>13</td>\n      <td>2</td>\n      <td>2048</td>\n      <td>2053.0</td>\n      <td>0</td>\n      <td>113.480000</td>\n      <td>1.0</td>\n      <td>2</td>\n      <td>12000.0</td>\n      <td>1</td>\n      <td>2.5</td>\n      <td>10</td>\n      <td>1</td>\n    </tr>\n    <tr>\n      <th>2245</th>\n      <td>14893</td>\n      <td>1</td>\n      <td>5</td>\n      <td>28</td>\n      <td>13</td>\n      <td>13</td>\n      <td>2</td>\n      <td>2053</td>\n      <td>NaN</td>\n      <td>0</td>\n      <td>97.450000</td>\n      <td>1.0</td>\n      <td>2</td>\n      <td>12000.0</td>\n      <td>1</td>\n      <td>2.5</td>\n      <td>10</td>\n      <td>1</td>\n    </tr>\n  </tbody>\n</table>\n<p>2246 rows × 18 columns</p>\n</div>"
     },
     "execution_count": 11,
     "metadata": {},
     "output_type": "execute_result"
    }
   ],
   "source": [
    "technology = pd.read_excel(f'./ccg_team_notebook/sample_data/team_kenya_technology.xlsx')\n",
    "technology"
   ],
   "metadata": {
    "collapsed": false,
    "pycharm": {
     "name": "#%%\n"
    }
   }
  },
  {
   "cell_type": "markdown",
   "source": [],
   "metadata": {
    "collapsed": false,
    "pycharm": {
     "name": "#%% md\n"
    }
   }
  },
  {
   "cell_type": "code",
   "execution_count": 12,
   "outputs": [
    {
     "data": {
      "text/plain": "      CountryID  TechID  Age  TransTypeID  VehTypeID  MassCatID  EngineID  \\\n0             9      70    5            1          3          1         1   \n1             9      70    6            1          3          1         1   \n2             9      70    7            1          3          1         1   \n3             9      70    8            1          3          1         1   \n4             9      70    9            1          3          1         1   \n...         ...     ...  ...          ...        ...        ...       ...   \n5205          9    4275   16            1          8         45         7   \n5206          9    4275   32            1          8         45         7   \n5207          9    4275   33            1          8         45         7   \n5208          9    4275   34            1          8         45         7   \n5209          9    4275   35            1          8         45         7   \n\n      FuelID        NumVeh  \n0          1  8.469686e+01  \n1          1  1.693937e+02  \n2          1  5.928780e+02  \n3          1  6.775749e+02  \n4          1  9.316654e+02  \n...      ...           ...  \n5205      15  9.028010e-02  \n5206      15  3.025660e-12  \n5207      15  3.782154e-16  \n5208      15  2.250437e-21  \n5209      15  5.665234e-28  \n\n[5210 rows x 9 columns]",
      "text/html": "<div>\n<style scoped>\n    .dataframe tbody tr th:only-of-type {\n        vertical-align: middle;\n    }\n\n    .dataframe tbody tr th {\n        vertical-align: top;\n    }\n\n    .dataframe thead th {\n        text-align: right;\n    }\n</style>\n<table border=\"1\" class=\"dataframe\">\n  <thead>\n    <tr style=\"text-align: right;\">\n      <th></th>\n      <th>CountryID</th>\n      <th>TechID</th>\n      <th>Age</th>\n      <th>TransTypeID</th>\n      <th>VehTypeID</th>\n      <th>MassCatID</th>\n      <th>EngineID</th>\n      <th>FuelID</th>\n      <th>NumVeh</th>\n    </tr>\n  </thead>\n  <tbody>\n    <tr>\n      <th>0</th>\n      <td>9</td>\n      <td>70</td>\n      <td>5</td>\n      <td>1</td>\n      <td>3</td>\n      <td>1</td>\n      <td>1</td>\n      <td>1</td>\n      <td>8.469686e+01</td>\n    </tr>\n    <tr>\n      <th>1</th>\n      <td>9</td>\n      <td>70</td>\n      <td>6</td>\n      <td>1</td>\n      <td>3</td>\n      <td>1</td>\n      <td>1</td>\n      <td>1</td>\n      <td>1.693937e+02</td>\n    </tr>\n    <tr>\n      <th>2</th>\n      <td>9</td>\n      <td>70</td>\n      <td>7</td>\n      <td>1</td>\n      <td>3</td>\n      <td>1</td>\n      <td>1</td>\n      <td>1</td>\n      <td>5.928780e+02</td>\n    </tr>\n    <tr>\n      <th>3</th>\n      <td>9</td>\n      <td>70</td>\n      <td>8</td>\n      <td>1</td>\n      <td>3</td>\n      <td>1</td>\n      <td>1</td>\n      <td>1</td>\n      <td>6.775749e+02</td>\n    </tr>\n    <tr>\n      <th>4</th>\n      <td>9</td>\n      <td>70</td>\n      <td>9</td>\n      <td>1</td>\n      <td>3</td>\n      <td>1</td>\n      <td>1</td>\n      <td>1</td>\n      <td>9.316654e+02</td>\n    </tr>\n    <tr>\n      <th>...</th>\n      <td>...</td>\n      <td>...</td>\n      <td>...</td>\n      <td>...</td>\n      <td>...</td>\n      <td>...</td>\n      <td>...</td>\n      <td>...</td>\n      <td>...</td>\n    </tr>\n    <tr>\n      <th>5205</th>\n      <td>9</td>\n      <td>4275</td>\n      <td>16</td>\n      <td>1</td>\n      <td>8</td>\n      <td>45</td>\n      <td>7</td>\n      <td>15</td>\n      <td>9.028010e-02</td>\n    </tr>\n    <tr>\n      <th>5206</th>\n      <td>9</td>\n      <td>4275</td>\n      <td>32</td>\n      <td>1</td>\n      <td>8</td>\n      <td>45</td>\n      <td>7</td>\n      <td>15</td>\n      <td>3.025660e-12</td>\n    </tr>\n    <tr>\n      <th>5207</th>\n      <td>9</td>\n      <td>4275</td>\n      <td>33</td>\n      <td>1</td>\n      <td>8</td>\n      <td>45</td>\n      <td>7</td>\n      <td>15</td>\n      <td>3.782154e-16</td>\n    </tr>\n    <tr>\n      <th>5208</th>\n      <td>9</td>\n      <td>4275</td>\n      <td>34</td>\n      <td>1</td>\n      <td>8</td>\n      <td>45</td>\n      <td>7</td>\n      <td>15</td>\n      <td>2.250437e-21</td>\n    </tr>\n    <tr>\n      <th>5209</th>\n      <td>9</td>\n      <td>4275</td>\n      <td>35</td>\n      <td>1</td>\n      <td>8</td>\n      <td>45</td>\n      <td>7</td>\n      <td>15</td>\n      <td>5.665234e-28</td>\n    </tr>\n  </tbody>\n</table>\n<p>5210 rows × 9 columns</p>\n</div>"
     },
     "execution_count": 12,
     "metadata": {},
     "output_type": "execute_result"
    }
   ],
   "source": [
    "for i in list(numveh95.index.values):\n",
    "\n",
    "    # fetch parameters from this row\n",
    "    techid, transtype, vehtype, masscat, fuel, engine = numveh95.TechID[i], numveh95.TransTypeID[i], numveh95.VehTypeID[i], numveh95.MassCatID[i], numveh95.FuelID[i], numveh95.EngineID[i]\n",
    "\n",
    "    # return matched records in technology\n",
    "    tech = technology[(technology.TransTypeID == transtype) & (technology.VehTypeID == vehtype) & (technology.MassCatID == masscat) & (technology.FuelID == fuel) & (technology.EngineID == engine)]\n",
    "\n",
    "    if techid not in tech.TechID.tolist():  # then there is a mismatch\n",
    "\n",
    "        if not tech.empty:\n",
    "\n",
    "            if techid > 9000 and not tech[tech.TechID > 9000].empty:\n",
    "                numveh95.at[i, 'TechID'] = tech[tech.TechID > 9000].TechID.tolist()[0]\n",
    "\n",
    "            else:\n",
    "                numveh95.at[i, 'TechID'] = tech.TechID.tolist()[0]\n",
    "\n",
    "        else:  # it is empty so find a simpler match\n",
    "\n",
    "            tech_simple = technology[(technology.VehTypeID == vehtype) & (technology.MassCatID == masscat) & (technology.FuelID == fuel)]\n",
    "\n",
    "            if not tech_simple.empty:\n",
    "\n",
    "                if techid > 9000 and not tech_simple[tech_simple.TechID > 9000].empty:\n",
    "                    numveh95.at[i, 'TechID'] = tech_simple[tech_simple.TechID > 9000].TechID.tolist()[0]\n",
    "\n",
    "                else:\n",
    "                    numveh95.at[i, 'TechID'] = tech_simple.TechID.tolist()[0]\n",
    "\n",
    "            else:  # then god help us all just go for vehicle and fuel\n",
    "\n",
    "                tech_super_simple = technology[(technology.VehTypeID == vehtype) & (technology.FuelID == fuel)]\n",
    "\n",
    "                if not tech_super_simple.empty:\n",
    "\n",
    "                    if techid > 9000 and not tech_super_simple[tech_super_simple.TechID > 9000].empty:\n",
    "                        numveh95.at[i, 'TechID'] = tech_super_simple[tech_super_simple.TechID > 9000].TechID.tolist()[0]\n",
    "\n",
    "                    else:\n",
    "                        numveh95.at[i, 'TechID'] = tech_super_simple.TechID.tolist()[0]\n",
    "\n",
    "                else:  # then wtf\n",
    "\n",
    "                    numveh95.at[i, 'TechID'] = technology[technology.VehTypeID==vehtype].TechID.tolist()[0]\n",
    "\n",
    "numveh95"
   ],
   "metadata": {
    "collapsed": false,
    "pycharm": {
     "name": "#%%\n"
    }
   }
  },
  {
   "cell_type": "code",
   "execution_count": 13,
   "outputs": [],
   "source": [
    "numveh95.to_csv(f'./ccg_team_notebook/out_data/processed/afema_bodge/numveh95_afemabodge.csv')"
   ],
   "metadata": {
    "collapsed": false,
    "pycharm": {
     "name": "#%%\n"
    }
   }
  }
 ],
 "metadata": {
  "kernelspec": {
   "display_name": "Python 3",
   "language": "python",
   "name": "python3"
  },
  "language_info": {
   "codemirror_mode": {
    "name": "ipython",
    "version": 2
   },
   "file_extension": ".py",
   "mimetype": "text/x-python",
   "name": "python",
   "nbconvert_exporter": "python",
   "pygments_lexer": "ipython2",
   "version": "2.7.6"
  }
 },
 "nbformat": 4,
 "nbformat_minor": 0
}