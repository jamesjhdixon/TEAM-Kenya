{
 "cells": [
  {
   "cell_type": "code",
   "execution_count": 1,
   "id": "692dee5e",
   "metadata": {},
   "outputs": [],
   "source": [
    "import pandas as pd"
   ]
  },
  {
   "cell_type": "code",
   "execution_count": 2,
   "id": "c7cae5cf",
   "metadata": {},
   "outputs": [
    {
     "ename": "NameError",
     "evalue": "name 'categories' is not defined",
     "output_type": "error",
     "traceback": [
      "\u001b[0;31m---------------------------------------------------------------------------\u001b[0m",
      "\u001b[0;31mNameError\u001b[0m                                 Traceback (most recent call last)",
      "Input \u001b[0;32mIn [2]\u001b[0m, in \u001b[0;36m<cell line: 1>\u001b[0;34m()\u001b[0m\n\u001b[0;32m----> 1\u001b[0m \u001b[38;5;28;01mfor\u001b[39;00m category \u001b[38;5;129;01min\u001b[39;00m \u001b[43mcategories\u001b[49m:\n\u001b[1;32m      2\u001b[0m     df\u001b[38;5;241m=\u001b[39mpd\u001b[38;5;241m.\u001b[39mread_csv(\u001b[38;5;124m'\u001b[39m\u001b[38;5;124m./data/\u001b[39m\u001b[38;5;124m'\u001b[39m\u001b[38;5;241m+\u001b[39mcategory)\n\u001b[1;32m      3\u001b[0m     indicators \u001b[38;5;241m=\u001b[39m \u001b[38;5;28mlist\u001b[39m(df\u001b[38;5;241m.\u001b[39mdrop_duplicates([\u001b[38;5;124m'\u001b[39m\u001b[38;5;124mIndicator\u001b[39m\u001b[38;5;124m'\u001b[39m])\u001b[38;5;241m.\u001b[39mIndicator\u001b[38;5;241m.\u001b[39mdropna())\n",
      "\u001b[0;31mNameError\u001b[0m: name 'categories' is not defined"
     ]
    }
   ],
   "source": [
    "categories = [\n",
    "    'technology.csv',\n",
    "'policy.csv',\n",
    "'finance.csv',\n",
    "'energy.csv',\n",
    "]\n",
    "for category in categories:\n",
    "    df=pd.read_csv('./data/'+category)\n",
    "    indicators = list(df.drop_duplicates(['Indicator']).Indicator.dropna())\n",
    "    print('\\n')\n",
    "    for indicator in indicators:\n",
    "        indicator_df = df.query(f\"Indicator =='{indicator}'\")\n",
    "        empty_df = indicator_df.query(f\"(Value.isnull() | Value == 0)\")\n",
    "        indicator_df_len=len(indicator_df)\n",
    "        empty_df_len = len(empty_df)\n",
    "        print(f'[{category}]{indicator}, {empty_df_len} of {indicator_df_len} = {round(empty_df_len/indicator_df_len*100, 2)}% is unkown')"
   ]
  },
  {
   "cell_type": "code",
   "execution_count": null,
   "id": "7707832c",
   "metadata": {},
   "outputs": [],
   "source": []
  }
 ],
 "metadata": {
  "kernelspec": {
   "display_name": "Python 3 (ipykernel)",
   "language": "python",
   "name": "python3"
  },
  "language_info": {
   "codemirror_mode": {
    "name": "ipython",
    "version": 3
   },
   "file_extension": ".py",
   "mimetype": "text/x-python",
   "name": "python",
   "nbconvert_exporter": "python",
   "pygments_lexer": "ipython3",
   "version": "3.9.13"
  }
 },
 "nbformat": 4,
 "nbformat_minor": 5
}
