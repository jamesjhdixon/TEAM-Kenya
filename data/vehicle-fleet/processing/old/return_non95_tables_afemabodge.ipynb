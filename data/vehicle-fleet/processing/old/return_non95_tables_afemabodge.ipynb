{
 "cells": [
  {
   "cell_type": "markdown",
   "id": "bca7936d",
   "metadata": {
    "pycharm": {
     "name": "#%% md\n"
    }
   },
   "source": [
    "TEAM-Kenya is not working and it may be that there are no records of the TechIDs that should be there after the base year. Therefore this notebok takes the established base year (XX95) tables and creates projection tables into the future. the data for years after the base year can be bogus."
   ]
  },
  {
   "cell_type": "code",
   "execution_count": 1,
   "outputs": [],
   "source": [
    "import pandas as pd\n",
    "import numpy as np"
   ],
   "metadata": {
    "collapsed": false,
    "pycharm": {
     "name": "#%%\n"
    }
   }
  },
  {
   "cell_type": "markdown",
   "id": "698baaac",
   "metadata": {
    "pycharm": {
     "name": "#%% md\n"
    }
   },
   "source": [
    "<b>FOR NUMVEH</b>"
   ]
  },
  {
   "cell_type": "code",
   "execution_count": 2,
   "id": "e2750199",
   "metadata": {
    "pycharm": {
     "name": "#%%\n"
    }
   },
   "outputs": [
    {
     "data": {
      "text/plain": "      Unnamed: 0  CountryID  TechID  Age  TransTypeID  VehTypeID  MassCatID  \\\n0            0.0          9      70    5            1          3          1   \n1            1.0          9      70    6            1          3          1   \n2            2.0          9      70    7            1          3          1   \n3            3.0          9      70    8            1          3          1   \n4            4.0          9      70    9            1          3          1   \n...          ...        ...     ...  ...          ...        ...        ...   \n6501         NaN          9    4275   16            1          8         45   \n6502         NaN          9    4275   32            1          8         45   \n6503         NaN          9    4275   33            1          8         45   \n6504         NaN          9    4275   34            1          8         45   \n6505         NaN          9    4275   35            1          8         45   \n\n      EngineID  FuelID        NumVeh  \n0            1       1  8.469686e+01  \n1            1       1  1.693937e+02  \n2            1       1  5.928780e+02  \n3            1       1  6.775749e+02  \n4            1       1  9.316654e+02  \n...        ...     ...           ...  \n6501         7      15  9.028010e-02  \n6502         7      15  3.025660e-12  \n6503         7      15  3.782154e-16  \n6504         7      15  2.250437e-21  \n6505         7      15  5.665234e-28  \n\n[6506 rows x 10 columns]",
      "text/html": "<div>\n<style scoped>\n    .dataframe tbody tr th:only-of-type {\n        vertical-align: middle;\n    }\n\n    .dataframe tbody tr th {\n        vertical-align: top;\n    }\n\n    .dataframe thead th {\n        text-align: right;\n    }\n</style>\n<table border=\"1\" class=\"dataframe\">\n  <thead>\n    <tr style=\"text-align: right;\">\n      <th></th>\n      <th>Unnamed: 0</th>\n      <th>CountryID</th>\n      <th>TechID</th>\n      <th>Age</th>\n      <th>TransTypeID</th>\n      <th>VehTypeID</th>\n      <th>MassCatID</th>\n      <th>EngineID</th>\n      <th>FuelID</th>\n      <th>NumVeh</th>\n    </tr>\n  </thead>\n  <tbody>\n    <tr>\n      <th>0</th>\n      <td>0.0</td>\n      <td>9</td>\n      <td>70</td>\n      <td>5</td>\n      <td>1</td>\n      <td>3</td>\n      <td>1</td>\n      <td>1</td>\n      <td>1</td>\n      <td>8.469686e+01</td>\n    </tr>\n    <tr>\n      <th>1</th>\n      <td>1.0</td>\n      <td>9</td>\n      <td>70</td>\n      <td>6</td>\n      <td>1</td>\n      <td>3</td>\n      <td>1</td>\n      <td>1</td>\n      <td>1</td>\n      <td>1.693937e+02</td>\n    </tr>\n    <tr>\n      <th>2</th>\n      <td>2.0</td>\n      <td>9</td>\n      <td>70</td>\n      <td>7</td>\n      <td>1</td>\n      <td>3</td>\n      <td>1</td>\n      <td>1</td>\n      <td>1</td>\n      <td>5.928780e+02</td>\n    </tr>\n    <tr>\n      <th>3</th>\n      <td>3.0</td>\n      <td>9</td>\n      <td>70</td>\n      <td>8</td>\n      <td>1</td>\n      <td>3</td>\n      <td>1</td>\n      <td>1</td>\n      <td>1</td>\n      <td>6.775749e+02</td>\n    </tr>\n    <tr>\n      <th>4</th>\n      <td>4.0</td>\n      <td>9</td>\n      <td>70</td>\n      <td>9</td>\n      <td>1</td>\n      <td>3</td>\n      <td>1</td>\n      <td>1</td>\n      <td>1</td>\n      <td>9.316654e+02</td>\n    </tr>\n    <tr>\n      <th>...</th>\n      <td>...</td>\n      <td>...</td>\n      <td>...</td>\n      <td>...</td>\n      <td>...</td>\n      <td>...</td>\n      <td>...</td>\n      <td>...</td>\n      <td>...</td>\n      <td>...</td>\n    </tr>\n    <tr>\n      <th>6501</th>\n      <td>NaN</td>\n      <td>9</td>\n      <td>4275</td>\n      <td>16</td>\n      <td>1</td>\n      <td>8</td>\n      <td>45</td>\n      <td>7</td>\n      <td>15</td>\n      <td>9.028010e-02</td>\n    </tr>\n    <tr>\n      <th>6502</th>\n      <td>NaN</td>\n      <td>9</td>\n      <td>4275</td>\n      <td>32</td>\n      <td>1</td>\n      <td>8</td>\n      <td>45</td>\n      <td>7</td>\n      <td>15</td>\n      <td>3.025660e-12</td>\n    </tr>\n    <tr>\n      <th>6503</th>\n      <td>NaN</td>\n      <td>9</td>\n      <td>4275</td>\n      <td>33</td>\n      <td>1</td>\n      <td>8</td>\n      <td>45</td>\n      <td>7</td>\n      <td>15</td>\n      <td>3.782154e-16</td>\n    </tr>\n    <tr>\n      <th>6504</th>\n      <td>NaN</td>\n      <td>9</td>\n      <td>4275</td>\n      <td>34</td>\n      <td>1</td>\n      <td>8</td>\n      <td>45</td>\n      <td>7</td>\n      <td>15</td>\n      <td>2.250437e-21</td>\n    </tr>\n    <tr>\n      <th>6505</th>\n      <td>NaN</td>\n      <td>9</td>\n      <td>4275</td>\n      <td>35</td>\n      <td>1</td>\n      <td>8</td>\n      <td>45</td>\n      <td>7</td>\n      <td>15</td>\n      <td>5.665234e-28</td>\n    </tr>\n  </tbody>\n</table>\n<p>6506 rows × 10 columns</p>\n</div>"
     },
     "execution_count": 2,
     "metadata": {},
     "output_type": "execute_result"
    }
   ],
   "source": [
    "# import numveh95 table (output from AEMDA)\n",
    "numveh95 = pd.read_csv(f'./out_data/processed/afema_bodge/numveh95_afemabodge.csv')\n",
    "numveh95"
   ]
  },
  {
   "cell_type": "code",
   "execution_count": 3,
   "id": "9cdda8ca",
   "metadata": {
    "pycharm": {
     "name": "#%%\n"
    }
   },
   "outputs": [
    {
     "data": {
      "text/plain": "        ScenarioID  CountryID  TechID  Year  Age  TransTypeID  VehTypeID  \\\n0              0.0        0.0     0.0   0.0  0.0          0.0        0.0   \n1              0.0        0.0     0.0   0.0  0.0          0.0        0.0   \n2              0.0        0.0     0.0   0.0  0.0          0.0        0.0   \n3              0.0        0.0     0.0   0.0  0.0          0.0        0.0   \n4              0.0        0.0     0.0   0.0  0.0          0.0        0.0   \n...            ...        ...     ...   ...  ...          ...        ...   \n253729         0.0        0.0     0.0   0.0  0.0          0.0        0.0   \n253730         0.0        0.0     0.0   0.0  0.0          0.0        0.0   \n253731         0.0        0.0     0.0   0.0  0.0          0.0        0.0   \n253732         0.0        0.0     0.0   0.0  0.0          0.0        0.0   \n253733         0.0        0.0     0.0   0.0  0.0          0.0        0.0   \n\n        MassCatID  EngineID  FuelID  NumVeh  \n0             0.0       0.0     0.0     0.0  \n1             0.0       0.0     0.0     0.0  \n2             0.0       0.0     0.0     0.0  \n3             0.0       0.0     0.0     0.0  \n4             0.0       0.0     0.0     0.0  \n...           ...       ...     ...     ...  \n253729        0.0       0.0     0.0     0.0  \n253730        0.0       0.0     0.0     0.0  \n253731        0.0       0.0     0.0     0.0  \n253732        0.0       0.0     0.0     0.0  \n253733        0.0       0.0     0.0     0.0  \n\n[253734 rows x 11 columns]",
      "text/html": "<div>\n<style scoped>\n    .dataframe tbody tr th:only-of-type {\n        vertical-align: middle;\n    }\n\n    .dataframe tbody tr th {\n        vertical-align: top;\n    }\n\n    .dataframe thead th {\n        text-align: right;\n    }\n</style>\n<table border=\"1\" class=\"dataframe\">\n  <thead>\n    <tr style=\"text-align: right;\">\n      <th></th>\n      <th>ScenarioID</th>\n      <th>CountryID</th>\n      <th>TechID</th>\n      <th>Year</th>\n      <th>Age</th>\n      <th>TransTypeID</th>\n      <th>VehTypeID</th>\n      <th>MassCatID</th>\n      <th>EngineID</th>\n      <th>FuelID</th>\n      <th>NumVeh</th>\n    </tr>\n  </thead>\n  <tbody>\n    <tr>\n      <th>0</th>\n      <td>0.0</td>\n      <td>0.0</td>\n      <td>0.0</td>\n      <td>0.0</td>\n      <td>0.0</td>\n      <td>0.0</td>\n      <td>0.0</td>\n      <td>0.0</td>\n      <td>0.0</td>\n      <td>0.0</td>\n      <td>0.0</td>\n    </tr>\n    <tr>\n      <th>1</th>\n      <td>0.0</td>\n      <td>0.0</td>\n      <td>0.0</td>\n      <td>0.0</td>\n      <td>0.0</td>\n      <td>0.0</td>\n      <td>0.0</td>\n      <td>0.0</td>\n      <td>0.0</td>\n      <td>0.0</td>\n      <td>0.0</td>\n    </tr>\n    <tr>\n      <th>2</th>\n      <td>0.0</td>\n      <td>0.0</td>\n      <td>0.0</td>\n      <td>0.0</td>\n      <td>0.0</td>\n      <td>0.0</td>\n      <td>0.0</td>\n      <td>0.0</td>\n      <td>0.0</td>\n      <td>0.0</td>\n      <td>0.0</td>\n    </tr>\n    <tr>\n      <th>3</th>\n      <td>0.0</td>\n      <td>0.0</td>\n      <td>0.0</td>\n      <td>0.0</td>\n      <td>0.0</td>\n      <td>0.0</td>\n      <td>0.0</td>\n      <td>0.0</td>\n      <td>0.0</td>\n      <td>0.0</td>\n      <td>0.0</td>\n    </tr>\n    <tr>\n      <th>4</th>\n      <td>0.0</td>\n      <td>0.0</td>\n      <td>0.0</td>\n      <td>0.0</td>\n      <td>0.0</td>\n      <td>0.0</td>\n      <td>0.0</td>\n      <td>0.0</td>\n      <td>0.0</td>\n      <td>0.0</td>\n      <td>0.0</td>\n    </tr>\n    <tr>\n      <th>...</th>\n      <td>...</td>\n      <td>...</td>\n      <td>...</td>\n      <td>...</td>\n      <td>...</td>\n      <td>...</td>\n      <td>...</td>\n      <td>...</td>\n      <td>...</td>\n      <td>...</td>\n      <td>...</td>\n    </tr>\n    <tr>\n      <th>253729</th>\n      <td>0.0</td>\n      <td>0.0</td>\n      <td>0.0</td>\n      <td>0.0</td>\n      <td>0.0</td>\n      <td>0.0</td>\n      <td>0.0</td>\n      <td>0.0</td>\n      <td>0.0</td>\n      <td>0.0</td>\n      <td>0.0</td>\n    </tr>\n    <tr>\n      <th>253730</th>\n      <td>0.0</td>\n      <td>0.0</td>\n      <td>0.0</td>\n      <td>0.0</td>\n      <td>0.0</td>\n      <td>0.0</td>\n      <td>0.0</td>\n      <td>0.0</td>\n      <td>0.0</td>\n      <td>0.0</td>\n      <td>0.0</td>\n    </tr>\n    <tr>\n      <th>253731</th>\n      <td>0.0</td>\n      <td>0.0</td>\n      <td>0.0</td>\n      <td>0.0</td>\n      <td>0.0</td>\n      <td>0.0</td>\n      <td>0.0</td>\n      <td>0.0</td>\n      <td>0.0</td>\n      <td>0.0</td>\n      <td>0.0</td>\n    </tr>\n    <tr>\n      <th>253732</th>\n      <td>0.0</td>\n      <td>0.0</td>\n      <td>0.0</td>\n      <td>0.0</td>\n      <td>0.0</td>\n      <td>0.0</td>\n      <td>0.0</td>\n      <td>0.0</td>\n      <td>0.0</td>\n      <td>0.0</td>\n      <td>0.0</td>\n    </tr>\n    <tr>\n      <th>253733</th>\n      <td>0.0</td>\n      <td>0.0</td>\n      <td>0.0</td>\n      <td>0.0</td>\n      <td>0.0</td>\n      <td>0.0</td>\n      <td>0.0</td>\n      <td>0.0</td>\n      <td>0.0</td>\n      <td>0.0</td>\n      <td>0.0</td>\n    </tr>\n  </tbody>\n</table>\n<p>253734 rows × 11 columns</p>\n</div>"
     },
     "execution_count": 3,
     "metadata": {},
     "output_type": "execute_result"
    }
   ],
   "source": [
    "# extra columns are YEAR and ScenarioID (1)\n",
    "years = range(2012,2051)\n",
    "feature_list = ['ScenarioID', 'CountryID', 'TechID', 'Year', 'Age', 'TransTypeID', 'VehTypeID', 'MassCatID', 'EngineID', 'FuelID', 'NumVeh']\n",
    "\n",
    "zero_data = np.zeros(shape=(len(years)*len(numveh95),len(feature_list)))\n",
    "\n",
    "numveh = pd.DataFrame(zero_data, columns=feature_list)\n",
    "numveh"
   ]
  },
  {
   "cell_type": "code",
   "execution_count": 4,
   "id": "e73854a2",
   "metadata": {
    "pycharm": {
     "name": "#%%\n"
    }
   },
   "outputs": [
    {
     "data": {
      "text/plain": "        ScenarioID  CountryID  TechID  Year  Age  TransTypeID  VehTypeID  \\\n0                1          9      70  2012    5            1          3   \n1                1          9      70  2012    6            1          3   \n2                1          9      70  2012    7            1          3   \n3                1          9      70  2012    8            1          3   \n4                1          9      70  2012    9            1          3   \n...            ...        ...     ...   ...  ...          ...        ...   \n253729           1          9    4275  2050   16            1          8   \n253730           1          9    4275  2050   32            1          8   \n253731           1          9    4275  2050   33            1          8   \n253732           1          9    4275  2050   34            1          8   \n253733           1          9    4275  2050   35            1          8   \n\n        MassCatID  EngineID  FuelID      NumVeh  Unnamed: 0  \n0               1         1       1   84.696857         0.0  \n1               1         1       1  169.393714         1.0  \n2               1         1       1  592.878000         2.0  \n3               1         1       1  677.574857         3.0  \n4               1         1       1  931.665429         4.0  \n...           ...       ...     ...         ...         ...  \n253729         45         7      15    0.000000         NaN  \n253730         45         7      15    0.000000         NaN  \n253731         45         7      15    0.000000         NaN  \n253732         45         7      15    0.000000         NaN  \n253733         45         7      15    0.000000         NaN  \n\n[253734 rows x 12 columns]",
      "text/html": "<div>\n<style scoped>\n    .dataframe tbody tr th:only-of-type {\n        vertical-align: middle;\n    }\n\n    .dataframe tbody tr th {\n        vertical-align: top;\n    }\n\n    .dataframe thead th {\n        text-align: right;\n    }\n</style>\n<table border=\"1\" class=\"dataframe\">\n  <thead>\n    <tr style=\"text-align: right;\">\n      <th></th>\n      <th>ScenarioID</th>\n      <th>CountryID</th>\n      <th>TechID</th>\n      <th>Year</th>\n      <th>Age</th>\n      <th>TransTypeID</th>\n      <th>VehTypeID</th>\n      <th>MassCatID</th>\n      <th>EngineID</th>\n      <th>FuelID</th>\n      <th>NumVeh</th>\n      <th>Unnamed: 0</th>\n    </tr>\n  </thead>\n  <tbody>\n    <tr>\n      <th>0</th>\n      <td>1</td>\n      <td>9</td>\n      <td>70</td>\n      <td>2012</td>\n      <td>5</td>\n      <td>1</td>\n      <td>3</td>\n      <td>1</td>\n      <td>1</td>\n      <td>1</td>\n      <td>84.696857</td>\n      <td>0.0</td>\n    </tr>\n    <tr>\n      <th>1</th>\n      <td>1</td>\n      <td>9</td>\n      <td>70</td>\n      <td>2012</td>\n      <td>6</td>\n      <td>1</td>\n      <td>3</td>\n      <td>1</td>\n      <td>1</td>\n      <td>1</td>\n      <td>169.393714</td>\n      <td>1.0</td>\n    </tr>\n    <tr>\n      <th>2</th>\n      <td>1</td>\n      <td>9</td>\n      <td>70</td>\n      <td>2012</td>\n      <td>7</td>\n      <td>1</td>\n      <td>3</td>\n      <td>1</td>\n      <td>1</td>\n      <td>1</td>\n      <td>592.878000</td>\n      <td>2.0</td>\n    </tr>\n    <tr>\n      <th>3</th>\n      <td>1</td>\n      <td>9</td>\n      <td>70</td>\n      <td>2012</td>\n      <td>8</td>\n      <td>1</td>\n      <td>3</td>\n      <td>1</td>\n      <td>1</td>\n      <td>1</td>\n      <td>677.574857</td>\n      <td>3.0</td>\n    </tr>\n    <tr>\n      <th>4</th>\n      <td>1</td>\n      <td>9</td>\n      <td>70</td>\n      <td>2012</td>\n      <td>9</td>\n      <td>1</td>\n      <td>3</td>\n      <td>1</td>\n      <td>1</td>\n      <td>1</td>\n      <td>931.665429</td>\n      <td>4.0</td>\n    </tr>\n    <tr>\n      <th>...</th>\n      <td>...</td>\n      <td>...</td>\n      <td>...</td>\n      <td>...</td>\n      <td>...</td>\n      <td>...</td>\n      <td>...</td>\n      <td>...</td>\n      <td>...</td>\n      <td>...</td>\n      <td>...</td>\n      <td>...</td>\n    </tr>\n    <tr>\n      <th>253729</th>\n      <td>1</td>\n      <td>9</td>\n      <td>4275</td>\n      <td>2050</td>\n      <td>16</td>\n      <td>1</td>\n      <td>8</td>\n      <td>45</td>\n      <td>7</td>\n      <td>15</td>\n      <td>0.000000</td>\n      <td>NaN</td>\n    </tr>\n    <tr>\n      <th>253730</th>\n      <td>1</td>\n      <td>9</td>\n      <td>4275</td>\n      <td>2050</td>\n      <td>32</td>\n      <td>1</td>\n      <td>8</td>\n      <td>45</td>\n      <td>7</td>\n      <td>15</td>\n      <td>0.000000</td>\n      <td>NaN</td>\n    </tr>\n    <tr>\n      <th>253731</th>\n      <td>1</td>\n      <td>9</td>\n      <td>4275</td>\n      <td>2050</td>\n      <td>33</td>\n      <td>1</td>\n      <td>8</td>\n      <td>45</td>\n      <td>7</td>\n      <td>15</td>\n      <td>0.000000</td>\n      <td>NaN</td>\n    </tr>\n    <tr>\n      <th>253732</th>\n      <td>1</td>\n      <td>9</td>\n      <td>4275</td>\n      <td>2050</td>\n      <td>34</td>\n      <td>1</td>\n      <td>8</td>\n      <td>45</td>\n      <td>7</td>\n      <td>15</td>\n      <td>0.000000</td>\n      <td>NaN</td>\n    </tr>\n    <tr>\n      <th>253733</th>\n      <td>1</td>\n      <td>9</td>\n      <td>4275</td>\n      <td>2050</td>\n      <td>35</td>\n      <td>1</td>\n      <td>8</td>\n      <td>45</td>\n      <td>7</td>\n      <td>15</td>\n      <td>0.000000</td>\n      <td>NaN</td>\n    </tr>\n  </tbody>\n</table>\n<p>253734 rows × 12 columns</p>\n</div>"
     },
     "execution_count": 4,
     "metadata": {},
     "output_type": "execute_result"
    }
   ],
   "source": [
    "for year in years:\n",
    "    \n",
    "    if year == 2012:\n",
    "        numveh.loc[years.index(year)*len(numveh95):(years.index(year)+1)*len(numveh95)-1, numveh95.columns] = numveh95.loc[:, numveh95.columns].values\n",
    "        numveh.loc[years.index(year)*len(numveh95):(years.index(year)+1)*len(numveh95)-1, 'Year'] = year\n",
    "    else:\n",
    "        numveh.loc[years.index(year)*len(numveh95):(years.index(year)+1)*len(numveh95)-1, [c for c in numveh95.columns if c != 'NumVeh']] = numveh95.loc[:, [c for c in numveh95.columns if c != 'NumVeh']].values\n",
    "        numveh.loc[years.index(year)*len(numveh95):(years.index(year)+1)*len(numveh95)-1, 'Year'] = year\n",
    "\n",
    "numveh = numveh.reset_index(drop=True)\n",
    "numveh['ScenarioID'] = 1\n",
    "numveh[['CountryID', 'TechID', 'Year', 'Age', 'TransTypeID', 'VehTypeID', 'MassCatID', 'EngineID', 'FuelID']] = numveh[['CountryID', 'TechID', 'Year', 'Age', 'TransTypeID', 'VehTypeID', 'MassCatID', 'EngineID', 'FuelID']].astype(int)\n",
    "numveh"
   ]
  },
  {
   "cell_type": "code",
   "execution_count": 5,
   "id": "009e006d",
   "metadata": {
    "pycharm": {
     "name": "#%%\n"
    }
   },
   "outputs": [],
   "source": [
    "numveh.to_csv(f'./out_data/processed/afema_bodge/numveh_afemabodge.csv')"
   ]
  },
  {
   "cell_type": "markdown",
   "id": "8a479556",
   "metadata": {
    "pycharm": {
     "name": "#%% md\n"
    }
   },
   "source": [
    "<b>FOR NEWVEH</b>"
   ]
  },
  {
   "cell_type": "code",
   "execution_count": 6,
   "id": "140fb0af",
   "metadata": {
    "pycharm": {
     "name": "#%%\n"
    }
   },
   "outputs": [
    {
     "data": {
      "text/plain": "    Unnamed: 0  CountryID  TransTypeID  VehTypeID  MassCatID      NumNewVeh\n0            0          9            1          3          1   45798.337461\n1            1          9            1          3          2   11977.280044\n2            2          9            1          3          3    1763.104648\n3            3          9            1          4         11    2172.372116\n4            4          9            1          4         13     436.255768\n5            5          9            1          4         12    2172.372116\n6            6          9            1          2          4  139420.000000\n7            7          9            1          6         31       3.150600\n8            8          9            1          6         32      17.304700\n9            9          9            1          6         33       1.820150\n10          10          9            1          6         34       0.000000\n11          11          9            1          8         41       0.157711\n12          12          9            1          8         42       1.439874\n13          13          9            1          8         43       1.466184\n14          14          9            1          8         44       0.465685\n15          15          9            1          8         45       0.000000\n16          16          9            2          3         11    4667.094342\n17          17          9            2          3         21    4283.183505\n18          18          9            2          5         11    3629.949883\n19          19          9            2          5         21    7259.899767\n20          20          9            2          5         22   12229.277068\n21          21          9            2          5         23    4543.873281\n22          22          9            2          6         32       2.478000\n23          23          9            2          7         51       1.370166\n24          24          9            2          7         52       0.648814\n25          25          9            2          8         42       0.073854\n26          26          9            2          8         43       0.225357\n27          27          9            2          8         44       0.075122",
      "text/html": "<div>\n<style scoped>\n    .dataframe tbody tr th:only-of-type {\n        vertical-align: middle;\n    }\n\n    .dataframe tbody tr th {\n        vertical-align: top;\n    }\n\n    .dataframe thead th {\n        text-align: right;\n    }\n</style>\n<table border=\"1\" class=\"dataframe\">\n  <thead>\n    <tr style=\"text-align: right;\">\n      <th></th>\n      <th>Unnamed: 0</th>\n      <th>CountryID</th>\n      <th>TransTypeID</th>\n      <th>VehTypeID</th>\n      <th>MassCatID</th>\n      <th>NumNewVeh</th>\n    </tr>\n  </thead>\n  <tbody>\n    <tr>\n      <th>0</th>\n      <td>0</td>\n      <td>9</td>\n      <td>1</td>\n      <td>3</td>\n      <td>1</td>\n      <td>45798.337461</td>\n    </tr>\n    <tr>\n      <th>1</th>\n      <td>1</td>\n      <td>9</td>\n      <td>1</td>\n      <td>3</td>\n      <td>2</td>\n      <td>11977.280044</td>\n    </tr>\n    <tr>\n      <th>2</th>\n      <td>2</td>\n      <td>9</td>\n      <td>1</td>\n      <td>3</td>\n      <td>3</td>\n      <td>1763.104648</td>\n    </tr>\n    <tr>\n      <th>3</th>\n      <td>3</td>\n      <td>9</td>\n      <td>1</td>\n      <td>4</td>\n      <td>11</td>\n      <td>2172.372116</td>\n    </tr>\n    <tr>\n      <th>4</th>\n      <td>4</td>\n      <td>9</td>\n      <td>1</td>\n      <td>4</td>\n      <td>13</td>\n      <td>436.255768</td>\n    </tr>\n    <tr>\n      <th>5</th>\n      <td>5</td>\n      <td>9</td>\n      <td>1</td>\n      <td>4</td>\n      <td>12</td>\n      <td>2172.372116</td>\n    </tr>\n    <tr>\n      <th>6</th>\n      <td>6</td>\n      <td>9</td>\n      <td>1</td>\n      <td>2</td>\n      <td>4</td>\n      <td>139420.000000</td>\n    </tr>\n    <tr>\n      <th>7</th>\n      <td>7</td>\n      <td>9</td>\n      <td>1</td>\n      <td>6</td>\n      <td>31</td>\n      <td>3.150600</td>\n    </tr>\n    <tr>\n      <th>8</th>\n      <td>8</td>\n      <td>9</td>\n      <td>1</td>\n      <td>6</td>\n      <td>32</td>\n      <td>17.304700</td>\n    </tr>\n    <tr>\n      <th>9</th>\n      <td>9</td>\n      <td>9</td>\n      <td>1</td>\n      <td>6</td>\n      <td>33</td>\n      <td>1.820150</td>\n    </tr>\n    <tr>\n      <th>10</th>\n      <td>10</td>\n      <td>9</td>\n      <td>1</td>\n      <td>6</td>\n      <td>34</td>\n      <td>0.000000</td>\n    </tr>\n    <tr>\n      <th>11</th>\n      <td>11</td>\n      <td>9</td>\n      <td>1</td>\n      <td>8</td>\n      <td>41</td>\n      <td>0.157711</td>\n    </tr>\n    <tr>\n      <th>12</th>\n      <td>12</td>\n      <td>9</td>\n      <td>1</td>\n      <td>8</td>\n      <td>42</td>\n      <td>1.439874</td>\n    </tr>\n    <tr>\n      <th>13</th>\n      <td>13</td>\n      <td>9</td>\n      <td>1</td>\n      <td>8</td>\n      <td>43</td>\n      <td>1.466184</td>\n    </tr>\n    <tr>\n      <th>14</th>\n      <td>14</td>\n      <td>9</td>\n      <td>1</td>\n      <td>8</td>\n      <td>44</td>\n      <td>0.465685</td>\n    </tr>\n    <tr>\n      <th>15</th>\n      <td>15</td>\n      <td>9</td>\n      <td>1</td>\n      <td>8</td>\n      <td>45</td>\n      <td>0.000000</td>\n    </tr>\n    <tr>\n      <th>16</th>\n      <td>16</td>\n      <td>9</td>\n      <td>2</td>\n      <td>3</td>\n      <td>11</td>\n      <td>4667.094342</td>\n    </tr>\n    <tr>\n      <th>17</th>\n      <td>17</td>\n      <td>9</td>\n      <td>2</td>\n      <td>3</td>\n      <td>21</td>\n      <td>4283.183505</td>\n    </tr>\n    <tr>\n      <th>18</th>\n      <td>18</td>\n      <td>9</td>\n      <td>2</td>\n      <td>5</td>\n      <td>11</td>\n      <td>3629.949883</td>\n    </tr>\n    <tr>\n      <th>19</th>\n      <td>19</td>\n      <td>9</td>\n      <td>2</td>\n      <td>5</td>\n      <td>21</td>\n      <td>7259.899767</td>\n    </tr>\n    <tr>\n      <th>20</th>\n      <td>20</td>\n      <td>9</td>\n      <td>2</td>\n      <td>5</td>\n      <td>22</td>\n      <td>12229.277068</td>\n    </tr>\n    <tr>\n      <th>21</th>\n      <td>21</td>\n      <td>9</td>\n      <td>2</td>\n      <td>5</td>\n      <td>23</td>\n      <td>4543.873281</td>\n    </tr>\n    <tr>\n      <th>22</th>\n      <td>22</td>\n      <td>9</td>\n      <td>2</td>\n      <td>6</td>\n      <td>32</td>\n      <td>2.478000</td>\n    </tr>\n    <tr>\n      <th>23</th>\n      <td>23</td>\n      <td>9</td>\n      <td>2</td>\n      <td>7</td>\n      <td>51</td>\n      <td>1.370166</td>\n    </tr>\n    <tr>\n      <th>24</th>\n      <td>24</td>\n      <td>9</td>\n      <td>2</td>\n      <td>7</td>\n      <td>52</td>\n      <td>0.648814</td>\n    </tr>\n    <tr>\n      <th>25</th>\n      <td>25</td>\n      <td>9</td>\n      <td>2</td>\n      <td>8</td>\n      <td>42</td>\n      <td>0.073854</td>\n    </tr>\n    <tr>\n      <th>26</th>\n      <td>26</td>\n      <td>9</td>\n      <td>2</td>\n      <td>8</td>\n      <td>43</td>\n      <td>0.225357</td>\n    </tr>\n    <tr>\n      <th>27</th>\n      <td>27</td>\n      <td>9</td>\n      <td>2</td>\n      <td>8</td>\n      <td>44</td>\n      <td>0.075122</td>\n    </tr>\n  </tbody>\n</table>\n</div>"
     },
     "execution_count": 6,
     "metadata": {},
     "output_type": "execute_result"
    }
   ],
   "source": [
    "# import newveh95 table\n",
    "newveh95 = pd.read_csv(f'./out_data/processed/afema_bodge/newveh95_afemabodge.csv')\n",
    "newveh95"
   ]
  },
  {
   "cell_type": "code",
   "execution_count": 7,
   "id": "2a055310",
   "metadata": {
    "pycharm": {
     "name": "#%%\n"
    }
   },
   "outputs": [
    {
     "data": {
      "text/plain": "      PolicyID  ScenarioID  CountryID  Year  TransTypeID  VehTypeID  \\\n0          0.0         0.0        0.0   0.0          0.0        0.0   \n1          0.0         0.0        0.0   0.0          0.0        0.0   \n2          0.0         0.0        0.0   0.0          0.0        0.0   \n3          0.0         0.0        0.0   0.0          0.0        0.0   \n4          0.0         0.0        0.0   0.0          0.0        0.0   \n...        ...         ...        ...   ...          ...        ...   \n1087       0.0         0.0        0.0   0.0          0.0        0.0   \n1088       0.0         0.0        0.0   0.0          0.0        0.0   \n1089       0.0         0.0        0.0   0.0          0.0        0.0   \n1090       0.0         0.0        0.0   0.0          0.0        0.0   \n1091       0.0         0.0        0.0   0.0          0.0        0.0   \n\n      MassCatID  NumNewVeh  \n0           0.0        0.0  \n1           0.0        0.0  \n2           0.0        0.0  \n3           0.0        0.0  \n4           0.0        0.0  \n...         ...        ...  \n1087        0.0        0.0  \n1088        0.0        0.0  \n1089        0.0        0.0  \n1090        0.0        0.0  \n1091        0.0        0.0  \n\n[1092 rows x 8 columns]",
      "text/html": "<div>\n<style scoped>\n    .dataframe tbody tr th:only-of-type {\n        vertical-align: middle;\n    }\n\n    .dataframe tbody tr th {\n        vertical-align: top;\n    }\n\n    .dataframe thead th {\n        text-align: right;\n    }\n</style>\n<table border=\"1\" class=\"dataframe\">\n  <thead>\n    <tr style=\"text-align: right;\">\n      <th></th>\n      <th>PolicyID</th>\n      <th>ScenarioID</th>\n      <th>CountryID</th>\n      <th>Year</th>\n      <th>TransTypeID</th>\n      <th>VehTypeID</th>\n      <th>MassCatID</th>\n      <th>NumNewVeh</th>\n    </tr>\n  </thead>\n  <tbody>\n    <tr>\n      <th>0</th>\n      <td>0.0</td>\n      <td>0.0</td>\n      <td>0.0</td>\n      <td>0.0</td>\n      <td>0.0</td>\n      <td>0.0</td>\n      <td>0.0</td>\n      <td>0.0</td>\n    </tr>\n    <tr>\n      <th>1</th>\n      <td>0.0</td>\n      <td>0.0</td>\n      <td>0.0</td>\n      <td>0.0</td>\n      <td>0.0</td>\n      <td>0.0</td>\n      <td>0.0</td>\n      <td>0.0</td>\n    </tr>\n    <tr>\n      <th>2</th>\n      <td>0.0</td>\n      <td>0.0</td>\n      <td>0.0</td>\n      <td>0.0</td>\n      <td>0.0</td>\n      <td>0.0</td>\n      <td>0.0</td>\n      <td>0.0</td>\n    </tr>\n    <tr>\n      <th>3</th>\n      <td>0.0</td>\n      <td>0.0</td>\n      <td>0.0</td>\n      <td>0.0</td>\n      <td>0.0</td>\n      <td>0.0</td>\n      <td>0.0</td>\n      <td>0.0</td>\n    </tr>\n    <tr>\n      <th>4</th>\n      <td>0.0</td>\n      <td>0.0</td>\n      <td>0.0</td>\n      <td>0.0</td>\n      <td>0.0</td>\n      <td>0.0</td>\n      <td>0.0</td>\n      <td>0.0</td>\n    </tr>\n    <tr>\n      <th>...</th>\n      <td>...</td>\n      <td>...</td>\n      <td>...</td>\n      <td>...</td>\n      <td>...</td>\n      <td>...</td>\n      <td>...</td>\n      <td>...</td>\n    </tr>\n    <tr>\n      <th>1087</th>\n      <td>0.0</td>\n      <td>0.0</td>\n      <td>0.0</td>\n      <td>0.0</td>\n      <td>0.0</td>\n      <td>0.0</td>\n      <td>0.0</td>\n      <td>0.0</td>\n    </tr>\n    <tr>\n      <th>1088</th>\n      <td>0.0</td>\n      <td>0.0</td>\n      <td>0.0</td>\n      <td>0.0</td>\n      <td>0.0</td>\n      <td>0.0</td>\n      <td>0.0</td>\n      <td>0.0</td>\n    </tr>\n    <tr>\n      <th>1089</th>\n      <td>0.0</td>\n      <td>0.0</td>\n      <td>0.0</td>\n      <td>0.0</td>\n      <td>0.0</td>\n      <td>0.0</td>\n      <td>0.0</td>\n      <td>0.0</td>\n    </tr>\n    <tr>\n      <th>1090</th>\n      <td>0.0</td>\n      <td>0.0</td>\n      <td>0.0</td>\n      <td>0.0</td>\n      <td>0.0</td>\n      <td>0.0</td>\n      <td>0.0</td>\n      <td>0.0</td>\n    </tr>\n    <tr>\n      <th>1091</th>\n      <td>0.0</td>\n      <td>0.0</td>\n      <td>0.0</td>\n      <td>0.0</td>\n      <td>0.0</td>\n      <td>0.0</td>\n      <td>0.0</td>\n      <td>0.0</td>\n    </tr>\n  </tbody>\n</table>\n<p>1092 rows × 8 columns</p>\n</div>"
     },
     "execution_count": 7,
     "metadata": {},
     "output_type": "execute_result"
    }
   ],
   "source": [
    "# other columns = policyID (all 0), scenarioID (all 1), year\n",
    "years = range(2012,2051)\n",
    "feature_list = ['PolicyID', 'ScenarioID', 'CountryID', 'Year', 'TransTypeID', 'VehTypeID', 'MassCatID', 'NumNewVeh']\n",
    "\n",
    "zero_data = np.zeros(shape=(len(years)*len(newveh95),len(feature_list)))\n",
    "\n",
    "newveh = pd.DataFrame(zero_data, columns=feature_list)\n",
    "newveh"
   ]
  },
  {
   "cell_type": "code",
   "execution_count": 8,
   "id": "0db3e401",
   "metadata": {
    "pycharm": {
     "name": "#%%\n"
    }
   },
   "outputs": [
    {
     "data": {
      "text/plain": "      PolicyID  ScenarioID  CountryID  Year  TransTypeID  VehTypeID  \\\n0            0           1          9  2012            1          3   \n1            0           1          9  2012            1          3   \n2            0           1          9  2012            1          3   \n3            0           1          9  2012            1          4   \n4            0           1          9  2012            1          4   \n...        ...         ...        ...   ...          ...        ...   \n1087         0           1          9  2050            2          7   \n1088         0           1          9  2050            2          7   \n1089         0           1          9  2050            2          8   \n1090         0           1          9  2050            2          8   \n1091         0           1          9  2050            2          8   \n\n      MassCatID     NumNewVeh  Unnamed: 0  \n0             1  45798.337461         0.0  \n1             2  11977.280044         1.0  \n2             3   1763.104648         2.0  \n3            11   2172.372116         3.0  \n4            13    436.255768         4.0  \n...         ...           ...         ...  \n1087         51      0.000000        23.0  \n1088         52      0.000000        24.0  \n1089         42      0.000000        25.0  \n1090         43      0.000000        26.0  \n1091         44      0.000000        27.0  \n\n[1092 rows x 9 columns]",
      "text/html": "<div>\n<style scoped>\n    .dataframe tbody tr th:only-of-type {\n        vertical-align: middle;\n    }\n\n    .dataframe tbody tr th {\n        vertical-align: top;\n    }\n\n    .dataframe thead th {\n        text-align: right;\n    }\n</style>\n<table border=\"1\" class=\"dataframe\">\n  <thead>\n    <tr style=\"text-align: right;\">\n      <th></th>\n      <th>PolicyID</th>\n      <th>ScenarioID</th>\n      <th>CountryID</th>\n      <th>Year</th>\n      <th>TransTypeID</th>\n      <th>VehTypeID</th>\n      <th>MassCatID</th>\n      <th>NumNewVeh</th>\n      <th>Unnamed: 0</th>\n    </tr>\n  </thead>\n  <tbody>\n    <tr>\n      <th>0</th>\n      <td>0</td>\n      <td>1</td>\n      <td>9</td>\n      <td>2012</td>\n      <td>1</td>\n      <td>3</td>\n      <td>1</td>\n      <td>45798.337461</td>\n      <td>0.0</td>\n    </tr>\n    <tr>\n      <th>1</th>\n      <td>0</td>\n      <td>1</td>\n      <td>9</td>\n      <td>2012</td>\n      <td>1</td>\n      <td>3</td>\n      <td>2</td>\n      <td>11977.280044</td>\n      <td>1.0</td>\n    </tr>\n    <tr>\n      <th>2</th>\n      <td>0</td>\n      <td>1</td>\n      <td>9</td>\n      <td>2012</td>\n      <td>1</td>\n      <td>3</td>\n      <td>3</td>\n      <td>1763.104648</td>\n      <td>2.0</td>\n    </tr>\n    <tr>\n      <th>3</th>\n      <td>0</td>\n      <td>1</td>\n      <td>9</td>\n      <td>2012</td>\n      <td>1</td>\n      <td>4</td>\n      <td>11</td>\n      <td>2172.372116</td>\n      <td>3.0</td>\n    </tr>\n    <tr>\n      <th>4</th>\n      <td>0</td>\n      <td>1</td>\n      <td>9</td>\n      <td>2012</td>\n      <td>1</td>\n      <td>4</td>\n      <td>13</td>\n      <td>436.255768</td>\n      <td>4.0</td>\n    </tr>\n    <tr>\n      <th>...</th>\n      <td>...</td>\n      <td>...</td>\n      <td>...</td>\n      <td>...</td>\n      <td>...</td>\n      <td>...</td>\n      <td>...</td>\n      <td>...</td>\n      <td>...</td>\n    </tr>\n    <tr>\n      <th>1087</th>\n      <td>0</td>\n      <td>1</td>\n      <td>9</td>\n      <td>2050</td>\n      <td>2</td>\n      <td>7</td>\n      <td>51</td>\n      <td>0.000000</td>\n      <td>23.0</td>\n    </tr>\n    <tr>\n      <th>1088</th>\n      <td>0</td>\n      <td>1</td>\n      <td>9</td>\n      <td>2050</td>\n      <td>2</td>\n      <td>7</td>\n      <td>52</td>\n      <td>0.000000</td>\n      <td>24.0</td>\n    </tr>\n    <tr>\n      <th>1089</th>\n      <td>0</td>\n      <td>1</td>\n      <td>9</td>\n      <td>2050</td>\n      <td>2</td>\n      <td>8</td>\n      <td>42</td>\n      <td>0.000000</td>\n      <td>25.0</td>\n    </tr>\n    <tr>\n      <th>1090</th>\n      <td>0</td>\n      <td>1</td>\n      <td>9</td>\n      <td>2050</td>\n      <td>2</td>\n      <td>8</td>\n      <td>43</td>\n      <td>0.000000</td>\n      <td>26.0</td>\n    </tr>\n    <tr>\n      <th>1091</th>\n      <td>0</td>\n      <td>1</td>\n      <td>9</td>\n      <td>2050</td>\n      <td>2</td>\n      <td>8</td>\n      <td>44</td>\n      <td>0.000000</td>\n      <td>27.0</td>\n    </tr>\n  </tbody>\n</table>\n<p>1092 rows × 9 columns</p>\n</div>"
     },
     "execution_count": 8,
     "metadata": {},
     "output_type": "execute_result"
    }
   ],
   "source": [
    "for year in years:\n",
    "    \n",
    "    if year == 2012:\n",
    "        newveh.loc[years.index(year)*len(newveh95):(years.index(year)+1)*len(newveh95)-1, newveh95.columns] = newveh95.loc[:, newveh95.columns].values\n",
    "        newveh.loc[years.index(year)*len(newveh95):(years.index(year)+1)*len(newveh95)-1, 'Year'] = year\n",
    "    else:\n",
    "        newveh.loc[years.index(year)*len(newveh95):(years.index(year)+1)*len(newveh95)-1, [c for c in newveh95.columns if c != 'NumNewVeh']] = newveh95.loc[:, [c for c in newveh95.columns if c != 'NumNewVeh']].values\n",
    "        newveh.loc[years.index(year)*len(newveh95):(years.index(year)+1)*len(newveh95)-1, 'Year'] = year\n",
    "\n",
    "newveh = newveh.reset_index(drop=True)\n",
    "newveh['ScenarioID'] = 1\n",
    "newveh['PolicyID'] = 0\n",
    "newveh[['CountryID', 'Year', 'TransTypeID', 'VehTypeID', 'MassCatID']] = newveh[['CountryID', 'Year', 'TransTypeID', 'VehTypeID', 'MassCatID']].astype(int)\n",
    "newveh"
   ]
  },
  {
   "cell_type": "code",
   "execution_count": 9,
   "id": "bec03e60",
   "metadata": {
    "pycharm": {
     "name": "#%%\n"
    }
   },
   "outputs": [],
   "source": [
    "newveh.to_csv('./out_data/processed/afema_bodge/newveh_afemabodge.csv', index=False)"
   ]
  },
  {
   "cell_type": "markdown",
   "id": "6699a895",
   "metadata": {
    "pycharm": {
     "name": "#%% md\n"
    }
   },
   "source": [
    "<b>FOR TOTNUMVEH</b>"
   ]
  },
  {
   "cell_type": "code",
   "execution_count": 10,
   "id": "91d8533c",
   "metadata": {
    "pycharm": {
     "name": "#%%\n"
    }
   },
   "outputs": [
    {
     "data": {
      "text/plain": "     CountryID  TransTypeID  VehTypeID  Age     TotNumVeh   TotNumVeh-1  \\\n0            9            1          3    5   5264.280335   5264.280335   \n1            9            1          3    6   9935.121006   9935.121006   \n2            9            1          3    7  38755.772368  38755.772368   \n3            9            1          3    8  44997.788836  44997.788836   \n4            9            1          3    9  61073.069951  61073.069951   \n..         ...          ...        ...  ...           ...           ...   \n313          9            2          8    1      1.906076      1.906076   \n314          9            2          8    2      8.237745      8.237745   \n315          9            2          8    4      0.126239      0.126239   \n316          9            2          8    5      6.962473      6.962473   \n317          9            2          8    6      6.312588      6.312588   \n\n     NumVehScrap  \n0              0  \n1              0  \n2              0  \n3              0  \n4              0  \n..           ...  \n313            0  \n314            0  \n315            0  \n316            0  \n317            0  \n\n[318 rows x 7 columns]",
      "text/html": "<div>\n<style scoped>\n    .dataframe tbody tr th:only-of-type {\n        vertical-align: middle;\n    }\n\n    .dataframe tbody tr th {\n        vertical-align: top;\n    }\n\n    .dataframe thead th {\n        text-align: right;\n    }\n</style>\n<table border=\"1\" class=\"dataframe\">\n  <thead>\n    <tr style=\"text-align: right;\">\n      <th></th>\n      <th>CountryID</th>\n      <th>TransTypeID</th>\n      <th>VehTypeID</th>\n      <th>Age</th>\n      <th>TotNumVeh</th>\n      <th>TotNumVeh-1</th>\n      <th>NumVehScrap</th>\n    </tr>\n  </thead>\n  <tbody>\n    <tr>\n      <th>0</th>\n      <td>9</td>\n      <td>1</td>\n      <td>3</td>\n      <td>5</td>\n      <td>5264.280335</td>\n      <td>5264.280335</td>\n      <td>0</td>\n    </tr>\n    <tr>\n      <th>1</th>\n      <td>9</td>\n      <td>1</td>\n      <td>3</td>\n      <td>6</td>\n      <td>9935.121006</td>\n      <td>9935.121006</td>\n      <td>0</td>\n    </tr>\n    <tr>\n      <th>2</th>\n      <td>9</td>\n      <td>1</td>\n      <td>3</td>\n      <td>7</td>\n      <td>38755.772368</td>\n      <td>38755.772368</td>\n      <td>0</td>\n    </tr>\n    <tr>\n      <th>3</th>\n      <td>9</td>\n      <td>1</td>\n      <td>3</td>\n      <td>8</td>\n      <td>44997.788836</td>\n      <td>44997.788836</td>\n      <td>0</td>\n    </tr>\n    <tr>\n      <th>4</th>\n      <td>9</td>\n      <td>1</td>\n      <td>3</td>\n      <td>9</td>\n      <td>61073.069951</td>\n      <td>61073.069951</td>\n      <td>0</td>\n    </tr>\n    <tr>\n      <th>...</th>\n      <td>...</td>\n      <td>...</td>\n      <td>...</td>\n      <td>...</td>\n      <td>...</td>\n      <td>...</td>\n      <td>...</td>\n    </tr>\n    <tr>\n      <th>313</th>\n      <td>9</td>\n      <td>2</td>\n      <td>8</td>\n      <td>1</td>\n      <td>1.906076</td>\n      <td>1.906076</td>\n      <td>0</td>\n    </tr>\n    <tr>\n      <th>314</th>\n      <td>9</td>\n      <td>2</td>\n      <td>8</td>\n      <td>2</td>\n      <td>8.237745</td>\n      <td>8.237745</td>\n      <td>0</td>\n    </tr>\n    <tr>\n      <th>315</th>\n      <td>9</td>\n      <td>2</td>\n      <td>8</td>\n      <td>4</td>\n      <td>0.126239</td>\n      <td>0.126239</td>\n      <td>0</td>\n    </tr>\n    <tr>\n      <th>316</th>\n      <td>9</td>\n      <td>2</td>\n      <td>8</td>\n      <td>5</td>\n      <td>6.962473</td>\n      <td>6.962473</td>\n      <td>0</td>\n    </tr>\n    <tr>\n      <th>317</th>\n      <td>9</td>\n      <td>2</td>\n      <td>8</td>\n      <td>6</td>\n      <td>6.312588</td>\n      <td>6.312588</td>\n      <td>0</td>\n    </tr>\n  </tbody>\n</table>\n<p>318 rows × 7 columns</p>\n</div>"
     },
     "execution_count": 10,
     "metadata": {},
     "output_type": "execute_result"
    }
   ],
   "source": [
    "# import totnumveh95 table\n",
    "totnumveh95 = pd.read_csv(f'./out_data/processed/afema_bodge/totnumveh95_afemabodge.csv')\n",
    "totnumveh95"
   ]
  },
  {
   "cell_type": "code",
   "execution_count": 11,
   "id": "93fab282",
   "metadata": {
    "pycharm": {
     "name": "#%%\n"
    }
   },
   "outputs": [
    {
     "data": {
      "text/plain": "       ScenarioID  CountryID  PolicyID  Year  TransTypeID  VehTypeID  Age  \\\n0             0.0        0.0       0.0   0.0          0.0        0.0  0.0   \n1             0.0        0.0       0.0   0.0          0.0        0.0  0.0   \n2             0.0        0.0       0.0   0.0          0.0        0.0  0.0   \n3             0.0        0.0       0.0   0.0          0.0        0.0  0.0   \n4             0.0        0.0       0.0   0.0          0.0        0.0  0.0   \n...           ...        ...       ...   ...          ...        ...  ...   \n12397         0.0        0.0       0.0   0.0          0.0        0.0  0.0   \n12398         0.0        0.0       0.0   0.0          0.0        0.0  0.0   \n12399         0.0        0.0       0.0   0.0          0.0        0.0  0.0   \n12400         0.0        0.0       0.0   0.0          0.0        0.0  0.0   \n12401         0.0        0.0       0.0   0.0          0.0        0.0  0.0   \n\n       TotNumVeh  NumVehScrap  \n0            0.0          0.0  \n1            0.0          0.0  \n2            0.0          0.0  \n3            0.0          0.0  \n4            0.0          0.0  \n...          ...          ...  \n12397        0.0          0.0  \n12398        0.0          0.0  \n12399        0.0          0.0  \n12400        0.0          0.0  \n12401        0.0          0.0  \n\n[12402 rows x 9 columns]",
      "text/html": "<div>\n<style scoped>\n    .dataframe tbody tr th:only-of-type {\n        vertical-align: middle;\n    }\n\n    .dataframe tbody tr th {\n        vertical-align: top;\n    }\n\n    .dataframe thead th {\n        text-align: right;\n    }\n</style>\n<table border=\"1\" class=\"dataframe\">\n  <thead>\n    <tr style=\"text-align: right;\">\n      <th></th>\n      <th>ScenarioID</th>\n      <th>CountryID</th>\n      <th>PolicyID</th>\n      <th>Year</th>\n      <th>TransTypeID</th>\n      <th>VehTypeID</th>\n      <th>Age</th>\n      <th>TotNumVeh</th>\n      <th>NumVehScrap</th>\n    </tr>\n  </thead>\n  <tbody>\n    <tr>\n      <th>0</th>\n      <td>0.0</td>\n      <td>0.0</td>\n      <td>0.0</td>\n      <td>0.0</td>\n      <td>0.0</td>\n      <td>0.0</td>\n      <td>0.0</td>\n      <td>0.0</td>\n      <td>0.0</td>\n    </tr>\n    <tr>\n      <th>1</th>\n      <td>0.0</td>\n      <td>0.0</td>\n      <td>0.0</td>\n      <td>0.0</td>\n      <td>0.0</td>\n      <td>0.0</td>\n      <td>0.0</td>\n      <td>0.0</td>\n      <td>0.0</td>\n    </tr>\n    <tr>\n      <th>2</th>\n      <td>0.0</td>\n      <td>0.0</td>\n      <td>0.0</td>\n      <td>0.0</td>\n      <td>0.0</td>\n      <td>0.0</td>\n      <td>0.0</td>\n      <td>0.0</td>\n      <td>0.0</td>\n    </tr>\n    <tr>\n      <th>3</th>\n      <td>0.0</td>\n      <td>0.0</td>\n      <td>0.0</td>\n      <td>0.0</td>\n      <td>0.0</td>\n      <td>0.0</td>\n      <td>0.0</td>\n      <td>0.0</td>\n      <td>0.0</td>\n    </tr>\n    <tr>\n      <th>4</th>\n      <td>0.0</td>\n      <td>0.0</td>\n      <td>0.0</td>\n      <td>0.0</td>\n      <td>0.0</td>\n      <td>0.0</td>\n      <td>0.0</td>\n      <td>0.0</td>\n      <td>0.0</td>\n    </tr>\n    <tr>\n      <th>...</th>\n      <td>...</td>\n      <td>...</td>\n      <td>...</td>\n      <td>...</td>\n      <td>...</td>\n      <td>...</td>\n      <td>...</td>\n      <td>...</td>\n      <td>...</td>\n    </tr>\n    <tr>\n      <th>12397</th>\n      <td>0.0</td>\n      <td>0.0</td>\n      <td>0.0</td>\n      <td>0.0</td>\n      <td>0.0</td>\n      <td>0.0</td>\n      <td>0.0</td>\n      <td>0.0</td>\n      <td>0.0</td>\n    </tr>\n    <tr>\n      <th>12398</th>\n      <td>0.0</td>\n      <td>0.0</td>\n      <td>0.0</td>\n      <td>0.0</td>\n      <td>0.0</td>\n      <td>0.0</td>\n      <td>0.0</td>\n      <td>0.0</td>\n      <td>0.0</td>\n    </tr>\n    <tr>\n      <th>12399</th>\n      <td>0.0</td>\n      <td>0.0</td>\n      <td>0.0</td>\n      <td>0.0</td>\n      <td>0.0</td>\n      <td>0.0</td>\n      <td>0.0</td>\n      <td>0.0</td>\n      <td>0.0</td>\n    </tr>\n    <tr>\n      <th>12400</th>\n      <td>0.0</td>\n      <td>0.0</td>\n      <td>0.0</td>\n      <td>0.0</td>\n      <td>0.0</td>\n      <td>0.0</td>\n      <td>0.0</td>\n      <td>0.0</td>\n      <td>0.0</td>\n    </tr>\n    <tr>\n      <th>12401</th>\n      <td>0.0</td>\n      <td>0.0</td>\n      <td>0.0</td>\n      <td>0.0</td>\n      <td>0.0</td>\n      <td>0.0</td>\n      <td>0.0</td>\n      <td>0.0</td>\n      <td>0.0</td>\n    </tr>\n  </tbody>\n</table>\n<p>12402 rows × 9 columns</p>\n</div>"
     },
     "execution_count": 11,
     "metadata": {},
     "output_type": "execute_result"
    }
   ],
   "source": [
    "# other columns = scenario, policy, year. take AWAY notnumveh-1\n",
    "years = range(2012,2051)\n",
    "feature_list = ['ScenarioID', 'CountryID', 'PolicyID', 'Year', 'TransTypeID', 'VehTypeID', 'Age', 'TotNumVeh', 'NumVehScrap']\n",
    "\n",
    "zero_data = np.zeros(shape=(len(years)*len(totnumveh95),len(feature_list)))\n",
    "\n",
    "totnumveh = pd.DataFrame(zero_data, columns=feature_list)\n",
    "totnumveh"
   ]
  },
  {
   "cell_type": "code",
   "execution_count": 12,
   "id": "69d87970",
   "metadata": {
    "pycharm": {
     "name": "#%%\n"
    }
   },
   "outputs": [
    {
     "data": {
      "text/plain": "       ScenarioID  CountryID  PolicyID  Year  TransTypeID  VehTypeID  Age  \\\n0               1          9         0  2012            1          3    5   \n1               1          9         0  2012            1          3    6   \n2               1          9         0  2012            1          3    7   \n3               1          9         0  2012            1          3    8   \n4               1          9         0  2012            1          3    9   \n...           ...        ...       ...   ...          ...        ...  ...   \n12397           1          9         0  2050            2          8    1   \n12398           1          9         0  2050            2          8    2   \n12399           1          9         0  2050            2          8    4   \n12400           1          9         0  2050            2          8    5   \n12401           1          9         0  2050            2          8    6   \n\n          TotNumVeh  NumVehScrap  \n0       5264.280335          0.0  \n1       9935.121006          0.0  \n2      38755.772368          0.0  \n3      44997.788836          0.0  \n4      61073.069951          0.0  \n...             ...          ...  \n12397      0.000000          0.0  \n12398      0.000000          0.0  \n12399      0.000000          0.0  \n12400      0.000000          0.0  \n12401      0.000000          0.0  \n\n[12402 rows x 9 columns]",
      "text/html": "<div>\n<style scoped>\n    .dataframe tbody tr th:only-of-type {\n        vertical-align: middle;\n    }\n\n    .dataframe tbody tr th {\n        vertical-align: top;\n    }\n\n    .dataframe thead th {\n        text-align: right;\n    }\n</style>\n<table border=\"1\" class=\"dataframe\">\n  <thead>\n    <tr style=\"text-align: right;\">\n      <th></th>\n      <th>ScenarioID</th>\n      <th>CountryID</th>\n      <th>PolicyID</th>\n      <th>Year</th>\n      <th>TransTypeID</th>\n      <th>VehTypeID</th>\n      <th>Age</th>\n      <th>TotNumVeh</th>\n      <th>NumVehScrap</th>\n    </tr>\n  </thead>\n  <tbody>\n    <tr>\n      <th>0</th>\n      <td>1</td>\n      <td>9</td>\n      <td>0</td>\n      <td>2012</td>\n      <td>1</td>\n      <td>3</td>\n      <td>5</td>\n      <td>5264.280335</td>\n      <td>0.0</td>\n    </tr>\n    <tr>\n      <th>1</th>\n      <td>1</td>\n      <td>9</td>\n      <td>0</td>\n      <td>2012</td>\n      <td>1</td>\n      <td>3</td>\n      <td>6</td>\n      <td>9935.121006</td>\n      <td>0.0</td>\n    </tr>\n    <tr>\n      <th>2</th>\n      <td>1</td>\n      <td>9</td>\n      <td>0</td>\n      <td>2012</td>\n      <td>1</td>\n      <td>3</td>\n      <td>7</td>\n      <td>38755.772368</td>\n      <td>0.0</td>\n    </tr>\n    <tr>\n      <th>3</th>\n      <td>1</td>\n      <td>9</td>\n      <td>0</td>\n      <td>2012</td>\n      <td>1</td>\n      <td>3</td>\n      <td>8</td>\n      <td>44997.788836</td>\n      <td>0.0</td>\n    </tr>\n    <tr>\n      <th>4</th>\n      <td>1</td>\n      <td>9</td>\n      <td>0</td>\n      <td>2012</td>\n      <td>1</td>\n      <td>3</td>\n      <td>9</td>\n      <td>61073.069951</td>\n      <td>0.0</td>\n    </tr>\n    <tr>\n      <th>...</th>\n      <td>...</td>\n      <td>...</td>\n      <td>...</td>\n      <td>...</td>\n      <td>...</td>\n      <td>...</td>\n      <td>...</td>\n      <td>...</td>\n      <td>...</td>\n    </tr>\n    <tr>\n      <th>12397</th>\n      <td>1</td>\n      <td>9</td>\n      <td>0</td>\n      <td>2050</td>\n      <td>2</td>\n      <td>8</td>\n      <td>1</td>\n      <td>0.000000</td>\n      <td>0.0</td>\n    </tr>\n    <tr>\n      <th>12398</th>\n      <td>1</td>\n      <td>9</td>\n      <td>0</td>\n      <td>2050</td>\n      <td>2</td>\n      <td>8</td>\n      <td>2</td>\n      <td>0.000000</td>\n      <td>0.0</td>\n    </tr>\n    <tr>\n      <th>12399</th>\n      <td>1</td>\n      <td>9</td>\n      <td>0</td>\n      <td>2050</td>\n      <td>2</td>\n      <td>8</td>\n      <td>4</td>\n      <td>0.000000</td>\n      <td>0.0</td>\n    </tr>\n    <tr>\n      <th>12400</th>\n      <td>1</td>\n      <td>9</td>\n      <td>0</td>\n      <td>2050</td>\n      <td>2</td>\n      <td>8</td>\n      <td>5</td>\n      <td>0.000000</td>\n      <td>0.0</td>\n    </tr>\n    <tr>\n      <th>12401</th>\n      <td>1</td>\n      <td>9</td>\n      <td>0</td>\n      <td>2050</td>\n      <td>2</td>\n      <td>8</td>\n      <td>6</td>\n      <td>0.000000</td>\n      <td>0.0</td>\n    </tr>\n  </tbody>\n</table>\n<p>12402 rows × 9 columns</p>\n</div>"
     },
     "execution_count": 12,
     "metadata": {},
     "output_type": "execute_result"
    }
   ],
   "source": [
    "for year in years:\n",
    "    \n",
    "    if year == 2012:\n",
    "        totnumveh.loc[years.index(year)*len(totnumveh95):(years.index(year)+1)*len(totnumveh95)-1, [c for c in totnumveh95.columns if c not in ['TotNumVeh-1']]] = totnumveh95.loc[:, [c for c in totnumveh95.columns if c not in ['TotNumVeh-1']]].values\n",
    "        totnumveh.loc[years.index(year)*len(totnumveh95):(years.index(year)+1)*len(totnumveh95)-1, 'Year'] = year\n",
    "    else:\n",
    "        totnumveh.loc[years.index(year)*len(totnumveh95):(years.index(year)+1)*len(totnumveh95)-1, [c for c in totnumveh95.columns if c not in ['TotNumVeh', 'TotNumVeh-1', 'NumVehScrap']]] = totnumveh95.loc[:, [c for c in totnumveh95.columns if c not in ['TotNumVeh', 'TotNumVeh-1', 'NumVehScrap']]].values\n",
    "        totnumveh.loc[years.index(year)*len(totnumveh95):(years.index(year)+1)*len(totnumveh95)-1, 'Year'] = year\n",
    "\n",
    "totnumveh = totnumveh.reset_index(drop=True)\n",
    "totnumveh['ScenarioID'] = 1\n",
    "totnumveh['PolicyID'] = 0\n",
    "totnumveh[['CountryID', 'Year', 'TransTypeID', 'VehTypeID', 'Age']] = totnumveh[['CountryID', 'Year', 'TransTypeID', 'VehTypeID', 'Age']].astype(int)\n",
    "totnumveh"
   ]
  },
  {
   "cell_type": "code",
   "execution_count": 13,
   "id": "8068b21a",
   "metadata": {
    "pycharm": {
     "name": "#%%\n"
    }
   },
   "outputs": [],
   "source": [
    "totnumveh.to_csv('./out_data/processed/afema_bodge/totnumveh_afemabodge.csv', index=False)"
   ]
  },
  {
   "cell_type": "markdown",
   "id": "ed97076c",
   "metadata": {
    "pycharm": {
     "name": "#%% md\n"
    }
   },
   "source": [
    "<b>FOR TOT</b>"
   ]
  },
  {
   "cell_type": "code",
   "execution_count": 14,
   "id": "c0c46bc9",
   "metadata": {
    "pycharm": {
     "name": "#%%\n"
    }
   },
   "outputs": [
    {
     "data": {
      "text/plain": "    CountryID  TransTypeID  VehTypeID  MassCatID      TOT_Stock\n0           9            1          3          1  409536.999994\n1           9            1          3          2  107103.000002\n2           9            1          3          3   15766.000000\n3           9            1          4         11   49999.999998\n4           9            1          4         13   10041.000000\n5           9            1          4         12   49999.999997\n6           9            1          2          4  539769.000000\n7           9            1          6         31     359.646096\n8           9            1          6         32    1975.178376\n9           9            1          6         33     207.555955\n10          9            1          6         34       3.999784\n11          9            1          8         41      17.508654\n12          9            1          8         42     155.401581\n13          9            1          8         43     160.014291\n14          9            1          8         44      49.310698\n15          9            1          8         45       1.646320\n16          9            2          3         11   41733.999999\n17          9            2          3         21   38301.000000\n18          9            2          5         11   12506.999999\n19          9            2          5         21   25014.000002\n20          9            2          5         22   42136.000000\n21          9            2          5         23   15655.925000\n22          9            2          6         32     282.859107\n23          9            2          7         51     136.002517\n24          9            2          7         52      64.397489\n25          9            2          8         42      12.244288\n26          9            2          8         43      35.241775\n27          9            2          8         44      11.747786",
      "text/html": "<div>\n<style scoped>\n    .dataframe tbody tr th:only-of-type {\n        vertical-align: middle;\n    }\n\n    .dataframe tbody tr th {\n        vertical-align: top;\n    }\n\n    .dataframe thead th {\n        text-align: right;\n    }\n</style>\n<table border=\"1\" class=\"dataframe\">\n  <thead>\n    <tr style=\"text-align: right;\">\n      <th></th>\n      <th>CountryID</th>\n      <th>TransTypeID</th>\n      <th>VehTypeID</th>\n      <th>MassCatID</th>\n      <th>TOT_Stock</th>\n    </tr>\n  </thead>\n  <tbody>\n    <tr>\n      <th>0</th>\n      <td>9</td>\n      <td>1</td>\n      <td>3</td>\n      <td>1</td>\n      <td>409536.999994</td>\n    </tr>\n    <tr>\n      <th>1</th>\n      <td>9</td>\n      <td>1</td>\n      <td>3</td>\n      <td>2</td>\n      <td>107103.000002</td>\n    </tr>\n    <tr>\n      <th>2</th>\n      <td>9</td>\n      <td>1</td>\n      <td>3</td>\n      <td>3</td>\n      <td>15766.000000</td>\n    </tr>\n    <tr>\n      <th>3</th>\n      <td>9</td>\n      <td>1</td>\n      <td>4</td>\n      <td>11</td>\n      <td>49999.999998</td>\n    </tr>\n    <tr>\n      <th>4</th>\n      <td>9</td>\n      <td>1</td>\n      <td>4</td>\n      <td>13</td>\n      <td>10041.000000</td>\n    </tr>\n    <tr>\n      <th>5</th>\n      <td>9</td>\n      <td>1</td>\n      <td>4</td>\n      <td>12</td>\n      <td>49999.999997</td>\n    </tr>\n    <tr>\n      <th>6</th>\n      <td>9</td>\n      <td>1</td>\n      <td>2</td>\n      <td>4</td>\n      <td>539769.000000</td>\n    </tr>\n    <tr>\n      <th>7</th>\n      <td>9</td>\n      <td>1</td>\n      <td>6</td>\n      <td>31</td>\n      <td>359.646096</td>\n    </tr>\n    <tr>\n      <th>8</th>\n      <td>9</td>\n      <td>1</td>\n      <td>6</td>\n      <td>32</td>\n      <td>1975.178376</td>\n    </tr>\n    <tr>\n      <th>9</th>\n      <td>9</td>\n      <td>1</td>\n      <td>6</td>\n      <td>33</td>\n      <td>207.555955</td>\n    </tr>\n    <tr>\n      <th>10</th>\n      <td>9</td>\n      <td>1</td>\n      <td>6</td>\n      <td>34</td>\n      <td>3.999784</td>\n    </tr>\n    <tr>\n      <th>11</th>\n      <td>9</td>\n      <td>1</td>\n      <td>8</td>\n      <td>41</td>\n      <td>17.508654</td>\n    </tr>\n    <tr>\n      <th>12</th>\n      <td>9</td>\n      <td>1</td>\n      <td>8</td>\n      <td>42</td>\n      <td>155.401581</td>\n    </tr>\n    <tr>\n      <th>13</th>\n      <td>9</td>\n      <td>1</td>\n      <td>8</td>\n      <td>43</td>\n      <td>160.014291</td>\n    </tr>\n    <tr>\n      <th>14</th>\n      <td>9</td>\n      <td>1</td>\n      <td>8</td>\n      <td>44</td>\n      <td>49.310698</td>\n    </tr>\n    <tr>\n      <th>15</th>\n      <td>9</td>\n      <td>1</td>\n      <td>8</td>\n      <td>45</td>\n      <td>1.646320</td>\n    </tr>\n    <tr>\n      <th>16</th>\n      <td>9</td>\n      <td>2</td>\n      <td>3</td>\n      <td>11</td>\n      <td>41733.999999</td>\n    </tr>\n    <tr>\n      <th>17</th>\n      <td>9</td>\n      <td>2</td>\n      <td>3</td>\n      <td>21</td>\n      <td>38301.000000</td>\n    </tr>\n    <tr>\n      <th>18</th>\n      <td>9</td>\n      <td>2</td>\n      <td>5</td>\n      <td>11</td>\n      <td>12506.999999</td>\n    </tr>\n    <tr>\n      <th>19</th>\n      <td>9</td>\n      <td>2</td>\n      <td>5</td>\n      <td>21</td>\n      <td>25014.000002</td>\n    </tr>\n    <tr>\n      <th>20</th>\n      <td>9</td>\n      <td>2</td>\n      <td>5</td>\n      <td>22</td>\n      <td>42136.000000</td>\n    </tr>\n    <tr>\n      <th>21</th>\n      <td>9</td>\n      <td>2</td>\n      <td>5</td>\n      <td>23</td>\n      <td>15655.925000</td>\n    </tr>\n    <tr>\n      <th>22</th>\n      <td>9</td>\n      <td>2</td>\n      <td>6</td>\n      <td>32</td>\n      <td>282.859107</td>\n    </tr>\n    <tr>\n      <th>23</th>\n      <td>9</td>\n      <td>2</td>\n      <td>7</td>\n      <td>51</td>\n      <td>136.002517</td>\n    </tr>\n    <tr>\n      <th>24</th>\n      <td>9</td>\n      <td>2</td>\n      <td>7</td>\n      <td>52</td>\n      <td>64.397489</td>\n    </tr>\n    <tr>\n      <th>25</th>\n      <td>9</td>\n      <td>2</td>\n      <td>8</td>\n      <td>42</td>\n      <td>12.244288</td>\n    </tr>\n    <tr>\n      <th>26</th>\n      <td>9</td>\n      <td>2</td>\n      <td>8</td>\n      <td>43</td>\n      <td>35.241775</td>\n    </tr>\n    <tr>\n      <th>27</th>\n      <td>9</td>\n      <td>2</td>\n      <td>8</td>\n      <td>44</td>\n      <td>11.747786</td>\n    </tr>\n  </tbody>\n</table>\n</div>"
     },
     "execution_count": 14,
     "metadata": {},
     "output_type": "execute_result"
    }
   ],
   "source": [
    "# import tot95 table\n",
    "tot95 = pd.read_csv(f'./out_data/processed/afema_bodge/tot95_afemabodge.csv')\n",
    "tot95"
   ]
  },
  {
   "cell_type": "code",
   "execution_count": 15,
   "id": "951a4ebe",
   "metadata": {
    "pycharm": {
     "name": "#%%\n"
    }
   },
   "outputs": [
    {
     "data": {
      "text/plain": "      ScenarioID  CountryID  PolicyID  Year  TransTypeID  VehTypeID  \\\n0            0.0        0.0       0.0   0.0          0.0        0.0   \n1            0.0        0.0       0.0   0.0          0.0        0.0   \n2            0.0        0.0       0.0   0.0          0.0        0.0   \n3            0.0        0.0       0.0   0.0          0.0        0.0   \n4            0.0        0.0       0.0   0.0          0.0        0.0   \n...          ...        ...       ...   ...          ...        ...   \n1087         0.0        0.0       0.0   0.0          0.0        0.0   \n1088         0.0        0.0       0.0   0.0          0.0        0.0   \n1089         0.0        0.0       0.0   0.0          0.0        0.0   \n1090         0.0        0.0       0.0   0.0          0.0        0.0   \n1091         0.0        0.0       0.0   0.0          0.0        0.0   \n\n      MassCatID  TOT_Stock  \n0           0.0        0.0  \n1           0.0        0.0  \n2           0.0        0.0  \n3           0.0        0.0  \n4           0.0        0.0  \n...         ...        ...  \n1087        0.0        0.0  \n1088        0.0        0.0  \n1089        0.0        0.0  \n1090        0.0        0.0  \n1091        0.0        0.0  \n\n[1092 rows x 8 columns]",
      "text/html": "<div>\n<style scoped>\n    .dataframe tbody tr th:only-of-type {\n        vertical-align: middle;\n    }\n\n    .dataframe tbody tr th {\n        vertical-align: top;\n    }\n\n    .dataframe thead th {\n        text-align: right;\n    }\n</style>\n<table border=\"1\" class=\"dataframe\">\n  <thead>\n    <tr style=\"text-align: right;\">\n      <th></th>\n      <th>ScenarioID</th>\n      <th>CountryID</th>\n      <th>PolicyID</th>\n      <th>Year</th>\n      <th>TransTypeID</th>\n      <th>VehTypeID</th>\n      <th>MassCatID</th>\n      <th>TOT_Stock</th>\n    </tr>\n  </thead>\n  <tbody>\n    <tr>\n      <th>0</th>\n      <td>0.0</td>\n      <td>0.0</td>\n      <td>0.0</td>\n      <td>0.0</td>\n      <td>0.0</td>\n      <td>0.0</td>\n      <td>0.0</td>\n      <td>0.0</td>\n    </tr>\n    <tr>\n      <th>1</th>\n      <td>0.0</td>\n      <td>0.0</td>\n      <td>0.0</td>\n      <td>0.0</td>\n      <td>0.0</td>\n      <td>0.0</td>\n      <td>0.0</td>\n      <td>0.0</td>\n    </tr>\n    <tr>\n      <th>2</th>\n      <td>0.0</td>\n      <td>0.0</td>\n      <td>0.0</td>\n      <td>0.0</td>\n      <td>0.0</td>\n      <td>0.0</td>\n      <td>0.0</td>\n      <td>0.0</td>\n    </tr>\n    <tr>\n      <th>3</th>\n      <td>0.0</td>\n      <td>0.0</td>\n      <td>0.0</td>\n      <td>0.0</td>\n      <td>0.0</td>\n      <td>0.0</td>\n      <td>0.0</td>\n      <td>0.0</td>\n    </tr>\n    <tr>\n      <th>4</th>\n      <td>0.0</td>\n      <td>0.0</td>\n      <td>0.0</td>\n      <td>0.0</td>\n      <td>0.0</td>\n      <td>0.0</td>\n      <td>0.0</td>\n      <td>0.0</td>\n    </tr>\n    <tr>\n      <th>...</th>\n      <td>...</td>\n      <td>...</td>\n      <td>...</td>\n      <td>...</td>\n      <td>...</td>\n      <td>...</td>\n      <td>...</td>\n      <td>...</td>\n    </tr>\n    <tr>\n      <th>1087</th>\n      <td>0.0</td>\n      <td>0.0</td>\n      <td>0.0</td>\n      <td>0.0</td>\n      <td>0.0</td>\n      <td>0.0</td>\n      <td>0.0</td>\n      <td>0.0</td>\n    </tr>\n    <tr>\n      <th>1088</th>\n      <td>0.0</td>\n      <td>0.0</td>\n      <td>0.0</td>\n      <td>0.0</td>\n      <td>0.0</td>\n      <td>0.0</td>\n      <td>0.0</td>\n      <td>0.0</td>\n    </tr>\n    <tr>\n      <th>1089</th>\n      <td>0.0</td>\n      <td>0.0</td>\n      <td>0.0</td>\n      <td>0.0</td>\n      <td>0.0</td>\n      <td>0.0</td>\n      <td>0.0</td>\n      <td>0.0</td>\n    </tr>\n    <tr>\n      <th>1090</th>\n      <td>0.0</td>\n      <td>0.0</td>\n      <td>0.0</td>\n      <td>0.0</td>\n      <td>0.0</td>\n      <td>0.0</td>\n      <td>0.0</td>\n      <td>0.0</td>\n    </tr>\n    <tr>\n      <th>1091</th>\n      <td>0.0</td>\n      <td>0.0</td>\n      <td>0.0</td>\n      <td>0.0</td>\n      <td>0.0</td>\n      <td>0.0</td>\n      <td>0.0</td>\n      <td>0.0</td>\n    </tr>\n  </tbody>\n</table>\n<p>1092 rows × 8 columns</p>\n</div>"
     },
     "execution_count": 15,
     "metadata": {},
     "output_type": "execute_result"
    }
   ],
   "source": [
    "# other columns = scenario, policy, year. take AWAY notnumveh-1\n",
    "years = range(2012,2051)\n",
    "feature_list = ['ScenarioID', 'CountryID', 'PolicyID', 'Year', 'TransTypeID', 'VehTypeID', 'MassCatID', 'TOT_Stock']\n",
    "\n",
    "zero_data = np.zeros(shape=(len(years)*len(tot95),len(feature_list)))\n",
    "\n",
    "tot = pd.DataFrame(zero_data, columns=feature_list)\n",
    "tot"
   ]
  },
  {
   "cell_type": "code",
   "execution_count": 16,
   "id": "c755c465",
   "metadata": {
    "pycharm": {
     "name": "#%%\n"
    }
   },
   "outputs": [
    {
     "data": {
      "text/plain": "      ScenarioID  CountryID  PolicyID  Year  TransTypeID  VehTypeID  \\\n0              1          9         0  2012            1          3   \n1              1          9         0  2012            1          3   \n2              1          9         0  2012            1          3   \n3              1          9         0  2012            1          4   \n4              1          9         0  2012            1          4   \n...          ...        ...       ...   ...          ...        ...   \n1087           1          9         0  2050            2          7   \n1088           1          9         0  2050            2          7   \n1089           1          9         0  2050            2          8   \n1090           1          9         0  2050            2          8   \n1091           1          9         0  2050            2          8   \n\n      MassCatID      TOT_Stock  \n0             1  409536.999994  \n1             2  107103.000002  \n2             3   15766.000000  \n3            11   49999.999998  \n4            13   10041.000000  \n...         ...            ...  \n1087         51       0.000000  \n1088         52       0.000000  \n1089         42       0.000000  \n1090         43       0.000000  \n1091         44       0.000000  \n\n[1092 rows x 8 columns]",
      "text/html": "<div>\n<style scoped>\n    .dataframe tbody tr th:only-of-type {\n        vertical-align: middle;\n    }\n\n    .dataframe tbody tr th {\n        vertical-align: top;\n    }\n\n    .dataframe thead th {\n        text-align: right;\n    }\n</style>\n<table border=\"1\" class=\"dataframe\">\n  <thead>\n    <tr style=\"text-align: right;\">\n      <th></th>\n      <th>ScenarioID</th>\n      <th>CountryID</th>\n      <th>PolicyID</th>\n      <th>Year</th>\n      <th>TransTypeID</th>\n      <th>VehTypeID</th>\n      <th>MassCatID</th>\n      <th>TOT_Stock</th>\n    </tr>\n  </thead>\n  <tbody>\n    <tr>\n      <th>0</th>\n      <td>1</td>\n      <td>9</td>\n      <td>0</td>\n      <td>2012</td>\n      <td>1</td>\n      <td>3</td>\n      <td>1</td>\n      <td>409536.999994</td>\n    </tr>\n    <tr>\n      <th>1</th>\n      <td>1</td>\n      <td>9</td>\n      <td>0</td>\n      <td>2012</td>\n      <td>1</td>\n      <td>3</td>\n      <td>2</td>\n      <td>107103.000002</td>\n    </tr>\n    <tr>\n      <th>2</th>\n      <td>1</td>\n      <td>9</td>\n      <td>0</td>\n      <td>2012</td>\n      <td>1</td>\n      <td>3</td>\n      <td>3</td>\n      <td>15766.000000</td>\n    </tr>\n    <tr>\n      <th>3</th>\n      <td>1</td>\n      <td>9</td>\n      <td>0</td>\n      <td>2012</td>\n      <td>1</td>\n      <td>4</td>\n      <td>11</td>\n      <td>49999.999998</td>\n    </tr>\n    <tr>\n      <th>4</th>\n      <td>1</td>\n      <td>9</td>\n      <td>0</td>\n      <td>2012</td>\n      <td>1</td>\n      <td>4</td>\n      <td>13</td>\n      <td>10041.000000</td>\n    </tr>\n    <tr>\n      <th>...</th>\n      <td>...</td>\n      <td>...</td>\n      <td>...</td>\n      <td>...</td>\n      <td>...</td>\n      <td>...</td>\n      <td>...</td>\n      <td>...</td>\n    </tr>\n    <tr>\n      <th>1087</th>\n      <td>1</td>\n      <td>9</td>\n      <td>0</td>\n      <td>2050</td>\n      <td>2</td>\n      <td>7</td>\n      <td>51</td>\n      <td>0.000000</td>\n    </tr>\n    <tr>\n      <th>1088</th>\n      <td>1</td>\n      <td>9</td>\n      <td>0</td>\n      <td>2050</td>\n      <td>2</td>\n      <td>7</td>\n      <td>52</td>\n      <td>0.000000</td>\n    </tr>\n    <tr>\n      <th>1089</th>\n      <td>1</td>\n      <td>9</td>\n      <td>0</td>\n      <td>2050</td>\n      <td>2</td>\n      <td>8</td>\n      <td>42</td>\n      <td>0.000000</td>\n    </tr>\n    <tr>\n      <th>1090</th>\n      <td>1</td>\n      <td>9</td>\n      <td>0</td>\n      <td>2050</td>\n      <td>2</td>\n      <td>8</td>\n      <td>43</td>\n      <td>0.000000</td>\n    </tr>\n    <tr>\n      <th>1091</th>\n      <td>1</td>\n      <td>9</td>\n      <td>0</td>\n      <td>2050</td>\n      <td>2</td>\n      <td>8</td>\n      <td>44</td>\n      <td>0.000000</td>\n    </tr>\n  </tbody>\n</table>\n<p>1092 rows × 8 columns</p>\n</div>"
     },
     "execution_count": 16,
     "metadata": {},
     "output_type": "execute_result"
    }
   ],
   "source": [
    "for year in years:\n",
    "    \n",
    "    if year == 2012:\n",
    "        tot.loc[years.index(year)*len(tot95):(years.index(year)+1)*len(tot95)-1, [c for c in tot95.columns]] = tot95.loc[:, [c for c in tot95.columns]].values\n",
    "        tot.loc[years.index(year)*len(tot95):(years.index(year)+1)*len(tot95)-1, 'Year'] = year\n",
    "    else:\n",
    "        tot.loc[years.index(year)*len(tot95):(years.index(year)+1)*len(tot95)-1, [c for c in tot95.columns if c not in ['TOT_Stock']]] = tot95.loc[:, [c for c in tot95.columns if c not in ['TOT_Stock']]].values\n",
    "        tot.loc[years.index(year)*len(tot95):(years.index(year)+1)*len(tot95)-1, 'Year'] = year\n",
    "\n",
    "tot = tot.reset_index(drop=True)\n",
    "tot['ScenarioID'] = 1\n",
    "tot['PolicyID'] = 0\n",
    "tot[['CountryID', 'Year', 'TransTypeID', 'VehTypeID', 'MassCatID']] = tot[['CountryID', 'Year', 'TransTypeID', 'VehTypeID', 'MassCatID']].astype(int)\n",
    "tot"
   ]
  },
  {
   "cell_type": "code",
   "execution_count": 17,
   "id": "9aab8202",
   "metadata": {
    "pycharm": {
     "name": "#%%\n"
    }
   },
   "outputs": [],
   "source": [
    "tot.to_csv('./out_data/processed/afema_bodge/tot_afemabodge.csv', index=False)"
   ]
  },
  {
   "cell_type": "code",
   "execution_count": 17,
   "id": "542b762b",
   "metadata": {
    "pycharm": {
     "name": "#%%\n"
    }
   },
   "outputs": [],
   "source": []
  }
 ],
 "metadata": {
  "kernelspec": {
   "display_name": "Python 3 (ipykernel)",
   "language": "python",
   "name": "python3"
  },
  "language_info": {
   "codemirror_mode": {
    "name": "ipython",
    "version": 3
   },
   "file_extension": ".py",
   "mimetype": "text/x-python",
   "name": "python",
   "nbconvert_exporter": "python",
   "pygments_lexer": "ipython3",
   "version": "3.9.12"
  }
 },
 "nbformat": 4,
 "nbformat_minor": 5
}