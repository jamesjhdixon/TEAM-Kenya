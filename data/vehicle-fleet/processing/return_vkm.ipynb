{
 "cells": [
  {
   "cell_type": "markdown",
   "id": "3e8f45ea",
   "metadata": {
    "pycharm": {
     "name": "#%% md\n"
    }
   },
   "source": [
    "This notebook processes the vehicle-kilometre data from aemda output\n",
    "\n",
    "It also aggregates duplicates across TechID and TechDescription."
   ]
  },
  {
   "cell_type": "code",
   "execution_count": 66,
   "id": "932f3e3d",
   "metadata": {
    "pycharm": {
     "name": "#%%\n"
    },
    "ExecuteTime": {
     "end_time": "2023-08-08T17:43:47.758992500Z",
     "start_time": "2023-08-08T17:43:47.717248100Z"
    }
   },
   "outputs": [],
   "source": [
    "import pandas as pd"
   ]
  },
  {
   "cell_type": "code",
   "execution_count": 67,
   "id": "d66da0da",
   "metadata": {
    "pycharm": {
     "name": "#%%\n"
    },
    "ExecuteTime": {
     "end_time": "2023-08-08T17:43:47.758992500Z",
     "start_time": "2023-08-08T17:43:47.717248100Z"
    }
   },
   "outputs": [
    {
     "data": {
      "text/plain": "     ScenarioID  CountryID  TechID  JSTypeVSMID  \\\n0             1          9      70            1   \n1             1          9      70            2   \n2             1          9      70            3   \n3             1          9    9070            1   \n4             1          9    9070            2   \n..          ...        ...     ...          ...   \n829           1          9      10            2   \n830           1          9      10            3   \n831           1          9      10            1   \n832           1          9      10            2   \n833           1          9      10            3   \n\n                                       TechDescription  TransTypeID  \\\n0    Road-Small (car)-Conventional (pre-EURO)-Passe...            1   \n1    Road-Small (car)-Conventional (pre-EURO)-Passe...            1   \n2    Road-Small (car)-Conventional (pre-EURO)-Passe...            1   \n3    Road-Small (car)-Conventional (pre-EURO)-Passe...            1   \n4    Road-Small (car)-Conventional (pre-EURO)-Passe...            1   \n..                                                 ...          ...   \n829  Road-Average moto-Euro 4 (2005-09)-Passenger T...            1   \n830  Road-Average moto-Euro 4 (2005-09)-Passenger T...            1   \n831  Road-Average moto-Euro 4 (2005-09)-Passenger T...            1   \n832  Road-Average moto-Euro 4 (2005-09)-Passenger T...            1   \n833  Road-Average moto-Euro 4 (2005-09)-Passenger T...            1   \n\n     VehTypeID  MassCatID       VKM  \n0            3          1  0.097499  \n1            3          1  0.048749  \n2            3          1  0.048749  \n3            3          1  0.552493  \n4            3          1  0.276247  \n..         ...        ...       ...  \n829          2          4  0.006298  \n830          2          4  0.006298  \n831          2          4  0.000000  \n832          2          4  0.000000  \n833          2          4  0.000000  \n\n[834 rows x 9 columns]",
      "text/html": "<div>\n<style scoped>\n    .dataframe tbody tr th:only-of-type {\n        vertical-align: middle;\n    }\n\n    .dataframe tbody tr th {\n        vertical-align: top;\n    }\n\n    .dataframe thead th {\n        text-align: right;\n    }\n</style>\n<table border=\"1\" class=\"dataframe\">\n  <thead>\n    <tr style=\"text-align: right;\">\n      <th></th>\n      <th>ScenarioID</th>\n      <th>CountryID</th>\n      <th>TechID</th>\n      <th>JSTypeVSMID</th>\n      <th>TechDescription</th>\n      <th>TransTypeID</th>\n      <th>VehTypeID</th>\n      <th>MassCatID</th>\n      <th>VKM</th>\n    </tr>\n  </thead>\n  <tbody>\n    <tr>\n      <th>0</th>\n      <td>1</td>\n      <td>9</td>\n      <td>70</td>\n      <td>1</td>\n      <td>Road-Small (car)-Conventional (pre-EURO)-Passe...</td>\n      <td>1</td>\n      <td>3</td>\n      <td>1</td>\n      <td>0.097499</td>\n    </tr>\n    <tr>\n      <th>1</th>\n      <td>1</td>\n      <td>9</td>\n      <td>70</td>\n      <td>2</td>\n      <td>Road-Small (car)-Conventional (pre-EURO)-Passe...</td>\n      <td>1</td>\n      <td>3</td>\n      <td>1</td>\n      <td>0.048749</td>\n    </tr>\n    <tr>\n      <th>2</th>\n      <td>1</td>\n      <td>9</td>\n      <td>70</td>\n      <td>3</td>\n      <td>Road-Small (car)-Conventional (pre-EURO)-Passe...</td>\n      <td>1</td>\n      <td>3</td>\n      <td>1</td>\n      <td>0.048749</td>\n    </tr>\n    <tr>\n      <th>3</th>\n      <td>1</td>\n      <td>9</td>\n      <td>9070</td>\n      <td>1</td>\n      <td>Road-Small (car)-Conventional (pre-EURO)-Passe...</td>\n      <td>1</td>\n      <td>3</td>\n      <td>1</td>\n      <td>0.552493</td>\n    </tr>\n    <tr>\n      <th>4</th>\n      <td>1</td>\n      <td>9</td>\n      <td>9070</td>\n      <td>2</td>\n      <td>Road-Small (car)-Conventional (pre-EURO)-Passe...</td>\n      <td>1</td>\n      <td>3</td>\n      <td>1</td>\n      <td>0.276247</td>\n    </tr>\n    <tr>\n      <th>...</th>\n      <td>...</td>\n      <td>...</td>\n      <td>...</td>\n      <td>...</td>\n      <td>...</td>\n      <td>...</td>\n      <td>...</td>\n      <td>...</td>\n      <td>...</td>\n    </tr>\n    <tr>\n      <th>829</th>\n      <td>1</td>\n      <td>9</td>\n      <td>10</td>\n      <td>2</td>\n      <td>Road-Average moto-Euro 4 (2005-09)-Passenger T...</td>\n      <td>1</td>\n      <td>2</td>\n      <td>4</td>\n      <td>0.006298</td>\n    </tr>\n    <tr>\n      <th>830</th>\n      <td>1</td>\n      <td>9</td>\n      <td>10</td>\n      <td>3</td>\n      <td>Road-Average moto-Euro 4 (2005-09)-Passenger T...</td>\n      <td>1</td>\n      <td>2</td>\n      <td>4</td>\n      <td>0.006298</td>\n    </tr>\n    <tr>\n      <th>831</th>\n      <td>1</td>\n      <td>9</td>\n      <td>10</td>\n      <td>1</td>\n      <td>Road-Average moto-Euro 4 (2005-09)-Passenger T...</td>\n      <td>1</td>\n      <td>2</td>\n      <td>4</td>\n      <td>0.000000</td>\n    </tr>\n    <tr>\n      <th>832</th>\n      <td>1</td>\n      <td>9</td>\n      <td>10</td>\n      <td>2</td>\n      <td>Road-Average moto-Euro 4 (2005-09)-Passenger T...</td>\n      <td>1</td>\n      <td>2</td>\n      <td>4</td>\n      <td>0.000000</td>\n    </tr>\n    <tr>\n      <th>833</th>\n      <td>1</td>\n      <td>9</td>\n      <td>10</td>\n      <td>3</td>\n      <td>Road-Average moto-Euro 4 (2005-09)-Passenger T...</td>\n      <td>1</td>\n      <td>2</td>\n      <td>4</td>\n      <td>0.000000</td>\n    </tr>\n  </tbody>\n</table>\n<p>834 rows × 9 columns</p>\n</div>"
     },
     "execution_count": 67,
     "metadata": {},
     "output_type": "execute_result"
    }
   ],
   "source": [
    "# read aemda vkm data\n",
    "vkm = pd.read_csv('./../out_data/vkmData.csv')\n",
    "vkm"
   ]
  },
  {
   "cell_type": "code",
   "execution_count": 68,
   "outputs": [
    {
     "data": {
      "text/plain": "     ScenarioID  CountryID  TechID  JSTypeVSMID  \\\n0             1          9      70            1   \n1             1          9      70            2   \n2             1          9      70            3   \n3             1          9    9070            1   \n4             1          9    9070            2   \n..          ...        ...     ...          ...   \n829           1          9      10            2   \n830           1          9      10            3   \n831           1          9      10            1   \n832           1          9      10            2   \n833           1          9      10            3   \n\n                                       TechDescription  TransTypeID  \\\n0    Road-Small (car)-Conventional (pre-EURO)-Passe...            1   \n1    Road-Small (car)-Conventional (pre-EURO)-Passe...            1   \n2    Road-Small (car)-Conventional (pre-EURO)-Passe...            1   \n3    Road-Small (car)-Conventional (pre-EURO)-Passe...            1   \n4    Road-Small (car)-Conventional (pre-EURO)-Passe...            1   \n..                                                 ...          ...   \n829  Road-Average moto-Conventional (pre-EURO)-Pass...            1   \n830  Road-Average moto-Conventional (pre-EURO)-Pass...            1   \n831  Road-Average moto-Conventional (pre-EURO)-Pass...            1   \n832  Road-Average moto-Conventional (pre-EURO)-Pass...            1   \n833  Road-Average moto-Conventional (pre-EURO)-Pass...            1   \n\n     VehTypeID  MassCatID       VKM  \n0            3          1  0.097499  \n1            3          1  0.048749  \n2            3          1  0.048749  \n3            3          1  0.552493  \n4            3          1  0.276247  \n..         ...        ...       ...  \n829          2          4  0.006298  \n830          2          4  0.006298  \n831          2          4  0.000000  \n832          2          4  0.000000  \n833          2          4  0.000000  \n\n[834 rows x 9 columns]",
      "text/html": "<div>\n<style scoped>\n    .dataframe tbody tr th:only-of-type {\n        vertical-align: middle;\n    }\n\n    .dataframe tbody tr th {\n        vertical-align: top;\n    }\n\n    .dataframe thead th {\n        text-align: right;\n    }\n</style>\n<table border=\"1\" class=\"dataframe\">\n  <thead>\n    <tr style=\"text-align: right;\">\n      <th></th>\n      <th>ScenarioID</th>\n      <th>CountryID</th>\n      <th>TechID</th>\n      <th>JSTypeVSMID</th>\n      <th>TechDescription</th>\n      <th>TransTypeID</th>\n      <th>VehTypeID</th>\n      <th>MassCatID</th>\n      <th>VKM</th>\n    </tr>\n  </thead>\n  <tbody>\n    <tr>\n      <th>0</th>\n      <td>1</td>\n      <td>9</td>\n      <td>70</td>\n      <td>1</td>\n      <td>Road-Small (car)-Conventional (pre-EURO)-Passe...</td>\n      <td>1</td>\n      <td>3</td>\n      <td>1</td>\n      <td>0.097499</td>\n    </tr>\n    <tr>\n      <th>1</th>\n      <td>1</td>\n      <td>9</td>\n      <td>70</td>\n      <td>2</td>\n      <td>Road-Small (car)-Conventional (pre-EURO)-Passe...</td>\n      <td>1</td>\n      <td>3</td>\n      <td>1</td>\n      <td>0.048749</td>\n    </tr>\n    <tr>\n      <th>2</th>\n      <td>1</td>\n      <td>9</td>\n      <td>70</td>\n      <td>3</td>\n      <td>Road-Small (car)-Conventional (pre-EURO)-Passe...</td>\n      <td>1</td>\n      <td>3</td>\n      <td>1</td>\n      <td>0.048749</td>\n    </tr>\n    <tr>\n      <th>3</th>\n      <td>1</td>\n      <td>9</td>\n      <td>9070</td>\n      <td>1</td>\n      <td>Road-Small (car)-Conventional (pre-EURO)-Passe...</td>\n      <td>1</td>\n      <td>3</td>\n      <td>1</td>\n      <td>0.552493</td>\n    </tr>\n    <tr>\n      <th>4</th>\n      <td>1</td>\n      <td>9</td>\n      <td>9070</td>\n      <td>2</td>\n      <td>Road-Small (car)-Conventional (pre-EURO)-Passe...</td>\n      <td>1</td>\n      <td>3</td>\n      <td>1</td>\n      <td>0.276247</td>\n    </tr>\n    <tr>\n      <th>...</th>\n      <td>...</td>\n      <td>...</td>\n      <td>...</td>\n      <td>...</td>\n      <td>...</td>\n      <td>...</td>\n      <td>...</td>\n      <td>...</td>\n      <td>...</td>\n    </tr>\n    <tr>\n      <th>829</th>\n      <td>1</td>\n      <td>9</td>\n      <td>10</td>\n      <td>2</td>\n      <td>Road-Average moto-Conventional (pre-EURO)-Pass...</td>\n      <td>1</td>\n      <td>2</td>\n      <td>4</td>\n      <td>0.006298</td>\n    </tr>\n    <tr>\n      <th>830</th>\n      <td>1</td>\n      <td>9</td>\n      <td>10</td>\n      <td>3</td>\n      <td>Road-Average moto-Conventional (pre-EURO)-Pass...</td>\n      <td>1</td>\n      <td>2</td>\n      <td>4</td>\n      <td>0.006298</td>\n    </tr>\n    <tr>\n      <th>831</th>\n      <td>1</td>\n      <td>9</td>\n      <td>10</td>\n      <td>1</td>\n      <td>Road-Average moto-Conventional (pre-EURO)-Pass...</td>\n      <td>1</td>\n      <td>2</td>\n      <td>4</td>\n      <td>0.000000</td>\n    </tr>\n    <tr>\n      <th>832</th>\n      <td>1</td>\n      <td>9</td>\n      <td>10</td>\n      <td>2</td>\n      <td>Road-Average moto-Conventional (pre-EURO)-Pass...</td>\n      <td>1</td>\n      <td>2</td>\n      <td>4</td>\n      <td>0.000000</td>\n    </tr>\n    <tr>\n      <th>833</th>\n      <td>1</td>\n      <td>9</td>\n      <td>10</td>\n      <td>3</td>\n      <td>Road-Average moto-Conventional (pre-EURO)-Pass...</td>\n      <td>1</td>\n      <td>2</td>\n      <td>4</td>\n      <td>0.000000</td>\n    </tr>\n  </tbody>\n</table>\n<p>834 rows × 9 columns</p>\n</div>"
     },
     "execution_count": 68,
     "metadata": {},
     "output_type": "execute_result"
    }
   ],
   "source": [
    "# make corrections\n",
    "for techid in vkm.TechID.unique().tolist():\n",
    "    \n",
    "    # return first tech description\n",
    "    techdescription = vkm[vkm.TechID == techid]['TechDescription'].tolist()[0]\n",
    "    \n",
    "    vkm.loc[vkm[vkm.TechID == techid].index.tolist(), 'TechDescription'] = techdescription\n",
    "\n",
    "vkm"
   ],
   "metadata": {
    "collapsed": false,
    "ExecuteTime": {
     "end_time": "2023-08-08T17:43:48.007053800Z",
     "start_time": "2023-08-08T17:43:47.735323300Z"
    }
   },
   "id": "2b9d8a0a7887bde5"
  },
  {
   "cell_type": "code",
   "execution_count": 69,
   "id": "d5fba6b9",
   "metadata": {
    "pycharm": {
     "name": "#%%\n"
    },
    "ExecuteTime": {
     "end_time": "2023-08-08T17:43:48.754346300Z",
     "start_time": "2023-08-08T17:43:47.975401500Z"
    }
   },
   "outputs": [
    {
     "data": {
      "text/plain": "      ScenarioID  CountryID  TechID  JSTypeVSMID  \\\n0              1          9     140            2   \n1              1          9     140            1   \n2              1          9     170            2   \n3              1          9     181            2   \n4              1          9     170            1   \n...          ...        ...     ...          ...   \n6694           1          9   14892            2   \n6695           1          9   14892            3   \n6696           1          9   14893            1   \n6697           1          9   14893            2   \n6698           1          9   14893            3   \n\n                                        TechDescription  TransTypeID  \\\n0     Road - Car - Medium - Gasoline - Euro 5 (2009-...            1   \n1     Road - Car - Medium - Gasoline - Euro 5 (2009-...            1   \n2     Road - Car - Medium - Gasoline - Euro 3 (2001-...            1   \n3     Road - Car - Medium - Gasoline - Euro 4 (2005-...            1   \n4     Road - Car - Medium - Gasoline - Euro 3 (2001-...            1   \n...                                                 ...          ...   \n6694  Road - Truck - OtherVan - Gaseous Hydrogen - F...            2   \n6695  Road - Truck - OtherVan - Gaseous Hydrogen - F...            2   \n6696  Road - Truck - OtherVan - Gaseous Hydrogen - F...            2   \n6697  Road - Truck - OtherVan - Gaseous Hydrogen - F...            2   \n6698  Road - Truck - OtherVan - Gaseous Hydrogen - F...            2   \n\n      VehTypeID  MassCatID       VKM  \n0             3          2  14.05499  \n1             3          2  13.65464  \n2             3          2  11.61062  \n3             3          2  11.34814  \n4             3          2  11.27990  \n...         ...        ...       ...  \n6694          5         28   0.00000  \n6695          5         28   0.00000  \n6696          5         28   0.00000  \n6697          5         28   0.00000  \n6698          5         28   0.00000  \n\n[6699 rows x 9 columns]",
      "text/html": "<div>\n<style scoped>\n    .dataframe tbody tr th:only-of-type {\n        vertical-align: middle;\n    }\n\n    .dataframe tbody tr th {\n        vertical-align: top;\n    }\n\n    .dataframe thead th {\n        text-align: right;\n    }\n</style>\n<table border=\"1\" class=\"dataframe\">\n  <thead>\n    <tr style=\"text-align: right;\">\n      <th></th>\n      <th>ScenarioID</th>\n      <th>CountryID</th>\n      <th>TechID</th>\n      <th>JSTypeVSMID</th>\n      <th>TechDescription</th>\n      <th>TransTypeID</th>\n      <th>VehTypeID</th>\n      <th>MassCatID</th>\n      <th>VKM</th>\n    </tr>\n  </thead>\n  <tbody>\n    <tr>\n      <th>0</th>\n      <td>1</td>\n      <td>9</td>\n      <td>140</td>\n      <td>2</td>\n      <td>Road - Car - Medium - Gasoline - Euro 5 (2009-...</td>\n      <td>1</td>\n      <td>3</td>\n      <td>2</td>\n      <td>14.05499</td>\n    </tr>\n    <tr>\n      <th>1</th>\n      <td>1</td>\n      <td>9</td>\n      <td>140</td>\n      <td>1</td>\n      <td>Road - Car - Medium - Gasoline - Euro 5 (2009-...</td>\n      <td>1</td>\n      <td>3</td>\n      <td>2</td>\n      <td>13.65464</td>\n    </tr>\n    <tr>\n      <th>2</th>\n      <td>1</td>\n      <td>9</td>\n      <td>170</td>\n      <td>2</td>\n      <td>Road - Car - Medium - Gasoline - Euro 3 (2001-...</td>\n      <td>1</td>\n      <td>3</td>\n      <td>2</td>\n      <td>11.61062</td>\n    </tr>\n    <tr>\n      <th>3</th>\n      <td>1</td>\n      <td>9</td>\n      <td>181</td>\n      <td>2</td>\n      <td>Road - Car - Medium - Gasoline - Euro 4 (2005-...</td>\n      <td>1</td>\n      <td>3</td>\n      <td>2</td>\n      <td>11.34814</td>\n    </tr>\n    <tr>\n      <th>4</th>\n      <td>1</td>\n      <td>9</td>\n      <td>170</td>\n      <td>1</td>\n      <td>Road - Car - Medium - Gasoline - Euro 3 (2001-...</td>\n      <td>1</td>\n      <td>3</td>\n      <td>2</td>\n      <td>11.27990</td>\n    </tr>\n    <tr>\n      <th>...</th>\n      <td>...</td>\n      <td>...</td>\n      <td>...</td>\n      <td>...</td>\n      <td>...</td>\n      <td>...</td>\n      <td>...</td>\n      <td>...</td>\n      <td>...</td>\n    </tr>\n    <tr>\n      <th>6694</th>\n      <td>1</td>\n      <td>9</td>\n      <td>14892</td>\n      <td>2</td>\n      <td>Road - Truck - OtherVan - Gaseous Hydrogen - F...</td>\n      <td>2</td>\n      <td>5</td>\n      <td>28</td>\n      <td>0.00000</td>\n    </tr>\n    <tr>\n      <th>6695</th>\n      <td>1</td>\n      <td>9</td>\n      <td>14892</td>\n      <td>3</td>\n      <td>Road - Truck - OtherVan - Gaseous Hydrogen - F...</td>\n      <td>2</td>\n      <td>5</td>\n      <td>28</td>\n      <td>0.00000</td>\n    </tr>\n    <tr>\n      <th>6696</th>\n      <td>1</td>\n      <td>9</td>\n      <td>14893</td>\n      <td>1</td>\n      <td>Road - Truck - OtherVan - Gaseous Hydrogen - F...</td>\n      <td>2</td>\n      <td>5</td>\n      <td>28</td>\n      <td>0.00000</td>\n    </tr>\n    <tr>\n      <th>6697</th>\n      <td>1</td>\n      <td>9</td>\n      <td>14893</td>\n      <td>2</td>\n      <td>Road - Truck - OtherVan - Gaseous Hydrogen - F...</td>\n      <td>2</td>\n      <td>5</td>\n      <td>28</td>\n      <td>0.00000</td>\n    </tr>\n    <tr>\n      <th>6698</th>\n      <td>1</td>\n      <td>9</td>\n      <td>14893</td>\n      <td>3</td>\n      <td>Road - Truck - OtherVan - Gaseous Hydrogen - F...</td>\n      <td>2</td>\n      <td>5</td>\n      <td>28</td>\n      <td>0.00000</td>\n    </tr>\n  </tbody>\n</table>\n<p>6699 rows × 9 columns</p>\n</div>"
     },
     "execution_count": 69,
     "metadata": {},
     "output_type": "execute_result"
    }
   ],
   "source": [
    "# read uk sample data\n",
    "vkmuk = pd.read_excel('./../sample_data/VkmTemplateData.xlsx')\n",
    "vkmuk"
   ]
  },
  {
   "cell_type": "code",
   "execution_count": 70,
   "id": "821635b8",
   "metadata": {
    "pycharm": {
     "name": "#%%\n"
    },
    "ExecuteTime": {
     "end_time": "2023-08-08T17:43:48.761826400Z",
     "start_time": "2023-08-08T17:43:48.759805200Z"
    }
   },
   "outputs": [],
   "source": [
    "uk_kenya_translation = {6:0.1, 7:0.1, 8:0.1}"
   ]
  },
  {
   "cell_type": "code",
   "execution_count": 71,
   "id": "3e57394d",
   "metadata": {
    "pycharm": {
     "name": "#%%\n"
    },
    "ExecuteTime": {
     "end_time": "2023-08-08T17:43:48.803920500Z",
     "start_time": "2023-08-08T17:43:48.761826400Z"
    }
   },
   "outputs": [
    {
     "name": "stderr",
     "output_type": "stream",
     "text": [
      "C:\\Users\\ekb15182\\AppData\\Local\\Temp\\ipykernel_15136\\339616296.py:5: FutureWarning: The frame.append method is deprecated and will be removed from pandas in a future version. Use pandas.concat instead.\n",
      "  vkm = vkm.append(vkmuk.loc[vkmuk[vkmuk.VehTypeID == vehtype].index.tolist()])\n",
      "C:\\Users\\ekb15182\\AppData\\Local\\Temp\\ipykernel_15136\\339616296.py:5: FutureWarning: The frame.append method is deprecated and will be removed from pandas in a future version. Use pandas.concat instead.\n",
      "  vkm = vkm.append(vkmuk.loc[vkmuk[vkmuk.VehTypeID == vehtype].index.tolist()])\n",
      "C:\\Users\\ekb15182\\AppData\\Local\\Temp\\ipykernel_15136\\339616296.py:5: FutureWarning: The frame.append method is deprecated and will be removed from pandas in a future version. Use pandas.concat instead.\n",
      "  vkm = vkm.append(vkmuk.loc[vkmuk[vkmuk.VehTypeID == vehtype].index.tolist()])\n"
     ]
    },
    {
     "data": {
      "text/plain": "      ScenarioID  CountryID  TechID  JSTypeVSMID  \\\n0              1          9      70            1   \n1              1          9      70            2   \n2              1          9      70            3   \n3              1          9    9070            1   \n4              1          9    9070            2   \n...          ...        ...     ...          ...   \n2665           1          9    4320           13   \n2666           1          9    4321            9   \n2667           1          9    4321           13   \n2668           1          9    4322            9   \n2669           1          9    4322           13   \n\n                                        TechDescription  TransTypeID  \\\n0     Road-Small (car)-Conventional (pre-EURO)-Passe...            1   \n1     Road-Small (car)-Conventional (pre-EURO)-Passe...            1   \n2     Road-Small (car)-Conventional (pre-EURO)-Passe...            1   \n3     Road-Small (car)-Conventional (pre-EURO)-Passe...            1   \n4     Road-Small (car)-Conventional (pre-EURO)-Passe...            1   \n...                                                 ...          ...   \n2665  Air - Aeroplane - Supersonic - Liquefied Hydro...            1   \n2666  Air - Aeroplane - Supersonic - Liquefied Hydro...            1   \n2667  Air - Aeroplane - Supersonic - Liquefied Hydro...            1   \n2668  Air - Aeroplane - Supersonic - Liquefied Hydro...            1   \n2669  Air - Aeroplane - Supersonic - Liquefied Hydro...            1   \n\n      VehTypeID  MassCatID       VKM  \n0             3          1  0.097499  \n1             3          1  0.048749  \n2             3          1  0.048749  \n3             3          1  0.552493  \n4             3          1  0.276247  \n...         ...        ...       ...  \n2665          8         45  0.000000  \n2666          8         45  0.000000  \n2667          8         45  0.000000  \n2668          8         45  0.000000  \n2669          8         45  0.000000  \n\n[1128 rows x 9 columns]",
      "text/html": "<div>\n<style scoped>\n    .dataframe tbody tr th:only-of-type {\n        vertical-align: middle;\n    }\n\n    .dataframe tbody tr th {\n        vertical-align: top;\n    }\n\n    .dataframe thead th {\n        text-align: right;\n    }\n</style>\n<table border=\"1\" class=\"dataframe\">\n  <thead>\n    <tr style=\"text-align: right;\">\n      <th></th>\n      <th>ScenarioID</th>\n      <th>CountryID</th>\n      <th>TechID</th>\n      <th>JSTypeVSMID</th>\n      <th>TechDescription</th>\n      <th>TransTypeID</th>\n      <th>VehTypeID</th>\n      <th>MassCatID</th>\n      <th>VKM</th>\n    </tr>\n  </thead>\n  <tbody>\n    <tr>\n      <th>0</th>\n      <td>1</td>\n      <td>9</td>\n      <td>70</td>\n      <td>1</td>\n      <td>Road-Small (car)-Conventional (pre-EURO)-Passe...</td>\n      <td>1</td>\n      <td>3</td>\n      <td>1</td>\n      <td>0.097499</td>\n    </tr>\n    <tr>\n      <th>1</th>\n      <td>1</td>\n      <td>9</td>\n      <td>70</td>\n      <td>2</td>\n      <td>Road-Small (car)-Conventional (pre-EURO)-Passe...</td>\n      <td>1</td>\n      <td>3</td>\n      <td>1</td>\n      <td>0.048749</td>\n    </tr>\n    <tr>\n      <th>2</th>\n      <td>1</td>\n      <td>9</td>\n      <td>70</td>\n      <td>3</td>\n      <td>Road-Small (car)-Conventional (pre-EURO)-Passe...</td>\n      <td>1</td>\n      <td>3</td>\n      <td>1</td>\n      <td>0.048749</td>\n    </tr>\n    <tr>\n      <th>3</th>\n      <td>1</td>\n      <td>9</td>\n      <td>9070</td>\n      <td>1</td>\n      <td>Road-Small (car)-Conventional (pre-EURO)-Passe...</td>\n      <td>1</td>\n      <td>3</td>\n      <td>1</td>\n      <td>0.552493</td>\n    </tr>\n    <tr>\n      <th>4</th>\n      <td>1</td>\n      <td>9</td>\n      <td>9070</td>\n      <td>2</td>\n      <td>Road-Small (car)-Conventional (pre-EURO)-Passe...</td>\n      <td>1</td>\n      <td>3</td>\n      <td>1</td>\n      <td>0.276247</td>\n    </tr>\n    <tr>\n      <th>...</th>\n      <td>...</td>\n      <td>...</td>\n      <td>...</td>\n      <td>...</td>\n      <td>...</td>\n      <td>...</td>\n      <td>...</td>\n      <td>...</td>\n      <td>...</td>\n    </tr>\n    <tr>\n      <th>2665</th>\n      <td>1</td>\n      <td>9</td>\n      <td>4320</td>\n      <td>13</td>\n      <td>Air - Aeroplane - Supersonic - Liquefied Hydro...</td>\n      <td>1</td>\n      <td>8</td>\n      <td>45</td>\n      <td>0.000000</td>\n    </tr>\n    <tr>\n      <th>2666</th>\n      <td>1</td>\n      <td>9</td>\n      <td>4321</td>\n      <td>9</td>\n      <td>Air - Aeroplane - Supersonic - Liquefied Hydro...</td>\n      <td>1</td>\n      <td>8</td>\n      <td>45</td>\n      <td>0.000000</td>\n    </tr>\n    <tr>\n      <th>2667</th>\n      <td>1</td>\n      <td>9</td>\n      <td>4321</td>\n      <td>13</td>\n      <td>Air - Aeroplane - Supersonic - Liquefied Hydro...</td>\n      <td>1</td>\n      <td>8</td>\n      <td>45</td>\n      <td>0.000000</td>\n    </tr>\n    <tr>\n      <th>2668</th>\n      <td>1</td>\n      <td>9</td>\n      <td>4322</td>\n      <td>9</td>\n      <td>Air - Aeroplane - Supersonic - Liquefied Hydro...</td>\n      <td>1</td>\n      <td>8</td>\n      <td>45</td>\n      <td>0.000000</td>\n    </tr>\n    <tr>\n      <th>2669</th>\n      <td>1</td>\n      <td>9</td>\n      <td>4322</td>\n      <td>13</td>\n      <td>Air - Aeroplane - Supersonic - Liquefied Hydro...</td>\n      <td>1</td>\n      <td>8</td>\n      <td>45</td>\n      <td>0.000000</td>\n    </tr>\n  </tbody>\n</table>\n<p>1128 rows × 9 columns</p>\n</div>"
     },
     "execution_count": 71,
     "metadata": {},
     "output_type": "execute_result"
    }
   ],
   "source": [
    "for vehtype in uk_kenya_translation:\n",
    "\n",
    "    vkmuk.loc[vkmuk[vkmuk.VehTypeID == vehtype].index.tolist(), 'VKM'] *= uk_kenya_translation[vehtype]\n",
    "    \n",
    "    vkm = vkm.append(vkmuk.loc[vkmuk[vkmuk.VehTypeID == vehtype].index.tolist()])\n",
    "    \n",
    "vkm"
   ]
  },
  {
   "cell_type": "code",
   "execution_count": 72,
   "outputs": [],
   "source": [
    "# get rid of duplicates - a bunch of 'extras' were put in at the end by AEMDA as TechID = 10.\n",
    "vkm = vkm.groupby([c for c in vkm.columns if c != 'VKM'],as_index=False).agg({'VKM': 'sum'})"
   ],
   "metadata": {
    "collapsed": false,
    "ExecuteTime": {
     "end_time": "2023-08-08T17:43:48.856992Z",
     "start_time": "2023-08-08T17:43:48.783920500Z"
    }
   },
   "id": "abb8491c19a5a973"
  },
  {
   "cell_type": "code",
   "execution_count": 73,
   "id": "a74f9652",
   "metadata": {
    "pycharm": {
     "name": "#%%\n"
    },
    "ExecuteTime": {
     "end_time": "2023-08-08T17:43:48.897870600Z",
     "start_time": "2023-08-08T17:43:48.793941100Z"
    }
   },
   "outputs": [],
   "source": [
    "vkm.to_csv('./../out_data/processed/vkm.csv')"
   ]
  },
  {
   "cell_type": "code",
   "execution_count": 74,
   "outputs": [
    {
     "data": {
      "text/plain": "Empty DataFrame\nColumns: [ScenarioID, CountryID, TechID, JSTypeVSMID, TechDescription, TransTypeID, VehTypeID, MassCatID, VKM]\nIndex: []",
      "text/html": "<div>\n<style scoped>\n    .dataframe tbody tr th:only-of-type {\n        vertical-align: middle;\n    }\n\n    .dataframe tbody tr th {\n        vertical-align: top;\n    }\n\n    .dataframe thead th {\n        text-align: right;\n    }\n</style>\n<table border=\"1\" class=\"dataframe\">\n  <thead>\n    <tr style=\"text-align: right;\">\n      <th></th>\n      <th>ScenarioID</th>\n      <th>CountryID</th>\n      <th>TechID</th>\n      <th>JSTypeVSMID</th>\n      <th>TechDescription</th>\n      <th>TransTypeID</th>\n      <th>VehTypeID</th>\n      <th>MassCatID</th>\n      <th>VKM</th>\n    </tr>\n  </thead>\n  <tbody>\n  </tbody>\n</table>\n</div>"
     },
     "execution_count": 74,
     "metadata": {},
     "output_type": "execute_result"
    }
   ],
   "source": [
    "vkm[vkm.duplicated(subset=['TechID', 'JSTypeVSMID'])]"
   ],
   "metadata": {
    "collapsed": false,
    "ExecuteTime": {
     "end_time": "2023-08-08T17:43:48.897870600Z",
     "start_time": "2023-08-08T17:43:48.803920500Z"
    }
   },
   "id": "877222e803454485"
  },
  {
   "cell_type": "code",
   "execution_count": 75,
   "outputs": [
    {
     "data": {
      "text/plain": "      ScenarioID  CountryID  TechID  JSTypeVSMID  \\\n0              1          9      10            1   \n1              1          9      10            2   \n2              1          9      10            3   \n3              1          9      20            1   \n4              1          9      20            2   \n...          ...        ...     ...          ...   \n1009           1          9   10682            2   \n1010           1          9   10682            3   \n1011           1          9   10690            1   \n1012           1          9   10690            2   \n1013           1          9   10690            3   \n\n                                        TechDescription  TransTypeID  \\\n0     Road-Average moto-Conventional (pre-EURO)-Pass...            1   \n1     Road-Average moto-Conventional (pre-EURO)-Pass...            1   \n2     Road-Average moto-Conventional (pre-EURO)-Pass...            1   \n3     Road-Average moto-Euro 1 (1992-96)-Passenger T...            1   \n4     Road-Average moto-Euro 1 (1992-96)-Passenger T...            1   \n...                                                 ...          ...   \n1009  Road-Heavy (truck)-Euro 4 (2005-09)-Freight Tr...            2   \n1010  Road-Heavy (truck)-Euro 4 (2005-09)-Freight Tr...            2   \n1011  Road-Heavy (truck)-Euro 6 (2015-19)-Freight Tr...            2   \n1012  Road-Heavy (truck)-Euro 6 (2015-19)-Freight Tr...            2   \n1013  Road-Heavy (truck)-Euro 6 (2015-19)-Freight Tr...            2   \n\n      VehTypeID  MassCatID       VKM  \n0             2          4  5.019335  \n1             2          4  1.164061  \n2             2          4  1.592425  \n3             2          4  0.000000  \n4             2          4  0.000000  \n...         ...        ...       ...  \n1009          5         23  0.000032  \n1010          5         23  0.000258  \n1011          5         23  0.042964  \n1012          5         23  0.042964  \n1013          5         23  0.343710  \n\n[1014 rows x 9 columns]",
      "text/html": "<div>\n<style scoped>\n    .dataframe tbody tr th:only-of-type {\n        vertical-align: middle;\n    }\n\n    .dataframe tbody tr th {\n        vertical-align: top;\n    }\n\n    .dataframe thead th {\n        text-align: right;\n    }\n</style>\n<table border=\"1\" class=\"dataframe\">\n  <thead>\n    <tr style=\"text-align: right;\">\n      <th></th>\n      <th>ScenarioID</th>\n      <th>CountryID</th>\n      <th>TechID</th>\n      <th>JSTypeVSMID</th>\n      <th>TechDescription</th>\n      <th>TransTypeID</th>\n      <th>VehTypeID</th>\n      <th>MassCatID</th>\n      <th>VKM</th>\n    </tr>\n  </thead>\n  <tbody>\n    <tr>\n      <th>0</th>\n      <td>1</td>\n      <td>9</td>\n      <td>10</td>\n      <td>1</td>\n      <td>Road-Average moto-Conventional (pre-EURO)-Pass...</td>\n      <td>1</td>\n      <td>2</td>\n      <td>4</td>\n      <td>5.019335</td>\n    </tr>\n    <tr>\n      <th>1</th>\n      <td>1</td>\n      <td>9</td>\n      <td>10</td>\n      <td>2</td>\n      <td>Road-Average moto-Conventional (pre-EURO)-Pass...</td>\n      <td>1</td>\n      <td>2</td>\n      <td>4</td>\n      <td>1.164061</td>\n    </tr>\n    <tr>\n      <th>2</th>\n      <td>1</td>\n      <td>9</td>\n      <td>10</td>\n      <td>3</td>\n      <td>Road-Average moto-Conventional (pre-EURO)-Pass...</td>\n      <td>1</td>\n      <td>2</td>\n      <td>4</td>\n      <td>1.592425</td>\n    </tr>\n    <tr>\n      <th>3</th>\n      <td>1</td>\n      <td>9</td>\n      <td>20</td>\n      <td>1</td>\n      <td>Road-Average moto-Euro 1 (1992-96)-Passenger T...</td>\n      <td>1</td>\n      <td>2</td>\n      <td>4</td>\n      <td>0.000000</td>\n    </tr>\n    <tr>\n      <th>4</th>\n      <td>1</td>\n      <td>9</td>\n      <td>20</td>\n      <td>2</td>\n      <td>Road-Average moto-Euro 1 (1992-96)-Passenger T...</td>\n      <td>1</td>\n      <td>2</td>\n      <td>4</td>\n      <td>0.000000</td>\n    </tr>\n    <tr>\n      <th>...</th>\n      <td>...</td>\n      <td>...</td>\n      <td>...</td>\n      <td>...</td>\n      <td>...</td>\n      <td>...</td>\n      <td>...</td>\n      <td>...</td>\n      <td>...</td>\n    </tr>\n    <tr>\n      <th>1009</th>\n      <td>1</td>\n      <td>9</td>\n      <td>10682</td>\n      <td>2</td>\n      <td>Road-Heavy (truck)-Euro 4 (2005-09)-Freight Tr...</td>\n      <td>2</td>\n      <td>5</td>\n      <td>23</td>\n      <td>0.000032</td>\n    </tr>\n    <tr>\n      <th>1010</th>\n      <td>1</td>\n      <td>9</td>\n      <td>10682</td>\n      <td>3</td>\n      <td>Road-Heavy (truck)-Euro 4 (2005-09)-Freight Tr...</td>\n      <td>2</td>\n      <td>5</td>\n      <td>23</td>\n      <td>0.000258</td>\n    </tr>\n    <tr>\n      <th>1011</th>\n      <td>1</td>\n      <td>9</td>\n      <td>10690</td>\n      <td>1</td>\n      <td>Road-Heavy (truck)-Euro 6 (2015-19)-Freight Tr...</td>\n      <td>2</td>\n      <td>5</td>\n      <td>23</td>\n      <td>0.042964</td>\n    </tr>\n    <tr>\n      <th>1012</th>\n      <td>1</td>\n      <td>9</td>\n      <td>10690</td>\n      <td>2</td>\n      <td>Road-Heavy (truck)-Euro 6 (2015-19)-Freight Tr...</td>\n      <td>2</td>\n      <td>5</td>\n      <td>23</td>\n      <td>0.042964</td>\n    </tr>\n    <tr>\n      <th>1013</th>\n      <td>1</td>\n      <td>9</td>\n      <td>10690</td>\n      <td>3</td>\n      <td>Road-Heavy (truck)-Euro 6 (2015-19)-Freight Tr...</td>\n      <td>2</td>\n      <td>5</td>\n      <td>23</td>\n      <td>0.343710</td>\n    </tr>\n  </tbody>\n</table>\n<p>1014 rows × 9 columns</p>\n</div>"
     },
     "execution_count": 75,
     "metadata": {},
     "output_type": "execute_result"
    }
   ],
   "source": [
    "vkm"
   ],
   "metadata": {
    "collapsed": false,
    "ExecuteTime": {
     "end_time": "2023-08-08T17:43:48.897870600Z",
     "start_time": "2023-08-08T17:43:48.812203200Z"
    }
   },
   "id": "99160bb7461f9d20"
  }
 ],
 "metadata": {
  "kernelspec": {
   "display_name": "Python 3 (ipykernel)",
   "language": "python",
   "name": "python3"
  },
  "language_info": {
   "codemirror_mode": {
    "name": "ipython",
    "version": 3
   },
   "file_extension": ".py",
   "mimetype": "text/x-python",
   "name": "python",
   "nbconvert_exporter": "python",
   "pygments_lexer": "ipython3",
   "version": "3.9.12"
  }
 },
 "nbformat": 4,
 "nbformat_minor": 5
}
