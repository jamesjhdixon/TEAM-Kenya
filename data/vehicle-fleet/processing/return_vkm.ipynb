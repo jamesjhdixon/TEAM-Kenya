{
 "cells": [
  {
   "cell_type": "markdown",
   "id": "3e8f45ea",
   "metadata": {
    "pycharm": {
     "name": "#%% md\n"
    }
   },
   "source": [
    "This notebook processes the vehicle-kilometre data from aemda output"
   ]
  },
  {
   "cell_type": "code",
   "execution_count": 1,
   "id": "932f3e3d",
   "metadata": {
    "pycharm": {
     "name": "#%%\n"
    }
   },
   "outputs": [],
   "source": [
    "import pandas as pd"
   ]
  },
  {
   "cell_type": "code",
   "execution_count": 2,
   "id": "d66da0da",
   "metadata": {
    "pycharm": {
     "name": "#%%\n"
    }
   },
   "outputs": [
    {
     "data": {
      "text/plain": "     ScenarioID  CountryID  TechID  JSTypeVSMID  \\\n0             1          9      70            1   \n1             1          9      70            2   \n2             1          9      70            3   \n3             1          9    9070            1   \n4             1          9    9070            2   \n..          ...        ...     ...          ...   \n829           1          9    5603            2   \n830           1          9    5603            3   \n831           1          9   14803            1   \n832           1          9   14803            2   \n833           1          9   14803            3   \n\n                                       TechDescription  TransTypeID  \\\n0    Road-Small (car)-Conventional (pre-EURO)-Passe...            1   \n1    Road-Small (car)-Conventional (pre-EURO)-Passe...            1   \n2    Road-Small (car)-Conventional (pre-EURO)-Passe...            1   \n3    Road-Small (car)-Conventional (pre-EURO)-Passe...            1   \n4    Road-Small (car)-Conventional (pre-EURO)-Passe...            1   \n..                                                 ...          ...   \n829  Road-Average moto-Euro 4 (2005-09)-Passenger T...            1   \n830  Road-Average moto-Euro 4 (2005-09)-Passenger T...            1   \n831  Road-Average moto-Euro 4 (2005-09)-Passenger T...            1   \n832  Road-Average moto-Euro 4 (2005-09)-Passenger T...            1   \n833  Road-Average moto-Euro 4 (2005-09)-Passenger T...            1   \n\n     VehTypeID  MassCatID       VKM  \n0            3          1  0.097499  \n1            3          1  0.048749  \n2            3          1  0.048749  \n3            3          1  0.552493  \n4            3          1  0.276247  \n..         ...        ...       ...  \n829          2          4  0.006298  \n830          2          4  0.006298  \n831          2          4  0.000000  \n832          2          4  0.000000  \n833          2          4  0.000000  \n\n[834 rows x 9 columns]",
      "text/html": "<div>\n<style scoped>\n    .dataframe tbody tr th:only-of-type {\n        vertical-align: middle;\n    }\n\n    .dataframe tbody tr th {\n        vertical-align: top;\n    }\n\n    .dataframe thead th {\n        text-align: right;\n    }\n</style>\n<table border=\"1\" class=\"dataframe\">\n  <thead>\n    <tr style=\"text-align: right;\">\n      <th></th>\n      <th>ScenarioID</th>\n      <th>CountryID</th>\n      <th>TechID</th>\n      <th>JSTypeVSMID</th>\n      <th>TechDescription</th>\n      <th>TransTypeID</th>\n      <th>VehTypeID</th>\n      <th>MassCatID</th>\n      <th>VKM</th>\n    </tr>\n  </thead>\n  <tbody>\n    <tr>\n      <th>0</th>\n      <td>1</td>\n      <td>9</td>\n      <td>70</td>\n      <td>1</td>\n      <td>Road-Small (car)-Conventional (pre-EURO)-Passe...</td>\n      <td>1</td>\n      <td>3</td>\n      <td>1</td>\n      <td>0.097499</td>\n    </tr>\n    <tr>\n      <th>1</th>\n      <td>1</td>\n      <td>9</td>\n      <td>70</td>\n      <td>2</td>\n      <td>Road-Small (car)-Conventional (pre-EURO)-Passe...</td>\n      <td>1</td>\n      <td>3</td>\n      <td>1</td>\n      <td>0.048749</td>\n    </tr>\n    <tr>\n      <th>2</th>\n      <td>1</td>\n      <td>9</td>\n      <td>70</td>\n      <td>3</td>\n      <td>Road-Small (car)-Conventional (pre-EURO)-Passe...</td>\n      <td>1</td>\n      <td>3</td>\n      <td>1</td>\n      <td>0.048749</td>\n    </tr>\n    <tr>\n      <th>3</th>\n      <td>1</td>\n      <td>9</td>\n      <td>9070</td>\n      <td>1</td>\n      <td>Road-Small (car)-Conventional (pre-EURO)-Passe...</td>\n      <td>1</td>\n      <td>3</td>\n      <td>1</td>\n      <td>0.552493</td>\n    </tr>\n    <tr>\n      <th>4</th>\n      <td>1</td>\n      <td>9</td>\n      <td>9070</td>\n      <td>2</td>\n      <td>Road-Small (car)-Conventional (pre-EURO)-Passe...</td>\n      <td>1</td>\n      <td>3</td>\n      <td>1</td>\n      <td>0.276247</td>\n    </tr>\n    <tr>\n      <th>...</th>\n      <td>...</td>\n      <td>...</td>\n      <td>...</td>\n      <td>...</td>\n      <td>...</td>\n      <td>...</td>\n      <td>...</td>\n      <td>...</td>\n      <td>...</td>\n    </tr>\n    <tr>\n      <th>829</th>\n      <td>1</td>\n      <td>9</td>\n      <td>5603</td>\n      <td>2</td>\n      <td>Road-Average moto-Euro 4 (2005-09)-Passenger T...</td>\n      <td>1</td>\n      <td>2</td>\n      <td>4</td>\n      <td>0.006298</td>\n    </tr>\n    <tr>\n      <th>830</th>\n      <td>1</td>\n      <td>9</td>\n      <td>5603</td>\n      <td>3</td>\n      <td>Road-Average moto-Euro 4 (2005-09)-Passenger T...</td>\n      <td>1</td>\n      <td>2</td>\n      <td>4</td>\n      <td>0.006298</td>\n    </tr>\n    <tr>\n      <th>831</th>\n      <td>1</td>\n      <td>9</td>\n      <td>14803</td>\n      <td>1</td>\n      <td>Road-Average moto-Euro 4 (2005-09)-Passenger T...</td>\n      <td>1</td>\n      <td>2</td>\n      <td>4</td>\n      <td>0.000000</td>\n    </tr>\n    <tr>\n      <th>832</th>\n      <td>1</td>\n      <td>9</td>\n      <td>14803</td>\n      <td>2</td>\n      <td>Road-Average moto-Euro 4 (2005-09)-Passenger T...</td>\n      <td>1</td>\n      <td>2</td>\n      <td>4</td>\n      <td>0.000000</td>\n    </tr>\n    <tr>\n      <th>833</th>\n      <td>1</td>\n      <td>9</td>\n      <td>14803</td>\n      <td>3</td>\n      <td>Road-Average moto-Euro 4 (2005-09)-Passenger T...</td>\n      <td>1</td>\n      <td>2</td>\n      <td>4</td>\n      <td>0.000000</td>\n    </tr>\n  </tbody>\n</table>\n<p>834 rows × 9 columns</p>\n</div>"
     },
     "execution_count": 2,
     "metadata": {},
     "output_type": "execute_result"
    }
   ],
   "source": [
    "# read aemda vkm data\n",
    "vkm = pd.read_csv('./out_data/vkmData.csv')\n",
    "vkm"
   ]
  },
  {
   "cell_type": "code",
   "execution_count": 3,
   "id": "d5fba6b9",
   "metadata": {
    "pycharm": {
     "name": "#%%\n"
    }
   },
   "outputs": [
    {
     "data": {
      "text/plain": "      ScenarioID  CountryID  TechID  JSTypeVSMID  \\\n0              1          9     140            2   \n1              1          9     140            1   \n2              1          9     170            2   \n3              1          9     181            2   \n4              1          9     170            1   \n...          ...        ...     ...          ...   \n6694           1          9   14892            2   \n6695           1          9   14892            3   \n6696           1          9   14893            1   \n6697           1          9   14893            2   \n6698           1          9   14893            3   \n\n                                        TechDescription  TransTypeID  \\\n0     Road - Car - Medium - Gasoline - Euro 5 (2009-...            1   \n1     Road - Car - Medium - Gasoline - Euro 5 (2009-...            1   \n2     Road - Car - Medium - Gasoline - Euro 3 (2001-...            1   \n3     Road - Car - Medium - Gasoline - Euro 4 (2005-...            1   \n4     Road - Car - Medium - Gasoline - Euro 3 (2001-...            1   \n...                                                 ...          ...   \n6694  Road - Truck - OtherVan - Gaseous Hydrogen - F...            2   \n6695  Road - Truck - OtherVan - Gaseous Hydrogen - F...            2   \n6696  Road - Truck - OtherVan - Gaseous Hydrogen - F...            2   \n6697  Road - Truck - OtherVan - Gaseous Hydrogen - F...            2   \n6698  Road - Truck - OtherVan - Gaseous Hydrogen - F...            2   \n\n      VehTypeID  MassCatID       VKM  \n0             3          2  14.05499  \n1             3          2  13.65464  \n2             3          2  11.61062  \n3             3          2  11.34814  \n4             3          2  11.27990  \n...         ...        ...       ...  \n6694          5         28   0.00000  \n6695          5         28   0.00000  \n6696          5         28   0.00000  \n6697          5         28   0.00000  \n6698          5         28   0.00000  \n\n[6699 rows x 9 columns]",
      "text/html": "<div>\n<style scoped>\n    .dataframe tbody tr th:only-of-type {\n        vertical-align: middle;\n    }\n\n    .dataframe tbody tr th {\n        vertical-align: top;\n    }\n\n    .dataframe thead th {\n        text-align: right;\n    }\n</style>\n<table border=\"1\" class=\"dataframe\">\n  <thead>\n    <tr style=\"text-align: right;\">\n      <th></th>\n      <th>ScenarioID</th>\n      <th>CountryID</th>\n      <th>TechID</th>\n      <th>JSTypeVSMID</th>\n      <th>TechDescription</th>\n      <th>TransTypeID</th>\n      <th>VehTypeID</th>\n      <th>MassCatID</th>\n      <th>VKM</th>\n    </tr>\n  </thead>\n  <tbody>\n    <tr>\n      <th>0</th>\n      <td>1</td>\n      <td>9</td>\n      <td>140</td>\n      <td>2</td>\n      <td>Road - Car - Medium - Gasoline - Euro 5 (2009-...</td>\n      <td>1</td>\n      <td>3</td>\n      <td>2</td>\n      <td>14.05499</td>\n    </tr>\n    <tr>\n      <th>1</th>\n      <td>1</td>\n      <td>9</td>\n      <td>140</td>\n      <td>1</td>\n      <td>Road - Car - Medium - Gasoline - Euro 5 (2009-...</td>\n      <td>1</td>\n      <td>3</td>\n      <td>2</td>\n      <td>13.65464</td>\n    </tr>\n    <tr>\n      <th>2</th>\n      <td>1</td>\n      <td>9</td>\n      <td>170</td>\n      <td>2</td>\n      <td>Road - Car - Medium - Gasoline - Euro 3 (2001-...</td>\n      <td>1</td>\n      <td>3</td>\n      <td>2</td>\n      <td>11.61062</td>\n    </tr>\n    <tr>\n      <th>3</th>\n      <td>1</td>\n      <td>9</td>\n      <td>181</td>\n      <td>2</td>\n      <td>Road - Car - Medium - Gasoline - Euro 4 (2005-...</td>\n      <td>1</td>\n      <td>3</td>\n      <td>2</td>\n      <td>11.34814</td>\n    </tr>\n    <tr>\n      <th>4</th>\n      <td>1</td>\n      <td>9</td>\n      <td>170</td>\n      <td>1</td>\n      <td>Road - Car - Medium - Gasoline - Euro 3 (2001-...</td>\n      <td>1</td>\n      <td>3</td>\n      <td>2</td>\n      <td>11.27990</td>\n    </tr>\n    <tr>\n      <th>...</th>\n      <td>...</td>\n      <td>...</td>\n      <td>...</td>\n      <td>...</td>\n      <td>...</td>\n      <td>...</td>\n      <td>...</td>\n      <td>...</td>\n      <td>...</td>\n    </tr>\n    <tr>\n      <th>6694</th>\n      <td>1</td>\n      <td>9</td>\n      <td>14892</td>\n      <td>2</td>\n      <td>Road - Truck - OtherVan - Gaseous Hydrogen - F...</td>\n      <td>2</td>\n      <td>5</td>\n      <td>28</td>\n      <td>0.00000</td>\n    </tr>\n    <tr>\n      <th>6695</th>\n      <td>1</td>\n      <td>9</td>\n      <td>14892</td>\n      <td>3</td>\n      <td>Road - Truck - OtherVan - Gaseous Hydrogen - F...</td>\n      <td>2</td>\n      <td>5</td>\n      <td>28</td>\n      <td>0.00000</td>\n    </tr>\n    <tr>\n      <th>6696</th>\n      <td>1</td>\n      <td>9</td>\n      <td>14893</td>\n      <td>1</td>\n      <td>Road - Truck - OtherVan - Gaseous Hydrogen - F...</td>\n      <td>2</td>\n      <td>5</td>\n      <td>28</td>\n      <td>0.00000</td>\n    </tr>\n    <tr>\n      <th>6697</th>\n      <td>1</td>\n      <td>9</td>\n      <td>14893</td>\n      <td>2</td>\n      <td>Road - Truck - OtherVan - Gaseous Hydrogen - F...</td>\n      <td>2</td>\n      <td>5</td>\n      <td>28</td>\n      <td>0.00000</td>\n    </tr>\n    <tr>\n      <th>6698</th>\n      <td>1</td>\n      <td>9</td>\n      <td>14893</td>\n      <td>3</td>\n      <td>Road - Truck - OtherVan - Gaseous Hydrogen - F...</td>\n      <td>2</td>\n      <td>5</td>\n      <td>28</td>\n      <td>0.00000</td>\n    </tr>\n  </tbody>\n</table>\n<p>6699 rows × 9 columns</p>\n</div>"
     },
     "execution_count": 3,
     "metadata": {},
     "output_type": "execute_result"
    }
   ],
   "source": [
    "# read uk sample data\n",
    "vkmuk = pd.read_excel('./sample_data/VkmTemplateData.xlsx')\n",
    "vkmuk"
   ]
  },
  {
   "cell_type": "code",
   "execution_count": 4,
   "id": "821635b8",
   "metadata": {
    "pycharm": {
     "name": "#%%\n"
    }
   },
   "outputs": [],
   "source": [
    "uk_kenya_translation = {6:0.1, 7:0.1, 8:0.1}"
   ]
  },
  {
   "cell_type": "code",
   "execution_count": 5,
   "id": "3e57394d",
   "metadata": {
    "pycharm": {
     "name": "#%%\n"
    }
   },
   "outputs": [
    {
     "name": "stderr",
     "output_type": "stream",
     "text": [
      "C:\\Users\\cenv0795\\AppData\\Local\\Temp\\ipykernel_17400\\339616296.py:5: FutureWarning: The frame.append method is deprecated and will be removed from pandas in a future version. Use pandas.concat instead.\n",
      "  vkm = vkm.append(vkmuk.loc[vkmuk[vkmuk.VehTypeID == vehtype].index.tolist()])\n",
      "C:\\Users\\cenv0795\\AppData\\Local\\Temp\\ipykernel_17400\\339616296.py:5: FutureWarning: The frame.append method is deprecated and will be removed from pandas in a future version. Use pandas.concat instead.\n",
      "  vkm = vkm.append(vkmuk.loc[vkmuk[vkmuk.VehTypeID == vehtype].index.tolist()])\n",
      "C:\\Users\\cenv0795\\AppData\\Local\\Temp\\ipykernel_17400\\339616296.py:5: FutureWarning: The frame.append method is deprecated and will be removed from pandas in a future version. Use pandas.concat instead.\n",
      "  vkm = vkm.append(vkmuk.loc[vkmuk[vkmuk.VehTypeID == vehtype].index.tolist()])\n"
     ]
    },
    {
     "data": {
      "text/plain": "      ScenarioID  CountryID  TechID  JSTypeVSMID  \\\n0              1          9      70            1   \n1              1          9      70            2   \n2              1          9      70            3   \n3              1          9    9070            1   \n4              1          9    9070            2   \n...          ...        ...     ...          ...   \n2665           1          9    4320           13   \n2666           1          9    4321            9   \n2667           1          9    4321           13   \n2668           1          9    4322            9   \n2669           1          9    4322           13   \n\n                                        TechDescription  TransTypeID  \\\n0     Road-Small (car)-Conventional (pre-EURO)-Passe...            1   \n1     Road-Small (car)-Conventional (pre-EURO)-Passe...            1   \n2     Road-Small (car)-Conventional (pre-EURO)-Passe...            1   \n3     Road-Small (car)-Conventional (pre-EURO)-Passe...            1   \n4     Road-Small (car)-Conventional (pre-EURO)-Passe...            1   \n...                                                 ...          ...   \n2665  Air - Aeroplane - Supersonic - Liquefied Hydro...            1   \n2666  Air - Aeroplane - Supersonic - Liquefied Hydro...            1   \n2667  Air - Aeroplane - Supersonic - Liquefied Hydro...            1   \n2668  Air - Aeroplane - Supersonic - Liquefied Hydro...            1   \n2669  Air - Aeroplane - Supersonic - Liquefied Hydro...            1   \n\n      VehTypeID  MassCatID       VKM  \n0             3          1  0.097499  \n1             3          1  0.048749  \n2             3          1  0.048749  \n3             3          1  0.552493  \n4             3          1  0.276247  \n...         ...        ...       ...  \n2665          8         45  0.000000  \n2666          8         45  0.000000  \n2667          8         45  0.000000  \n2668          8         45  0.000000  \n2669          8         45  0.000000  \n\n[1128 rows x 9 columns]",
      "text/html": "<div>\n<style scoped>\n    .dataframe tbody tr th:only-of-type {\n        vertical-align: middle;\n    }\n\n    .dataframe tbody tr th {\n        vertical-align: top;\n    }\n\n    .dataframe thead th {\n        text-align: right;\n    }\n</style>\n<table border=\"1\" class=\"dataframe\">\n  <thead>\n    <tr style=\"text-align: right;\">\n      <th></th>\n      <th>ScenarioID</th>\n      <th>CountryID</th>\n      <th>TechID</th>\n      <th>JSTypeVSMID</th>\n      <th>TechDescription</th>\n      <th>TransTypeID</th>\n      <th>VehTypeID</th>\n      <th>MassCatID</th>\n      <th>VKM</th>\n    </tr>\n  </thead>\n  <tbody>\n    <tr>\n      <th>0</th>\n      <td>1</td>\n      <td>9</td>\n      <td>70</td>\n      <td>1</td>\n      <td>Road-Small (car)-Conventional (pre-EURO)-Passe...</td>\n      <td>1</td>\n      <td>3</td>\n      <td>1</td>\n      <td>0.097499</td>\n    </tr>\n    <tr>\n      <th>1</th>\n      <td>1</td>\n      <td>9</td>\n      <td>70</td>\n      <td>2</td>\n      <td>Road-Small (car)-Conventional (pre-EURO)-Passe...</td>\n      <td>1</td>\n      <td>3</td>\n      <td>1</td>\n      <td>0.048749</td>\n    </tr>\n    <tr>\n      <th>2</th>\n      <td>1</td>\n      <td>9</td>\n      <td>70</td>\n      <td>3</td>\n      <td>Road-Small (car)-Conventional (pre-EURO)-Passe...</td>\n      <td>1</td>\n      <td>3</td>\n      <td>1</td>\n      <td>0.048749</td>\n    </tr>\n    <tr>\n      <th>3</th>\n      <td>1</td>\n      <td>9</td>\n      <td>9070</td>\n      <td>1</td>\n      <td>Road-Small (car)-Conventional (pre-EURO)-Passe...</td>\n      <td>1</td>\n      <td>3</td>\n      <td>1</td>\n      <td>0.552493</td>\n    </tr>\n    <tr>\n      <th>4</th>\n      <td>1</td>\n      <td>9</td>\n      <td>9070</td>\n      <td>2</td>\n      <td>Road-Small (car)-Conventional (pre-EURO)-Passe...</td>\n      <td>1</td>\n      <td>3</td>\n      <td>1</td>\n      <td>0.276247</td>\n    </tr>\n    <tr>\n      <th>...</th>\n      <td>...</td>\n      <td>...</td>\n      <td>...</td>\n      <td>...</td>\n      <td>...</td>\n      <td>...</td>\n      <td>...</td>\n      <td>...</td>\n      <td>...</td>\n    </tr>\n    <tr>\n      <th>2665</th>\n      <td>1</td>\n      <td>9</td>\n      <td>4320</td>\n      <td>13</td>\n      <td>Air - Aeroplane - Supersonic - Liquefied Hydro...</td>\n      <td>1</td>\n      <td>8</td>\n      <td>45</td>\n      <td>0.000000</td>\n    </tr>\n    <tr>\n      <th>2666</th>\n      <td>1</td>\n      <td>9</td>\n      <td>4321</td>\n      <td>9</td>\n      <td>Air - Aeroplane - Supersonic - Liquefied Hydro...</td>\n      <td>1</td>\n      <td>8</td>\n      <td>45</td>\n      <td>0.000000</td>\n    </tr>\n    <tr>\n      <th>2667</th>\n      <td>1</td>\n      <td>9</td>\n      <td>4321</td>\n      <td>13</td>\n      <td>Air - Aeroplane - Supersonic - Liquefied Hydro...</td>\n      <td>1</td>\n      <td>8</td>\n      <td>45</td>\n      <td>0.000000</td>\n    </tr>\n    <tr>\n      <th>2668</th>\n      <td>1</td>\n      <td>9</td>\n      <td>4322</td>\n      <td>9</td>\n      <td>Air - Aeroplane - Supersonic - Liquefied Hydro...</td>\n      <td>1</td>\n      <td>8</td>\n      <td>45</td>\n      <td>0.000000</td>\n    </tr>\n    <tr>\n      <th>2669</th>\n      <td>1</td>\n      <td>9</td>\n      <td>4322</td>\n      <td>13</td>\n      <td>Air - Aeroplane - Supersonic - Liquefied Hydro...</td>\n      <td>1</td>\n      <td>8</td>\n      <td>45</td>\n      <td>0.000000</td>\n    </tr>\n  </tbody>\n</table>\n<p>1128 rows × 9 columns</p>\n</div>"
     },
     "execution_count": 5,
     "metadata": {},
     "output_type": "execute_result"
    }
   ],
   "source": [
    "for vehtype in uk_kenya_translation:\n",
    "\n",
    "    vkmuk.loc[vkmuk[vkmuk.VehTypeID == vehtype].index.tolist(), 'VKM'] *= uk_kenya_translation[vehtype]\n",
    "    \n",
    "    vkm = vkm.append(vkmuk.loc[vkmuk[vkmuk.VehTypeID == vehtype].index.tolist()])\n",
    "    \n",
    "vkm"
   ]
  },
  {
   "cell_type": "code",
   "execution_count": 6,
   "id": "a74f9652",
   "metadata": {
    "pycharm": {
     "name": "#%%\n"
    }
   },
   "outputs": [],
   "source": [
    "vkm.to_csv('./out_data/processed/vkm.csv')"
   ]
  }
 ],
 "metadata": {
  "kernelspec": {
   "display_name": "Python 3 (ipykernel)",
   "language": "python",
   "name": "python3"
  },
  "language_info": {
   "codemirror_mode": {
    "name": "ipython",
    "version": 3
   },
   "file_extension": ".py",
   "mimetype": "text/x-python",
   "name": "python",
   "nbconvert_exporter": "python",
   "pygments_lexer": "ipython3",
   "version": "3.9.12"
  }
 },
 "nbformat": 4,
 "nbformat_minor": 5
}