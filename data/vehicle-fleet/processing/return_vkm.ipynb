{
 "cells": [
  {
   "cell_type": "markdown",
   "id": "3e8f45ea",
   "metadata": {
    "pycharm": {
     "name": "#%% md\n"
    }
   },
   "source": [
    "This notebook processes the vehicle-kilometre data from aemda output\n",
    "\n",
    "It also aggregates duplicates across TechID and TechDescription."
   ]
  },
  {
   "cell_type": "code",
   "execution_count": 51,
   "id": "932f3e3d",
   "metadata": {
    "pycharm": {
     "name": "#%%\n"
    },
    "ExecuteTime": {
     "end_time": "2024-01-26T12:31:37.650039100Z",
     "start_time": "2024-01-26T12:31:37.540806100Z"
    }
   },
   "outputs": [],
   "source": [
    "import pandas as pd"
   ]
  },
  {
   "cell_type": "code",
   "execution_count": 52,
   "id": "d66da0da",
   "metadata": {
    "pycharm": {
     "name": "#%%\n"
    },
    "ExecuteTime": {
     "end_time": "2024-01-26T12:31:37.681301800Z",
     "start_time": "2024-01-26T12:31:37.541321500Z"
    }
   },
   "outputs": [
    {
     "data": {
      "text/plain": "     ScenarioID  CountryID  TechID  JSTypeVSMID  \\\n0             1          9    70.0            1   \n1             1          9    70.0            2   \n2             1          9    70.0            3   \n3             1          9  9070.0            1   \n4             1          9  9070.0            2   \n..          ...        ...     ...          ...   \n739           1          9    10.0            2   \n740           1          9    10.0            3   \n741           1          9    10.0            1   \n742           1          9    10.0            2   \n743           1          9    10.0            3   \n\n                                       TechDescription  TransTypeID  \\\n0    Road-Small (car)-Conventional (pre-EURO)-Passe...          1.0   \n1    Road-Small (car)-Conventional (pre-EURO)-Passe...          1.0   \n2    Road-Small (car)-Conventional (pre-EURO)-Passe...          1.0   \n3    Road-Small (car)-Conventional (pre-EURO)-Passe...          1.0   \n4    Road-Small (car)-Conventional (pre-EURO)-Passe...          1.0   \n..                                                 ...          ...   \n739  Road-Average moto-Euro 3 (2001-05)-Passenger T...          1.0   \n740  Road-Average moto-Euro 3 (2001-05)-Passenger T...          1.0   \n741  Road-Average moto-Euro 4 (2005-09)-Passenger T...          1.0   \n742  Road-Average moto-Euro 4 (2005-09)-Passenger T...          1.0   \n743  Road-Average moto-Euro 4 (2005-09)-Passenger T...          1.0   \n\n     VehTypeID  MassCatID       VKM  \n0          3.0        1.0  0.097499  \n1          3.0        1.0  0.048749  \n2          3.0        1.0  0.048749  \n3          3.0        1.0  0.552493  \n4          3.0        1.0  0.276247  \n..         ...        ...       ...  \n739        2.0        4.0  0.006046  \n740        2.0        4.0  0.006046  \n741        2.0        4.0  0.006046  \n742        2.0        4.0  0.006046  \n743        2.0        4.0  0.006046  \n\n[744 rows x 9 columns]",
      "text/html": "<div>\n<style scoped>\n    .dataframe tbody tr th:only-of-type {\n        vertical-align: middle;\n    }\n\n    .dataframe tbody tr th {\n        vertical-align: top;\n    }\n\n    .dataframe thead th {\n        text-align: right;\n    }\n</style>\n<table border=\"1\" class=\"dataframe\">\n  <thead>\n    <tr style=\"text-align: right;\">\n      <th></th>\n      <th>ScenarioID</th>\n      <th>CountryID</th>\n      <th>TechID</th>\n      <th>JSTypeVSMID</th>\n      <th>TechDescription</th>\n      <th>TransTypeID</th>\n      <th>VehTypeID</th>\n      <th>MassCatID</th>\n      <th>VKM</th>\n    </tr>\n  </thead>\n  <tbody>\n    <tr>\n      <th>0</th>\n      <td>1</td>\n      <td>9</td>\n      <td>70.0</td>\n      <td>1</td>\n      <td>Road-Small (car)-Conventional (pre-EURO)-Passe...</td>\n      <td>1.0</td>\n      <td>3.0</td>\n      <td>1.0</td>\n      <td>0.097499</td>\n    </tr>\n    <tr>\n      <th>1</th>\n      <td>1</td>\n      <td>9</td>\n      <td>70.0</td>\n      <td>2</td>\n      <td>Road-Small (car)-Conventional (pre-EURO)-Passe...</td>\n      <td>1.0</td>\n      <td>3.0</td>\n      <td>1.0</td>\n      <td>0.048749</td>\n    </tr>\n    <tr>\n      <th>2</th>\n      <td>1</td>\n      <td>9</td>\n      <td>70.0</td>\n      <td>3</td>\n      <td>Road-Small (car)-Conventional (pre-EURO)-Passe...</td>\n      <td>1.0</td>\n      <td>3.0</td>\n      <td>1.0</td>\n      <td>0.048749</td>\n    </tr>\n    <tr>\n      <th>3</th>\n      <td>1</td>\n      <td>9</td>\n      <td>9070.0</td>\n      <td>1</td>\n      <td>Road-Small (car)-Conventional (pre-EURO)-Passe...</td>\n      <td>1.0</td>\n      <td>3.0</td>\n      <td>1.0</td>\n      <td>0.552493</td>\n    </tr>\n    <tr>\n      <th>4</th>\n      <td>1</td>\n      <td>9</td>\n      <td>9070.0</td>\n      <td>2</td>\n      <td>Road-Small (car)-Conventional (pre-EURO)-Passe...</td>\n      <td>1.0</td>\n      <td>3.0</td>\n      <td>1.0</td>\n      <td>0.276247</td>\n    </tr>\n    <tr>\n      <th>...</th>\n      <td>...</td>\n      <td>...</td>\n      <td>...</td>\n      <td>...</td>\n      <td>...</td>\n      <td>...</td>\n      <td>...</td>\n      <td>...</td>\n      <td>...</td>\n    </tr>\n    <tr>\n      <th>739</th>\n      <td>1</td>\n      <td>9</td>\n      <td>10.0</td>\n      <td>2</td>\n      <td>Road-Average moto-Euro 3 (2001-05)-Passenger T...</td>\n      <td>1.0</td>\n      <td>2.0</td>\n      <td>4.0</td>\n      <td>0.006046</td>\n    </tr>\n    <tr>\n      <th>740</th>\n      <td>1</td>\n      <td>9</td>\n      <td>10.0</td>\n      <td>3</td>\n      <td>Road-Average moto-Euro 3 (2001-05)-Passenger T...</td>\n      <td>1.0</td>\n      <td>2.0</td>\n      <td>4.0</td>\n      <td>0.006046</td>\n    </tr>\n    <tr>\n      <th>741</th>\n      <td>1</td>\n      <td>9</td>\n      <td>10.0</td>\n      <td>1</td>\n      <td>Road-Average moto-Euro 4 (2005-09)-Passenger T...</td>\n      <td>1.0</td>\n      <td>2.0</td>\n      <td>4.0</td>\n      <td>0.006046</td>\n    </tr>\n    <tr>\n      <th>742</th>\n      <td>1</td>\n      <td>9</td>\n      <td>10.0</td>\n      <td>2</td>\n      <td>Road-Average moto-Euro 4 (2005-09)-Passenger T...</td>\n      <td>1.0</td>\n      <td>2.0</td>\n      <td>4.0</td>\n      <td>0.006046</td>\n    </tr>\n    <tr>\n      <th>743</th>\n      <td>1</td>\n      <td>9</td>\n      <td>10.0</td>\n      <td>3</td>\n      <td>Road-Average moto-Euro 4 (2005-09)-Passenger T...</td>\n      <td>1.0</td>\n      <td>2.0</td>\n      <td>4.0</td>\n      <td>0.006046</td>\n    </tr>\n  </tbody>\n</table>\n<p>744 rows × 9 columns</p>\n</div>"
     },
     "execution_count": 52,
     "metadata": {},
     "output_type": "execute_result"
    }
   ],
   "source": [
    "# read aemda vkm data\n",
    "vkm = pd.read_csv('./../out_data/vkmData.csv')\n",
    "vkm = vkm.iloc[:,1:]\n",
    "vkm"
   ]
  },
  {
   "cell_type": "code",
   "execution_count": 53,
   "outputs": [
    {
     "data": {
      "text/plain": "     ScenarioID  CountryID  TechID  JSTypeVSMID  \\\n0             1          9    70.0            1   \n1             1          9    70.0            2   \n2             1          9    70.0            3   \n3             1          9  9070.0            1   \n4             1          9  9070.0            2   \n..          ...        ...     ...          ...   \n739           1          9    10.0            2   \n740           1          9    10.0            3   \n741           1          9    10.0            1   \n742           1          9    10.0            2   \n743           1          9    10.0            3   \n\n                                       TechDescription  TransTypeID  \\\n0    Road-Small (car)-Conventional (pre-EURO)-Passe...          1.0   \n1    Road-Small (car)-Conventional (pre-EURO)-Passe...          1.0   \n2    Road-Small (car)-Conventional (pre-EURO)-Passe...          1.0   \n3    Road-Small (car)-Conventional (pre-EURO)-Passe...          1.0   \n4    Road-Small (car)-Conventional (pre-EURO)-Passe...          1.0   \n..                                                 ...          ...   \n739  Road-Average moto-Conventional (pre-EURO)-Pass...          1.0   \n740  Road-Average moto-Conventional (pre-EURO)-Pass...          1.0   \n741  Road-Average moto-Conventional (pre-EURO)-Pass...          1.0   \n742  Road-Average moto-Conventional (pre-EURO)-Pass...          1.0   \n743  Road-Average moto-Conventional (pre-EURO)-Pass...          1.0   \n\n     VehTypeID  MassCatID       VKM  \n0          3.0        1.0  0.097499  \n1          3.0        1.0  0.048749  \n2          3.0        1.0  0.048749  \n3          3.0        1.0  0.552493  \n4          3.0        1.0  0.276247  \n..         ...        ...       ...  \n739        2.0        4.0  0.006046  \n740        2.0        4.0  0.006046  \n741        2.0        4.0  0.006046  \n742        2.0        4.0  0.006046  \n743        2.0        4.0  0.006046  \n\n[744 rows x 9 columns]",
      "text/html": "<div>\n<style scoped>\n    .dataframe tbody tr th:only-of-type {\n        vertical-align: middle;\n    }\n\n    .dataframe tbody tr th {\n        vertical-align: top;\n    }\n\n    .dataframe thead th {\n        text-align: right;\n    }\n</style>\n<table border=\"1\" class=\"dataframe\">\n  <thead>\n    <tr style=\"text-align: right;\">\n      <th></th>\n      <th>ScenarioID</th>\n      <th>CountryID</th>\n      <th>TechID</th>\n      <th>JSTypeVSMID</th>\n      <th>TechDescription</th>\n      <th>TransTypeID</th>\n      <th>VehTypeID</th>\n      <th>MassCatID</th>\n      <th>VKM</th>\n    </tr>\n  </thead>\n  <tbody>\n    <tr>\n      <th>0</th>\n      <td>1</td>\n      <td>9</td>\n      <td>70.0</td>\n      <td>1</td>\n      <td>Road-Small (car)-Conventional (pre-EURO)-Passe...</td>\n      <td>1.0</td>\n      <td>3.0</td>\n      <td>1.0</td>\n      <td>0.097499</td>\n    </tr>\n    <tr>\n      <th>1</th>\n      <td>1</td>\n      <td>9</td>\n      <td>70.0</td>\n      <td>2</td>\n      <td>Road-Small (car)-Conventional (pre-EURO)-Passe...</td>\n      <td>1.0</td>\n      <td>3.0</td>\n      <td>1.0</td>\n      <td>0.048749</td>\n    </tr>\n    <tr>\n      <th>2</th>\n      <td>1</td>\n      <td>9</td>\n      <td>70.0</td>\n      <td>3</td>\n      <td>Road-Small (car)-Conventional (pre-EURO)-Passe...</td>\n      <td>1.0</td>\n      <td>3.0</td>\n      <td>1.0</td>\n      <td>0.048749</td>\n    </tr>\n    <tr>\n      <th>3</th>\n      <td>1</td>\n      <td>9</td>\n      <td>9070.0</td>\n      <td>1</td>\n      <td>Road-Small (car)-Conventional (pre-EURO)-Passe...</td>\n      <td>1.0</td>\n      <td>3.0</td>\n      <td>1.0</td>\n      <td>0.552493</td>\n    </tr>\n    <tr>\n      <th>4</th>\n      <td>1</td>\n      <td>9</td>\n      <td>9070.0</td>\n      <td>2</td>\n      <td>Road-Small (car)-Conventional (pre-EURO)-Passe...</td>\n      <td>1.0</td>\n      <td>3.0</td>\n      <td>1.0</td>\n      <td>0.276247</td>\n    </tr>\n    <tr>\n      <th>...</th>\n      <td>...</td>\n      <td>...</td>\n      <td>...</td>\n      <td>...</td>\n      <td>...</td>\n      <td>...</td>\n      <td>...</td>\n      <td>...</td>\n      <td>...</td>\n    </tr>\n    <tr>\n      <th>739</th>\n      <td>1</td>\n      <td>9</td>\n      <td>10.0</td>\n      <td>2</td>\n      <td>Road-Average moto-Conventional (pre-EURO)-Pass...</td>\n      <td>1.0</td>\n      <td>2.0</td>\n      <td>4.0</td>\n      <td>0.006046</td>\n    </tr>\n    <tr>\n      <th>740</th>\n      <td>1</td>\n      <td>9</td>\n      <td>10.0</td>\n      <td>3</td>\n      <td>Road-Average moto-Conventional (pre-EURO)-Pass...</td>\n      <td>1.0</td>\n      <td>2.0</td>\n      <td>4.0</td>\n      <td>0.006046</td>\n    </tr>\n    <tr>\n      <th>741</th>\n      <td>1</td>\n      <td>9</td>\n      <td>10.0</td>\n      <td>1</td>\n      <td>Road-Average moto-Conventional (pre-EURO)-Pass...</td>\n      <td>1.0</td>\n      <td>2.0</td>\n      <td>4.0</td>\n      <td>0.006046</td>\n    </tr>\n    <tr>\n      <th>742</th>\n      <td>1</td>\n      <td>9</td>\n      <td>10.0</td>\n      <td>2</td>\n      <td>Road-Average moto-Conventional (pre-EURO)-Pass...</td>\n      <td>1.0</td>\n      <td>2.0</td>\n      <td>4.0</td>\n      <td>0.006046</td>\n    </tr>\n    <tr>\n      <th>743</th>\n      <td>1</td>\n      <td>9</td>\n      <td>10.0</td>\n      <td>3</td>\n      <td>Road-Average moto-Conventional (pre-EURO)-Pass...</td>\n      <td>1.0</td>\n      <td>2.0</td>\n      <td>4.0</td>\n      <td>0.006046</td>\n    </tr>\n  </tbody>\n</table>\n<p>744 rows × 9 columns</p>\n</div>"
     },
     "execution_count": 53,
     "metadata": {},
     "output_type": "execute_result"
    }
   ],
   "source": [
    "# make corrections\n",
    "for techid in vkm.TechID.unique().tolist():\n",
    "    \n",
    "    # return first tech description\n",
    "    techdescription = vkm[vkm.TechID == techid]['TechDescription'].tolist()[0]\n",
    "    \n",
    "    vkm.loc[vkm[vkm.TechID == techid].index.tolist(), 'TechDescription'] = techdescription\n",
    "\n",
    "vkm"
   ],
   "metadata": {
    "collapsed": false,
    "ExecuteTime": {
     "end_time": "2024-01-26T12:31:37.775528100Z",
     "start_time": "2024-01-26T12:31:37.564186100Z"
    }
   },
   "id": "2b9d8a0a7887bde5"
  },
  {
   "cell_type": "code",
   "execution_count": 54,
   "id": "d5fba6b9",
   "metadata": {
    "pycharm": {
     "name": "#%%\n"
    },
    "ExecuteTime": {
     "end_time": "2024-01-26T12:31:38.547620500Z",
     "start_time": "2024-01-26T12:31:37.753849300Z"
    }
   },
   "outputs": [
    {
     "data": {
      "text/plain": "      ScenarioID  CountryID  TechID  JSTypeVSMID  \\\n0              1          9     140            2   \n1              1          9     140            1   \n2              1          9     170            2   \n3              1          9     181            2   \n4              1          9     170            1   \n...          ...        ...     ...          ...   \n6694           1          9   14892            2   \n6695           1          9   14892            3   \n6696           1          9   14893            1   \n6697           1          9   14893            2   \n6698           1          9   14893            3   \n\n                                        TechDescription  TransTypeID  \\\n0     Road - Car - Medium - Gasoline - Euro 5 (2009-...            1   \n1     Road - Car - Medium - Gasoline - Euro 5 (2009-...            1   \n2     Road - Car - Medium - Gasoline - Euro 3 (2001-...            1   \n3     Road - Car - Medium - Gasoline - Euro 4 (2005-...            1   \n4     Road - Car - Medium - Gasoline - Euro 3 (2001-...            1   \n...                                                 ...          ...   \n6694  Road - Truck - OtherVan - Gaseous Hydrogen - F...            2   \n6695  Road - Truck - OtherVan - Gaseous Hydrogen - F...            2   \n6696  Road - Truck - OtherVan - Gaseous Hydrogen - F...            2   \n6697  Road - Truck - OtherVan - Gaseous Hydrogen - F...            2   \n6698  Road - Truck - OtherVan - Gaseous Hydrogen - F...            2   \n\n      VehTypeID  MassCatID       VKM  \n0             3          2  14.05499  \n1             3          2  13.65464  \n2             3          2  11.61062  \n3             3          2  11.34814  \n4             3          2  11.27990  \n...         ...        ...       ...  \n6694          5         28   0.00000  \n6695          5         28   0.00000  \n6696          5         28   0.00000  \n6697          5         28   0.00000  \n6698          5         28   0.00000  \n\n[6699 rows x 9 columns]",
      "text/html": "<div>\n<style scoped>\n    .dataframe tbody tr th:only-of-type {\n        vertical-align: middle;\n    }\n\n    .dataframe tbody tr th {\n        vertical-align: top;\n    }\n\n    .dataframe thead th {\n        text-align: right;\n    }\n</style>\n<table border=\"1\" class=\"dataframe\">\n  <thead>\n    <tr style=\"text-align: right;\">\n      <th></th>\n      <th>ScenarioID</th>\n      <th>CountryID</th>\n      <th>TechID</th>\n      <th>JSTypeVSMID</th>\n      <th>TechDescription</th>\n      <th>TransTypeID</th>\n      <th>VehTypeID</th>\n      <th>MassCatID</th>\n      <th>VKM</th>\n    </tr>\n  </thead>\n  <tbody>\n    <tr>\n      <th>0</th>\n      <td>1</td>\n      <td>9</td>\n      <td>140</td>\n      <td>2</td>\n      <td>Road - Car - Medium - Gasoline - Euro 5 (2009-...</td>\n      <td>1</td>\n      <td>3</td>\n      <td>2</td>\n      <td>14.05499</td>\n    </tr>\n    <tr>\n      <th>1</th>\n      <td>1</td>\n      <td>9</td>\n      <td>140</td>\n      <td>1</td>\n      <td>Road - Car - Medium - Gasoline - Euro 5 (2009-...</td>\n      <td>1</td>\n      <td>3</td>\n      <td>2</td>\n      <td>13.65464</td>\n    </tr>\n    <tr>\n      <th>2</th>\n      <td>1</td>\n      <td>9</td>\n      <td>170</td>\n      <td>2</td>\n      <td>Road - Car - Medium - Gasoline - Euro 3 (2001-...</td>\n      <td>1</td>\n      <td>3</td>\n      <td>2</td>\n      <td>11.61062</td>\n    </tr>\n    <tr>\n      <th>3</th>\n      <td>1</td>\n      <td>9</td>\n      <td>181</td>\n      <td>2</td>\n      <td>Road - Car - Medium - Gasoline - Euro 4 (2005-...</td>\n      <td>1</td>\n      <td>3</td>\n      <td>2</td>\n      <td>11.34814</td>\n    </tr>\n    <tr>\n      <th>4</th>\n      <td>1</td>\n      <td>9</td>\n      <td>170</td>\n      <td>1</td>\n      <td>Road - Car - Medium - Gasoline - Euro 3 (2001-...</td>\n      <td>1</td>\n      <td>3</td>\n      <td>2</td>\n      <td>11.27990</td>\n    </tr>\n    <tr>\n      <th>...</th>\n      <td>...</td>\n      <td>...</td>\n      <td>...</td>\n      <td>...</td>\n      <td>...</td>\n      <td>...</td>\n      <td>...</td>\n      <td>...</td>\n      <td>...</td>\n    </tr>\n    <tr>\n      <th>6694</th>\n      <td>1</td>\n      <td>9</td>\n      <td>14892</td>\n      <td>2</td>\n      <td>Road - Truck - OtherVan - Gaseous Hydrogen - F...</td>\n      <td>2</td>\n      <td>5</td>\n      <td>28</td>\n      <td>0.00000</td>\n    </tr>\n    <tr>\n      <th>6695</th>\n      <td>1</td>\n      <td>9</td>\n      <td>14892</td>\n      <td>3</td>\n      <td>Road - Truck - OtherVan - Gaseous Hydrogen - F...</td>\n      <td>2</td>\n      <td>5</td>\n      <td>28</td>\n      <td>0.00000</td>\n    </tr>\n    <tr>\n      <th>6696</th>\n      <td>1</td>\n      <td>9</td>\n      <td>14893</td>\n      <td>1</td>\n      <td>Road - Truck - OtherVan - Gaseous Hydrogen - F...</td>\n      <td>2</td>\n      <td>5</td>\n      <td>28</td>\n      <td>0.00000</td>\n    </tr>\n    <tr>\n      <th>6697</th>\n      <td>1</td>\n      <td>9</td>\n      <td>14893</td>\n      <td>2</td>\n      <td>Road - Truck - OtherVan - Gaseous Hydrogen - F...</td>\n      <td>2</td>\n      <td>5</td>\n      <td>28</td>\n      <td>0.00000</td>\n    </tr>\n    <tr>\n      <th>6698</th>\n      <td>1</td>\n      <td>9</td>\n      <td>14893</td>\n      <td>3</td>\n      <td>Road - Truck - OtherVan - Gaseous Hydrogen - F...</td>\n      <td>2</td>\n      <td>5</td>\n      <td>28</td>\n      <td>0.00000</td>\n    </tr>\n  </tbody>\n</table>\n<p>6699 rows × 9 columns</p>\n</div>"
     },
     "execution_count": 54,
     "metadata": {},
     "output_type": "execute_result"
    }
   ],
   "source": [
    "# read uk sample data\n",
    "vkmuk = pd.read_excel('./../sample_data/VkmTemplateData.xlsx')\n",
    "vkmuk"
   ]
  },
  {
   "cell_type": "code",
   "execution_count": 55,
   "id": "821635b8",
   "metadata": {
    "pycharm": {
     "name": "#%%\n"
    },
    "ExecuteTime": {
     "end_time": "2024-01-26T12:31:38.547620500Z",
     "start_time": "2024-01-26T12:31:38.510175800Z"
    }
   },
   "outputs": [],
   "source": [
    "uk_kenya_translation = {6:0.1, 7:0.1, 8:0.1}"
   ]
  },
  {
   "cell_type": "code",
   "execution_count": 56,
   "id": "3e57394d",
   "metadata": {
    "pycharm": {
     "name": "#%%\n"
    },
    "ExecuteTime": {
     "end_time": "2024-01-26T12:31:38.547620500Z",
     "start_time": "2024-01-26T12:31:38.516013800Z"
    }
   },
   "outputs": [
    {
     "name": "stderr",
     "output_type": "stream",
     "text": [
      "C:\\Users\\ekb15182\\AppData\\Local\\Temp\\ipykernel_20208\\339616296.py:5: FutureWarning: The frame.append method is deprecated and will be removed from pandas in a future version. Use pandas.concat instead.\n",
      "  vkm = vkm.append(vkmuk.loc[vkmuk[vkmuk.VehTypeID == vehtype].index.tolist()])\n",
      "C:\\Users\\ekb15182\\AppData\\Local\\Temp\\ipykernel_20208\\339616296.py:5: FutureWarning: The frame.append method is deprecated and will be removed from pandas in a future version. Use pandas.concat instead.\n",
      "  vkm = vkm.append(vkmuk.loc[vkmuk[vkmuk.VehTypeID == vehtype].index.tolist()])\n",
      "C:\\Users\\ekb15182\\AppData\\Local\\Temp\\ipykernel_20208\\339616296.py:5: FutureWarning: The frame.append method is deprecated and will be removed from pandas in a future version. Use pandas.concat instead.\n",
      "  vkm = vkm.append(vkmuk.loc[vkmuk[vkmuk.VehTypeID == vehtype].index.tolist()])\n"
     ]
    },
    {
     "data": {
      "text/plain": "      ScenarioID  CountryID  TechID  JSTypeVSMID  \\\n0              1          9    70.0            1   \n1              1          9    70.0            2   \n2              1          9    70.0            3   \n3              1          9  9070.0            1   \n4              1          9  9070.0            2   \n...          ...        ...     ...          ...   \n2665           1          9  4320.0           13   \n2666           1          9  4321.0            9   \n2667           1          9  4321.0           13   \n2668           1          9  4322.0            9   \n2669           1          9  4322.0           13   \n\n                                        TechDescription  TransTypeID  \\\n0     Road-Small (car)-Conventional (pre-EURO)-Passe...          1.0   \n1     Road-Small (car)-Conventional (pre-EURO)-Passe...          1.0   \n2     Road-Small (car)-Conventional (pre-EURO)-Passe...          1.0   \n3     Road-Small (car)-Conventional (pre-EURO)-Passe...          1.0   \n4     Road-Small (car)-Conventional (pre-EURO)-Passe...          1.0   \n...                                                 ...          ...   \n2665  Air - Aeroplane - Supersonic - Liquefied Hydro...          1.0   \n2666  Air - Aeroplane - Supersonic - Liquefied Hydro...          1.0   \n2667  Air - Aeroplane - Supersonic - Liquefied Hydro...          1.0   \n2668  Air - Aeroplane - Supersonic - Liquefied Hydro...          1.0   \n2669  Air - Aeroplane - Supersonic - Liquefied Hydro...          1.0   \n\n      VehTypeID  MassCatID       VKM  \n0           3.0        1.0  0.097499  \n1           3.0        1.0  0.048749  \n2           3.0        1.0  0.048749  \n3           3.0        1.0  0.552493  \n4           3.0        1.0  0.276247  \n...         ...        ...       ...  \n2665        8.0       45.0  0.000000  \n2666        8.0       45.0  0.000000  \n2667        8.0       45.0  0.000000  \n2668        8.0       45.0  0.000000  \n2669        8.0       45.0  0.000000  \n\n[1038 rows x 9 columns]",
      "text/html": "<div>\n<style scoped>\n    .dataframe tbody tr th:only-of-type {\n        vertical-align: middle;\n    }\n\n    .dataframe tbody tr th {\n        vertical-align: top;\n    }\n\n    .dataframe thead th {\n        text-align: right;\n    }\n</style>\n<table border=\"1\" class=\"dataframe\">\n  <thead>\n    <tr style=\"text-align: right;\">\n      <th></th>\n      <th>ScenarioID</th>\n      <th>CountryID</th>\n      <th>TechID</th>\n      <th>JSTypeVSMID</th>\n      <th>TechDescription</th>\n      <th>TransTypeID</th>\n      <th>VehTypeID</th>\n      <th>MassCatID</th>\n      <th>VKM</th>\n    </tr>\n  </thead>\n  <tbody>\n    <tr>\n      <th>0</th>\n      <td>1</td>\n      <td>9</td>\n      <td>70.0</td>\n      <td>1</td>\n      <td>Road-Small (car)-Conventional (pre-EURO)-Passe...</td>\n      <td>1.0</td>\n      <td>3.0</td>\n      <td>1.0</td>\n      <td>0.097499</td>\n    </tr>\n    <tr>\n      <th>1</th>\n      <td>1</td>\n      <td>9</td>\n      <td>70.0</td>\n      <td>2</td>\n      <td>Road-Small (car)-Conventional (pre-EURO)-Passe...</td>\n      <td>1.0</td>\n      <td>3.0</td>\n      <td>1.0</td>\n      <td>0.048749</td>\n    </tr>\n    <tr>\n      <th>2</th>\n      <td>1</td>\n      <td>9</td>\n      <td>70.0</td>\n      <td>3</td>\n      <td>Road-Small (car)-Conventional (pre-EURO)-Passe...</td>\n      <td>1.0</td>\n      <td>3.0</td>\n      <td>1.0</td>\n      <td>0.048749</td>\n    </tr>\n    <tr>\n      <th>3</th>\n      <td>1</td>\n      <td>9</td>\n      <td>9070.0</td>\n      <td>1</td>\n      <td>Road-Small (car)-Conventional (pre-EURO)-Passe...</td>\n      <td>1.0</td>\n      <td>3.0</td>\n      <td>1.0</td>\n      <td>0.552493</td>\n    </tr>\n    <tr>\n      <th>4</th>\n      <td>1</td>\n      <td>9</td>\n      <td>9070.0</td>\n      <td>2</td>\n      <td>Road-Small (car)-Conventional (pre-EURO)-Passe...</td>\n      <td>1.0</td>\n      <td>3.0</td>\n      <td>1.0</td>\n      <td>0.276247</td>\n    </tr>\n    <tr>\n      <th>...</th>\n      <td>...</td>\n      <td>...</td>\n      <td>...</td>\n      <td>...</td>\n      <td>...</td>\n      <td>...</td>\n      <td>...</td>\n      <td>...</td>\n      <td>...</td>\n    </tr>\n    <tr>\n      <th>2665</th>\n      <td>1</td>\n      <td>9</td>\n      <td>4320.0</td>\n      <td>13</td>\n      <td>Air - Aeroplane - Supersonic - Liquefied Hydro...</td>\n      <td>1.0</td>\n      <td>8.0</td>\n      <td>45.0</td>\n      <td>0.000000</td>\n    </tr>\n    <tr>\n      <th>2666</th>\n      <td>1</td>\n      <td>9</td>\n      <td>4321.0</td>\n      <td>9</td>\n      <td>Air - Aeroplane - Supersonic - Liquefied Hydro...</td>\n      <td>1.0</td>\n      <td>8.0</td>\n      <td>45.0</td>\n      <td>0.000000</td>\n    </tr>\n    <tr>\n      <th>2667</th>\n      <td>1</td>\n      <td>9</td>\n      <td>4321.0</td>\n      <td>13</td>\n      <td>Air - Aeroplane - Supersonic - Liquefied Hydro...</td>\n      <td>1.0</td>\n      <td>8.0</td>\n      <td>45.0</td>\n      <td>0.000000</td>\n    </tr>\n    <tr>\n      <th>2668</th>\n      <td>1</td>\n      <td>9</td>\n      <td>4322.0</td>\n      <td>9</td>\n      <td>Air - Aeroplane - Supersonic - Liquefied Hydro...</td>\n      <td>1.0</td>\n      <td>8.0</td>\n      <td>45.0</td>\n      <td>0.000000</td>\n    </tr>\n    <tr>\n      <th>2669</th>\n      <td>1</td>\n      <td>9</td>\n      <td>4322.0</td>\n      <td>13</td>\n      <td>Air - Aeroplane - Supersonic - Liquefied Hydro...</td>\n      <td>1.0</td>\n      <td>8.0</td>\n      <td>45.0</td>\n      <td>0.000000</td>\n    </tr>\n  </tbody>\n</table>\n<p>1038 rows × 9 columns</p>\n</div>"
     },
     "execution_count": 56,
     "metadata": {},
     "output_type": "execute_result"
    }
   ],
   "source": [
    "for vehtype in uk_kenya_translation:\n",
    "\n",
    "    vkmuk.loc[vkmuk[vkmuk.VehTypeID == vehtype].index.tolist(), 'VKM'] *= uk_kenya_translation[vehtype]\n",
    "    \n",
    "    vkm = vkm.append(vkmuk.loc[vkmuk[vkmuk.VehTypeID == vehtype].index.tolist()])\n",
    "    \n",
    "vkm"
   ]
  },
  {
   "cell_type": "code",
   "execution_count": 57,
   "outputs": [],
   "source": [
    "# get rid of duplicates\n",
    "\n",
    "vkm = vkm.groupby(['ScenarioID', 'CountryID', 'TechID', 'JSTypeVSMID', 'TechDescription','TransTypeID','VehTypeID','MassCatID'])['VKM'].agg([('VKM', 'sum')]).reset_index()\n",
    "# vkm = vkm.groupby([c for c in vkm.columns if c != 'VKM'],as_index=False).agg({'VKM': 'sum'})"
   ],
   "metadata": {
    "collapsed": false,
    "ExecuteTime": {
     "end_time": "2024-01-26T12:32:27.972793600Z",
     "start_time": "2024-01-26T12:32:27.941294600Z"
    }
   },
   "id": "abb8491c19a5a973"
  },
  {
   "cell_type": "code",
   "execution_count": 58,
   "outputs": [
    {
     "data": {
      "text/plain": "     ScenarioID  CountryID   TechID  JSTypeVSMID  \\\n0             1          9     10.0            1   \n1             1          9     10.0            2   \n2             1          9     10.0            3   \n3             1          9     30.0            1   \n4             1          9     30.0            2   \n..          ...        ...      ...          ...   \n910           1          9  10682.0            2   \n911           1          9  10682.0            3   \n912           1          9  10690.0            1   \n913           1          9  10690.0            2   \n914           1          9  10690.0            3   \n\n                                       TechDescription  TransTypeID  \\\n0    Road-Average moto-Conventional (pre-EURO)-Pass...          1.0   \n1    Road-Average moto-Conventional (pre-EURO)-Pass...          1.0   \n2    Road-Average moto-Conventional (pre-EURO)-Pass...          1.0   \n3    Road-Average moto-Euro 1 (1992-96)-Passenger T...          1.0   \n4    Road-Average moto-Euro 1 (1992-96)-Passenger T...          1.0   \n..                                                 ...          ...   \n910  Road-Heavy (truck)-Euro 4 (2005-09)-Freight Tr...          2.0   \n911  Road-Heavy (truck)-Euro 4 (2005-09)-Freight Tr...          2.0   \n912  Road-Heavy (truck)-Euro 6 (2015-19)-Freight Tr...          2.0   \n913  Road-Heavy (truck)-Euro 6 (2015-19)-Freight Tr...          2.0   \n914  Road-Heavy (truck)-Euro 6 (2015-19)-Freight Tr...          2.0   \n\n     VehTypeID  MassCatID       VKM  \n0          2.0        4.0  5.568075  \n1          2.0        4.0  1.162048  \n2          2.0        4.0  1.651607  \n3          2.0        4.0  0.275377  \n4          2.0        4.0  0.000000  \n..         ...        ...       ...  \n910        5.0       23.0  0.000032  \n911        5.0       23.0  0.000258  \n912        5.0       23.0  0.042964  \n913        5.0       23.0  0.042964  \n914        5.0       23.0  0.343710  \n\n[915 rows x 9 columns]",
      "text/html": "<div>\n<style scoped>\n    .dataframe tbody tr th:only-of-type {\n        vertical-align: middle;\n    }\n\n    .dataframe tbody tr th {\n        vertical-align: top;\n    }\n\n    .dataframe thead th {\n        text-align: right;\n    }\n</style>\n<table border=\"1\" class=\"dataframe\">\n  <thead>\n    <tr style=\"text-align: right;\">\n      <th></th>\n      <th>ScenarioID</th>\n      <th>CountryID</th>\n      <th>TechID</th>\n      <th>JSTypeVSMID</th>\n      <th>TechDescription</th>\n      <th>TransTypeID</th>\n      <th>VehTypeID</th>\n      <th>MassCatID</th>\n      <th>VKM</th>\n    </tr>\n  </thead>\n  <tbody>\n    <tr>\n      <th>0</th>\n      <td>1</td>\n      <td>9</td>\n      <td>10.0</td>\n      <td>1</td>\n      <td>Road-Average moto-Conventional (pre-EURO)-Pass...</td>\n      <td>1.0</td>\n      <td>2.0</td>\n      <td>4.0</td>\n      <td>5.568075</td>\n    </tr>\n    <tr>\n      <th>1</th>\n      <td>1</td>\n      <td>9</td>\n      <td>10.0</td>\n      <td>2</td>\n      <td>Road-Average moto-Conventional (pre-EURO)-Pass...</td>\n      <td>1.0</td>\n      <td>2.0</td>\n      <td>4.0</td>\n      <td>1.162048</td>\n    </tr>\n    <tr>\n      <th>2</th>\n      <td>1</td>\n      <td>9</td>\n      <td>10.0</td>\n      <td>3</td>\n      <td>Road-Average moto-Conventional (pre-EURO)-Pass...</td>\n      <td>1.0</td>\n      <td>2.0</td>\n      <td>4.0</td>\n      <td>1.651607</td>\n    </tr>\n    <tr>\n      <th>3</th>\n      <td>1</td>\n      <td>9</td>\n      <td>30.0</td>\n      <td>1</td>\n      <td>Road-Average moto-Euro 1 (1992-96)-Passenger T...</td>\n      <td>1.0</td>\n      <td>2.0</td>\n      <td>4.0</td>\n      <td>0.275377</td>\n    </tr>\n    <tr>\n      <th>4</th>\n      <td>1</td>\n      <td>9</td>\n      <td>30.0</td>\n      <td>2</td>\n      <td>Road-Average moto-Euro 1 (1992-96)-Passenger T...</td>\n      <td>1.0</td>\n      <td>2.0</td>\n      <td>4.0</td>\n      <td>0.000000</td>\n    </tr>\n    <tr>\n      <th>...</th>\n      <td>...</td>\n      <td>...</td>\n      <td>...</td>\n      <td>...</td>\n      <td>...</td>\n      <td>...</td>\n      <td>...</td>\n      <td>...</td>\n      <td>...</td>\n    </tr>\n    <tr>\n      <th>910</th>\n      <td>1</td>\n      <td>9</td>\n      <td>10682.0</td>\n      <td>2</td>\n      <td>Road-Heavy (truck)-Euro 4 (2005-09)-Freight Tr...</td>\n      <td>2.0</td>\n      <td>5.0</td>\n      <td>23.0</td>\n      <td>0.000032</td>\n    </tr>\n    <tr>\n      <th>911</th>\n      <td>1</td>\n      <td>9</td>\n      <td>10682.0</td>\n      <td>3</td>\n      <td>Road-Heavy (truck)-Euro 4 (2005-09)-Freight Tr...</td>\n      <td>2.0</td>\n      <td>5.0</td>\n      <td>23.0</td>\n      <td>0.000258</td>\n    </tr>\n    <tr>\n      <th>912</th>\n      <td>1</td>\n      <td>9</td>\n      <td>10690.0</td>\n      <td>1</td>\n      <td>Road-Heavy (truck)-Euro 6 (2015-19)-Freight Tr...</td>\n      <td>2.0</td>\n      <td>5.0</td>\n      <td>23.0</td>\n      <td>0.042964</td>\n    </tr>\n    <tr>\n      <th>913</th>\n      <td>1</td>\n      <td>9</td>\n      <td>10690.0</td>\n      <td>2</td>\n      <td>Road-Heavy (truck)-Euro 6 (2015-19)-Freight Tr...</td>\n      <td>2.0</td>\n      <td>5.0</td>\n      <td>23.0</td>\n      <td>0.042964</td>\n    </tr>\n    <tr>\n      <th>914</th>\n      <td>1</td>\n      <td>9</td>\n      <td>10690.0</td>\n      <td>3</td>\n      <td>Road-Heavy (truck)-Euro 6 (2015-19)-Freight Tr...</td>\n      <td>2.0</td>\n      <td>5.0</td>\n      <td>23.0</td>\n      <td>0.343710</td>\n    </tr>\n  </tbody>\n</table>\n<p>915 rows × 9 columns</p>\n</div>"
     },
     "execution_count": 58,
     "metadata": {},
     "output_type": "execute_result"
    }
   ],
   "source": [
    "vkm"
   ],
   "metadata": {
    "collapsed": false,
    "ExecuteTime": {
     "end_time": "2024-01-26T12:32:29.289485900Z",
     "start_time": "2024-01-26T12:32:29.257556800Z"
    }
   },
   "id": "2e5b2b8bf54bdb45"
  },
  {
   "cell_type": "code",
   "execution_count": 59,
   "id": "a74f9652",
   "metadata": {
    "pycharm": {
     "name": "#%%\n"
    },
    "ExecuteTime": {
     "end_time": "2024-01-26T12:32:35.838697600Z",
     "start_time": "2024-01-26T12:32:35.823035300Z"
    }
   },
   "outputs": [],
   "source": [
    "vkm.to_csv('./../out_data/processed/vkm.csv', index=False)"
   ]
  },
  {
   "cell_type": "code",
   "execution_count": 61,
   "outputs": [
    {
     "data": {
      "text/plain": "Empty DataFrame\nColumns: [ScenarioID, CountryID, TechID, JSTypeVSMID, TechDescription, TransTypeID, VehTypeID, MassCatID, VKM]\nIndex: []",
      "text/html": "<div>\n<style scoped>\n    .dataframe tbody tr th:only-of-type {\n        vertical-align: middle;\n    }\n\n    .dataframe tbody tr th {\n        vertical-align: top;\n    }\n\n    .dataframe thead th {\n        text-align: right;\n    }\n</style>\n<table border=\"1\" class=\"dataframe\">\n  <thead>\n    <tr style=\"text-align: right;\">\n      <th></th>\n      <th>ScenarioID</th>\n      <th>CountryID</th>\n      <th>TechID</th>\n      <th>JSTypeVSMID</th>\n      <th>TechDescription</th>\n      <th>TransTypeID</th>\n      <th>VehTypeID</th>\n      <th>MassCatID</th>\n      <th>VKM</th>\n    </tr>\n  </thead>\n  <tbody>\n  </tbody>\n</table>\n</div>"
     },
     "execution_count": 61,
     "metadata": {},
     "output_type": "execute_result"
    }
   ],
   "source": [
    "vkm[vkm.duplicated(subset=['ScenarioID', 'CountryID', 'TechID', 'JSTypeVSMID', 'TechDescription','TransTypeID','VehTypeID','MassCatID'])]"
   ],
   "metadata": {
    "collapsed": false,
    "ExecuteTime": {
     "end_time": "2024-01-26T12:34:47.682678800Z",
     "start_time": "2024-01-26T12:34:47.672919100Z"
    }
   },
   "id": "5c57802ef484df73"
  }
 ],
 "metadata": {
  "kernelspec": {
   "display_name": "Python 3 (ipykernel)",
   "language": "python",
   "name": "python3"
  },
  "language_info": {
   "codemirror_mode": {
    "name": "ipython",
    "version": 3
   },
   "file_extension": ".py",
   "mimetype": "text/x-python",
   "name": "python",
   "nbconvert_exporter": "python",
   "pygments_lexer": "ipython3",
   "version": "3.9.12"
  }
 },
 "nbformat": 4,
 "nbformat_minor": 5
}
