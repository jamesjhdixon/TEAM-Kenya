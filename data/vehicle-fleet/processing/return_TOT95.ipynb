{
 "cells": [
  {
   "cell_type": "markdown",
   "id": "bca7936d",
   "metadata": {},
   "source": [
    "The long forgotten TOT one. what is it. who knows. this notebook makes it."
   ]
  },
  {
   "cell_type": "code",
   "execution_count": 7,
   "id": "d5ec7546",
   "metadata": {
    "ExecuteTime": {
     "end_time": "2023-08-08T16:28:58.132685800Z",
     "start_time": "2023-08-08T16:28:58.123092100Z"
    }
   },
   "outputs": [],
   "source": [
    "import pandas as pd"
   ]
  },
  {
   "cell_type": "code",
   "execution_count": 8,
   "id": "37ad4248",
   "metadata": {
    "ExecuteTime": {
     "end_time": "2023-08-08T16:28:58.132685800Z",
     "start_time": "2023-08-08T16:28:58.126095500Z"
    }
   },
   "outputs": [
    {
     "data": {
      "text/plain": "Empty DataFrame\nColumns: [CountryID, TransTypeID, VehTypeID, MassCatID, TOT_Stock]\nIndex: []",
      "text/html": "<div>\n<style scoped>\n    .dataframe tbody tr th:only-of-type {\n        vertical-align: middle;\n    }\n\n    .dataframe tbody tr th {\n        vertical-align: top;\n    }\n\n    .dataframe thead th {\n        text-align: right;\n    }\n</style>\n<table border=\"1\" class=\"dataframe\">\n  <thead>\n    <tr style=\"text-align: right;\">\n      <th></th>\n      <th>CountryID</th>\n      <th>TransTypeID</th>\n      <th>VehTypeID</th>\n      <th>MassCatID</th>\n      <th>TOT_Stock</th>\n    </tr>\n  </thead>\n  <tbody>\n  </tbody>\n</table>\n</div>"
     },
     "execution_count": 8,
     "metadata": {},
     "output_type": "execute_result"
    }
   ],
   "source": [
    "# make a df for tot95\n",
    "\n",
    "tot = pd.DataFrame(columns=['CountryID', 'TransTypeID', 'VehTypeID', 'MassCatID', 'TOT_Stock'])\n",
    "\n",
    "tot"
   ]
  },
  {
   "cell_type": "code",
   "execution_count": 9,
   "id": "8c4b4220",
   "metadata": {
    "ExecuteTime": {
     "end_time": "2023-08-08T16:28:58.163157200Z",
     "start_time": "2023-08-08T16:28:58.132685800Z"
    }
   },
   "outputs": [
    {
     "data": {
      "text/plain": "      CountryID   TechID  Age  TransTypeID  VehTypeID  MassCatID  EngineID  \\\n0             9     10.0    0          1.0        2.0        4.0       1.0   \n1             9     10.0    0          1.0        2.0        4.0       3.0   \n2             9     10.0    0          1.0        2.0        4.0       4.0   \n3             9     10.0    0          1.0        2.0        4.0       5.0   \n4             9     10.0    0          1.0        2.0        4.0       6.0   \n...         ...      ...  ...          ...        ...        ...       ...   \n4478          9  10690.0   14          2.0        5.0       23.0      15.0   \n4479          9  10690.0   15          2.0        5.0       23.0      15.0   \n4480          9  10690.0   16          2.0        5.0       23.0      15.0   \n4481          9  10690.0   21          2.0        5.0       23.0      15.0   \n4482          9  10690.0   25          2.0        5.0       23.0      15.0   \n\n      FuelID        NumVeh  \n0        1.0  12955.166000  \n1        1.0   6769.358000  \n2        1.0   7352.908000  \n3        1.0   7352.908000  \n4        1.0  13538.716000  \n...      ...           ...  \n4478     2.0    207.771875  \n4479     2.0     69.257292  \n4480     2.0    138.514583  \n4481     2.0     69.257292  \n4482     2.0     69.257292  \n\n[4483 rows x 9 columns]",
      "text/html": "<div>\n<style scoped>\n    .dataframe tbody tr th:only-of-type {\n        vertical-align: middle;\n    }\n\n    .dataframe tbody tr th {\n        vertical-align: top;\n    }\n\n    .dataframe thead th {\n        text-align: right;\n    }\n</style>\n<table border=\"1\" class=\"dataframe\">\n  <thead>\n    <tr style=\"text-align: right;\">\n      <th></th>\n      <th>CountryID</th>\n      <th>TechID</th>\n      <th>Age</th>\n      <th>TransTypeID</th>\n      <th>VehTypeID</th>\n      <th>MassCatID</th>\n      <th>EngineID</th>\n      <th>FuelID</th>\n      <th>NumVeh</th>\n    </tr>\n  </thead>\n  <tbody>\n    <tr>\n      <th>0</th>\n      <td>9</td>\n      <td>10.0</td>\n      <td>0</td>\n      <td>1.0</td>\n      <td>2.0</td>\n      <td>4.0</td>\n      <td>1.0</td>\n      <td>1.0</td>\n      <td>12955.166000</td>\n    </tr>\n    <tr>\n      <th>1</th>\n      <td>9</td>\n      <td>10.0</td>\n      <td>0</td>\n      <td>1.0</td>\n      <td>2.0</td>\n      <td>4.0</td>\n      <td>3.0</td>\n      <td>1.0</td>\n      <td>6769.358000</td>\n    </tr>\n    <tr>\n      <th>2</th>\n      <td>9</td>\n      <td>10.0</td>\n      <td>0</td>\n      <td>1.0</td>\n      <td>2.0</td>\n      <td>4.0</td>\n      <td>4.0</td>\n      <td>1.0</td>\n      <td>7352.908000</td>\n    </tr>\n    <tr>\n      <th>3</th>\n      <td>9</td>\n      <td>10.0</td>\n      <td>0</td>\n      <td>1.0</td>\n      <td>2.0</td>\n      <td>4.0</td>\n      <td>5.0</td>\n      <td>1.0</td>\n      <td>7352.908000</td>\n    </tr>\n    <tr>\n      <th>4</th>\n      <td>9</td>\n      <td>10.0</td>\n      <td>0</td>\n      <td>1.0</td>\n      <td>2.0</td>\n      <td>4.0</td>\n      <td>6.0</td>\n      <td>1.0</td>\n      <td>13538.716000</td>\n    </tr>\n    <tr>\n      <th>...</th>\n      <td>...</td>\n      <td>...</td>\n      <td>...</td>\n      <td>...</td>\n      <td>...</td>\n      <td>...</td>\n      <td>...</td>\n      <td>...</td>\n      <td>...</td>\n    </tr>\n    <tr>\n      <th>4478</th>\n      <td>9</td>\n      <td>10690.0</td>\n      <td>14</td>\n      <td>2.0</td>\n      <td>5.0</td>\n      <td>23.0</td>\n      <td>15.0</td>\n      <td>2.0</td>\n      <td>207.771875</td>\n    </tr>\n    <tr>\n      <th>4479</th>\n      <td>9</td>\n      <td>10690.0</td>\n      <td>15</td>\n      <td>2.0</td>\n      <td>5.0</td>\n      <td>23.0</td>\n      <td>15.0</td>\n      <td>2.0</td>\n      <td>69.257292</td>\n    </tr>\n    <tr>\n      <th>4480</th>\n      <td>9</td>\n      <td>10690.0</td>\n      <td>16</td>\n      <td>2.0</td>\n      <td>5.0</td>\n      <td>23.0</td>\n      <td>15.0</td>\n      <td>2.0</td>\n      <td>138.514583</td>\n    </tr>\n    <tr>\n      <th>4481</th>\n      <td>9</td>\n      <td>10690.0</td>\n      <td>21</td>\n      <td>2.0</td>\n      <td>5.0</td>\n      <td>23.0</td>\n      <td>15.0</td>\n      <td>2.0</td>\n      <td>69.257292</td>\n    </tr>\n    <tr>\n      <th>4482</th>\n      <td>9</td>\n      <td>10690.0</td>\n      <td>25</td>\n      <td>2.0</td>\n      <td>5.0</td>\n      <td>23.0</td>\n      <td>15.0</td>\n      <td>2.0</td>\n      <td>69.257292</td>\n    </tr>\n  </tbody>\n</table>\n<p>4483 rows × 9 columns</p>\n</div>"
     },
     "execution_count": 9,
     "metadata": {},
     "output_type": "execute_result"
    }
   ],
   "source": [
    "# read numveh data - 95\n",
    "numveh = pd.read_csv(f'./../out_data/processed/numveh95.csv')\n",
    "numveh\n"
   ]
  },
  {
   "cell_type": "code",
   "execution_count": 10,
   "id": "1b224c0f",
   "metadata": {
    "ExecuteTime": {
     "end_time": "2023-08-08T16:28:58.347053700Z",
     "start_time": "2023-08-08T16:28:58.155653300Z"
    }
   },
   "outputs": [
    {
     "data": {
      "text/plain": "   CountryID TransTypeID VehTypeID MassCatID   TOT_Stock\n0          9         1.0       2.0       4.0    539769.0\n1          9         1.0       3.0       1.0    409537.0\n2          9         1.0       3.0       2.0    107103.0\n3          9         1.0       3.0       3.0     15766.0\n4          9         1.0       4.0      11.0     50000.0\n5          9         1.0       4.0      12.0     50000.0\n6          9         1.0       4.0      13.0     10041.0\n7          9         1.0       6.0      31.0   89.911524\n8          9         1.0       6.0      32.0  493.794594\n9          9         1.0       6.0      33.0   51.888989\n10         9         1.0       6.0      34.0    0.999946\n11         9         1.0       8.0      41.0    4.377163\n12         9         1.0       8.0      42.0   38.850395\n13         9         1.0       8.0      43.0   40.003573\n14         9         1.0       8.0      44.0   12.327675\n15         9         1.0       8.0      45.0     0.41158\n16         9         2.0       3.0      11.0     41734.0\n17         9         2.0       3.0      21.0     38301.0\n18         9         2.0       5.0      11.0     12507.0\n19         9         2.0       5.0      21.0     25014.0\n20         9         2.0       5.0      22.0     42136.0\n21         9         2.0       5.0      23.0   15655.925\n22         9         2.0       6.0      32.0   70.714777\n23         9         2.0       7.0      51.0   34.000629\n24         9         2.0       7.0      52.0   16.099372\n25         9         2.0       8.0      42.0    3.061072\n26         9         2.0       8.0      43.0    8.810444\n27         9         2.0       8.0      44.0    2.936947",
      "text/html": "<div>\n<style scoped>\n    .dataframe tbody tr th:only-of-type {\n        vertical-align: middle;\n    }\n\n    .dataframe tbody tr th {\n        vertical-align: top;\n    }\n\n    .dataframe thead th {\n        text-align: right;\n    }\n</style>\n<table border=\"1\" class=\"dataframe\">\n  <thead>\n    <tr style=\"text-align: right;\">\n      <th></th>\n      <th>CountryID</th>\n      <th>TransTypeID</th>\n      <th>VehTypeID</th>\n      <th>MassCatID</th>\n      <th>TOT_Stock</th>\n    </tr>\n  </thead>\n  <tbody>\n    <tr>\n      <th>0</th>\n      <td>9</td>\n      <td>1.0</td>\n      <td>2.0</td>\n      <td>4.0</td>\n      <td>539769.0</td>\n    </tr>\n    <tr>\n      <th>1</th>\n      <td>9</td>\n      <td>1.0</td>\n      <td>3.0</td>\n      <td>1.0</td>\n      <td>409537.0</td>\n    </tr>\n    <tr>\n      <th>2</th>\n      <td>9</td>\n      <td>1.0</td>\n      <td>3.0</td>\n      <td>2.0</td>\n      <td>107103.0</td>\n    </tr>\n    <tr>\n      <th>3</th>\n      <td>9</td>\n      <td>1.0</td>\n      <td>3.0</td>\n      <td>3.0</td>\n      <td>15766.0</td>\n    </tr>\n    <tr>\n      <th>4</th>\n      <td>9</td>\n      <td>1.0</td>\n      <td>4.0</td>\n      <td>11.0</td>\n      <td>50000.0</td>\n    </tr>\n    <tr>\n      <th>5</th>\n      <td>9</td>\n      <td>1.0</td>\n      <td>4.0</td>\n      <td>12.0</td>\n      <td>50000.0</td>\n    </tr>\n    <tr>\n      <th>6</th>\n      <td>9</td>\n      <td>1.0</td>\n      <td>4.0</td>\n      <td>13.0</td>\n      <td>10041.0</td>\n    </tr>\n    <tr>\n      <th>7</th>\n      <td>9</td>\n      <td>1.0</td>\n      <td>6.0</td>\n      <td>31.0</td>\n      <td>89.911524</td>\n    </tr>\n    <tr>\n      <th>8</th>\n      <td>9</td>\n      <td>1.0</td>\n      <td>6.0</td>\n      <td>32.0</td>\n      <td>493.794594</td>\n    </tr>\n    <tr>\n      <th>9</th>\n      <td>9</td>\n      <td>1.0</td>\n      <td>6.0</td>\n      <td>33.0</td>\n      <td>51.888989</td>\n    </tr>\n    <tr>\n      <th>10</th>\n      <td>9</td>\n      <td>1.0</td>\n      <td>6.0</td>\n      <td>34.0</td>\n      <td>0.999946</td>\n    </tr>\n    <tr>\n      <th>11</th>\n      <td>9</td>\n      <td>1.0</td>\n      <td>8.0</td>\n      <td>41.0</td>\n      <td>4.377163</td>\n    </tr>\n    <tr>\n      <th>12</th>\n      <td>9</td>\n      <td>1.0</td>\n      <td>8.0</td>\n      <td>42.0</td>\n      <td>38.850395</td>\n    </tr>\n    <tr>\n      <th>13</th>\n      <td>9</td>\n      <td>1.0</td>\n      <td>8.0</td>\n      <td>43.0</td>\n      <td>40.003573</td>\n    </tr>\n    <tr>\n      <th>14</th>\n      <td>9</td>\n      <td>1.0</td>\n      <td>8.0</td>\n      <td>44.0</td>\n      <td>12.327675</td>\n    </tr>\n    <tr>\n      <th>15</th>\n      <td>9</td>\n      <td>1.0</td>\n      <td>8.0</td>\n      <td>45.0</td>\n      <td>0.41158</td>\n    </tr>\n    <tr>\n      <th>16</th>\n      <td>9</td>\n      <td>2.0</td>\n      <td>3.0</td>\n      <td>11.0</td>\n      <td>41734.0</td>\n    </tr>\n    <tr>\n      <th>17</th>\n      <td>9</td>\n      <td>2.0</td>\n      <td>3.0</td>\n      <td>21.0</td>\n      <td>38301.0</td>\n    </tr>\n    <tr>\n      <th>18</th>\n      <td>9</td>\n      <td>2.0</td>\n      <td>5.0</td>\n      <td>11.0</td>\n      <td>12507.0</td>\n    </tr>\n    <tr>\n      <th>19</th>\n      <td>9</td>\n      <td>2.0</td>\n      <td>5.0</td>\n      <td>21.0</td>\n      <td>25014.0</td>\n    </tr>\n    <tr>\n      <th>20</th>\n      <td>9</td>\n      <td>2.0</td>\n      <td>5.0</td>\n      <td>22.0</td>\n      <td>42136.0</td>\n    </tr>\n    <tr>\n      <th>21</th>\n      <td>9</td>\n      <td>2.0</td>\n      <td>5.0</td>\n      <td>23.0</td>\n      <td>15655.925</td>\n    </tr>\n    <tr>\n      <th>22</th>\n      <td>9</td>\n      <td>2.0</td>\n      <td>6.0</td>\n      <td>32.0</td>\n      <td>70.714777</td>\n    </tr>\n    <tr>\n      <th>23</th>\n      <td>9</td>\n      <td>2.0</td>\n      <td>7.0</td>\n      <td>51.0</td>\n      <td>34.000629</td>\n    </tr>\n    <tr>\n      <th>24</th>\n      <td>9</td>\n      <td>2.0</td>\n      <td>7.0</td>\n      <td>52.0</td>\n      <td>16.099372</td>\n    </tr>\n    <tr>\n      <th>25</th>\n      <td>9</td>\n      <td>2.0</td>\n      <td>8.0</td>\n      <td>42.0</td>\n      <td>3.061072</td>\n    </tr>\n    <tr>\n      <th>26</th>\n      <td>9</td>\n      <td>2.0</td>\n      <td>8.0</td>\n      <td>43.0</td>\n      <td>8.810444</td>\n    </tr>\n    <tr>\n      <th>27</th>\n      <td>9</td>\n      <td>2.0</td>\n      <td>8.0</td>\n      <td>44.0</td>\n      <td>2.936947</td>\n    </tr>\n  </tbody>\n</table>\n</div>"
     },
     "execution_count": 10,
     "metadata": {},
     "output_type": "execute_result"
    }
   ],
   "source": [
    "row_count = 0\n",
    "\n",
    "for transtype in numveh.TransTypeID.unique():\n",
    "    \n",
    "    for vehtype in numveh.VehTypeID.unique():\n",
    "        \n",
    "        for masscat in numveh.MassCatID.unique():\n",
    "            \n",
    "            if not numveh[(numveh.TransTypeID == transtype) & (numveh.VehTypeID == vehtype) & (numveh.MassCatID == masscat)].empty:\n",
    "                \n",
    "                # return total numveh of this config\n",
    "                total_numveh = numveh[(numveh.TransTypeID == transtype) & (numveh.VehTypeID == vehtype) & (numveh.MassCatID == masscat)].NumVeh.sum()\n",
    "                               \n",
    "                tot.at[row_count, 'CountryID'] = 9\n",
    "                tot.at[row_count, 'TransTypeID'] = transtype\n",
    "                tot.at[row_count, 'VehTypeID'] = vehtype\n",
    "                tot.at[row_count, 'MassCatID'] = masscat\n",
    "                tot.at[row_count, 'TOT_Stock'] = total_numveh\n",
    "                \n",
    "                row_count +=1\n",
    "                \n",
    "tot"
   ]
  },
  {
   "cell_type": "code",
   "execution_count": 11,
   "id": "070e8c8f",
   "metadata": {
    "ExecuteTime": {
     "end_time": "2023-08-08T16:28:58.347053700Z",
     "start_time": "2023-08-08T16:28:58.332392300Z"
    }
   },
   "outputs": [],
   "source": [
    "tot.to_csv('./../out_data/processed/tot95.csv', index=False)"
   ]
  },
  {
   "cell_type": "code",
   "execution_count": 12,
   "id": "85db9f0f",
   "metadata": {
    "ExecuteTime": {
     "end_time": "2023-08-08T16:28:58.347053700Z",
     "start_time": "2023-08-08T16:28:58.347053700Z"
    }
   },
   "outputs": [
    {
     "data": {
      "text/plain": "707.309829798858"
     },
     "execution_count": 12,
     "metadata": {},
     "output_type": "execute_result"
    }
   ],
   "source": [
    "tot[tot.VehTypeID == 6].TOT_Stock.sum()"
   ]
  },
  {
   "cell_type": "code",
   "execution_count": 13,
   "outputs": [
    {
     "data": {
      "text/plain": "Empty DataFrame\nColumns: [CountryID, TransTypeID, VehTypeID, MassCatID, TOT_Stock]\nIndex: []",
      "text/html": "<div>\n<style scoped>\n    .dataframe tbody tr th:only-of-type {\n        vertical-align: middle;\n    }\n\n    .dataframe tbody tr th {\n        vertical-align: top;\n    }\n\n    .dataframe thead th {\n        text-align: right;\n    }\n</style>\n<table border=\"1\" class=\"dataframe\">\n  <thead>\n    <tr style=\"text-align: right;\">\n      <th></th>\n      <th>CountryID</th>\n      <th>TransTypeID</th>\n      <th>VehTypeID</th>\n      <th>MassCatID</th>\n      <th>TOT_Stock</th>\n    </tr>\n  </thead>\n  <tbody>\n  </tbody>\n</table>\n</div>"
     },
     "execution_count": 13,
     "metadata": {},
     "output_type": "execute_result"
    }
   ],
   "source": [
    "tot[tot.duplicated()]"
   ],
   "metadata": {
    "collapsed": false,
    "ExecuteTime": {
     "end_time": "2023-08-08T16:30:52.662691700Z",
     "start_time": "2023-08-08T16:30:52.631016800Z"
    }
   },
   "id": "833ad30873eab254"
  }
 ],
 "metadata": {
  "kernelspec": {
   "display_name": "Python 3 (ipykernel)",
   "language": "python",
   "name": "python3"
  },
  "language_info": {
   "codemirror_mode": {
    "name": "ipython",
    "version": 3
   },
   "file_extension": ".py",
   "mimetype": "text/x-python",
   "name": "python",
   "nbconvert_exporter": "python",
   "pygments_lexer": "ipython3",
   "version": "3.9.12"
  }
 },
 "nbformat": 4,
 "nbformat_minor": 5
}
