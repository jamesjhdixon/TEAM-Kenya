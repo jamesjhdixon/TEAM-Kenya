{
 "cells": [
  {
   "cell_type": "markdown",
   "id": "bca7936d",
   "metadata": {},
   "source": [
    "This notebook takes the numveh (base year vehicle numveh data) as an input and produces the newveh (base year *new* vehicles) as an output. To do this it uses the GIZ data."
   ]
  },
  {
   "cell_type": "code",
   "execution_count": 23,
   "id": "d5ec7546",
   "metadata": {
    "ExecuteTime": {
     "end_time": "2024-01-26T11:41:27.162504900Z",
     "start_time": "2024-01-26T11:41:27.096950100Z"
    }
   },
   "outputs": [],
   "source": [
    "import pandas as pd"
   ]
  },
  {
   "cell_type": "code",
   "execution_count": 24,
   "id": "37ad4248",
   "metadata": {
    "ExecuteTime": {
     "end_time": "2024-01-26T11:41:27.225548100Z",
     "start_time": "2024-01-26T11:41:27.098953500Z"
    }
   },
   "outputs": [
    {
     "data": {
      "text/plain": "           Vehicle type    2015    2016    2017    2018    2019\n0           Motorcycles  139420  123539  191601  195253  217425\n1                  Cars   68489   58613   66698   74683   82483\n2                  LCVs   13878   12722    9866   11220   10189\n3                  HGVs   13785    9632    7460    6514    6518\n4   Buses and minibuses    4781    4096    3563    5659    5651\n5              Trailers    3905    2829    1953    2083    1639\n6  Other motor vehicles    2923    2284    1531    1877    3271\n7                 Total  247181  213715  282672  297289  327176",
      "text/html": "<div>\n<style scoped>\n    .dataframe tbody tr th:only-of-type {\n        vertical-align: middle;\n    }\n\n    .dataframe tbody tr th {\n        vertical-align: top;\n    }\n\n    .dataframe thead th {\n        text-align: right;\n    }\n</style>\n<table border=\"1\" class=\"dataframe\">\n  <thead>\n    <tr style=\"text-align: right;\">\n      <th></th>\n      <th>Vehicle type</th>\n      <th>2015</th>\n      <th>2016</th>\n      <th>2017</th>\n      <th>2018</th>\n      <th>2019</th>\n    </tr>\n  </thead>\n  <tbody>\n    <tr>\n      <th>0</th>\n      <td>Motorcycles</td>\n      <td>139420</td>\n      <td>123539</td>\n      <td>191601</td>\n      <td>195253</td>\n      <td>217425</td>\n    </tr>\n    <tr>\n      <th>1</th>\n      <td>Cars</td>\n      <td>68489</td>\n      <td>58613</td>\n      <td>66698</td>\n      <td>74683</td>\n      <td>82483</td>\n    </tr>\n    <tr>\n      <th>2</th>\n      <td>LCVs</td>\n      <td>13878</td>\n      <td>12722</td>\n      <td>9866</td>\n      <td>11220</td>\n      <td>10189</td>\n    </tr>\n    <tr>\n      <th>3</th>\n      <td>HGVs</td>\n      <td>13785</td>\n      <td>9632</td>\n      <td>7460</td>\n      <td>6514</td>\n      <td>6518</td>\n    </tr>\n    <tr>\n      <th>4</th>\n      <td>Buses and minibuses</td>\n      <td>4781</td>\n      <td>4096</td>\n      <td>3563</td>\n      <td>5659</td>\n      <td>5651</td>\n    </tr>\n    <tr>\n      <th>5</th>\n      <td>Trailers</td>\n      <td>3905</td>\n      <td>2829</td>\n      <td>1953</td>\n      <td>2083</td>\n      <td>1639</td>\n    </tr>\n    <tr>\n      <th>6</th>\n      <td>Other motor vehicles</td>\n      <td>2923</td>\n      <td>2284</td>\n      <td>1531</td>\n      <td>1877</td>\n      <td>3271</td>\n    </tr>\n    <tr>\n      <th>7</th>\n      <td>Total</td>\n      <td>247181</td>\n      <td>213715</td>\n      <td>282672</td>\n      <td>297289</td>\n      <td>327176</td>\n    </tr>\n  </tbody>\n</table>\n</div>"
     },
     "execution_count": 24,
     "metadata": {},
     "output_type": "execute_result"
    }
   ],
   "source": [
    "# read kenya TED -- new registrations per year\n",
    "newreg = pd.read_excel(f'./../TED/Kenya_TED.xlsx', sheet_name='New-registrations-by-year')\n",
    "newreg"
   ]
  },
  {
   "cell_type": "code",
   "execution_count": 25,
   "id": "de63b4b8",
   "metadata": {
    "ExecuteTime": {
     "end_time": "2024-01-26T11:41:27.256759400Z",
     "start_time": "2024-01-26T11:41:27.214043500Z"
    }
   },
   "outputs": [
    {
     "data": {
      "text/plain": "    CountryID  TransTypeID  VehTypeID  MassCatID     NumNewVeh\n0           9            1          2          4  1.545915e+05\n1           9            1          3          1  1.022889e+06\n2           9            1          3          2  1.034924e+06\n3           9            1          3          3  4.847108e+05\n4           9            1          4         11  6.282496e+03\n5           9            1          4         12  4.530616e+03\n6           9            1          4         13  2.671586e+02\n7           9            1          6         31  3.150600e+01\n8           9            1          6         32  1.730470e+02\n9           9            1          6         33  1.820150e+01\n10          9            1          6         34  0.000000e+00\n11          9            1          8         41  1.577107e+00\n12          9            1          8         42  1.439874e+01\n13          9            1          8         43  1.466184e+01\n14          9            1          8         44  4.656849e+00\n15          9            1          8         45  0.000000e+00\n16          9            2          5         21  1.457602e+05\n17          9            2          5         22  1.203619e+04\n18          9            2          5         23  2.155570e+04\n19          9            2          5         24  5.483251e+04\n20          9            2          5         25  4.316480e+04\n21          9            2          5         26  1.140907e+04\n22          9            2          5         27  6.121239e+03\n23          9            2          5         28  2.609430e+04\n24          9            2          6         31  0.000000e+00\n25          9            2          6         32  2.478000e+01\n26          9            2          6         33  0.000000e+00\n27          9            2          7         51  1.370166e+01\n28          9            2          7         52  6.488140e+00\n29          9            2          7         53  0.000000e+00\n30          9            2          8         42  7.385445e-01\n31          9            2          8         43  2.253567e+00\n32          9            2          8         44  7.512245e-01",
      "text/html": "<div>\n<style scoped>\n    .dataframe tbody tr th:only-of-type {\n        vertical-align: middle;\n    }\n\n    .dataframe tbody tr th {\n        vertical-align: top;\n    }\n\n    .dataframe thead th {\n        text-align: right;\n    }\n</style>\n<table border=\"1\" class=\"dataframe\">\n  <thead>\n    <tr style=\"text-align: right;\">\n      <th></th>\n      <th>CountryID</th>\n      <th>TransTypeID</th>\n      <th>VehTypeID</th>\n      <th>MassCatID</th>\n      <th>NumNewVeh</th>\n    </tr>\n  </thead>\n  <tbody>\n    <tr>\n      <th>0</th>\n      <td>9</td>\n      <td>1</td>\n      <td>2</td>\n      <td>4</td>\n      <td>1.545915e+05</td>\n    </tr>\n    <tr>\n      <th>1</th>\n      <td>9</td>\n      <td>1</td>\n      <td>3</td>\n      <td>1</td>\n      <td>1.022889e+06</td>\n    </tr>\n    <tr>\n      <th>2</th>\n      <td>9</td>\n      <td>1</td>\n      <td>3</td>\n      <td>2</td>\n      <td>1.034924e+06</td>\n    </tr>\n    <tr>\n      <th>3</th>\n      <td>9</td>\n      <td>1</td>\n      <td>3</td>\n      <td>3</td>\n      <td>4.847108e+05</td>\n    </tr>\n    <tr>\n      <th>4</th>\n      <td>9</td>\n      <td>1</td>\n      <td>4</td>\n      <td>11</td>\n      <td>6.282496e+03</td>\n    </tr>\n    <tr>\n      <th>5</th>\n      <td>9</td>\n      <td>1</td>\n      <td>4</td>\n      <td>12</td>\n      <td>4.530616e+03</td>\n    </tr>\n    <tr>\n      <th>6</th>\n      <td>9</td>\n      <td>1</td>\n      <td>4</td>\n      <td>13</td>\n      <td>2.671586e+02</td>\n    </tr>\n    <tr>\n      <th>7</th>\n      <td>9</td>\n      <td>1</td>\n      <td>6</td>\n      <td>31</td>\n      <td>3.150600e+01</td>\n    </tr>\n    <tr>\n      <th>8</th>\n      <td>9</td>\n      <td>1</td>\n      <td>6</td>\n      <td>32</td>\n      <td>1.730470e+02</td>\n    </tr>\n    <tr>\n      <th>9</th>\n      <td>9</td>\n      <td>1</td>\n      <td>6</td>\n      <td>33</td>\n      <td>1.820150e+01</td>\n    </tr>\n    <tr>\n      <th>10</th>\n      <td>9</td>\n      <td>1</td>\n      <td>6</td>\n      <td>34</td>\n      <td>0.000000e+00</td>\n    </tr>\n    <tr>\n      <th>11</th>\n      <td>9</td>\n      <td>1</td>\n      <td>8</td>\n      <td>41</td>\n      <td>1.577107e+00</td>\n    </tr>\n    <tr>\n      <th>12</th>\n      <td>9</td>\n      <td>1</td>\n      <td>8</td>\n      <td>42</td>\n      <td>1.439874e+01</td>\n    </tr>\n    <tr>\n      <th>13</th>\n      <td>9</td>\n      <td>1</td>\n      <td>8</td>\n      <td>43</td>\n      <td>1.466184e+01</td>\n    </tr>\n    <tr>\n      <th>14</th>\n      <td>9</td>\n      <td>1</td>\n      <td>8</td>\n      <td>44</td>\n      <td>4.656849e+00</td>\n    </tr>\n    <tr>\n      <th>15</th>\n      <td>9</td>\n      <td>1</td>\n      <td>8</td>\n      <td>45</td>\n      <td>0.000000e+00</td>\n    </tr>\n    <tr>\n      <th>16</th>\n      <td>9</td>\n      <td>2</td>\n      <td>5</td>\n      <td>21</td>\n      <td>1.457602e+05</td>\n    </tr>\n    <tr>\n      <th>17</th>\n      <td>9</td>\n      <td>2</td>\n      <td>5</td>\n      <td>22</td>\n      <td>1.203619e+04</td>\n    </tr>\n    <tr>\n      <th>18</th>\n      <td>9</td>\n      <td>2</td>\n      <td>5</td>\n      <td>23</td>\n      <td>2.155570e+04</td>\n    </tr>\n    <tr>\n      <th>19</th>\n      <td>9</td>\n      <td>2</td>\n      <td>5</td>\n      <td>24</td>\n      <td>5.483251e+04</td>\n    </tr>\n    <tr>\n      <th>20</th>\n      <td>9</td>\n      <td>2</td>\n      <td>5</td>\n      <td>25</td>\n      <td>4.316480e+04</td>\n    </tr>\n    <tr>\n      <th>21</th>\n      <td>9</td>\n      <td>2</td>\n      <td>5</td>\n      <td>26</td>\n      <td>1.140907e+04</td>\n    </tr>\n    <tr>\n      <th>22</th>\n      <td>9</td>\n      <td>2</td>\n      <td>5</td>\n      <td>27</td>\n      <td>6.121239e+03</td>\n    </tr>\n    <tr>\n      <th>23</th>\n      <td>9</td>\n      <td>2</td>\n      <td>5</td>\n      <td>28</td>\n      <td>2.609430e+04</td>\n    </tr>\n    <tr>\n      <th>24</th>\n      <td>9</td>\n      <td>2</td>\n      <td>6</td>\n      <td>31</td>\n      <td>0.000000e+00</td>\n    </tr>\n    <tr>\n      <th>25</th>\n      <td>9</td>\n      <td>2</td>\n      <td>6</td>\n      <td>32</td>\n      <td>2.478000e+01</td>\n    </tr>\n    <tr>\n      <th>26</th>\n      <td>9</td>\n      <td>2</td>\n      <td>6</td>\n      <td>33</td>\n      <td>0.000000e+00</td>\n    </tr>\n    <tr>\n      <th>27</th>\n      <td>9</td>\n      <td>2</td>\n      <td>7</td>\n      <td>51</td>\n      <td>1.370166e+01</td>\n    </tr>\n    <tr>\n      <th>28</th>\n      <td>9</td>\n      <td>2</td>\n      <td>7</td>\n      <td>52</td>\n      <td>6.488140e+00</td>\n    </tr>\n    <tr>\n      <th>29</th>\n      <td>9</td>\n      <td>2</td>\n      <td>7</td>\n      <td>53</td>\n      <td>0.000000e+00</td>\n    </tr>\n    <tr>\n      <th>30</th>\n      <td>9</td>\n      <td>2</td>\n      <td>8</td>\n      <td>42</td>\n      <td>7.385445e-01</td>\n    </tr>\n    <tr>\n      <th>31</th>\n      <td>9</td>\n      <td>2</td>\n      <td>8</td>\n      <td>43</td>\n      <td>2.253567e+00</td>\n    </tr>\n    <tr>\n      <th>32</th>\n      <td>9</td>\n      <td>2</td>\n      <td>8</td>\n      <td>44</td>\n      <td>7.512245e-01</td>\n    </tr>\n  </tbody>\n</table>\n</div>"
     },
     "execution_count": 25,
     "metadata": {},
     "output_type": "execute_result"
    }
   ],
   "source": [
    "# read UK data on new vehicles other types - ships, planes, trains\n",
    "newvehuk = pd.read_excel('./../sample_data/NewVeh95_UK.xlsx')\n",
    "newvehuk"
   ]
  },
  {
   "cell_type": "code",
   "execution_count": 26,
   "id": "9568bac3",
   "metadata": {
    "ExecuteTime": {
     "end_time": "2024-01-26T11:41:27.256759400Z",
     "start_time": "2024-01-26T11:41:27.248257Z"
    }
   },
   "outputs": [],
   "source": [
    "# defined assumed proportion of new kenya fleet/new uk fleet\n",
    "#train_proportion, ship_proportion, plane_proportion = 0.1, 0.1, 0.1\n",
    "uk_kenya_translation = {6: 0.1, 7: 0.1, 8: 0.1}"
   ]
  },
  {
   "cell_type": "code",
   "execution_count": 27,
   "id": "89f0c328",
   "metadata": {
    "ExecuteTime": {
     "end_time": "2024-01-26T11:41:27.284183200Z",
     "start_time": "2024-01-26T11:41:27.256246800Z"
    }
   },
   "outputs": [],
   "source": [
    "# make a vehtype dictionary\n",
    "vehtype_dict = {2: ['Motorcycles'], 3: ['Cars'], 4: ['Buses and minibuses'], \n",
    "               5: ['LCVs', 'HGVs']}"
   ]
  },
  {
   "cell_type": "code",
   "execution_count": 28,
   "id": "8c4b4220",
   "metadata": {
    "ExecuteTime": {
     "end_time": "2024-01-26T11:41:27.403803200Z",
     "start_time": "2024-01-26T11:41:27.256759400Z"
    }
   },
   "outputs": [
    {
     "data": {
      "text/plain": "      CountryID   TechID  Age  TransTypeID  VehTypeID  MassCatID  EngineID  \\\n0             9     10.0    0          1.0        2.0        4.0      10.0   \n1             9     10.0    1          1.0        2.0        4.0      10.0   \n2             9     10.0    2          1.0        2.0        4.0      10.0   \n3             9     10.0    3          1.0        2.0        4.0      10.0   \n4             9     10.0    4          1.0        2.0        4.0      10.0   \n...         ...      ...  ...          ...        ...        ...       ...   \n4138          9  10690.0   14          2.0        5.0       23.0      15.0   \n4139          9  10690.0   15          2.0        5.0       23.0      15.0   \n4140          9  10690.0   16          2.0        5.0       23.0      15.0   \n4141          9  10690.0   21          2.0        5.0       23.0      15.0   \n4142          9  10690.0   25          2.0        5.0       23.0      15.0   \n\n      FuelID         NumVeh  \n0        1.0   61274.572000  \n1        1.0   88740.372000  \n2        1.0   34836.824000  \n3        1.0   43911.816000  \n4        1.0  200302.196000  \n...      ...            ...  \n4138     2.0     207.771875  \n4139     2.0      69.257292  \n4140     2.0     138.514583  \n4141     2.0      69.257292  \n4142     2.0      69.257292  \n\n[4143 rows x 9 columns]",
      "text/html": "<div>\n<style scoped>\n    .dataframe tbody tr th:only-of-type {\n        vertical-align: middle;\n    }\n\n    .dataframe tbody tr th {\n        vertical-align: top;\n    }\n\n    .dataframe thead th {\n        text-align: right;\n    }\n</style>\n<table border=\"1\" class=\"dataframe\">\n  <thead>\n    <tr style=\"text-align: right;\">\n      <th></th>\n      <th>CountryID</th>\n      <th>TechID</th>\n      <th>Age</th>\n      <th>TransTypeID</th>\n      <th>VehTypeID</th>\n      <th>MassCatID</th>\n      <th>EngineID</th>\n      <th>FuelID</th>\n      <th>NumVeh</th>\n    </tr>\n  </thead>\n  <tbody>\n    <tr>\n      <th>0</th>\n      <td>9</td>\n      <td>10.0</td>\n      <td>0</td>\n      <td>1.0</td>\n      <td>2.0</td>\n      <td>4.0</td>\n      <td>10.0</td>\n      <td>1.0</td>\n      <td>61274.572000</td>\n    </tr>\n    <tr>\n      <th>1</th>\n      <td>9</td>\n      <td>10.0</td>\n      <td>1</td>\n      <td>1.0</td>\n      <td>2.0</td>\n      <td>4.0</td>\n      <td>10.0</td>\n      <td>1.0</td>\n      <td>88740.372000</td>\n    </tr>\n    <tr>\n      <th>2</th>\n      <td>9</td>\n      <td>10.0</td>\n      <td>2</td>\n      <td>1.0</td>\n      <td>2.0</td>\n      <td>4.0</td>\n      <td>10.0</td>\n      <td>1.0</td>\n      <td>34836.824000</td>\n    </tr>\n    <tr>\n      <th>3</th>\n      <td>9</td>\n      <td>10.0</td>\n      <td>3</td>\n      <td>1.0</td>\n      <td>2.0</td>\n      <td>4.0</td>\n      <td>10.0</td>\n      <td>1.0</td>\n      <td>43911.816000</td>\n    </tr>\n    <tr>\n      <th>4</th>\n      <td>9</td>\n      <td>10.0</td>\n      <td>4</td>\n      <td>1.0</td>\n      <td>2.0</td>\n      <td>4.0</td>\n      <td>10.0</td>\n      <td>1.0</td>\n      <td>200302.196000</td>\n    </tr>\n    <tr>\n      <th>...</th>\n      <td>...</td>\n      <td>...</td>\n      <td>...</td>\n      <td>...</td>\n      <td>...</td>\n      <td>...</td>\n      <td>...</td>\n      <td>...</td>\n      <td>...</td>\n    </tr>\n    <tr>\n      <th>4138</th>\n      <td>9</td>\n      <td>10690.0</td>\n      <td>14</td>\n      <td>2.0</td>\n      <td>5.0</td>\n      <td>23.0</td>\n      <td>15.0</td>\n      <td>2.0</td>\n      <td>207.771875</td>\n    </tr>\n    <tr>\n      <th>4139</th>\n      <td>9</td>\n      <td>10690.0</td>\n      <td>15</td>\n      <td>2.0</td>\n      <td>5.0</td>\n      <td>23.0</td>\n      <td>15.0</td>\n      <td>2.0</td>\n      <td>69.257292</td>\n    </tr>\n    <tr>\n      <th>4140</th>\n      <td>9</td>\n      <td>10690.0</td>\n      <td>16</td>\n      <td>2.0</td>\n      <td>5.0</td>\n      <td>23.0</td>\n      <td>15.0</td>\n      <td>2.0</td>\n      <td>138.514583</td>\n    </tr>\n    <tr>\n      <th>4141</th>\n      <td>9</td>\n      <td>10690.0</td>\n      <td>21</td>\n      <td>2.0</td>\n      <td>5.0</td>\n      <td>23.0</td>\n      <td>15.0</td>\n      <td>2.0</td>\n      <td>69.257292</td>\n    </tr>\n    <tr>\n      <th>4142</th>\n      <td>9</td>\n      <td>10690.0</td>\n      <td>25</td>\n      <td>2.0</td>\n      <td>5.0</td>\n      <td>23.0</td>\n      <td>15.0</td>\n      <td>2.0</td>\n      <td>69.257292</td>\n    </tr>\n  </tbody>\n</table>\n<p>4143 rows × 9 columns</p>\n</div>"
     },
     "execution_count": 28,
     "metadata": {},
     "output_type": "execute_result"
    }
   ],
   "source": [
    "# read aemda output data - vehicle numveh\n",
    "numveh = pd.read_csv(f'./../out_data/processed/numveh95.csv')\n",
    "#numveh = pd.read_csv(f'./out_data/processed/afema_bodge/numveh95_afemabodge.csv')\n",
    "numveh\n"
   ]
  },
  {
   "cell_type": "code",
   "execution_count": 29,
   "id": "b67d4c62",
   "metadata": {
    "ExecuteTime": {
     "end_time": "2024-01-26T11:41:27.451084500Z",
     "start_time": "2024-01-26T11:41:27.284183200Z"
    }
   },
   "outputs": [
    {
     "data": {
      "text/plain": "Empty DataFrame\nColumns: [CountryID, TransTypeID, VehTypeID, MassCatID, NumNewVeh]\nIndex: []",
      "text/html": "<div>\n<style scoped>\n    .dataframe tbody tr th:only-of-type {\n        vertical-align: middle;\n    }\n\n    .dataframe tbody tr th {\n        vertical-align: top;\n    }\n\n    .dataframe thead th {\n        text-align: right;\n    }\n</style>\n<table border=\"1\" class=\"dataframe\">\n  <thead>\n    <tr style=\"text-align: right;\">\n      <th></th>\n      <th>CountryID</th>\n      <th>TransTypeID</th>\n      <th>VehTypeID</th>\n      <th>MassCatID</th>\n      <th>NumNewVeh</th>\n    </tr>\n  </thead>\n  <tbody>\n  </tbody>\n</table>\n</div>"
     },
     "execution_count": 29,
     "metadata": {},
     "output_type": "execute_result"
    }
   ],
   "source": [
    "newveh = pd.DataFrame(columns=['CountryID','TransTypeID', 'VehTypeID', 'MassCatID', 'NumNewVeh'])\n",
    "newveh"
   ]
  },
  {
   "cell_type": "code",
   "execution_count": 30,
   "id": "1b224c0f",
   "metadata": {
    "ExecuteTime": {
     "end_time": "2024-01-26T11:41:27.674804400Z",
     "start_time": "2024-01-26T11:41:27.299991900Z"
    }
   },
   "outputs": [
    {
     "data": {
      "text/plain": "   CountryID TransTypeID VehTypeID MassCatID     NumNewVeh\n0          9         1.0       2.0       4.0      139420.0\n1          9         1.0       3.0       1.0  52683.064415\n2          9         1.0       3.0       2.0  13777.788693\n3          9         1.0       3.0       3.0   2028.146892\n4          9         1.0       4.0      11.0   3033.662976\n5          9         1.0       4.0      12.0   1455.119855\n6          9         1.0       4.0      13.0    292.217169\n7          9         1.0       6.0      31.0        3.1506\n8          9         1.0       6.0      32.0       17.3047\n9          9         1.0       6.0      33.0       1.82015\n10         9         1.0       6.0      34.0           0.0\n11         9         1.0       8.0      41.0      0.157711\n12         9         1.0       8.0      42.0      1.439874\n13         9         1.0       8.0      43.0      1.466184\n14         9         1.0       8.0      44.0      0.465685\n15         9         1.0       8.0      45.0           0.0\n16         9         2.0       5.0      21.0   14462.27588\n17         9         2.0       5.0      22.0   9624.614333\n18         9         2.0       5.0      23.0   3576.109787\n19         9         2.0       6.0      32.0         2.478\n20         9         2.0       7.0      51.0      1.370166\n21         9         2.0       7.0      52.0      0.648814\n22         9         2.0       8.0      42.0      0.073854\n23         9         2.0       8.0      43.0      0.225357\n24         9         2.0       8.0      44.0      0.075122",
      "text/html": "<div>\n<style scoped>\n    .dataframe tbody tr th:only-of-type {\n        vertical-align: middle;\n    }\n\n    .dataframe tbody tr th {\n        vertical-align: top;\n    }\n\n    .dataframe thead th {\n        text-align: right;\n    }\n</style>\n<table border=\"1\" class=\"dataframe\">\n  <thead>\n    <tr style=\"text-align: right;\">\n      <th></th>\n      <th>CountryID</th>\n      <th>TransTypeID</th>\n      <th>VehTypeID</th>\n      <th>MassCatID</th>\n      <th>NumNewVeh</th>\n    </tr>\n  </thead>\n  <tbody>\n    <tr>\n      <th>0</th>\n      <td>9</td>\n      <td>1.0</td>\n      <td>2.0</td>\n      <td>4.0</td>\n      <td>139420.0</td>\n    </tr>\n    <tr>\n      <th>1</th>\n      <td>9</td>\n      <td>1.0</td>\n      <td>3.0</td>\n      <td>1.0</td>\n      <td>52683.064415</td>\n    </tr>\n    <tr>\n      <th>2</th>\n      <td>9</td>\n      <td>1.0</td>\n      <td>3.0</td>\n      <td>2.0</td>\n      <td>13777.788693</td>\n    </tr>\n    <tr>\n      <th>3</th>\n      <td>9</td>\n      <td>1.0</td>\n      <td>3.0</td>\n      <td>3.0</td>\n      <td>2028.146892</td>\n    </tr>\n    <tr>\n      <th>4</th>\n      <td>9</td>\n      <td>1.0</td>\n      <td>4.0</td>\n      <td>11.0</td>\n      <td>3033.662976</td>\n    </tr>\n    <tr>\n      <th>5</th>\n      <td>9</td>\n      <td>1.0</td>\n      <td>4.0</td>\n      <td>12.0</td>\n      <td>1455.119855</td>\n    </tr>\n    <tr>\n      <th>6</th>\n      <td>9</td>\n      <td>1.0</td>\n      <td>4.0</td>\n      <td>13.0</td>\n      <td>292.217169</td>\n    </tr>\n    <tr>\n      <th>7</th>\n      <td>9</td>\n      <td>1.0</td>\n      <td>6.0</td>\n      <td>31.0</td>\n      <td>3.1506</td>\n    </tr>\n    <tr>\n      <th>8</th>\n      <td>9</td>\n      <td>1.0</td>\n      <td>6.0</td>\n      <td>32.0</td>\n      <td>17.3047</td>\n    </tr>\n    <tr>\n      <th>9</th>\n      <td>9</td>\n      <td>1.0</td>\n      <td>6.0</td>\n      <td>33.0</td>\n      <td>1.82015</td>\n    </tr>\n    <tr>\n      <th>10</th>\n      <td>9</td>\n      <td>1.0</td>\n      <td>6.0</td>\n      <td>34.0</td>\n      <td>0.0</td>\n    </tr>\n    <tr>\n      <th>11</th>\n      <td>9</td>\n      <td>1.0</td>\n      <td>8.0</td>\n      <td>41.0</td>\n      <td>0.157711</td>\n    </tr>\n    <tr>\n      <th>12</th>\n      <td>9</td>\n      <td>1.0</td>\n      <td>8.0</td>\n      <td>42.0</td>\n      <td>1.439874</td>\n    </tr>\n    <tr>\n      <th>13</th>\n      <td>9</td>\n      <td>1.0</td>\n      <td>8.0</td>\n      <td>43.0</td>\n      <td>1.466184</td>\n    </tr>\n    <tr>\n      <th>14</th>\n      <td>9</td>\n      <td>1.0</td>\n      <td>8.0</td>\n      <td>44.0</td>\n      <td>0.465685</td>\n    </tr>\n    <tr>\n      <th>15</th>\n      <td>9</td>\n      <td>1.0</td>\n      <td>8.0</td>\n      <td>45.0</td>\n      <td>0.0</td>\n    </tr>\n    <tr>\n      <th>16</th>\n      <td>9</td>\n      <td>2.0</td>\n      <td>5.0</td>\n      <td>21.0</td>\n      <td>14462.27588</td>\n    </tr>\n    <tr>\n      <th>17</th>\n      <td>9</td>\n      <td>2.0</td>\n      <td>5.0</td>\n      <td>22.0</td>\n      <td>9624.614333</td>\n    </tr>\n    <tr>\n      <th>18</th>\n      <td>9</td>\n      <td>2.0</td>\n      <td>5.0</td>\n      <td>23.0</td>\n      <td>3576.109787</td>\n    </tr>\n    <tr>\n      <th>19</th>\n      <td>9</td>\n      <td>2.0</td>\n      <td>6.0</td>\n      <td>32.0</td>\n      <td>2.478</td>\n    </tr>\n    <tr>\n      <th>20</th>\n      <td>9</td>\n      <td>2.0</td>\n      <td>7.0</td>\n      <td>51.0</td>\n      <td>1.370166</td>\n    </tr>\n    <tr>\n      <th>21</th>\n      <td>9</td>\n      <td>2.0</td>\n      <td>7.0</td>\n      <td>52.0</td>\n      <td>0.648814</td>\n    </tr>\n    <tr>\n      <th>22</th>\n      <td>9</td>\n      <td>2.0</td>\n      <td>8.0</td>\n      <td>42.0</td>\n      <td>0.073854</td>\n    </tr>\n    <tr>\n      <th>23</th>\n      <td>9</td>\n      <td>2.0</td>\n      <td>8.0</td>\n      <td>43.0</td>\n      <td>0.225357</td>\n    </tr>\n    <tr>\n      <th>24</th>\n      <td>9</td>\n      <td>2.0</td>\n      <td>8.0</td>\n      <td>44.0</td>\n      <td>0.075122</td>\n    </tr>\n  </tbody>\n</table>\n</div>"
     },
     "execution_count": 30,
     "metadata": {},
     "output_type": "execute_result"
    }
   ],
   "source": [
    "base_year = 2015\n",
    "row_count = 0\n",
    "\n",
    "for transtype in numveh.TransTypeID.unique():\n",
    "    \n",
    "    for vehtype in numveh.VehTypeID.unique():\n",
    "        \n",
    "        for masscat in numveh.MassCatID.unique():\n",
    "            \n",
    "            if not numveh[(numveh.TransTypeID == transtype) & (numveh.VehTypeID == vehtype) & (numveh.MassCatID == masscat)].empty:\n",
    "                \n",
    "                # return total numveh of this config\n",
    "                total_numveh = numveh[(numveh.TransTypeID == transtype) & (numveh.VehTypeID == vehtype) & (numveh.MassCatID == masscat)].NumVeh.sum()\n",
    "                                \n",
    "                # return new registrations of this vehicle type in the base year\n",
    "                if vehtype in vehtype_dict:  # if it's a road vehicle\n",
    "                    \n",
    "                    new_registrations = newreg[(newreg['Vehicle type'].isin(vehtype_dict[vehtype]))][base_year].sum()\n",
    "                    \n",
    "                    # return total numveh of this vehicle type\n",
    "                    total_vehtype = numveh[numveh.VehTypeID == vehtype].NumVeh.sum()\n",
    "                    \n",
    "                    # calculate new registrations as a *proportion* of the total of this vehicle type\n",
    "                    newveh_proportion = new_registrations / total_vehtype\n",
    "                    \n",
    "                    numnewveh = newveh_proportion * total_numveh\n",
    "                    \n",
    "                else:\n",
    "                    # in this case we take from the uk data and multiply by a fixed proportion\n",
    "                    new_registrations = newvehuk[(newvehuk.TransTypeID == transtype) & (newvehuk.VehTypeID == vehtype) & (newvehuk.MassCatID == masscat)].NumNewVeh.sum()\n",
    "                \n",
    "                    numnewveh = new_registrations * uk_kenya_translation[vehtype]\n",
    "                \n",
    "                newveh.at[row_count, 'CountryID'] = 9\n",
    "                newveh.at[row_count, 'TransTypeID'] = transtype\n",
    "                newveh.at[row_count, 'VehTypeID'] = vehtype\n",
    "                newveh.at[row_count, 'MassCatID'] = masscat\n",
    "                newveh.at[row_count, 'NumNewVeh'] = numnewveh\n",
    "\n",
    "                row_count +=1\n",
    "                \n",
    "newveh\n"
   ]
  },
  {
   "cell_type": "code",
   "execution_count": 30,
   "outputs": [],
   "source": [],
   "metadata": {
    "collapsed": false,
    "ExecuteTime": {
     "end_time": "2024-01-26T11:41:27.674804400Z",
     "start_time": "2024-01-26T11:41:27.493864800Z"
    }
   },
   "id": "9c7a41e55e1a99af"
  },
  {
   "cell_type": "code",
   "execution_count": 31,
   "id": "070e8c8f",
   "metadata": {
    "ExecuteTime": {
     "end_time": "2024-01-26T11:41:27.674804400Z",
     "start_time": "2024-01-26T11:41:27.498393300Z"
    }
   },
   "outputs": [],
   "source": [
    "newveh.to_csv('./../out_data/processed/newveh95.csv', index=False)\n"
   ]
  },
  {
   "cell_type": "code",
   "execution_count": 32,
   "id": "9d35c99a",
   "metadata": {
    "ExecuteTime": {
     "end_time": "2024-01-26T11:41:27.674804400Z",
     "start_time": "2024-01-26T11:41:27.503378500Z"
    }
   },
   "outputs": [
    {
     "data": {
      "text/plain": "24.75345"
     },
     "execution_count": 32,
     "metadata": {},
     "output_type": "execute_result"
    }
   ],
   "source": [
    "newveh[newveh.VehTypeID==6].NumNewVeh.sum()\n",
    "\n",
    "#VALIDATED IT IS CORRECT ACCORDING TO THE PROPORTION ABOVE"
   ]
  },
  {
   "cell_type": "code",
   "execution_count": 33,
   "outputs": [
    {
     "data": {
      "text/plain": "Empty DataFrame\nColumns: [CountryID, TransTypeID, VehTypeID, MassCatID, NumNewVeh]\nIndex: []",
      "text/html": "<div>\n<style scoped>\n    .dataframe tbody tr th:only-of-type {\n        vertical-align: middle;\n    }\n\n    .dataframe tbody tr th {\n        vertical-align: top;\n    }\n\n    .dataframe thead th {\n        text-align: right;\n    }\n</style>\n<table border=\"1\" class=\"dataframe\">\n  <thead>\n    <tr style=\"text-align: right;\">\n      <th></th>\n      <th>CountryID</th>\n      <th>TransTypeID</th>\n      <th>VehTypeID</th>\n      <th>MassCatID</th>\n      <th>NumNewVeh</th>\n    </tr>\n  </thead>\n  <tbody>\n  </tbody>\n</table>\n</div>"
     },
     "execution_count": 33,
     "metadata": {},
     "output_type": "execute_result"
    }
   ],
   "source": [
    "newveh[newveh.duplicated()]"
   ],
   "metadata": {
    "collapsed": false,
    "ExecuteTime": {
     "end_time": "2024-01-26T11:41:27.674804400Z",
     "start_time": "2024-01-26T11:41:27.520883500Z"
    }
   },
   "id": "cb710df6e457ea0e"
  }
 ],
 "metadata": {
  "kernelspec": {
   "display_name": "Python 3 (ipykernel)",
   "language": "python",
   "name": "python3"
  },
  "language_info": {
   "codemirror_mode": {
    "name": "ipython",
    "version": 3
   },
   "file_extension": ".py",
   "mimetype": "text/x-python",
   "name": "python",
   "nbconvert_exporter": "python",
   "pygments_lexer": "ipython3",
   "version": "3.9.12"
  }
 },
 "nbformat": 4,
 "nbformat_minor": 5
}
