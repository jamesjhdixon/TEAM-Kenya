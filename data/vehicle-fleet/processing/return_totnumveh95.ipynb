{
 "cells": [
  {
   "cell_type": "markdown",
   "id": "bca7936d",
   "metadata": {},
   "source": [
    "This notebook takes the numveh (base year vehicle numveh data) as an input and produces the totnumveh95 (base year)"
   ]
  },
  {
   "cell_type": "code",
   "execution_count": 7,
   "id": "d5ec7546",
   "metadata": {
    "ExecuteTime": {
     "end_time": "2023-08-08T16:28:53.223419700Z",
     "start_time": "2023-08-08T16:28:53.210842300Z"
    }
   },
   "outputs": [],
   "source": [
    "import pandas as pd"
   ]
  },
  {
   "cell_type": "code",
   "execution_count": 8,
   "id": "37ad4248",
   "metadata": {
    "ExecuteTime": {
     "end_time": "2023-08-08T16:28:53.223419700Z",
     "start_time": "2023-08-08T16:28:53.217940200Z"
    }
   },
   "outputs": [
    {
     "data": {
      "text/plain": "Empty DataFrame\nColumns: [CountryID, TransTypeID, VehTypeID, Age, TotNumVeh, TotNumVeh-1, NumVehScrap]\nIndex: []",
      "text/html": "<div>\n<style scoped>\n    .dataframe tbody tr th:only-of-type {\n        vertical-align: middle;\n    }\n\n    .dataframe tbody tr th {\n        vertical-align: top;\n    }\n\n    .dataframe thead th {\n        text-align: right;\n    }\n</style>\n<table border=\"1\" class=\"dataframe\">\n  <thead>\n    <tr style=\"text-align: right;\">\n      <th></th>\n      <th>CountryID</th>\n      <th>TransTypeID</th>\n      <th>VehTypeID</th>\n      <th>Age</th>\n      <th>TotNumVeh</th>\n      <th>TotNumVeh-1</th>\n      <th>NumVehScrap</th>\n    </tr>\n  </thead>\n  <tbody>\n  </tbody>\n</table>\n</div>"
     },
     "execution_count": 8,
     "metadata": {},
     "output_type": "execute_result"
    }
   ],
   "source": [
    "# make a df for totnumveh\n",
    "\n",
    "totnumveh = pd.DataFrame(columns=['CountryID', 'TransTypeID', 'VehTypeID', 'Age', 'TotNumVeh', 'TotNumVeh-1', 'NumVehScrap'])\n",
    "\n",
    "totnumveh"
   ]
  },
  {
   "cell_type": "code",
   "execution_count": 9,
   "id": "8c4b4220",
   "metadata": {
    "ExecuteTime": {
     "end_time": "2023-08-08T16:28:53.251977800Z",
     "start_time": "2023-08-08T16:28:53.223419700Z"
    }
   },
   "outputs": [
    {
     "data": {
      "text/plain": "      CountryID   TechID  Age  TransTypeID  VehTypeID  MassCatID  EngineID  \\\n0             9     10.0    0          1.0        2.0        4.0       1.0   \n1             9     10.0    0          1.0        2.0        4.0       3.0   \n2             9     10.0    0          1.0        2.0        4.0       4.0   \n3             9     10.0    0          1.0        2.0        4.0       5.0   \n4             9     10.0    0          1.0        2.0        4.0       6.0   \n...         ...      ...  ...          ...        ...        ...       ...   \n4478          9  10690.0   14          2.0        5.0       23.0      15.0   \n4479          9  10690.0   15          2.0        5.0       23.0      15.0   \n4480          9  10690.0   16          2.0        5.0       23.0      15.0   \n4481          9  10690.0   21          2.0        5.0       23.0      15.0   \n4482          9  10690.0   25          2.0        5.0       23.0      15.0   \n\n      FuelID        NumVeh  \n0        1.0  12955.166000  \n1        1.0   6769.358000  \n2        1.0   7352.908000  \n3        1.0   7352.908000  \n4        1.0  13538.716000  \n...      ...           ...  \n4478     2.0    207.771875  \n4479     2.0     69.257292  \n4480     2.0    138.514583  \n4481     2.0     69.257292  \n4482     2.0     69.257292  \n\n[4483 rows x 9 columns]",
      "text/html": "<div>\n<style scoped>\n    .dataframe tbody tr th:only-of-type {\n        vertical-align: middle;\n    }\n\n    .dataframe tbody tr th {\n        vertical-align: top;\n    }\n\n    .dataframe thead th {\n        text-align: right;\n    }\n</style>\n<table border=\"1\" class=\"dataframe\">\n  <thead>\n    <tr style=\"text-align: right;\">\n      <th></th>\n      <th>CountryID</th>\n      <th>TechID</th>\n      <th>Age</th>\n      <th>TransTypeID</th>\n      <th>VehTypeID</th>\n      <th>MassCatID</th>\n      <th>EngineID</th>\n      <th>FuelID</th>\n      <th>NumVeh</th>\n    </tr>\n  </thead>\n  <tbody>\n    <tr>\n      <th>0</th>\n      <td>9</td>\n      <td>10.0</td>\n      <td>0</td>\n      <td>1.0</td>\n      <td>2.0</td>\n      <td>4.0</td>\n      <td>1.0</td>\n      <td>1.0</td>\n      <td>12955.166000</td>\n    </tr>\n    <tr>\n      <th>1</th>\n      <td>9</td>\n      <td>10.0</td>\n      <td>0</td>\n      <td>1.0</td>\n      <td>2.0</td>\n      <td>4.0</td>\n      <td>3.0</td>\n      <td>1.0</td>\n      <td>6769.358000</td>\n    </tr>\n    <tr>\n      <th>2</th>\n      <td>9</td>\n      <td>10.0</td>\n      <td>0</td>\n      <td>1.0</td>\n      <td>2.0</td>\n      <td>4.0</td>\n      <td>4.0</td>\n      <td>1.0</td>\n      <td>7352.908000</td>\n    </tr>\n    <tr>\n      <th>3</th>\n      <td>9</td>\n      <td>10.0</td>\n      <td>0</td>\n      <td>1.0</td>\n      <td>2.0</td>\n      <td>4.0</td>\n      <td>5.0</td>\n      <td>1.0</td>\n      <td>7352.908000</td>\n    </tr>\n    <tr>\n      <th>4</th>\n      <td>9</td>\n      <td>10.0</td>\n      <td>0</td>\n      <td>1.0</td>\n      <td>2.0</td>\n      <td>4.0</td>\n      <td>6.0</td>\n      <td>1.0</td>\n      <td>13538.716000</td>\n    </tr>\n    <tr>\n      <th>...</th>\n      <td>...</td>\n      <td>...</td>\n      <td>...</td>\n      <td>...</td>\n      <td>...</td>\n      <td>...</td>\n      <td>...</td>\n      <td>...</td>\n      <td>...</td>\n    </tr>\n    <tr>\n      <th>4478</th>\n      <td>9</td>\n      <td>10690.0</td>\n      <td>14</td>\n      <td>2.0</td>\n      <td>5.0</td>\n      <td>23.0</td>\n      <td>15.0</td>\n      <td>2.0</td>\n      <td>207.771875</td>\n    </tr>\n    <tr>\n      <th>4479</th>\n      <td>9</td>\n      <td>10690.0</td>\n      <td>15</td>\n      <td>2.0</td>\n      <td>5.0</td>\n      <td>23.0</td>\n      <td>15.0</td>\n      <td>2.0</td>\n      <td>69.257292</td>\n    </tr>\n    <tr>\n      <th>4480</th>\n      <td>9</td>\n      <td>10690.0</td>\n      <td>16</td>\n      <td>2.0</td>\n      <td>5.0</td>\n      <td>23.0</td>\n      <td>15.0</td>\n      <td>2.0</td>\n      <td>138.514583</td>\n    </tr>\n    <tr>\n      <th>4481</th>\n      <td>9</td>\n      <td>10690.0</td>\n      <td>21</td>\n      <td>2.0</td>\n      <td>5.0</td>\n      <td>23.0</td>\n      <td>15.0</td>\n      <td>2.0</td>\n      <td>69.257292</td>\n    </tr>\n    <tr>\n      <th>4482</th>\n      <td>9</td>\n      <td>10690.0</td>\n      <td>25</td>\n      <td>2.0</td>\n      <td>5.0</td>\n      <td>23.0</td>\n      <td>15.0</td>\n      <td>2.0</td>\n      <td>69.257292</td>\n    </tr>\n  </tbody>\n</table>\n<p>4483 rows × 9 columns</p>\n</div>"
     },
     "execution_count": 9,
     "metadata": {},
     "output_type": "execute_result"
    }
   ],
   "source": [
    "# read aemda output data - vehicle numveh\n",
    "numveh = pd.read_csv(f'./../out_data/processed/numveh95.csv')\n",
    "numveh\n"
   ]
  },
  {
   "cell_type": "code",
   "execution_count": 10,
   "id": "1b224c0f",
   "metadata": {
    "ExecuteTime": {
     "end_time": "2023-08-08T16:28:53.574065800Z",
     "start_time": "2023-08-08T16:28:53.251977800Z"
    }
   },
   "outputs": [
    {
     "data": {
      "text/plain": "    CountryID TransTypeID VehTypeID Age  TotNumVeh TotNumVeh-1  NumVehScrap\n0           9         1.0       2.0   0   66526.48    66526.48            0\n1           9         1.0       2.0   1   98006.16    98006.16            0\n2           9         1.0       2.0   2    38481.2     38481.2            0\n3           9         1.0       2.0   3   48621.12    48621.12            0\n4           9         1.0       2.0   4  201625.88   201625.88            0\n..        ...         ...       ...  ..        ...         ...          ...\n313         9         2.0       8.0   1   0.476519    0.476519            0\n314         9         2.0       8.0   2   2.059436    2.059436            0\n315         9         2.0       8.0   4    0.03156     0.03156            0\n316         9         2.0       8.0   5   1.740618    1.740618            0\n317         9         2.0       8.0   6   1.578147    1.578147            0\n\n[318 rows x 7 columns]",
      "text/html": "<div>\n<style scoped>\n    .dataframe tbody tr th:only-of-type {\n        vertical-align: middle;\n    }\n\n    .dataframe tbody tr th {\n        vertical-align: top;\n    }\n\n    .dataframe thead th {\n        text-align: right;\n    }\n</style>\n<table border=\"1\" class=\"dataframe\">\n  <thead>\n    <tr style=\"text-align: right;\">\n      <th></th>\n      <th>CountryID</th>\n      <th>TransTypeID</th>\n      <th>VehTypeID</th>\n      <th>Age</th>\n      <th>TotNumVeh</th>\n      <th>TotNumVeh-1</th>\n      <th>NumVehScrap</th>\n    </tr>\n  </thead>\n  <tbody>\n    <tr>\n      <th>0</th>\n      <td>9</td>\n      <td>1.0</td>\n      <td>2.0</td>\n      <td>0</td>\n      <td>66526.48</td>\n      <td>66526.48</td>\n      <td>0</td>\n    </tr>\n    <tr>\n      <th>1</th>\n      <td>9</td>\n      <td>1.0</td>\n      <td>2.0</td>\n      <td>1</td>\n      <td>98006.16</td>\n      <td>98006.16</td>\n      <td>0</td>\n    </tr>\n    <tr>\n      <th>2</th>\n      <td>9</td>\n      <td>1.0</td>\n      <td>2.0</td>\n      <td>2</td>\n      <td>38481.2</td>\n      <td>38481.2</td>\n      <td>0</td>\n    </tr>\n    <tr>\n      <th>3</th>\n      <td>9</td>\n      <td>1.0</td>\n      <td>2.0</td>\n      <td>3</td>\n      <td>48621.12</td>\n      <td>48621.12</td>\n      <td>0</td>\n    </tr>\n    <tr>\n      <th>4</th>\n      <td>9</td>\n      <td>1.0</td>\n      <td>2.0</td>\n      <td>4</td>\n      <td>201625.88</td>\n      <td>201625.88</td>\n      <td>0</td>\n    </tr>\n    <tr>\n      <th>...</th>\n      <td>...</td>\n      <td>...</td>\n      <td>...</td>\n      <td>...</td>\n      <td>...</td>\n      <td>...</td>\n      <td>...</td>\n    </tr>\n    <tr>\n      <th>313</th>\n      <td>9</td>\n      <td>2.0</td>\n      <td>8.0</td>\n      <td>1</td>\n      <td>0.476519</td>\n      <td>0.476519</td>\n      <td>0</td>\n    </tr>\n    <tr>\n      <th>314</th>\n      <td>9</td>\n      <td>2.0</td>\n      <td>8.0</td>\n      <td>2</td>\n      <td>2.059436</td>\n      <td>2.059436</td>\n      <td>0</td>\n    </tr>\n    <tr>\n      <th>315</th>\n      <td>9</td>\n      <td>2.0</td>\n      <td>8.0</td>\n      <td>4</td>\n      <td>0.03156</td>\n      <td>0.03156</td>\n      <td>0</td>\n    </tr>\n    <tr>\n      <th>316</th>\n      <td>9</td>\n      <td>2.0</td>\n      <td>8.0</td>\n      <td>5</td>\n      <td>1.740618</td>\n      <td>1.740618</td>\n      <td>0</td>\n    </tr>\n    <tr>\n      <th>317</th>\n      <td>9</td>\n      <td>2.0</td>\n      <td>8.0</td>\n      <td>6</td>\n      <td>1.578147</td>\n      <td>1.578147</td>\n      <td>0</td>\n    </tr>\n  </tbody>\n</table>\n<p>318 rows × 7 columns</p>\n</div>"
     },
     "execution_count": 10,
     "metadata": {},
     "output_type": "execute_result"
    }
   ],
   "source": [
    "base_year = 2015\n",
    "row_count = 0\n",
    "\n",
    "for transtype in numveh.TransTypeID.unique():\n",
    "    \n",
    "    for vehtype in numveh.VehTypeID.unique():\n",
    "            \n",
    "        if not numveh[(numveh.TransTypeID == transtype) & (numveh.VehTypeID == vehtype)].empty:\n",
    "\n",
    "            for age in numveh[(numveh.TransTypeID == transtype) & (numveh.VehTypeID == vehtype)].Age.unique():\n",
    "\n",
    "                # return total numveh of this config + age\n",
    "                total_numveh = numveh[(numveh.TransTypeID == transtype) & (numveh.VehTypeID == vehtype) & (numveh.Age == age)].NumVeh.sum()\n",
    "\n",
    "                totnumveh.at[row_count, 'CountryID'] = 9\n",
    "                totnumveh.at[row_count, 'TransTypeID'] = transtype\n",
    "                totnumveh.at[row_count, 'VehTypeID'] = vehtype\n",
    "                totnumveh.at[row_count, 'Age'] = age\n",
    "                totnumveh.at[row_count, 'TotNumVeh'] = total_numveh\n",
    "\n",
    "                row_count +=1\n",
    "\n",
    "# just fill it with zero scrap and -1 = '' for now and see what happens\n",
    "totnumveh['TotNumVeh-1'] = totnumveh['TotNumVeh']\n",
    "totnumveh['NumVehScrap'] = 0\n",
    "\n",
    "totnumveh"
   ]
  },
  {
   "cell_type": "code",
   "execution_count": 11,
   "id": "b34aeb83",
   "metadata": {
    "ExecuteTime": {
     "end_time": "2023-08-08T16:28:53.581920500Z",
     "start_time": "2023-08-08T16:28:53.574065800Z"
    }
   },
   "outputs": [
    {
     "data": {
      "text/plain": "8.0"
     },
     "execution_count": 11,
     "metadata": {},
     "output_type": "execute_result"
    }
   ],
   "source": [
    "totnumveh.VehTypeID.max()"
   ]
  },
  {
   "cell_type": "code",
   "execution_count": 12,
   "id": "070e8c8f",
   "metadata": {
    "ExecuteTime": {
     "end_time": "2023-08-08T16:28:53.589953800Z",
     "start_time": "2023-08-08T16:28:53.581920500Z"
    }
   },
   "outputs": [],
   "source": [
    "totnumveh.to_csv('./../out_data/processed/totnumveh95.csv', index=False)\n"
   ]
  },
  {
   "cell_type": "code",
   "execution_count": 13,
   "outputs": [
    {
     "data": {
      "text/plain": "Empty DataFrame\nColumns: [CountryID, TransTypeID, VehTypeID, Age, TotNumVeh, TotNumVeh-1, NumVehScrap]\nIndex: []",
      "text/html": "<div>\n<style scoped>\n    .dataframe tbody tr th:only-of-type {\n        vertical-align: middle;\n    }\n\n    .dataframe tbody tr th {\n        vertical-align: top;\n    }\n\n    .dataframe thead th {\n        text-align: right;\n    }\n</style>\n<table border=\"1\" class=\"dataframe\">\n  <thead>\n    <tr style=\"text-align: right;\">\n      <th></th>\n      <th>CountryID</th>\n      <th>TransTypeID</th>\n      <th>VehTypeID</th>\n      <th>Age</th>\n      <th>TotNumVeh</th>\n      <th>TotNumVeh-1</th>\n      <th>NumVehScrap</th>\n    </tr>\n  </thead>\n  <tbody>\n  </tbody>\n</table>\n</div>"
     },
     "execution_count": 13,
     "metadata": {},
     "output_type": "execute_result"
    }
   ],
   "source": [
    "totnumveh[totnumveh.duplicated()]"
   ],
   "metadata": {
    "collapsed": false,
    "ExecuteTime": {
     "end_time": "2023-08-08T16:30:36.751382Z",
     "start_time": "2023-08-08T16:30:36.735715700Z"
    }
   },
   "id": "5b1826e28242643"
  }
 ],
 "metadata": {
  "kernelspec": {
   "display_name": "Python 3 (ipykernel)",
   "language": "python",
   "name": "python3"
  },
  "language_info": {
   "codemirror_mode": {
    "name": "ipython",
    "version": 3
   },
   "file_extension": ".py",
   "mimetype": "text/x-python",
   "name": "python",
   "nbconvert_exporter": "python",
   "pygments_lexer": "ipython3",
   "version": "3.9.12"
  }
 },
 "nbformat": 4,
 "nbformat_minor": 5
}
