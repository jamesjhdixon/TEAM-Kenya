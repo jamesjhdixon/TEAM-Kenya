{
 "cells": [
  {
   "cell_type": "markdown",
   "id": "bca7936d",
   "metadata": {},
   "source": [
    "This notebook takes the numveh (base year vehicle numveh data) as an input and produces the totnumveh95 (base year)"
   ]
  },
  {
   "cell_type": "code",
   "execution_count": 1,
   "id": "d5ec7546",
   "metadata": {
    "ExecuteTime": {
     "end_time": "2024-01-26T11:41:39.060657600Z",
     "start_time": "2024-01-26T11:41:39.056680800Z"
    }
   },
   "outputs": [],
   "source": [
    "import pandas as pd"
   ]
  },
  {
   "cell_type": "code",
   "execution_count": 2,
   "id": "37ad4248",
   "metadata": {
    "ExecuteTime": {
     "end_time": "2024-01-26T11:41:39.076679700Z",
     "start_time": "2024-01-26T11:41:39.060657600Z"
    }
   },
   "outputs": [
    {
     "data": {
      "text/plain": "Empty DataFrame\nColumns: [CountryID, TransTypeID, VehTypeID, Age, TotNumVeh, TotNumVeh-1, NumVehScrap]\nIndex: []",
      "text/html": "<div>\n<style scoped>\n    .dataframe tbody tr th:only-of-type {\n        vertical-align: middle;\n    }\n\n    .dataframe tbody tr th {\n        vertical-align: top;\n    }\n\n    .dataframe thead th {\n        text-align: right;\n    }\n</style>\n<table border=\"1\" class=\"dataframe\">\n  <thead>\n    <tr style=\"text-align: right;\">\n      <th></th>\n      <th>CountryID</th>\n      <th>TransTypeID</th>\n      <th>VehTypeID</th>\n      <th>Age</th>\n      <th>TotNumVeh</th>\n      <th>TotNumVeh-1</th>\n      <th>NumVehScrap</th>\n    </tr>\n  </thead>\n  <tbody>\n  </tbody>\n</table>\n</div>"
     },
     "execution_count": 2,
     "metadata": {},
     "output_type": "execute_result"
    }
   ],
   "source": [
    "# make a df for totnumveh\n",
    "\n",
    "totnumveh = pd.DataFrame(columns=['CountryID', 'TransTypeID', 'VehTypeID', 'Age', 'TotNumVeh', 'TotNumVeh-1', 'NumVehScrap'])\n",
    "\n",
    "totnumveh"
   ]
  },
  {
   "cell_type": "code",
   "execution_count": 3,
   "id": "8c4b4220",
   "metadata": {
    "ExecuteTime": {
     "end_time": "2024-01-26T11:41:39.123804100Z",
     "start_time": "2024-01-26T11:41:39.076679700Z"
    }
   },
   "outputs": [
    {
     "data": {
      "text/plain": "      CountryID   TechID  Age  TransTypeID  VehTypeID  MassCatID  EngineID  \\\n0             9     10.0    0          1.0        2.0        4.0      10.0   \n1             9     10.0    1          1.0        2.0        4.0      10.0   \n2             9     10.0    2          1.0        2.0        4.0      10.0   \n3             9     10.0    3          1.0        2.0        4.0      10.0   \n4             9     10.0    4          1.0        2.0        4.0      10.0   \n...         ...      ...  ...          ...        ...        ...       ...   \n4138          9  10690.0   14          2.0        5.0       23.0      15.0   \n4139          9  10690.0   15          2.0        5.0       23.0      15.0   \n4140          9  10690.0   16          2.0        5.0       23.0      15.0   \n4141          9  10690.0   21          2.0        5.0       23.0      15.0   \n4142          9  10690.0   25          2.0        5.0       23.0      15.0   \n\n      FuelID         NumVeh  \n0        1.0   61274.572000  \n1        1.0   88740.372000  \n2        1.0   34836.824000  \n3        1.0   43911.816000  \n4        1.0  200302.196000  \n...      ...            ...  \n4138     2.0     207.771875  \n4139     2.0      69.257292  \n4140     2.0     138.514583  \n4141     2.0      69.257292  \n4142     2.0      69.257292  \n\n[4143 rows x 9 columns]",
      "text/html": "<div>\n<style scoped>\n    .dataframe tbody tr th:only-of-type {\n        vertical-align: middle;\n    }\n\n    .dataframe tbody tr th {\n        vertical-align: top;\n    }\n\n    .dataframe thead th {\n        text-align: right;\n    }\n</style>\n<table border=\"1\" class=\"dataframe\">\n  <thead>\n    <tr style=\"text-align: right;\">\n      <th></th>\n      <th>CountryID</th>\n      <th>TechID</th>\n      <th>Age</th>\n      <th>TransTypeID</th>\n      <th>VehTypeID</th>\n      <th>MassCatID</th>\n      <th>EngineID</th>\n      <th>FuelID</th>\n      <th>NumVeh</th>\n    </tr>\n  </thead>\n  <tbody>\n    <tr>\n      <th>0</th>\n      <td>9</td>\n      <td>10.0</td>\n      <td>0</td>\n      <td>1.0</td>\n      <td>2.0</td>\n      <td>4.0</td>\n      <td>10.0</td>\n      <td>1.0</td>\n      <td>61274.572000</td>\n    </tr>\n    <tr>\n      <th>1</th>\n      <td>9</td>\n      <td>10.0</td>\n      <td>1</td>\n      <td>1.0</td>\n      <td>2.0</td>\n      <td>4.0</td>\n      <td>10.0</td>\n      <td>1.0</td>\n      <td>88740.372000</td>\n    </tr>\n    <tr>\n      <th>2</th>\n      <td>9</td>\n      <td>10.0</td>\n      <td>2</td>\n      <td>1.0</td>\n      <td>2.0</td>\n      <td>4.0</td>\n      <td>10.0</td>\n      <td>1.0</td>\n      <td>34836.824000</td>\n    </tr>\n    <tr>\n      <th>3</th>\n      <td>9</td>\n      <td>10.0</td>\n      <td>3</td>\n      <td>1.0</td>\n      <td>2.0</td>\n      <td>4.0</td>\n      <td>10.0</td>\n      <td>1.0</td>\n      <td>43911.816000</td>\n    </tr>\n    <tr>\n      <th>4</th>\n      <td>9</td>\n      <td>10.0</td>\n      <td>4</td>\n      <td>1.0</td>\n      <td>2.0</td>\n      <td>4.0</td>\n      <td>10.0</td>\n      <td>1.0</td>\n      <td>200302.196000</td>\n    </tr>\n    <tr>\n      <th>...</th>\n      <td>...</td>\n      <td>...</td>\n      <td>...</td>\n      <td>...</td>\n      <td>...</td>\n      <td>...</td>\n      <td>...</td>\n      <td>...</td>\n      <td>...</td>\n    </tr>\n    <tr>\n      <th>4138</th>\n      <td>9</td>\n      <td>10690.0</td>\n      <td>14</td>\n      <td>2.0</td>\n      <td>5.0</td>\n      <td>23.0</td>\n      <td>15.0</td>\n      <td>2.0</td>\n      <td>207.771875</td>\n    </tr>\n    <tr>\n      <th>4139</th>\n      <td>9</td>\n      <td>10690.0</td>\n      <td>15</td>\n      <td>2.0</td>\n      <td>5.0</td>\n      <td>23.0</td>\n      <td>15.0</td>\n      <td>2.0</td>\n      <td>69.257292</td>\n    </tr>\n    <tr>\n      <th>4140</th>\n      <td>9</td>\n      <td>10690.0</td>\n      <td>16</td>\n      <td>2.0</td>\n      <td>5.0</td>\n      <td>23.0</td>\n      <td>15.0</td>\n      <td>2.0</td>\n      <td>138.514583</td>\n    </tr>\n    <tr>\n      <th>4141</th>\n      <td>9</td>\n      <td>10690.0</td>\n      <td>21</td>\n      <td>2.0</td>\n      <td>5.0</td>\n      <td>23.0</td>\n      <td>15.0</td>\n      <td>2.0</td>\n      <td>69.257292</td>\n    </tr>\n    <tr>\n      <th>4142</th>\n      <td>9</td>\n      <td>10690.0</td>\n      <td>25</td>\n      <td>2.0</td>\n      <td>5.0</td>\n      <td>23.0</td>\n      <td>15.0</td>\n      <td>2.0</td>\n      <td>69.257292</td>\n    </tr>\n  </tbody>\n</table>\n<p>4143 rows × 9 columns</p>\n</div>"
     },
     "execution_count": 3,
     "metadata": {},
     "output_type": "execute_result"
    }
   ],
   "source": [
    "# read aemda output data - vehicle numveh\n",
    "numveh = pd.read_csv(f'./../out_data/processed/numveh95.csv')\n",
    "numveh\n"
   ]
  },
  {
   "cell_type": "code",
   "execution_count": 4,
   "id": "1b224c0f",
   "metadata": {
    "ExecuteTime": {
     "end_time": "2024-01-26T11:41:39.404344500Z",
     "start_time": "2024-01-26T11:41:39.102283300Z"
    }
   },
   "outputs": [
    {
     "data": {
      "text/plain": "    CountryID TransTypeID VehTypeID Age  TotNumVeh TotNumVeh-1  NumVehScrap\n0           9         1.0       2.0   0   67460.38    67460.38            0\n1           9         1.0       2.0   1   98362.74    98362.74            0\n2           9         1.0       2.0   2   38617.04    38617.04            0\n3           9         1.0       2.0   3    48723.0     48723.0            0\n4           9         1.0       2.0   4  201676.82   201676.82            0\n..        ...         ...       ...  ..        ...         ...          ...\n289         9         2.0       8.0   1   0.476519    0.476519            0\n290         9         2.0       8.0   2   2.059436    2.059436            0\n291         9         2.0       8.0   4    0.03156     0.03156            0\n292         9         2.0       8.0   5   1.740618    1.740618            0\n293         9         2.0       8.0   6   1.578147    1.578147            0\n\n[294 rows x 7 columns]",
      "text/html": "<div>\n<style scoped>\n    .dataframe tbody tr th:only-of-type {\n        vertical-align: middle;\n    }\n\n    .dataframe tbody tr th {\n        vertical-align: top;\n    }\n\n    .dataframe thead th {\n        text-align: right;\n    }\n</style>\n<table border=\"1\" class=\"dataframe\">\n  <thead>\n    <tr style=\"text-align: right;\">\n      <th></th>\n      <th>CountryID</th>\n      <th>TransTypeID</th>\n      <th>VehTypeID</th>\n      <th>Age</th>\n      <th>TotNumVeh</th>\n      <th>TotNumVeh-1</th>\n      <th>NumVehScrap</th>\n    </tr>\n  </thead>\n  <tbody>\n    <tr>\n      <th>0</th>\n      <td>9</td>\n      <td>1.0</td>\n      <td>2.0</td>\n      <td>0</td>\n      <td>67460.38</td>\n      <td>67460.38</td>\n      <td>0</td>\n    </tr>\n    <tr>\n      <th>1</th>\n      <td>9</td>\n      <td>1.0</td>\n      <td>2.0</td>\n      <td>1</td>\n      <td>98362.74</td>\n      <td>98362.74</td>\n      <td>0</td>\n    </tr>\n    <tr>\n      <th>2</th>\n      <td>9</td>\n      <td>1.0</td>\n      <td>2.0</td>\n      <td>2</td>\n      <td>38617.04</td>\n      <td>38617.04</td>\n      <td>0</td>\n    </tr>\n    <tr>\n      <th>3</th>\n      <td>9</td>\n      <td>1.0</td>\n      <td>2.0</td>\n      <td>3</td>\n      <td>48723.0</td>\n      <td>48723.0</td>\n      <td>0</td>\n    </tr>\n    <tr>\n      <th>4</th>\n      <td>9</td>\n      <td>1.0</td>\n      <td>2.0</td>\n      <td>4</td>\n      <td>201676.82</td>\n      <td>201676.82</td>\n      <td>0</td>\n    </tr>\n    <tr>\n      <th>...</th>\n      <td>...</td>\n      <td>...</td>\n      <td>...</td>\n      <td>...</td>\n      <td>...</td>\n      <td>...</td>\n      <td>...</td>\n    </tr>\n    <tr>\n      <th>289</th>\n      <td>9</td>\n      <td>2.0</td>\n      <td>8.0</td>\n      <td>1</td>\n      <td>0.476519</td>\n      <td>0.476519</td>\n      <td>0</td>\n    </tr>\n    <tr>\n      <th>290</th>\n      <td>9</td>\n      <td>2.0</td>\n      <td>8.0</td>\n      <td>2</td>\n      <td>2.059436</td>\n      <td>2.059436</td>\n      <td>0</td>\n    </tr>\n    <tr>\n      <th>291</th>\n      <td>9</td>\n      <td>2.0</td>\n      <td>8.0</td>\n      <td>4</td>\n      <td>0.03156</td>\n      <td>0.03156</td>\n      <td>0</td>\n    </tr>\n    <tr>\n      <th>292</th>\n      <td>9</td>\n      <td>2.0</td>\n      <td>8.0</td>\n      <td>5</td>\n      <td>1.740618</td>\n      <td>1.740618</td>\n      <td>0</td>\n    </tr>\n    <tr>\n      <th>293</th>\n      <td>9</td>\n      <td>2.0</td>\n      <td>8.0</td>\n      <td>6</td>\n      <td>1.578147</td>\n      <td>1.578147</td>\n      <td>0</td>\n    </tr>\n  </tbody>\n</table>\n<p>294 rows × 7 columns</p>\n</div>"
     },
     "execution_count": 4,
     "metadata": {},
     "output_type": "execute_result"
    }
   ],
   "source": [
    "base_year = 2015\n",
    "row_count = 0\n",
    "\n",
    "for transtype in numveh.TransTypeID.unique():\n",
    "    \n",
    "    for vehtype in numveh.VehTypeID.unique():\n",
    "            \n",
    "        if not numveh[(numveh.TransTypeID == transtype) & (numveh.VehTypeID == vehtype)].empty:\n",
    "\n",
    "            for age in numveh[(numveh.TransTypeID == transtype) & (numveh.VehTypeID == vehtype)].Age.unique():\n",
    "\n",
    "                # return total numveh of this config + age\n",
    "                total_numveh = numveh[(numveh.TransTypeID == transtype) & (numveh.VehTypeID == vehtype) & (numveh.Age == age)].NumVeh.sum()\n",
    "\n",
    "                totnumveh.at[row_count, 'CountryID'] = 9\n",
    "                totnumveh.at[row_count, 'TransTypeID'] = transtype\n",
    "                totnumveh.at[row_count, 'VehTypeID'] = vehtype\n",
    "                totnumveh.at[row_count, 'Age'] = age\n",
    "                totnumveh.at[row_count, 'TotNumVeh'] = total_numveh\n",
    "\n",
    "                row_count +=1\n",
    "\n",
    "# just fill it with zero scrap and -1 = '' for now and see what happens\n",
    "totnumveh['TotNumVeh-1'] = totnumveh['TotNumVeh']\n",
    "totnumveh['NumVehScrap'] = 0\n",
    "\n",
    "totnumveh"
   ]
  },
  {
   "cell_type": "code",
   "execution_count": 5,
   "id": "b34aeb83",
   "metadata": {
    "ExecuteTime": {
     "end_time": "2024-01-26T11:41:39.404344500Z",
     "start_time": "2024-01-26T11:41:39.382498100Z"
    }
   },
   "outputs": [
    {
     "data": {
      "text/plain": "8.0"
     },
     "execution_count": 5,
     "metadata": {},
     "output_type": "execute_result"
    }
   ],
   "source": [
    "totnumveh.VehTypeID.max()"
   ]
  },
  {
   "cell_type": "code",
   "execution_count": 6,
   "id": "070e8c8f",
   "metadata": {
    "ExecuteTime": {
     "end_time": "2024-01-26T11:41:39.404344500Z",
     "start_time": "2024-01-26T11:41:39.387778600Z"
    }
   },
   "outputs": [],
   "source": [
    "totnumveh.to_csv('./../out_data/processed/totnumveh95.csv', index=False)\n"
   ]
  },
  {
   "cell_type": "code",
   "execution_count": 7,
   "outputs": [
    {
     "data": {
      "text/plain": "Empty DataFrame\nColumns: [CountryID, TransTypeID, VehTypeID, Age, TotNumVeh, TotNumVeh-1, NumVehScrap]\nIndex: []",
      "text/html": "<div>\n<style scoped>\n    .dataframe tbody tr th:only-of-type {\n        vertical-align: middle;\n    }\n\n    .dataframe tbody tr th {\n        vertical-align: top;\n    }\n\n    .dataframe thead th {\n        text-align: right;\n    }\n</style>\n<table border=\"1\" class=\"dataframe\">\n  <thead>\n    <tr style=\"text-align: right;\">\n      <th></th>\n      <th>CountryID</th>\n      <th>TransTypeID</th>\n      <th>VehTypeID</th>\n      <th>Age</th>\n      <th>TotNumVeh</th>\n      <th>TotNumVeh-1</th>\n      <th>NumVehScrap</th>\n    </tr>\n  </thead>\n  <tbody>\n  </tbody>\n</table>\n</div>"
     },
     "execution_count": 7,
     "metadata": {},
     "output_type": "execute_result"
    }
   ],
   "source": [
    "totnumveh[totnumveh.duplicated()]"
   ],
   "metadata": {
    "collapsed": false,
    "ExecuteTime": {
     "end_time": "2024-01-26T11:41:39.404344500Z",
     "start_time": "2024-01-26T11:41:39.396202Z"
    }
   },
   "id": "5b1826e28242643"
  }
 ],
 "metadata": {
  "kernelspec": {
   "display_name": "Python 3 (ipykernel)",
   "language": "python",
   "name": "python3"
  },
  "language_info": {
   "codemirror_mode": {
    "name": "ipython",
    "version": 3
   },
   "file_extension": ".py",
   "mimetype": "text/x-python",
   "name": "python",
   "nbconvert_exporter": "python",
   "pygments_lexer": "ipython3",
   "version": "3.9.12"
  }
 },
 "nbformat": 4,
 "nbformat_minor": 5
}
