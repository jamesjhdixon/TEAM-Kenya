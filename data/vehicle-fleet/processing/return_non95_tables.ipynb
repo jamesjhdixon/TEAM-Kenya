{
 "cells": [
  {
   "cell_type": "markdown",
   "id": "bca7936d",
   "metadata": {},
   "source": [
    "This notebook takes the established base year (XX95) tables and creates projection tables into the future. the data for years after the base year can be bogus."
   ]
  },
  {
   "cell_type": "code",
   "execution_count": 35,
   "outputs": [],
   "source": [
    "import pandas as pd\n",
    "import numpy as np"
   ],
   "metadata": {
    "collapsed": false,
    "ExecuteTime": {
     "end_time": "2023-08-08T16:29:09.402742300Z",
     "start_time": "2023-08-08T16:29:09.346045700Z"
    }
   },
   "id": "90ab19d337e52b19"
  },
  {
   "cell_type": "markdown",
   "id": "698baaac",
   "metadata": {},
   "source": [
    "<b>FOR NUMVEH</b>"
   ]
  },
  {
   "cell_type": "code",
   "execution_count": 57,
   "id": "e2750199",
   "metadata": {
    "ExecuteTime": {
     "end_time": "2023-08-08T17:17:29.391034200Z",
     "start_time": "2023-08-08T17:17:29.364378900Z"
    }
   },
   "outputs": [
    {
     "data": {
      "text/plain": "      CountryID   TechID  Age  TransTypeID  VehTypeID  MassCatID  EngineID  \\\n0             9     10.0    0          1.0        2.0        4.0      10.0   \n1             9     10.0    1          1.0        2.0        4.0      10.0   \n2             9     10.0    2          1.0        2.0        4.0      10.0   \n3             9     10.0    3          1.0        2.0        4.0      10.0   \n4             9     10.0    4          1.0        2.0        4.0      10.0   \n...         ...      ...  ...          ...        ...        ...       ...   \n4442          9  10690.0   14          2.0        5.0       23.0      15.0   \n4443          9  10690.0   15          2.0        5.0       23.0      15.0   \n4444          9  10690.0   16          2.0        5.0       23.0      15.0   \n4445          9  10690.0   21          2.0        5.0       23.0      15.0   \n4446          9  10690.0   25          2.0        5.0       23.0      15.0   \n\n      FuelID         NumVeh  \n0        1.0   47969.056000  \n1        1.0   69139.056000  \n2        1.0   27140.552000  \n3        1.0   34187.568000  \n4        1.0  197502.008000  \n...      ...            ...  \n4442     2.0     207.771875  \n4443     2.0      69.257292  \n4444     2.0     138.514583  \n4445     2.0      69.257292  \n4446     2.0      69.257292  \n\n[4447 rows x 9 columns]",
      "text/html": "<div>\n<style scoped>\n    .dataframe tbody tr th:only-of-type {\n        vertical-align: middle;\n    }\n\n    .dataframe tbody tr th {\n        vertical-align: top;\n    }\n\n    .dataframe thead th {\n        text-align: right;\n    }\n</style>\n<table border=\"1\" class=\"dataframe\">\n  <thead>\n    <tr style=\"text-align: right;\">\n      <th></th>\n      <th>CountryID</th>\n      <th>TechID</th>\n      <th>Age</th>\n      <th>TransTypeID</th>\n      <th>VehTypeID</th>\n      <th>MassCatID</th>\n      <th>EngineID</th>\n      <th>FuelID</th>\n      <th>NumVeh</th>\n    </tr>\n  </thead>\n  <tbody>\n    <tr>\n      <th>0</th>\n      <td>9</td>\n      <td>10.0</td>\n      <td>0</td>\n      <td>1.0</td>\n      <td>2.0</td>\n      <td>4.0</td>\n      <td>10.0</td>\n      <td>1.0</td>\n      <td>47969.056000</td>\n    </tr>\n    <tr>\n      <th>1</th>\n      <td>9</td>\n      <td>10.0</td>\n      <td>1</td>\n      <td>1.0</td>\n      <td>2.0</td>\n      <td>4.0</td>\n      <td>10.0</td>\n      <td>1.0</td>\n      <td>69139.056000</td>\n    </tr>\n    <tr>\n      <th>2</th>\n      <td>9</td>\n      <td>10.0</td>\n      <td>2</td>\n      <td>1.0</td>\n      <td>2.0</td>\n      <td>4.0</td>\n      <td>10.0</td>\n      <td>1.0</td>\n      <td>27140.552000</td>\n    </tr>\n    <tr>\n      <th>3</th>\n      <td>9</td>\n      <td>10.0</td>\n      <td>3</td>\n      <td>1.0</td>\n      <td>2.0</td>\n      <td>4.0</td>\n      <td>10.0</td>\n      <td>1.0</td>\n      <td>34187.568000</td>\n    </tr>\n    <tr>\n      <th>4</th>\n      <td>9</td>\n      <td>10.0</td>\n      <td>4</td>\n      <td>1.0</td>\n      <td>2.0</td>\n      <td>4.0</td>\n      <td>10.0</td>\n      <td>1.0</td>\n      <td>197502.008000</td>\n    </tr>\n    <tr>\n      <th>...</th>\n      <td>...</td>\n      <td>...</td>\n      <td>...</td>\n      <td>...</td>\n      <td>...</td>\n      <td>...</td>\n      <td>...</td>\n      <td>...</td>\n      <td>...</td>\n    </tr>\n    <tr>\n      <th>4442</th>\n      <td>9</td>\n      <td>10690.0</td>\n      <td>14</td>\n      <td>2.0</td>\n      <td>5.0</td>\n      <td>23.0</td>\n      <td>15.0</td>\n      <td>2.0</td>\n      <td>207.771875</td>\n    </tr>\n    <tr>\n      <th>4443</th>\n      <td>9</td>\n      <td>10690.0</td>\n      <td>15</td>\n      <td>2.0</td>\n      <td>5.0</td>\n      <td>23.0</td>\n      <td>15.0</td>\n      <td>2.0</td>\n      <td>69.257292</td>\n    </tr>\n    <tr>\n      <th>4444</th>\n      <td>9</td>\n      <td>10690.0</td>\n      <td>16</td>\n      <td>2.0</td>\n      <td>5.0</td>\n      <td>23.0</td>\n      <td>15.0</td>\n      <td>2.0</td>\n      <td>138.514583</td>\n    </tr>\n    <tr>\n      <th>4445</th>\n      <td>9</td>\n      <td>10690.0</td>\n      <td>21</td>\n      <td>2.0</td>\n      <td>5.0</td>\n      <td>23.0</td>\n      <td>15.0</td>\n      <td>2.0</td>\n      <td>69.257292</td>\n    </tr>\n    <tr>\n      <th>4446</th>\n      <td>9</td>\n      <td>10690.0</td>\n      <td>25</td>\n      <td>2.0</td>\n      <td>5.0</td>\n      <td>23.0</td>\n      <td>15.0</td>\n      <td>2.0</td>\n      <td>69.257292</td>\n    </tr>\n  </tbody>\n</table>\n<p>4447 rows × 9 columns</p>\n</div>"
     },
     "execution_count": 57,
     "metadata": {},
     "output_type": "execute_result"
    }
   ],
   "source": [
    "# import numveh95 table (output from AEMDA)\n",
    "numveh95 = pd.read_csv(f'./../out_data/processed/numveh95.csv')\n",
    "numveh95"
   ]
  },
  {
   "cell_type": "code",
   "execution_count": 58,
   "id": "9cdda8ca",
   "metadata": {
    "ExecuteTime": {
     "end_time": "2023-08-08T17:17:32.187393Z",
     "start_time": "2023-08-08T17:17:32.163441Z"
    }
   },
   "outputs": [
    {
     "data": {
      "text/plain": "        ScenarioID  CountryID  TechID  Year  Age  TransTypeID  VehTypeID  \\\n0              0.0        0.0     0.0   0.0  0.0          0.0        0.0   \n1              0.0        0.0     0.0   0.0  0.0          0.0        0.0   \n2              0.0        0.0     0.0   0.0  0.0          0.0        0.0   \n3              0.0        0.0     0.0   0.0  0.0          0.0        0.0   \n4              0.0        0.0     0.0   0.0  0.0          0.0        0.0   \n...            ...        ...     ...   ...  ...          ...        ...   \n173428         0.0        0.0     0.0   0.0  0.0          0.0        0.0   \n173429         0.0        0.0     0.0   0.0  0.0          0.0        0.0   \n173430         0.0        0.0     0.0   0.0  0.0          0.0        0.0   \n173431         0.0        0.0     0.0   0.0  0.0          0.0        0.0   \n173432         0.0        0.0     0.0   0.0  0.0          0.0        0.0   \n\n        MassCatID  EngineID  FuelID  NumVeh  \n0             0.0       0.0     0.0     0.0  \n1             0.0       0.0     0.0     0.0  \n2             0.0       0.0     0.0     0.0  \n3             0.0       0.0     0.0     0.0  \n4             0.0       0.0     0.0     0.0  \n...           ...       ...     ...     ...  \n173428        0.0       0.0     0.0     0.0  \n173429        0.0       0.0     0.0     0.0  \n173430        0.0       0.0     0.0     0.0  \n173431        0.0       0.0     0.0     0.0  \n173432        0.0       0.0     0.0     0.0  \n\n[173433 rows x 11 columns]",
      "text/html": "<div>\n<style scoped>\n    .dataframe tbody tr th:only-of-type {\n        vertical-align: middle;\n    }\n\n    .dataframe tbody tr th {\n        vertical-align: top;\n    }\n\n    .dataframe thead th {\n        text-align: right;\n    }\n</style>\n<table border=\"1\" class=\"dataframe\">\n  <thead>\n    <tr style=\"text-align: right;\">\n      <th></th>\n      <th>ScenarioID</th>\n      <th>CountryID</th>\n      <th>TechID</th>\n      <th>Year</th>\n      <th>Age</th>\n      <th>TransTypeID</th>\n      <th>VehTypeID</th>\n      <th>MassCatID</th>\n      <th>EngineID</th>\n      <th>FuelID</th>\n      <th>NumVeh</th>\n    </tr>\n  </thead>\n  <tbody>\n    <tr>\n      <th>0</th>\n      <td>0.0</td>\n      <td>0.0</td>\n      <td>0.0</td>\n      <td>0.0</td>\n      <td>0.0</td>\n      <td>0.0</td>\n      <td>0.0</td>\n      <td>0.0</td>\n      <td>0.0</td>\n      <td>0.0</td>\n      <td>0.0</td>\n    </tr>\n    <tr>\n      <th>1</th>\n      <td>0.0</td>\n      <td>0.0</td>\n      <td>0.0</td>\n      <td>0.0</td>\n      <td>0.0</td>\n      <td>0.0</td>\n      <td>0.0</td>\n      <td>0.0</td>\n      <td>0.0</td>\n      <td>0.0</td>\n      <td>0.0</td>\n    </tr>\n    <tr>\n      <th>2</th>\n      <td>0.0</td>\n      <td>0.0</td>\n      <td>0.0</td>\n      <td>0.0</td>\n      <td>0.0</td>\n      <td>0.0</td>\n      <td>0.0</td>\n      <td>0.0</td>\n      <td>0.0</td>\n      <td>0.0</td>\n      <td>0.0</td>\n    </tr>\n    <tr>\n      <th>3</th>\n      <td>0.0</td>\n      <td>0.0</td>\n      <td>0.0</td>\n      <td>0.0</td>\n      <td>0.0</td>\n      <td>0.0</td>\n      <td>0.0</td>\n      <td>0.0</td>\n      <td>0.0</td>\n      <td>0.0</td>\n      <td>0.0</td>\n    </tr>\n    <tr>\n      <th>4</th>\n      <td>0.0</td>\n      <td>0.0</td>\n      <td>0.0</td>\n      <td>0.0</td>\n      <td>0.0</td>\n      <td>0.0</td>\n      <td>0.0</td>\n      <td>0.0</td>\n      <td>0.0</td>\n      <td>0.0</td>\n      <td>0.0</td>\n    </tr>\n    <tr>\n      <th>...</th>\n      <td>...</td>\n      <td>...</td>\n      <td>...</td>\n      <td>...</td>\n      <td>...</td>\n      <td>...</td>\n      <td>...</td>\n      <td>...</td>\n      <td>...</td>\n      <td>...</td>\n      <td>...</td>\n    </tr>\n    <tr>\n      <th>173428</th>\n      <td>0.0</td>\n      <td>0.0</td>\n      <td>0.0</td>\n      <td>0.0</td>\n      <td>0.0</td>\n      <td>0.0</td>\n      <td>0.0</td>\n      <td>0.0</td>\n      <td>0.0</td>\n      <td>0.0</td>\n      <td>0.0</td>\n    </tr>\n    <tr>\n      <th>173429</th>\n      <td>0.0</td>\n      <td>0.0</td>\n      <td>0.0</td>\n      <td>0.0</td>\n      <td>0.0</td>\n      <td>0.0</td>\n      <td>0.0</td>\n      <td>0.0</td>\n      <td>0.0</td>\n      <td>0.0</td>\n      <td>0.0</td>\n    </tr>\n    <tr>\n      <th>173430</th>\n      <td>0.0</td>\n      <td>0.0</td>\n      <td>0.0</td>\n      <td>0.0</td>\n      <td>0.0</td>\n      <td>0.0</td>\n      <td>0.0</td>\n      <td>0.0</td>\n      <td>0.0</td>\n      <td>0.0</td>\n      <td>0.0</td>\n    </tr>\n    <tr>\n      <th>173431</th>\n      <td>0.0</td>\n      <td>0.0</td>\n      <td>0.0</td>\n      <td>0.0</td>\n      <td>0.0</td>\n      <td>0.0</td>\n      <td>0.0</td>\n      <td>0.0</td>\n      <td>0.0</td>\n      <td>0.0</td>\n      <td>0.0</td>\n    </tr>\n    <tr>\n      <th>173432</th>\n      <td>0.0</td>\n      <td>0.0</td>\n      <td>0.0</td>\n      <td>0.0</td>\n      <td>0.0</td>\n      <td>0.0</td>\n      <td>0.0</td>\n      <td>0.0</td>\n      <td>0.0</td>\n      <td>0.0</td>\n      <td>0.0</td>\n    </tr>\n  </tbody>\n</table>\n<p>173433 rows × 11 columns</p>\n</div>"
     },
     "execution_count": 58,
     "metadata": {},
     "output_type": "execute_result"
    }
   ],
   "source": [
    "# extra columns are YEAR and ScenarioID (1)\n",
    "years = range(2012,2051)\n",
    "feature_list = ['ScenarioID', 'CountryID', 'TechID', 'Year', 'Age', 'TransTypeID', 'VehTypeID', 'MassCatID', 'EngineID', 'FuelID', 'NumVeh']\n",
    "\n",
    "zero_data = np.zeros(shape=(len(years)*len(numveh95),len(feature_list)))\n",
    "\n",
    "numveh = pd.DataFrame(zero_data, columns=feature_list)\n",
    "numveh"
   ]
  },
  {
   "cell_type": "code",
   "execution_count": 59,
   "id": "e73854a2",
   "metadata": {
    "ExecuteTime": {
     "end_time": "2023-08-08T17:17:43.540487200Z",
     "start_time": "2023-08-08T17:17:43.417608100Z"
    }
   },
   "outputs": [
    {
     "data": {
      "text/plain": "        ScenarioID  CountryID  TechID  Year  Age  TransTypeID  VehTypeID  \\\n0                1          9      10  2012    0            1          2   \n1                1          9      10  2012    1            1          2   \n2                1          9      10  2012    2            1          2   \n3                1          9      10  2012    3            1          2   \n4                1          9      10  2012    4            1          2   \n...            ...        ...     ...   ...  ...          ...        ...   \n173428           1          9   10690  2050   14            2          5   \n173429           1          9   10690  2050   15            2          5   \n173430           1          9   10690  2050   16            2          5   \n173431           1          9   10690  2050   21            2          5   \n173432           1          9   10690  2050   25            2          5   \n\n        MassCatID  EngineID  FuelID      NumVeh  \n0               4        10       1   47969.056  \n1               4        10       1   69139.056  \n2               4        10       1   27140.552  \n3               4        10       1   34187.568  \n4               4        10       1  197502.008  \n...           ...       ...     ...         ...  \n173428         23        15       2       0.000  \n173429         23        15       2       0.000  \n173430         23        15       2       0.000  \n173431         23        15       2       0.000  \n173432         23        15       2       0.000  \n\n[173433 rows x 11 columns]",
      "text/html": "<div>\n<style scoped>\n    .dataframe tbody tr th:only-of-type {\n        vertical-align: middle;\n    }\n\n    .dataframe tbody tr th {\n        vertical-align: top;\n    }\n\n    .dataframe thead th {\n        text-align: right;\n    }\n</style>\n<table border=\"1\" class=\"dataframe\">\n  <thead>\n    <tr style=\"text-align: right;\">\n      <th></th>\n      <th>ScenarioID</th>\n      <th>CountryID</th>\n      <th>TechID</th>\n      <th>Year</th>\n      <th>Age</th>\n      <th>TransTypeID</th>\n      <th>VehTypeID</th>\n      <th>MassCatID</th>\n      <th>EngineID</th>\n      <th>FuelID</th>\n      <th>NumVeh</th>\n    </tr>\n  </thead>\n  <tbody>\n    <tr>\n      <th>0</th>\n      <td>1</td>\n      <td>9</td>\n      <td>10</td>\n      <td>2012</td>\n      <td>0</td>\n      <td>1</td>\n      <td>2</td>\n      <td>4</td>\n      <td>10</td>\n      <td>1</td>\n      <td>47969.056</td>\n    </tr>\n    <tr>\n      <th>1</th>\n      <td>1</td>\n      <td>9</td>\n      <td>10</td>\n      <td>2012</td>\n      <td>1</td>\n      <td>1</td>\n      <td>2</td>\n      <td>4</td>\n      <td>10</td>\n      <td>1</td>\n      <td>69139.056</td>\n    </tr>\n    <tr>\n      <th>2</th>\n      <td>1</td>\n      <td>9</td>\n      <td>10</td>\n      <td>2012</td>\n      <td>2</td>\n      <td>1</td>\n      <td>2</td>\n      <td>4</td>\n      <td>10</td>\n      <td>1</td>\n      <td>27140.552</td>\n    </tr>\n    <tr>\n      <th>3</th>\n      <td>1</td>\n      <td>9</td>\n      <td>10</td>\n      <td>2012</td>\n      <td>3</td>\n      <td>1</td>\n      <td>2</td>\n      <td>4</td>\n      <td>10</td>\n      <td>1</td>\n      <td>34187.568</td>\n    </tr>\n    <tr>\n      <th>4</th>\n      <td>1</td>\n      <td>9</td>\n      <td>10</td>\n      <td>2012</td>\n      <td>4</td>\n      <td>1</td>\n      <td>2</td>\n      <td>4</td>\n      <td>10</td>\n      <td>1</td>\n      <td>197502.008</td>\n    </tr>\n    <tr>\n      <th>...</th>\n      <td>...</td>\n      <td>...</td>\n      <td>...</td>\n      <td>...</td>\n      <td>...</td>\n      <td>...</td>\n      <td>...</td>\n      <td>...</td>\n      <td>...</td>\n      <td>...</td>\n      <td>...</td>\n    </tr>\n    <tr>\n      <th>173428</th>\n      <td>1</td>\n      <td>9</td>\n      <td>10690</td>\n      <td>2050</td>\n      <td>14</td>\n      <td>2</td>\n      <td>5</td>\n      <td>23</td>\n      <td>15</td>\n      <td>2</td>\n      <td>0.000</td>\n    </tr>\n    <tr>\n      <th>173429</th>\n      <td>1</td>\n      <td>9</td>\n      <td>10690</td>\n      <td>2050</td>\n      <td>15</td>\n      <td>2</td>\n      <td>5</td>\n      <td>23</td>\n      <td>15</td>\n      <td>2</td>\n      <td>0.000</td>\n    </tr>\n    <tr>\n      <th>173430</th>\n      <td>1</td>\n      <td>9</td>\n      <td>10690</td>\n      <td>2050</td>\n      <td>16</td>\n      <td>2</td>\n      <td>5</td>\n      <td>23</td>\n      <td>15</td>\n      <td>2</td>\n      <td>0.000</td>\n    </tr>\n    <tr>\n      <th>173431</th>\n      <td>1</td>\n      <td>9</td>\n      <td>10690</td>\n      <td>2050</td>\n      <td>21</td>\n      <td>2</td>\n      <td>5</td>\n      <td>23</td>\n      <td>15</td>\n      <td>2</td>\n      <td>0.000</td>\n    </tr>\n    <tr>\n      <th>173432</th>\n      <td>1</td>\n      <td>9</td>\n      <td>10690</td>\n      <td>2050</td>\n      <td>25</td>\n      <td>2</td>\n      <td>5</td>\n      <td>23</td>\n      <td>15</td>\n      <td>2</td>\n      <td>0.000</td>\n    </tr>\n  </tbody>\n</table>\n<p>173433 rows × 11 columns</p>\n</div>"
     },
     "execution_count": 59,
     "metadata": {},
     "output_type": "execute_result"
    }
   ],
   "source": [
    "for year in years:\n",
    "    \n",
    "    if year == 2012:\n",
    "        numveh.loc[years.index(year)*len(numveh95):(years.index(year)+1)*len(numveh95)-1, numveh95.columns] = numveh95.loc[:, numveh95.columns].values\n",
    "        numveh.loc[years.index(year)*len(numveh95):(years.index(year)+1)*len(numveh95)-1, 'Year'] = year\n",
    "    else:\n",
    "        numveh.loc[years.index(year)*len(numveh95):(years.index(year)+1)*len(numveh95)-1, [c for c in numveh95.columns if c != 'NumVeh']] = numveh95.loc[:, [c for c in numveh95.columns if c != 'NumVeh']].values\n",
    "        numveh.loc[years.index(year)*len(numveh95):(years.index(year)+1)*len(numveh95)-1, 'Year'] = year\n",
    "\n",
    "numveh = numveh.reset_index(drop=True)\n",
    "numveh['ScenarioID'] = 1\n",
    "numveh[['CountryID', 'TechID', 'Year', 'Age', 'TransTypeID', 'VehTypeID', 'MassCatID', 'EngineID', 'FuelID']] = numveh[['CountryID', 'TechID', 'Year', 'Age', 'TransTypeID', 'VehTypeID', 'MassCatID', 'EngineID', 'FuelID']].astype(int)\n",
    "numveh"
   ]
  },
  {
   "cell_type": "code",
   "execution_count": 61,
   "id": "009e006d",
   "metadata": {
    "ExecuteTime": {
     "end_time": "2023-08-08T17:18:13.446307100Z",
     "start_time": "2023-08-08T17:18:12.971364400Z"
    }
   },
   "outputs": [],
   "source": [
    "numveh.to_csv(f'./../out_data/processed/numveh.csv')"
   ]
  },
  {
   "cell_type": "code",
   "execution_count": 62,
   "outputs": [
    {
     "data": {
      "text/plain": "Empty DataFrame\nColumns: [ScenarioID, CountryID, TechID, Year, Age, TransTypeID, VehTypeID, MassCatID, EngineID, FuelID, NumVeh]\nIndex: []",
      "text/html": "<div>\n<style scoped>\n    .dataframe tbody tr th:only-of-type {\n        vertical-align: middle;\n    }\n\n    .dataframe tbody tr th {\n        vertical-align: top;\n    }\n\n    .dataframe thead th {\n        text-align: right;\n    }\n</style>\n<table border=\"1\" class=\"dataframe\">\n  <thead>\n    <tr style=\"text-align: right;\">\n      <th></th>\n      <th>ScenarioID</th>\n      <th>CountryID</th>\n      <th>TechID</th>\n      <th>Year</th>\n      <th>Age</th>\n      <th>TransTypeID</th>\n      <th>VehTypeID</th>\n      <th>MassCatID</th>\n      <th>EngineID</th>\n      <th>FuelID</th>\n      <th>NumVeh</th>\n    </tr>\n  </thead>\n  <tbody>\n  </tbody>\n</table>\n</div>"
     },
     "execution_count": 62,
     "metadata": {},
     "output_type": "execute_result"
    }
   ],
   "source": [
    "numveh[numveh.duplicated(subset=['TechID','Age','Year'])]"
   ],
   "metadata": {
    "collapsed": false,
    "ExecuteTime": {
     "end_time": "2023-08-08T17:18:15.004740800Z",
     "start_time": "2023-08-08T17:18:14.973199900Z"
    }
   },
   "id": "b1aa9ea4f4f19d10"
  },
  {
   "cell_type": "code",
   "execution_count": null,
   "outputs": [],
   "source": [
    "numveh"
   ],
   "metadata": {
    "collapsed": false
   },
   "id": "8da44b3bbe184ffe"
  },
  {
   "cell_type": "markdown",
   "id": "8a479556",
   "metadata": {},
   "source": [
    "<b>FOR NEWVEH</b>"
   ]
  },
  {
   "cell_type": "code",
   "execution_count": 63,
   "id": "140fb0af",
   "metadata": {
    "ExecuteTime": {
     "end_time": "2023-08-08T17:18:33.353716100Z",
     "start_time": "2023-08-08T17:18:33.337719900Z"
    }
   },
   "outputs": [
    {
     "data": {
      "text/plain": "    CountryID  TransTypeID  VehTypeID  MassCatID      NumNewVeh\n0           9          1.0        2.0        4.0  139420.000000\n1           9          1.0        3.0        1.0   45798.337461\n2           9          1.0        3.0        2.0   11977.280043\n3           9          1.0        3.0        3.0    1763.104648\n4           9          1.0        4.0       11.0    2172.372116\n5           9          1.0        4.0       12.0    2172.372116\n6           9          1.0        4.0       13.0     436.255768\n7           9          1.0        6.0       31.0       3.150600\n8           9          1.0        6.0       32.0      17.304700\n9           9          1.0        6.0       33.0       1.820150\n10          9          1.0        6.0       34.0       0.000000\n11          9          1.0        8.0       41.0       0.157711\n12          9          1.0        8.0       42.0       1.439874\n13          9          1.0        8.0       43.0       1.466184\n14          9          1.0        8.0       44.0       0.465685\n15          9          1.0        8.0       45.0       0.000000\n16          9          2.0        3.0       11.0    4667.094342\n17          9          2.0        3.0       21.0    4283.183505\n18          9          2.0        5.0       11.0    3629.949884\n19          9          2.0        5.0       21.0    7259.899767\n20          9          2.0        5.0       22.0   12229.277068\n21          9          2.0        5.0       23.0    4543.873281\n22          9          2.0        6.0       32.0       2.478000\n23          9          2.0        7.0       51.0       1.370166\n24          9          2.0        7.0       52.0       0.648814\n25          9          2.0        8.0       42.0       0.073854\n26          9          2.0        8.0       43.0       0.225357\n27          9          2.0        8.0       44.0       0.075122",
      "text/html": "<div>\n<style scoped>\n    .dataframe tbody tr th:only-of-type {\n        vertical-align: middle;\n    }\n\n    .dataframe tbody tr th {\n        vertical-align: top;\n    }\n\n    .dataframe thead th {\n        text-align: right;\n    }\n</style>\n<table border=\"1\" class=\"dataframe\">\n  <thead>\n    <tr style=\"text-align: right;\">\n      <th></th>\n      <th>CountryID</th>\n      <th>TransTypeID</th>\n      <th>VehTypeID</th>\n      <th>MassCatID</th>\n      <th>NumNewVeh</th>\n    </tr>\n  </thead>\n  <tbody>\n    <tr>\n      <th>0</th>\n      <td>9</td>\n      <td>1.0</td>\n      <td>2.0</td>\n      <td>4.0</td>\n      <td>139420.000000</td>\n    </tr>\n    <tr>\n      <th>1</th>\n      <td>9</td>\n      <td>1.0</td>\n      <td>3.0</td>\n      <td>1.0</td>\n      <td>45798.337461</td>\n    </tr>\n    <tr>\n      <th>2</th>\n      <td>9</td>\n      <td>1.0</td>\n      <td>3.0</td>\n      <td>2.0</td>\n      <td>11977.280043</td>\n    </tr>\n    <tr>\n      <th>3</th>\n      <td>9</td>\n      <td>1.0</td>\n      <td>3.0</td>\n      <td>3.0</td>\n      <td>1763.104648</td>\n    </tr>\n    <tr>\n      <th>4</th>\n      <td>9</td>\n      <td>1.0</td>\n      <td>4.0</td>\n      <td>11.0</td>\n      <td>2172.372116</td>\n    </tr>\n    <tr>\n      <th>5</th>\n      <td>9</td>\n      <td>1.0</td>\n      <td>4.0</td>\n      <td>12.0</td>\n      <td>2172.372116</td>\n    </tr>\n    <tr>\n      <th>6</th>\n      <td>9</td>\n      <td>1.0</td>\n      <td>4.0</td>\n      <td>13.0</td>\n      <td>436.255768</td>\n    </tr>\n    <tr>\n      <th>7</th>\n      <td>9</td>\n      <td>1.0</td>\n      <td>6.0</td>\n      <td>31.0</td>\n      <td>3.150600</td>\n    </tr>\n    <tr>\n      <th>8</th>\n      <td>9</td>\n      <td>1.0</td>\n      <td>6.0</td>\n      <td>32.0</td>\n      <td>17.304700</td>\n    </tr>\n    <tr>\n      <th>9</th>\n      <td>9</td>\n      <td>1.0</td>\n      <td>6.0</td>\n      <td>33.0</td>\n      <td>1.820150</td>\n    </tr>\n    <tr>\n      <th>10</th>\n      <td>9</td>\n      <td>1.0</td>\n      <td>6.0</td>\n      <td>34.0</td>\n      <td>0.000000</td>\n    </tr>\n    <tr>\n      <th>11</th>\n      <td>9</td>\n      <td>1.0</td>\n      <td>8.0</td>\n      <td>41.0</td>\n      <td>0.157711</td>\n    </tr>\n    <tr>\n      <th>12</th>\n      <td>9</td>\n      <td>1.0</td>\n      <td>8.0</td>\n      <td>42.0</td>\n      <td>1.439874</td>\n    </tr>\n    <tr>\n      <th>13</th>\n      <td>9</td>\n      <td>1.0</td>\n      <td>8.0</td>\n      <td>43.0</td>\n      <td>1.466184</td>\n    </tr>\n    <tr>\n      <th>14</th>\n      <td>9</td>\n      <td>1.0</td>\n      <td>8.0</td>\n      <td>44.0</td>\n      <td>0.465685</td>\n    </tr>\n    <tr>\n      <th>15</th>\n      <td>9</td>\n      <td>1.0</td>\n      <td>8.0</td>\n      <td>45.0</td>\n      <td>0.000000</td>\n    </tr>\n    <tr>\n      <th>16</th>\n      <td>9</td>\n      <td>2.0</td>\n      <td>3.0</td>\n      <td>11.0</td>\n      <td>4667.094342</td>\n    </tr>\n    <tr>\n      <th>17</th>\n      <td>9</td>\n      <td>2.0</td>\n      <td>3.0</td>\n      <td>21.0</td>\n      <td>4283.183505</td>\n    </tr>\n    <tr>\n      <th>18</th>\n      <td>9</td>\n      <td>2.0</td>\n      <td>5.0</td>\n      <td>11.0</td>\n      <td>3629.949884</td>\n    </tr>\n    <tr>\n      <th>19</th>\n      <td>9</td>\n      <td>2.0</td>\n      <td>5.0</td>\n      <td>21.0</td>\n      <td>7259.899767</td>\n    </tr>\n    <tr>\n      <th>20</th>\n      <td>9</td>\n      <td>2.0</td>\n      <td>5.0</td>\n      <td>22.0</td>\n      <td>12229.277068</td>\n    </tr>\n    <tr>\n      <th>21</th>\n      <td>9</td>\n      <td>2.0</td>\n      <td>5.0</td>\n      <td>23.0</td>\n      <td>4543.873281</td>\n    </tr>\n    <tr>\n      <th>22</th>\n      <td>9</td>\n      <td>2.0</td>\n      <td>6.0</td>\n      <td>32.0</td>\n      <td>2.478000</td>\n    </tr>\n    <tr>\n      <th>23</th>\n      <td>9</td>\n      <td>2.0</td>\n      <td>7.0</td>\n      <td>51.0</td>\n      <td>1.370166</td>\n    </tr>\n    <tr>\n      <th>24</th>\n      <td>9</td>\n      <td>2.0</td>\n      <td>7.0</td>\n      <td>52.0</td>\n      <td>0.648814</td>\n    </tr>\n    <tr>\n      <th>25</th>\n      <td>9</td>\n      <td>2.0</td>\n      <td>8.0</td>\n      <td>42.0</td>\n      <td>0.073854</td>\n    </tr>\n    <tr>\n      <th>26</th>\n      <td>9</td>\n      <td>2.0</td>\n      <td>8.0</td>\n      <td>43.0</td>\n      <td>0.225357</td>\n    </tr>\n    <tr>\n      <th>27</th>\n      <td>9</td>\n      <td>2.0</td>\n      <td>8.0</td>\n      <td>44.0</td>\n      <td>0.075122</td>\n    </tr>\n  </tbody>\n</table>\n</div>"
     },
     "execution_count": 63,
     "metadata": {},
     "output_type": "execute_result"
    }
   ],
   "source": [
    "# import newveh95 table\n",
    "newveh95 = pd.read_csv(f'./../out_data/processed/newveh95.csv')\n",
    "newveh95"
   ]
  },
  {
   "cell_type": "code",
   "execution_count": 64,
   "id": "2a055310",
   "metadata": {
    "ExecuteTime": {
     "end_time": "2023-08-08T17:18:35.607050Z",
     "start_time": "2023-08-08T17:18:35.579134800Z"
    }
   },
   "outputs": [
    {
     "data": {
      "text/plain": "      PolicyID  ScenarioID  CountryID  Year  TransTypeID  VehTypeID  \\\n0          0.0         0.0        0.0   0.0          0.0        0.0   \n1          0.0         0.0        0.0   0.0          0.0        0.0   \n2          0.0         0.0        0.0   0.0          0.0        0.0   \n3          0.0         0.0        0.0   0.0          0.0        0.0   \n4          0.0         0.0        0.0   0.0          0.0        0.0   \n...        ...         ...        ...   ...          ...        ...   \n1087       0.0         0.0        0.0   0.0          0.0        0.0   \n1088       0.0         0.0        0.0   0.0          0.0        0.0   \n1089       0.0         0.0        0.0   0.0          0.0        0.0   \n1090       0.0         0.0        0.0   0.0          0.0        0.0   \n1091       0.0         0.0        0.0   0.0          0.0        0.0   \n\n      MassCatID  NumNewVeh  \n0           0.0        0.0  \n1           0.0        0.0  \n2           0.0        0.0  \n3           0.0        0.0  \n4           0.0        0.0  \n...         ...        ...  \n1087        0.0        0.0  \n1088        0.0        0.0  \n1089        0.0        0.0  \n1090        0.0        0.0  \n1091        0.0        0.0  \n\n[1092 rows x 8 columns]",
      "text/html": "<div>\n<style scoped>\n    .dataframe tbody tr th:only-of-type {\n        vertical-align: middle;\n    }\n\n    .dataframe tbody tr th {\n        vertical-align: top;\n    }\n\n    .dataframe thead th {\n        text-align: right;\n    }\n</style>\n<table border=\"1\" class=\"dataframe\">\n  <thead>\n    <tr style=\"text-align: right;\">\n      <th></th>\n      <th>PolicyID</th>\n      <th>ScenarioID</th>\n      <th>CountryID</th>\n      <th>Year</th>\n      <th>TransTypeID</th>\n      <th>VehTypeID</th>\n      <th>MassCatID</th>\n      <th>NumNewVeh</th>\n    </tr>\n  </thead>\n  <tbody>\n    <tr>\n      <th>0</th>\n      <td>0.0</td>\n      <td>0.0</td>\n      <td>0.0</td>\n      <td>0.0</td>\n      <td>0.0</td>\n      <td>0.0</td>\n      <td>0.0</td>\n      <td>0.0</td>\n    </tr>\n    <tr>\n      <th>1</th>\n      <td>0.0</td>\n      <td>0.0</td>\n      <td>0.0</td>\n      <td>0.0</td>\n      <td>0.0</td>\n      <td>0.0</td>\n      <td>0.0</td>\n      <td>0.0</td>\n    </tr>\n    <tr>\n      <th>2</th>\n      <td>0.0</td>\n      <td>0.0</td>\n      <td>0.0</td>\n      <td>0.0</td>\n      <td>0.0</td>\n      <td>0.0</td>\n      <td>0.0</td>\n      <td>0.0</td>\n    </tr>\n    <tr>\n      <th>3</th>\n      <td>0.0</td>\n      <td>0.0</td>\n      <td>0.0</td>\n      <td>0.0</td>\n      <td>0.0</td>\n      <td>0.0</td>\n      <td>0.0</td>\n      <td>0.0</td>\n    </tr>\n    <tr>\n      <th>4</th>\n      <td>0.0</td>\n      <td>0.0</td>\n      <td>0.0</td>\n      <td>0.0</td>\n      <td>0.0</td>\n      <td>0.0</td>\n      <td>0.0</td>\n      <td>0.0</td>\n    </tr>\n    <tr>\n      <th>...</th>\n      <td>...</td>\n      <td>...</td>\n      <td>...</td>\n      <td>...</td>\n      <td>...</td>\n      <td>...</td>\n      <td>...</td>\n      <td>...</td>\n    </tr>\n    <tr>\n      <th>1087</th>\n      <td>0.0</td>\n      <td>0.0</td>\n      <td>0.0</td>\n      <td>0.0</td>\n      <td>0.0</td>\n      <td>0.0</td>\n      <td>0.0</td>\n      <td>0.0</td>\n    </tr>\n    <tr>\n      <th>1088</th>\n      <td>0.0</td>\n      <td>0.0</td>\n      <td>0.0</td>\n      <td>0.0</td>\n      <td>0.0</td>\n      <td>0.0</td>\n      <td>0.0</td>\n      <td>0.0</td>\n    </tr>\n    <tr>\n      <th>1089</th>\n      <td>0.0</td>\n      <td>0.0</td>\n      <td>0.0</td>\n      <td>0.0</td>\n      <td>0.0</td>\n      <td>0.0</td>\n      <td>0.0</td>\n      <td>0.0</td>\n    </tr>\n    <tr>\n      <th>1090</th>\n      <td>0.0</td>\n      <td>0.0</td>\n      <td>0.0</td>\n      <td>0.0</td>\n      <td>0.0</td>\n      <td>0.0</td>\n      <td>0.0</td>\n      <td>0.0</td>\n    </tr>\n    <tr>\n      <th>1091</th>\n      <td>0.0</td>\n      <td>0.0</td>\n      <td>0.0</td>\n      <td>0.0</td>\n      <td>0.0</td>\n      <td>0.0</td>\n      <td>0.0</td>\n      <td>0.0</td>\n    </tr>\n  </tbody>\n</table>\n<p>1092 rows × 8 columns</p>\n</div>"
     },
     "execution_count": 64,
     "metadata": {},
     "output_type": "execute_result"
    }
   ],
   "source": [
    "# other columns = policyID (all 0), scenarioID (all 1), year\n",
    "years = range(2012,2051)\n",
    "feature_list = ['PolicyID', 'ScenarioID', 'CountryID', 'Year', 'TransTypeID', 'VehTypeID', 'MassCatID', 'NumNewVeh']\n",
    "\n",
    "zero_data = np.zeros(shape=(len(years)*len(newveh95),len(feature_list)))\n",
    "\n",
    "newveh = pd.DataFrame(zero_data, columns=feature_list)\n",
    "newveh"
   ]
  },
  {
   "cell_type": "code",
   "execution_count": 65,
   "id": "0db3e401",
   "metadata": {
    "ExecuteTime": {
     "end_time": "2023-08-08T17:18:39.542095400Z",
     "start_time": "2023-08-08T17:18:39.506488500Z"
    }
   },
   "outputs": [
    {
     "data": {
      "text/plain": "      PolicyID  ScenarioID  CountryID  Year  TransTypeID  VehTypeID  \\\n0            0           1          9  2012            1          2   \n1            0           1          9  2012            1          3   \n2            0           1          9  2012            1          3   \n3            0           1          9  2012            1          3   \n4            0           1          9  2012            1          4   \n...        ...         ...        ...   ...          ...        ...   \n1087         0           1          9  2050            2          7   \n1088         0           1          9  2050            2          7   \n1089         0           1          9  2050            2          8   \n1090         0           1          9  2050            2          8   \n1091         0           1          9  2050            2          8   \n\n      MassCatID      NumNewVeh  \n0             4  139420.000000  \n1             1   45798.337461  \n2             2   11977.280043  \n3             3    1763.104648  \n4            11    2172.372116  \n...         ...            ...  \n1087         51       0.000000  \n1088         52       0.000000  \n1089         42       0.000000  \n1090         43       0.000000  \n1091         44       0.000000  \n\n[1092 rows x 8 columns]",
      "text/html": "<div>\n<style scoped>\n    .dataframe tbody tr th:only-of-type {\n        vertical-align: middle;\n    }\n\n    .dataframe tbody tr th {\n        vertical-align: top;\n    }\n\n    .dataframe thead th {\n        text-align: right;\n    }\n</style>\n<table border=\"1\" class=\"dataframe\">\n  <thead>\n    <tr style=\"text-align: right;\">\n      <th></th>\n      <th>PolicyID</th>\n      <th>ScenarioID</th>\n      <th>CountryID</th>\n      <th>Year</th>\n      <th>TransTypeID</th>\n      <th>VehTypeID</th>\n      <th>MassCatID</th>\n      <th>NumNewVeh</th>\n    </tr>\n  </thead>\n  <tbody>\n    <tr>\n      <th>0</th>\n      <td>0</td>\n      <td>1</td>\n      <td>9</td>\n      <td>2012</td>\n      <td>1</td>\n      <td>2</td>\n      <td>4</td>\n      <td>139420.000000</td>\n    </tr>\n    <tr>\n      <th>1</th>\n      <td>0</td>\n      <td>1</td>\n      <td>9</td>\n      <td>2012</td>\n      <td>1</td>\n      <td>3</td>\n      <td>1</td>\n      <td>45798.337461</td>\n    </tr>\n    <tr>\n      <th>2</th>\n      <td>0</td>\n      <td>1</td>\n      <td>9</td>\n      <td>2012</td>\n      <td>1</td>\n      <td>3</td>\n      <td>2</td>\n      <td>11977.280043</td>\n    </tr>\n    <tr>\n      <th>3</th>\n      <td>0</td>\n      <td>1</td>\n      <td>9</td>\n      <td>2012</td>\n      <td>1</td>\n      <td>3</td>\n      <td>3</td>\n      <td>1763.104648</td>\n    </tr>\n    <tr>\n      <th>4</th>\n      <td>0</td>\n      <td>1</td>\n      <td>9</td>\n      <td>2012</td>\n      <td>1</td>\n      <td>4</td>\n      <td>11</td>\n      <td>2172.372116</td>\n    </tr>\n    <tr>\n      <th>...</th>\n      <td>...</td>\n      <td>...</td>\n      <td>...</td>\n      <td>...</td>\n      <td>...</td>\n      <td>...</td>\n      <td>...</td>\n      <td>...</td>\n    </tr>\n    <tr>\n      <th>1087</th>\n      <td>0</td>\n      <td>1</td>\n      <td>9</td>\n      <td>2050</td>\n      <td>2</td>\n      <td>7</td>\n      <td>51</td>\n      <td>0.000000</td>\n    </tr>\n    <tr>\n      <th>1088</th>\n      <td>0</td>\n      <td>1</td>\n      <td>9</td>\n      <td>2050</td>\n      <td>2</td>\n      <td>7</td>\n      <td>52</td>\n      <td>0.000000</td>\n    </tr>\n    <tr>\n      <th>1089</th>\n      <td>0</td>\n      <td>1</td>\n      <td>9</td>\n      <td>2050</td>\n      <td>2</td>\n      <td>8</td>\n      <td>42</td>\n      <td>0.000000</td>\n    </tr>\n    <tr>\n      <th>1090</th>\n      <td>0</td>\n      <td>1</td>\n      <td>9</td>\n      <td>2050</td>\n      <td>2</td>\n      <td>8</td>\n      <td>43</td>\n      <td>0.000000</td>\n    </tr>\n    <tr>\n      <th>1091</th>\n      <td>0</td>\n      <td>1</td>\n      <td>9</td>\n      <td>2050</td>\n      <td>2</td>\n      <td>8</td>\n      <td>44</td>\n      <td>0.000000</td>\n    </tr>\n  </tbody>\n</table>\n<p>1092 rows × 8 columns</p>\n</div>"
     },
     "execution_count": 65,
     "metadata": {},
     "output_type": "execute_result"
    }
   ],
   "source": [
    "for year in years:\n",
    "    \n",
    "    if year == 2012:\n",
    "        newveh.loc[years.index(year)*len(newveh95):(years.index(year)+1)*len(newveh95)-1, newveh95.columns] = newveh95.loc[:, newveh95.columns].values\n",
    "        newveh.loc[years.index(year)*len(newveh95):(years.index(year)+1)*len(newveh95)-1, 'Year'] = year\n",
    "    else:\n",
    "        newveh.loc[years.index(year)*len(newveh95):(years.index(year)+1)*len(newveh95)-1, [c for c in newveh95.columns if c != 'NumNewVeh']] = newveh95.loc[:, [c for c in newveh95.columns if c != 'NumNewVeh']].values\n",
    "        newveh.loc[years.index(year)*len(newveh95):(years.index(year)+1)*len(newveh95)-1, 'Year'] = year\n",
    "\n",
    "newveh = newveh.reset_index(drop=True)\n",
    "newveh['ScenarioID'] = 1\n",
    "newveh['PolicyID'] = 0\n",
    "newveh[['CountryID', 'Year', 'TransTypeID', 'VehTypeID', 'MassCatID']] = newveh[['CountryID', 'Year', 'TransTypeID', 'VehTypeID', 'MassCatID']].astype(int)\n",
    "newveh"
   ]
  },
  {
   "cell_type": "code",
   "execution_count": 66,
   "id": "bec03e60",
   "metadata": {
    "ExecuteTime": {
     "end_time": "2023-08-08T17:18:45.141198100Z",
     "start_time": "2023-08-08T17:18:45.099210100Z"
    }
   },
   "outputs": [],
   "source": [
    "newveh.to_csv('./../out_data/processed/newveh.csv', index=False)"
   ]
  },
  {
   "cell_type": "code",
   "execution_count": 68,
   "outputs": [
    {
     "data": {
      "text/plain": "Empty DataFrame\nColumns: [PolicyID, ScenarioID, CountryID, Year, TransTypeID, VehTypeID, MassCatID, NumNewVeh]\nIndex: []",
      "text/html": "<div>\n<style scoped>\n    .dataframe tbody tr th:only-of-type {\n        vertical-align: middle;\n    }\n\n    .dataframe tbody tr th {\n        vertical-align: top;\n    }\n\n    .dataframe thead th {\n        text-align: right;\n    }\n</style>\n<table border=\"1\" class=\"dataframe\">\n  <thead>\n    <tr style=\"text-align: right;\">\n      <th></th>\n      <th>PolicyID</th>\n      <th>ScenarioID</th>\n      <th>CountryID</th>\n      <th>Year</th>\n      <th>TransTypeID</th>\n      <th>VehTypeID</th>\n      <th>MassCatID</th>\n      <th>NumNewVeh</th>\n    </tr>\n  </thead>\n  <tbody>\n  </tbody>\n</table>\n</div>"
     },
     "execution_count": 68,
     "metadata": {},
     "output_type": "execute_result"
    }
   ],
   "source": [
    "newveh[newveh.duplicated(subset=['TransTypeID','VehTypeID','MassCatID','Year'])]"
   ],
   "metadata": {
    "collapsed": false,
    "ExecuteTime": {
     "end_time": "2023-08-08T17:19:37.032235100Z",
     "start_time": "2023-08-08T17:19:37.012948200Z"
    }
   },
   "id": "149adc57a7f01ecd"
  },
  {
   "cell_type": "markdown",
   "id": "6699a895",
   "metadata": {},
   "source": [
    "<b>FOR TOTNUMVEH</b>"
   ]
  },
  {
   "cell_type": "code",
   "execution_count": 69,
   "id": "91d8533c",
   "metadata": {
    "ExecuteTime": {
     "end_time": "2023-08-08T17:19:42.966028200Z",
     "start_time": "2023-08-08T17:19:42.934195900Z"
    }
   },
   "outputs": [
    {
     "data": {
      "text/plain": "     CountryID  TransTypeID  VehTypeID  Age      TotNumVeh    TotNumVeh-1  \\\n0            9          1.0        2.0    0   66526.480000   66526.480000   \n1            9          1.0        2.0    1   98006.160000   98006.160000   \n2            9          1.0        2.0    2   38481.200000   38481.200000   \n3            9          1.0        2.0    3   48621.120000   48621.120000   \n4            9          1.0        2.0    4  201625.880000  201625.880000   \n..         ...          ...        ...  ...            ...            ...   \n313          9          2.0        8.0    1       0.476519       0.476519   \n314          9          2.0        8.0    2       2.059436       2.059436   \n315          9          2.0        8.0    4       0.031560       0.031560   \n316          9          2.0        8.0    5       1.740618       1.740618   \n317          9          2.0        8.0    6       1.578147       1.578147   \n\n     NumVehScrap  \n0              0  \n1              0  \n2              0  \n3              0  \n4              0  \n..           ...  \n313            0  \n314            0  \n315            0  \n316            0  \n317            0  \n\n[318 rows x 7 columns]",
      "text/html": "<div>\n<style scoped>\n    .dataframe tbody tr th:only-of-type {\n        vertical-align: middle;\n    }\n\n    .dataframe tbody tr th {\n        vertical-align: top;\n    }\n\n    .dataframe thead th {\n        text-align: right;\n    }\n</style>\n<table border=\"1\" class=\"dataframe\">\n  <thead>\n    <tr style=\"text-align: right;\">\n      <th></th>\n      <th>CountryID</th>\n      <th>TransTypeID</th>\n      <th>VehTypeID</th>\n      <th>Age</th>\n      <th>TotNumVeh</th>\n      <th>TotNumVeh-1</th>\n      <th>NumVehScrap</th>\n    </tr>\n  </thead>\n  <tbody>\n    <tr>\n      <th>0</th>\n      <td>9</td>\n      <td>1.0</td>\n      <td>2.0</td>\n      <td>0</td>\n      <td>66526.480000</td>\n      <td>66526.480000</td>\n      <td>0</td>\n    </tr>\n    <tr>\n      <th>1</th>\n      <td>9</td>\n      <td>1.0</td>\n      <td>2.0</td>\n      <td>1</td>\n      <td>98006.160000</td>\n      <td>98006.160000</td>\n      <td>0</td>\n    </tr>\n    <tr>\n      <th>2</th>\n      <td>9</td>\n      <td>1.0</td>\n      <td>2.0</td>\n      <td>2</td>\n      <td>38481.200000</td>\n      <td>38481.200000</td>\n      <td>0</td>\n    </tr>\n    <tr>\n      <th>3</th>\n      <td>9</td>\n      <td>1.0</td>\n      <td>2.0</td>\n      <td>3</td>\n      <td>48621.120000</td>\n      <td>48621.120000</td>\n      <td>0</td>\n    </tr>\n    <tr>\n      <th>4</th>\n      <td>9</td>\n      <td>1.0</td>\n      <td>2.0</td>\n      <td>4</td>\n      <td>201625.880000</td>\n      <td>201625.880000</td>\n      <td>0</td>\n    </tr>\n    <tr>\n      <th>...</th>\n      <td>...</td>\n      <td>...</td>\n      <td>...</td>\n      <td>...</td>\n      <td>...</td>\n      <td>...</td>\n      <td>...</td>\n    </tr>\n    <tr>\n      <th>313</th>\n      <td>9</td>\n      <td>2.0</td>\n      <td>8.0</td>\n      <td>1</td>\n      <td>0.476519</td>\n      <td>0.476519</td>\n      <td>0</td>\n    </tr>\n    <tr>\n      <th>314</th>\n      <td>9</td>\n      <td>2.0</td>\n      <td>8.0</td>\n      <td>2</td>\n      <td>2.059436</td>\n      <td>2.059436</td>\n      <td>0</td>\n    </tr>\n    <tr>\n      <th>315</th>\n      <td>9</td>\n      <td>2.0</td>\n      <td>8.0</td>\n      <td>4</td>\n      <td>0.031560</td>\n      <td>0.031560</td>\n      <td>0</td>\n    </tr>\n    <tr>\n      <th>316</th>\n      <td>9</td>\n      <td>2.0</td>\n      <td>8.0</td>\n      <td>5</td>\n      <td>1.740618</td>\n      <td>1.740618</td>\n      <td>0</td>\n    </tr>\n    <tr>\n      <th>317</th>\n      <td>9</td>\n      <td>2.0</td>\n      <td>8.0</td>\n      <td>6</td>\n      <td>1.578147</td>\n      <td>1.578147</td>\n      <td>0</td>\n    </tr>\n  </tbody>\n</table>\n<p>318 rows × 7 columns</p>\n</div>"
     },
     "execution_count": 69,
     "metadata": {},
     "output_type": "execute_result"
    }
   ],
   "source": [
    "# import totnumveh95 table\n",
    "totnumveh95 = pd.read_csv(f'./../out_data/processed/totnumveh95.csv')\n",
    "totnumveh95"
   ]
  },
  {
   "cell_type": "code",
   "execution_count": 70,
   "id": "93fab282",
   "metadata": {
    "ExecuteTime": {
     "end_time": "2023-08-08T17:19:45.076556Z",
     "start_time": "2023-08-08T17:19:45.045181Z"
    }
   },
   "outputs": [
    {
     "data": {
      "text/plain": "       ScenarioID  CountryID  PolicyID  Year  TransTypeID  VehTypeID  Age  \\\n0             0.0        0.0       0.0   0.0          0.0        0.0  0.0   \n1             0.0        0.0       0.0   0.0          0.0        0.0  0.0   \n2             0.0        0.0       0.0   0.0          0.0        0.0  0.0   \n3             0.0        0.0       0.0   0.0          0.0        0.0  0.0   \n4             0.0        0.0       0.0   0.0          0.0        0.0  0.0   \n...           ...        ...       ...   ...          ...        ...  ...   \n12397         0.0        0.0       0.0   0.0          0.0        0.0  0.0   \n12398         0.0        0.0       0.0   0.0          0.0        0.0  0.0   \n12399         0.0        0.0       0.0   0.0          0.0        0.0  0.0   \n12400         0.0        0.0       0.0   0.0          0.0        0.0  0.0   \n12401         0.0        0.0       0.0   0.0          0.0        0.0  0.0   \n\n       TotNumVeh  NumVehScrap  \n0            0.0          0.0  \n1            0.0          0.0  \n2            0.0          0.0  \n3            0.0          0.0  \n4            0.0          0.0  \n...          ...          ...  \n12397        0.0          0.0  \n12398        0.0          0.0  \n12399        0.0          0.0  \n12400        0.0          0.0  \n12401        0.0          0.0  \n\n[12402 rows x 9 columns]",
      "text/html": "<div>\n<style scoped>\n    .dataframe tbody tr th:only-of-type {\n        vertical-align: middle;\n    }\n\n    .dataframe tbody tr th {\n        vertical-align: top;\n    }\n\n    .dataframe thead th {\n        text-align: right;\n    }\n</style>\n<table border=\"1\" class=\"dataframe\">\n  <thead>\n    <tr style=\"text-align: right;\">\n      <th></th>\n      <th>ScenarioID</th>\n      <th>CountryID</th>\n      <th>PolicyID</th>\n      <th>Year</th>\n      <th>TransTypeID</th>\n      <th>VehTypeID</th>\n      <th>Age</th>\n      <th>TotNumVeh</th>\n      <th>NumVehScrap</th>\n    </tr>\n  </thead>\n  <tbody>\n    <tr>\n      <th>0</th>\n      <td>0.0</td>\n      <td>0.0</td>\n      <td>0.0</td>\n      <td>0.0</td>\n      <td>0.0</td>\n      <td>0.0</td>\n      <td>0.0</td>\n      <td>0.0</td>\n      <td>0.0</td>\n    </tr>\n    <tr>\n      <th>1</th>\n      <td>0.0</td>\n      <td>0.0</td>\n      <td>0.0</td>\n      <td>0.0</td>\n      <td>0.0</td>\n      <td>0.0</td>\n      <td>0.0</td>\n      <td>0.0</td>\n      <td>0.0</td>\n    </tr>\n    <tr>\n      <th>2</th>\n      <td>0.0</td>\n      <td>0.0</td>\n      <td>0.0</td>\n      <td>0.0</td>\n      <td>0.0</td>\n      <td>0.0</td>\n      <td>0.0</td>\n      <td>0.0</td>\n      <td>0.0</td>\n    </tr>\n    <tr>\n      <th>3</th>\n      <td>0.0</td>\n      <td>0.0</td>\n      <td>0.0</td>\n      <td>0.0</td>\n      <td>0.0</td>\n      <td>0.0</td>\n      <td>0.0</td>\n      <td>0.0</td>\n      <td>0.0</td>\n    </tr>\n    <tr>\n      <th>4</th>\n      <td>0.0</td>\n      <td>0.0</td>\n      <td>0.0</td>\n      <td>0.0</td>\n      <td>0.0</td>\n      <td>0.0</td>\n      <td>0.0</td>\n      <td>0.0</td>\n      <td>0.0</td>\n    </tr>\n    <tr>\n      <th>...</th>\n      <td>...</td>\n      <td>...</td>\n      <td>...</td>\n      <td>...</td>\n      <td>...</td>\n      <td>...</td>\n      <td>...</td>\n      <td>...</td>\n      <td>...</td>\n    </tr>\n    <tr>\n      <th>12397</th>\n      <td>0.0</td>\n      <td>0.0</td>\n      <td>0.0</td>\n      <td>0.0</td>\n      <td>0.0</td>\n      <td>0.0</td>\n      <td>0.0</td>\n      <td>0.0</td>\n      <td>0.0</td>\n    </tr>\n    <tr>\n      <th>12398</th>\n      <td>0.0</td>\n      <td>0.0</td>\n      <td>0.0</td>\n      <td>0.0</td>\n      <td>0.0</td>\n      <td>0.0</td>\n      <td>0.0</td>\n      <td>0.0</td>\n      <td>0.0</td>\n    </tr>\n    <tr>\n      <th>12399</th>\n      <td>0.0</td>\n      <td>0.0</td>\n      <td>0.0</td>\n      <td>0.0</td>\n      <td>0.0</td>\n      <td>0.0</td>\n      <td>0.0</td>\n      <td>0.0</td>\n      <td>0.0</td>\n    </tr>\n    <tr>\n      <th>12400</th>\n      <td>0.0</td>\n      <td>0.0</td>\n      <td>0.0</td>\n      <td>0.0</td>\n      <td>0.0</td>\n      <td>0.0</td>\n      <td>0.0</td>\n      <td>0.0</td>\n      <td>0.0</td>\n    </tr>\n    <tr>\n      <th>12401</th>\n      <td>0.0</td>\n      <td>0.0</td>\n      <td>0.0</td>\n      <td>0.0</td>\n      <td>0.0</td>\n      <td>0.0</td>\n      <td>0.0</td>\n      <td>0.0</td>\n      <td>0.0</td>\n    </tr>\n  </tbody>\n</table>\n<p>12402 rows × 9 columns</p>\n</div>"
     },
     "execution_count": 70,
     "metadata": {},
     "output_type": "execute_result"
    }
   ],
   "source": [
    "# other columns = scenario, policy, year. take AWAY notnumveh-1\n",
    "years = range(2012,2051)\n",
    "feature_list = ['ScenarioID', 'CountryID', 'PolicyID', 'Year', 'TransTypeID', 'VehTypeID', 'Age', 'TotNumVeh', 'NumVehScrap']\n",
    "\n",
    "zero_data = np.zeros(shape=(len(years)*len(totnumveh95),len(feature_list)))\n",
    "\n",
    "totnumveh = pd.DataFrame(zero_data, columns=feature_list)\n",
    "totnumveh"
   ]
  },
  {
   "cell_type": "code",
   "execution_count": 71,
   "id": "69d87970",
   "metadata": {
    "ExecuteTime": {
     "end_time": "2023-08-08T17:19:47.416137800Z",
     "start_time": "2023-08-08T17:19:47.343763700Z"
    }
   },
   "outputs": [
    {
     "data": {
      "text/plain": "       ScenarioID  CountryID  PolicyID  Year  TransTypeID  VehTypeID  Age  \\\n0               1          9         0  2012            1          2    0   \n1               1          9         0  2012            1          2    1   \n2               1          9         0  2012            1          2    2   \n3               1          9         0  2012            1          2    3   \n4               1          9         0  2012            1          2    4   \n...           ...        ...       ...   ...          ...        ...  ...   \n12397           1          9         0  2050            2          8    1   \n12398           1          9         0  2050            2          8    2   \n12399           1          9         0  2050            2          8    4   \n12400           1          9         0  2050            2          8    5   \n12401           1          9         0  2050            2          8    6   \n\n       TotNumVeh  NumVehScrap  \n0       66526.48          0.0  \n1       98006.16          0.0  \n2       38481.20          0.0  \n3       48621.12          0.0  \n4      201625.88          0.0  \n...          ...          ...  \n12397       0.00          0.0  \n12398       0.00          0.0  \n12399       0.00          0.0  \n12400       0.00          0.0  \n12401       0.00          0.0  \n\n[12402 rows x 9 columns]",
      "text/html": "<div>\n<style scoped>\n    .dataframe tbody tr th:only-of-type {\n        vertical-align: middle;\n    }\n\n    .dataframe tbody tr th {\n        vertical-align: top;\n    }\n\n    .dataframe thead th {\n        text-align: right;\n    }\n</style>\n<table border=\"1\" class=\"dataframe\">\n  <thead>\n    <tr style=\"text-align: right;\">\n      <th></th>\n      <th>ScenarioID</th>\n      <th>CountryID</th>\n      <th>PolicyID</th>\n      <th>Year</th>\n      <th>TransTypeID</th>\n      <th>VehTypeID</th>\n      <th>Age</th>\n      <th>TotNumVeh</th>\n      <th>NumVehScrap</th>\n    </tr>\n  </thead>\n  <tbody>\n    <tr>\n      <th>0</th>\n      <td>1</td>\n      <td>9</td>\n      <td>0</td>\n      <td>2012</td>\n      <td>1</td>\n      <td>2</td>\n      <td>0</td>\n      <td>66526.48</td>\n      <td>0.0</td>\n    </tr>\n    <tr>\n      <th>1</th>\n      <td>1</td>\n      <td>9</td>\n      <td>0</td>\n      <td>2012</td>\n      <td>1</td>\n      <td>2</td>\n      <td>1</td>\n      <td>98006.16</td>\n      <td>0.0</td>\n    </tr>\n    <tr>\n      <th>2</th>\n      <td>1</td>\n      <td>9</td>\n      <td>0</td>\n      <td>2012</td>\n      <td>1</td>\n      <td>2</td>\n      <td>2</td>\n      <td>38481.20</td>\n      <td>0.0</td>\n    </tr>\n    <tr>\n      <th>3</th>\n      <td>1</td>\n      <td>9</td>\n      <td>0</td>\n      <td>2012</td>\n      <td>1</td>\n      <td>2</td>\n      <td>3</td>\n      <td>48621.12</td>\n      <td>0.0</td>\n    </tr>\n    <tr>\n      <th>4</th>\n      <td>1</td>\n      <td>9</td>\n      <td>0</td>\n      <td>2012</td>\n      <td>1</td>\n      <td>2</td>\n      <td>4</td>\n      <td>201625.88</td>\n      <td>0.0</td>\n    </tr>\n    <tr>\n      <th>...</th>\n      <td>...</td>\n      <td>...</td>\n      <td>...</td>\n      <td>...</td>\n      <td>...</td>\n      <td>...</td>\n      <td>...</td>\n      <td>...</td>\n      <td>...</td>\n    </tr>\n    <tr>\n      <th>12397</th>\n      <td>1</td>\n      <td>9</td>\n      <td>0</td>\n      <td>2050</td>\n      <td>2</td>\n      <td>8</td>\n      <td>1</td>\n      <td>0.00</td>\n      <td>0.0</td>\n    </tr>\n    <tr>\n      <th>12398</th>\n      <td>1</td>\n      <td>9</td>\n      <td>0</td>\n      <td>2050</td>\n      <td>2</td>\n      <td>8</td>\n      <td>2</td>\n      <td>0.00</td>\n      <td>0.0</td>\n    </tr>\n    <tr>\n      <th>12399</th>\n      <td>1</td>\n      <td>9</td>\n      <td>0</td>\n      <td>2050</td>\n      <td>2</td>\n      <td>8</td>\n      <td>4</td>\n      <td>0.00</td>\n      <td>0.0</td>\n    </tr>\n    <tr>\n      <th>12400</th>\n      <td>1</td>\n      <td>9</td>\n      <td>0</td>\n      <td>2050</td>\n      <td>2</td>\n      <td>8</td>\n      <td>5</td>\n      <td>0.00</td>\n      <td>0.0</td>\n    </tr>\n    <tr>\n      <th>12401</th>\n      <td>1</td>\n      <td>9</td>\n      <td>0</td>\n      <td>2050</td>\n      <td>2</td>\n      <td>8</td>\n      <td>6</td>\n      <td>0.00</td>\n      <td>0.0</td>\n    </tr>\n  </tbody>\n</table>\n<p>12402 rows × 9 columns</p>\n</div>"
     },
     "execution_count": 71,
     "metadata": {},
     "output_type": "execute_result"
    }
   ],
   "source": [
    "for year in years:\n",
    "    \n",
    "    if year == 2012:\n",
    "        totnumveh.loc[years.index(year)*len(totnumveh95):(years.index(year)+1)*len(totnumveh95)-1, [c for c in totnumveh95.columns if c not in ['TotNumVeh-1']]] = totnumveh95.loc[:, [c for c in totnumveh95.columns if c not in ['TotNumVeh-1']]].values\n",
    "        totnumveh.loc[years.index(year)*len(totnumveh95):(years.index(year)+1)*len(totnumveh95)-1, 'Year'] = year\n",
    "    else:\n",
    "        totnumveh.loc[years.index(year)*len(totnumveh95):(years.index(year)+1)*len(totnumveh95)-1, [c for c in totnumveh95.columns if c not in ['TotNumVeh', 'TotNumVeh-1', 'NumVehScrap']]] = totnumveh95.loc[:, [c for c in totnumveh95.columns if c not in ['TotNumVeh', 'TotNumVeh-1', 'NumVehScrap']]].values\n",
    "        totnumveh.loc[years.index(year)*len(totnumveh95):(years.index(year)+1)*len(totnumveh95)-1, 'Year'] = year\n",
    "\n",
    "totnumveh = totnumveh.reset_index(drop=True)\n",
    "totnumveh['ScenarioID'] = 1\n",
    "totnumveh['PolicyID'] = 0\n",
    "totnumveh[['CountryID', 'Year', 'TransTypeID', 'VehTypeID', 'Age']] = totnumveh[['CountryID', 'Year', 'TransTypeID', 'VehTypeID', 'Age']].astype(int)\n",
    "totnumveh"
   ]
  },
  {
   "cell_type": "code",
   "execution_count": 72,
   "id": "8068b21a",
   "metadata": {
    "ExecuteTime": {
     "end_time": "2023-08-08T17:19:50.023745100Z",
     "start_time": "2023-08-08T17:19:49.994583500Z"
    }
   },
   "outputs": [],
   "source": [
    "totnumveh.to_csv('./../out_data/processed/totnumveh.csv', index=False)"
   ]
  },
  {
   "cell_type": "code",
   "execution_count": 73,
   "outputs": [
    {
     "data": {
      "text/plain": "Empty DataFrame\nColumns: [ScenarioID, CountryID, PolicyID, Year, TransTypeID, VehTypeID, Age, TotNumVeh, NumVehScrap]\nIndex: []",
      "text/html": "<div>\n<style scoped>\n    .dataframe tbody tr th:only-of-type {\n        vertical-align: middle;\n    }\n\n    .dataframe tbody tr th {\n        vertical-align: top;\n    }\n\n    .dataframe thead th {\n        text-align: right;\n    }\n</style>\n<table border=\"1\" class=\"dataframe\">\n  <thead>\n    <tr style=\"text-align: right;\">\n      <th></th>\n      <th>ScenarioID</th>\n      <th>CountryID</th>\n      <th>PolicyID</th>\n      <th>Year</th>\n      <th>TransTypeID</th>\n      <th>VehTypeID</th>\n      <th>Age</th>\n      <th>TotNumVeh</th>\n      <th>NumVehScrap</th>\n    </tr>\n  </thead>\n  <tbody>\n  </tbody>\n</table>\n</div>"
     },
     "execution_count": 73,
     "metadata": {},
     "output_type": "execute_result"
    }
   ],
   "source": [
    "totnumveh[totnumveh.duplicated(subset=['TransTypeID','VehTypeID','Age','Year'])]"
   ],
   "metadata": {
    "collapsed": false,
    "ExecuteTime": {
     "end_time": "2023-08-08T17:20:44.263050700Z",
     "start_time": "2023-08-08T17:20:44.254136600Z"
    }
   },
   "id": "fcfa03a2179b2634"
  },
  {
   "cell_type": "markdown",
   "id": "ed97076c",
   "metadata": {},
   "source": [
    "<b>FOR TOT</b>"
   ]
  },
  {
   "cell_type": "code",
   "execution_count": 74,
   "id": "c0c46bc9",
   "metadata": {
    "ExecuteTime": {
     "end_time": "2023-08-08T17:20:47.557658500Z",
     "start_time": "2023-08-08T17:20:47.526200200Z"
    }
   },
   "outputs": [
    {
     "data": {
      "text/plain": "    CountryID  TransTypeID  VehTypeID  MassCatID      TOT_Stock\n0           9          1.0        2.0        4.0  539769.000000\n1           9          1.0        3.0        1.0  409537.000000\n2           9          1.0        3.0        2.0  107103.000000\n3           9          1.0        3.0        3.0   15766.000000\n4           9          1.0        4.0       11.0   50000.000000\n5           9          1.0        4.0       12.0   50000.000000\n6           9          1.0        4.0       13.0   10041.000000\n7           9          1.0        6.0       31.0      89.911524\n8           9          1.0        6.0       32.0     493.794594\n9           9          1.0        6.0       33.0      51.888989\n10          9          1.0        6.0       34.0       0.999946\n11          9          1.0        8.0       41.0       4.377163\n12          9          1.0        8.0       42.0      38.850395\n13          9          1.0        8.0       43.0      40.003573\n14          9          1.0        8.0       44.0      12.327675\n15          9          1.0        8.0       45.0       0.411580\n16          9          2.0        3.0       11.0   41734.000000\n17          9          2.0        3.0       21.0   38301.000000\n18          9          2.0        5.0       11.0   12507.000000\n19          9          2.0        5.0       21.0   25014.000000\n20          9          2.0        5.0       22.0   42136.000000\n21          9          2.0        5.0       23.0   15655.925000\n22          9          2.0        6.0       32.0      70.714777\n23          9          2.0        7.0       51.0      34.000629\n24          9          2.0        7.0       52.0      16.099372\n25          9          2.0        8.0       42.0       3.061072\n26          9          2.0        8.0       43.0       8.810444\n27          9          2.0        8.0       44.0       2.936947",
      "text/html": "<div>\n<style scoped>\n    .dataframe tbody tr th:only-of-type {\n        vertical-align: middle;\n    }\n\n    .dataframe tbody tr th {\n        vertical-align: top;\n    }\n\n    .dataframe thead th {\n        text-align: right;\n    }\n</style>\n<table border=\"1\" class=\"dataframe\">\n  <thead>\n    <tr style=\"text-align: right;\">\n      <th></th>\n      <th>CountryID</th>\n      <th>TransTypeID</th>\n      <th>VehTypeID</th>\n      <th>MassCatID</th>\n      <th>TOT_Stock</th>\n    </tr>\n  </thead>\n  <tbody>\n    <tr>\n      <th>0</th>\n      <td>9</td>\n      <td>1.0</td>\n      <td>2.0</td>\n      <td>4.0</td>\n      <td>539769.000000</td>\n    </tr>\n    <tr>\n      <th>1</th>\n      <td>9</td>\n      <td>1.0</td>\n      <td>3.0</td>\n      <td>1.0</td>\n      <td>409537.000000</td>\n    </tr>\n    <tr>\n      <th>2</th>\n      <td>9</td>\n      <td>1.0</td>\n      <td>3.0</td>\n      <td>2.0</td>\n      <td>107103.000000</td>\n    </tr>\n    <tr>\n      <th>3</th>\n      <td>9</td>\n      <td>1.0</td>\n      <td>3.0</td>\n      <td>3.0</td>\n      <td>15766.000000</td>\n    </tr>\n    <tr>\n      <th>4</th>\n      <td>9</td>\n      <td>1.0</td>\n      <td>4.0</td>\n      <td>11.0</td>\n      <td>50000.000000</td>\n    </tr>\n    <tr>\n      <th>5</th>\n      <td>9</td>\n      <td>1.0</td>\n      <td>4.0</td>\n      <td>12.0</td>\n      <td>50000.000000</td>\n    </tr>\n    <tr>\n      <th>6</th>\n      <td>9</td>\n      <td>1.0</td>\n      <td>4.0</td>\n      <td>13.0</td>\n      <td>10041.000000</td>\n    </tr>\n    <tr>\n      <th>7</th>\n      <td>9</td>\n      <td>1.0</td>\n      <td>6.0</td>\n      <td>31.0</td>\n      <td>89.911524</td>\n    </tr>\n    <tr>\n      <th>8</th>\n      <td>9</td>\n      <td>1.0</td>\n      <td>6.0</td>\n      <td>32.0</td>\n      <td>493.794594</td>\n    </tr>\n    <tr>\n      <th>9</th>\n      <td>9</td>\n      <td>1.0</td>\n      <td>6.0</td>\n      <td>33.0</td>\n      <td>51.888989</td>\n    </tr>\n    <tr>\n      <th>10</th>\n      <td>9</td>\n      <td>1.0</td>\n      <td>6.0</td>\n      <td>34.0</td>\n      <td>0.999946</td>\n    </tr>\n    <tr>\n      <th>11</th>\n      <td>9</td>\n      <td>1.0</td>\n      <td>8.0</td>\n      <td>41.0</td>\n      <td>4.377163</td>\n    </tr>\n    <tr>\n      <th>12</th>\n      <td>9</td>\n      <td>1.0</td>\n      <td>8.0</td>\n      <td>42.0</td>\n      <td>38.850395</td>\n    </tr>\n    <tr>\n      <th>13</th>\n      <td>9</td>\n      <td>1.0</td>\n      <td>8.0</td>\n      <td>43.0</td>\n      <td>40.003573</td>\n    </tr>\n    <tr>\n      <th>14</th>\n      <td>9</td>\n      <td>1.0</td>\n      <td>8.0</td>\n      <td>44.0</td>\n      <td>12.327675</td>\n    </tr>\n    <tr>\n      <th>15</th>\n      <td>9</td>\n      <td>1.0</td>\n      <td>8.0</td>\n      <td>45.0</td>\n      <td>0.411580</td>\n    </tr>\n    <tr>\n      <th>16</th>\n      <td>9</td>\n      <td>2.0</td>\n      <td>3.0</td>\n      <td>11.0</td>\n      <td>41734.000000</td>\n    </tr>\n    <tr>\n      <th>17</th>\n      <td>9</td>\n      <td>2.0</td>\n      <td>3.0</td>\n      <td>21.0</td>\n      <td>38301.000000</td>\n    </tr>\n    <tr>\n      <th>18</th>\n      <td>9</td>\n      <td>2.0</td>\n      <td>5.0</td>\n      <td>11.0</td>\n      <td>12507.000000</td>\n    </tr>\n    <tr>\n      <th>19</th>\n      <td>9</td>\n      <td>2.0</td>\n      <td>5.0</td>\n      <td>21.0</td>\n      <td>25014.000000</td>\n    </tr>\n    <tr>\n      <th>20</th>\n      <td>9</td>\n      <td>2.0</td>\n      <td>5.0</td>\n      <td>22.0</td>\n      <td>42136.000000</td>\n    </tr>\n    <tr>\n      <th>21</th>\n      <td>9</td>\n      <td>2.0</td>\n      <td>5.0</td>\n      <td>23.0</td>\n      <td>15655.925000</td>\n    </tr>\n    <tr>\n      <th>22</th>\n      <td>9</td>\n      <td>2.0</td>\n      <td>6.0</td>\n      <td>32.0</td>\n      <td>70.714777</td>\n    </tr>\n    <tr>\n      <th>23</th>\n      <td>9</td>\n      <td>2.0</td>\n      <td>7.0</td>\n      <td>51.0</td>\n      <td>34.000629</td>\n    </tr>\n    <tr>\n      <th>24</th>\n      <td>9</td>\n      <td>2.0</td>\n      <td>7.0</td>\n      <td>52.0</td>\n      <td>16.099372</td>\n    </tr>\n    <tr>\n      <th>25</th>\n      <td>9</td>\n      <td>2.0</td>\n      <td>8.0</td>\n      <td>42.0</td>\n      <td>3.061072</td>\n    </tr>\n    <tr>\n      <th>26</th>\n      <td>9</td>\n      <td>2.0</td>\n      <td>8.0</td>\n      <td>43.0</td>\n      <td>8.810444</td>\n    </tr>\n    <tr>\n      <th>27</th>\n      <td>9</td>\n      <td>2.0</td>\n      <td>8.0</td>\n      <td>44.0</td>\n      <td>2.936947</td>\n    </tr>\n  </tbody>\n</table>\n</div>"
     },
     "execution_count": 74,
     "metadata": {},
     "output_type": "execute_result"
    }
   ],
   "source": [
    "# import tot95 table\n",
    "tot95 = pd.read_csv(f'./../out_data/processed/tot95.csv')\n",
    "tot95"
   ]
  },
  {
   "cell_type": "code",
   "execution_count": 75,
   "id": "951a4ebe",
   "metadata": {
    "ExecuteTime": {
     "end_time": "2023-08-08T17:20:49.923341800Z",
     "start_time": "2023-08-08T17:20:49.889075Z"
    }
   },
   "outputs": [
    {
     "data": {
      "text/plain": "      ScenarioID  CountryID  PolicyID  Year  TransTypeID  VehTypeID  \\\n0            0.0        0.0       0.0   0.0          0.0        0.0   \n1            0.0        0.0       0.0   0.0          0.0        0.0   \n2            0.0        0.0       0.0   0.0          0.0        0.0   \n3            0.0        0.0       0.0   0.0          0.0        0.0   \n4            0.0        0.0       0.0   0.0          0.0        0.0   \n...          ...        ...       ...   ...          ...        ...   \n1087         0.0        0.0       0.0   0.0          0.0        0.0   \n1088         0.0        0.0       0.0   0.0          0.0        0.0   \n1089         0.0        0.0       0.0   0.0          0.0        0.0   \n1090         0.0        0.0       0.0   0.0          0.0        0.0   \n1091         0.0        0.0       0.0   0.0          0.0        0.0   \n\n      MassCatID  TOT_Stock  \n0           0.0        0.0  \n1           0.0        0.0  \n2           0.0        0.0  \n3           0.0        0.0  \n4           0.0        0.0  \n...         ...        ...  \n1087        0.0        0.0  \n1088        0.0        0.0  \n1089        0.0        0.0  \n1090        0.0        0.0  \n1091        0.0        0.0  \n\n[1092 rows x 8 columns]",
      "text/html": "<div>\n<style scoped>\n    .dataframe tbody tr th:only-of-type {\n        vertical-align: middle;\n    }\n\n    .dataframe tbody tr th {\n        vertical-align: top;\n    }\n\n    .dataframe thead th {\n        text-align: right;\n    }\n</style>\n<table border=\"1\" class=\"dataframe\">\n  <thead>\n    <tr style=\"text-align: right;\">\n      <th></th>\n      <th>ScenarioID</th>\n      <th>CountryID</th>\n      <th>PolicyID</th>\n      <th>Year</th>\n      <th>TransTypeID</th>\n      <th>VehTypeID</th>\n      <th>MassCatID</th>\n      <th>TOT_Stock</th>\n    </tr>\n  </thead>\n  <tbody>\n    <tr>\n      <th>0</th>\n      <td>0.0</td>\n      <td>0.0</td>\n      <td>0.0</td>\n      <td>0.0</td>\n      <td>0.0</td>\n      <td>0.0</td>\n      <td>0.0</td>\n      <td>0.0</td>\n    </tr>\n    <tr>\n      <th>1</th>\n      <td>0.0</td>\n      <td>0.0</td>\n      <td>0.0</td>\n      <td>0.0</td>\n      <td>0.0</td>\n      <td>0.0</td>\n      <td>0.0</td>\n      <td>0.0</td>\n    </tr>\n    <tr>\n      <th>2</th>\n      <td>0.0</td>\n      <td>0.0</td>\n      <td>0.0</td>\n      <td>0.0</td>\n      <td>0.0</td>\n      <td>0.0</td>\n      <td>0.0</td>\n      <td>0.0</td>\n    </tr>\n    <tr>\n      <th>3</th>\n      <td>0.0</td>\n      <td>0.0</td>\n      <td>0.0</td>\n      <td>0.0</td>\n      <td>0.0</td>\n      <td>0.0</td>\n      <td>0.0</td>\n      <td>0.0</td>\n    </tr>\n    <tr>\n      <th>4</th>\n      <td>0.0</td>\n      <td>0.0</td>\n      <td>0.0</td>\n      <td>0.0</td>\n      <td>0.0</td>\n      <td>0.0</td>\n      <td>0.0</td>\n      <td>0.0</td>\n    </tr>\n    <tr>\n      <th>...</th>\n      <td>...</td>\n      <td>...</td>\n      <td>...</td>\n      <td>...</td>\n      <td>...</td>\n      <td>...</td>\n      <td>...</td>\n      <td>...</td>\n    </tr>\n    <tr>\n      <th>1087</th>\n      <td>0.0</td>\n      <td>0.0</td>\n      <td>0.0</td>\n      <td>0.0</td>\n      <td>0.0</td>\n      <td>0.0</td>\n      <td>0.0</td>\n      <td>0.0</td>\n    </tr>\n    <tr>\n      <th>1088</th>\n      <td>0.0</td>\n      <td>0.0</td>\n      <td>0.0</td>\n      <td>0.0</td>\n      <td>0.0</td>\n      <td>0.0</td>\n      <td>0.0</td>\n      <td>0.0</td>\n    </tr>\n    <tr>\n      <th>1089</th>\n      <td>0.0</td>\n      <td>0.0</td>\n      <td>0.0</td>\n      <td>0.0</td>\n      <td>0.0</td>\n      <td>0.0</td>\n      <td>0.0</td>\n      <td>0.0</td>\n    </tr>\n    <tr>\n      <th>1090</th>\n      <td>0.0</td>\n      <td>0.0</td>\n      <td>0.0</td>\n      <td>0.0</td>\n      <td>0.0</td>\n      <td>0.0</td>\n      <td>0.0</td>\n      <td>0.0</td>\n    </tr>\n    <tr>\n      <th>1091</th>\n      <td>0.0</td>\n      <td>0.0</td>\n      <td>0.0</td>\n      <td>0.0</td>\n      <td>0.0</td>\n      <td>0.0</td>\n      <td>0.0</td>\n      <td>0.0</td>\n    </tr>\n  </tbody>\n</table>\n<p>1092 rows × 8 columns</p>\n</div>"
     },
     "execution_count": 75,
     "metadata": {},
     "output_type": "execute_result"
    }
   ],
   "source": [
    "# other columns = scenario, policy, year. take AWAY notnumveh-1\n",
    "years = range(2012,2051)\n",
    "feature_list = ['ScenarioID', 'CountryID', 'PolicyID', 'Year', 'TransTypeID', 'VehTypeID', 'MassCatID', 'TOT_Stock']\n",
    "\n",
    "zero_data = np.zeros(shape=(len(years)*len(tot95),len(feature_list)))\n",
    "\n",
    "tot = pd.DataFrame(zero_data, columns=feature_list)\n",
    "tot"
   ]
  },
  {
   "cell_type": "code",
   "execution_count": 76,
   "id": "c755c465",
   "metadata": {
    "ExecuteTime": {
     "end_time": "2023-08-08T17:20:51.462238800Z",
     "start_time": "2023-08-08T17:20:51.414553900Z"
    }
   },
   "outputs": [
    {
     "data": {
      "text/plain": "      ScenarioID  CountryID  PolicyID  Year  TransTypeID  VehTypeID  \\\n0              1          9         0  2012            1          2   \n1              1          9         0  2012            1          3   \n2              1          9         0  2012            1          3   \n3              1          9         0  2012            1          3   \n4              1          9         0  2012            1          4   \n...          ...        ...       ...   ...          ...        ...   \n1087           1          9         0  2050            2          7   \n1088           1          9         0  2050            2          7   \n1089           1          9         0  2050            2          8   \n1090           1          9         0  2050            2          8   \n1091           1          9         0  2050            2          8   \n\n      MassCatID  TOT_Stock  \n0             4   539769.0  \n1             1   409537.0  \n2             2   107103.0  \n3             3    15766.0  \n4            11    50000.0  \n...         ...        ...  \n1087         51        0.0  \n1088         52        0.0  \n1089         42        0.0  \n1090         43        0.0  \n1091         44        0.0  \n\n[1092 rows x 8 columns]",
      "text/html": "<div>\n<style scoped>\n    .dataframe tbody tr th:only-of-type {\n        vertical-align: middle;\n    }\n\n    .dataframe tbody tr th {\n        vertical-align: top;\n    }\n\n    .dataframe thead th {\n        text-align: right;\n    }\n</style>\n<table border=\"1\" class=\"dataframe\">\n  <thead>\n    <tr style=\"text-align: right;\">\n      <th></th>\n      <th>ScenarioID</th>\n      <th>CountryID</th>\n      <th>PolicyID</th>\n      <th>Year</th>\n      <th>TransTypeID</th>\n      <th>VehTypeID</th>\n      <th>MassCatID</th>\n      <th>TOT_Stock</th>\n    </tr>\n  </thead>\n  <tbody>\n    <tr>\n      <th>0</th>\n      <td>1</td>\n      <td>9</td>\n      <td>0</td>\n      <td>2012</td>\n      <td>1</td>\n      <td>2</td>\n      <td>4</td>\n      <td>539769.0</td>\n    </tr>\n    <tr>\n      <th>1</th>\n      <td>1</td>\n      <td>9</td>\n      <td>0</td>\n      <td>2012</td>\n      <td>1</td>\n      <td>3</td>\n      <td>1</td>\n      <td>409537.0</td>\n    </tr>\n    <tr>\n      <th>2</th>\n      <td>1</td>\n      <td>9</td>\n      <td>0</td>\n      <td>2012</td>\n      <td>1</td>\n      <td>3</td>\n      <td>2</td>\n      <td>107103.0</td>\n    </tr>\n    <tr>\n      <th>3</th>\n      <td>1</td>\n      <td>9</td>\n      <td>0</td>\n      <td>2012</td>\n      <td>1</td>\n      <td>3</td>\n      <td>3</td>\n      <td>15766.0</td>\n    </tr>\n    <tr>\n      <th>4</th>\n      <td>1</td>\n      <td>9</td>\n      <td>0</td>\n      <td>2012</td>\n      <td>1</td>\n      <td>4</td>\n      <td>11</td>\n      <td>50000.0</td>\n    </tr>\n    <tr>\n      <th>...</th>\n      <td>...</td>\n      <td>...</td>\n      <td>...</td>\n      <td>...</td>\n      <td>...</td>\n      <td>...</td>\n      <td>...</td>\n      <td>...</td>\n    </tr>\n    <tr>\n      <th>1087</th>\n      <td>1</td>\n      <td>9</td>\n      <td>0</td>\n      <td>2050</td>\n      <td>2</td>\n      <td>7</td>\n      <td>51</td>\n      <td>0.0</td>\n    </tr>\n    <tr>\n      <th>1088</th>\n      <td>1</td>\n      <td>9</td>\n      <td>0</td>\n      <td>2050</td>\n      <td>2</td>\n      <td>7</td>\n      <td>52</td>\n      <td>0.0</td>\n    </tr>\n    <tr>\n      <th>1089</th>\n      <td>1</td>\n      <td>9</td>\n      <td>0</td>\n      <td>2050</td>\n      <td>2</td>\n      <td>8</td>\n      <td>42</td>\n      <td>0.0</td>\n    </tr>\n    <tr>\n      <th>1090</th>\n      <td>1</td>\n      <td>9</td>\n      <td>0</td>\n      <td>2050</td>\n      <td>2</td>\n      <td>8</td>\n      <td>43</td>\n      <td>0.0</td>\n    </tr>\n    <tr>\n      <th>1091</th>\n      <td>1</td>\n      <td>9</td>\n      <td>0</td>\n      <td>2050</td>\n      <td>2</td>\n      <td>8</td>\n      <td>44</td>\n      <td>0.0</td>\n    </tr>\n  </tbody>\n</table>\n<p>1092 rows × 8 columns</p>\n</div>"
     },
     "execution_count": 76,
     "metadata": {},
     "output_type": "execute_result"
    }
   ],
   "source": [
    "for year in years:\n",
    "    \n",
    "    if year == 2012:\n",
    "        tot.loc[years.index(year)*len(tot95):(years.index(year)+1)*len(tot95)-1, [c for c in tot95.columns]] = tot95.loc[:, [c for c in tot95.columns]].values\n",
    "        tot.loc[years.index(year)*len(tot95):(years.index(year)+1)*len(tot95)-1, 'Year'] = year\n",
    "    else:\n",
    "        tot.loc[years.index(year)*len(tot95):(years.index(year)+1)*len(tot95)-1, [c for c in tot95.columns if c not in ['TOT_Stock']]] = tot95.loc[:, [c for c in tot95.columns if c not in ['TOT_Stock']]].values\n",
    "        tot.loc[years.index(year)*len(tot95):(years.index(year)+1)*len(tot95)-1, 'Year'] = year\n",
    "\n",
    "tot = tot.reset_index(drop=True)\n",
    "tot['ScenarioID'] = 1\n",
    "tot['PolicyID'] = 0\n",
    "tot[['CountryID', 'Year', 'TransTypeID', 'VehTypeID', 'MassCatID']] = tot[['CountryID', 'Year', 'TransTypeID', 'VehTypeID', 'MassCatID']].astype(int)\n",
    "tot"
   ]
  },
  {
   "cell_type": "code",
   "execution_count": 77,
   "id": "9aab8202",
   "metadata": {
    "ExecuteTime": {
     "end_time": "2023-08-08T17:20:53.542318100Z",
     "start_time": "2023-08-08T17:20:53.531650100Z"
    }
   },
   "outputs": [],
   "source": [
    "tot.to_csv('./../out_data/processed/tot.csv', index=False)"
   ]
  },
  {
   "cell_type": "code",
   "execution_count": 79,
   "id": "542b762b",
   "metadata": {
    "ExecuteTime": {
     "end_time": "2023-08-08T17:25:50.487649700Z",
     "start_time": "2023-08-08T17:25:50.471601500Z"
    }
   },
   "outputs": [
    {
     "data": {
      "text/plain": "Empty DataFrame\nColumns: [ScenarioID, CountryID, PolicyID, Year, TransTypeID, VehTypeID, MassCatID, TOT_Stock]\nIndex: []",
      "text/html": "<div>\n<style scoped>\n    .dataframe tbody tr th:only-of-type {\n        vertical-align: middle;\n    }\n\n    .dataframe tbody tr th {\n        vertical-align: top;\n    }\n\n    .dataframe thead th {\n        text-align: right;\n    }\n</style>\n<table border=\"1\" class=\"dataframe\">\n  <thead>\n    <tr style=\"text-align: right;\">\n      <th></th>\n      <th>ScenarioID</th>\n      <th>CountryID</th>\n      <th>PolicyID</th>\n      <th>Year</th>\n      <th>TransTypeID</th>\n      <th>VehTypeID</th>\n      <th>MassCatID</th>\n      <th>TOT_Stock</th>\n    </tr>\n  </thead>\n  <tbody>\n  </tbody>\n</table>\n</div>"
     },
     "execution_count": 79,
     "metadata": {},
     "output_type": "execute_result"
    }
   ],
   "source": [
    "tot[tot.duplicated(subset=['Year','TransTypeID','VehTypeID','MassCatID'])]"
   ]
  }
 ],
 "metadata": {
  "kernelspec": {
   "display_name": "Python 3 (ipykernel)",
   "language": "python",
   "name": "python3"
  },
  "language_info": {
   "codemirror_mode": {
    "name": "ipython",
    "version": 3
   },
   "file_extension": ".py",
   "mimetype": "text/x-python",
   "name": "python",
   "nbconvert_exporter": "python",
   "pygments_lexer": "ipython3",
   "version": "3.9.12"
  }
 },
 "nbformat": 4,
 "nbformat_minor": 5
}
