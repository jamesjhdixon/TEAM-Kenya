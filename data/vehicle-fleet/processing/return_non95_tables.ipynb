{
 "cells": [
  {
   "cell_type": "markdown",
   "id": "bca7936d",
   "metadata": {},
   "source": [
    "This notebook takes the established base year (XX95) tables and creates projection tables into the future. the data for years after the base year can be bogus."
   ]
  },
  {
   "cell_type": "code",
   "execution_count": 1,
   "outputs": [],
   "source": [
    "import pandas as pd\n",
    "import numpy as np"
   ],
   "metadata": {
    "collapsed": false,
    "ExecuteTime": {
     "end_time": "2024-01-26T11:43:23.639959Z",
     "start_time": "2024-01-26T11:43:23.639959Z"
    }
   },
   "id": "90ab19d337e52b19"
  },
  {
   "cell_type": "markdown",
   "id": "698baaac",
   "metadata": {},
   "source": [
    "<b>FOR NUMVEH</b>"
   ]
  },
  {
   "cell_type": "code",
   "execution_count": 2,
   "id": "e2750199",
   "metadata": {
    "ExecuteTime": {
     "end_time": "2024-01-26T11:43:23.678089600Z",
     "start_time": "2024-01-26T11:43:23.639959Z"
    }
   },
   "outputs": [
    {
     "data": {
      "text/plain": "      CountryID   TechID  Age  TransTypeID  VehTypeID  MassCatID  EngineID  \\\n0             9     10.0    0          1.0        2.0        4.0      10.0   \n1             9     10.0    1          1.0        2.0        4.0      10.0   \n2             9     10.0    2          1.0        2.0        4.0      10.0   \n3             9     10.0    3          1.0        2.0        4.0      10.0   \n4             9     10.0    4          1.0        2.0        4.0      10.0   \n...         ...      ...  ...          ...        ...        ...       ...   \n4138          9  10690.0   14          2.0        5.0       23.0      15.0   \n4139          9  10690.0   15          2.0        5.0       23.0      15.0   \n4140          9  10690.0   16          2.0        5.0       23.0      15.0   \n4141          9  10690.0   21          2.0        5.0       23.0      15.0   \n4142          9  10690.0   25          2.0        5.0       23.0      15.0   \n\n      FuelID         NumVeh  \n0        1.0   61274.572000  \n1        1.0   88740.372000  \n2        1.0   34836.824000  \n3        1.0   43911.816000  \n4        1.0  200302.196000  \n...      ...            ...  \n4138     2.0     207.771875  \n4139     2.0      69.257292  \n4140     2.0     138.514583  \n4141     2.0      69.257292  \n4142     2.0      69.257292  \n\n[4143 rows x 9 columns]",
      "text/html": "<div>\n<style scoped>\n    .dataframe tbody tr th:only-of-type {\n        vertical-align: middle;\n    }\n\n    .dataframe tbody tr th {\n        vertical-align: top;\n    }\n\n    .dataframe thead th {\n        text-align: right;\n    }\n</style>\n<table border=\"1\" class=\"dataframe\">\n  <thead>\n    <tr style=\"text-align: right;\">\n      <th></th>\n      <th>CountryID</th>\n      <th>TechID</th>\n      <th>Age</th>\n      <th>TransTypeID</th>\n      <th>VehTypeID</th>\n      <th>MassCatID</th>\n      <th>EngineID</th>\n      <th>FuelID</th>\n      <th>NumVeh</th>\n    </tr>\n  </thead>\n  <tbody>\n    <tr>\n      <th>0</th>\n      <td>9</td>\n      <td>10.0</td>\n      <td>0</td>\n      <td>1.0</td>\n      <td>2.0</td>\n      <td>4.0</td>\n      <td>10.0</td>\n      <td>1.0</td>\n      <td>61274.572000</td>\n    </tr>\n    <tr>\n      <th>1</th>\n      <td>9</td>\n      <td>10.0</td>\n      <td>1</td>\n      <td>1.0</td>\n      <td>2.0</td>\n      <td>4.0</td>\n      <td>10.0</td>\n      <td>1.0</td>\n      <td>88740.372000</td>\n    </tr>\n    <tr>\n      <th>2</th>\n      <td>9</td>\n      <td>10.0</td>\n      <td>2</td>\n      <td>1.0</td>\n      <td>2.0</td>\n      <td>4.0</td>\n      <td>10.0</td>\n      <td>1.0</td>\n      <td>34836.824000</td>\n    </tr>\n    <tr>\n      <th>3</th>\n      <td>9</td>\n      <td>10.0</td>\n      <td>3</td>\n      <td>1.0</td>\n      <td>2.0</td>\n      <td>4.0</td>\n      <td>10.0</td>\n      <td>1.0</td>\n      <td>43911.816000</td>\n    </tr>\n    <tr>\n      <th>4</th>\n      <td>9</td>\n      <td>10.0</td>\n      <td>4</td>\n      <td>1.0</td>\n      <td>2.0</td>\n      <td>4.0</td>\n      <td>10.0</td>\n      <td>1.0</td>\n      <td>200302.196000</td>\n    </tr>\n    <tr>\n      <th>...</th>\n      <td>...</td>\n      <td>...</td>\n      <td>...</td>\n      <td>...</td>\n      <td>...</td>\n      <td>...</td>\n      <td>...</td>\n      <td>...</td>\n      <td>...</td>\n    </tr>\n    <tr>\n      <th>4138</th>\n      <td>9</td>\n      <td>10690.0</td>\n      <td>14</td>\n      <td>2.0</td>\n      <td>5.0</td>\n      <td>23.0</td>\n      <td>15.0</td>\n      <td>2.0</td>\n      <td>207.771875</td>\n    </tr>\n    <tr>\n      <th>4139</th>\n      <td>9</td>\n      <td>10690.0</td>\n      <td>15</td>\n      <td>2.0</td>\n      <td>5.0</td>\n      <td>23.0</td>\n      <td>15.0</td>\n      <td>2.0</td>\n      <td>69.257292</td>\n    </tr>\n    <tr>\n      <th>4140</th>\n      <td>9</td>\n      <td>10690.0</td>\n      <td>16</td>\n      <td>2.0</td>\n      <td>5.0</td>\n      <td>23.0</td>\n      <td>15.0</td>\n      <td>2.0</td>\n      <td>138.514583</td>\n    </tr>\n    <tr>\n      <th>4141</th>\n      <td>9</td>\n      <td>10690.0</td>\n      <td>21</td>\n      <td>2.0</td>\n      <td>5.0</td>\n      <td>23.0</td>\n      <td>15.0</td>\n      <td>2.0</td>\n      <td>69.257292</td>\n    </tr>\n    <tr>\n      <th>4142</th>\n      <td>9</td>\n      <td>10690.0</td>\n      <td>25</td>\n      <td>2.0</td>\n      <td>5.0</td>\n      <td>23.0</td>\n      <td>15.0</td>\n      <td>2.0</td>\n      <td>69.257292</td>\n    </tr>\n  </tbody>\n</table>\n<p>4143 rows × 9 columns</p>\n</div>"
     },
     "execution_count": 2,
     "metadata": {},
     "output_type": "execute_result"
    }
   ],
   "source": [
    "# import numveh95 table (output from AEMDA)\n",
    "numveh95 = pd.read_csv(f'./../out_data/processed/numveh95.csv')\n",
    "numveh95"
   ]
  },
  {
   "cell_type": "code",
   "execution_count": 3,
   "id": "9cdda8ca",
   "metadata": {
    "ExecuteTime": {
     "end_time": "2024-01-26T11:43:23.693747100Z",
     "start_time": "2024-01-26T11:43:23.673584400Z"
    }
   },
   "outputs": [
    {
     "data": {
      "text/plain": "        ScenarioID  CountryID  TechID  Year  Age  TransTypeID  VehTypeID  \\\n0              0.0        0.0     0.0   0.0  0.0          0.0        0.0   \n1              0.0        0.0     0.0   0.0  0.0          0.0        0.0   \n2              0.0        0.0     0.0   0.0  0.0          0.0        0.0   \n3              0.0        0.0     0.0   0.0  0.0          0.0        0.0   \n4              0.0        0.0     0.0   0.0  0.0          0.0        0.0   \n...            ...        ...     ...   ...  ...          ...        ...   \n161572         0.0        0.0     0.0   0.0  0.0          0.0        0.0   \n161573         0.0        0.0     0.0   0.0  0.0          0.0        0.0   \n161574         0.0        0.0     0.0   0.0  0.0          0.0        0.0   \n161575         0.0        0.0     0.0   0.0  0.0          0.0        0.0   \n161576         0.0        0.0     0.0   0.0  0.0          0.0        0.0   \n\n        MassCatID  EngineID  FuelID  NumVeh  \n0             0.0       0.0     0.0     0.0  \n1             0.0       0.0     0.0     0.0  \n2             0.0       0.0     0.0     0.0  \n3             0.0       0.0     0.0     0.0  \n4             0.0       0.0     0.0     0.0  \n...           ...       ...     ...     ...  \n161572        0.0       0.0     0.0     0.0  \n161573        0.0       0.0     0.0     0.0  \n161574        0.0       0.0     0.0     0.0  \n161575        0.0       0.0     0.0     0.0  \n161576        0.0       0.0     0.0     0.0  \n\n[161577 rows x 11 columns]",
      "text/html": "<div>\n<style scoped>\n    .dataframe tbody tr th:only-of-type {\n        vertical-align: middle;\n    }\n\n    .dataframe tbody tr th {\n        vertical-align: top;\n    }\n\n    .dataframe thead th {\n        text-align: right;\n    }\n</style>\n<table border=\"1\" class=\"dataframe\">\n  <thead>\n    <tr style=\"text-align: right;\">\n      <th></th>\n      <th>ScenarioID</th>\n      <th>CountryID</th>\n      <th>TechID</th>\n      <th>Year</th>\n      <th>Age</th>\n      <th>TransTypeID</th>\n      <th>VehTypeID</th>\n      <th>MassCatID</th>\n      <th>EngineID</th>\n      <th>FuelID</th>\n      <th>NumVeh</th>\n    </tr>\n  </thead>\n  <tbody>\n    <tr>\n      <th>0</th>\n      <td>0.0</td>\n      <td>0.0</td>\n      <td>0.0</td>\n      <td>0.0</td>\n      <td>0.0</td>\n      <td>0.0</td>\n      <td>0.0</td>\n      <td>0.0</td>\n      <td>0.0</td>\n      <td>0.0</td>\n      <td>0.0</td>\n    </tr>\n    <tr>\n      <th>1</th>\n      <td>0.0</td>\n      <td>0.0</td>\n      <td>0.0</td>\n      <td>0.0</td>\n      <td>0.0</td>\n      <td>0.0</td>\n      <td>0.0</td>\n      <td>0.0</td>\n      <td>0.0</td>\n      <td>0.0</td>\n      <td>0.0</td>\n    </tr>\n    <tr>\n      <th>2</th>\n      <td>0.0</td>\n      <td>0.0</td>\n      <td>0.0</td>\n      <td>0.0</td>\n      <td>0.0</td>\n      <td>0.0</td>\n      <td>0.0</td>\n      <td>0.0</td>\n      <td>0.0</td>\n      <td>0.0</td>\n      <td>0.0</td>\n    </tr>\n    <tr>\n      <th>3</th>\n      <td>0.0</td>\n      <td>0.0</td>\n      <td>0.0</td>\n      <td>0.0</td>\n      <td>0.0</td>\n      <td>0.0</td>\n      <td>0.0</td>\n      <td>0.0</td>\n      <td>0.0</td>\n      <td>0.0</td>\n      <td>0.0</td>\n    </tr>\n    <tr>\n      <th>4</th>\n      <td>0.0</td>\n      <td>0.0</td>\n      <td>0.0</td>\n      <td>0.0</td>\n      <td>0.0</td>\n      <td>0.0</td>\n      <td>0.0</td>\n      <td>0.0</td>\n      <td>0.0</td>\n      <td>0.0</td>\n      <td>0.0</td>\n    </tr>\n    <tr>\n      <th>...</th>\n      <td>...</td>\n      <td>...</td>\n      <td>...</td>\n      <td>...</td>\n      <td>...</td>\n      <td>...</td>\n      <td>...</td>\n      <td>...</td>\n      <td>...</td>\n      <td>...</td>\n      <td>...</td>\n    </tr>\n    <tr>\n      <th>161572</th>\n      <td>0.0</td>\n      <td>0.0</td>\n      <td>0.0</td>\n      <td>0.0</td>\n      <td>0.0</td>\n      <td>0.0</td>\n      <td>0.0</td>\n      <td>0.0</td>\n      <td>0.0</td>\n      <td>0.0</td>\n      <td>0.0</td>\n    </tr>\n    <tr>\n      <th>161573</th>\n      <td>0.0</td>\n      <td>0.0</td>\n      <td>0.0</td>\n      <td>0.0</td>\n      <td>0.0</td>\n      <td>0.0</td>\n      <td>0.0</td>\n      <td>0.0</td>\n      <td>0.0</td>\n      <td>0.0</td>\n      <td>0.0</td>\n    </tr>\n    <tr>\n      <th>161574</th>\n      <td>0.0</td>\n      <td>0.0</td>\n      <td>0.0</td>\n      <td>0.0</td>\n      <td>0.0</td>\n      <td>0.0</td>\n      <td>0.0</td>\n      <td>0.0</td>\n      <td>0.0</td>\n      <td>0.0</td>\n      <td>0.0</td>\n    </tr>\n    <tr>\n      <th>161575</th>\n      <td>0.0</td>\n      <td>0.0</td>\n      <td>0.0</td>\n      <td>0.0</td>\n      <td>0.0</td>\n      <td>0.0</td>\n      <td>0.0</td>\n      <td>0.0</td>\n      <td>0.0</td>\n      <td>0.0</td>\n      <td>0.0</td>\n    </tr>\n    <tr>\n      <th>161576</th>\n      <td>0.0</td>\n      <td>0.0</td>\n      <td>0.0</td>\n      <td>0.0</td>\n      <td>0.0</td>\n      <td>0.0</td>\n      <td>0.0</td>\n      <td>0.0</td>\n      <td>0.0</td>\n      <td>0.0</td>\n      <td>0.0</td>\n    </tr>\n  </tbody>\n</table>\n<p>161577 rows × 11 columns</p>\n</div>"
     },
     "execution_count": 3,
     "metadata": {},
     "output_type": "execute_result"
    }
   ],
   "source": [
    "# extra columns are YEAR and ScenarioID (1)\n",
    "years = range(2012,2051)\n",
    "feature_list = ['ScenarioID', 'CountryID', 'TechID', 'Year', 'Age', 'TransTypeID', 'VehTypeID', 'MassCatID', 'EngineID', 'FuelID', 'NumVeh']\n",
    "\n",
    "zero_data = np.zeros(shape=(len(years)*len(numveh95),len(feature_list)))\n",
    "\n",
    "numveh = pd.DataFrame(zero_data, columns=feature_list)\n",
    "numveh"
   ]
  },
  {
   "cell_type": "code",
   "execution_count": 4,
   "id": "e73854a2",
   "metadata": {
    "ExecuteTime": {
     "end_time": "2024-01-26T11:43:23.901730100Z",
     "start_time": "2024-01-26T11:43:23.693747100Z"
    }
   },
   "outputs": [
    {
     "data": {
      "text/plain": "        ScenarioID  CountryID  TechID  Year  Age  TransTypeID  VehTypeID  \\\n0                1          9      10  2012    0            1          2   \n1                1          9      10  2012    1            1          2   \n2                1          9      10  2012    2            1          2   \n3                1          9      10  2012    3            1          2   \n4                1          9      10  2012    4            1          2   \n...            ...        ...     ...   ...  ...          ...        ...   \n161572           1          9   10690  2050   14            2          5   \n161573           1          9   10690  2050   15            2          5   \n161574           1          9   10690  2050   16            2          5   \n161575           1          9   10690  2050   21            2          5   \n161576           1          9   10690  2050   25            2          5   \n\n        MassCatID  EngineID  FuelID      NumVeh  \n0               4        10       1   61274.572  \n1               4        10       1   88740.372  \n2               4        10       1   34836.824  \n3               4        10       1   43911.816  \n4               4        10       1  200302.196  \n...           ...       ...     ...         ...  \n161572         23        15       2       0.000  \n161573         23        15       2       0.000  \n161574         23        15       2       0.000  \n161575         23        15       2       0.000  \n161576         23        15       2       0.000  \n\n[161577 rows x 11 columns]",
      "text/html": "<div>\n<style scoped>\n    .dataframe tbody tr th:only-of-type {\n        vertical-align: middle;\n    }\n\n    .dataframe tbody tr th {\n        vertical-align: top;\n    }\n\n    .dataframe thead th {\n        text-align: right;\n    }\n</style>\n<table border=\"1\" class=\"dataframe\">\n  <thead>\n    <tr style=\"text-align: right;\">\n      <th></th>\n      <th>ScenarioID</th>\n      <th>CountryID</th>\n      <th>TechID</th>\n      <th>Year</th>\n      <th>Age</th>\n      <th>TransTypeID</th>\n      <th>VehTypeID</th>\n      <th>MassCatID</th>\n      <th>EngineID</th>\n      <th>FuelID</th>\n      <th>NumVeh</th>\n    </tr>\n  </thead>\n  <tbody>\n    <tr>\n      <th>0</th>\n      <td>1</td>\n      <td>9</td>\n      <td>10</td>\n      <td>2012</td>\n      <td>0</td>\n      <td>1</td>\n      <td>2</td>\n      <td>4</td>\n      <td>10</td>\n      <td>1</td>\n      <td>61274.572</td>\n    </tr>\n    <tr>\n      <th>1</th>\n      <td>1</td>\n      <td>9</td>\n      <td>10</td>\n      <td>2012</td>\n      <td>1</td>\n      <td>1</td>\n      <td>2</td>\n      <td>4</td>\n      <td>10</td>\n      <td>1</td>\n      <td>88740.372</td>\n    </tr>\n    <tr>\n      <th>2</th>\n      <td>1</td>\n      <td>9</td>\n      <td>10</td>\n      <td>2012</td>\n      <td>2</td>\n      <td>1</td>\n      <td>2</td>\n      <td>4</td>\n      <td>10</td>\n      <td>1</td>\n      <td>34836.824</td>\n    </tr>\n    <tr>\n      <th>3</th>\n      <td>1</td>\n      <td>9</td>\n      <td>10</td>\n      <td>2012</td>\n      <td>3</td>\n      <td>1</td>\n      <td>2</td>\n      <td>4</td>\n      <td>10</td>\n      <td>1</td>\n      <td>43911.816</td>\n    </tr>\n    <tr>\n      <th>4</th>\n      <td>1</td>\n      <td>9</td>\n      <td>10</td>\n      <td>2012</td>\n      <td>4</td>\n      <td>1</td>\n      <td>2</td>\n      <td>4</td>\n      <td>10</td>\n      <td>1</td>\n      <td>200302.196</td>\n    </tr>\n    <tr>\n      <th>...</th>\n      <td>...</td>\n      <td>...</td>\n      <td>...</td>\n      <td>...</td>\n      <td>...</td>\n      <td>...</td>\n      <td>...</td>\n      <td>...</td>\n      <td>...</td>\n      <td>...</td>\n      <td>...</td>\n    </tr>\n    <tr>\n      <th>161572</th>\n      <td>1</td>\n      <td>9</td>\n      <td>10690</td>\n      <td>2050</td>\n      <td>14</td>\n      <td>2</td>\n      <td>5</td>\n      <td>23</td>\n      <td>15</td>\n      <td>2</td>\n      <td>0.000</td>\n    </tr>\n    <tr>\n      <th>161573</th>\n      <td>1</td>\n      <td>9</td>\n      <td>10690</td>\n      <td>2050</td>\n      <td>15</td>\n      <td>2</td>\n      <td>5</td>\n      <td>23</td>\n      <td>15</td>\n      <td>2</td>\n      <td>0.000</td>\n    </tr>\n    <tr>\n      <th>161574</th>\n      <td>1</td>\n      <td>9</td>\n      <td>10690</td>\n      <td>2050</td>\n      <td>16</td>\n      <td>2</td>\n      <td>5</td>\n      <td>23</td>\n      <td>15</td>\n      <td>2</td>\n      <td>0.000</td>\n    </tr>\n    <tr>\n      <th>161575</th>\n      <td>1</td>\n      <td>9</td>\n      <td>10690</td>\n      <td>2050</td>\n      <td>21</td>\n      <td>2</td>\n      <td>5</td>\n      <td>23</td>\n      <td>15</td>\n      <td>2</td>\n      <td>0.000</td>\n    </tr>\n    <tr>\n      <th>161576</th>\n      <td>1</td>\n      <td>9</td>\n      <td>10690</td>\n      <td>2050</td>\n      <td>25</td>\n      <td>2</td>\n      <td>5</td>\n      <td>23</td>\n      <td>15</td>\n      <td>2</td>\n      <td>0.000</td>\n    </tr>\n  </tbody>\n</table>\n<p>161577 rows × 11 columns</p>\n</div>"
     },
     "execution_count": 4,
     "metadata": {},
     "output_type": "execute_result"
    }
   ],
   "source": [
    "for year in years:\n",
    "    \n",
    "    if year == 2012:\n",
    "        numveh.loc[years.index(year)*len(numveh95):(years.index(year)+1)*len(numveh95)-1, numveh95.columns] = numveh95.loc[:, numveh95.columns].values\n",
    "        numveh.loc[years.index(year)*len(numveh95):(years.index(year)+1)*len(numveh95)-1, 'Year'] = year\n",
    "    else:\n",
    "        numveh.loc[years.index(year)*len(numveh95):(years.index(year)+1)*len(numveh95)-1, [c for c in numveh95.columns if c != 'NumVeh']] = numveh95.loc[:, [c for c in numveh95.columns if c != 'NumVeh']].values\n",
    "        numveh.loc[years.index(year)*len(numveh95):(years.index(year)+1)*len(numveh95)-1, 'Year'] = year\n",
    "\n",
    "numveh = numveh.reset_index(drop=True)\n",
    "numveh['ScenarioID'] = 1\n",
    "numveh[['CountryID', 'TechID', 'Year', 'Age', 'TransTypeID', 'VehTypeID', 'MassCatID', 'EngineID', 'FuelID']] = numveh[['CountryID', 'TechID', 'Year', 'Age', 'TransTypeID', 'VehTypeID', 'MassCatID', 'EngineID', 'FuelID']].astype(int)\n",
    "numveh"
   ]
  },
  {
   "cell_type": "code",
   "execution_count": 5,
   "id": "009e006d",
   "metadata": {
    "ExecuteTime": {
     "end_time": "2024-01-26T11:43:24.288800400Z",
     "start_time": "2024-01-26T11:43:23.808188800Z"
    }
   },
   "outputs": [],
   "source": [
    "numveh.to_csv(f'./../out_data/processed/numveh.csv')"
   ]
  },
  {
   "cell_type": "code",
   "execution_count": 6,
   "outputs": [
    {
     "data": {
      "text/plain": "Empty DataFrame\nColumns: [ScenarioID, CountryID, TechID, Year, Age, TransTypeID, VehTypeID, MassCatID, EngineID, FuelID, NumVeh]\nIndex: []",
      "text/html": "<div>\n<style scoped>\n    .dataframe tbody tr th:only-of-type {\n        vertical-align: middle;\n    }\n\n    .dataframe tbody tr th {\n        vertical-align: top;\n    }\n\n    .dataframe thead th {\n        text-align: right;\n    }\n</style>\n<table border=\"1\" class=\"dataframe\">\n  <thead>\n    <tr style=\"text-align: right;\">\n      <th></th>\n      <th>ScenarioID</th>\n      <th>CountryID</th>\n      <th>TechID</th>\n      <th>Year</th>\n      <th>Age</th>\n      <th>TransTypeID</th>\n      <th>VehTypeID</th>\n      <th>MassCatID</th>\n      <th>EngineID</th>\n      <th>FuelID</th>\n      <th>NumVeh</th>\n    </tr>\n  </thead>\n  <tbody>\n  </tbody>\n</table>\n</div>"
     },
     "execution_count": 6,
     "metadata": {},
     "output_type": "execute_result"
    }
   ],
   "source": [
    "numveh[numveh.duplicated(subset=['TechID','Age','Year'])]"
   ],
   "metadata": {
    "collapsed": false,
    "ExecuteTime": {
     "end_time": "2024-01-26T11:43:24.310300900Z",
     "start_time": "2024-01-26T11:43:24.288800400Z"
    }
   },
   "id": "b1aa9ea4f4f19d10"
  },
  {
   "cell_type": "code",
   "execution_count": 7,
   "outputs": [
    {
     "data": {
      "text/plain": "        ScenarioID  CountryID  TechID  Year  Age  TransTypeID  VehTypeID  \\\n0                1          9      10  2012    0            1          2   \n1                1          9      10  2012    1            1          2   \n2                1          9      10  2012    2            1          2   \n3                1          9      10  2012    3            1          2   \n4                1          9      10  2012    4            1          2   \n...            ...        ...     ...   ...  ...          ...        ...   \n161572           1          9   10690  2050   14            2          5   \n161573           1          9   10690  2050   15            2          5   \n161574           1          9   10690  2050   16            2          5   \n161575           1          9   10690  2050   21            2          5   \n161576           1          9   10690  2050   25            2          5   \n\n        MassCatID  EngineID  FuelID      NumVeh  \n0               4        10       1   61274.572  \n1               4        10       1   88740.372  \n2               4        10       1   34836.824  \n3               4        10       1   43911.816  \n4               4        10       1  200302.196  \n...           ...       ...     ...         ...  \n161572         23        15       2       0.000  \n161573         23        15       2       0.000  \n161574         23        15       2       0.000  \n161575         23        15       2       0.000  \n161576         23        15       2       0.000  \n\n[161577 rows x 11 columns]",
      "text/html": "<div>\n<style scoped>\n    .dataframe tbody tr th:only-of-type {\n        vertical-align: middle;\n    }\n\n    .dataframe tbody tr th {\n        vertical-align: top;\n    }\n\n    .dataframe thead th {\n        text-align: right;\n    }\n</style>\n<table border=\"1\" class=\"dataframe\">\n  <thead>\n    <tr style=\"text-align: right;\">\n      <th></th>\n      <th>ScenarioID</th>\n      <th>CountryID</th>\n      <th>TechID</th>\n      <th>Year</th>\n      <th>Age</th>\n      <th>TransTypeID</th>\n      <th>VehTypeID</th>\n      <th>MassCatID</th>\n      <th>EngineID</th>\n      <th>FuelID</th>\n      <th>NumVeh</th>\n    </tr>\n  </thead>\n  <tbody>\n    <tr>\n      <th>0</th>\n      <td>1</td>\n      <td>9</td>\n      <td>10</td>\n      <td>2012</td>\n      <td>0</td>\n      <td>1</td>\n      <td>2</td>\n      <td>4</td>\n      <td>10</td>\n      <td>1</td>\n      <td>61274.572</td>\n    </tr>\n    <tr>\n      <th>1</th>\n      <td>1</td>\n      <td>9</td>\n      <td>10</td>\n      <td>2012</td>\n      <td>1</td>\n      <td>1</td>\n      <td>2</td>\n      <td>4</td>\n      <td>10</td>\n      <td>1</td>\n      <td>88740.372</td>\n    </tr>\n    <tr>\n      <th>2</th>\n      <td>1</td>\n      <td>9</td>\n      <td>10</td>\n      <td>2012</td>\n      <td>2</td>\n      <td>1</td>\n      <td>2</td>\n      <td>4</td>\n      <td>10</td>\n      <td>1</td>\n      <td>34836.824</td>\n    </tr>\n    <tr>\n      <th>3</th>\n      <td>1</td>\n      <td>9</td>\n      <td>10</td>\n      <td>2012</td>\n      <td>3</td>\n      <td>1</td>\n      <td>2</td>\n      <td>4</td>\n      <td>10</td>\n      <td>1</td>\n      <td>43911.816</td>\n    </tr>\n    <tr>\n      <th>4</th>\n      <td>1</td>\n      <td>9</td>\n      <td>10</td>\n      <td>2012</td>\n      <td>4</td>\n      <td>1</td>\n      <td>2</td>\n      <td>4</td>\n      <td>10</td>\n      <td>1</td>\n      <td>200302.196</td>\n    </tr>\n    <tr>\n      <th>...</th>\n      <td>...</td>\n      <td>...</td>\n      <td>...</td>\n      <td>...</td>\n      <td>...</td>\n      <td>...</td>\n      <td>...</td>\n      <td>...</td>\n      <td>...</td>\n      <td>...</td>\n      <td>...</td>\n    </tr>\n    <tr>\n      <th>161572</th>\n      <td>1</td>\n      <td>9</td>\n      <td>10690</td>\n      <td>2050</td>\n      <td>14</td>\n      <td>2</td>\n      <td>5</td>\n      <td>23</td>\n      <td>15</td>\n      <td>2</td>\n      <td>0.000</td>\n    </tr>\n    <tr>\n      <th>161573</th>\n      <td>1</td>\n      <td>9</td>\n      <td>10690</td>\n      <td>2050</td>\n      <td>15</td>\n      <td>2</td>\n      <td>5</td>\n      <td>23</td>\n      <td>15</td>\n      <td>2</td>\n      <td>0.000</td>\n    </tr>\n    <tr>\n      <th>161574</th>\n      <td>1</td>\n      <td>9</td>\n      <td>10690</td>\n      <td>2050</td>\n      <td>16</td>\n      <td>2</td>\n      <td>5</td>\n      <td>23</td>\n      <td>15</td>\n      <td>2</td>\n      <td>0.000</td>\n    </tr>\n    <tr>\n      <th>161575</th>\n      <td>1</td>\n      <td>9</td>\n      <td>10690</td>\n      <td>2050</td>\n      <td>21</td>\n      <td>2</td>\n      <td>5</td>\n      <td>23</td>\n      <td>15</td>\n      <td>2</td>\n      <td>0.000</td>\n    </tr>\n    <tr>\n      <th>161576</th>\n      <td>1</td>\n      <td>9</td>\n      <td>10690</td>\n      <td>2050</td>\n      <td>25</td>\n      <td>2</td>\n      <td>5</td>\n      <td>23</td>\n      <td>15</td>\n      <td>2</td>\n      <td>0.000</td>\n    </tr>\n  </tbody>\n</table>\n<p>161577 rows × 11 columns</p>\n</div>"
     },
     "execution_count": 7,
     "metadata": {},
     "output_type": "execute_result"
    }
   ],
   "source": [
    "numveh"
   ],
   "metadata": {
    "collapsed": false,
    "ExecuteTime": {
     "end_time": "2024-01-26T11:43:24.322257100Z",
     "start_time": "2024-01-26T11:43:24.310300900Z"
    }
   },
   "id": "8da44b3bbe184ffe"
  },
  {
   "cell_type": "markdown",
   "id": "8a479556",
   "metadata": {},
   "source": [
    "<b>FOR NEWVEH</b>"
   ]
  },
  {
   "cell_type": "code",
   "execution_count": 8,
   "id": "140fb0af",
   "metadata": {
    "ExecuteTime": {
     "end_time": "2024-01-26T11:43:24.374113200Z",
     "start_time": "2024-01-26T11:43:24.322257100Z"
    }
   },
   "outputs": [
    {
     "data": {
      "text/plain": "    CountryID  TransTypeID  VehTypeID  MassCatID      NumNewVeh\n0           9          1.0        2.0        4.0  139420.000000\n1           9          1.0        3.0        1.0   52683.064415\n2           9          1.0        3.0        2.0   13777.788693\n3           9          1.0        3.0        3.0    2028.146892\n4           9          1.0        4.0       11.0    3033.662976\n5           9          1.0        4.0       12.0    1455.119855\n6           9          1.0        4.0       13.0     292.217169\n7           9          1.0        6.0       31.0       3.150600\n8           9          1.0        6.0       32.0      17.304700\n9           9          1.0        6.0       33.0       1.820150\n10          9          1.0        6.0       34.0       0.000000\n11          9          1.0        8.0       41.0       0.157711\n12          9          1.0        8.0       42.0       1.439874\n13          9          1.0        8.0       43.0       1.466184\n14          9          1.0        8.0       44.0       0.465685\n15          9          1.0        8.0       45.0       0.000000\n16          9          2.0        5.0       21.0   14462.275880\n17          9          2.0        5.0       22.0    9624.614333\n18          9          2.0        5.0       23.0    3576.109787\n19          9          2.0        6.0       32.0       2.478000\n20          9          2.0        7.0       51.0       1.370166\n21          9          2.0        7.0       52.0       0.648814\n22          9          2.0        8.0       42.0       0.073854\n23          9          2.0        8.0       43.0       0.225357\n24          9          2.0        8.0       44.0       0.075122",
      "text/html": "<div>\n<style scoped>\n    .dataframe tbody tr th:only-of-type {\n        vertical-align: middle;\n    }\n\n    .dataframe tbody tr th {\n        vertical-align: top;\n    }\n\n    .dataframe thead th {\n        text-align: right;\n    }\n</style>\n<table border=\"1\" class=\"dataframe\">\n  <thead>\n    <tr style=\"text-align: right;\">\n      <th></th>\n      <th>CountryID</th>\n      <th>TransTypeID</th>\n      <th>VehTypeID</th>\n      <th>MassCatID</th>\n      <th>NumNewVeh</th>\n    </tr>\n  </thead>\n  <tbody>\n    <tr>\n      <th>0</th>\n      <td>9</td>\n      <td>1.0</td>\n      <td>2.0</td>\n      <td>4.0</td>\n      <td>139420.000000</td>\n    </tr>\n    <tr>\n      <th>1</th>\n      <td>9</td>\n      <td>1.0</td>\n      <td>3.0</td>\n      <td>1.0</td>\n      <td>52683.064415</td>\n    </tr>\n    <tr>\n      <th>2</th>\n      <td>9</td>\n      <td>1.0</td>\n      <td>3.0</td>\n      <td>2.0</td>\n      <td>13777.788693</td>\n    </tr>\n    <tr>\n      <th>3</th>\n      <td>9</td>\n      <td>1.0</td>\n      <td>3.0</td>\n      <td>3.0</td>\n      <td>2028.146892</td>\n    </tr>\n    <tr>\n      <th>4</th>\n      <td>9</td>\n      <td>1.0</td>\n      <td>4.0</td>\n      <td>11.0</td>\n      <td>3033.662976</td>\n    </tr>\n    <tr>\n      <th>5</th>\n      <td>9</td>\n      <td>1.0</td>\n      <td>4.0</td>\n      <td>12.0</td>\n      <td>1455.119855</td>\n    </tr>\n    <tr>\n      <th>6</th>\n      <td>9</td>\n      <td>1.0</td>\n      <td>4.0</td>\n      <td>13.0</td>\n      <td>292.217169</td>\n    </tr>\n    <tr>\n      <th>7</th>\n      <td>9</td>\n      <td>1.0</td>\n      <td>6.0</td>\n      <td>31.0</td>\n      <td>3.150600</td>\n    </tr>\n    <tr>\n      <th>8</th>\n      <td>9</td>\n      <td>1.0</td>\n      <td>6.0</td>\n      <td>32.0</td>\n      <td>17.304700</td>\n    </tr>\n    <tr>\n      <th>9</th>\n      <td>9</td>\n      <td>1.0</td>\n      <td>6.0</td>\n      <td>33.0</td>\n      <td>1.820150</td>\n    </tr>\n    <tr>\n      <th>10</th>\n      <td>9</td>\n      <td>1.0</td>\n      <td>6.0</td>\n      <td>34.0</td>\n      <td>0.000000</td>\n    </tr>\n    <tr>\n      <th>11</th>\n      <td>9</td>\n      <td>1.0</td>\n      <td>8.0</td>\n      <td>41.0</td>\n      <td>0.157711</td>\n    </tr>\n    <tr>\n      <th>12</th>\n      <td>9</td>\n      <td>1.0</td>\n      <td>8.0</td>\n      <td>42.0</td>\n      <td>1.439874</td>\n    </tr>\n    <tr>\n      <th>13</th>\n      <td>9</td>\n      <td>1.0</td>\n      <td>8.0</td>\n      <td>43.0</td>\n      <td>1.466184</td>\n    </tr>\n    <tr>\n      <th>14</th>\n      <td>9</td>\n      <td>1.0</td>\n      <td>8.0</td>\n      <td>44.0</td>\n      <td>0.465685</td>\n    </tr>\n    <tr>\n      <th>15</th>\n      <td>9</td>\n      <td>1.0</td>\n      <td>8.0</td>\n      <td>45.0</td>\n      <td>0.000000</td>\n    </tr>\n    <tr>\n      <th>16</th>\n      <td>9</td>\n      <td>2.0</td>\n      <td>5.0</td>\n      <td>21.0</td>\n      <td>14462.275880</td>\n    </tr>\n    <tr>\n      <th>17</th>\n      <td>9</td>\n      <td>2.0</td>\n      <td>5.0</td>\n      <td>22.0</td>\n      <td>9624.614333</td>\n    </tr>\n    <tr>\n      <th>18</th>\n      <td>9</td>\n      <td>2.0</td>\n      <td>5.0</td>\n      <td>23.0</td>\n      <td>3576.109787</td>\n    </tr>\n    <tr>\n      <th>19</th>\n      <td>9</td>\n      <td>2.0</td>\n      <td>6.0</td>\n      <td>32.0</td>\n      <td>2.478000</td>\n    </tr>\n    <tr>\n      <th>20</th>\n      <td>9</td>\n      <td>2.0</td>\n      <td>7.0</td>\n      <td>51.0</td>\n      <td>1.370166</td>\n    </tr>\n    <tr>\n      <th>21</th>\n      <td>9</td>\n      <td>2.0</td>\n      <td>7.0</td>\n      <td>52.0</td>\n      <td>0.648814</td>\n    </tr>\n    <tr>\n      <th>22</th>\n      <td>9</td>\n      <td>2.0</td>\n      <td>8.0</td>\n      <td>42.0</td>\n      <td>0.073854</td>\n    </tr>\n    <tr>\n      <th>23</th>\n      <td>9</td>\n      <td>2.0</td>\n      <td>8.0</td>\n      <td>43.0</td>\n      <td>0.225357</td>\n    </tr>\n    <tr>\n      <th>24</th>\n      <td>9</td>\n      <td>2.0</td>\n      <td>8.0</td>\n      <td>44.0</td>\n      <td>0.075122</td>\n    </tr>\n  </tbody>\n</table>\n</div>"
     },
     "execution_count": 8,
     "metadata": {},
     "output_type": "execute_result"
    }
   ],
   "source": [
    "# import newveh95 table\n",
    "newveh95 = pd.read_csv(f'./../out_data/processed/newveh95.csv')\n",
    "newveh95"
   ]
  },
  {
   "cell_type": "code",
   "execution_count": 9,
   "id": "2a055310",
   "metadata": {
    "ExecuteTime": {
     "end_time": "2024-01-26T11:43:24.374113200Z",
     "start_time": "2024-01-26T11:43:24.338824800Z"
    }
   },
   "outputs": [
    {
     "data": {
      "text/plain": "     PolicyID  ScenarioID  CountryID  Year  TransTypeID  VehTypeID  MassCatID  \\\n0         0.0         0.0        0.0   0.0          0.0        0.0        0.0   \n1         0.0         0.0        0.0   0.0          0.0        0.0        0.0   \n2         0.0         0.0        0.0   0.0          0.0        0.0        0.0   \n3         0.0         0.0        0.0   0.0          0.0        0.0        0.0   \n4         0.0         0.0        0.0   0.0          0.0        0.0        0.0   \n..        ...         ...        ...   ...          ...        ...        ...   \n970       0.0         0.0        0.0   0.0          0.0        0.0        0.0   \n971       0.0         0.0        0.0   0.0          0.0        0.0        0.0   \n972       0.0         0.0        0.0   0.0          0.0        0.0        0.0   \n973       0.0         0.0        0.0   0.0          0.0        0.0        0.0   \n974       0.0         0.0        0.0   0.0          0.0        0.0        0.0   \n\n     NumNewVeh  \n0          0.0  \n1          0.0  \n2          0.0  \n3          0.0  \n4          0.0  \n..         ...  \n970        0.0  \n971        0.0  \n972        0.0  \n973        0.0  \n974        0.0  \n\n[975 rows x 8 columns]",
      "text/html": "<div>\n<style scoped>\n    .dataframe tbody tr th:only-of-type {\n        vertical-align: middle;\n    }\n\n    .dataframe tbody tr th {\n        vertical-align: top;\n    }\n\n    .dataframe thead th {\n        text-align: right;\n    }\n</style>\n<table border=\"1\" class=\"dataframe\">\n  <thead>\n    <tr style=\"text-align: right;\">\n      <th></th>\n      <th>PolicyID</th>\n      <th>ScenarioID</th>\n      <th>CountryID</th>\n      <th>Year</th>\n      <th>TransTypeID</th>\n      <th>VehTypeID</th>\n      <th>MassCatID</th>\n      <th>NumNewVeh</th>\n    </tr>\n  </thead>\n  <tbody>\n    <tr>\n      <th>0</th>\n      <td>0.0</td>\n      <td>0.0</td>\n      <td>0.0</td>\n      <td>0.0</td>\n      <td>0.0</td>\n      <td>0.0</td>\n      <td>0.0</td>\n      <td>0.0</td>\n    </tr>\n    <tr>\n      <th>1</th>\n      <td>0.0</td>\n      <td>0.0</td>\n      <td>0.0</td>\n      <td>0.0</td>\n      <td>0.0</td>\n      <td>0.0</td>\n      <td>0.0</td>\n      <td>0.0</td>\n    </tr>\n    <tr>\n      <th>2</th>\n      <td>0.0</td>\n      <td>0.0</td>\n      <td>0.0</td>\n      <td>0.0</td>\n      <td>0.0</td>\n      <td>0.0</td>\n      <td>0.0</td>\n      <td>0.0</td>\n    </tr>\n    <tr>\n      <th>3</th>\n      <td>0.0</td>\n      <td>0.0</td>\n      <td>0.0</td>\n      <td>0.0</td>\n      <td>0.0</td>\n      <td>0.0</td>\n      <td>0.0</td>\n      <td>0.0</td>\n    </tr>\n    <tr>\n      <th>4</th>\n      <td>0.0</td>\n      <td>0.0</td>\n      <td>0.0</td>\n      <td>0.0</td>\n      <td>0.0</td>\n      <td>0.0</td>\n      <td>0.0</td>\n      <td>0.0</td>\n    </tr>\n    <tr>\n      <th>...</th>\n      <td>...</td>\n      <td>...</td>\n      <td>...</td>\n      <td>...</td>\n      <td>...</td>\n      <td>...</td>\n      <td>...</td>\n      <td>...</td>\n    </tr>\n    <tr>\n      <th>970</th>\n      <td>0.0</td>\n      <td>0.0</td>\n      <td>0.0</td>\n      <td>0.0</td>\n      <td>0.0</td>\n      <td>0.0</td>\n      <td>0.0</td>\n      <td>0.0</td>\n    </tr>\n    <tr>\n      <th>971</th>\n      <td>0.0</td>\n      <td>0.0</td>\n      <td>0.0</td>\n      <td>0.0</td>\n      <td>0.0</td>\n      <td>0.0</td>\n      <td>0.0</td>\n      <td>0.0</td>\n    </tr>\n    <tr>\n      <th>972</th>\n      <td>0.0</td>\n      <td>0.0</td>\n      <td>0.0</td>\n      <td>0.0</td>\n      <td>0.0</td>\n      <td>0.0</td>\n      <td>0.0</td>\n      <td>0.0</td>\n    </tr>\n    <tr>\n      <th>973</th>\n      <td>0.0</td>\n      <td>0.0</td>\n      <td>0.0</td>\n      <td>0.0</td>\n      <td>0.0</td>\n      <td>0.0</td>\n      <td>0.0</td>\n      <td>0.0</td>\n    </tr>\n    <tr>\n      <th>974</th>\n      <td>0.0</td>\n      <td>0.0</td>\n      <td>0.0</td>\n      <td>0.0</td>\n      <td>0.0</td>\n      <td>0.0</td>\n      <td>0.0</td>\n      <td>0.0</td>\n    </tr>\n  </tbody>\n</table>\n<p>975 rows × 8 columns</p>\n</div>"
     },
     "execution_count": 9,
     "metadata": {},
     "output_type": "execute_result"
    }
   ],
   "source": [
    "# other columns = policyID (all 0), scenarioID (all 1), year\n",
    "years = range(2012,2051)\n",
    "feature_list = ['PolicyID', 'ScenarioID', 'CountryID', 'Year', 'TransTypeID', 'VehTypeID', 'MassCatID', 'NumNewVeh']\n",
    "\n",
    "zero_data = np.zeros(shape=(len(years)*len(newveh95),len(feature_list)))\n",
    "\n",
    "newveh = pd.DataFrame(zero_data, columns=feature_list)\n",
    "newveh"
   ]
  },
  {
   "cell_type": "code",
   "execution_count": 10,
   "id": "0db3e401",
   "metadata": {
    "ExecuteTime": {
     "end_time": "2024-01-26T11:43:24.653235400Z",
     "start_time": "2024-01-26T11:43:24.355102800Z"
    }
   },
   "outputs": [
    {
     "data": {
      "text/plain": "     PolicyID  ScenarioID  CountryID  Year  TransTypeID  VehTypeID  MassCatID  \\\n0           0           1          9  2012            1          2          4   \n1           0           1          9  2012            1          3          1   \n2           0           1          9  2012            1          3          2   \n3           0           1          9  2012            1          3          3   \n4           0           1          9  2012            1          4         11   \n..        ...         ...        ...   ...          ...        ...        ...   \n970         0           1          9  2050            2          7         51   \n971         0           1          9  2050            2          7         52   \n972         0           1          9  2050            2          8         42   \n973         0           1          9  2050            2          8         43   \n974         0           1          9  2050            2          8         44   \n\n         NumNewVeh  \n0    139420.000000  \n1     52683.064415  \n2     13777.788693  \n3      2028.146892  \n4      3033.662976  \n..             ...  \n970       0.000000  \n971       0.000000  \n972       0.000000  \n973       0.000000  \n974       0.000000  \n\n[975 rows x 8 columns]",
      "text/html": "<div>\n<style scoped>\n    .dataframe tbody tr th:only-of-type {\n        vertical-align: middle;\n    }\n\n    .dataframe tbody tr th {\n        vertical-align: top;\n    }\n\n    .dataframe thead th {\n        text-align: right;\n    }\n</style>\n<table border=\"1\" class=\"dataframe\">\n  <thead>\n    <tr style=\"text-align: right;\">\n      <th></th>\n      <th>PolicyID</th>\n      <th>ScenarioID</th>\n      <th>CountryID</th>\n      <th>Year</th>\n      <th>TransTypeID</th>\n      <th>VehTypeID</th>\n      <th>MassCatID</th>\n      <th>NumNewVeh</th>\n    </tr>\n  </thead>\n  <tbody>\n    <tr>\n      <th>0</th>\n      <td>0</td>\n      <td>1</td>\n      <td>9</td>\n      <td>2012</td>\n      <td>1</td>\n      <td>2</td>\n      <td>4</td>\n      <td>139420.000000</td>\n    </tr>\n    <tr>\n      <th>1</th>\n      <td>0</td>\n      <td>1</td>\n      <td>9</td>\n      <td>2012</td>\n      <td>1</td>\n      <td>3</td>\n      <td>1</td>\n      <td>52683.064415</td>\n    </tr>\n    <tr>\n      <th>2</th>\n      <td>0</td>\n      <td>1</td>\n      <td>9</td>\n      <td>2012</td>\n      <td>1</td>\n      <td>3</td>\n      <td>2</td>\n      <td>13777.788693</td>\n    </tr>\n    <tr>\n      <th>3</th>\n      <td>0</td>\n      <td>1</td>\n      <td>9</td>\n      <td>2012</td>\n      <td>1</td>\n      <td>3</td>\n      <td>3</td>\n      <td>2028.146892</td>\n    </tr>\n    <tr>\n      <th>4</th>\n      <td>0</td>\n      <td>1</td>\n      <td>9</td>\n      <td>2012</td>\n      <td>1</td>\n      <td>4</td>\n      <td>11</td>\n      <td>3033.662976</td>\n    </tr>\n    <tr>\n      <th>...</th>\n      <td>...</td>\n      <td>...</td>\n      <td>...</td>\n      <td>...</td>\n      <td>...</td>\n      <td>...</td>\n      <td>...</td>\n      <td>...</td>\n    </tr>\n    <tr>\n      <th>970</th>\n      <td>0</td>\n      <td>1</td>\n      <td>9</td>\n      <td>2050</td>\n      <td>2</td>\n      <td>7</td>\n      <td>51</td>\n      <td>0.000000</td>\n    </tr>\n    <tr>\n      <th>971</th>\n      <td>0</td>\n      <td>1</td>\n      <td>9</td>\n      <td>2050</td>\n      <td>2</td>\n      <td>7</td>\n      <td>52</td>\n      <td>0.000000</td>\n    </tr>\n    <tr>\n      <th>972</th>\n      <td>0</td>\n      <td>1</td>\n      <td>9</td>\n      <td>2050</td>\n      <td>2</td>\n      <td>8</td>\n      <td>42</td>\n      <td>0.000000</td>\n    </tr>\n    <tr>\n      <th>973</th>\n      <td>0</td>\n      <td>1</td>\n      <td>9</td>\n      <td>2050</td>\n      <td>2</td>\n      <td>8</td>\n      <td>43</td>\n      <td>0.000000</td>\n    </tr>\n    <tr>\n      <th>974</th>\n      <td>0</td>\n      <td>1</td>\n      <td>9</td>\n      <td>2050</td>\n      <td>2</td>\n      <td>8</td>\n      <td>44</td>\n      <td>0.000000</td>\n    </tr>\n  </tbody>\n</table>\n<p>975 rows × 8 columns</p>\n</div>"
     },
     "execution_count": 10,
     "metadata": {},
     "output_type": "execute_result"
    }
   ],
   "source": [
    "for year in years:\n",
    "    \n",
    "    if year == 2012:\n",
    "        newveh.loc[years.index(year)*len(newveh95):(years.index(year)+1)*len(newveh95)-1, newveh95.columns] = newveh95.loc[:, newveh95.columns].values\n",
    "        newveh.loc[years.index(year)*len(newveh95):(years.index(year)+1)*len(newveh95)-1, 'Year'] = year\n",
    "    else:\n",
    "        newveh.loc[years.index(year)*len(newveh95):(years.index(year)+1)*len(newveh95)-1, [c for c in newveh95.columns if c != 'NumNewVeh']] = newveh95.loc[:, [c for c in newveh95.columns if c != 'NumNewVeh']].values\n",
    "        newveh.loc[years.index(year)*len(newveh95):(years.index(year)+1)*len(newveh95)-1, 'Year'] = year\n",
    "\n",
    "newveh = newveh.reset_index(drop=True)\n",
    "newveh['ScenarioID'] = 1\n",
    "newveh['PolicyID'] = 0\n",
    "newveh[['CountryID', 'Year', 'TransTypeID', 'VehTypeID', 'MassCatID']] = newveh[['CountryID', 'Year', 'TransTypeID', 'VehTypeID', 'MassCatID']].astype(int)\n",
    "newveh"
   ]
  },
  {
   "cell_type": "code",
   "execution_count": 11,
   "id": "bec03e60",
   "metadata": {
    "ExecuteTime": {
     "end_time": "2024-01-26T11:43:24.653235400Z",
     "start_time": "2024-01-26T11:43:24.409883500Z"
    }
   },
   "outputs": [],
   "source": [
    "newveh.to_csv('./../out_data/processed/newveh.csv', index=False)"
   ]
  },
  {
   "cell_type": "code",
   "execution_count": 12,
   "outputs": [
    {
     "data": {
      "text/plain": "Empty DataFrame\nColumns: [PolicyID, ScenarioID, CountryID, Year, TransTypeID, VehTypeID, MassCatID, NumNewVeh]\nIndex: []",
      "text/html": "<div>\n<style scoped>\n    .dataframe tbody tr th:only-of-type {\n        vertical-align: middle;\n    }\n\n    .dataframe tbody tr th {\n        vertical-align: top;\n    }\n\n    .dataframe thead th {\n        text-align: right;\n    }\n</style>\n<table border=\"1\" class=\"dataframe\">\n  <thead>\n    <tr style=\"text-align: right;\">\n      <th></th>\n      <th>PolicyID</th>\n      <th>ScenarioID</th>\n      <th>CountryID</th>\n      <th>Year</th>\n      <th>TransTypeID</th>\n      <th>VehTypeID</th>\n      <th>MassCatID</th>\n      <th>NumNewVeh</th>\n    </tr>\n  </thead>\n  <tbody>\n  </tbody>\n</table>\n</div>"
     },
     "execution_count": 12,
     "metadata": {},
     "output_type": "execute_result"
    }
   ],
   "source": [
    "newveh[newveh.duplicated(subset=['TransTypeID','VehTypeID','MassCatID','Year'])]"
   ],
   "metadata": {
    "collapsed": false,
    "ExecuteTime": {
     "end_time": "2024-01-26T11:43:24.653235400Z",
     "start_time": "2024-01-26T11:43:24.418551600Z"
    }
   },
   "id": "149adc57a7f01ecd"
  },
  {
   "cell_type": "markdown",
   "id": "6699a895",
   "metadata": {},
   "source": [
    "<b>FOR TOTNUMVEH</b>"
   ]
  },
  {
   "cell_type": "code",
   "execution_count": 13,
   "id": "91d8533c",
   "metadata": {
    "ExecuteTime": {
     "end_time": "2024-01-26T11:43:24.653235400Z",
     "start_time": "2024-01-26T11:43:24.431850600Z"
    }
   },
   "outputs": [
    {
     "data": {
      "text/plain": "     CountryID  TransTypeID  VehTypeID  Age      TotNumVeh    TotNumVeh-1  \\\n0            9          1.0        2.0    0   67460.380000   67460.380000   \n1            9          1.0        2.0    1   98362.740000   98362.740000   \n2            9          1.0        2.0    2   38617.040000   38617.040000   \n3            9          1.0        2.0    3   48723.000000   48723.000000   \n4            9          1.0        2.0    4  201676.820000  201676.820000   \n..         ...          ...        ...  ...            ...            ...   \n289          9          2.0        8.0    1       0.476519       0.476519   \n290          9          2.0        8.0    2       2.059436       2.059436   \n291          9          2.0        8.0    4       0.031560       0.031560   \n292          9          2.0        8.0    5       1.740618       1.740618   \n293          9          2.0        8.0    6       1.578147       1.578147   \n\n     NumVehScrap  \n0              0  \n1              0  \n2              0  \n3              0  \n4              0  \n..           ...  \n289            0  \n290            0  \n291            0  \n292            0  \n293            0  \n\n[294 rows x 7 columns]",
      "text/html": "<div>\n<style scoped>\n    .dataframe tbody tr th:only-of-type {\n        vertical-align: middle;\n    }\n\n    .dataframe tbody tr th {\n        vertical-align: top;\n    }\n\n    .dataframe thead th {\n        text-align: right;\n    }\n</style>\n<table border=\"1\" class=\"dataframe\">\n  <thead>\n    <tr style=\"text-align: right;\">\n      <th></th>\n      <th>CountryID</th>\n      <th>TransTypeID</th>\n      <th>VehTypeID</th>\n      <th>Age</th>\n      <th>TotNumVeh</th>\n      <th>TotNumVeh-1</th>\n      <th>NumVehScrap</th>\n    </tr>\n  </thead>\n  <tbody>\n    <tr>\n      <th>0</th>\n      <td>9</td>\n      <td>1.0</td>\n      <td>2.0</td>\n      <td>0</td>\n      <td>67460.380000</td>\n      <td>67460.380000</td>\n      <td>0</td>\n    </tr>\n    <tr>\n      <th>1</th>\n      <td>9</td>\n      <td>1.0</td>\n      <td>2.0</td>\n      <td>1</td>\n      <td>98362.740000</td>\n      <td>98362.740000</td>\n      <td>0</td>\n    </tr>\n    <tr>\n      <th>2</th>\n      <td>9</td>\n      <td>1.0</td>\n      <td>2.0</td>\n      <td>2</td>\n      <td>38617.040000</td>\n      <td>38617.040000</td>\n      <td>0</td>\n    </tr>\n    <tr>\n      <th>3</th>\n      <td>9</td>\n      <td>1.0</td>\n      <td>2.0</td>\n      <td>3</td>\n      <td>48723.000000</td>\n      <td>48723.000000</td>\n      <td>0</td>\n    </tr>\n    <tr>\n      <th>4</th>\n      <td>9</td>\n      <td>1.0</td>\n      <td>2.0</td>\n      <td>4</td>\n      <td>201676.820000</td>\n      <td>201676.820000</td>\n      <td>0</td>\n    </tr>\n    <tr>\n      <th>...</th>\n      <td>...</td>\n      <td>...</td>\n      <td>...</td>\n      <td>...</td>\n      <td>...</td>\n      <td>...</td>\n      <td>...</td>\n    </tr>\n    <tr>\n      <th>289</th>\n      <td>9</td>\n      <td>2.0</td>\n      <td>8.0</td>\n      <td>1</td>\n      <td>0.476519</td>\n      <td>0.476519</td>\n      <td>0</td>\n    </tr>\n    <tr>\n      <th>290</th>\n      <td>9</td>\n      <td>2.0</td>\n      <td>8.0</td>\n      <td>2</td>\n      <td>2.059436</td>\n      <td>2.059436</td>\n      <td>0</td>\n    </tr>\n    <tr>\n      <th>291</th>\n      <td>9</td>\n      <td>2.0</td>\n      <td>8.0</td>\n      <td>4</td>\n      <td>0.031560</td>\n      <td>0.031560</td>\n      <td>0</td>\n    </tr>\n    <tr>\n      <th>292</th>\n      <td>9</td>\n      <td>2.0</td>\n      <td>8.0</td>\n      <td>5</td>\n      <td>1.740618</td>\n      <td>1.740618</td>\n      <td>0</td>\n    </tr>\n    <tr>\n      <th>293</th>\n      <td>9</td>\n      <td>2.0</td>\n      <td>8.0</td>\n      <td>6</td>\n      <td>1.578147</td>\n      <td>1.578147</td>\n      <td>0</td>\n    </tr>\n  </tbody>\n</table>\n<p>294 rows × 7 columns</p>\n</div>"
     },
     "execution_count": 13,
     "metadata": {},
     "output_type": "execute_result"
    }
   ],
   "source": [
    "# import totnumveh95 table\n",
    "totnumveh95 = pd.read_csv(f'./../out_data/processed/totnumveh95.csv')\n",
    "totnumveh95"
   ]
  },
  {
   "cell_type": "code",
   "execution_count": 14,
   "id": "93fab282",
   "metadata": {
    "ExecuteTime": {
     "end_time": "2024-01-26T11:43:24.700383900Z",
     "start_time": "2024-01-26T11:43:24.447598400Z"
    }
   },
   "outputs": [
    {
     "data": {
      "text/plain": "       ScenarioID  CountryID  PolicyID  Year  TransTypeID  VehTypeID  Age  \\\n0             0.0        0.0       0.0   0.0          0.0        0.0  0.0   \n1             0.0        0.0       0.0   0.0          0.0        0.0  0.0   \n2             0.0        0.0       0.0   0.0          0.0        0.0  0.0   \n3             0.0        0.0       0.0   0.0          0.0        0.0  0.0   \n4             0.0        0.0       0.0   0.0          0.0        0.0  0.0   \n...           ...        ...       ...   ...          ...        ...  ...   \n11461         0.0        0.0       0.0   0.0          0.0        0.0  0.0   \n11462         0.0        0.0       0.0   0.0          0.0        0.0  0.0   \n11463         0.0        0.0       0.0   0.0          0.0        0.0  0.0   \n11464         0.0        0.0       0.0   0.0          0.0        0.0  0.0   \n11465         0.0        0.0       0.0   0.0          0.0        0.0  0.0   \n\n       TotNumVeh  NumVehScrap  \n0            0.0          0.0  \n1            0.0          0.0  \n2            0.0          0.0  \n3            0.0          0.0  \n4            0.0          0.0  \n...          ...          ...  \n11461        0.0          0.0  \n11462        0.0          0.0  \n11463        0.0          0.0  \n11464        0.0          0.0  \n11465        0.0          0.0  \n\n[11466 rows x 9 columns]",
      "text/html": "<div>\n<style scoped>\n    .dataframe tbody tr th:only-of-type {\n        vertical-align: middle;\n    }\n\n    .dataframe tbody tr th {\n        vertical-align: top;\n    }\n\n    .dataframe thead th {\n        text-align: right;\n    }\n</style>\n<table border=\"1\" class=\"dataframe\">\n  <thead>\n    <tr style=\"text-align: right;\">\n      <th></th>\n      <th>ScenarioID</th>\n      <th>CountryID</th>\n      <th>PolicyID</th>\n      <th>Year</th>\n      <th>TransTypeID</th>\n      <th>VehTypeID</th>\n      <th>Age</th>\n      <th>TotNumVeh</th>\n      <th>NumVehScrap</th>\n    </tr>\n  </thead>\n  <tbody>\n    <tr>\n      <th>0</th>\n      <td>0.0</td>\n      <td>0.0</td>\n      <td>0.0</td>\n      <td>0.0</td>\n      <td>0.0</td>\n      <td>0.0</td>\n      <td>0.0</td>\n      <td>0.0</td>\n      <td>0.0</td>\n    </tr>\n    <tr>\n      <th>1</th>\n      <td>0.0</td>\n      <td>0.0</td>\n      <td>0.0</td>\n      <td>0.0</td>\n      <td>0.0</td>\n      <td>0.0</td>\n      <td>0.0</td>\n      <td>0.0</td>\n      <td>0.0</td>\n    </tr>\n    <tr>\n      <th>2</th>\n      <td>0.0</td>\n      <td>0.0</td>\n      <td>0.0</td>\n      <td>0.0</td>\n      <td>0.0</td>\n      <td>0.0</td>\n      <td>0.0</td>\n      <td>0.0</td>\n      <td>0.0</td>\n    </tr>\n    <tr>\n      <th>3</th>\n      <td>0.0</td>\n      <td>0.0</td>\n      <td>0.0</td>\n      <td>0.0</td>\n      <td>0.0</td>\n      <td>0.0</td>\n      <td>0.0</td>\n      <td>0.0</td>\n      <td>0.0</td>\n    </tr>\n    <tr>\n      <th>4</th>\n      <td>0.0</td>\n      <td>0.0</td>\n      <td>0.0</td>\n      <td>0.0</td>\n      <td>0.0</td>\n      <td>0.0</td>\n      <td>0.0</td>\n      <td>0.0</td>\n      <td>0.0</td>\n    </tr>\n    <tr>\n      <th>...</th>\n      <td>...</td>\n      <td>...</td>\n      <td>...</td>\n      <td>...</td>\n      <td>...</td>\n      <td>...</td>\n      <td>...</td>\n      <td>...</td>\n      <td>...</td>\n    </tr>\n    <tr>\n      <th>11461</th>\n      <td>0.0</td>\n      <td>0.0</td>\n      <td>0.0</td>\n      <td>0.0</td>\n      <td>0.0</td>\n      <td>0.0</td>\n      <td>0.0</td>\n      <td>0.0</td>\n      <td>0.0</td>\n    </tr>\n    <tr>\n      <th>11462</th>\n      <td>0.0</td>\n      <td>0.0</td>\n      <td>0.0</td>\n      <td>0.0</td>\n      <td>0.0</td>\n      <td>0.0</td>\n      <td>0.0</td>\n      <td>0.0</td>\n      <td>0.0</td>\n    </tr>\n    <tr>\n      <th>11463</th>\n      <td>0.0</td>\n      <td>0.0</td>\n      <td>0.0</td>\n      <td>0.0</td>\n      <td>0.0</td>\n      <td>0.0</td>\n      <td>0.0</td>\n      <td>0.0</td>\n      <td>0.0</td>\n    </tr>\n    <tr>\n      <th>11464</th>\n      <td>0.0</td>\n      <td>0.0</td>\n      <td>0.0</td>\n      <td>0.0</td>\n      <td>0.0</td>\n      <td>0.0</td>\n      <td>0.0</td>\n      <td>0.0</td>\n      <td>0.0</td>\n    </tr>\n    <tr>\n      <th>11465</th>\n      <td>0.0</td>\n      <td>0.0</td>\n      <td>0.0</td>\n      <td>0.0</td>\n      <td>0.0</td>\n      <td>0.0</td>\n      <td>0.0</td>\n      <td>0.0</td>\n      <td>0.0</td>\n    </tr>\n  </tbody>\n</table>\n<p>11466 rows × 9 columns</p>\n</div>"
     },
     "execution_count": 14,
     "metadata": {},
     "output_type": "execute_result"
    }
   ],
   "source": [
    "# other columns = scenario, policy, year. take AWAY notnumveh-1\n",
    "years = range(2012,2051)\n",
    "feature_list = ['ScenarioID', 'CountryID', 'PolicyID', 'Year', 'TransTypeID', 'VehTypeID', 'Age', 'TotNumVeh', 'NumVehScrap']\n",
    "\n",
    "zero_data = np.zeros(shape=(len(years)*len(totnumveh95),len(feature_list)))\n",
    "\n",
    "totnumveh = pd.DataFrame(zero_data, columns=feature_list)\n",
    "totnumveh"
   ]
  },
  {
   "cell_type": "code",
   "execution_count": 15,
   "id": "69d87970",
   "metadata": {
    "ExecuteTime": {
     "end_time": "2024-01-26T11:43:24.795306100Z",
     "start_time": "2024-01-26T11:43:24.463552400Z"
    }
   },
   "outputs": [
    {
     "data": {
      "text/plain": "       ScenarioID  CountryID  PolicyID  Year  TransTypeID  VehTypeID  Age  \\\n0               1          9         0  2012            1          2    0   \n1               1          9         0  2012            1          2    1   \n2               1          9         0  2012            1          2    2   \n3               1          9         0  2012            1          2    3   \n4               1          9         0  2012            1          2    4   \n...           ...        ...       ...   ...          ...        ...  ...   \n11461           1          9         0  2050            2          8    1   \n11462           1          9         0  2050            2          8    2   \n11463           1          9         0  2050            2          8    4   \n11464           1          9         0  2050            2          8    5   \n11465           1          9         0  2050            2          8    6   \n\n       TotNumVeh  NumVehScrap  \n0       67460.38          0.0  \n1       98362.74          0.0  \n2       38617.04          0.0  \n3       48723.00          0.0  \n4      201676.82          0.0  \n...          ...          ...  \n11461       0.00          0.0  \n11462       0.00          0.0  \n11463       0.00          0.0  \n11464       0.00          0.0  \n11465       0.00          0.0  \n\n[11466 rows x 9 columns]",
      "text/html": "<div>\n<style scoped>\n    .dataframe tbody tr th:only-of-type {\n        vertical-align: middle;\n    }\n\n    .dataframe tbody tr th {\n        vertical-align: top;\n    }\n\n    .dataframe thead th {\n        text-align: right;\n    }\n</style>\n<table border=\"1\" class=\"dataframe\">\n  <thead>\n    <tr style=\"text-align: right;\">\n      <th></th>\n      <th>ScenarioID</th>\n      <th>CountryID</th>\n      <th>PolicyID</th>\n      <th>Year</th>\n      <th>TransTypeID</th>\n      <th>VehTypeID</th>\n      <th>Age</th>\n      <th>TotNumVeh</th>\n      <th>NumVehScrap</th>\n    </tr>\n  </thead>\n  <tbody>\n    <tr>\n      <th>0</th>\n      <td>1</td>\n      <td>9</td>\n      <td>0</td>\n      <td>2012</td>\n      <td>1</td>\n      <td>2</td>\n      <td>0</td>\n      <td>67460.38</td>\n      <td>0.0</td>\n    </tr>\n    <tr>\n      <th>1</th>\n      <td>1</td>\n      <td>9</td>\n      <td>0</td>\n      <td>2012</td>\n      <td>1</td>\n      <td>2</td>\n      <td>1</td>\n      <td>98362.74</td>\n      <td>0.0</td>\n    </tr>\n    <tr>\n      <th>2</th>\n      <td>1</td>\n      <td>9</td>\n      <td>0</td>\n      <td>2012</td>\n      <td>1</td>\n      <td>2</td>\n      <td>2</td>\n      <td>38617.04</td>\n      <td>0.0</td>\n    </tr>\n    <tr>\n      <th>3</th>\n      <td>1</td>\n      <td>9</td>\n      <td>0</td>\n      <td>2012</td>\n      <td>1</td>\n      <td>2</td>\n      <td>3</td>\n      <td>48723.00</td>\n      <td>0.0</td>\n    </tr>\n    <tr>\n      <th>4</th>\n      <td>1</td>\n      <td>9</td>\n      <td>0</td>\n      <td>2012</td>\n      <td>1</td>\n      <td>2</td>\n      <td>4</td>\n      <td>201676.82</td>\n      <td>0.0</td>\n    </tr>\n    <tr>\n      <th>...</th>\n      <td>...</td>\n      <td>...</td>\n      <td>...</td>\n      <td>...</td>\n      <td>...</td>\n      <td>...</td>\n      <td>...</td>\n      <td>...</td>\n      <td>...</td>\n    </tr>\n    <tr>\n      <th>11461</th>\n      <td>1</td>\n      <td>9</td>\n      <td>0</td>\n      <td>2050</td>\n      <td>2</td>\n      <td>8</td>\n      <td>1</td>\n      <td>0.00</td>\n      <td>0.0</td>\n    </tr>\n    <tr>\n      <th>11462</th>\n      <td>1</td>\n      <td>9</td>\n      <td>0</td>\n      <td>2050</td>\n      <td>2</td>\n      <td>8</td>\n      <td>2</td>\n      <td>0.00</td>\n      <td>0.0</td>\n    </tr>\n    <tr>\n      <th>11463</th>\n      <td>1</td>\n      <td>9</td>\n      <td>0</td>\n      <td>2050</td>\n      <td>2</td>\n      <td>8</td>\n      <td>4</td>\n      <td>0.00</td>\n      <td>0.0</td>\n    </tr>\n    <tr>\n      <th>11464</th>\n      <td>1</td>\n      <td>9</td>\n      <td>0</td>\n      <td>2050</td>\n      <td>2</td>\n      <td>8</td>\n      <td>5</td>\n      <td>0.00</td>\n      <td>0.0</td>\n    </tr>\n    <tr>\n      <th>11465</th>\n      <td>1</td>\n      <td>9</td>\n      <td>0</td>\n      <td>2050</td>\n      <td>2</td>\n      <td>8</td>\n      <td>6</td>\n      <td>0.00</td>\n      <td>0.0</td>\n    </tr>\n  </tbody>\n</table>\n<p>11466 rows × 9 columns</p>\n</div>"
     },
     "execution_count": 15,
     "metadata": {},
     "output_type": "execute_result"
    }
   ],
   "source": [
    "for year in years:\n",
    "    \n",
    "    if year == 2012:\n",
    "        totnumveh.loc[years.index(year)*len(totnumveh95):(years.index(year)+1)*len(totnumveh95)-1, [c for c in totnumveh95.columns if c not in ['TotNumVeh-1']]] = totnumveh95.loc[:, [c for c in totnumveh95.columns if c not in ['TotNumVeh-1']]].values\n",
    "        totnumveh.loc[years.index(year)*len(totnumveh95):(years.index(year)+1)*len(totnumveh95)-1, 'Year'] = year\n",
    "    else:\n",
    "        totnumveh.loc[years.index(year)*len(totnumveh95):(years.index(year)+1)*len(totnumveh95)-1, [c for c in totnumveh95.columns if c not in ['TotNumVeh', 'TotNumVeh-1', 'NumVehScrap']]] = totnumveh95.loc[:, [c for c in totnumveh95.columns if c not in ['TotNumVeh', 'TotNumVeh-1', 'NumVehScrap']]].values\n",
    "        totnumveh.loc[years.index(year)*len(totnumveh95):(years.index(year)+1)*len(totnumveh95)-1, 'Year'] = year\n",
    "\n",
    "totnumveh = totnumveh.reset_index(drop=True)\n",
    "totnumveh['ScenarioID'] = 1\n",
    "totnumveh['PolicyID'] = 0\n",
    "totnumveh[['CountryID', 'Year', 'TransTypeID', 'VehTypeID', 'Age']] = totnumveh[['CountryID', 'Year', 'TransTypeID', 'VehTypeID', 'Age']].astype(int)\n",
    "totnumveh"
   ]
  },
  {
   "cell_type": "code",
   "execution_count": 16,
   "id": "8068b21a",
   "metadata": {
    "ExecuteTime": {
     "end_time": "2024-01-26T11:43:24.795306100Z",
     "start_time": "2024-01-26T11:43:24.542447Z"
    }
   },
   "outputs": [],
   "source": [
    "totnumveh.to_csv('./../out_data/processed/totnumveh.csv', index=False)"
   ]
  },
  {
   "cell_type": "code",
   "execution_count": 17,
   "outputs": [
    {
     "data": {
      "text/plain": "Empty DataFrame\nColumns: [ScenarioID, CountryID, PolicyID, Year, TransTypeID, VehTypeID, Age, TotNumVeh, NumVehScrap]\nIndex: []",
      "text/html": "<div>\n<style scoped>\n    .dataframe tbody tr th:only-of-type {\n        vertical-align: middle;\n    }\n\n    .dataframe tbody tr th {\n        vertical-align: top;\n    }\n\n    .dataframe thead th {\n        text-align: right;\n    }\n</style>\n<table border=\"1\" class=\"dataframe\">\n  <thead>\n    <tr style=\"text-align: right;\">\n      <th></th>\n      <th>ScenarioID</th>\n      <th>CountryID</th>\n      <th>PolicyID</th>\n      <th>Year</th>\n      <th>TransTypeID</th>\n      <th>VehTypeID</th>\n      <th>Age</th>\n      <th>TotNumVeh</th>\n      <th>NumVehScrap</th>\n    </tr>\n  </thead>\n  <tbody>\n  </tbody>\n</table>\n</div>"
     },
     "execution_count": 17,
     "metadata": {},
     "output_type": "execute_result"
    }
   ],
   "source": [
    "totnumveh[totnumveh.duplicated(subset=['TransTypeID','VehTypeID','Age','Year'])]"
   ],
   "metadata": {
    "collapsed": false,
    "ExecuteTime": {
     "end_time": "2024-01-26T11:43:24.874451400Z",
     "start_time": "2024-01-26T11:43:24.574070800Z"
    }
   },
   "id": "fcfa03a2179b2634"
  },
  {
   "cell_type": "markdown",
   "id": "ed97076c",
   "metadata": {},
   "source": [
    "<b>FOR TOT</b>"
   ]
  },
  {
   "cell_type": "code",
   "execution_count": 18,
   "id": "c0c46bc9",
   "metadata": {
    "ExecuteTime": {
     "end_time": "2024-01-26T11:43:24.874451400Z",
     "start_time": "2024-01-26T11:43:24.583004600Z"
    }
   },
   "outputs": [
    {
     "data": {
      "text/plain": "    CountryID  TransTypeID  VehTypeID  MassCatID      TOT_Stock\n0           9          1.0        2.0        4.0  541467.000000\n1           9          1.0        3.0        1.0  409537.000000\n2           9          1.0        3.0        2.0  107103.000000\n3           9          1.0        3.0        3.0   15766.000000\n4           9          1.0        4.0       11.0  104241.000000\n5           9          1.0        4.0       12.0   50000.000000\n6           9          1.0        4.0       13.0   10041.000000\n7           9          1.0        6.0       31.0      89.911524\n8           9          1.0        6.0       32.0     493.794594\n9           9          1.0        6.0       33.0      51.888989\n10          9          1.0        6.0       34.0       0.999946\n11          9          1.0        8.0       41.0       4.377163\n12          9          1.0        8.0       42.0      38.850395\n13          9          1.0        8.0       43.0      40.003573\n14          9          1.0        8.0       44.0      12.327675\n15          9          1.0        8.0       45.0       0.411580\n16          9          2.0        5.0       21.0   63315.000000\n17          9          2.0        5.0       22.0   42136.000000\n18          9          2.0        5.0       23.0   15656.000000\n19          9          2.0        6.0       32.0      70.714777\n20          9          2.0        7.0       51.0      34.000629\n21          9          2.0        7.0       52.0      16.099372\n22          9          2.0        8.0       42.0       3.061072\n23          9          2.0        8.0       43.0       8.810444\n24          9          2.0        8.0       44.0       2.936947",
      "text/html": "<div>\n<style scoped>\n    .dataframe tbody tr th:only-of-type {\n        vertical-align: middle;\n    }\n\n    .dataframe tbody tr th {\n        vertical-align: top;\n    }\n\n    .dataframe thead th {\n        text-align: right;\n    }\n</style>\n<table border=\"1\" class=\"dataframe\">\n  <thead>\n    <tr style=\"text-align: right;\">\n      <th></th>\n      <th>CountryID</th>\n      <th>TransTypeID</th>\n      <th>VehTypeID</th>\n      <th>MassCatID</th>\n      <th>TOT_Stock</th>\n    </tr>\n  </thead>\n  <tbody>\n    <tr>\n      <th>0</th>\n      <td>9</td>\n      <td>1.0</td>\n      <td>2.0</td>\n      <td>4.0</td>\n      <td>541467.000000</td>\n    </tr>\n    <tr>\n      <th>1</th>\n      <td>9</td>\n      <td>1.0</td>\n      <td>3.0</td>\n      <td>1.0</td>\n      <td>409537.000000</td>\n    </tr>\n    <tr>\n      <th>2</th>\n      <td>9</td>\n      <td>1.0</td>\n      <td>3.0</td>\n      <td>2.0</td>\n      <td>107103.000000</td>\n    </tr>\n    <tr>\n      <th>3</th>\n      <td>9</td>\n      <td>1.0</td>\n      <td>3.0</td>\n      <td>3.0</td>\n      <td>15766.000000</td>\n    </tr>\n    <tr>\n      <th>4</th>\n      <td>9</td>\n      <td>1.0</td>\n      <td>4.0</td>\n      <td>11.0</td>\n      <td>104241.000000</td>\n    </tr>\n    <tr>\n      <th>5</th>\n      <td>9</td>\n      <td>1.0</td>\n      <td>4.0</td>\n      <td>12.0</td>\n      <td>50000.000000</td>\n    </tr>\n    <tr>\n      <th>6</th>\n      <td>9</td>\n      <td>1.0</td>\n      <td>4.0</td>\n      <td>13.0</td>\n      <td>10041.000000</td>\n    </tr>\n    <tr>\n      <th>7</th>\n      <td>9</td>\n      <td>1.0</td>\n      <td>6.0</td>\n      <td>31.0</td>\n      <td>89.911524</td>\n    </tr>\n    <tr>\n      <th>8</th>\n      <td>9</td>\n      <td>1.0</td>\n      <td>6.0</td>\n      <td>32.0</td>\n      <td>493.794594</td>\n    </tr>\n    <tr>\n      <th>9</th>\n      <td>9</td>\n      <td>1.0</td>\n      <td>6.0</td>\n      <td>33.0</td>\n      <td>51.888989</td>\n    </tr>\n    <tr>\n      <th>10</th>\n      <td>9</td>\n      <td>1.0</td>\n      <td>6.0</td>\n      <td>34.0</td>\n      <td>0.999946</td>\n    </tr>\n    <tr>\n      <th>11</th>\n      <td>9</td>\n      <td>1.0</td>\n      <td>8.0</td>\n      <td>41.0</td>\n      <td>4.377163</td>\n    </tr>\n    <tr>\n      <th>12</th>\n      <td>9</td>\n      <td>1.0</td>\n      <td>8.0</td>\n      <td>42.0</td>\n      <td>38.850395</td>\n    </tr>\n    <tr>\n      <th>13</th>\n      <td>9</td>\n      <td>1.0</td>\n      <td>8.0</td>\n      <td>43.0</td>\n      <td>40.003573</td>\n    </tr>\n    <tr>\n      <th>14</th>\n      <td>9</td>\n      <td>1.0</td>\n      <td>8.0</td>\n      <td>44.0</td>\n      <td>12.327675</td>\n    </tr>\n    <tr>\n      <th>15</th>\n      <td>9</td>\n      <td>1.0</td>\n      <td>8.0</td>\n      <td>45.0</td>\n      <td>0.411580</td>\n    </tr>\n    <tr>\n      <th>16</th>\n      <td>9</td>\n      <td>2.0</td>\n      <td>5.0</td>\n      <td>21.0</td>\n      <td>63315.000000</td>\n    </tr>\n    <tr>\n      <th>17</th>\n      <td>9</td>\n      <td>2.0</td>\n      <td>5.0</td>\n      <td>22.0</td>\n      <td>42136.000000</td>\n    </tr>\n    <tr>\n      <th>18</th>\n      <td>9</td>\n      <td>2.0</td>\n      <td>5.0</td>\n      <td>23.0</td>\n      <td>15656.000000</td>\n    </tr>\n    <tr>\n      <th>19</th>\n      <td>9</td>\n      <td>2.0</td>\n      <td>6.0</td>\n      <td>32.0</td>\n      <td>70.714777</td>\n    </tr>\n    <tr>\n      <th>20</th>\n      <td>9</td>\n      <td>2.0</td>\n      <td>7.0</td>\n      <td>51.0</td>\n      <td>34.000629</td>\n    </tr>\n    <tr>\n      <th>21</th>\n      <td>9</td>\n      <td>2.0</td>\n      <td>7.0</td>\n      <td>52.0</td>\n      <td>16.099372</td>\n    </tr>\n    <tr>\n      <th>22</th>\n      <td>9</td>\n      <td>2.0</td>\n      <td>8.0</td>\n      <td>42.0</td>\n      <td>3.061072</td>\n    </tr>\n    <tr>\n      <th>23</th>\n      <td>9</td>\n      <td>2.0</td>\n      <td>8.0</td>\n      <td>43.0</td>\n      <td>8.810444</td>\n    </tr>\n    <tr>\n      <th>24</th>\n      <td>9</td>\n      <td>2.0</td>\n      <td>8.0</td>\n      <td>44.0</td>\n      <td>2.936947</td>\n    </tr>\n  </tbody>\n</table>\n</div>"
     },
     "execution_count": 18,
     "metadata": {},
     "output_type": "execute_result"
    }
   ],
   "source": [
    "# import tot95 table\n",
    "tot95 = pd.read_csv(f'./../out_data/processed/tot95.csv')\n",
    "tot95"
   ]
  },
  {
   "cell_type": "code",
   "execution_count": 19,
   "id": "951a4ebe",
   "metadata": {
    "ExecuteTime": {
     "end_time": "2024-01-26T11:43:24.874451400Z",
     "start_time": "2024-01-26T11:43:24.601881600Z"
    }
   },
   "outputs": [
    {
     "data": {
      "text/plain": "     ScenarioID  CountryID  PolicyID  Year  TransTypeID  VehTypeID  MassCatID  \\\n0           0.0        0.0       0.0   0.0          0.0        0.0        0.0   \n1           0.0        0.0       0.0   0.0          0.0        0.0        0.0   \n2           0.0        0.0       0.0   0.0          0.0        0.0        0.0   \n3           0.0        0.0       0.0   0.0          0.0        0.0        0.0   \n4           0.0        0.0       0.0   0.0          0.0        0.0        0.0   \n..          ...        ...       ...   ...          ...        ...        ...   \n970         0.0        0.0       0.0   0.0          0.0        0.0        0.0   \n971         0.0        0.0       0.0   0.0          0.0        0.0        0.0   \n972         0.0        0.0       0.0   0.0          0.0        0.0        0.0   \n973         0.0        0.0       0.0   0.0          0.0        0.0        0.0   \n974         0.0        0.0       0.0   0.0          0.0        0.0        0.0   \n\n     TOT_Stock  \n0          0.0  \n1          0.0  \n2          0.0  \n3          0.0  \n4          0.0  \n..         ...  \n970        0.0  \n971        0.0  \n972        0.0  \n973        0.0  \n974        0.0  \n\n[975 rows x 8 columns]",
      "text/html": "<div>\n<style scoped>\n    .dataframe tbody tr th:only-of-type {\n        vertical-align: middle;\n    }\n\n    .dataframe tbody tr th {\n        vertical-align: top;\n    }\n\n    .dataframe thead th {\n        text-align: right;\n    }\n</style>\n<table border=\"1\" class=\"dataframe\">\n  <thead>\n    <tr style=\"text-align: right;\">\n      <th></th>\n      <th>ScenarioID</th>\n      <th>CountryID</th>\n      <th>PolicyID</th>\n      <th>Year</th>\n      <th>TransTypeID</th>\n      <th>VehTypeID</th>\n      <th>MassCatID</th>\n      <th>TOT_Stock</th>\n    </tr>\n  </thead>\n  <tbody>\n    <tr>\n      <th>0</th>\n      <td>0.0</td>\n      <td>0.0</td>\n      <td>0.0</td>\n      <td>0.0</td>\n      <td>0.0</td>\n      <td>0.0</td>\n      <td>0.0</td>\n      <td>0.0</td>\n    </tr>\n    <tr>\n      <th>1</th>\n      <td>0.0</td>\n      <td>0.0</td>\n      <td>0.0</td>\n      <td>0.0</td>\n      <td>0.0</td>\n      <td>0.0</td>\n      <td>0.0</td>\n      <td>0.0</td>\n    </tr>\n    <tr>\n      <th>2</th>\n      <td>0.0</td>\n      <td>0.0</td>\n      <td>0.0</td>\n      <td>0.0</td>\n      <td>0.0</td>\n      <td>0.0</td>\n      <td>0.0</td>\n      <td>0.0</td>\n    </tr>\n    <tr>\n      <th>3</th>\n      <td>0.0</td>\n      <td>0.0</td>\n      <td>0.0</td>\n      <td>0.0</td>\n      <td>0.0</td>\n      <td>0.0</td>\n      <td>0.0</td>\n      <td>0.0</td>\n    </tr>\n    <tr>\n      <th>4</th>\n      <td>0.0</td>\n      <td>0.0</td>\n      <td>0.0</td>\n      <td>0.0</td>\n      <td>0.0</td>\n      <td>0.0</td>\n      <td>0.0</td>\n      <td>0.0</td>\n    </tr>\n    <tr>\n      <th>...</th>\n      <td>...</td>\n      <td>...</td>\n      <td>...</td>\n      <td>...</td>\n      <td>...</td>\n      <td>...</td>\n      <td>...</td>\n      <td>...</td>\n    </tr>\n    <tr>\n      <th>970</th>\n      <td>0.0</td>\n      <td>0.0</td>\n      <td>0.0</td>\n      <td>0.0</td>\n      <td>0.0</td>\n      <td>0.0</td>\n      <td>0.0</td>\n      <td>0.0</td>\n    </tr>\n    <tr>\n      <th>971</th>\n      <td>0.0</td>\n      <td>0.0</td>\n      <td>0.0</td>\n      <td>0.0</td>\n      <td>0.0</td>\n      <td>0.0</td>\n      <td>0.0</td>\n      <td>0.0</td>\n    </tr>\n    <tr>\n      <th>972</th>\n      <td>0.0</td>\n      <td>0.0</td>\n      <td>0.0</td>\n      <td>0.0</td>\n      <td>0.0</td>\n      <td>0.0</td>\n      <td>0.0</td>\n      <td>0.0</td>\n    </tr>\n    <tr>\n      <th>973</th>\n      <td>0.0</td>\n      <td>0.0</td>\n      <td>0.0</td>\n      <td>0.0</td>\n      <td>0.0</td>\n      <td>0.0</td>\n      <td>0.0</td>\n      <td>0.0</td>\n    </tr>\n    <tr>\n      <th>974</th>\n      <td>0.0</td>\n      <td>0.0</td>\n      <td>0.0</td>\n      <td>0.0</td>\n      <td>0.0</td>\n      <td>0.0</td>\n      <td>0.0</td>\n      <td>0.0</td>\n    </tr>\n  </tbody>\n</table>\n<p>975 rows × 8 columns</p>\n</div>"
     },
     "execution_count": 19,
     "metadata": {},
     "output_type": "execute_result"
    }
   ],
   "source": [
    "# other columns = scenario, policy, year. take AWAY notnumveh-1\n",
    "years = range(2012,2051)\n",
    "feature_list = ['ScenarioID', 'CountryID', 'PolicyID', 'Year', 'TransTypeID', 'VehTypeID', 'MassCatID', 'TOT_Stock']\n",
    "\n",
    "zero_data = np.zeros(shape=(len(years)*len(tot95),len(feature_list)))\n",
    "\n",
    "tot = pd.DataFrame(zero_data, columns=feature_list)\n",
    "tot"
   ]
  },
  {
   "cell_type": "code",
   "execution_count": 20,
   "id": "c755c465",
   "metadata": {
    "ExecuteTime": {
     "end_time": "2024-01-26T11:43:24.999415900Z",
     "start_time": "2024-01-26T11:43:24.653235400Z"
    }
   },
   "outputs": [
    {
     "data": {
      "text/plain": "     ScenarioID  CountryID  PolicyID  Year  TransTypeID  VehTypeID  MassCatID  \\\n0             1          9         0  2012            1          2          4   \n1             1          9         0  2012            1          3          1   \n2             1          9         0  2012            1          3          2   \n3             1          9         0  2012            1          3          3   \n4             1          9         0  2012            1          4         11   \n..          ...        ...       ...   ...          ...        ...        ...   \n970           1          9         0  2050            2          7         51   \n971           1          9         0  2050            2          7         52   \n972           1          9         0  2050            2          8         42   \n973           1          9         0  2050            2          8         43   \n974           1          9         0  2050            2          8         44   \n\n     TOT_Stock  \n0     541467.0  \n1     409537.0  \n2     107103.0  \n3      15766.0  \n4     104241.0  \n..         ...  \n970        0.0  \n971        0.0  \n972        0.0  \n973        0.0  \n974        0.0  \n\n[975 rows x 8 columns]",
      "text/html": "<div>\n<style scoped>\n    .dataframe tbody tr th:only-of-type {\n        vertical-align: middle;\n    }\n\n    .dataframe tbody tr th {\n        vertical-align: top;\n    }\n\n    .dataframe thead th {\n        text-align: right;\n    }\n</style>\n<table border=\"1\" class=\"dataframe\">\n  <thead>\n    <tr style=\"text-align: right;\">\n      <th></th>\n      <th>ScenarioID</th>\n      <th>CountryID</th>\n      <th>PolicyID</th>\n      <th>Year</th>\n      <th>TransTypeID</th>\n      <th>VehTypeID</th>\n      <th>MassCatID</th>\n      <th>TOT_Stock</th>\n    </tr>\n  </thead>\n  <tbody>\n    <tr>\n      <th>0</th>\n      <td>1</td>\n      <td>9</td>\n      <td>0</td>\n      <td>2012</td>\n      <td>1</td>\n      <td>2</td>\n      <td>4</td>\n      <td>541467.0</td>\n    </tr>\n    <tr>\n      <th>1</th>\n      <td>1</td>\n      <td>9</td>\n      <td>0</td>\n      <td>2012</td>\n      <td>1</td>\n      <td>3</td>\n      <td>1</td>\n      <td>409537.0</td>\n    </tr>\n    <tr>\n      <th>2</th>\n      <td>1</td>\n      <td>9</td>\n      <td>0</td>\n      <td>2012</td>\n      <td>1</td>\n      <td>3</td>\n      <td>2</td>\n      <td>107103.0</td>\n    </tr>\n    <tr>\n      <th>3</th>\n      <td>1</td>\n      <td>9</td>\n      <td>0</td>\n      <td>2012</td>\n      <td>1</td>\n      <td>3</td>\n      <td>3</td>\n      <td>15766.0</td>\n    </tr>\n    <tr>\n      <th>4</th>\n      <td>1</td>\n      <td>9</td>\n      <td>0</td>\n      <td>2012</td>\n      <td>1</td>\n      <td>4</td>\n      <td>11</td>\n      <td>104241.0</td>\n    </tr>\n    <tr>\n      <th>...</th>\n      <td>...</td>\n      <td>...</td>\n      <td>...</td>\n      <td>...</td>\n      <td>...</td>\n      <td>...</td>\n      <td>...</td>\n      <td>...</td>\n    </tr>\n    <tr>\n      <th>970</th>\n      <td>1</td>\n      <td>9</td>\n      <td>0</td>\n      <td>2050</td>\n      <td>2</td>\n      <td>7</td>\n      <td>51</td>\n      <td>0.0</td>\n    </tr>\n    <tr>\n      <th>971</th>\n      <td>1</td>\n      <td>9</td>\n      <td>0</td>\n      <td>2050</td>\n      <td>2</td>\n      <td>7</td>\n      <td>52</td>\n      <td>0.0</td>\n    </tr>\n    <tr>\n      <th>972</th>\n      <td>1</td>\n      <td>9</td>\n      <td>0</td>\n      <td>2050</td>\n      <td>2</td>\n      <td>8</td>\n      <td>42</td>\n      <td>0.0</td>\n    </tr>\n    <tr>\n      <th>973</th>\n      <td>1</td>\n      <td>9</td>\n      <td>0</td>\n      <td>2050</td>\n      <td>2</td>\n      <td>8</td>\n      <td>43</td>\n      <td>0.0</td>\n    </tr>\n    <tr>\n      <th>974</th>\n      <td>1</td>\n      <td>9</td>\n      <td>0</td>\n      <td>2050</td>\n      <td>2</td>\n      <td>8</td>\n      <td>44</td>\n      <td>0.0</td>\n    </tr>\n  </tbody>\n</table>\n<p>975 rows × 8 columns</p>\n</div>"
     },
     "execution_count": 20,
     "metadata": {},
     "output_type": "execute_result"
    }
   ],
   "source": [
    "for year in years:\n",
    "    \n",
    "    if year == 2012:\n",
    "        tot.loc[years.index(year)*len(tot95):(years.index(year)+1)*len(tot95)-1, [c for c in tot95.columns]] = tot95.loc[:, [c for c in tot95.columns]].values\n",
    "        tot.loc[years.index(year)*len(tot95):(years.index(year)+1)*len(tot95)-1, 'Year'] = year\n",
    "    else:\n",
    "        tot.loc[years.index(year)*len(tot95):(years.index(year)+1)*len(tot95)-1, [c for c in tot95.columns if c not in ['TOT_Stock']]] = tot95.loc[:, [c for c in tot95.columns if c not in ['TOT_Stock']]].values\n",
    "        tot.loc[years.index(year)*len(tot95):(years.index(year)+1)*len(tot95)-1, 'Year'] = year\n",
    "\n",
    "tot = tot.reset_index(drop=True)\n",
    "tot['ScenarioID'] = 1\n",
    "tot['PolicyID'] = 0\n",
    "tot[['CountryID', 'Year', 'TransTypeID', 'VehTypeID', 'MassCatID']] = tot[['CountryID', 'Year', 'TransTypeID', 'VehTypeID', 'MassCatID']].astype(int)\n",
    "tot"
   ]
  },
  {
   "cell_type": "code",
   "execution_count": 21,
   "id": "9aab8202",
   "metadata": {
    "ExecuteTime": {
     "end_time": "2024-01-26T11:43:24.999415900Z",
     "start_time": "2024-01-26T11:43:24.676650900Z"
    }
   },
   "outputs": [],
   "source": [
    "tot.to_csv('./../out_data/processed/tot.csv', index=False)"
   ]
  },
  {
   "cell_type": "code",
   "execution_count": 22,
   "id": "542b762b",
   "metadata": {
    "ExecuteTime": {
     "end_time": "2024-01-26T11:43:24.999415900Z",
     "start_time": "2024-01-26T11:43:24.685586900Z"
    }
   },
   "outputs": [
    {
     "data": {
      "text/plain": "Empty DataFrame\nColumns: [ScenarioID, CountryID, PolicyID, Year, TransTypeID, VehTypeID, MassCatID, TOT_Stock]\nIndex: []",
      "text/html": "<div>\n<style scoped>\n    .dataframe tbody tr th:only-of-type {\n        vertical-align: middle;\n    }\n\n    .dataframe tbody tr th {\n        vertical-align: top;\n    }\n\n    .dataframe thead th {\n        text-align: right;\n    }\n</style>\n<table border=\"1\" class=\"dataframe\">\n  <thead>\n    <tr style=\"text-align: right;\">\n      <th></th>\n      <th>ScenarioID</th>\n      <th>CountryID</th>\n      <th>PolicyID</th>\n      <th>Year</th>\n      <th>TransTypeID</th>\n      <th>VehTypeID</th>\n      <th>MassCatID</th>\n      <th>TOT_Stock</th>\n    </tr>\n  </thead>\n  <tbody>\n  </tbody>\n</table>\n</div>"
     },
     "execution_count": 22,
     "metadata": {},
     "output_type": "execute_result"
    }
   ],
   "source": [
    "tot[tot.duplicated(subset=['Year','TransTypeID','VehTypeID','MassCatID'])]"
   ]
  }
 ],
 "metadata": {
  "kernelspec": {
   "display_name": "Python 3 (ipykernel)",
   "language": "python",
   "name": "python3"
  },
  "language_info": {
   "codemirror_mode": {
    "name": "ipython",
    "version": 3
   },
   "file_extension": ".py",
   "mimetype": "text/x-python",
   "name": "python",
   "nbconvert_exporter": "python",
   "pygments_lexer": "ipython3",
   "version": "3.9.12"
  }
 },
 "nbformat": 4,
 "nbformat_minor": 5
}
