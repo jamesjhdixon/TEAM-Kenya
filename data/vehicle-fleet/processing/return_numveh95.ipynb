{
 "cells": [
  {
   "cell_type": "markdown",
   "id": "bca7936d",
   "metadata": {
    "pycharm": {
     "name": "#%% md\n"
    }
   },
   "source": [
    "This notebook takes the numveh (base year vehicle numveh data) as an input as prepared by AEMDA and outputs to a new file name. \n",
    "\n",
    "Some cleaning of the AEMDA data is required:\n",
    "1. they put in a bunch of TechID==10 motorbikes at the end, so any duplicates are summed (groupby; agg)\n",
    "2. there are slight variations with what AEMDA have assigned to technologies. For example, some technologies have different EngineID assigned. Who knows what else. So we will just look up those techs from the technology table and assign the correct parameters for each.\n",
    "\n",
    "In addition, it adds numveh for vehicletypes 6,7,8."
   ]
  },
  {
   "cell_type": "code",
   "execution_count": 65,
   "id": "d5ec7546",
   "metadata": {
    "pycharm": {
     "name": "#%%\n"
    },
    "ExecuteTime": {
     "end_time": "2023-08-08T16:52:22.494616400Z",
     "start_time": "2023-08-08T16:52:22.410393600Z"
    }
   },
   "outputs": [],
   "source": [
    "import pandas as pd"
   ]
  },
  {
   "cell_type": "code",
   "execution_count": 66,
   "id": "8c4b4220",
   "metadata": {
    "pycharm": {
     "name": "#%%\n"
    },
    "ExecuteTime": {
     "end_time": "2023-08-08T16:52:22.544245900Z",
     "start_time": "2023-08-08T16:52:22.414432300Z"
    }
   },
   "outputs": [
    {
     "data": {
      "text/plain": "      Unnamed: 0  CountryID  TechID  Age  TransTypeID  VehTypeID  MassCatID  \\\n0              5          9    70.0    5          1.0        3.0        1.0   \n1              6          9    70.0    6          1.0        3.0        1.0   \n2              7          9    70.0    7          1.0        3.0        1.0   \n3              8          9    70.0    8          1.0        3.0        1.0   \n4              9          9    70.0    9          1.0        3.0        1.0   \n...          ...        ...     ...  ...          ...        ...        ...   \n3909        9110          9    10.0    2          1.0        2.0        4.0   \n3910        9111          9    10.0    3          1.0        2.0        4.0   \n3911        9112          9    10.0    4          1.0        2.0        4.0   \n3912        9113          9    10.0    5          1.0        2.0        4.0   \n3913        9114          9    10.0    6          1.0        2.0        4.0   \n\n      EngineID  FuelID      NumVeh  \n0          1.0     1.0   84.696857  \n1          1.0     1.0  169.393714  \n2          1.0     1.0  592.878000  \n3          1.0     1.0  677.574857  \n4          1.0     1.0  931.665429  \n...        ...     ...         ...  \n3909       6.0     1.0   84.880000  \n3910       6.0     1.0   63.660000  \n3911       6.0     1.0   31.830000  \n3912       6.0     1.0   21.220000  \n3913       6.0     1.0   53.050000  \n\n[3914 rows x 10 columns]",
      "text/html": "<div>\n<style scoped>\n    .dataframe tbody tr th:only-of-type {\n        vertical-align: middle;\n    }\n\n    .dataframe tbody tr th {\n        vertical-align: top;\n    }\n\n    .dataframe thead th {\n        text-align: right;\n    }\n</style>\n<table border=\"1\" class=\"dataframe\">\n  <thead>\n    <tr style=\"text-align: right;\">\n      <th></th>\n      <th>Unnamed: 0</th>\n      <th>CountryID</th>\n      <th>TechID</th>\n      <th>Age</th>\n      <th>TransTypeID</th>\n      <th>VehTypeID</th>\n      <th>MassCatID</th>\n      <th>EngineID</th>\n      <th>FuelID</th>\n      <th>NumVeh</th>\n    </tr>\n  </thead>\n  <tbody>\n    <tr>\n      <th>0</th>\n      <td>5</td>\n      <td>9</td>\n      <td>70.0</td>\n      <td>5</td>\n      <td>1.0</td>\n      <td>3.0</td>\n      <td>1.0</td>\n      <td>1.0</td>\n      <td>1.0</td>\n      <td>84.696857</td>\n    </tr>\n    <tr>\n      <th>1</th>\n      <td>6</td>\n      <td>9</td>\n      <td>70.0</td>\n      <td>6</td>\n      <td>1.0</td>\n      <td>3.0</td>\n      <td>1.0</td>\n      <td>1.0</td>\n      <td>1.0</td>\n      <td>169.393714</td>\n    </tr>\n    <tr>\n      <th>2</th>\n      <td>7</td>\n      <td>9</td>\n      <td>70.0</td>\n      <td>7</td>\n      <td>1.0</td>\n      <td>3.0</td>\n      <td>1.0</td>\n      <td>1.0</td>\n      <td>1.0</td>\n      <td>592.878000</td>\n    </tr>\n    <tr>\n      <th>3</th>\n      <td>8</td>\n      <td>9</td>\n      <td>70.0</td>\n      <td>8</td>\n      <td>1.0</td>\n      <td>3.0</td>\n      <td>1.0</td>\n      <td>1.0</td>\n      <td>1.0</td>\n      <td>677.574857</td>\n    </tr>\n    <tr>\n      <th>4</th>\n      <td>9</td>\n      <td>9</td>\n      <td>70.0</td>\n      <td>9</td>\n      <td>1.0</td>\n      <td>3.0</td>\n      <td>1.0</td>\n      <td>1.0</td>\n      <td>1.0</td>\n      <td>931.665429</td>\n    </tr>\n    <tr>\n      <th>...</th>\n      <td>...</td>\n      <td>...</td>\n      <td>...</td>\n      <td>...</td>\n      <td>...</td>\n      <td>...</td>\n      <td>...</td>\n      <td>...</td>\n      <td>...</td>\n      <td>...</td>\n    </tr>\n    <tr>\n      <th>3909</th>\n      <td>9110</td>\n      <td>9</td>\n      <td>10.0</td>\n      <td>2</td>\n      <td>1.0</td>\n      <td>2.0</td>\n      <td>4.0</td>\n      <td>6.0</td>\n      <td>1.0</td>\n      <td>84.880000</td>\n    </tr>\n    <tr>\n      <th>3910</th>\n      <td>9111</td>\n      <td>9</td>\n      <td>10.0</td>\n      <td>3</td>\n      <td>1.0</td>\n      <td>2.0</td>\n      <td>4.0</td>\n      <td>6.0</td>\n      <td>1.0</td>\n      <td>63.660000</td>\n    </tr>\n    <tr>\n      <th>3911</th>\n      <td>9112</td>\n      <td>9</td>\n      <td>10.0</td>\n      <td>4</td>\n      <td>1.0</td>\n      <td>2.0</td>\n      <td>4.0</td>\n      <td>6.0</td>\n      <td>1.0</td>\n      <td>31.830000</td>\n    </tr>\n    <tr>\n      <th>3912</th>\n      <td>9113</td>\n      <td>9</td>\n      <td>10.0</td>\n      <td>5</td>\n      <td>1.0</td>\n      <td>2.0</td>\n      <td>4.0</td>\n      <td>6.0</td>\n      <td>1.0</td>\n      <td>21.220000</td>\n    </tr>\n    <tr>\n      <th>3913</th>\n      <td>9114</td>\n      <td>9</td>\n      <td>10.0</td>\n      <td>6</td>\n      <td>1.0</td>\n      <td>2.0</td>\n      <td>4.0</td>\n      <td>6.0</td>\n      <td>1.0</td>\n      <td>53.050000</td>\n    </tr>\n  </tbody>\n</table>\n<p>3914 rows × 10 columns</p>\n</div>"
     },
     "execution_count": 66,
     "metadata": {},
     "output_type": "execute_result"
    }
   ],
   "source": [
    "# read aemda output data - vehicle numveh\n",
    "numveh = pd.read_csv(f'./../out_data/VehicleStock.csv')\n",
    "numveh"
   ]
  },
  {
   "cell_type": "code",
   "execution_count": 67,
   "outputs": [
    {
     "data": {
      "text/plain": "      TechID  ModeID  VehTypeID  MassCatID  FuelID  EngineID  TransTypeID  \\\n0         10       1          2          4       1        10            1   \n1         20       1          2          4      12        10            1   \n2         25       1          2          4      12        11            1   \n3         26       1          2          4      12        12            1   \n4         30       1          2          4       1        11            1   \n...      ...     ...        ...        ...     ...       ...          ...   \n2241   14889       1          5         28      13        13            2   \n2242   14890       1          5         28      13        13            2   \n2243   14891       1          5         28      13        13            2   \n2244   14892       1          5         28      13        13            2   \n2245   14893       1          5         28      13        13            2   \n\n      Availability  Final_Year  HybridFlag  spec_energ_consump  \\\n0             1980      2000.0           0                6.57   \n1             1995      2010.0           0                9.51   \n2             2010      2020.0           0                8.38   \n3             2020         NaN           0                7.18   \n4             2000      2010.0           0                5.65   \n...            ...         ...         ...                 ...   \n2241          2033      2038.0           0              179.20   \n2242          2038      2043.0           0              153.89   \n2243          2043      2048.0           0              132.15   \n2244          2048      2053.0           0              113.48   \n2245          2053         NaN           0               97.45   \n\n      spec_energ_electric  noise_class  PurchasePrice  ExpectedLifeFactor  \\\n0                     NaN            0         5000.0                   1   \n1                     NaN            2         7000.0                   1   \n2                     NaN            2         6000.0                   1   \n3                     NaN            2         5500.0                   1   \n4                     NaN            0         5000.0                   1   \n...                   ...          ...            ...                 ...   \n2241                  1.0            2        14000.0                   1   \n2242                  1.0            2        12000.0                   1   \n2243                  1.0            2        12000.0                   1   \n2244                  1.0            2        12000.0                   1   \n2245                  1.0            2        12000.0                   1   \n\n      Capacity  AveEconLife  SecondHandImportFlag  note  \n0          2.0           10                     0   NaN  \n1          2.0           10                     0   NaN  \n2          2.0           10                     0   NaN  \n3          2.0           10                     0   NaN  \n4          2.0           10                     0   NaN  \n...        ...          ...                   ...   ...  \n2241       2.5           10                     1   NaN  \n2242       2.5           10                     1   NaN  \n2243       2.5           10                     1   NaN  \n2244       2.5           10                     1   NaN  \n2245       2.5           10                     1   NaN  \n\n[2246 rows x 19 columns]",
      "text/html": "<div>\n<style scoped>\n    .dataframe tbody tr th:only-of-type {\n        vertical-align: middle;\n    }\n\n    .dataframe tbody tr th {\n        vertical-align: top;\n    }\n\n    .dataframe thead th {\n        text-align: right;\n    }\n</style>\n<table border=\"1\" class=\"dataframe\">\n  <thead>\n    <tr style=\"text-align: right;\">\n      <th></th>\n      <th>TechID</th>\n      <th>ModeID</th>\n      <th>VehTypeID</th>\n      <th>MassCatID</th>\n      <th>FuelID</th>\n      <th>EngineID</th>\n      <th>TransTypeID</th>\n      <th>Availability</th>\n      <th>Final_Year</th>\n      <th>HybridFlag</th>\n      <th>spec_energ_consump</th>\n      <th>spec_energ_electric</th>\n      <th>noise_class</th>\n      <th>PurchasePrice</th>\n      <th>ExpectedLifeFactor</th>\n      <th>Capacity</th>\n      <th>AveEconLife</th>\n      <th>SecondHandImportFlag</th>\n      <th>note</th>\n    </tr>\n  </thead>\n  <tbody>\n    <tr>\n      <th>0</th>\n      <td>10</td>\n      <td>1</td>\n      <td>2</td>\n      <td>4</td>\n      <td>1</td>\n      <td>10</td>\n      <td>1</td>\n      <td>1980</td>\n      <td>2000.0</td>\n      <td>0</td>\n      <td>6.57</td>\n      <td>NaN</td>\n      <td>0</td>\n      <td>5000.0</td>\n      <td>1</td>\n      <td>2.0</td>\n      <td>10</td>\n      <td>0</td>\n      <td>NaN</td>\n    </tr>\n    <tr>\n      <th>1</th>\n      <td>20</td>\n      <td>1</td>\n      <td>2</td>\n      <td>4</td>\n      <td>12</td>\n      <td>10</td>\n      <td>1</td>\n      <td>1995</td>\n      <td>2010.0</td>\n      <td>0</td>\n      <td>9.51</td>\n      <td>NaN</td>\n      <td>2</td>\n      <td>7000.0</td>\n      <td>1</td>\n      <td>2.0</td>\n      <td>10</td>\n      <td>0</td>\n      <td>NaN</td>\n    </tr>\n    <tr>\n      <th>2</th>\n      <td>25</td>\n      <td>1</td>\n      <td>2</td>\n      <td>4</td>\n      <td>12</td>\n      <td>11</td>\n      <td>1</td>\n      <td>2010</td>\n      <td>2020.0</td>\n      <td>0</td>\n      <td>8.38</td>\n      <td>NaN</td>\n      <td>2</td>\n      <td>6000.0</td>\n      <td>1</td>\n      <td>2.0</td>\n      <td>10</td>\n      <td>0</td>\n      <td>NaN</td>\n    </tr>\n    <tr>\n      <th>3</th>\n      <td>26</td>\n      <td>1</td>\n      <td>2</td>\n      <td>4</td>\n      <td>12</td>\n      <td>12</td>\n      <td>1</td>\n      <td>2020</td>\n      <td>NaN</td>\n      <td>0</td>\n      <td>7.18</td>\n      <td>NaN</td>\n      <td>2</td>\n      <td>5500.0</td>\n      <td>1</td>\n      <td>2.0</td>\n      <td>10</td>\n      <td>0</td>\n      <td>NaN</td>\n    </tr>\n    <tr>\n      <th>4</th>\n      <td>30</td>\n      <td>1</td>\n      <td>2</td>\n      <td>4</td>\n      <td>1</td>\n      <td>11</td>\n      <td>1</td>\n      <td>2000</td>\n      <td>2010.0</td>\n      <td>0</td>\n      <td>5.65</td>\n      <td>NaN</td>\n      <td>0</td>\n      <td>5000.0</td>\n      <td>1</td>\n      <td>2.0</td>\n      <td>10</td>\n      <td>0</td>\n      <td>NaN</td>\n    </tr>\n    <tr>\n      <th>...</th>\n      <td>...</td>\n      <td>...</td>\n      <td>...</td>\n      <td>...</td>\n      <td>...</td>\n      <td>...</td>\n      <td>...</td>\n      <td>...</td>\n      <td>...</td>\n      <td>...</td>\n      <td>...</td>\n      <td>...</td>\n      <td>...</td>\n      <td>...</td>\n      <td>...</td>\n      <td>...</td>\n      <td>...</td>\n      <td>...</td>\n      <td>...</td>\n    </tr>\n    <tr>\n      <th>2241</th>\n      <td>14889</td>\n      <td>1</td>\n      <td>5</td>\n      <td>28</td>\n      <td>13</td>\n      <td>13</td>\n      <td>2</td>\n      <td>2033</td>\n      <td>2038.0</td>\n      <td>0</td>\n      <td>179.20</td>\n      <td>1.0</td>\n      <td>2</td>\n      <td>14000.0</td>\n      <td>1</td>\n      <td>2.5</td>\n      <td>10</td>\n      <td>1</td>\n      <td>NaN</td>\n    </tr>\n    <tr>\n      <th>2242</th>\n      <td>14890</td>\n      <td>1</td>\n      <td>5</td>\n      <td>28</td>\n      <td>13</td>\n      <td>13</td>\n      <td>2</td>\n      <td>2038</td>\n      <td>2043.0</td>\n      <td>0</td>\n      <td>153.89</td>\n      <td>1.0</td>\n      <td>2</td>\n      <td>12000.0</td>\n      <td>1</td>\n      <td>2.5</td>\n      <td>10</td>\n      <td>1</td>\n      <td>NaN</td>\n    </tr>\n    <tr>\n      <th>2243</th>\n      <td>14891</td>\n      <td>1</td>\n      <td>5</td>\n      <td>28</td>\n      <td>13</td>\n      <td>13</td>\n      <td>2</td>\n      <td>2043</td>\n      <td>2048.0</td>\n      <td>0</td>\n      <td>132.15</td>\n      <td>1.0</td>\n      <td>2</td>\n      <td>12000.0</td>\n      <td>1</td>\n      <td>2.5</td>\n      <td>10</td>\n      <td>1</td>\n      <td>NaN</td>\n    </tr>\n    <tr>\n      <th>2244</th>\n      <td>14892</td>\n      <td>1</td>\n      <td>5</td>\n      <td>28</td>\n      <td>13</td>\n      <td>13</td>\n      <td>2</td>\n      <td>2048</td>\n      <td>2053.0</td>\n      <td>0</td>\n      <td>113.48</td>\n      <td>1.0</td>\n      <td>2</td>\n      <td>12000.0</td>\n      <td>1</td>\n      <td>2.5</td>\n      <td>10</td>\n      <td>1</td>\n      <td>NaN</td>\n    </tr>\n    <tr>\n      <th>2245</th>\n      <td>14893</td>\n      <td>1</td>\n      <td>5</td>\n      <td>28</td>\n      <td>13</td>\n      <td>13</td>\n      <td>2</td>\n      <td>2053</td>\n      <td>NaN</td>\n      <td>0</td>\n      <td>97.45</td>\n      <td>1.0</td>\n      <td>2</td>\n      <td>12000.0</td>\n      <td>1</td>\n      <td>2.5</td>\n      <td>10</td>\n      <td>1</td>\n      <td>NaN</td>\n    </tr>\n  </tbody>\n</table>\n<p>2246 rows × 19 columns</p>\n</div>"
     },
     "execution_count": 67,
     "metadata": {},
     "output_type": "execute_result"
    }
   ],
   "source": [
    "# read technology table for corrections as above\n",
    "technology = pd.read_csv(f'./../../technology.csv')\n",
    "technology"
   ],
   "metadata": {
    "collapsed": false,
    "ExecuteTime": {
     "end_time": "2023-08-08T16:52:22.544245900Z",
     "start_time": "2023-08-08T16:52:22.435607700Z"
    }
   },
   "id": "54b49e26f449168c"
  },
  {
   "cell_type": "code",
   "execution_count": 68,
   "outputs": [
    {
     "data": {
      "text/plain": "      Unnamed: 0  CountryID  TechID  Age  TransTypeID  VehTypeID  MassCatID  \\\n0              5          9    70.0    5          1.0        3.0        1.0   \n1              6          9    70.0    6          1.0        3.0        1.0   \n2              7          9    70.0    7          1.0        3.0        1.0   \n3              8          9    70.0    8          1.0        3.0        1.0   \n4              9          9    70.0    9          1.0        3.0        1.0   \n...          ...        ...     ...  ...          ...        ...        ...   \n3909        9110          9    10.0    2          1.0        2.0        4.0   \n3910        9111          9    10.0    3          1.0        2.0        4.0   \n3911        9112          9    10.0    4          1.0        2.0        4.0   \n3912        9113          9    10.0    5          1.0        2.0        4.0   \n3913        9114          9    10.0    6          1.0        2.0        4.0   \n\n      EngineID  FuelID      NumVeh  \n0          1.0     1.0   84.696857  \n1          1.0     1.0  169.393714  \n2          1.0     1.0  592.878000  \n3          1.0     1.0  677.574857  \n4          1.0     1.0  931.665429  \n...        ...     ...         ...  \n3909      10.0     1.0   84.880000  \n3910      10.0     1.0   63.660000  \n3911      10.0     1.0   31.830000  \n3912      10.0     1.0   21.220000  \n3913      10.0     1.0   53.050000  \n\n[3914 rows x 10 columns]",
      "text/html": "<div>\n<style scoped>\n    .dataframe tbody tr th:only-of-type {\n        vertical-align: middle;\n    }\n\n    .dataframe tbody tr th {\n        vertical-align: top;\n    }\n\n    .dataframe thead th {\n        text-align: right;\n    }\n</style>\n<table border=\"1\" class=\"dataframe\">\n  <thead>\n    <tr style=\"text-align: right;\">\n      <th></th>\n      <th>Unnamed: 0</th>\n      <th>CountryID</th>\n      <th>TechID</th>\n      <th>Age</th>\n      <th>TransTypeID</th>\n      <th>VehTypeID</th>\n      <th>MassCatID</th>\n      <th>EngineID</th>\n      <th>FuelID</th>\n      <th>NumVeh</th>\n    </tr>\n  </thead>\n  <tbody>\n    <tr>\n      <th>0</th>\n      <td>5</td>\n      <td>9</td>\n      <td>70.0</td>\n      <td>5</td>\n      <td>1.0</td>\n      <td>3.0</td>\n      <td>1.0</td>\n      <td>1.0</td>\n      <td>1.0</td>\n      <td>84.696857</td>\n    </tr>\n    <tr>\n      <th>1</th>\n      <td>6</td>\n      <td>9</td>\n      <td>70.0</td>\n      <td>6</td>\n      <td>1.0</td>\n      <td>3.0</td>\n      <td>1.0</td>\n      <td>1.0</td>\n      <td>1.0</td>\n      <td>169.393714</td>\n    </tr>\n    <tr>\n      <th>2</th>\n      <td>7</td>\n      <td>9</td>\n      <td>70.0</td>\n      <td>7</td>\n      <td>1.0</td>\n      <td>3.0</td>\n      <td>1.0</td>\n      <td>1.0</td>\n      <td>1.0</td>\n      <td>592.878000</td>\n    </tr>\n    <tr>\n      <th>3</th>\n      <td>8</td>\n      <td>9</td>\n      <td>70.0</td>\n      <td>8</td>\n      <td>1.0</td>\n      <td>3.0</td>\n      <td>1.0</td>\n      <td>1.0</td>\n      <td>1.0</td>\n      <td>677.574857</td>\n    </tr>\n    <tr>\n      <th>4</th>\n      <td>9</td>\n      <td>9</td>\n      <td>70.0</td>\n      <td>9</td>\n      <td>1.0</td>\n      <td>3.0</td>\n      <td>1.0</td>\n      <td>1.0</td>\n      <td>1.0</td>\n      <td>931.665429</td>\n    </tr>\n    <tr>\n      <th>...</th>\n      <td>...</td>\n      <td>...</td>\n      <td>...</td>\n      <td>...</td>\n      <td>...</td>\n      <td>...</td>\n      <td>...</td>\n      <td>...</td>\n      <td>...</td>\n      <td>...</td>\n    </tr>\n    <tr>\n      <th>3909</th>\n      <td>9110</td>\n      <td>9</td>\n      <td>10.0</td>\n      <td>2</td>\n      <td>1.0</td>\n      <td>2.0</td>\n      <td>4.0</td>\n      <td>10.0</td>\n      <td>1.0</td>\n      <td>84.880000</td>\n    </tr>\n    <tr>\n      <th>3910</th>\n      <td>9111</td>\n      <td>9</td>\n      <td>10.0</td>\n      <td>3</td>\n      <td>1.0</td>\n      <td>2.0</td>\n      <td>4.0</td>\n      <td>10.0</td>\n      <td>1.0</td>\n      <td>63.660000</td>\n    </tr>\n    <tr>\n      <th>3911</th>\n      <td>9112</td>\n      <td>9</td>\n      <td>10.0</td>\n      <td>4</td>\n      <td>1.0</td>\n      <td>2.0</td>\n      <td>4.0</td>\n      <td>10.0</td>\n      <td>1.0</td>\n      <td>31.830000</td>\n    </tr>\n    <tr>\n      <th>3912</th>\n      <td>9113</td>\n      <td>9</td>\n      <td>10.0</td>\n      <td>5</td>\n      <td>1.0</td>\n      <td>2.0</td>\n      <td>4.0</td>\n      <td>10.0</td>\n      <td>1.0</td>\n      <td>21.220000</td>\n    </tr>\n    <tr>\n      <th>3913</th>\n      <td>9114</td>\n      <td>9</td>\n      <td>10.0</td>\n      <td>6</td>\n      <td>1.0</td>\n      <td>2.0</td>\n      <td>4.0</td>\n      <td>10.0</td>\n      <td>1.0</td>\n      <td>53.050000</td>\n    </tr>\n  </tbody>\n</table>\n<p>3914 rows × 10 columns</p>\n</div>"
     },
     "execution_count": 68,
     "metadata": {},
     "output_type": "execute_result"
    }
   ],
   "source": [
    "# make corrections\n",
    "for i in list(numveh.index.values):\n",
    "    techid = numveh.TechID[i]\n",
    "    transtypeid = technology[technology['TechID'] == techid]['TransTypeID']\n",
    "    vehtypeid = technology[technology['TechID'] == techid]['VehTypeID']\n",
    "    masscatid = technology[technology['TechID'] == techid]['MassCatID']\n",
    "    engineid = technology[technology['TechID'] == techid]['EngineID']\n",
    "    fuelid = technology[technology['TechID'] == techid]['FuelID']\n",
    "    \n",
    "    numveh.at[i, 'TransTypeID'] = transtypeid\n",
    "    numveh.at[i, 'VehTypeID'] = vehtypeid\n",
    "    numveh.at[i, 'MassCatID'] = masscatid\n",
    "    numveh.at[i, 'EngineID'] = engineid\n",
    "    numveh.at[i, 'FuelID'] = fuelid\n",
    "    \n",
    "numveh"
   ],
   "metadata": {
    "collapsed": false,
    "ExecuteTime": {
     "end_time": "2023-08-08T16:52:26.886866200Z",
     "start_time": "2023-08-08T16:52:22.462983900Z"
    }
   },
   "id": "f36c09269508e583"
  },
  {
   "cell_type": "code",
   "execution_count": 69,
   "id": "87455996",
   "metadata": {
    "pycharm": {
     "name": "#%%\n"
    },
    "ExecuteTime": {
     "end_time": "2023-08-08T16:52:27.156309Z",
     "start_time": "2023-08-08T16:52:26.891179200Z"
    }
   },
   "outputs": [
    {
     "data": {
      "text/plain": "      CountryID  TechID  Age  TransTypeID  VehTypeID  MassCatID  EngineID  \\\n0             9      10   12            1          2          4        10   \n1             9      10   13            1          2          4        10   \n2             9      10   14            1          2          4        10   \n3             9      10   15            1          2          4        10   \n4             9      10   16            1          2          4        10   \n...         ...     ...  ...          ...        ...        ...       ...   \n2405          9    5879    7            2          5         28         6   \n2406          9    5880    0            2          5         28        14   \n2407          9    5880    1            2          5         28        14   \n2408          9    5880    2            2          5         28        14   \n2409          9    5880    3            2          5         28        14   \n\n      FuelID       NumVeh  \n0          1  5126.888000  \n1          1  4341.886000  \n2          1  1695.460000  \n3          1   315.866200  \n4          1    93.856110  \n...      ...          ...  \n2405      12     0.008200  \n2406      12     6.176912  \n2407      12     4.261423  \n2408      12     0.484696  \n2409      12     0.360165  \n\n[2410 rows x 9 columns]",
      "text/html": "<div>\n<style scoped>\n    .dataframe tbody tr th:only-of-type {\n        vertical-align: middle;\n    }\n\n    .dataframe tbody tr th {\n        vertical-align: top;\n    }\n\n    .dataframe thead th {\n        text-align: right;\n    }\n</style>\n<table border=\"1\" class=\"dataframe\">\n  <thead>\n    <tr style=\"text-align: right;\">\n      <th></th>\n      <th>CountryID</th>\n      <th>TechID</th>\n      <th>Age</th>\n      <th>TransTypeID</th>\n      <th>VehTypeID</th>\n      <th>MassCatID</th>\n      <th>EngineID</th>\n      <th>FuelID</th>\n      <th>NumVeh</th>\n    </tr>\n  </thead>\n  <tbody>\n    <tr>\n      <th>0</th>\n      <td>9</td>\n      <td>10</td>\n      <td>12</td>\n      <td>1</td>\n      <td>2</td>\n      <td>4</td>\n      <td>10</td>\n      <td>1</td>\n      <td>5126.888000</td>\n    </tr>\n    <tr>\n      <th>1</th>\n      <td>9</td>\n      <td>10</td>\n      <td>13</td>\n      <td>1</td>\n      <td>2</td>\n      <td>4</td>\n      <td>10</td>\n      <td>1</td>\n      <td>4341.886000</td>\n    </tr>\n    <tr>\n      <th>2</th>\n      <td>9</td>\n      <td>10</td>\n      <td>14</td>\n      <td>1</td>\n      <td>2</td>\n      <td>4</td>\n      <td>10</td>\n      <td>1</td>\n      <td>1695.460000</td>\n    </tr>\n    <tr>\n      <th>3</th>\n      <td>9</td>\n      <td>10</td>\n      <td>15</td>\n      <td>1</td>\n      <td>2</td>\n      <td>4</td>\n      <td>10</td>\n      <td>1</td>\n      <td>315.866200</td>\n    </tr>\n    <tr>\n      <th>4</th>\n      <td>9</td>\n      <td>10</td>\n      <td>16</td>\n      <td>1</td>\n      <td>2</td>\n      <td>4</td>\n      <td>10</td>\n      <td>1</td>\n      <td>93.856110</td>\n    </tr>\n    <tr>\n      <th>...</th>\n      <td>...</td>\n      <td>...</td>\n      <td>...</td>\n      <td>...</td>\n      <td>...</td>\n      <td>...</td>\n      <td>...</td>\n      <td>...</td>\n      <td>...</td>\n    </tr>\n    <tr>\n      <th>2405</th>\n      <td>9</td>\n      <td>5879</td>\n      <td>7</td>\n      <td>2</td>\n      <td>5</td>\n      <td>28</td>\n      <td>6</td>\n      <td>12</td>\n      <td>0.008200</td>\n    </tr>\n    <tr>\n      <th>2406</th>\n      <td>9</td>\n      <td>5880</td>\n      <td>0</td>\n      <td>2</td>\n      <td>5</td>\n      <td>28</td>\n      <td>14</td>\n      <td>12</td>\n      <td>6.176912</td>\n    </tr>\n    <tr>\n      <th>2407</th>\n      <td>9</td>\n      <td>5880</td>\n      <td>1</td>\n      <td>2</td>\n      <td>5</td>\n      <td>28</td>\n      <td>14</td>\n      <td>12</td>\n      <td>4.261423</td>\n    </tr>\n    <tr>\n      <th>2408</th>\n      <td>9</td>\n      <td>5880</td>\n      <td>2</td>\n      <td>2</td>\n      <td>5</td>\n      <td>28</td>\n      <td>14</td>\n      <td>12</td>\n      <td>0.484696</td>\n    </tr>\n    <tr>\n      <th>2409</th>\n      <td>9</td>\n      <td>5880</td>\n      <td>3</td>\n      <td>2</td>\n      <td>5</td>\n      <td>28</td>\n      <td>14</td>\n      <td>12</td>\n      <td>0.360165</td>\n    </tr>\n  </tbody>\n</table>\n<p>2410 rows × 9 columns</p>\n</div>"
     },
     "execution_count": 69,
     "metadata": {},
     "output_type": "execute_result"
    }
   ],
   "source": [
    "# read original (UK data) to extract data for ships, planes and trains. Use a simple proportion for each type\n",
    "numvehuk = pd.read_excel('./../sample_data/VehicleStock.xlsx')\n",
    "numvehuk"
   ]
  },
  {
   "cell_type": "code",
   "execution_count": 70,
   "id": "a38a66ae",
   "metadata": {
    "pycharm": {
     "name": "#%%\n"
    },
    "ExecuteTime": {
     "end_time": "2023-08-08T16:52:27.168316Z",
     "start_time": "2023-08-08T16:52:27.160822200Z"
    }
   },
   "outputs": [],
   "source": [
    "#Vehicle Type IDs\n",
    "\n",
    "# VehTypeID\tVehTypeAB\tVehTypeNA\n",
    "# 0\tWALK\tWalking\n",
    "# 1\tBIKE\tBicycle\n",
    "# 2\tMOTO\tMotorcycle\n",
    "# 3\tCAR\tCar\n",
    "# 4\tBUS\tBus\n",
    "# 5\tTRUCK\tTruck\n",
    "# 6\tTRAIN\tTrain\n",
    "# 7\tSHIP\tShip\n",
    "# 8\tPLANE\tAeroplane\n",
    "\n",
    "# proportions UK --> Kenya\n",
    "train_proportion = 0.1\n",
    "ship_proportion = 0.1\n",
    "plane_proportion = 0.1\n",
    "\n",
    "# # return data for trains ships planes (tsp)\n",
    "# numvehuk_trains = numvehuk[numvehuk.VehTypeID == 6]\n",
    "# numvehuk_ships = numvehuk[numvehuk.VehTypeID == 7]\n",
    "# numvehuk_planes = numvehuk[numvehuk.VehTypeID == 8]\n",
    "\n",
    "numvehuk.loc[numvehuk[numvehuk.VehTypeID == 6].index.tolist(), 'NumVeh'] *= train_proportion\n",
    "numvehuk.loc[numvehuk[numvehuk.VehTypeID == 7].index.tolist(), 'NumVeh'] *= ship_proportion\n",
    "numvehuk.loc[numvehuk[numvehuk.VehTypeID == 8].index.tolist(), 'NumVeh'] *= plane_proportion"
   ]
  },
  {
   "cell_type": "code",
   "execution_count": 71,
   "id": "6aa59a12",
   "metadata": {
    "pycharm": {
     "name": "#%%\n"
    },
    "ExecuteTime": {
     "end_time": "2023-08-08T16:52:27.188444600Z",
     "start_time": "2023-08-08T16:52:27.172843700Z"
    }
   },
   "outputs": [
    {
     "name": "stderr",
     "output_type": "stream",
     "text": [
      "C:\\Users\\ekb15182\\AppData\\Local\\Temp\\ipykernel_11836\\709587314.py:1: FutureWarning: The frame.append method is deprecated and will be removed from pandas in a future version. Use pandas.concat instead.\n",
      "  numveh = numveh.append(numvehuk[numvehuk.VehTypeID.isin([6,7,8])])\n"
     ]
    }
   ],
   "source": [
    "numveh = numveh.append(numvehuk[numvehuk.VehTypeID.isin([6,7,8])])\n",
    "numveh = numveh.reset_index(drop=True)"
   ]
  },
  {
   "cell_type": "code",
   "execution_count": 72,
   "id": "bdc2b208",
   "metadata": {
    "pycharm": {
     "name": "#%%\n"
    },
    "ExecuteTime": {
     "end_time": "2023-08-08T16:52:27.236494700Z",
     "start_time": "2023-08-08T16:52:27.177434500Z"
    }
   },
   "outputs": [
    {
     "data": {
      "text/plain": "      CountryID  TechID  Age  TransTypeID  VehTypeID  MassCatID  EngineID  \\\n0             9    70.0    5          1.0        3.0        1.0       1.0   \n1             9    70.0    6          1.0        3.0        1.0       1.0   \n2             9    70.0    7          1.0        3.0        1.0       1.0   \n3             9    70.0    8          1.0        3.0        1.0       1.0   \n4             9    70.0    9          1.0        3.0        1.0       1.0   \n...         ...     ...  ...          ...        ...        ...       ...   \n4557          9  4275.0   16          1.0        8.0       45.0       7.0   \n4558          9  4275.0   32          1.0        8.0       45.0       7.0   \n4559          9  4275.0   33          1.0        8.0       45.0       7.0   \n4560          9  4275.0   34          1.0        8.0       45.0       7.0   \n4561          9  4275.0   35          1.0        8.0       45.0       7.0   \n\n      FuelID        NumVeh  \n0        1.0  8.469686e+01  \n1        1.0  1.693937e+02  \n2        1.0  5.928780e+02  \n3        1.0  6.775749e+02  \n4        1.0  9.316654e+02  \n...      ...           ...  \n4557    15.0  9.028010e-02  \n4558    15.0  3.025660e-12  \n4559    15.0  3.782154e-16  \n4560    15.0  2.250437e-21  \n4561    15.0  5.665234e-28  \n\n[4562 rows x 9 columns]",
      "text/html": "<div>\n<style scoped>\n    .dataframe tbody tr th:only-of-type {\n        vertical-align: middle;\n    }\n\n    .dataframe tbody tr th {\n        vertical-align: top;\n    }\n\n    .dataframe thead th {\n        text-align: right;\n    }\n</style>\n<table border=\"1\" class=\"dataframe\">\n  <thead>\n    <tr style=\"text-align: right;\">\n      <th></th>\n      <th>CountryID</th>\n      <th>TechID</th>\n      <th>Age</th>\n      <th>TransTypeID</th>\n      <th>VehTypeID</th>\n      <th>MassCatID</th>\n      <th>EngineID</th>\n      <th>FuelID</th>\n      <th>NumVeh</th>\n    </tr>\n  </thead>\n  <tbody>\n    <tr>\n      <th>0</th>\n      <td>9</td>\n      <td>70.0</td>\n      <td>5</td>\n      <td>1.0</td>\n      <td>3.0</td>\n      <td>1.0</td>\n      <td>1.0</td>\n      <td>1.0</td>\n      <td>8.469686e+01</td>\n    </tr>\n    <tr>\n      <th>1</th>\n      <td>9</td>\n      <td>70.0</td>\n      <td>6</td>\n      <td>1.0</td>\n      <td>3.0</td>\n      <td>1.0</td>\n      <td>1.0</td>\n      <td>1.0</td>\n      <td>1.693937e+02</td>\n    </tr>\n    <tr>\n      <th>2</th>\n      <td>9</td>\n      <td>70.0</td>\n      <td>7</td>\n      <td>1.0</td>\n      <td>3.0</td>\n      <td>1.0</td>\n      <td>1.0</td>\n      <td>1.0</td>\n      <td>5.928780e+02</td>\n    </tr>\n    <tr>\n      <th>3</th>\n      <td>9</td>\n      <td>70.0</td>\n      <td>8</td>\n      <td>1.0</td>\n      <td>3.0</td>\n      <td>1.0</td>\n      <td>1.0</td>\n      <td>1.0</td>\n      <td>6.775749e+02</td>\n    </tr>\n    <tr>\n      <th>4</th>\n      <td>9</td>\n      <td>70.0</td>\n      <td>9</td>\n      <td>1.0</td>\n      <td>3.0</td>\n      <td>1.0</td>\n      <td>1.0</td>\n      <td>1.0</td>\n      <td>9.316654e+02</td>\n    </tr>\n    <tr>\n      <th>...</th>\n      <td>...</td>\n      <td>...</td>\n      <td>...</td>\n      <td>...</td>\n      <td>...</td>\n      <td>...</td>\n      <td>...</td>\n      <td>...</td>\n      <td>...</td>\n    </tr>\n    <tr>\n      <th>4557</th>\n      <td>9</td>\n      <td>4275.0</td>\n      <td>16</td>\n      <td>1.0</td>\n      <td>8.0</td>\n      <td>45.0</td>\n      <td>7.0</td>\n      <td>15.0</td>\n      <td>9.028010e-02</td>\n    </tr>\n    <tr>\n      <th>4558</th>\n      <td>9</td>\n      <td>4275.0</td>\n      <td>32</td>\n      <td>1.0</td>\n      <td>8.0</td>\n      <td>45.0</td>\n      <td>7.0</td>\n      <td>15.0</td>\n      <td>3.025660e-12</td>\n    </tr>\n    <tr>\n      <th>4559</th>\n      <td>9</td>\n      <td>4275.0</td>\n      <td>33</td>\n      <td>1.0</td>\n      <td>8.0</td>\n      <td>45.0</td>\n      <td>7.0</td>\n      <td>15.0</td>\n      <td>3.782154e-16</td>\n    </tr>\n    <tr>\n      <th>4560</th>\n      <td>9</td>\n      <td>4275.0</td>\n      <td>34</td>\n      <td>1.0</td>\n      <td>8.0</td>\n      <td>45.0</td>\n      <td>7.0</td>\n      <td>15.0</td>\n      <td>2.250437e-21</td>\n    </tr>\n    <tr>\n      <th>4561</th>\n      <td>9</td>\n      <td>4275.0</td>\n      <td>35</td>\n      <td>1.0</td>\n      <td>8.0</td>\n      <td>45.0</td>\n      <td>7.0</td>\n      <td>15.0</td>\n      <td>5.665234e-28</td>\n    </tr>\n  </tbody>\n</table>\n<p>4562 rows × 9 columns</p>\n</div>"
     },
     "execution_count": 72,
     "metadata": {},
     "output_type": "execute_result"
    }
   ],
   "source": [
    "numveh = numveh[numveh.columns[1:]]\n",
    "numveh"
   ]
  },
  {
   "cell_type": "code",
   "execution_count": 73,
   "outputs": [],
   "source": [
    "# get rid of duplicates - a bunch of 'extras' were put in at the end by AEMDA as TechID = 10.\n",
    "numveh = numveh.groupby([c for c in numveh.columns if c != 'NumVeh'],as_index=False).agg({'NumVeh': 'sum'})"
   ],
   "metadata": {
    "collapsed": false,
    "ExecuteTime": {
     "end_time": "2023-08-08T16:52:27.260556300Z",
     "start_time": "2023-08-08T16:52:27.195306800Z"
    }
   },
   "id": "9d9a78700d71e537"
  },
  {
   "cell_type": "code",
   "execution_count": 74,
   "id": "c5cda510",
   "metadata": {
    "pycharm": {
     "name": "#%%\n"
    },
    "ExecuteTime": {
     "end_time": "2023-08-08T16:52:27.307665200Z",
     "start_time": "2023-08-08T16:52:27.206372Z"
    }
   },
   "outputs": [],
   "source": [
    "numveh.to_csv('./../out_data/processed/numveh95.csv', index=False)"
   ]
  },
  {
   "cell_type": "code",
   "execution_count": 75,
   "outputs": [
    {
     "data": {
      "text/plain": "Empty DataFrame\nColumns: [CountryID, TechID, Age, TransTypeID, VehTypeID, MassCatID, EngineID, FuelID, NumVeh]\nIndex: []",
      "text/html": "<div>\n<style scoped>\n    .dataframe tbody tr th:only-of-type {\n        vertical-align: middle;\n    }\n\n    .dataframe tbody tr th {\n        vertical-align: top;\n    }\n\n    .dataframe thead th {\n        text-align: right;\n    }\n</style>\n<table border=\"1\" class=\"dataframe\">\n  <thead>\n    <tr style=\"text-align: right;\">\n      <th></th>\n      <th>CountryID</th>\n      <th>TechID</th>\n      <th>Age</th>\n      <th>TransTypeID</th>\n      <th>VehTypeID</th>\n      <th>MassCatID</th>\n      <th>EngineID</th>\n      <th>FuelID</th>\n      <th>NumVeh</th>\n    </tr>\n  </thead>\n  <tbody>\n  </tbody>\n</table>\n</div>"
     },
     "execution_count": 75,
     "metadata": {},
     "output_type": "execute_result"
    }
   ],
   "source": [
    "numveh[numveh.duplicated(subset=[c for c in numveh.columns if c != 'NumVeh'])]"
   ],
   "metadata": {
    "collapsed": false,
    "ExecuteTime": {
     "end_time": "2023-08-08T16:52:27.307665200Z",
     "start_time": "2023-08-08T16:52:27.232501800Z"
    }
   },
   "id": "ab2eb1f86bf04326"
  },
  {
   "cell_type": "code",
   "execution_count": 76,
   "outputs": [
    {
     "data": {
      "text/plain": "Empty DataFrame\nColumns: [CountryID, TechID, Age, TransTypeID, VehTypeID, MassCatID, EngineID, FuelID, NumVeh]\nIndex: []",
      "text/html": "<div>\n<style scoped>\n    .dataframe tbody tr th:only-of-type {\n        vertical-align: middle;\n    }\n\n    .dataframe tbody tr th {\n        vertical-align: top;\n    }\n\n    .dataframe thead th {\n        text-align: right;\n    }\n</style>\n<table border=\"1\" class=\"dataframe\">\n  <thead>\n    <tr style=\"text-align: right;\">\n      <th></th>\n      <th>CountryID</th>\n      <th>TechID</th>\n      <th>Age</th>\n      <th>TransTypeID</th>\n      <th>VehTypeID</th>\n      <th>MassCatID</th>\n      <th>EngineID</th>\n      <th>FuelID</th>\n      <th>NumVeh</th>\n    </tr>\n  </thead>\n  <tbody>\n  </tbody>\n</table>\n</div>"
     },
     "execution_count": 76,
     "metadata": {},
     "output_type": "execute_result"
    }
   ],
   "source": [
    "numveh[numveh.duplicated(subset=['TechID','Age'])]"
   ],
   "metadata": {
    "collapsed": false,
    "ExecuteTime": {
     "end_time": "2023-08-08T16:52:27.307665200Z",
     "start_time": "2023-08-08T16:52:27.242883900Z"
    }
   },
   "id": "ba7c850d7c8d3e33"
  }
 ],
 "metadata": {
  "kernelspec": {
   "display_name": "Python 3 (ipykernel)",
   "language": "python",
   "name": "python3"
  },
  "language_info": {
   "codemirror_mode": {
    "name": "ipython",
    "version": 3
   },
   "file_extension": ".py",
   "mimetype": "text/x-python",
   "name": "python",
   "nbconvert_exporter": "python",
   "pygments_lexer": "ipython3",
   "version": "3.9.12"
  }
 },
 "nbformat": 4,
 "nbformat_minor": 5
}
