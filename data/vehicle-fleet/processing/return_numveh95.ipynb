{
 "cells": [
  {
   "cell_type": "markdown",
   "id": "bca7936d",
   "metadata": {
    "pycharm": {
     "name": "#%% md\n"
    }
   },
   "source": [
    "This notebook takes the numveh (base year vehicle numveh data) as an input as prepared by AEMDA and outputs to a new file name. \n",
    "\n",
    "Some cleaning of the AEMDA data is required:\n",
    "1. they put in a bunch of TechID==10 motorbikes at the end, so any duplicates are summed (groupby; agg)\n",
    "2. there are slight variations with what AEMDA have assigned to technologies. For example, some technologies have different EngineID assigned. Who knows what else. So we will just look up those techs from the technology table and assign the correct parameters for each.\n",
    "\n",
    "In addition, it adds numveh for vehicletypes 6,7,8."
   ]
  },
  {
   "cell_type": "code",
   "execution_count": 287,
   "id": "d5ec7546",
   "metadata": {
    "pycharm": {
     "name": "#%%\n"
    },
    "ExecuteTime": {
     "end_time": "2024-01-26T11:39:44.516929Z",
     "start_time": "2024-01-26T11:39:44.400047Z"
    }
   },
   "outputs": [],
   "source": [
    "import pandas as pd"
   ]
  },
  {
   "cell_type": "code",
   "execution_count": 288,
   "id": "8c4b4220",
   "metadata": {
    "pycharm": {
     "name": "#%%\n"
    },
    "ExecuteTime": {
     "end_time": "2024-01-26T11:39:44.564745300Z",
     "start_time": "2024-01-26T11:39:44.406827500Z"
    }
   },
   "outputs": [
    {
     "data": {
      "text/plain": "      Unnamed: 0 Vehicle category          Segment  CountryID  TechID  Age  \\\n0              5   Passenger cars  PC petrol <1,4L          9    70.0    5   \n1              6   Passenger cars  PC petrol <1,4L          9    70.0    6   \n2              7   Passenger cars  PC petrol <1,4L          9    70.0    7   \n3              8   Passenger cars  PC petrol <1,4L          9    70.0    8   \n4              9   Passenger cars  PC petrol <1,4L          9    70.0    9   \n...          ...              ...              ...        ...     ...  ...   \n4095        8153      Motorcycles  MC 4S 251-750cc          9    10.0    2   \n4096        8154      Motorcycles  MC 4S 251-750cc          9    10.0    3   \n4097        8155      Motorcycles  MC 4S 251-750cc          9    10.0    4   \n4098        8156      Motorcycles  MC 4S 251-750cc          9    10.0    5   \n4099        8157      Motorcycles  MC 4S 251-750cc          9    10.0    6   \n\n      TransTypeID  VehTypeID  MassCatID  EngineID  FuelID      NumVeh  \n0             1.0        3.0        1.0       1.0     1.0   84.696857  \n1             1.0        3.0        1.0       1.0     1.0  169.393714  \n2             1.0        3.0        1.0       1.0     1.0  592.878000  \n3             1.0        3.0        1.0       1.0     1.0  677.574857  \n4             1.0        3.0        1.0       1.0     1.0  931.665429  \n...           ...        ...        ...       ...     ...         ...  \n4095          1.0        2.0        4.0       6.0     1.0   81.488000  \n4096          1.0        2.0        4.0       6.0     1.0   61.116000  \n4097          1.0        2.0        4.0       6.0     1.0   30.558000  \n4098          1.0        2.0        4.0       6.0     1.0   20.372000  \n4099          1.0        2.0        4.0       6.0     1.0   50.930000  \n\n[4100 rows x 12 columns]",
      "text/html": "<div>\n<style scoped>\n    .dataframe tbody tr th:only-of-type {\n        vertical-align: middle;\n    }\n\n    .dataframe tbody tr th {\n        vertical-align: top;\n    }\n\n    .dataframe thead th {\n        text-align: right;\n    }\n</style>\n<table border=\"1\" class=\"dataframe\">\n  <thead>\n    <tr style=\"text-align: right;\">\n      <th></th>\n      <th>Unnamed: 0</th>\n      <th>Vehicle category</th>\n      <th>Segment</th>\n      <th>CountryID</th>\n      <th>TechID</th>\n      <th>Age</th>\n      <th>TransTypeID</th>\n      <th>VehTypeID</th>\n      <th>MassCatID</th>\n      <th>EngineID</th>\n      <th>FuelID</th>\n      <th>NumVeh</th>\n    </tr>\n  </thead>\n  <tbody>\n    <tr>\n      <th>0</th>\n      <td>5</td>\n      <td>Passenger cars</td>\n      <td>PC petrol &lt;1,4L</td>\n      <td>9</td>\n      <td>70.0</td>\n      <td>5</td>\n      <td>1.0</td>\n      <td>3.0</td>\n      <td>1.0</td>\n      <td>1.0</td>\n      <td>1.0</td>\n      <td>84.696857</td>\n    </tr>\n    <tr>\n      <th>1</th>\n      <td>6</td>\n      <td>Passenger cars</td>\n      <td>PC petrol &lt;1,4L</td>\n      <td>9</td>\n      <td>70.0</td>\n      <td>6</td>\n      <td>1.0</td>\n      <td>3.0</td>\n      <td>1.0</td>\n      <td>1.0</td>\n      <td>1.0</td>\n      <td>169.393714</td>\n    </tr>\n    <tr>\n      <th>2</th>\n      <td>7</td>\n      <td>Passenger cars</td>\n      <td>PC petrol &lt;1,4L</td>\n      <td>9</td>\n      <td>70.0</td>\n      <td>7</td>\n      <td>1.0</td>\n      <td>3.0</td>\n      <td>1.0</td>\n      <td>1.0</td>\n      <td>1.0</td>\n      <td>592.878000</td>\n    </tr>\n    <tr>\n      <th>3</th>\n      <td>8</td>\n      <td>Passenger cars</td>\n      <td>PC petrol &lt;1,4L</td>\n      <td>9</td>\n      <td>70.0</td>\n      <td>8</td>\n      <td>1.0</td>\n      <td>3.0</td>\n      <td>1.0</td>\n      <td>1.0</td>\n      <td>1.0</td>\n      <td>677.574857</td>\n    </tr>\n    <tr>\n      <th>4</th>\n      <td>9</td>\n      <td>Passenger cars</td>\n      <td>PC petrol &lt;1,4L</td>\n      <td>9</td>\n      <td>70.0</td>\n      <td>9</td>\n      <td>1.0</td>\n      <td>3.0</td>\n      <td>1.0</td>\n      <td>1.0</td>\n      <td>1.0</td>\n      <td>931.665429</td>\n    </tr>\n    <tr>\n      <th>...</th>\n      <td>...</td>\n      <td>...</td>\n      <td>...</td>\n      <td>...</td>\n      <td>...</td>\n      <td>...</td>\n      <td>...</td>\n      <td>...</td>\n      <td>...</td>\n      <td>...</td>\n      <td>...</td>\n      <td>...</td>\n    </tr>\n    <tr>\n      <th>4095</th>\n      <td>8153</td>\n      <td>Motorcycles</td>\n      <td>MC 4S 251-750cc</td>\n      <td>9</td>\n      <td>10.0</td>\n      <td>2</td>\n      <td>1.0</td>\n      <td>2.0</td>\n      <td>4.0</td>\n      <td>6.0</td>\n      <td>1.0</td>\n      <td>81.488000</td>\n    </tr>\n    <tr>\n      <th>4096</th>\n      <td>8154</td>\n      <td>Motorcycles</td>\n      <td>MC 4S 251-750cc</td>\n      <td>9</td>\n      <td>10.0</td>\n      <td>3</td>\n      <td>1.0</td>\n      <td>2.0</td>\n      <td>4.0</td>\n      <td>6.0</td>\n      <td>1.0</td>\n      <td>61.116000</td>\n    </tr>\n    <tr>\n      <th>4097</th>\n      <td>8155</td>\n      <td>Motorcycles</td>\n      <td>MC 4S 251-750cc</td>\n      <td>9</td>\n      <td>10.0</td>\n      <td>4</td>\n      <td>1.0</td>\n      <td>2.0</td>\n      <td>4.0</td>\n      <td>6.0</td>\n      <td>1.0</td>\n      <td>30.558000</td>\n    </tr>\n    <tr>\n      <th>4098</th>\n      <td>8156</td>\n      <td>Motorcycles</td>\n      <td>MC 4S 251-750cc</td>\n      <td>9</td>\n      <td>10.0</td>\n      <td>5</td>\n      <td>1.0</td>\n      <td>2.0</td>\n      <td>4.0</td>\n      <td>6.0</td>\n      <td>1.0</td>\n      <td>20.372000</td>\n    </tr>\n    <tr>\n      <th>4099</th>\n      <td>8157</td>\n      <td>Motorcycles</td>\n      <td>MC 4S 251-750cc</td>\n      <td>9</td>\n      <td>10.0</td>\n      <td>6</td>\n      <td>1.0</td>\n      <td>2.0</td>\n      <td>4.0</td>\n      <td>6.0</td>\n      <td>1.0</td>\n      <td>50.930000</td>\n    </tr>\n  </tbody>\n</table>\n<p>4100 rows × 12 columns</p>\n</div>"
     },
     "execution_count": 288,
     "metadata": {},
     "output_type": "execute_result"
    }
   ],
   "source": [
    "# read aemda output data - vehicle numveh\n",
    "numveh = pd.read_csv(f'./../out_data/VehicleStock.csv')  # TODO: here we are using the update (Jan 24) without erroneous techIDs\n",
    "numveh"
   ]
  },
  {
   "cell_type": "code",
   "execution_count": 289,
   "outputs": [
    {
     "data": {
      "text/plain": "      TechID  ModeID  VehTypeID  MassCatID  FuelID  EngineID  TransTypeID  \\\n0         10       1          2          4       1        10            1   \n1         20       1          2          4      12        10            1   \n2         25       1          2          4      12        11            1   \n3         26       1          2          4      12        12            1   \n4         30       1          2          4       1        11            1   \n...      ...     ...        ...        ...     ...       ...          ...   \n2241   14889       1          5         28      13        13            2   \n2242   14890       1          5         28      13        13            2   \n2243   14891       1          5         28      13        13            2   \n2244   14892       1          5         28      13        13            2   \n2245   14893       1          5         28      13        13            2   \n\n      Availability  Final_Year  HybridFlag  spec_energ_consump  \\\n0             1980      2000.0           0                6.57   \n1             1995      2010.0           0                9.51   \n2             2010      2020.0           0                8.38   \n3             2020         NaN           0                7.18   \n4             2000      2010.0           0                5.65   \n...            ...         ...         ...                 ...   \n2241          2033      2038.0           0              179.20   \n2242          2038      2043.0           0              153.89   \n2243          2043      2048.0           0              132.15   \n2244          2048      2053.0           0              113.48   \n2245          2053         NaN           0               97.45   \n\n      spec_energ_electric  noise_class  PurchasePrice  ExpectedLifeFactor  \\\n0                     NaN            0         5000.0                   1   \n1                     NaN            2         7000.0                   1   \n2                     NaN            2         6000.0                   1   \n3                     NaN            2         5500.0                   1   \n4                     NaN            0         5000.0                   1   \n...                   ...          ...            ...                 ...   \n2241                  1.0            2        14000.0                   1   \n2242                  1.0            2        12000.0                   1   \n2243                  1.0            2        12000.0                   1   \n2244                  1.0            2        12000.0                   1   \n2245                  1.0            2        12000.0                   1   \n\n      Capacity  AveEconLife  SecondHandImportFlag  note  \n0          2.0           10                     0   NaN  \n1          2.0           10                     0   NaN  \n2          2.0           10                     0   NaN  \n3          2.0           10                     0   NaN  \n4          2.0           10                     0   NaN  \n...        ...          ...                   ...   ...  \n2241       2.5           10                     1   NaN  \n2242       2.5           10                     1   NaN  \n2243       2.5           10                     1   NaN  \n2244       2.5           10                     1   NaN  \n2245       2.5           10                     1   NaN  \n\n[2246 rows x 19 columns]",
      "text/html": "<div>\n<style scoped>\n    .dataframe tbody tr th:only-of-type {\n        vertical-align: middle;\n    }\n\n    .dataframe tbody tr th {\n        vertical-align: top;\n    }\n\n    .dataframe thead th {\n        text-align: right;\n    }\n</style>\n<table border=\"1\" class=\"dataframe\">\n  <thead>\n    <tr style=\"text-align: right;\">\n      <th></th>\n      <th>TechID</th>\n      <th>ModeID</th>\n      <th>VehTypeID</th>\n      <th>MassCatID</th>\n      <th>FuelID</th>\n      <th>EngineID</th>\n      <th>TransTypeID</th>\n      <th>Availability</th>\n      <th>Final_Year</th>\n      <th>HybridFlag</th>\n      <th>spec_energ_consump</th>\n      <th>spec_energ_electric</th>\n      <th>noise_class</th>\n      <th>PurchasePrice</th>\n      <th>ExpectedLifeFactor</th>\n      <th>Capacity</th>\n      <th>AveEconLife</th>\n      <th>SecondHandImportFlag</th>\n      <th>note</th>\n    </tr>\n  </thead>\n  <tbody>\n    <tr>\n      <th>0</th>\n      <td>10</td>\n      <td>1</td>\n      <td>2</td>\n      <td>4</td>\n      <td>1</td>\n      <td>10</td>\n      <td>1</td>\n      <td>1980</td>\n      <td>2000.0</td>\n      <td>0</td>\n      <td>6.57</td>\n      <td>NaN</td>\n      <td>0</td>\n      <td>5000.0</td>\n      <td>1</td>\n      <td>2.0</td>\n      <td>10</td>\n      <td>0</td>\n      <td>NaN</td>\n    </tr>\n    <tr>\n      <th>1</th>\n      <td>20</td>\n      <td>1</td>\n      <td>2</td>\n      <td>4</td>\n      <td>12</td>\n      <td>10</td>\n      <td>1</td>\n      <td>1995</td>\n      <td>2010.0</td>\n      <td>0</td>\n      <td>9.51</td>\n      <td>NaN</td>\n      <td>2</td>\n      <td>7000.0</td>\n      <td>1</td>\n      <td>2.0</td>\n      <td>10</td>\n      <td>0</td>\n      <td>NaN</td>\n    </tr>\n    <tr>\n      <th>2</th>\n      <td>25</td>\n      <td>1</td>\n      <td>2</td>\n      <td>4</td>\n      <td>12</td>\n      <td>11</td>\n      <td>1</td>\n      <td>2010</td>\n      <td>2020.0</td>\n      <td>0</td>\n      <td>8.38</td>\n      <td>NaN</td>\n      <td>2</td>\n      <td>6000.0</td>\n      <td>1</td>\n      <td>2.0</td>\n      <td>10</td>\n      <td>0</td>\n      <td>NaN</td>\n    </tr>\n    <tr>\n      <th>3</th>\n      <td>26</td>\n      <td>1</td>\n      <td>2</td>\n      <td>4</td>\n      <td>12</td>\n      <td>12</td>\n      <td>1</td>\n      <td>2020</td>\n      <td>NaN</td>\n      <td>0</td>\n      <td>7.18</td>\n      <td>NaN</td>\n      <td>2</td>\n      <td>5500.0</td>\n      <td>1</td>\n      <td>2.0</td>\n      <td>10</td>\n      <td>0</td>\n      <td>NaN</td>\n    </tr>\n    <tr>\n      <th>4</th>\n      <td>30</td>\n      <td>1</td>\n      <td>2</td>\n      <td>4</td>\n      <td>1</td>\n      <td>11</td>\n      <td>1</td>\n      <td>2000</td>\n      <td>2010.0</td>\n      <td>0</td>\n      <td>5.65</td>\n      <td>NaN</td>\n      <td>0</td>\n      <td>5000.0</td>\n      <td>1</td>\n      <td>2.0</td>\n      <td>10</td>\n      <td>0</td>\n      <td>NaN</td>\n    </tr>\n    <tr>\n      <th>...</th>\n      <td>...</td>\n      <td>...</td>\n      <td>...</td>\n      <td>...</td>\n      <td>...</td>\n      <td>...</td>\n      <td>...</td>\n      <td>...</td>\n      <td>...</td>\n      <td>...</td>\n      <td>...</td>\n      <td>...</td>\n      <td>...</td>\n      <td>...</td>\n      <td>...</td>\n      <td>...</td>\n      <td>...</td>\n      <td>...</td>\n      <td>...</td>\n    </tr>\n    <tr>\n      <th>2241</th>\n      <td>14889</td>\n      <td>1</td>\n      <td>5</td>\n      <td>28</td>\n      <td>13</td>\n      <td>13</td>\n      <td>2</td>\n      <td>2033</td>\n      <td>2038.0</td>\n      <td>0</td>\n      <td>179.20</td>\n      <td>1.0</td>\n      <td>2</td>\n      <td>14000.0</td>\n      <td>1</td>\n      <td>2.5</td>\n      <td>10</td>\n      <td>1</td>\n      <td>NaN</td>\n    </tr>\n    <tr>\n      <th>2242</th>\n      <td>14890</td>\n      <td>1</td>\n      <td>5</td>\n      <td>28</td>\n      <td>13</td>\n      <td>13</td>\n      <td>2</td>\n      <td>2038</td>\n      <td>2043.0</td>\n      <td>0</td>\n      <td>153.89</td>\n      <td>1.0</td>\n      <td>2</td>\n      <td>12000.0</td>\n      <td>1</td>\n      <td>2.5</td>\n      <td>10</td>\n      <td>1</td>\n      <td>NaN</td>\n    </tr>\n    <tr>\n      <th>2243</th>\n      <td>14891</td>\n      <td>1</td>\n      <td>5</td>\n      <td>28</td>\n      <td>13</td>\n      <td>13</td>\n      <td>2</td>\n      <td>2043</td>\n      <td>2048.0</td>\n      <td>0</td>\n      <td>132.15</td>\n      <td>1.0</td>\n      <td>2</td>\n      <td>12000.0</td>\n      <td>1</td>\n      <td>2.5</td>\n      <td>10</td>\n      <td>1</td>\n      <td>NaN</td>\n    </tr>\n    <tr>\n      <th>2244</th>\n      <td>14892</td>\n      <td>1</td>\n      <td>5</td>\n      <td>28</td>\n      <td>13</td>\n      <td>13</td>\n      <td>2</td>\n      <td>2048</td>\n      <td>2053.0</td>\n      <td>0</td>\n      <td>113.48</td>\n      <td>1.0</td>\n      <td>2</td>\n      <td>12000.0</td>\n      <td>1</td>\n      <td>2.5</td>\n      <td>10</td>\n      <td>1</td>\n      <td>NaN</td>\n    </tr>\n    <tr>\n      <th>2245</th>\n      <td>14893</td>\n      <td>1</td>\n      <td>5</td>\n      <td>28</td>\n      <td>13</td>\n      <td>13</td>\n      <td>2</td>\n      <td>2053</td>\n      <td>NaN</td>\n      <td>0</td>\n      <td>97.45</td>\n      <td>1.0</td>\n      <td>2</td>\n      <td>12000.0</td>\n      <td>1</td>\n      <td>2.5</td>\n      <td>10</td>\n      <td>1</td>\n      <td>NaN</td>\n    </tr>\n  </tbody>\n</table>\n<p>2246 rows × 19 columns</p>\n</div>"
     },
     "execution_count": 289,
     "metadata": {},
     "output_type": "execute_result"
    }
   ],
   "source": [
    "# read technology table for corrections as above\n",
    "technology = pd.read_csv(f'./../../technology.csv')\n",
    "technology"
   ],
   "metadata": {
    "collapsed": false,
    "ExecuteTime": {
     "end_time": "2024-01-26T11:39:44.564745300Z",
     "start_time": "2024-01-26T11:39:44.431912400Z"
    }
   },
   "id": "54b49e26f449168c"
  },
  {
   "cell_type": "code",
   "execution_count": 290,
   "outputs": [
    {
     "data": {
      "text/plain": "      Unnamed: 0 Vehicle category          Segment  CountryID  TechID  Age  \\\n0              5   Passenger cars  PC petrol <1,4L          9    70.0    5   \n1              6   Passenger cars  PC petrol <1,4L          9    70.0    6   \n2              7   Passenger cars  PC petrol <1,4L          9    70.0    7   \n3              8   Passenger cars  PC petrol <1,4L          9    70.0    8   \n4              9   Passenger cars  PC petrol <1,4L          9    70.0    9   \n...          ...              ...              ...        ...     ...  ...   \n4095        8153      Motorcycles  MC 4S 251-750cc          9    10.0    2   \n4096        8154      Motorcycles  MC 4S 251-750cc          9    10.0    3   \n4097        8155      Motorcycles  MC 4S 251-750cc          9    10.0    4   \n4098        8156      Motorcycles  MC 4S 251-750cc          9    10.0    5   \n4099        8157      Motorcycles  MC 4S 251-750cc          9    10.0    6   \n\n      TransTypeID  VehTypeID  MassCatID  EngineID  FuelID      NumVeh  \n0             1.0        3.0        1.0       1.0     1.0   84.696857  \n1             1.0        3.0        1.0       1.0     1.0  169.393714  \n2             1.0        3.0        1.0       1.0     1.0  592.878000  \n3             1.0        3.0        1.0       1.0     1.0  677.574857  \n4             1.0        3.0        1.0       1.0     1.0  931.665429  \n...           ...        ...        ...       ...     ...         ...  \n4095          1.0        2.0        4.0      10.0     1.0   81.488000  \n4096          1.0        2.0        4.0      10.0     1.0   61.116000  \n4097          1.0        2.0        4.0      10.0     1.0   30.558000  \n4098          1.0        2.0        4.0      10.0     1.0   20.372000  \n4099          1.0        2.0        4.0      10.0     1.0   50.930000  \n\n[4100 rows x 12 columns]",
      "text/html": "<div>\n<style scoped>\n    .dataframe tbody tr th:only-of-type {\n        vertical-align: middle;\n    }\n\n    .dataframe tbody tr th {\n        vertical-align: top;\n    }\n\n    .dataframe thead th {\n        text-align: right;\n    }\n</style>\n<table border=\"1\" class=\"dataframe\">\n  <thead>\n    <tr style=\"text-align: right;\">\n      <th></th>\n      <th>Unnamed: 0</th>\n      <th>Vehicle category</th>\n      <th>Segment</th>\n      <th>CountryID</th>\n      <th>TechID</th>\n      <th>Age</th>\n      <th>TransTypeID</th>\n      <th>VehTypeID</th>\n      <th>MassCatID</th>\n      <th>EngineID</th>\n      <th>FuelID</th>\n      <th>NumVeh</th>\n    </tr>\n  </thead>\n  <tbody>\n    <tr>\n      <th>0</th>\n      <td>5</td>\n      <td>Passenger cars</td>\n      <td>PC petrol &lt;1,4L</td>\n      <td>9</td>\n      <td>70.0</td>\n      <td>5</td>\n      <td>1.0</td>\n      <td>3.0</td>\n      <td>1.0</td>\n      <td>1.0</td>\n      <td>1.0</td>\n      <td>84.696857</td>\n    </tr>\n    <tr>\n      <th>1</th>\n      <td>6</td>\n      <td>Passenger cars</td>\n      <td>PC petrol &lt;1,4L</td>\n      <td>9</td>\n      <td>70.0</td>\n      <td>6</td>\n      <td>1.0</td>\n      <td>3.0</td>\n      <td>1.0</td>\n      <td>1.0</td>\n      <td>1.0</td>\n      <td>169.393714</td>\n    </tr>\n    <tr>\n      <th>2</th>\n      <td>7</td>\n      <td>Passenger cars</td>\n      <td>PC petrol &lt;1,4L</td>\n      <td>9</td>\n      <td>70.0</td>\n      <td>7</td>\n      <td>1.0</td>\n      <td>3.0</td>\n      <td>1.0</td>\n      <td>1.0</td>\n      <td>1.0</td>\n      <td>592.878000</td>\n    </tr>\n    <tr>\n      <th>3</th>\n      <td>8</td>\n      <td>Passenger cars</td>\n      <td>PC petrol &lt;1,4L</td>\n      <td>9</td>\n      <td>70.0</td>\n      <td>8</td>\n      <td>1.0</td>\n      <td>3.0</td>\n      <td>1.0</td>\n      <td>1.0</td>\n      <td>1.0</td>\n      <td>677.574857</td>\n    </tr>\n    <tr>\n      <th>4</th>\n      <td>9</td>\n      <td>Passenger cars</td>\n      <td>PC petrol &lt;1,4L</td>\n      <td>9</td>\n      <td>70.0</td>\n      <td>9</td>\n      <td>1.0</td>\n      <td>3.0</td>\n      <td>1.0</td>\n      <td>1.0</td>\n      <td>1.0</td>\n      <td>931.665429</td>\n    </tr>\n    <tr>\n      <th>...</th>\n      <td>...</td>\n      <td>...</td>\n      <td>...</td>\n      <td>...</td>\n      <td>...</td>\n      <td>...</td>\n      <td>...</td>\n      <td>...</td>\n      <td>...</td>\n      <td>...</td>\n      <td>...</td>\n      <td>...</td>\n    </tr>\n    <tr>\n      <th>4095</th>\n      <td>8153</td>\n      <td>Motorcycles</td>\n      <td>MC 4S 251-750cc</td>\n      <td>9</td>\n      <td>10.0</td>\n      <td>2</td>\n      <td>1.0</td>\n      <td>2.0</td>\n      <td>4.0</td>\n      <td>10.0</td>\n      <td>1.0</td>\n      <td>81.488000</td>\n    </tr>\n    <tr>\n      <th>4096</th>\n      <td>8154</td>\n      <td>Motorcycles</td>\n      <td>MC 4S 251-750cc</td>\n      <td>9</td>\n      <td>10.0</td>\n      <td>3</td>\n      <td>1.0</td>\n      <td>2.0</td>\n      <td>4.0</td>\n      <td>10.0</td>\n      <td>1.0</td>\n      <td>61.116000</td>\n    </tr>\n    <tr>\n      <th>4097</th>\n      <td>8155</td>\n      <td>Motorcycles</td>\n      <td>MC 4S 251-750cc</td>\n      <td>9</td>\n      <td>10.0</td>\n      <td>4</td>\n      <td>1.0</td>\n      <td>2.0</td>\n      <td>4.0</td>\n      <td>10.0</td>\n      <td>1.0</td>\n      <td>30.558000</td>\n    </tr>\n    <tr>\n      <th>4098</th>\n      <td>8156</td>\n      <td>Motorcycles</td>\n      <td>MC 4S 251-750cc</td>\n      <td>9</td>\n      <td>10.0</td>\n      <td>5</td>\n      <td>1.0</td>\n      <td>2.0</td>\n      <td>4.0</td>\n      <td>10.0</td>\n      <td>1.0</td>\n      <td>20.372000</td>\n    </tr>\n    <tr>\n      <th>4099</th>\n      <td>8157</td>\n      <td>Motorcycles</td>\n      <td>MC 4S 251-750cc</td>\n      <td>9</td>\n      <td>10.0</td>\n      <td>6</td>\n      <td>1.0</td>\n      <td>2.0</td>\n      <td>4.0</td>\n      <td>10.0</td>\n      <td>1.0</td>\n      <td>50.930000</td>\n    </tr>\n  </tbody>\n</table>\n<p>4100 rows × 12 columns</p>\n</div>"
     },
     "execution_count": 290,
     "metadata": {},
     "output_type": "execute_result"
    }
   ],
   "source": [
    "# make corrections - in case any mis-alignment of TechID and its attributes.\n",
    "for i in list(numveh.index.values):\n",
    "    techid = numveh.TechID[i]\n",
    "    transtypeid = technology[technology['TechID'] == techid]['TransTypeID']\n",
    "    vehtypeid = technology[technology['TechID'] == techid]['VehTypeID']\n",
    "    masscatid = technology[technology['TechID'] == techid]['MassCatID']\n",
    "    engineid = technology[technology['TechID'] == techid]['EngineID']\n",
    "    fuelid = technology[technology['TechID'] == techid]['FuelID']\n",
    "    \n",
    "    numveh.at[i, 'TransTypeID'] = transtypeid\n",
    "    numveh.at[i, 'VehTypeID'] = vehtypeid\n",
    "    numveh.at[i, 'MassCatID'] = masscatid\n",
    "    numveh.at[i, 'EngineID'] = engineid\n",
    "    numveh.at[i, 'FuelID'] = fuelid\n",
    "    \n",
    "numveh"
   ],
   "metadata": {
    "collapsed": false,
    "ExecuteTime": {
     "end_time": "2024-01-26T11:39:49.235672200Z",
     "start_time": "2024-01-26T11:39:44.454447800Z"
    }
   },
   "id": "f36c09269508e583"
  },
  {
   "cell_type": "code",
   "execution_count": 291,
   "outputs": [
    {
     "name": "stdout",
     "output_type": "stream",
     "text": [
      "FuelID: 1 has 1160 entries, total Veh: 1059506.0\n",
      "FuelID: 12 has 0 entries, total Veh: 0.0\n",
      "FuelID: 13 has 0 entries, total Veh: 0.0\n",
      "FuelID: 2 has 2844 entries, total Veh: 295121.6923076923\n",
      "FuelID: 8 has 0 entries, total Veh: 0.0\n",
      "FuelID: 7 has 0 entries, total Veh: 0.0\n",
      "FuelID: 14 has 0 entries, total Veh: 0.0\n",
      "FuelID: 5 has 0 entries, total Veh: 0.0\n",
      "FuelID: 10 has 96 entries, total Veh: 4634.307692307692\n",
      "FuelID: 15 has 0 entries, total Veh: 0.0\n"
     ]
    }
   ],
   "source": [
    "# diagnose any weird fuelIDs in here\n",
    "for f in list(technology.FuelID.unique()):\n",
    "    print(f'FuelID: {f} has {len(numveh[numveh.TechID.isin(technology[technology.FuelID==f].TechID)])} entries, total Veh: {numveh[numveh.TechID.isin(technology[technology.FuelID==f].TechID)].NumVeh.sum()}')"
   ],
   "metadata": {
    "collapsed": false,
    "ExecuteTime": {
     "end_time": "2024-01-26T11:39:49.257411400Z",
     "start_time": "2024-01-26T11:39:49.240628Z"
    }
   },
   "id": "13fa5542a4638767"
  },
  {
   "cell_type": "code",
   "execution_count": 292,
   "outputs": [
    {
     "name": "stdout",
     "output_type": "stream",
     "text": [
      "VehTypeID: 2 has 178 entries, total Veh: 541467.0\n",
      "VehTypeID: 3 has 1862 entries, total Veh: 532406.0\n",
      "VehTypeID: 4 has 832 entries, total Veh: 164282.0\n",
      "VehTypeID: 5 has 1228 entries, total Veh: 121107.0\n",
      "VehTypeID: 6 has 0 entries, total Veh: 0.0\n",
      "VehTypeID: 7 has 0 entries, total Veh: 0.0\n",
      "VehTypeID: 8 has 0 entries, total Veh: 0.0\n"
     ]
    }
   ],
   "source": [
    "# tell me how many vehicles there are by each type\n",
    "for v in list(technology.VehTypeID.unique()):\n",
    "    print(f'VehTypeID: {v} has {len(numveh[numveh.TechID.isin(technology[technology.VehTypeID==v].TechID)])} entries, total Veh: {numveh[numveh.TechID.isin(technology[technology.VehTypeID==v].TechID)].NumVeh.sum()}')"
   ],
   "metadata": {
    "collapsed": false,
    "ExecuteTime": {
     "end_time": "2024-01-26T11:39:49.400330200Z",
     "start_time": "2024-01-26T11:39:49.257411400Z"
    }
   },
   "id": "586fc47b0020ca53"
  },
  {
   "cell_type": "code",
   "execution_count": 293,
   "outputs": [],
   "source": [
    "# TODO: WE ARE FIXING ERRONEOUS DATA: THERE ARE CNG BUSES (FUELID 10) IN THE MIX. WE SHALL REASSIGN THEM TO DIESEL BUSES\n",
    "\n",
    "# assign each AGE of the CNG buses to the non-CNG buses\n",
    "rows2drop = []\n",
    "for a in numveh[numveh.TechID.isin(technology[(technology.FuelID==10) & (technology.MassCatID==13)].TechID)].Age.unique():  # in CNG buses\n",
    "    \n",
    "    # return techIDs of CNG buses at this age\n",
    "    cng_techIDs_for_age = numveh[(numveh.TechID.isin(technology[(technology.FuelID==10) & (technology.MassCatID==13)].TechID)) & (numveh.Age==a)].TechID.unique()      \n",
    "\n",
    "    # go through each TechID, add the CNG buses to a non-CNG bus\n",
    "    for t in cng_techIDs_for_age:\n",
    "\n",
    "        # check there is data in the non-CNG version\n",
    "        if not numveh[(numveh.TechID.isin(technology[(technology.FuelID!=10) & (technology.MassCatID==13)].TechID)) & (numveh.Age==a)].empty:\n",
    "\n",
    "            # set a new df to be equal to NON CNG (diesel) buses\n",
    "            non_cng_bus_df = numveh[(numveh.TechID.isin(technology[(technology.FuelID!=10) & (technology.MassCatID==13)].TechID)) & (numveh.Age==a)]\n",
    "\n",
    "            # spread them evenly over the TechIDs in the non CNG (diesel) buses\n",
    "            for i in list(non_cng_bus_df.index.values):\n",
    "                numveh.loc[i, 'NumVeh'] += numveh[(numveh.TechID==t) & (numveh.Age==a)]['NumVeh'].sum()/len(cng_techIDs_for_age)\n",
    "            \n",
    "            # add index to list for dropping \n",
    "            for l in list(numveh[(numveh.TechID==t) & (numveh.Age==a)].index.values):\n",
    "                rows2drop.append(l)\n",
    "\n",
    "        else:\n",
    "            print('this is empty!')\n",
    "\n",
    "numveh.drop(index=rows2drop, inplace=True)\n"
   ],
   "metadata": {
    "collapsed": false,
    "ExecuteTime": {
     "end_time": "2024-01-26T11:39:49.828335Z",
     "start_time": "2024-01-26T11:39:49.272499Z"
    }
   },
   "id": "2e3a2f7000a8293b"
  },
  {
   "cell_type": "code",
   "execution_count": 294,
   "outputs": [
    {
     "name": "stdout",
     "output_type": "stream",
     "text": [
      "FuelID: 1 has 1160 entries, total Veh: 1059506.0\n",
      "FuelID: 12 has 0 entries, total Veh: 0.0\n",
      "FuelID: 13 has 0 entries, total Veh: 0.0\n",
      "FuelID: 2 has 2844 entries, total Veh: 299756.0\n",
      "FuelID: 8 has 0 entries, total Veh: 0.0\n",
      "FuelID: 7 has 0 entries, total Veh: 0.0\n",
      "FuelID: 14 has 0 entries, total Veh: 0.0\n",
      "FuelID: 5 has 0 entries, total Veh: 0.0\n",
      "FuelID: 10 has 0 entries, total Veh: 0.0\n",
      "FuelID: 15 has 0 entries, total Veh: 0.0\n"
     ]
    }
   ],
   "source": [
    "# re-diagnose any weird fuelIDs in here\n",
    "for f in list(technology.FuelID.unique()):\n",
    "    print(f'FuelID: {f} has {len(numveh[numveh.TechID.isin(technology[technology.FuelID==f].TechID)])} entries, total Veh: {numveh[numveh.TechID.isin(technology[technology.FuelID==f].TechID)].NumVeh.sum()}')"
   ],
   "metadata": {
    "collapsed": false,
    "ExecuteTime": {
     "end_time": "2024-01-26T11:39:49.857999300Z",
     "start_time": "2024-01-26T11:39:49.828335Z"
    }
   },
   "id": "1de5f3f1fee80668"
  },
  {
   "cell_type": "code",
   "execution_count": 295,
   "outputs": [
    {
     "name": "stdout",
     "output_type": "stream",
     "text": [
      "VehTypeID: 2 has 178 entries, total Veh: 541467.0\n",
      "VehTypeID: 3 has 1862 entries, total Veh: 532406.0\n",
      "VehTypeID: 4 has 736 entries, total Veh: 164282.0\n",
      "VehTypeID: 5 has 1228 entries, total Veh: 121107.0\n",
      "VehTypeID: 6 has 0 entries, total Veh: 0.0\n",
      "VehTypeID: 7 has 0 entries, total Veh: 0.0\n",
      "VehTypeID: 8 has 0 entries, total Veh: 0.0\n"
     ]
    }
   ],
   "source": [
    "# and then explore this again - tell me how many vehicles there are by each type\n",
    "for v in list(technology.VehTypeID.unique()):\n",
    "    print(f'VehTypeID: {v} has {len(numveh[numveh.TechID.isin(technology[technology.VehTypeID==v].TechID)])} entries, total Veh: {numveh[numveh.TechID.isin(technology[technology.VehTypeID==v].TechID)].NumVeh.sum()}')"
   ],
   "metadata": {
    "collapsed": false,
    "ExecuteTime": {
     "end_time": "2024-01-26T11:39:49.874553500Z",
     "start_time": "2024-01-26T11:39:49.857999300Z"
    }
   },
   "id": "98727f819a94d567"
  },
  {
   "cell_type": "code",
   "execution_count": 296,
   "outputs": [
    {
     "data": {
      "text/plain": "      CountryID  TechID  Age  TransTypeID  VehTypeID  MassCatID  EngineID  \\\n0             9    70.0    5          1.0        3.0        1.0       1.0   \n1             9    70.0    6          1.0        3.0        1.0       1.0   \n2             9    70.0    7          1.0        3.0        1.0       1.0   \n3             9    70.0    8          1.0        3.0        1.0       1.0   \n4             9    70.0    9          1.0        3.0        1.0       1.0   \n...         ...     ...  ...          ...        ...        ...       ...   \n4095          9    10.0    2          1.0        2.0        4.0      10.0   \n4096          9    10.0    3          1.0        2.0        4.0      10.0   \n4097          9    10.0    4          1.0        2.0        4.0      10.0   \n4098          9    10.0    5          1.0        2.0        4.0      10.0   \n4099          9    10.0    6          1.0        2.0        4.0      10.0   \n\n      FuelID      NumVeh  \n0        1.0   84.696857  \n1        1.0  169.393714  \n2        1.0  592.878000  \n3        1.0  677.574857  \n4        1.0  931.665429  \n...      ...         ...  \n4095     1.0   81.488000  \n4096     1.0   61.116000  \n4097     1.0   30.558000  \n4098     1.0   20.372000  \n4099     1.0   50.930000  \n\n[4004 rows x 9 columns]",
      "text/html": "<div>\n<style scoped>\n    .dataframe tbody tr th:only-of-type {\n        vertical-align: middle;\n    }\n\n    .dataframe tbody tr th {\n        vertical-align: top;\n    }\n\n    .dataframe thead th {\n        text-align: right;\n    }\n</style>\n<table border=\"1\" class=\"dataframe\">\n  <thead>\n    <tr style=\"text-align: right;\">\n      <th></th>\n      <th>CountryID</th>\n      <th>TechID</th>\n      <th>Age</th>\n      <th>TransTypeID</th>\n      <th>VehTypeID</th>\n      <th>MassCatID</th>\n      <th>EngineID</th>\n      <th>FuelID</th>\n      <th>NumVeh</th>\n    </tr>\n  </thead>\n  <tbody>\n    <tr>\n      <th>0</th>\n      <td>9</td>\n      <td>70.0</td>\n      <td>5</td>\n      <td>1.0</td>\n      <td>3.0</td>\n      <td>1.0</td>\n      <td>1.0</td>\n      <td>1.0</td>\n      <td>84.696857</td>\n    </tr>\n    <tr>\n      <th>1</th>\n      <td>9</td>\n      <td>70.0</td>\n      <td>6</td>\n      <td>1.0</td>\n      <td>3.0</td>\n      <td>1.0</td>\n      <td>1.0</td>\n      <td>1.0</td>\n      <td>169.393714</td>\n    </tr>\n    <tr>\n      <th>2</th>\n      <td>9</td>\n      <td>70.0</td>\n      <td>7</td>\n      <td>1.0</td>\n      <td>3.0</td>\n      <td>1.0</td>\n      <td>1.0</td>\n      <td>1.0</td>\n      <td>592.878000</td>\n    </tr>\n    <tr>\n      <th>3</th>\n      <td>9</td>\n      <td>70.0</td>\n      <td>8</td>\n      <td>1.0</td>\n      <td>3.0</td>\n      <td>1.0</td>\n      <td>1.0</td>\n      <td>1.0</td>\n      <td>677.574857</td>\n    </tr>\n    <tr>\n      <th>4</th>\n      <td>9</td>\n      <td>70.0</td>\n      <td>9</td>\n      <td>1.0</td>\n      <td>3.0</td>\n      <td>1.0</td>\n      <td>1.0</td>\n      <td>1.0</td>\n      <td>931.665429</td>\n    </tr>\n    <tr>\n      <th>...</th>\n      <td>...</td>\n      <td>...</td>\n      <td>...</td>\n      <td>...</td>\n      <td>...</td>\n      <td>...</td>\n      <td>...</td>\n      <td>...</td>\n      <td>...</td>\n    </tr>\n    <tr>\n      <th>4095</th>\n      <td>9</td>\n      <td>10.0</td>\n      <td>2</td>\n      <td>1.0</td>\n      <td>2.0</td>\n      <td>4.0</td>\n      <td>10.0</td>\n      <td>1.0</td>\n      <td>81.488000</td>\n    </tr>\n    <tr>\n      <th>4096</th>\n      <td>9</td>\n      <td>10.0</td>\n      <td>3</td>\n      <td>1.0</td>\n      <td>2.0</td>\n      <td>4.0</td>\n      <td>10.0</td>\n      <td>1.0</td>\n      <td>61.116000</td>\n    </tr>\n    <tr>\n      <th>4097</th>\n      <td>9</td>\n      <td>10.0</td>\n      <td>4</td>\n      <td>1.0</td>\n      <td>2.0</td>\n      <td>4.0</td>\n      <td>10.0</td>\n      <td>1.0</td>\n      <td>30.558000</td>\n    </tr>\n    <tr>\n      <th>4098</th>\n      <td>9</td>\n      <td>10.0</td>\n      <td>5</td>\n      <td>1.0</td>\n      <td>2.0</td>\n      <td>4.0</td>\n      <td>10.0</td>\n      <td>1.0</td>\n      <td>20.372000</td>\n    </tr>\n    <tr>\n      <th>4099</th>\n      <td>9</td>\n      <td>10.0</td>\n      <td>6</td>\n      <td>1.0</td>\n      <td>2.0</td>\n      <td>4.0</td>\n      <td>10.0</td>\n      <td>1.0</td>\n      <td>50.930000</td>\n    </tr>\n  </tbody>\n</table>\n<p>4004 rows × 9 columns</p>\n</div>"
     },
     "execution_count": 296,
     "metadata": {},
     "output_type": "execute_result"
    }
   ],
   "source": [
    "numveh = numveh.iloc[:,3:]\n",
    "numveh"
   ],
   "metadata": {
    "collapsed": false,
    "ExecuteTime": {
     "end_time": "2024-01-26T11:40:03.128629900Z",
     "start_time": "2024-01-26T11:40:03.096888Z"
    }
   },
   "id": "685d86e879e09fa4"
  },
  {
   "cell_type": "code",
   "execution_count": 297,
   "id": "87455996",
   "metadata": {
    "pycharm": {
     "name": "#%%\n"
    },
    "ExecuteTime": {
     "end_time": "2024-01-26T11:40:16.689923100Z",
     "start_time": "2024-01-26T11:40:16.438102900Z"
    }
   },
   "outputs": [
    {
     "data": {
      "text/plain": "      CountryID  TechID  Age  TransTypeID  VehTypeID  MassCatID  EngineID  \\\n0             9      10   12            1          2          4        10   \n1             9      10   13            1          2          4        10   \n2             9      10   14            1          2          4        10   \n3             9      10   15            1          2          4        10   \n4             9      10   16            1          2          4        10   \n...         ...     ...  ...          ...        ...        ...       ...   \n2405          9    5879    7            2          5         28         6   \n2406          9    5880    0            2          5         28        14   \n2407          9    5880    1            2          5         28        14   \n2408          9    5880    2            2          5         28        14   \n2409          9    5880    3            2          5         28        14   \n\n      FuelID       NumVeh  \n0          1  5126.888000  \n1          1  4341.886000  \n2          1  1695.460000  \n3          1   315.866200  \n4          1    93.856110  \n...      ...          ...  \n2405      12     0.008200  \n2406      12     6.176912  \n2407      12     4.261423  \n2408      12     0.484696  \n2409      12     0.360165  \n\n[2410 rows x 9 columns]",
      "text/html": "<div>\n<style scoped>\n    .dataframe tbody tr th:only-of-type {\n        vertical-align: middle;\n    }\n\n    .dataframe tbody tr th {\n        vertical-align: top;\n    }\n\n    .dataframe thead th {\n        text-align: right;\n    }\n</style>\n<table border=\"1\" class=\"dataframe\">\n  <thead>\n    <tr style=\"text-align: right;\">\n      <th></th>\n      <th>CountryID</th>\n      <th>TechID</th>\n      <th>Age</th>\n      <th>TransTypeID</th>\n      <th>VehTypeID</th>\n      <th>MassCatID</th>\n      <th>EngineID</th>\n      <th>FuelID</th>\n      <th>NumVeh</th>\n    </tr>\n  </thead>\n  <tbody>\n    <tr>\n      <th>0</th>\n      <td>9</td>\n      <td>10</td>\n      <td>12</td>\n      <td>1</td>\n      <td>2</td>\n      <td>4</td>\n      <td>10</td>\n      <td>1</td>\n      <td>5126.888000</td>\n    </tr>\n    <tr>\n      <th>1</th>\n      <td>9</td>\n      <td>10</td>\n      <td>13</td>\n      <td>1</td>\n      <td>2</td>\n      <td>4</td>\n      <td>10</td>\n      <td>1</td>\n      <td>4341.886000</td>\n    </tr>\n    <tr>\n      <th>2</th>\n      <td>9</td>\n      <td>10</td>\n      <td>14</td>\n      <td>1</td>\n      <td>2</td>\n      <td>4</td>\n      <td>10</td>\n      <td>1</td>\n      <td>1695.460000</td>\n    </tr>\n    <tr>\n      <th>3</th>\n      <td>9</td>\n      <td>10</td>\n      <td>15</td>\n      <td>1</td>\n      <td>2</td>\n      <td>4</td>\n      <td>10</td>\n      <td>1</td>\n      <td>315.866200</td>\n    </tr>\n    <tr>\n      <th>4</th>\n      <td>9</td>\n      <td>10</td>\n      <td>16</td>\n      <td>1</td>\n      <td>2</td>\n      <td>4</td>\n      <td>10</td>\n      <td>1</td>\n      <td>93.856110</td>\n    </tr>\n    <tr>\n      <th>...</th>\n      <td>...</td>\n      <td>...</td>\n      <td>...</td>\n      <td>...</td>\n      <td>...</td>\n      <td>...</td>\n      <td>...</td>\n      <td>...</td>\n      <td>...</td>\n    </tr>\n    <tr>\n      <th>2405</th>\n      <td>9</td>\n      <td>5879</td>\n      <td>7</td>\n      <td>2</td>\n      <td>5</td>\n      <td>28</td>\n      <td>6</td>\n      <td>12</td>\n      <td>0.008200</td>\n    </tr>\n    <tr>\n      <th>2406</th>\n      <td>9</td>\n      <td>5880</td>\n      <td>0</td>\n      <td>2</td>\n      <td>5</td>\n      <td>28</td>\n      <td>14</td>\n      <td>12</td>\n      <td>6.176912</td>\n    </tr>\n    <tr>\n      <th>2407</th>\n      <td>9</td>\n      <td>5880</td>\n      <td>1</td>\n      <td>2</td>\n      <td>5</td>\n      <td>28</td>\n      <td>14</td>\n      <td>12</td>\n      <td>4.261423</td>\n    </tr>\n    <tr>\n      <th>2408</th>\n      <td>9</td>\n      <td>5880</td>\n      <td>2</td>\n      <td>2</td>\n      <td>5</td>\n      <td>28</td>\n      <td>14</td>\n      <td>12</td>\n      <td>0.484696</td>\n    </tr>\n    <tr>\n      <th>2409</th>\n      <td>9</td>\n      <td>5880</td>\n      <td>3</td>\n      <td>2</td>\n      <td>5</td>\n      <td>28</td>\n      <td>14</td>\n      <td>12</td>\n      <td>0.360165</td>\n    </tr>\n  </tbody>\n</table>\n<p>2410 rows × 9 columns</p>\n</div>"
     },
     "execution_count": 297,
     "metadata": {},
     "output_type": "execute_result"
    }
   ],
   "source": [
    "# read original (UK data) to extract data for ships, planes and trains. Use a simple proportion for each type\n",
    "numvehuk = pd.read_excel('./../sample_data/VehicleStock.xlsx')\n",
    "numvehuk"
   ]
  },
  {
   "cell_type": "code",
   "execution_count": 298,
   "id": "a38a66ae",
   "metadata": {
    "pycharm": {
     "name": "#%%\n"
    },
    "ExecuteTime": {
     "end_time": "2024-01-26T11:40:19.726422200Z",
     "start_time": "2024-01-26T11:40:19.711067200Z"
    }
   },
   "outputs": [],
   "source": [
    "#Vehicle Type IDs\n",
    "\n",
    "# VehTypeID\tVehTypeAB\tVehTypeNA\n",
    "# 0\tWALK\tWalking\n",
    "# 1\tBIKE\tBicycle\n",
    "# 2\tMOTO\tMotorcycle\n",
    "# 3\tCAR\tCar\n",
    "# 4\tBUS\tBus\n",
    "# 5\tTRUCK\tTruck\n",
    "# 6\tTRAIN\tTrain\n",
    "# 7\tSHIP\tShip\n",
    "# 8\tPLANE\tAeroplane\n",
    "\n",
    "# proportions UK --> Kenya\n",
    "train_proportion = 0.1\n",
    "ship_proportion = 0.1\n",
    "plane_proportion = 0.1\n",
    "\n",
    "# # return data for trains ships planes (tsp)\n",
    "# numvehuk_trains = numvehuk[numvehuk.VehTypeID == 6]\n",
    "# numvehuk_ships = numvehuk[numvehuk.VehTypeID == 7]\n",
    "# numvehuk_planes = numvehuk[numvehuk.VehTypeID == 8]\n",
    "\n",
    "numvehuk.loc[numvehuk[numvehuk.VehTypeID == 6].index.tolist(), 'NumVeh'] *= train_proportion\n",
    "numvehuk.loc[numvehuk[numvehuk.VehTypeID == 7].index.tolist(), 'NumVeh'] *= ship_proportion\n",
    "numvehuk.loc[numvehuk[numvehuk.VehTypeID == 8].index.tolist(), 'NumVeh'] *= plane_proportion"
   ]
  },
  {
   "cell_type": "code",
   "execution_count": 299,
   "id": "6aa59a12",
   "metadata": {
    "pycharm": {
     "name": "#%%\n"
    },
    "ExecuteTime": {
     "end_time": "2024-01-26T11:40:22.254515600Z",
     "start_time": "2024-01-26T11:40:22.207064200Z"
    }
   },
   "outputs": [
    {
     "name": "stderr",
     "output_type": "stream",
     "text": [
      "C:\\Users\\ekb15182\\AppData\\Local\\Temp\\ipykernel_16676\\709587314.py:1: FutureWarning: The frame.append method is deprecated and will be removed from pandas in a future version. Use pandas.concat instead.\n",
      "  numveh = numveh.append(numvehuk[numvehuk.VehTypeID.isin([6,7,8])])\n"
     ]
    }
   ],
   "source": [
    "numveh = numveh.append(numvehuk[numvehuk.VehTypeID.isin([6,7,8])])\n",
    "numveh = numveh.reset_index(drop=True)"
   ]
  },
  {
   "cell_type": "code",
   "execution_count": 300,
   "outputs": [
    {
     "name": "stdout",
     "output_type": "stream",
     "text": [
      "VehTypeID: 2 has 178 entries, total Veh: 541467.0\n",
      "VehTypeID: 3 has 1862 entries, total Veh: 532406.0\n",
      "VehTypeID: 4 has 736 entries, total Veh: 164282.0\n",
      "VehTypeID: 5 has 1228 entries, total Veh: 121107.0\n",
      "VehTypeID: 6 has 313 entries, total Veh: 707.3098297988581\n",
      "VehTypeID: 7 has 84 entries, total Veh: 50.100001434694484\n",
      "VehTypeID: 8 has 251 entries, total Veh: 110.7788481977615\n"
     ]
    }
   ],
   "source": [
    "for v in list(technology.VehTypeID.unique()):\n",
    "    print(f'VehTypeID: {v} has {len(numveh[numveh.TechID.isin(technology[technology.VehTypeID==v].TechID)])} entries, total Veh: {numveh[numveh.TechID.isin(technology[technology.VehTypeID==v].TechID)].NumVeh.sum()}')"
   ],
   "metadata": {
    "collapsed": false,
    "ExecuteTime": {
     "end_time": "2024-01-26T11:40:24.681856600Z",
     "start_time": "2024-01-26T11:40:24.660400700Z"
    }
   },
   "id": "956a671d94a106bb"
  },
  {
   "cell_type": "code",
   "execution_count": 301,
   "outputs": [
    {
     "data": {
      "text/plain": "      CountryID  TechID  Age  TransTypeID  VehTypeID  MassCatID  EngineID  \\\n0             9    70.0    5          1.0        3.0        1.0       1.0   \n1             9    70.0    6          1.0        3.0        1.0       1.0   \n2             9    70.0    7          1.0        3.0        1.0       1.0   \n3             9    70.0    8          1.0        3.0        1.0       1.0   \n4             9    70.0    9          1.0        3.0        1.0       1.0   \n...         ...     ...  ...          ...        ...        ...       ...   \n4647          9  4275.0   16          1.0        8.0       45.0       7.0   \n4648          9  4275.0   32          1.0        8.0       45.0       7.0   \n4649          9  4275.0   33          1.0        8.0       45.0       7.0   \n4650          9  4275.0   34          1.0        8.0       45.0       7.0   \n4651          9  4275.0   35          1.0        8.0       45.0       7.0   \n\n      FuelID        NumVeh  \n0        1.0  8.469686e+01  \n1        1.0  1.693937e+02  \n2        1.0  5.928780e+02  \n3        1.0  6.775749e+02  \n4        1.0  9.316654e+02  \n...      ...           ...  \n4647    15.0  9.028010e-02  \n4648    15.0  3.025660e-12  \n4649    15.0  3.782154e-16  \n4650    15.0  2.250437e-21  \n4651    15.0  5.665234e-28  \n\n[4652 rows x 9 columns]",
      "text/html": "<div>\n<style scoped>\n    .dataframe tbody tr th:only-of-type {\n        vertical-align: middle;\n    }\n\n    .dataframe tbody tr th {\n        vertical-align: top;\n    }\n\n    .dataframe thead th {\n        text-align: right;\n    }\n</style>\n<table border=\"1\" class=\"dataframe\">\n  <thead>\n    <tr style=\"text-align: right;\">\n      <th></th>\n      <th>CountryID</th>\n      <th>TechID</th>\n      <th>Age</th>\n      <th>TransTypeID</th>\n      <th>VehTypeID</th>\n      <th>MassCatID</th>\n      <th>EngineID</th>\n      <th>FuelID</th>\n      <th>NumVeh</th>\n    </tr>\n  </thead>\n  <tbody>\n    <tr>\n      <th>0</th>\n      <td>9</td>\n      <td>70.0</td>\n      <td>5</td>\n      <td>1.0</td>\n      <td>3.0</td>\n      <td>1.0</td>\n      <td>1.0</td>\n      <td>1.0</td>\n      <td>8.469686e+01</td>\n    </tr>\n    <tr>\n      <th>1</th>\n      <td>9</td>\n      <td>70.0</td>\n      <td>6</td>\n      <td>1.0</td>\n      <td>3.0</td>\n      <td>1.0</td>\n      <td>1.0</td>\n      <td>1.0</td>\n      <td>1.693937e+02</td>\n    </tr>\n    <tr>\n      <th>2</th>\n      <td>9</td>\n      <td>70.0</td>\n      <td>7</td>\n      <td>1.0</td>\n      <td>3.0</td>\n      <td>1.0</td>\n      <td>1.0</td>\n      <td>1.0</td>\n      <td>5.928780e+02</td>\n    </tr>\n    <tr>\n      <th>3</th>\n      <td>9</td>\n      <td>70.0</td>\n      <td>8</td>\n      <td>1.0</td>\n      <td>3.0</td>\n      <td>1.0</td>\n      <td>1.0</td>\n      <td>1.0</td>\n      <td>6.775749e+02</td>\n    </tr>\n    <tr>\n      <th>4</th>\n      <td>9</td>\n      <td>70.0</td>\n      <td>9</td>\n      <td>1.0</td>\n      <td>3.0</td>\n      <td>1.0</td>\n      <td>1.0</td>\n      <td>1.0</td>\n      <td>9.316654e+02</td>\n    </tr>\n    <tr>\n      <th>...</th>\n      <td>...</td>\n      <td>...</td>\n      <td>...</td>\n      <td>...</td>\n      <td>...</td>\n      <td>...</td>\n      <td>...</td>\n      <td>...</td>\n      <td>...</td>\n    </tr>\n    <tr>\n      <th>4647</th>\n      <td>9</td>\n      <td>4275.0</td>\n      <td>16</td>\n      <td>1.0</td>\n      <td>8.0</td>\n      <td>45.0</td>\n      <td>7.0</td>\n      <td>15.0</td>\n      <td>9.028010e-02</td>\n    </tr>\n    <tr>\n      <th>4648</th>\n      <td>9</td>\n      <td>4275.0</td>\n      <td>32</td>\n      <td>1.0</td>\n      <td>8.0</td>\n      <td>45.0</td>\n      <td>7.0</td>\n      <td>15.0</td>\n      <td>3.025660e-12</td>\n    </tr>\n    <tr>\n      <th>4649</th>\n      <td>9</td>\n      <td>4275.0</td>\n      <td>33</td>\n      <td>1.0</td>\n      <td>8.0</td>\n      <td>45.0</td>\n      <td>7.0</td>\n      <td>15.0</td>\n      <td>3.782154e-16</td>\n    </tr>\n    <tr>\n      <th>4650</th>\n      <td>9</td>\n      <td>4275.0</td>\n      <td>34</td>\n      <td>1.0</td>\n      <td>8.0</td>\n      <td>45.0</td>\n      <td>7.0</td>\n      <td>15.0</td>\n      <td>2.250437e-21</td>\n    </tr>\n    <tr>\n      <th>4651</th>\n      <td>9</td>\n      <td>4275.0</td>\n      <td>35</td>\n      <td>1.0</td>\n      <td>8.0</td>\n      <td>45.0</td>\n      <td>7.0</td>\n      <td>15.0</td>\n      <td>5.665234e-28</td>\n    </tr>\n  </tbody>\n</table>\n<p>4652 rows × 9 columns</p>\n</div>"
     },
     "execution_count": 301,
     "metadata": {},
     "output_type": "execute_result"
    }
   ],
   "source": [
    "numveh"
   ],
   "metadata": {
    "collapsed": false,
    "ExecuteTime": {
     "end_time": "2024-01-26T11:40:29.081968500Z",
     "start_time": "2024-01-26T11:40:29.065555200Z"
    }
   },
   "id": "4c7b45dcbf1a2e31"
  },
  {
   "cell_type": "code",
   "execution_count": 302,
   "outputs": [],
   "source": [
    "# get rid of duplicates - there are multiple instances where a TechID and age are shared.\n",
    "numveh = numveh.groupby([c for c in numveh.columns if c != 'NumVeh'])['NumVeh'].agg([('NumVeh', 'sum')]).reset_index()\n",
    "# numveh = numveh.groupby([c for c in numveh.columns if c != 'NumVeh'],as_index=False).agg({'NumVeh': 'sum'})"
   ],
   "metadata": {
    "collapsed": false,
    "ExecuteTime": {
     "end_time": "2024-01-26T11:40:40.316367200Z",
     "start_time": "2024-01-26T11:40:40.284861800Z"
    }
   },
   "id": "431fdb20c598efea"
  },
  {
   "cell_type": "code",
   "execution_count": 303,
   "outputs": [
    {
     "name": "stdout",
     "output_type": "stream",
     "text": [
      "VehTypeID: 2 has 27 entries, total Veh: 541467.0\n",
      "VehTypeID: 3 has 1862 entries, total Veh: 532405.9999999999\n",
      "VehTypeID: 4 has 702 entries, total Veh: 164282.00000000003\n",
      "VehTypeID: 5 has 904 entries, total Veh: 121106.99999999997\n",
      "VehTypeID: 6 has 313 entries, total Veh: 707.3098297988581\n",
      "VehTypeID: 7 has 84 entries, total Veh: 50.100001434694484\n",
      "VehTypeID: 8 has 251 entries, total Veh: 110.7788481977615\n"
     ]
    }
   ],
   "source": [
    "for v in list(technology.VehTypeID.unique()):\n",
    "    print(f'VehTypeID: {v} has {len(numveh[numveh.TechID.isin(technology[technology.VehTypeID==v].TechID)])} entries, total Veh: {numveh[numveh.TechID.isin(technology[technology.VehTypeID==v].TechID)].NumVeh.sum()}')"
   ],
   "metadata": {
    "collapsed": false,
    "ExecuteTime": {
     "end_time": "2024-01-26T11:40:42.697226100Z",
     "start_time": "2024-01-26T11:40:42.665585Z"
    }
   },
   "id": "cfc595a43372ee62"
  },
  {
   "cell_type": "code",
   "execution_count": 304,
   "id": "c5cda510",
   "metadata": {
    "pycharm": {
     "name": "#%%\n"
    },
    "ExecuteTime": {
     "end_time": "2024-01-26T11:41:13.183843200Z",
     "start_time": "2024-01-26T11:41:13.152113100Z"
    }
   },
   "outputs": [],
   "source": [
    "numveh.to_csv('./../out_data/processed/numveh95.csv', index=False)"
   ]
  },
  {
   "cell_type": "code",
   "execution_count": 305,
   "outputs": [
    {
     "data": {
      "text/plain": "Empty DataFrame\nColumns: [CountryID, TechID, Age, TransTypeID, VehTypeID, MassCatID, EngineID, FuelID, NumVeh]\nIndex: []",
      "text/html": "<div>\n<style scoped>\n    .dataframe tbody tr th:only-of-type {\n        vertical-align: middle;\n    }\n\n    .dataframe tbody tr th {\n        vertical-align: top;\n    }\n\n    .dataframe thead th {\n        text-align: right;\n    }\n</style>\n<table border=\"1\" class=\"dataframe\">\n  <thead>\n    <tr style=\"text-align: right;\">\n      <th></th>\n      <th>CountryID</th>\n      <th>TechID</th>\n      <th>Age</th>\n      <th>TransTypeID</th>\n      <th>VehTypeID</th>\n      <th>MassCatID</th>\n      <th>EngineID</th>\n      <th>FuelID</th>\n      <th>NumVeh</th>\n    </tr>\n  </thead>\n  <tbody>\n  </tbody>\n</table>\n</div>"
     },
     "execution_count": 305,
     "metadata": {},
     "output_type": "execute_result"
    }
   ],
   "source": [
    "numveh[numveh.duplicated(subset=[c for c in numveh.columns if c != 'NumVeh'])]"
   ],
   "metadata": {
    "collapsed": false,
    "ExecuteTime": {
     "end_time": "2024-01-26T11:41:15.583629Z",
     "start_time": "2024-01-26T11:41:15.544600100Z"
    }
   },
   "id": "ab2eb1f86bf04326"
  },
  {
   "cell_type": "code",
   "execution_count": 306,
   "outputs": [
    {
     "data": {
      "text/plain": "Empty DataFrame\nColumns: [CountryID, TechID, Age, TransTypeID, VehTypeID, MassCatID, EngineID, FuelID, NumVeh]\nIndex: []",
      "text/html": "<div>\n<style scoped>\n    .dataframe tbody tr th:only-of-type {\n        vertical-align: middle;\n    }\n\n    .dataframe tbody tr th {\n        vertical-align: top;\n    }\n\n    .dataframe thead th {\n        text-align: right;\n    }\n</style>\n<table border=\"1\" class=\"dataframe\">\n  <thead>\n    <tr style=\"text-align: right;\">\n      <th></th>\n      <th>CountryID</th>\n      <th>TechID</th>\n      <th>Age</th>\n      <th>TransTypeID</th>\n      <th>VehTypeID</th>\n      <th>MassCatID</th>\n      <th>EngineID</th>\n      <th>FuelID</th>\n      <th>NumVeh</th>\n    </tr>\n  </thead>\n  <tbody>\n  </tbody>\n</table>\n</div>"
     },
     "execution_count": 306,
     "metadata": {},
     "output_type": "execute_result"
    }
   ],
   "source": [
    "numveh[numveh.duplicated(subset=['TechID','Age'])]"
   ],
   "metadata": {
    "collapsed": false,
    "ExecuteTime": {
     "end_time": "2024-01-26T11:41:17.906401900Z",
     "start_time": "2024-01-26T11:41:17.893658400Z"
    }
   },
   "id": "ba7c850d7c8d3e33"
  }
 ],
 "metadata": {
  "kernelspec": {
   "display_name": "Python 3 (ipykernel)",
   "language": "python",
   "name": "python3"
  },
  "language_info": {
   "codemirror_mode": {
    "name": "ipython",
    "version": 3
   },
   "file_extension": ".py",
   "mimetype": "text/x-python",
   "name": "python",
   "nbconvert_exporter": "python",
   "pygments_lexer": "ipython3",
   "version": "3.9.12"
  }
 },
 "nbformat": 4,
 "nbformat_minor": 5
}
