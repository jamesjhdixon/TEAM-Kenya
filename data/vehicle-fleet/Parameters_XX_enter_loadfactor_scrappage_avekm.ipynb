{
 "cells": [
  {
   "cell_type": "markdown",
   "source": [
    "This notebook enters the scrappage parameters, ave km per year and load factor into parameters_XX for each XX ={vehicles}"
   ],
   "metadata": {
    "collapsed": false
   }
  },
  {
   "cell_type": "code",
   "execution_count": 3,
   "outputs": [],
   "source": [
    "import pandas as pd\n",
    "import numpy as np"
   ],
   "metadata": {
    "collapsed": false
   }
  },
  {
   "cell_type": "code",
   "execution_count": 6,
   "outputs": [],
   "source": [
    "# read in parameters table for given vehicle\n",
    "def read_parameters_table(vehicle):\n",
    "    return pd.read_excel(f'./../../TEAM-Kenya_data_out/original-team-uk-data/Parameters_{vehicle}.xlsx')"
   ],
   "metadata": {
    "collapsed": false
   }
  },
  {
   "cell_type": "code",
   "execution_count": 9,
   "outputs": [],
   "source": [
    "def read_technology():\n",
    "    return pd.read_excel(f'./../../TEAM-Kenya_data_out/original-team-uk-data/Technology.xlsx')"
   ],
   "metadata": {
    "collapsed": false
   }
  },
  {
   "cell_type": "code",
   "execution_count": null,
   "outputs": [],
   "source": [
    "# MASSCATID!!\n",
    "# MassCatID\tMassCatNA\tMassCatValue\tMassCatPFix\tMassCatUnit\n",
    "# 1\tSmall\t0.9\tM\tg\n",
    "# 2\tMedium\t1.3\tM\tg\n",
    "# 3\tLarge\t1.6\tM\tg\n",
    "# 4\tAverage moto\t0.015\tM\tg\n",
    "# 11\tMini\t2.5\tM\tg\n",
    "# 12\tUrban\t8\tM\tg\n",
    "# 13\tCoach\t8\tM\tg\n",
    "# 21\tPanelSideVan\t1.6\tM\tg\n",
    "# 22\tMedium\t8\tM\tg\n",
    "# 23\tHeavy\t12\tM\tg\n",
    "# 24\tCarDerivedVan\t1.6\tM\tg\n",
    "# 25\tPickup4x4Van\t1.6\tM\tg\n",
    "# 26\tDropAndTipVan\t1.6\tM\tg\n",
    "# 27\tBoxLutonInsVan\t1.6\tM\tg\n",
    "# 28\tOtherVan\t1.6\tM\tg\n",
    "# 31\tLight\t150\tM\tg\n",
    "# 32\tRegional\t375\tM\tg\n",
    "# 33\tNational\t685\tM\tg\n",
    "# 34\tHigh Speed\t400\tM\tg\n",
    "# 35\tMaglev\t250\tM\tg\n",
    "# 41\tGeneral Aviation\t4\tM\tg\n",
    "# 42\tShort Distance\t32\tM\tg\n",
    "# 43\tMiddle Distance\t57\tM\tg\n",
    "# 44\tLong Distance\t180\tM\tg\n",
    "# 45\tSupersonic\t250\tM\tg\n",
    "# 51\tRiver\t900\tM\tg\n",
    "# 52\tCoastal\t9300\tM\tg\n",
    "# 53\tMaritime\t9300\tM\tg\n",
    "\n",
    "# FUEL ID!!!\n",
    "# FuelID\tFuelTypeID\tFuelAB\tFuelNA\tCondition\tDenomUnit\tDensity_kg\tCalValue_MJ\n",
    "# 1\t1\tGAS\tGasoline\t\tl\t0.75\t32.18\n",
    "# 2\t1\tDIESEL\tDiesel\t\tl\t0.83\t35.86\n",
    "# 3\t1\tGAS_IMP\tImproved Gasoline\t\tl\t0.75\t32.18\n",
    "# 4\t1\tDIE_IMP\tImproved Diesel\t\tl\t0.83\t35.86\n",
    "# 5\t1\tLPG\tLiquified Petroleum Gas\t\tl\t0.55\t25.30\n",
    "# 6\t3\tMEOH\tBiomethanol\t\tl\t0.79\t15.78\n",
    "# 7\t3\tE85\tBioethanol(85)-petrol(15) blend\t\tl\t0.79\t23.02\n",
    "# 8\t3\tB100\tBiodiesel (FT, synthetic)\t\tl\t0.78\t34.32\n",
    "# 10\t2\tCNG\tCompressed Natural Gas\t200 bar (20 MPa)\tl\t0.17\t8.30\n",
    "# 11\t3\tCBG\tCompressed Bio Gas\t200 bar (20 MPa)\tl\t0.17\t8.30\n",
    "# 12\t4\tEL\tElectricity\t\tWh\t\t0.00\n",
    "# 13\t3\tGH2\tGaseous Hydrogen\t700 bar compressed\tl\t0.03\t3.20\n",
    "# 14\t3\tLH2\tLiquefied Hydrogen\t-253 deg C. (20 K)\tl\t0.08\t9.20\n",
    "# 15\t1\tKEROSENE\tAviation fuel (Jet A-1)\t\tl\t0.80\t34.69\n",
    "# 16\t3\tBIOJET\tBio jet fuel (100%)\t\tl\t0.79\t34.00"
   ],
   "metadata": {
    "collapsed": false
   }
  },
  {
   "cell_type": "code",
   "execution_count": 4,
   "outputs": [],
   "source": [
    "# *** AVERAGE KM PER VEHICLE ***\n",
    "# data from GIZ is by size (MassCatID) and fuel (FuelID). Remember masscat 1=small car, 2=medium car, 3=large car, 4=moto,\n",
    "avg_km_per_year = {'CAR': {1: {1: 23023, 2: 15448, 3: 23023, 4: 23023, 5: 23023, 6: 23023, 7: 23023, 8: 23023, 9: 23023, 10: 23023, 11: 23023, 12: 23023, 13: 23023, 14: 23023},\n",
    "                           2: {1: 19014, 2: 13108, 3: 19014, 4: 19014, 5: 19014, 6: 19014, 7: 19014, 8: 19014, 9: 19014, 10: 19014, 11: 19014, 12: 19014, 13: 19014, 14: 19014},\n",
    "                           3: {1: 25213, 2: 44314, 3: 25213, 4: 25213, 5: 25213, 6: 25213, 7: 25213, 8: 25213, 9: 25213, 10: 25213, 11: 25213, 12: 25213, 13: 25213, 14: 25213}},\n",
    "                   'BUS': {11: {1: 18971, 2: 31986, 3: 31986, 4: 31986, 5: 31986, 6: 31986, 7: 31986, 8: 31986, 9: 31986, 10: 31986, 11: 31986, 12: 31986, 13: 31986, 14: 31986},\n",
    "                           12: {1: 43815, 2: 43815, 3: 43815, 4: 43815, 5: 43815, 6: 43815, 7: 43815, 8: 43815, 9: 43815, 10: 43815, 11: 43815, 12: 43815, 13: 43815, 14: 43815},\n",
    "                           13: {1: 43815, 2: 43815, 3: 43815, 4: 43815, 5: 43815, 6: 43815, 7: 43815, 8: 43815, 9: 43815, 10: 43815, 11: 43815, 12: 43815, 13: 43815, 14: 43815}},\n",
    "                   'MOTO': {4: {1: 17807, 2: 17807, 3: 17807, 4: 17807, 5: 17807, 6: 17807, 7: 17807, 8: 17807, 9: 17807, 10: 17807, 11: 17807, 12: 17807, 13: 17807, 14: 17807}},\n",
    "                   'TRUCK':{21: {1: 48383, 2: 48383, 3: 48383, 4: 48383, 5: 48383, 6: 48383, 7: 48383, 8: 48383, 9: 48383, 10: 48383, 11: 48383, 12: 48383, 13: 48383, 14: 48383},\n",
    "                            22: {1: 35823, 2: 35823, 3: 35823, 4: 35823, 5: 35823, 6: 35823, 7: 35823, 8: 35823, 9: 35823, 10: 35823, 11: 35823, 12: 35823, 13: 35823, 14: 35823},\n",
    "                            23: {1: 63205, 2: 63205, 3: 63205, 4: 63205, 5: 63205, 6: 63205, 7: 63205, 8: 63205, 9: 63205, 10: 63205, 11: 63205, 12: 63205, 13: 63205, 14: 63205},\n",
    "                            24: {1: 48383, 2: 48383, 3: 48383, 4: 48383, 5: 48383, 6: 48383, 7: 48383, 8: 48383, 9: 48383, 10: 48383, 11: 48383, 12: 48383, 13: 48383, 14: 48383},\n",
    "                            25: {1: 48383, 2: 48383, 3: 48383, 4: 48383, 5: 48383, 6: 48383, 7: 48383, 8: 48383, 9: 48383, 10: 48383, 11: 48383, 12: 48383, 13: 48383, 14: 48383},\n",
    "                            26: {1: 48383, 2: 48383, 3: 48383, 4: 48383, 5: 48383, 6: 48383, 7: 48383, 8: 48383, 9: 48383, 10: 48383, 11: 48383, 12: 48383, 13: 48383, 14: 48383},\n",
    "                            27: {1: 48383, 2: 48383, 3: 48383, 4: 48383, 5: 48383, 6: 48383, 7: 48383, 8: 48383, 9: 48383, 10: 48383, 11: 48383, 12: 48383, 13: 48383, 14: 48383},\n",
    "                            28: {1: 48383, 2: 48383, 3: 48383, 4: 48383, 5: 48383, 6: 48383, 7: 48383, 8: 48383, 9: 48383, 10: 48383, 11: 48383, 12: 48383, 13: 48383, 14: 48383}}}"
   ],
   "metadata": {
    "collapsed": false
   }
  },
  {
   "cell_type": "code",
   "execution_count": 5,
   "outputs": [],
   "source": [
    "# *** LOAD FACTOR OF VEHICLES ***\n",
    "# CAR and BUS taken from GIZ TrACS - https://www.changing-transport.org/wp-content/uploads/2018_GIZ_INFRAS_Transport_Mitigation_Options_Kenya.pdf table 7\n",
    "# MOTO based on conversation with Paul & Tom\n",
    "\n",
    "load_factor = {'CAR': 2, 'MOTO': 1.5, 'BUS': 26.4}"
   ],
   "metadata": {
    "collapsed": false
   }
  },
  {
   "cell_type": "code",
   "execution_count": null,
   "outputs": [],
   "source": [
    "# *** SCRAPPAGE PARAMETERS ***\n",
    "# cars and motos are very similar I think. Based on analysis of CDF of scappage vs. median life from GIZ INFRAS 2019.\n",
    "\n",
    "scrappage_parameters = {'CAR': {'ExpectLife': 21, 'FailSteep': 7},\n",
    "                        'MOTO': {'ExpectLife': 21, 'FailSteep': 5},\n",
    "                        'BUS': {'ExpectLife': 25, 'FailSteep': 7.5},\n",
    "                        'TRUCK': {'ExpectLife': 21, 'FailSteep': 7}}"
   ],
   "metadata": {
    "collapsed": false
   }
  },
  {
   "cell_type": "code",
   "execution_count": 7,
   "outputs": [
    {
     "data": {
      "text/plain": "       CountryID  TechID  Year  \\\n0              9      70  2012   \n1              9      70  2013   \n2              9      70  2014   \n3              9      70  2015   \n4              9      70  2016   \n...          ...     ...   ...   \n41439          9   10708  2096   \n41440          9   10708  2097   \n41441          9   10708  2098   \n41442          9   10708  2099   \n41443          9   10708  2100   \n\n                                             Description  AveCapacity  \\\n0      Road - Car - Small - Gasoline - Conventional (...            4   \n1      Road - Car - Small - Gasoline - Conventional (...            4   \n2      Road - Car - Small - Gasoline - Conventional (...            4   \n3      Road - Car - Small - Gasoline - Conventional (...            4   \n4      Road - Car - Small - Gasoline - Conventional (...            4   \n...                                                  ...          ...   \n41439  Road - Car - Medium - Electricity - Euro 12 (2...            4   \n41440  Road - Car - Medium - Electricity - Euro 12 (2...            4   \n41441  Road - Car - Medium - Electricity - Euro 12 (2...            4   \n41442  Road - Car - Medium - Electricity - Euro 12 (2...            4   \n41443  Road - Car - Medium - Electricity - Euro 12 (2...            4   \n\n       AveLoadFactor  AveAnnualKm  ExpectLife  FailSteep  EVCapacity  Range  \n0           0.394609        17124          21          7          35      0  \n1           0.394335        17124          21          7          35      0  \n2           0.394062        17124          21          7          35      0  \n3           0.393788        17124          21          7          35      0  \n4           0.393515        17124          21          7          35      0  \n...              ...          ...         ...        ...         ...    ...  \n41439       0.399326        17124          21          7          35      0  \n41440       0.399326        17124          21          7          35      0  \n41441       0.399326        17124          21          7          35      0  \n41442       0.399326        17124          21          7          35      0  \n41443       0.399326        17124          21          7          35      0  \n\n[41444 rows x 11 columns]",
      "text/html": "<div>\n<style scoped>\n    .dataframe tbody tr th:only-of-type {\n        vertical-align: middle;\n    }\n\n    .dataframe tbody tr th {\n        vertical-align: top;\n    }\n\n    .dataframe thead th {\n        text-align: right;\n    }\n</style>\n<table border=\"1\" class=\"dataframe\">\n  <thead>\n    <tr style=\"text-align: right;\">\n      <th></th>\n      <th>CountryID</th>\n      <th>TechID</th>\n      <th>Year</th>\n      <th>Description</th>\n      <th>AveCapacity</th>\n      <th>AveLoadFactor</th>\n      <th>AveAnnualKm</th>\n      <th>ExpectLife</th>\n      <th>FailSteep</th>\n      <th>EVCapacity</th>\n      <th>Range</th>\n    </tr>\n  </thead>\n  <tbody>\n    <tr>\n      <th>0</th>\n      <td>9</td>\n      <td>70</td>\n      <td>2012</td>\n      <td>Road - Car - Small - Gasoline - Conventional (...</td>\n      <td>4</td>\n      <td>0.394609</td>\n      <td>17124</td>\n      <td>21</td>\n      <td>7</td>\n      <td>35</td>\n      <td>0</td>\n    </tr>\n    <tr>\n      <th>1</th>\n      <td>9</td>\n      <td>70</td>\n      <td>2013</td>\n      <td>Road - Car - Small - Gasoline - Conventional (...</td>\n      <td>4</td>\n      <td>0.394335</td>\n      <td>17124</td>\n      <td>21</td>\n      <td>7</td>\n      <td>35</td>\n      <td>0</td>\n    </tr>\n    <tr>\n      <th>2</th>\n      <td>9</td>\n      <td>70</td>\n      <td>2014</td>\n      <td>Road - Car - Small - Gasoline - Conventional (...</td>\n      <td>4</td>\n      <td>0.394062</td>\n      <td>17124</td>\n      <td>21</td>\n      <td>7</td>\n      <td>35</td>\n      <td>0</td>\n    </tr>\n    <tr>\n      <th>3</th>\n      <td>9</td>\n      <td>70</td>\n      <td>2015</td>\n      <td>Road - Car - Small - Gasoline - Conventional (...</td>\n      <td>4</td>\n      <td>0.393788</td>\n      <td>17124</td>\n      <td>21</td>\n      <td>7</td>\n      <td>35</td>\n      <td>0</td>\n    </tr>\n    <tr>\n      <th>4</th>\n      <td>9</td>\n      <td>70</td>\n      <td>2016</td>\n      <td>Road - Car - Small - Gasoline - Conventional (...</td>\n      <td>4</td>\n      <td>0.393515</td>\n      <td>17124</td>\n      <td>21</td>\n      <td>7</td>\n      <td>35</td>\n      <td>0</td>\n    </tr>\n    <tr>\n      <th>...</th>\n      <td>...</td>\n      <td>...</td>\n      <td>...</td>\n      <td>...</td>\n      <td>...</td>\n      <td>...</td>\n      <td>...</td>\n      <td>...</td>\n      <td>...</td>\n      <td>...</td>\n      <td>...</td>\n    </tr>\n    <tr>\n      <th>41439</th>\n      <td>9</td>\n      <td>10708</td>\n      <td>2096</td>\n      <td>Road - Car - Medium - Electricity - Euro 12 (2...</td>\n      <td>4</td>\n      <td>0.399326</td>\n      <td>17124</td>\n      <td>21</td>\n      <td>7</td>\n      <td>35</td>\n      <td>0</td>\n    </tr>\n    <tr>\n      <th>41440</th>\n      <td>9</td>\n      <td>10708</td>\n      <td>2097</td>\n      <td>Road - Car - Medium - Electricity - Euro 12 (2...</td>\n      <td>4</td>\n      <td>0.399326</td>\n      <td>17124</td>\n      <td>21</td>\n      <td>7</td>\n      <td>35</td>\n      <td>0</td>\n    </tr>\n    <tr>\n      <th>41441</th>\n      <td>9</td>\n      <td>10708</td>\n      <td>2098</td>\n      <td>Road - Car - Medium - Electricity - Euro 12 (2...</td>\n      <td>4</td>\n      <td>0.399326</td>\n      <td>17124</td>\n      <td>21</td>\n      <td>7</td>\n      <td>35</td>\n      <td>0</td>\n    </tr>\n    <tr>\n      <th>41442</th>\n      <td>9</td>\n      <td>10708</td>\n      <td>2099</td>\n      <td>Road - Car - Medium - Electricity - Euro 12 (2...</td>\n      <td>4</td>\n      <td>0.399326</td>\n      <td>17124</td>\n      <td>21</td>\n      <td>7</td>\n      <td>35</td>\n      <td>0</td>\n    </tr>\n    <tr>\n      <th>41443</th>\n      <td>9</td>\n      <td>10708</td>\n      <td>2100</td>\n      <td>Road - Car - Medium - Electricity - Euro 12 (2...</td>\n      <td>4</td>\n      <td>0.399326</td>\n      <td>17124</td>\n      <td>21</td>\n      <td>7</td>\n      <td>35</td>\n      <td>0</td>\n    </tr>\n  </tbody>\n</table>\n<p>41444 rows × 11 columns</p>\n</div>"
     },
     "execution_count": 7,
     "metadata": {},
     "output_type": "execute_result"
    }
   ],
   "source": [
    "df = read_parameters_table('CAR')\n",
    "df"
   ],
   "metadata": {
    "collapsed": false
   }
  },
  {
   "cell_type": "code",
   "execution_count": 10,
   "outputs": [
    {
     "data": {
      "text/plain": "      TechID  ModeID  VehTypeID  MassCatID  FuelID  EngineID  TransTypeID  \\\n0         10       1          2          4       1        10            1   \n1         20       1          2          4      12        10            1   \n2         25       1          2          4      12        11            1   \n3         26       1          2          4      12        12            1   \n4         30       1          2          4       1        11            1   \n...      ...     ...        ...        ...     ...       ...          ...   \n2241   14889       1          5         28      13        13            2   \n2242   14890       1          5         28      13        13            2   \n2243   14891       1          5         28      13        13            2   \n2244   14892       1          5         28      13        13            2   \n2245   14893       1          5         28      13        13            2   \n\n      Availability  Final_Year  HybridFlag  spec_energ_consump  \\\n0             1980      2000.0           0            6.571951   \n1             1995      2010.0           0            9.514442   \n2             2010      2020.0           0            8.380919   \n3             2020         NaN           0            7.183646   \n4             2000      2010.0           0            5.645645   \n...            ...         ...         ...                 ...   \n2241          2033      2038.0           0          179.199997   \n2242          2038      2043.0           0          153.889999   \n2243          2043      2048.0           0          132.149994   \n2244          2048      2053.0           0          113.480003   \n2245          2053         NaN           0           97.449997   \n\n      spec_energ_electric  noise_class  PurchasePrice  ExpectedLifeFactor  \\\n0                     NaN            0         5000.0                   1   \n1                     NaN            2         7000.0                   1   \n2                     NaN            2         6000.0                   1   \n3                     NaN            2         5500.0                   1   \n4                     NaN            0         5000.0                   1   \n...                   ...          ...            ...                 ...   \n2241                  1.0            2        14000.0                   1   \n2242                  1.0            2        12000.0                   1   \n2243                  1.0            2        12000.0                   1   \n2244                  1.0            2        12000.0                   1   \n2245                  1.0            2        12000.0                   1   \n\n      Capacity  AveEconLife  SecondHandImportFlag  note  \n0          2.0           10                     0   NaN  \n1          2.0           10                     0   NaN  \n2          2.0           10                     0   NaN  \n3          2.0           10                     0   NaN  \n4          2.0           10                     0   NaN  \n...        ...          ...                   ...   ...  \n2241       2.5           10                     1   NaN  \n2242       2.5           10                     1   NaN  \n2243       2.5           10                     1   NaN  \n2244       2.5           10                     1   NaN  \n2245       2.5           10                     1   NaN  \n\n[2246 rows x 19 columns]",
      "text/html": "<div>\n<style scoped>\n    .dataframe tbody tr th:only-of-type {\n        vertical-align: middle;\n    }\n\n    .dataframe tbody tr th {\n        vertical-align: top;\n    }\n\n    .dataframe thead th {\n        text-align: right;\n    }\n</style>\n<table border=\"1\" class=\"dataframe\">\n  <thead>\n    <tr style=\"text-align: right;\">\n      <th></th>\n      <th>TechID</th>\n      <th>ModeID</th>\n      <th>VehTypeID</th>\n      <th>MassCatID</th>\n      <th>FuelID</th>\n      <th>EngineID</th>\n      <th>TransTypeID</th>\n      <th>Availability</th>\n      <th>Final_Year</th>\n      <th>HybridFlag</th>\n      <th>spec_energ_consump</th>\n      <th>spec_energ_electric</th>\n      <th>noise_class</th>\n      <th>PurchasePrice</th>\n      <th>ExpectedLifeFactor</th>\n      <th>Capacity</th>\n      <th>AveEconLife</th>\n      <th>SecondHandImportFlag</th>\n      <th>note</th>\n    </tr>\n  </thead>\n  <tbody>\n    <tr>\n      <th>0</th>\n      <td>10</td>\n      <td>1</td>\n      <td>2</td>\n      <td>4</td>\n      <td>1</td>\n      <td>10</td>\n      <td>1</td>\n      <td>1980</td>\n      <td>2000.0</td>\n      <td>0</td>\n      <td>6.571951</td>\n      <td>NaN</td>\n      <td>0</td>\n      <td>5000.0</td>\n      <td>1</td>\n      <td>2.0</td>\n      <td>10</td>\n      <td>0</td>\n      <td>NaN</td>\n    </tr>\n    <tr>\n      <th>1</th>\n      <td>20</td>\n      <td>1</td>\n      <td>2</td>\n      <td>4</td>\n      <td>12</td>\n      <td>10</td>\n      <td>1</td>\n      <td>1995</td>\n      <td>2010.0</td>\n      <td>0</td>\n      <td>9.514442</td>\n      <td>NaN</td>\n      <td>2</td>\n      <td>7000.0</td>\n      <td>1</td>\n      <td>2.0</td>\n      <td>10</td>\n      <td>0</td>\n      <td>NaN</td>\n    </tr>\n    <tr>\n      <th>2</th>\n      <td>25</td>\n      <td>1</td>\n      <td>2</td>\n      <td>4</td>\n      <td>12</td>\n      <td>11</td>\n      <td>1</td>\n      <td>2010</td>\n      <td>2020.0</td>\n      <td>0</td>\n      <td>8.380919</td>\n      <td>NaN</td>\n      <td>2</td>\n      <td>6000.0</td>\n      <td>1</td>\n      <td>2.0</td>\n      <td>10</td>\n      <td>0</td>\n      <td>NaN</td>\n    </tr>\n    <tr>\n      <th>3</th>\n      <td>26</td>\n      <td>1</td>\n      <td>2</td>\n      <td>4</td>\n      <td>12</td>\n      <td>12</td>\n      <td>1</td>\n      <td>2020</td>\n      <td>NaN</td>\n      <td>0</td>\n      <td>7.183646</td>\n      <td>NaN</td>\n      <td>2</td>\n      <td>5500.0</td>\n      <td>1</td>\n      <td>2.0</td>\n      <td>10</td>\n      <td>0</td>\n      <td>NaN</td>\n    </tr>\n    <tr>\n      <th>4</th>\n      <td>30</td>\n      <td>1</td>\n      <td>2</td>\n      <td>4</td>\n      <td>1</td>\n      <td>11</td>\n      <td>1</td>\n      <td>2000</td>\n      <td>2010.0</td>\n      <td>0</td>\n      <td>5.645645</td>\n      <td>NaN</td>\n      <td>0</td>\n      <td>5000.0</td>\n      <td>1</td>\n      <td>2.0</td>\n      <td>10</td>\n      <td>0</td>\n      <td>NaN</td>\n    </tr>\n    <tr>\n      <th>...</th>\n      <td>...</td>\n      <td>...</td>\n      <td>...</td>\n      <td>...</td>\n      <td>...</td>\n      <td>...</td>\n      <td>...</td>\n      <td>...</td>\n      <td>...</td>\n      <td>...</td>\n      <td>...</td>\n      <td>...</td>\n      <td>...</td>\n      <td>...</td>\n      <td>...</td>\n      <td>...</td>\n      <td>...</td>\n      <td>...</td>\n      <td>...</td>\n    </tr>\n    <tr>\n      <th>2241</th>\n      <td>14889</td>\n      <td>1</td>\n      <td>5</td>\n      <td>28</td>\n      <td>13</td>\n      <td>13</td>\n      <td>2</td>\n      <td>2033</td>\n      <td>2038.0</td>\n      <td>0</td>\n      <td>179.199997</td>\n      <td>1.0</td>\n      <td>2</td>\n      <td>14000.0</td>\n      <td>1</td>\n      <td>2.5</td>\n      <td>10</td>\n      <td>1</td>\n      <td>NaN</td>\n    </tr>\n    <tr>\n      <th>2242</th>\n      <td>14890</td>\n      <td>1</td>\n      <td>5</td>\n      <td>28</td>\n      <td>13</td>\n      <td>13</td>\n      <td>2</td>\n      <td>2038</td>\n      <td>2043.0</td>\n      <td>0</td>\n      <td>153.889999</td>\n      <td>1.0</td>\n      <td>2</td>\n      <td>12000.0</td>\n      <td>1</td>\n      <td>2.5</td>\n      <td>10</td>\n      <td>1</td>\n      <td>NaN</td>\n    </tr>\n    <tr>\n      <th>2243</th>\n      <td>14891</td>\n      <td>1</td>\n      <td>5</td>\n      <td>28</td>\n      <td>13</td>\n      <td>13</td>\n      <td>2</td>\n      <td>2043</td>\n      <td>2048.0</td>\n      <td>0</td>\n      <td>132.149994</td>\n      <td>1.0</td>\n      <td>2</td>\n      <td>12000.0</td>\n      <td>1</td>\n      <td>2.5</td>\n      <td>10</td>\n      <td>1</td>\n      <td>NaN</td>\n    </tr>\n    <tr>\n      <th>2244</th>\n      <td>14892</td>\n      <td>1</td>\n      <td>5</td>\n      <td>28</td>\n      <td>13</td>\n      <td>13</td>\n      <td>2</td>\n      <td>2048</td>\n      <td>2053.0</td>\n      <td>0</td>\n      <td>113.480003</td>\n      <td>1.0</td>\n      <td>2</td>\n      <td>12000.0</td>\n      <td>1</td>\n      <td>2.5</td>\n      <td>10</td>\n      <td>1</td>\n      <td>NaN</td>\n    </tr>\n    <tr>\n      <th>2245</th>\n      <td>14893</td>\n      <td>1</td>\n      <td>5</td>\n      <td>28</td>\n      <td>13</td>\n      <td>13</td>\n      <td>2</td>\n      <td>2053</td>\n      <td>NaN</td>\n      <td>0</td>\n      <td>97.449997</td>\n      <td>1.0</td>\n      <td>2</td>\n      <td>12000.0</td>\n      <td>1</td>\n      <td>2.5</td>\n      <td>10</td>\n      <td>1</td>\n      <td>NaN</td>\n    </tr>\n  </tbody>\n</table>\n<p>2246 rows × 19 columns</p>\n</div>"
     },
     "execution_count": 10,
     "metadata": {},
     "output_type": "execute_result"
    }
   ],
   "source": [
    "technology = read_technology()\n",
    "technology"
   ],
   "metadata": {
    "collapsed": false
   }
  },
  {
   "cell_type": "code",
   "execution_count": 13,
   "outputs": [
    {
     "data": {
      "text/plain": "       CountryID  TechID  Year  \\\n3234           9     190  2012   \n3235           9     190  2013   \n3236           9     190  2014   \n3237           9     190  2015   \n3238           9     190  2016   \n...          ...     ...   ...   \n31904          9    9407  2096   \n31905          9    9407  2097   \n31906          9    9407  2098   \n31907          9    9407  2099   \n31908          9    9407  2100   \n\n                                             Description  AveCapacity  \\\n3234   Road - Car - Large - Gasoline - Conventional (...            4   \n3235   Road - Car - Large - Gasoline - Conventional (...            4   \n3236   Road - Car - Large - Gasoline - Conventional (...            4   \n3237   Road - Car - Large - Gasoline - Conventional (...            4   \n3238   Road - Car - Large - Gasoline - Conventional (...            4   \n...                                                  ...          ...   \n31904  Road - Car - Large - Gasoline - Euro 12 (2045-...            4   \n31905  Road - Car - Large - Gasoline - Euro 12 (2045-...            4   \n31906  Road - Car - Large - Gasoline - Euro 12 (2045-...            4   \n31907  Road - Car - Large - Gasoline - Euro 12 (2045-...            4   \n31908  Road - Car - Large - Gasoline - Euro 12 (2045-...            4   \n\n       AveLoadFactor  AveAnnualKm  ExpectLife  FailSteep  EVCapacity  Range  \n3234        0.394609        17124          21          7          35      0  \n3235        0.394335        17124          21          7          35      0  \n3236        0.394062        17124          21          7          35      0  \n3237        0.393788        17124          21          7          35      0  \n3238        0.393515        17124          21          7          35      0  \n...              ...          ...         ...        ...         ...    ...  \n31904       0.399326        17124          21          7          35      0  \n31905       0.399326        17124          21          7          35      0  \n31906       0.399326        17124          21          7          35      0  \n31907       0.399326        17124          21          7          35      0  \n31908       0.399326        17124          21          7          35      0  \n\n[4399 rows x 11 columns]",
      "text/html": "<div>\n<style scoped>\n    .dataframe tbody tr th:only-of-type {\n        vertical-align: middle;\n    }\n\n    .dataframe tbody tr th {\n        vertical-align: top;\n    }\n\n    .dataframe thead th {\n        text-align: right;\n    }\n</style>\n<table border=\"1\" class=\"dataframe\">\n  <thead>\n    <tr style=\"text-align: right;\">\n      <th></th>\n      <th>CountryID</th>\n      <th>TechID</th>\n      <th>Year</th>\n      <th>Description</th>\n      <th>AveCapacity</th>\n      <th>AveLoadFactor</th>\n      <th>AveAnnualKm</th>\n      <th>ExpectLife</th>\n      <th>FailSteep</th>\n      <th>EVCapacity</th>\n      <th>Range</th>\n    </tr>\n  </thead>\n  <tbody>\n    <tr>\n      <th>3234</th>\n      <td>9</td>\n      <td>190</td>\n      <td>2012</td>\n      <td>Road - Car - Large - Gasoline - Conventional (...</td>\n      <td>4</td>\n      <td>0.394609</td>\n      <td>17124</td>\n      <td>21</td>\n      <td>7</td>\n      <td>35</td>\n      <td>0</td>\n    </tr>\n    <tr>\n      <th>3235</th>\n      <td>9</td>\n      <td>190</td>\n      <td>2013</td>\n      <td>Road - Car - Large - Gasoline - Conventional (...</td>\n      <td>4</td>\n      <td>0.394335</td>\n      <td>17124</td>\n      <td>21</td>\n      <td>7</td>\n      <td>35</td>\n      <td>0</td>\n    </tr>\n    <tr>\n      <th>3236</th>\n      <td>9</td>\n      <td>190</td>\n      <td>2014</td>\n      <td>Road - Car - Large - Gasoline - Conventional (...</td>\n      <td>4</td>\n      <td>0.394062</td>\n      <td>17124</td>\n      <td>21</td>\n      <td>7</td>\n      <td>35</td>\n      <td>0</td>\n    </tr>\n    <tr>\n      <th>3237</th>\n      <td>9</td>\n      <td>190</td>\n      <td>2015</td>\n      <td>Road - Car - Large - Gasoline - Conventional (...</td>\n      <td>4</td>\n      <td>0.393788</td>\n      <td>17124</td>\n      <td>21</td>\n      <td>7</td>\n      <td>35</td>\n      <td>0</td>\n    </tr>\n    <tr>\n      <th>3238</th>\n      <td>9</td>\n      <td>190</td>\n      <td>2016</td>\n      <td>Road - Car - Large - Gasoline - Conventional (...</td>\n      <td>4</td>\n      <td>0.393515</td>\n      <td>17124</td>\n      <td>21</td>\n      <td>7</td>\n      <td>35</td>\n      <td>0</td>\n    </tr>\n    <tr>\n      <th>...</th>\n      <td>...</td>\n      <td>...</td>\n      <td>...</td>\n      <td>...</td>\n      <td>...</td>\n      <td>...</td>\n      <td>...</td>\n      <td>...</td>\n      <td>...</td>\n      <td>...</td>\n      <td>...</td>\n    </tr>\n    <tr>\n      <th>31904</th>\n      <td>9</td>\n      <td>9407</td>\n      <td>2096</td>\n      <td>Road - Car - Large - Gasoline - Euro 12 (2045-...</td>\n      <td>4</td>\n      <td>0.399326</td>\n      <td>17124</td>\n      <td>21</td>\n      <td>7</td>\n      <td>35</td>\n      <td>0</td>\n    </tr>\n    <tr>\n      <th>31905</th>\n      <td>9</td>\n      <td>9407</td>\n      <td>2097</td>\n      <td>Road - Car - Large - Gasoline - Euro 12 (2045-...</td>\n      <td>4</td>\n      <td>0.399326</td>\n      <td>17124</td>\n      <td>21</td>\n      <td>7</td>\n      <td>35</td>\n      <td>0</td>\n    </tr>\n    <tr>\n      <th>31906</th>\n      <td>9</td>\n      <td>9407</td>\n      <td>2098</td>\n      <td>Road - Car - Large - Gasoline - Euro 12 (2045-...</td>\n      <td>4</td>\n      <td>0.399326</td>\n      <td>17124</td>\n      <td>21</td>\n      <td>7</td>\n      <td>35</td>\n      <td>0</td>\n    </tr>\n    <tr>\n      <th>31907</th>\n      <td>9</td>\n      <td>9407</td>\n      <td>2099</td>\n      <td>Road - Car - Large - Gasoline - Euro 12 (2045-...</td>\n      <td>4</td>\n      <td>0.399326</td>\n      <td>17124</td>\n      <td>21</td>\n      <td>7</td>\n      <td>35</td>\n      <td>0</td>\n    </tr>\n    <tr>\n      <th>31908</th>\n      <td>9</td>\n      <td>9407</td>\n      <td>2100</td>\n      <td>Road - Car - Large - Gasoline - Euro 12 (2045-...</td>\n      <td>4</td>\n      <td>0.399326</td>\n      <td>17124</td>\n      <td>21</td>\n      <td>7</td>\n      <td>35</td>\n      <td>0</td>\n    </tr>\n  </tbody>\n</table>\n<p>4399 rows × 11 columns</p>\n</div>"
     },
     "execution_count": 13,
     "metadata": {},
     "output_type": "execute_result"
    }
   ],
   "source": [
    "masscat=3\n",
    "fuel=1\n",
    "df.loc[df[(df.TechID.isin(technology[technology.MassCatID == masscat].TechID)) & (df.TechID.isin(technology[technology.FuelID == fuel].TechID))].index.tolist(), 'AveLoadFactor'] ="
   ],
   "metadata": {
    "collapsed": false
   }
  },
  {
   "cell_type": "code",
   "execution_count": 14,
   "outputs": [
    {
     "name": "stdout",
     "output_type": "stream",
     "text": [
      "CAR\n",
      "BUS\n",
      "MOTO\n",
      "TRUCK\n"
     ]
    }
   ],
   "source": [
    "# go through each vehicle\n",
    "for vehicle in avg_km_per_year:\n",
    "    for\n",
    "    avg_km_per_year[vehicle][masscat][fuel]"
   ],
   "metadata": {
    "collapsed": false
   }
  }
 ],
 "metadata": {
  "kernelspec": {
   "display_name": "Python 3",
   "language": "python",
   "name": "python3"
  },
  "language_info": {
   "codemirror_mode": {
    "name": "ipython",
    "version": 2
   },
   "file_extension": ".py",
   "mimetype": "text/x-python",
   "name": "python",
   "nbconvert_exporter": "python",
   "pygments_lexer": "ipython2",
   "version": "2.7.6"
  }
 },
 "nbformat": 4,
 "nbformat_minor": 0
}
