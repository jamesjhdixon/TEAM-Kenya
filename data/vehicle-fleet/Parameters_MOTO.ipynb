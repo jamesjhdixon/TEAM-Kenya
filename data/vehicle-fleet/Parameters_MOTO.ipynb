{
 "cells": [
  {
   "cell_type": "code",
   "execution_count": 1,
   "id": "initial_id",
   "metadata": {
    "collapsed": true,
    "ExecuteTime": {
     "end_time": "2024-02-11T17:45:39.921943200Z",
     "start_time": "2024-02-11T17:45:39.919583300Z"
    }
   },
   "outputs": [],
   "source": [
    "import pandas as pd"
   ]
  },
  {
   "cell_type": "code",
   "execution_count": 2,
   "outputs": [],
   "source": [
    "def read_parameters_table(vehicle):\n",
    "    return pd.read_excel(f'./../../TEAM-Kenya_data_out/original-team-uk-data/Parameters_{vehicle}.xlsx')"
   ],
   "metadata": {
    "collapsed": false,
    "ExecuteTime": {
     "end_time": "2024-02-11T17:45:41.295692Z",
     "start_time": "2024-02-11T17:45:41.284524400Z"
    }
   },
   "id": "ac0ff965b0bdcc26"
  },
  {
   "cell_type": "code",
   "execution_count": 3,
   "outputs": [],
   "source": [
    "def read_technology():\n",
    "    return pd.read_excel(f'./../../TEAM-Kenya_data_out/original-team-uk-data/Technology.xlsx')"
   ],
   "metadata": {
    "collapsed": false,
    "ExecuteTime": {
     "end_time": "2024-02-11T17:45:48.748193400Z",
     "start_time": "2024-02-11T17:45:48.743531900Z"
    }
   },
   "id": "c2cd1a1dea4565c6"
  },
  {
   "cell_type": "code",
   "execution_count": 4,
   "outputs": [
    {
     "data": {
      "text/plain": "      TechID  ModeID  VehTypeID  MassCatID  FuelID  EngineID  TransTypeID  \\\n0         10       1          2          4       1        10            1   \n1         20       1          2          4      12        10            1   \n2         25       1          2          4      12        11            1   \n3         26       1          2          4      12        12            1   \n4         30       1          2          4       1        11            1   \n...      ...     ...        ...        ...     ...       ...          ...   \n2241   14889       1          5         28      13        13            2   \n2242   14890       1          5         28      13        13            2   \n2243   14891       1          5         28      13        13            2   \n2244   14892       1          5         28      13        13            2   \n2245   14893       1          5         28      13        13            2   \n\n      Availability  Final_Year  HybridFlag  spec_energ_consump  \\\n0             1980      2000.0           0            6.571951   \n1             1995      2010.0           0            9.514442   \n2             2010      2020.0           0            8.380919   \n3             2020         NaN           0            7.183646   \n4             2000      2010.0           0            5.645645   \n...            ...         ...         ...                 ...   \n2241          2033      2038.0           0          179.199997   \n2242          2038      2043.0           0          153.889999   \n2243          2043      2048.0           0          132.149994   \n2244          2048      2053.0           0          113.480003   \n2245          2053         NaN           0           97.449997   \n\n      spec_energ_electric  noise_class  PurchasePrice  ExpectedLifeFactor  \\\n0                     NaN            0         5000.0                   1   \n1                     NaN            2         7000.0                   1   \n2                     NaN            2         6000.0                   1   \n3                     NaN            2         5500.0                   1   \n4                     NaN            0         5000.0                   1   \n...                   ...          ...            ...                 ...   \n2241                  1.0            2        14000.0                   1   \n2242                  1.0            2        12000.0                   1   \n2243                  1.0            2        12000.0                   1   \n2244                  1.0            2        12000.0                   1   \n2245                  1.0            2        12000.0                   1   \n\n      Capacity  AveEconLife  SecondHandImportFlag  note  \n0          2.0           10                     0   NaN  \n1          2.0           10                     0   NaN  \n2          2.0           10                     0   NaN  \n3          2.0           10                     0   NaN  \n4          2.0           10                     0   NaN  \n...        ...          ...                   ...   ...  \n2241       2.5           10                     1   NaN  \n2242       2.5           10                     1   NaN  \n2243       2.5           10                     1   NaN  \n2244       2.5           10                     1   NaN  \n2245       2.5           10                     1   NaN  \n\n[2246 rows x 19 columns]",
      "text/html": "<div>\n<style scoped>\n    .dataframe tbody tr th:only-of-type {\n        vertical-align: middle;\n    }\n\n    .dataframe tbody tr th {\n        vertical-align: top;\n    }\n\n    .dataframe thead th {\n        text-align: right;\n    }\n</style>\n<table border=\"1\" class=\"dataframe\">\n  <thead>\n    <tr style=\"text-align: right;\">\n      <th></th>\n      <th>TechID</th>\n      <th>ModeID</th>\n      <th>VehTypeID</th>\n      <th>MassCatID</th>\n      <th>FuelID</th>\n      <th>EngineID</th>\n      <th>TransTypeID</th>\n      <th>Availability</th>\n      <th>Final_Year</th>\n      <th>HybridFlag</th>\n      <th>spec_energ_consump</th>\n      <th>spec_energ_electric</th>\n      <th>noise_class</th>\n      <th>PurchasePrice</th>\n      <th>ExpectedLifeFactor</th>\n      <th>Capacity</th>\n      <th>AveEconLife</th>\n      <th>SecondHandImportFlag</th>\n      <th>note</th>\n    </tr>\n  </thead>\n  <tbody>\n    <tr>\n      <th>0</th>\n      <td>10</td>\n      <td>1</td>\n      <td>2</td>\n      <td>4</td>\n      <td>1</td>\n      <td>10</td>\n      <td>1</td>\n      <td>1980</td>\n      <td>2000.0</td>\n      <td>0</td>\n      <td>6.571951</td>\n      <td>NaN</td>\n      <td>0</td>\n      <td>5000.0</td>\n      <td>1</td>\n      <td>2.0</td>\n      <td>10</td>\n      <td>0</td>\n      <td>NaN</td>\n    </tr>\n    <tr>\n      <th>1</th>\n      <td>20</td>\n      <td>1</td>\n      <td>2</td>\n      <td>4</td>\n      <td>12</td>\n      <td>10</td>\n      <td>1</td>\n      <td>1995</td>\n      <td>2010.0</td>\n      <td>0</td>\n      <td>9.514442</td>\n      <td>NaN</td>\n      <td>2</td>\n      <td>7000.0</td>\n      <td>1</td>\n      <td>2.0</td>\n      <td>10</td>\n      <td>0</td>\n      <td>NaN</td>\n    </tr>\n    <tr>\n      <th>2</th>\n      <td>25</td>\n      <td>1</td>\n      <td>2</td>\n      <td>4</td>\n      <td>12</td>\n      <td>11</td>\n      <td>1</td>\n      <td>2010</td>\n      <td>2020.0</td>\n      <td>0</td>\n      <td>8.380919</td>\n      <td>NaN</td>\n      <td>2</td>\n      <td>6000.0</td>\n      <td>1</td>\n      <td>2.0</td>\n      <td>10</td>\n      <td>0</td>\n      <td>NaN</td>\n    </tr>\n    <tr>\n      <th>3</th>\n      <td>26</td>\n      <td>1</td>\n      <td>2</td>\n      <td>4</td>\n      <td>12</td>\n      <td>12</td>\n      <td>1</td>\n      <td>2020</td>\n      <td>NaN</td>\n      <td>0</td>\n      <td>7.183646</td>\n      <td>NaN</td>\n      <td>2</td>\n      <td>5500.0</td>\n      <td>1</td>\n      <td>2.0</td>\n      <td>10</td>\n      <td>0</td>\n      <td>NaN</td>\n    </tr>\n    <tr>\n      <th>4</th>\n      <td>30</td>\n      <td>1</td>\n      <td>2</td>\n      <td>4</td>\n      <td>1</td>\n      <td>11</td>\n      <td>1</td>\n      <td>2000</td>\n      <td>2010.0</td>\n      <td>0</td>\n      <td>5.645645</td>\n      <td>NaN</td>\n      <td>0</td>\n      <td>5000.0</td>\n      <td>1</td>\n      <td>2.0</td>\n      <td>10</td>\n      <td>0</td>\n      <td>NaN</td>\n    </tr>\n    <tr>\n      <th>...</th>\n      <td>...</td>\n      <td>...</td>\n      <td>...</td>\n      <td>...</td>\n      <td>...</td>\n      <td>...</td>\n      <td>...</td>\n      <td>...</td>\n      <td>...</td>\n      <td>...</td>\n      <td>...</td>\n      <td>...</td>\n      <td>...</td>\n      <td>...</td>\n      <td>...</td>\n      <td>...</td>\n      <td>...</td>\n      <td>...</td>\n      <td>...</td>\n    </tr>\n    <tr>\n      <th>2241</th>\n      <td>14889</td>\n      <td>1</td>\n      <td>5</td>\n      <td>28</td>\n      <td>13</td>\n      <td>13</td>\n      <td>2</td>\n      <td>2033</td>\n      <td>2038.0</td>\n      <td>0</td>\n      <td>179.199997</td>\n      <td>1.0</td>\n      <td>2</td>\n      <td>14000.0</td>\n      <td>1</td>\n      <td>2.5</td>\n      <td>10</td>\n      <td>1</td>\n      <td>NaN</td>\n    </tr>\n    <tr>\n      <th>2242</th>\n      <td>14890</td>\n      <td>1</td>\n      <td>5</td>\n      <td>28</td>\n      <td>13</td>\n      <td>13</td>\n      <td>2</td>\n      <td>2038</td>\n      <td>2043.0</td>\n      <td>0</td>\n      <td>153.889999</td>\n      <td>1.0</td>\n      <td>2</td>\n      <td>12000.0</td>\n      <td>1</td>\n      <td>2.5</td>\n      <td>10</td>\n      <td>1</td>\n      <td>NaN</td>\n    </tr>\n    <tr>\n      <th>2243</th>\n      <td>14891</td>\n      <td>1</td>\n      <td>5</td>\n      <td>28</td>\n      <td>13</td>\n      <td>13</td>\n      <td>2</td>\n      <td>2043</td>\n      <td>2048.0</td>\n      <td>0</td>\n      <td>132.149994</td>\n      <td>1.0</td>\n      <td>2</td>\n      <td>12000.0</td>\n      <td>1</td>\n      <td>2.5</td>\n      <td>10</td>\n      <td>1</td>\n      <td>NaN</td>\n    </tr>\n    <tr>\n      <th>2244</th>\n      <td>14892</td>\n      <td>1</td>\n      <td>5</td>\n      <td>28</td>\n      <td>13</td>\n      <td>13</td>\n      <td>2</td>\n      <td>2048</td>\n      <td>2053.0</td>\n      <td>0</td>\n      <td>113.480003</td>\n      <td>1.0</td>\n      <td>2</td>\n      <td>12000.0</td>\n      <td>1</td>\n      <td>2.5</td>\n      <td>10</td>\n      <td>1</td>\n      <td>NaN</td>\n    </tr>\n    <tr>\n      <th>2245</th>\n      <td>14893</td>\n      <td>1</td>\n      <td>5</td>\n      <td>28</td>\n      <td>13</td>\n      <td>13</td>\n      <td>2</td>\n      <td>2053</td>\n      <td>NaN</td>\n      <td>0</td>\n      <td>97.449997</td>\n      <td>1.0</td>\n      <td>2</td>\n      <td>12000.0</td>\n      <td>1</td>\n      <td>2.5</td>\n      <td>10</td>\n      <td>1</td>\n      <td>NaN</td>\n    </tr>\n  </tbody>\n</table>\n<p>2246 rows × 19 columns</p>\n</div>"
     },
     "execution_count": 4,
     "metadata": {},
     "output_type": "execute_result"
    }
   ],
   "source": [
    "technology = read_technology()\n",
    "technology"
   ],
   "metadata": {
    "collapsed": false,
    "ExecuteTime": {
     "end_time": "2024-02-11T17:45:57.503375100Z",
     "start_time": "2024-02-11T17:45:56.767621200Z"
    }
   },
   "id": "caf082a5be5cd86e"
  },
  {
   "cell_type": "code",
   "execution_count": 5,
   "outputs": [
    {
     "data": {
      "text/plain": "     CountryID  TechID  Year  \\\n0            9      10  2012   \n1            9      10  2013   \n2            9      10  2014   \n3            9      10  2015   \n4            9      10  2016   \n..         ...     ...   ...   \n678          9      60  2096   \n679          9      60  2097   \n680          9      60  2098   \n681          9      60  2099   \n682          9      60  2100   \n\n                                           Description  AveCapacity  \\\n0    Road - Motorcycle - Average moto - Gasoline - ...            2   \n1    Road - Motorcycle - Average moto - Gasoline - ...            2   \n2    Road - Motorcycle - Average moto - Gasoline - ...            2   \n3    Road - Motorcycle - Average moto - Gasoline - ...            2   \n4    Road - Motorcycle - Average moto - Gasoline - ...            2   \n..                                                 ...          ...   \n678  Road - Motorcycle - Average moto - Gaseous Hyd...            2   \n679  Road - Motorcycle - Average moto - Gaseous Hyd...            2   \n680  Road - Motorcycle - Average moto - Gaseous Hyd...            2   \n681  Road - Motorcycle - Average moto - Gaseous Hyd...            2   \n682  Road - Motorcycle - Average moto - Gaseous Hyd...            2   \n\n     AveLoadFactor  AveAnnualKm  ExpectLife  FailSteep  \n0         0.540000         5272          14          5  \n1         0.540000         5272          14          5  \n2         0.540000         5272          14          5  \n3         0.540000         5272          14          5  \n4         0.540000         5272          14          5  \n..             ...          ...         ...        ...  \n678       0.533394         6312          14          5  \n679       0.533394         6312          14          5  \n680       0.533394         6312          14          5  \n681       0.533394         6312          14          5  \n682       0.533394         6312          14          5  \n\n[683 rows x 9 columns]",
      "text/html": "<div>\n<style scoped>\n    .dataframe tbody tr th:only-of-type {\n        vertical-align: middle;\n    }\n\n    .dataframe tbody tr th {\n        vertical-align: top;\n    }\n\n    .dataframe thead th {\n        text-align: right;\n    }\n</style>\n<table border=\"1\" class=\"dataframe\">\n  <thead>\n    <tr style=\"text-align: right;\">\n      <th></th>\n      <th>CountryID</th>\n      <th>TechID</th>\n      <th>Year</th>\n      <th>Description</th>\n      <th>AveCapacity</th>\n      <th>AveLoadFactor</th>\n      <th>AveAnnualKm</th>\n      <th>ExpectLife</th>\n      <th>FailSteep</th>\n    </tr>\n  </thead>\n  <tbody>\n    <tr>\n      <th>0</th>\n      <td>9</td>\n      <td>10</td>\n      <td>2012</td>\n      <td>Road - Motorcycle - Average moto - Gasoline - ...</td>\n      <td>2</td>\n      <td>0.540000</td>\n      <td>5272</td>\n      <td>14</td>\n      <td>5</td>\n    </tr>\n    <tr>\n      <th>1</th>\n      <td>9</td>\n      <td>10</td>\n      <td>2013</td>\n      <td>Road - Motorcycle - Average moto - Gasoline - ...</td>\n      <td>2</td>\n      <td>0.540000</td>\n      <td>5272</td>\n      <td>14</td>\n      <td>5</td>\n    </tr>\n    <tr>\n      <th>2</th>\n      <td>9</td>\n      <td>10</td>\n      <td>2014</td>\n      <td>Road - Motorcycle - Average moto - Gasoline - ...</td>\n      <td>2</td>\n      <td>0.540000</td>\n      <td>5272</td>\n      <td>14</td>\n      <td>5</td>\n    </tr>\n    <tr>\n      <th>3</th>\n      <td>9</td>\n      <td>10</td>\n      <td>2015</td>\n      <td>Road - Motorcycle - Average moto - Gasoline - ...</td>\n      <td>2</td>\n      <td>0.540000</td>\n      <td>5272</td>\n      <td>14</td>\n      <td>5</td>\n    </tr>\n    <tr>\n      <th>4</th>\n      <td>9</td>\n      <td>10</td>\n      <td>2016</td>\n      <td>Road - Motorcycle - Average moto - Gasoline - ...</td>\n      <td>2</td>\n      <td>0.540000</td>\n      <td>5272</td>\n      <td>14</td>\n      <td>5</td>\n    </tr>\n    <tr>\n      <th>...</th>\n      <td>...</td>\n      <td>...</td>\n      <td>...</td>\n      <td>...</td>\n      <td>...</td>\n      <td>...</td>\n      <td>...</td>\n      <td>...</td>\n      <td>...</td>\n    </tr>\n    <tr>\n      <th>678</th>\n      <td>9</td>\n      <td>60</td>\n      <td>2096</td>\n      <td>Road - Motorcycle - Average moto - Gaseous Hyd...</td>\n      <td>2</td>\n      <td>0.533394</td>\n      <td>6312</td>\n      <td>14</td>\n      <td>5</td>\n    </tr>\n    <tr>\n      <th>679</th>\n      <td>9</td>\n      <td>60</td>\n      <td>2097</td>\n      <td>Road - Motorcycle - Average moto - Gaseous Hyd...</td>\n      <td>2</td>\n      <td>0.533394</td>\n      <td>6312</td>\n      <td>14</td>\n      <td>5</td>\n    </tr>\n    <tr>\n      <th>680</th>\n      <td>9</td>\n      <td>60</td>\n      <td>2098</td>\n      <td>Road - Motorcycle - Average moto - Gaseous Hyd...</td>\n      <td>2</td>\n      <td>0.533394</td>\n      <td>6312</td>\n      <td>14</td>\n      <td>5</td>\n    </tr>\n    <tr>\n      <th>681</th>\n      <td>9</td>\n      <td>60</td>\n      <td>2099</td>\n      <td>Road - Motorcycle - Average moto - Gaseous Hyd...</td>\n      <td>2</td>\n      <td>0.533394</td>\n      <td>6312</td>\n      <td>14</td>\n      <td>5</td>\n    </tr>\n    <tr>\n      <th>682</th>\n      <td>9</td>\n      <td>60</td>\n      <td>2100</td>\n      <td>Road - Motorcycle - Average moto - Gaseous Hyd...</td>\n      <td>2</td>\n      <td>0.533394</td>\n      <td>6312</td>\n      <td>14</td>\n      <td>5</td>\n    </tr>\n  </tbody>\n</table>\n<p>683 rows × 9 columns</p>\n</div>"
     },
     "execution_count": 5,
     "metadata": {},
     "output_type": "execute_result"
    }
   ],
   "source": [
    "parameters_moto = read_parameters_table('MOTO')\n",
    "parameters_moto"
   ],
   "metadata": {
    "collapsed": false,
    "ExecuteTime": {
     "end_time": "2024-02-11T17:46:14.779172300Z",
     "start_time": "2024-02-11T17:46:14.669930900Z"
    }
   },
   "id": "e00970ac6a700052"
  },
  {
   "cell_type": "code",
   "execution_count": 6,
   "outputs": [],
   "source": [
    "annual_km = {2012: 17807,\n",
    "             2013: 17800,\n",
    "             2014: 17800,\n",
    "             2015: 17800,\n",
    "             2016: 15784,\n",
    "             2017: 13768,\n",
    "             2018: 11752,\n",
    "             2019: 9736,\n",
    "             2020: 9400,\n",
    "             2021: 9400,\n",
    "             2022: 9400,\n",
    "             2023: 9400,\n",
    "             2024: 9400,\n",
    "             2025: 9400,\n",
    "             2026: 9400,\n",
    "             2027: 9400,\n",
    "             2028: 9400,\n",
    "             2029: 9400,\n",
    "             2030: 9400,\n",
    "             2031: 9400,\n",
    "             2032: 9400,\n",
    "             2033: 9400,\n",
    "             2034: 9400,\n",
    "             2035: 9400,\n",
    "             2036: 9400,\n",
    "             2037: 9400,\n",
    "             2038: 9400,\n",
    "             2039: 9400,\n",
    "             2040: 9400,\n",
    "             2041: 9400,\n",
    "             2042: 9400,\n",
    "             2043: 9400,\n",
    "             2044: 9400,\n",
    "             2045: 9400,\n",
    "             2046: 9400,\n",
    "             2047: 9400,\n",
    "             2048: 9400,\n",
    "             2049: 9400,\n",
    "             2050: 9400\n",
    "             }"
   ],
   "metadata": {
    "collapsed": false,
    "ExecuteTime": {
     "end_time": "2024-02-11T17:54:04.763826200Z",
     "start_time": "2024-02-11T17:54:04.747284300Z"
    }
   },
   "id": "feb74ff4723cfdb6"
  },
  {
   "cell_type": "code",
   "execution_count": 8,
   "outputs": [],
   "source": [
    "for year in range(2012,2051):\n",
    "    parameters_moto.loc[parameters_moto[parameters_moto['Year'] == year].index, 'AveAnnualKm'] = annual_km[year]"
   ],
   "metadata": {
    "collapsed": false,
    "ExecuteTime": {
     "end_time": "2024-02-11T17:57:21.170379800Z",
     "start_time": "2024-02-11T17:57:21.139132100Z"
    }
   },
   "id": "6b776060cfb45eeb"
  },
  {
   "cell_type": "code",
   "execution_count": 10,
   "outputs": [],
   "source": [
    "# save\n",
    "parameters_moto.to_excel(f'./../../TEAM-Kenya_data_out/base-case-kenya-data/Parameters_MOTO_variableannkm.xlsx')"
   ],
   "metadata": {
    "collapsed": false,
    "ExecuteTime": {
     "end_time": "2024-02-11T17:59:01.358191200Z",
     "start_time": "2024-02-11T17:59:01.209655800Z"
    }
   },
   "id": "fc52a34af6ad8a5b"
  }
 ],
 "metadata": {
  "kernelspec": {
   "display_name": "Python 3",
   "language": "python",
   "name": "python3"
  },
  "language_info": {
   "codemirror_mode": {
    "name": "ipython",
    "version": 2
   },
   "file_extension": ".py",
   "mimetype": "text/x-python",
   "name": "python",
   "nbconvert_exporter": "python",
   "pygments_lexer": "ipython2",
   "version": "2.7.6"
  }
 },
 "nbformat": 4,
 "nbformat_minor": 5
}
