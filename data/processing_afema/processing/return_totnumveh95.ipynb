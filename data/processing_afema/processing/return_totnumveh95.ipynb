{
 "cells": [
  {
   "cell_type": "markdown",
   "id": "bca7936d",
   "metadata": {
    "pycharm": {
     "name": "#%% md\n"
    }
   },
   "source": [
    "This notebook takes the numveh (base year vehicle numveh data) as an input and produces the totnumveh95 (base year)"
   ]
  },
  {
   "cell_type": "code",
   "execution_count": 1,
   "id": "d5ec7546",
   "metadata": {
    "pycharm": {
     "name": "#%%\n"
    }
   },
   "outputs": [],
   "source": [
    "import pandas as pd"
   ]
  },
  {
   "cell_type": "code",
   "execution_count": 2,
   "id": "37ad4248",
   "metadata": {
    "pycharm": {
     "name": "#%%\n"
    }
   },
   "outputs": [
    {
     "data": {
      "text/plain": "Empty DataFrame\nColumns: [CountryID, TransTypeID, VehTypeID, Age, TotNumVeh, TotNumVeh-1, NumVehScrap]\nIndex: []",
      "text/html": "<div>\n<style scoped>\n    .dataframe tbody tr th:only-of-type {\n        vertical-align: middle;\n    }\n\n    .dataframe tbody tr th {\n        vertical-align: top;\n    }\n\n    .dataframe thead th {\n        text-align: right;\n    }\n</style>\n<table border=\"1\" class=\"dataframe\">\n  <thead>\n    <tr style=\"text-align: right;\">\n      <th></th>\n      <th>CountryID</th>\n      <th>TransTypeID</th>\n      <th>VehTypeID</th>\n      <th>Age</th>\n      <th>TotNumVeh</th>\n      <th>TotNumVeh-1</th>\n      <th>NumVehScrap</th>\n    </tr>\n  </thead>\n  <tbody>\n  </tbody>\n</table>\n</div>"
     },
     "execution_count": 2,
     "metadata": {},
     "output_type": "execute_result"
    }
   ],
   "source": [
    "# make a df for totnumveh\n",
    "\n",
    "totnumveh = pd.DataFrame(columns=['CountryID', 'TransTypeID', 'VehTypeID', 'Age', 'TotNumVeh', 'TotNumVeh-1', 'NumVehScrap'])\n",
    "\n",
    "totnumveh"
   ]
  },
  {
   "cell_type": "code",
   "execution_count": 3,
   "id": "8c4b4220",
   "metadata": {
    "pycharm": {
     "name": "#%%\n"
    }
   },
   "outputs": [
    {
     "data": {
      "text/plain": "      Unnamed: 0  CountryID  TechID  Age  TransTypeID  VehTypeID  MassCatID  \\\n0            0.0          9      70    5            1          3          1   \n1            1.0          9      70    6            1          3          1   \n2            2.0          9      70    7            1          3          1   \n3            3.0          9      70    8            1          3          1   \n4            4.0          9      70    9            1          3          1   \n...          ...        ...     ...  ...          ...        ...        ...   \n6501         NaN          9    4275   16            1          8         45   \n6502         NaN          9    4275   32            1          8         45   \n6503         NaN          9    4275   33            1          8         45   \n6504         NaN          9    4275   34            1          8         45   \n6505         NaN          9    4275   35            1          8         45   \n\n      EngineID  FuelID        NumVeh  \n0            1       1  8.469686e+01  \n1            1       1  1.693937e+02  \n2            1       1  5.928780e+02  \n3            1       1  6.775749e+02  \n4            1       1  9.316654e+02  \n...        ...     ...           ...  \n6501         7      15  9.028010e-02  \n6502         7      15  3.025660e-12  \n6503         7      15  3.782154e-16  \n6504         7      15  2.250437e-21  \n6505         7      15  5.665234e-28  \n\n[6506 rows x 10 columns]",
      "text/html": "<div>\n<style scoped>\n    .dataframe tbody tr th:only-of-type {\n        vertical-align: middle;\n    }\n\n    .dataframe tbody tr th {\n        vertical-align: top;\n    }\n\n    .dataframe thead th {\n        text-align: right;\n    }\n</style>\n<table border=\"1\" class=\"dataframe\">\n  <thead>\n    <tr style=\"text-align: right;\">\n      <th></th>\n      <th>Unnamed: 0</th>\n      <th>CountryID</th>\n      <th>TechID</th>\n      <th>Age</th>\n      <th>TransTypeID</th>\n      <th>VehTypeID</th>\n      <th>MassCatID</th>\n      <th>EngineID</th>\n      <th>FuelID</th>\n      <th>NumVeh</th>\n    </tr>\n  </thead>\n  <tbody>\n    <tr>\n      <th>0</th>\n      <td>0.0</td>\n      <td>9</td>\n      <td>70</td>\n      <td>5</td>\n      <td>1</td>\n      <td>3</td>\n      <td>1</td>\n      <td>1</td>\n      <td>1</td>\n      <td>8.469686e+01</td>\n    </tr>\n    <tr>\n      <th>1</th>\n      <td>1.0</td>\n      <td>9</td>\n      <td>70</td>\n      <td>6</td>\n      <td>1</td>\n      <td>3</td>\n      <td>1</td>\n      <td>1</td>\n      <td>1</td>\n      <td>1.693937e+02</td>\n    </tr>\n    <tr>\n      <th>2</th>\n      <td>2.0</td>\n      <td>9</td>\n      <td>70</td>\n      <td>7</td>\n      <td>1</td>\n      <td>3</td>\n      <td>1</td>\n      <td>1</td>\n      <td>1</td>\n      <td>5.928780e+02</td>\n    </tr>\n    <tr>\n      <th>3</th>\n      <td>3.0</td>\n      <td>9</td>\n      <td>70</td>\n      <td>8</td>\n      <td>1</td>\n      <td>3</td>\n      <td>1</td>\n      <td>1</td>\n      <td>1</td>\n      <td>6.775749e+02</td>\n    </tr>\n    <tr>\n      <th>4</th>\n      <td>4.0</td>\n      <td>9</td>\n      <td>70</td>\n      <td>9</td>\n      <td>1</td>\n      <td>3</td>\n      <td>1</td>\n      <td>1</td>\n      <td>1</td>\n      <td>9.316654e+02</td>\n    </tr>\n    <tr>\n      <th>...</th>\n      <td>...</td>\n      <td>...</td>\n      <td>...</td>\n      <td>...</td>\n      <td>...</td>\n      <td>...</td>\n      <td>...</td>\n      <td>...</td>\n      <td>...</td>\n      <td>...</td>\n    </tr>\n    <tr>\n      <th>6501</th>\n      <td>NaN</td>\n      <td>9</td>\n      <td>4275</td>\n      <td>16</td>\n      <td>1</td>\n      <td>8</td>\n      <td>45</td>\n      <td>7</td>\n      <td>15</td>\n      <td>9.028010e-02</td>\n    </tr>\n    <tr>\n      <th>6502</th>\n      <td>NaN</td>\n      <td>9</td>\n      <td>4275</td>\n      <td>32</td>\n      <td>1</td>\n      <td>8</td>\n      <td>45</td>\n      <td>7</td>\n      <td>15</td>\n      <td>3.025660e-12</td>\n    </tr>\n    <tr>\n      <th>6503</th>\n      <td>NaN</td>\n      <td>9</td>\n      <td>4275</td>\n      <td>33</td>\n      <td>1</td>\n      <td>8</td>\n      <td>45</td>\n      <td>7</td>\n      <td>15</td>\n      <td>3.782154e-16</td>\n    </tr>\n    <tr>\n      <th>6504</th>\n      <td>NaN</td>\n      <td>9</td>\n      <td>4275</td>\n      <td>34</td>\n      <td>1</td>\n      <td>8</td>\n      <td>45</td>\n      <td>7</td>\n      <td>15</td>\n      <td>2.250437e-21</td>\n    </tr>\n    <tr>\n      <th>6505</th>\n      <td>NaN</td>\n      <td>9</td>\n      <td>4275</td>\n      <td>35</td>\n      <td>1</td>\n      <td>8</td>\n      <td>45</td>\n      <td>7</td>\n      <td>15</td>\n      <td>5.665234e-28</td>\n    </tr>\n  </tbody>\n</table>\n<p>6506 rows × 10 columns</p>\n</div>"
     },
     "execution_count": 3,
     "metadata": {},
     "output_type": "execute_result"
    }
   ],
   "source": [
    "# read aemda output data - vehicle numveh\n",
    "#numveh = pd.read_csv(f'./out_data/processed/numveh95.csv')\n",
    "numveh = pd.read_csv(f'./out_data/processed/afema_bodge/numveh95_afemabodge.csv')\n",
    "numveh\n"
   ]
  },
  {
   "cell_type": "code",
   "execution_count": 4,
   "id": "1b224c0f",
   "metadata": {
    "pycharm": {
     "name": "#%%\n"
    }
   },
   "outputs": [
    {
     "data": {
      "text/plain": "    CountryID TransTypeID VehTypeID Age     TotNumVeh   TotNumVeh-1  \\\n0           9           1         3   5   5264.280335   5264.280335   \n1           9           1         3   6   9935.121006   9935.121006   \n2           9           1         3   7  38755.772368  38755.772368   \n3           9           1         3   8  44997.788836  44997.788836   \n4           9           1         3   9  61073.069951  61073.069951   \n..        ...         ...       ...  ..           ...           ...   \n313         9           2         8   1      1.906076      1.906076   \n314         9           2         8   2      8.237745      8.237745   \n315         9           2         8   4      0.126239      0.126239   \n316         9           2         8   5      6.962473      6.962473   \n317         9           2         8   6      6.312588      6.312588   \n\n     NumVehScrap  \n0              0  \n1              0  \n2              0  \n3              0  \n4              0  \n..           ...  \n313            0  \n314            0  \n315            0  \n316            0  \n317            0  \n\n[318 rows x 7 columns]",
      "text/html": "<div>\n<style scoped>\n    .dataframe tbody tr th:only-of-type {\n        vertical-align: middle;\n    }\n\n    .dataframe tbody tr th {\n        vertical-align: top;\n    }\n\n    .dataframe thead th {\n        text-align: right;\n    }\n</style>\n<table border=\"1\" class=\"dataframe\">\n  <thead>\n    <tr style=\"text-align: right;\">\n      <th></th>\n      <th>CountryID</th>\n      <th>TransTypeID</th>\n      <th>VehTypeID</th>\n      <th>Age</th>\n      <th>TotNumVeh</th>\n      <th>TotNumVeh-1</th>\n      <th>NumVehScrap</th>\n    </tr>\n  </thead>\n  <tbody>\n    <tr>\n      <th>0</th>\n      <td>9</td>\n      <td>1</td>\n      <td>3</td>\n      <td>5</td>\n      <td>5264.280335</td>\n      <td>5264.280335</td>\n      <td>0</td>\n    </tr>\n    <tr>\n      <th>1</th>\n      <td>9</td>\n      <td>1</td>\n      <td>3</td>\n      <td>6</td>\n      <td>9935.121006</td>\n      <td>9935.121006</td>\n      <td>0</td>\n    </tr>\n    <tr>\n      <th>2</th>\n      <td>9</td>\n      <td>1</td>\n      <td>3</td>\n      <td>7</td>\n      <td>38755.772368</td>\n      <td>38755.772368</td>\n      <td>0</td>\n    </tr>\n    <tr>\n      <th>3</th>\n      <td>9</td>\n      <td>1</td>\n      <td>3</td>\n      <td>8</td>\n      <td>44997.788836</td>\n      <td>44997.788836</td>\n      <td>0</td>\n    </tr>\n    <tr>\n      <th>4</th>\n      <td>9</td>\n      <td>1</td>\n      <td>3</td>\n      <td>9</td>\n      <td>61073.069951</td>\n      <td>61073.069951</td>\n      <td>0</td>\n    </tr>\n    <tr>\n      <th>...</th>\n      <td>...</td>\n      <td>...</td>\n      <td>...</td>\n      <td>...</td>\n      <td>...</td>\n      <td>...</td>\n      <td>...</td>\n    </tr>\n    <tr>\n      <th>313</th>\n      <td>9</td>\n      <td>2</td>\n      <td>8</td>\n      <td>1</td>\n      <td>1.906076</td>\n      <td>1.906076</td>\n      <td>0</td>\n    </tr>\n    <tr>\n      <th>314</th>\n      <td>9</td>\n      <td>2</td>\n      <td>8</td>\n      <td>2</td>\n      <td>8.237745</td>\n      <td>8.237745</td>\n      <td>0</td>\n    </tr>\n    <tr>\n      <th>315</th>\n      <td>9</td>\n      <td>2</td>\n      <td>8</td>\n      <td>4</td>\n      <td>0.126239</td>\n      <td>0.126239</td>\n      <td>0</td>\n    </tr>\n    <tr>\n      <th>316</th>\n      <td>9</td>\n      <td>2</td>\n      <td>8</td>\n      <td>5</td>\n      <td>6.962473</td>\n      <td>6.962473</td>\n      <td>0</td>\n    </tr>\n    <tr>\n      <th>317</th>\n      <td>9</td>\n      <td>2</td>\n      <td>8</td>\n      <td>6</td>\n      <td>6.312588</td>\n      <td>6.312588</td>\n      <td>0</td>\n    </tr>\n  </tbody>\n</table>\n<p>318 rows × 7 columns</p>\n</div>"
     },
     "execution_count": 4,
     "metadata": {},
     "output_type": "execute_result"
    }
   ],
   "source": [
    "base_year = 2015\n",
    "row_count = 0\n",
    "\n",
    "for transtype in numveh.TransTypeID.unique():\n",
    "    \n",
    "    for vehtype in numveh.VehTypeID.unique():\n",
    "            \n",
    "        if not numveh[(numveh.TransTypeID == transtype) & (numveh.VehTypeID == vehtype)].empty:\n",
    "\n",
    "            for age in numveh[(numveh.TransTypeID == transtype) & (numveh.VehTypeID == vehtype)].Age.unique():\n",
    "\n",
    "                # return total numveh of this config + age\n",
    "                total_numveh = numveh[(numveh.TransTypeID == transtype) & (numveh.VehTypeID == vehtype) & (numveh.Age == age)].NumVeh.sum()\n",
    "\n",
    "                totnumveh.at[row_count, 'CountryID'] = 9\n",
    "                totnumveh.at[row_count, 'TransTypeID'] = transtype\n",
    "                totnumveh.at[row_count, 'VehTypeID'] = vehtype\n",
    "                totnumveh.at[row_count, 'Age'] = age\n",
    "                totnumveh.at[row_count, 'TotNumVeh'] = total_numveh\n",
    "\n",
    "                row_count +=1\n",
    "\n",
    "# just fill it with zero scrap and -1 = '' for now and see what happens\n",
    "totnumveh['TotNumVeh-1'] = totnumveh['TotNumVeh']\n",
    "totnumveh['NumVehScrap'] = 0\n",
    "\n",
    "totnumveh"
   ]
  },
  {
   "cell_type": "code",
   "execution_count": 5,
   "id": "b34aeb83",
   "metadata": {
    "pycharm": {
     "name": "#%%\n"
    }
   },
   "outputs": [
    {
     "data": {
      "text/plain": "8"
     },
     "execution_count": 5,
     "metadata": {},
     "output_type": "execute_result"
    }
   ],
   "source": [
    "totnumveh.VehTypeID.max()"
   ]
  },
  {
   "cell_type": "code",
   "execution_count": 6,
   "id": "070e8c8f",
   "metadata": {
    "pycharm": {
     "name": "#%%\n"
    }
   },
   "outputs": [],
   "source": [
    "#totnumveh.to_csv('./out_data/processed/totnumveh95.csv', index=False)\n",
    "totnumveh.to_csv('./out_data/processed/afema_bodge/totnumveh95_afemabodge.csv', index=False)"
   ]
  }
 ],
 "metadata": {
  "kernelspec": {
   "display_name": "Python 3 (ipykernel)",
   "language": "python",
   "name": "python3"
  },
  "language_info": {
   "codemirror_mode": {
    "name": "ipython",
    "version": 3
   },
   "file_extension": ".py",
   "mimetype": "text/x-python",
   "name": "python",
   "nbconvert_exporter": "python",
   "pygments_lexer": "ipython3",
   "version": "3.9.12"
  }
 },
 "nbformat": 4,
 "nbformat_minor": 5
}