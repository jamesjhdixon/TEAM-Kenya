{
 "cells": [
  {
   "cell_type": "markdown",
   "id": "bca7936d",
   "metadata": {
    "pycharm": {
     "name": "#%% md\n"
    }
   },
   "source": [
    "This notebook takes the numveh (base year vehicle numveh data) as an input as prepared by AEMDA and outputs to a new file name. \n",
    "\n",
    "In addition, it adds numveh for vehicletypes 6,7,8."
   ]
  },
  {
   "cell_type": "code",
   "execution_count": 10,
   "id": "d5ec7546",
   "metadata": {
    "pycharm": {
     "name": "#%%\n"
    }
   },
   "outputs": [],
   "source": [
    "import pandas as pd"
   ]
  },
  {
   "cell_type": "code",
   "execution_count": 11,
   "id": "8c4b4220",
   "metadata": {
    "pycharm": {
     "name": "#%%\n"
    }
   },
   "outputs": [],
   "source": [
    "# read aemda output data - vehicle numveh\n",
    "#numveh = pd.read_csv(f'./out_data/VehicleStock.csv')\n",
    "numveh = pd.read_csv(f'./out_data/processed/afema_bodge/numveh95_afemabodge.csv')"
   ]
  },
  {
   "cell_type": "code",
   "execution_count": 12,
   "id": "87455996",
   "metadata": {
    "pycharm": {
     "name": "#%%\n"
    }
   },
   "outputs": [
    {
     "data": {
      "text/plain": "      CountryID  TechID  Age  TransTypeID  VehTypeID  MassCatID  EngineID  \\\n0             9      10   12            1          2          4        10   \n1             9      10   13            1          2          4        10   \n2             9      10   14            1          2          4        10   \n3             9      10   15            1          2          4        10   \n4             9      10   16            1          2          4        10   \n...         ...     ...  ...          ...        ...        ...       ...   \n2405          9    5879    7            2          5         28         6   \n2406          9    5880    0            2          5         28        14   \n2407          9    5880    1            2          5         28        14   \n2408          9    5880    2            2          5         28        14   \n2409          9    5880    3            2          5         28        14   \n\n      FuelID       NumVeh  \n0          1  5126.888000  \n1          1  4341.886000  \n2          1  1695.460000  \n3          1   315.866200  \n4          1    93.856110  \n...      ...          ...  \n2405      12     0.008200  \n2406      12     6.176912  \n2407      12     4.261423  \n2408      12     0.484696  \n2409      12     0.360165  \n\n[2410 rows x 9 columns]",
      "text/html": "<div>\n<style scoped>\n    .dataframe tbody tr th:only-of-type {\n        vertical-align: middle;\n    }\n\n    .dataframe tbody tr th {\n        vertical-align: top;\n    }\n\n    .dataframe thead th {\n        text-align: right;\n    }\n</style>\n<table border=\"1\" class=\"dataframe\">\n  <thead>\n    <tr style=\"text-align: right;\">\n      <th></th>\n      <th>CountryID</th>\n      <th>TechID</th>\n      <th>Age</th>\n      <th>TransTypeID</th>\n      <th>VehTypeID</th>\n      <th>MassCatID</th>\n      <th>EngineID</th>\n      <th>FuelID</th>\n      <th>NumVeh</th>\n    </tr>\n  </thead>\n  <tbody>\n    <tr>\n      <th>0</th>\n      <td>9</td>\n      <td>10</td>\n      <td>12</td>\n      <td>1</td>\n      <td>2</td>\n      <td>4</td>\n      <td>10</td>\n      <td>1</td>\n      <td>5126.888000</td>\n    </tr>\n    <tr>\n      <th>1</th>\n      <td>9</td>\n      <td>10</td>\n      <td>13</td>\n      <td>1</td>\n      <td>2</td>\n      <td>4</td>\n      <td>10</td>\n      <td>1</td>\n      <td>4341.886000</td>\n    </tr>\n    <tr>\n      <th>2</th>\n      <td>9</td>\n      <td>10</td>\n      <td>14</td>\n      <td>1</td>\n      <td>2</td>\n      <td>4</td>\n      <td>10</td>\n      <td>1</td>\n      <td>1695.460000</td>\n    </tr>\n    <tr>\n      <th>3</th>\n      <td>9</td>\n      <td>10</td>\n      <td>15</td>\n      <td>1</td>\n      <td>2</td>\n      <td>4</td>\n      <td>10</td>\n      <td>1</td>\n      <td>315.866200</td>\n    </tr>\n    <tr>\n      <th>4</th>\n      <td>9</td>\n      <td>10</td>\n      <td>16</td>\n      <td>1</td>\n      <td>2</td>\n      <td>4</td>\n      <td>10</td>\n      <td>1</td>\n      <td>93.856110</td>\n    </tr>\n    <tr>\n      <th>...</th>\n      <td>...</td>\n      <td>...</td>\n      <td>...</td>\n      <td>...</td>\n      <td>...</td>\n      <td>...</td>\n      <td>...</td>\n      <td>...</td>\n      <td>...</td>\n    </tr>\n    <tr>\n      <th>2405</th>\n      <td>9</td>\n      <td>5879</td>\n      <td>7</td>\n      <td>2</td>\n      <td>5</td>\n      <td>28</td>\n      <td>6</td>\n      <td>12</td>\n      <td>0.008200</td>\n    </tr>\n    <tr>\n      <th>2406</th>\n      <td>9</td>\n      <td>5880</td>\n      <td>0</td>\n      <td>2</td>\n      <td>5</td>\n      <td>28</td>\n      <td>14</td>\n      <td>12</td>\n      <td>6.176912</td>\n    </tr>\n    <tr>\n      <th>2407</th>\n      <td>9</td>\n      <td>5880</td>\n      <td>1</td>\n      <td>2</td>\n      <td>5</td>\n      <td>28</td>\n      <td>14</td>\n      <td>12</td>\n      <td>4.261423</td>\n    </tr>\n    <tr>\n      <th>2408</th>\n      <td>9</td>\n      <td>5880</td>\n      <td>2</td>\n      <td>2</td>\n      <td>5</td>\n      <td>28</td>\n      <td>14</td>\n      <td>12</td>\n      <td>0.484696</td>\n    </tr>\n    <tr>\n      <th>2409</th>\n      <td>9</td>\n      <td>5880</td>\n      <td>3</td>\n      <td>2</td>\n      <td>5</td>\n      <td>28</td>\n      <td>14</td>\n      <td>12</td>\n      <td>0.360165</td>\n    </tr>\n  </tbody>\n</table>\n<p>2410 rows × 9 columns</p>\n</div>"
     },
     "execution_count": 12,
     "metadata": {},
     "output_type": "execute_result"
    }
   ],
   "source": [
    "# read original (UK data) to extract data for ships, planes and trains. Use a simple proportion for each type\n",
    "numvehuk = pd.read_excel('./sample_data/VehicleStock.xlsx')\n",
    "numvehuk"
   ]
  },
  {
   "cell_type": "code",
   "execution_count": 13,
   "id": "a38a66ae",
   "metadata": {
    "pycharm": {
     "name": "#%%\n"
    }
   },
   "outputs": [],
   "source": [
    "#Vehicle Type IDs\n",
    "\n",
    "# VehTypeID\tVehTypeAB\tVehTypeNA\n",
    "# 0\tWALK\tWalking\n",
    "# 1\tBIKE\tBicycle\n",
    "# 2\tMOTO\tMotorcycle\n",
    "# 3\tCAR\tCar\n",
    "# 4\tBUS\tBus\n",
    "# 5\tTRUCK\tTruck\n",
    "# 6\tTRAIN\tTrain\n",
    "# 7\tSHIP\tShip\n",
    "# 8\tPLANE\tAeroplane\n",
    "\n",
    "# proportions UK --> Kenya\n",
    "train_proportion = 0.1\n",
    "ship_proportion = 0.1\n",
    "plane_proportion = 0.1\n",
    "\n",
    "# # return data for trains ships planes (tsp)\n",
    "# numvehuk_trains = numvehuk[numvehuk.VehTypeID == 6]\n",
    "# numvehuk_ships = numvehuk[numvehuk.VehTypeID == 7]\n",
    "# numvehuk_planes = numvehuk[numvehuk.VehTypeID == 8]\n",
    "\n",
    "numvehuk.loc[numvehuk[numvehuk.VehTypeID == 6].index.tolist(), 'NumVeh'] *= train_proportion\n",
    "numvehuk.loc[numvehuk[numvehuk.VehTypeID == 7].index.tolist(), 'NumVeh'] *= ship_proportion\n",
    "numvehuk.loc[numvehuk[numvehuk.VehTypeID == 8].index.tolist(), 'NumVeh'] *= plane_proportion"
   ]
  },
  {
   "cell_type": "code",
   "execution_count": 14,
   "id": "6aa59a12",
   "metadata": {
    "pycharm": {
     "name": "#%%\n"
    }
   },
   "outputs": [
    {
     "name": "stderr",
     "output_type": "stream",
     "text": [
      "C:\\Users\\cenv0795\\AppData\\Local\\Temp\\ipykernel_11876\\709587314.py:1: FutureWarning: The frame.append method is deprecated and will be removed from pandas in a future version. Use pandas.concat instead.\n",
      "  numveh = numveh.append(numvehuk[numvehuk.VehTypeID.isin([6,7,8])])\n"
     ]
    }
   ],
   "source": [
    "numveh = numveh.append(numvehuk[numvehuk.VehTypeID.isin([6,7,8])])\n",
    "numveh = numveh.reset_index(drop=True)"
   ]
  },
  {
   "cell_type": "code",
   "execution_count": 15,
   "id": "bdc2b208",
   "metadata": {
    "pycharm": {
     "name": "#%%\n"
    }
   },
   "outputs": [
    {
     "data": {
      "text/plain": "      Unnamed: 0  CountryID  TechID  Age  TransTypeID  VehTypeID  MassCatID  \\\n0            0.0          9      70    5            1          3          1   \n1            1.0          9      70    6            1          3          1   \n2            2.0          9      70    7            1          3          1   \n3            3.0          9      70    8            1          3          1   \n4            4.0          9      70    9            1          3          1   \n...          ...        ...     ...  ...          ...        ...        ...   \n6501         NaN          9    4275   16            1          8         45   \n6502         NaN          9    4275   32            1          8         45   \n6503         NaN          9    4275   33            1          8         45   \n6504         NaN          9    4275   34            1          8         45   \n6505         NaN          9    4275   35            1          8         45   \n\n      EngineID  FuelID        NumVeh  \n0            1       1  8.469686e+01  \n1            1       1  1.693937e+02  \n2            1       1  5.928780e+02  \n3            1       1  6.775749e+02  \n4            1       1  9.316654e+02  \n...        ...     ...           ...  \n6501         7      15  9.028010e-02  \n6502         7      15  3.025660e-12  \n6503         7      15  3.782154e-16  \n6504         7      15  2.250437e-21  \n6505         7      15  5.665234e-28  \n\n[6506 rows x 10 columns]",
      "text/html": "<div>\n<style scoped>\n    .dataframe tbody tr th:only-of-type {\n        vertical-align: middle;\n    }\n\n    .dataframe tbody tr th {\n        vertical-align: top;\n    }\n\n    .dataframe thead th {\n        text-align: right;\n    }\n</style>\n<table border=\"1\" class=\"dataframe\">\n  <thead>\n    <tr style=\"text-align: right;\">\n      <th></th>\n      <th>Unnamed: 0</th>\n      <th>CountryID</th>\n      <th>TechID</th>\n      <th>Age</th>\n      <th>TransTypeID</th>\n      <th>VehTypeID</th>\n      <th>MassCatID</th>\n      <th>EngineID</th>\n      <th>FuelID</th>\n      <th>NumVeh</th>\n    </tr>\n  </thead>\n  <tbody>\n    <tr>\n      <th>0</th>\n      <td>0.0</td>\n      <td>9</td>\n      <td>70</td>\n      <td>5</td>\n      <td>1</td>\n      <td>3</td>\n      <td>1</td>\n      <td>1</td>\n      <td>1</td>\n      <td>8.469686e+01</td>\n    </tr>\n    <tr>\n      <th>1</th>\n      <td>1.0</td>\n      <td>9</td>\n      <td>70</td>\n      <td>6</td>\n      <td>1</td>\n      <td>3</td>\n      <td>1</td>\n      <td>1</td>\n      <td>1</td>\n      <td>1.693937e+02</td>\n    </tr>\n    <tr>\n      <th>2</th>\n      <td>2.0</td>\n      <td>9</td>\n      <td>70</td>\n      <td>7</td>\n      <td>1</td>\n      <td>3</td>\n      <td>1</td>\n      <td>1</td>\n      <td>1</td>\n      <td>5.928780e+02</td>\n    </tr>\n    <tr>\n      <th>3</th>\n      <td>3.0</td>\n      <td>9</td>\n      <td>70</td>\n      <td>8</td>\n      <td>1</td>\n      <td>3</td>\n      <td>1</td>\n      <td>1</td>\n      <td>1</td>\n      <td>6.775749e+02</td>\n    </tr>\n    <tr>\n      <th>4</th>\n      <td>4.0</td>\n      <td>9</td>\n      <td>70</td>\n      <td>9</td>\n      <td>1</td>\n      <td>3</td>\n      <td>1</td>\n      <td>1</td>\n      <td>1</td>\n      <td>9.316654e+02</td>\n    </tr>\n    <tr>\n      <th>...</th>\n      <td>...</td>\n      <td>...</td>\n      <td>...</td>\n      <td>...</td>\n      <td>...</td>\n      <td>...</td>\n      <td>...</td>\n      <td>...</td>\n      <td>...</td>\n      <td>...</td>\n    </tr>\n    <tr>\n      <th>6501</th>\n      <td>NaN</td>\n      <td>9</td>\n      <td>4275</td>\n      <td>16</td>\n      <td>1</td>\n      <td>8</td>\n      <td>45</td>\n      <td>7</td>\n      <td>15</td>\n      <td>9.028010e-02</td>\n    </tr>\n    <tr>\n      <th>6502</th>\n      <td>NaN</td>\n      <td>9</td>\n      <td>4275</td>\n      <td>32</td>\n      <td>1</td>\n      <td>8</td>\n      <td>45</td>\n      <td>7</td>\n      <td>15</td>\n      <td>3.025660e-12</td>\n    </tr>\n    <tr>\n      <th>6503</th>\n      <td>NaN</td>\n      <td>9</td>\n      <td>4275</td>\n      <td>33</td>\n      <td>1</td>\n      <td>8</td>\n      <td>45</td>\n      <td>7</td>\n      <td>15</td>\n      <td>3.782154e-16</td>\n    </tr>\n    <tr>\n      <th>6504</th>\n      <td>NaN</td>\n      <td>9</td>\n      <td>4275</td>\n      <td>34</td>\n      <td>1</td>\n      <td>8</td>\n      <td>45</td>\n      <td>7</td>\n      <td>15</td>\n      <td>2.250437e-21</td>\n    </tr>\n    <tr>\n      <th>6505</th>\n      <td>NaN</td>\n      <td>9</td>\n      <td>4275</td>\n      <td>35</td>\n      <td>1</td>\n      <td>8</td>\n      <td>45</td>\n      <td>7</td>\n      <td>15</td>\n      <td>5.665234e-28</td>\n    </tr>\n  </tbody>\n</table>\n<p>6506 rows × 10 columns</p>\n</div>"
     },
     "execution_count": 15,
     "metadata": {},
     "output_type": "execute_result"
    }
   ],
   "source": [
    "numveh"
   ]
  },
  {
   "cell_type": "code",
   "execution_count": 16,
   "id": "c5cda510",
   "metadata": {
    "pycharm": {
     "name": "#%%\n"
    }
   },
   "outputs": [],
   "source": [
    "#numveh.to_csv('./out_data/processed/numveh95.csv', index=False)\n",
    "numveh.to_csv('./out_data/processed/afema_bodge/numveh95_afemabodge.csv', index=False)"
   ]
  }
 ],
 "metadata": {
  "kernelspec": {
   "display_name": "Python 3 (ipykernel)",
   "language": "python",
   "name": "python3"
  },
  "language_info": {
   "codemirror_mode": {
    "name": "ipython",
    "version": 3
   },
   "file_extension": ".py",
   "mimetype": "text/x-python",
   "name": "python",
   "nbconvert_exporter": "python",
   "pygments_lexer": "ipython3",
   "version": "3.9.12"
  }
 },
 "nbformat": 4,
 "nbformat_minor": 5
}