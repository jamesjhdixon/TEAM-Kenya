{
 "cells": [
  {
   "cell_type": "markdown",
   "id": "bca7936d",
   "metadata": {
    "pycharm": {
     "name": "#%% md\n"
    }
   },
   "source": [
    "The long forgotten TOT one. what is it. who knows. this notebook makes it."
   ]
  },
  {
   "cell_type": "code",
   "execution_count": 1,
   "id": "d5ec7546",
   "metadata": {
    "pycharm": {
     "name": "#%%\n"
    }
   },
   "outputs": [],
   "source": [
    "import pandas as pd"
   ]
  },
  {
   "cell_type": "code",
   "execution_count": 2,
   "id": "37ad4248",
   "metadata": {
    "pycharm": {
     "name": "#%%\n"
    }
   },
   "outputs": [
    {
     "data": {
      "text/plain": "Empty DataFrame\nColumns: [CountryID, TransTypeID, VehTypeID, MassCatID, TOT_Stock]\nIndex: []",
      "text/html": "<div>\n<style scoped>\n    .dataframe tbody tr th:only-of-type {\n        vertical-align: middle;\n    }\n\n    .dataframe tbody tr th {\n        vertical-align: top;\n    }\n\n    .dataframe thead th {\n        text-align: right;\n    }\n</style>\n<table border=\"1\" class=\"dataframe\">\n  <thead>\n    <tr style=\"text-align: right;\">\n      <th></th>\n      <th>CountryID</th>\n      <th>TransTypeID</th>\n      <th>VehTypeID</th>\n      <th>MassCatID</th>\n      <th>TOT_Stock</th>\n    </tr>\n  </thead>\n  <tbody>\n  </tbody>\n</table>\n</div>"
     },
     "execution_count": 2,
     "metadata": {},
     "output_type": "execute_result"
    }
   ],
   "source": [
    "# make a df for tot95\n",
    "\n",
    "tot = pd.DataFrame(columns=['CountryID', 'TransTypeID', 'VehTypeID', 'MassCatID', 'TOT_Stock'])\n",
    "\n",
    "tot"
   ]
  },
  {
   "cell_type": "code",
   "execution_count": 3,
   "id": "8c4b4220",
   "metadata": {
    "pycharm": {
     "name": "#%%\n"
    }
   },
   "outputs": [
    {
     "data": {
      "text/plain": "      Unnamed: 0  CountryID  TechID  Age  TransTypeID  VehTypeID  MassCatID  \\\n0            0.0          9      70    5            1          3          1   \n1            1.0          9      70    6            1          3          1   \n2            2.0          9      70    7            1          3          1   \n3            3.0          9      70    8            1          3          1   \n4            4.0          9      70    9            1          3          1   \n...          ...        ...     ...  ...          ...        ...        ...   \n6501         NaN          9    4275   16            1          8         45   \n6502         NaN          9    4275   32            1          8         45   \n6503         NaN          9    4275   33            1          8         45   \n6504         NaN          9    4275   34            1          8         45   \n6505         NaN          9    4275   35            1          8         45   \n\n      EngineID  FuelID        NumVeh  \n0            1       1  8.469686e+01  \n1            1       1  1.693937e+02  \n2            1       1  5.928780e+02  \n3            1       1  6.775749e+02  \n4            1       1  9.316654e+02  \n...        ...     ...           ...  \n6501         7      15  9.028010e-02  \n6502         7      15  3.025660e-12  \n6503         7      15  3.782154e-16  \n6504         7      15  2.250437e-21  \n6505         7      15  5.665234e-28  \n\n[6506 rows x 10 columns]",
      "text/html": "<div>\n<style scoped>\n    .dataframe tbody tr th:only-of-type {\n        vertical-align: middle;\n    }\n\n    .dataframe tbody tr th {\n        vertical-align: top;\n    }\n\n    .dataframe thead th {\n        text-align: right;\n    }\n</style>\n<table border=\"1\" class=\"dataframe\">\n  <thead>\n    <tr style=\"text-align: right;\">\n      <th></th>\n      <th>Unnamed: 0</th>\n      <th>CountryID</th>\n      <th>TechID</th>\n      <th>Age</th>\n      <th>TransTypeID</th>\n      <th>VehTypeID</th>\n      <th>MassCatID</th>\n      <th>EngineID</th>\n      <th>FuelID</th>\n      <th>NumVeh</th>\n    </tr>\n  </thead>\n  <tbody>\n    <tr>\n      <th>0</th>\n      <td>0.0</td>\n      <td>9</td>\n      <td>70</td>\n      <td>5</td>\n      <td>1</td>\n      <td>3</td>\n      <td>1</td>\n      <td>1</td>\n      <td>1</td>\n      <td>8.469686e+01</td>\n    </tr>\n    <tr>\n      <th>1</th>\n      <td>1.0</td>\n      <td>9</td>\n      <td>70</td>\n      <td>6</td>\n      <td>1</td>\n      <td>3</td>\n      <td>1</td>\n      <td>1</td>\n      <td>1</td>\n      <td>1.693937e+02</td>\n    </tr>\n    <tr>\n      <th>2</th>\n      <td>2.0</td>\n      <td>9</td>\n      <td>70</td>\n      <td>7</td>\n      <td>1</td>\n      <td>3</td>\n      <td>1</td>\n      <td>1</td>\n      <td>1</td>\n      <td>5.928780e+02</td>\n    </tr>\n    <tr>\n      <th>3</th>\n      <td>3.0</td>\n      <td>9</td>\n      <td>70</td>\n      <td>8</td>\n      <td>1</td>\n      <td>3</td>\n      <td>1</td>\n      <td>1</td>\n      <td>1</td>\n      <td>6.775749e+02</td>\n    </tr>\n    <tr>\n      <th>4</th>\n      <td>4.0</td>\n      <td>9</td>\n      <td>70</td>\n      <td>9</td>\n      <td>1</td>\n      <td>3</td>\n      <td>1</td>\n      <td>1</td>\n      <td>1</td>\n      <td>9.316654e+02</td>\n    </tr>\n    <tr>\n      <th>...</th>\n      <td>...</td>\n      <td>...</td>\n      <td>...</td>\n      <td>...</td>\n      <td>...</td>\n      <td>...</td>\n      <td>...</td>\n      <td>...</td>\n      <td>...</td>\n      <td>...</td>\n    </tr>\n    <tr>\n      <th>6501</th>\n      <td>NaN</td>\n      <td>9</td>\n      <td>4275</td>\n      <td>16</td>\n      <td>1</td>\n      <td>8</td>\n      <td>45</td>\n      <td>7</td>\n      <td>15</td>\n      <td>9.028010e-02</td>\n    </tr>\n    <tr>\n      <th>6502</th>\n      <td>NaN</td>\n      <td>9</td>\n      <td>4275</td>\n      <td>32</td>\n      <td>1</td>\n      <td>8</td>\n      <td>45</td>\n      <td>7</td>\n      <td>15</td>\n      <td>3.025660e-12</td>\n    </tr>\n    <tr>\n      <th>6503</th>\n      <td>NaN</td>\n      <td>9</td>\n      <td>4275</td>\n      <td>33</td>\n      <td>1</td>\n      <td>8</td>\n      <td>45</td>\n      <td>7</td>\n      <td>15</td>\n      <td>3.782154e-16</td>\n    </tr>\n    <tr>\n      <th>6504</th>\n      <td>NaN</td>\n      <td>9</td>\n      <td>4275</td>\n      <td>34</td>\n      <td>1</td>\n      <td>8</td>\n      <td>45</td>\n      <td>7</td>\n      <td>15</td>\n      <td>2.250437e-21</td>\n    </tr>\n    <tr>\n      <th>6505</th>\n      <td>NaN</td>\n      <td>9</td>\n      <td>4275</td>\n      <td>35</td>\n      <td>1</td>\n      <td>8</td>\n      <td>45</td>\n      <td>7</td>\n      <td>15</td>\n      <td>5.665234e-28</td>\n    </tr>\n  </tbody>\n</table>\n<p>6506 rows × 10 columns</p>\n</div>"
     },
     "execution_count": 3,
     "metadata": {},
     "output_type": "execute_result"
    }
   ],
   "source": [
    "# read numveh data - 95\n",
    "#numveh = pd.read_csv(f'./out_data/processed/numveh95.csv')\n",
    "numveh = pd.read_csv(f'./out_data/processed/afema_bodge/numveh95_afemabodge.csv')\n",
    "numveh\n"
   ]
  },
  {
   "cell_type": "code",
   "execution_count": 4,
   "id": "1b224c0f",
   "metadata": {
    "pycharm": {
     "name": "#%%\n"
    }
   },
   "outputs": [
    {
     "data": {
      "text/plain": "   CountryID TransTypeID VehTypeID MassCatID      TOT_Stock\n0          9           1         3         1  409536.999994\n1          9           1         3         2  107103.000002\n2          9           1         3         3        15766.0\n3          9           1         4        11   49999.999998\n4          9           1         4        13        10041.0\n5          9           1         4        12   49999.999997\n6          9           1         2         4       539769.0\n7          9           1         6        31     359.646096\n8          9           1         6        32    1975.178376\n9          9           1         6        33     207.555955\n10         9           1         6        34       3.999784\n11         9           1         8        41      17.508654\n12         9           1         8        42     155.401581\n13         9           1         8        43     160.014291\n14         9           1         8        44      49.310698\n15         9           1         8        45        1.64632\n16         9           2         3        11   41733.999999\n17         9           2         3        21        38301.0\n18         9           2         5        11   12506.999999\n19         9           2         5        21   25014.000002\n20         9           2         5        22        42136.0\n21         9           2         5        23      15655.925\n22         9           2         6        32     282.859107\n23         9           2         7        51     136.002517\n24         9           2         7        52      64.397489\n25         9           2         8        42      12.244288\n26         9           2         8        43      35.241775\n27         9           2         8        44      11.747786",
      "text/html": "<div>\n<style scoped>\n    .dataframe tbody tr th:only-of-type {\n        vertical-align: middle;\n    }\n\n    .dataframe tbody tr th {\n        vertical-align: top;\n    }\n\n    .dataframe thead th {\n        text-align: right;\n    }\n</style>\n<table border=\"1\" class=\"dataframe\">\n  <thead>\n    <tr style=\"text-align: right;\">\n      <th></th>\n      <th>CountryID</th>\n      <th>TransTypeID</th>\n      <th>VehTypeID</th>\n      <th>MassCatID</th>\n      <th>TOT_Stock</th>\n    </tr>\n  </thead>\n  <tbody>\n    <tr>\n      <th>0</th>\n      <td>9</td>\n      <td>1</td>\n      <td>3</td>\n      <td>1</td>\n      <td>409536.999994</td>\n    </tr>\n    <tr>\n      <th>1</th>\n      <td>9</td>\n      <td>1</td>\n      <td>3</td>\n      <td>2</td>\n      <td>107103.000002</td>\n    </tr>\n    <tr>\n      <th>2</th>\n      <td>9</td>\n      <td>1</td>\n      <td>3</td>\n      <td>3</td>\n      <td>15766.0</td>\n    </tr>\n    <tr>\n      <th>3</th>\n      <td>9</td>\n      <td>1</td>\n      <td>4</td>\n      <td>11</td>\n      <td>49999.999998</td>\n    </tr>\n    <tr>\n      <th>4</th>\n      <td>9</td>\n      <td>1</td>\n      <td>4</td>\n      <td>13</td>\n      <td>10041.0</td>\n    </tr>\n    <tr>\n      <th>5</th>\n      <td>9</td>\n      <td>1</td>\n      <td>4</td>\n      <td>12</td>\n      <td>49999.999997</td>\n    </tr>\n    <tr>\n      <th>6</th>\n      <td>9</td>\n      <td>1</td>\n      <td>2</td>\n      <td>4</td>\n      <td>539769.0</td>\n    </tr>\n    <tr>\n      <th>7</th>\n      <td>9</td>\n      <td>1</td>\n      <td>6</td>\n      <td>31</td>\n      <td>359.646096</td>\n    </tr>\n    <tr>\n      <th>8</th>\n      <td>9</td>\n      <td>1</td>\n      <td>6</td>\n      <td>32</td>\n      <td>1975.178376</td>\n    </tr>\n    <tr>\n      <th>9</th>\n      <td>9</td>\n      <td>1</td>\n      <td>6</td>\n      <td>33</td>\n      <td>207.555955</td>\n    </tr>\n    <tr>\n      <th>10</th>\n      <td>9</td>\n      <td>1</td>\n      <td>6</td>\n      <td>34</td>\n      <td>3.999784</td>\n    </tr>\n    <tr>\n      <th>11</th>\n      <td>9</td>\n      <td>1</td>\n      <td>8</td>\n      <td>41</td>\n      <td>17.508654</td>\n    </tr>\n    <tr>\n      <th>12</th>\n      <td>9</td>\n      <td>1</td>\n      <td>8</td>\n      <td>42</td>\n      <td>155.401581</td>\n    </tr>\n    <tr>\n      <th>13</th>\n      <td>9</td>\n      <td>1</td>\n      <td>8</td>\n      <td>43</td>\n      <td>160.014291</td>\n    </tr>\n    <tr>\n      <th>14</th>\n      <td>9</td>\n      <td>1</td>\n      <td>8</td>\n      <td>44</td>\n      <td>49.310698</td>\n    </tr>\n    <tr>\n      <th>15</th>\n      <td>9</td>\n      <td>1</td>\n      <td>8</td>\n      <td>45</td>\n      <td>1.64632</td>\n    </tr>\n    <tr>\n      <th>16</th>\n      <td>9</td>\n      <td>2</td>\n      <td>3</td>\n      <td>11</td>\n      <td>41733.999999</td>\n    </tr>\n    <tr>\n      <th>17</th>\n      <td>9</td>\n      <td>2</td>\n      <td>3</td>\n      <td>21</td>\n      <td>38301.0</td>\n    </tr>\n    <tr>\n      <th>18</th>\n      <td>9</td>\n      <td>2</td>\n      <td>5</td>\n      <td>11</td>\n      <td>12506.999999</td>\n    </tr>\n    <tr>\n      <th>19</th>\n      <td>9</td>\n      <td>2</td>\n      <td>5</td>\n      <td>21</td>\n      <td>25014.000002</td>\n    </tr>\n    <tr>\n      <th>20</th>\n      <td>9</td>\n      <td>2</td>\n      <td>5</td>\n      <td>22</td>\n      <td>42136.0</td>\n    </tr>\n    <tr>\n      <th>21</th>\n      <td>9</td>\n      <td>2</td>\n      <td>5</td>\n      <td>23</td>\n      <td>15655.925</td>\n    </tr>\n    <tr>\n      <th>22</th>\n      <td>9</td>\n      <td>2</td>\n      <td>6</td>\n      <td>32</td>\n      <td>282.859107</td>\n    </tr>\n    <tr>\n      <th>23</th>\n      <td>9</td>\n      <td>2</td>\n      <td>7</td>\n      <td>51</td>\n      <td>136.002517</td>\n    </tr>\n    <tr>\n      <th>24</th>\n      <td>9</td>\n      <td>2</td>\n      <td>7</td>\n      <td>52</td>\n      <td>64.397489</td>\n    </tr>\n    <tr>\n      <th>25</th>\n      <td>9</td>\n      <td>2</td>\n      <td>8</td>\n      <td>42</td>\n      <td>12.244288</td>\n    </tr>\n    <tr>\n      <th>26</th>\n      <td>9</td>\n      <td>2</td>\n      <td>8</td>\n      <td>43</td>\n      <td>35.241775</td>\n    </tr>\n    <tr>\n      <th>27</th>\n      <td>9</td>\n      <td>2</td>\n      <td>8</td>\n      <td>44</td>\n      <td>11.747786</td>\n    </tr>\n  </tbody>\n</table>\n</div>"
     },
     "execution_count": 4,
     "metadata": {},
     "output_type": "execute_result"
    }
   ],
   "source": [
    "row_count = 0\n",
    "\n",
    "for transtype in numveh.TransTypeID.unique():\n",
    "    \n",
    "    for vehtype in numveh.VehTypeID.unique():\n",
    "        \n",
    "        for masscat in numveh.MassCatID.unique():\n",
    "            \n",
    "            if not numveh[(numveh.TransTypeID == transtype) & (numveh.VehTypeID == vehtype) & (numveh.MassCatID == masscat)].empty:\n",
    "                \n",
    "                # return total numveh of this config\n",
    "                total_numveh = numveh[(numveh.TransTypeID == transtype) & (numveh.VehTypeID == vehtype) & (numveh.MassCatID == masscat)].NumVeh.sum()\n",
    "                               \n",
    "                tot.at[row_count, 'CountryID'] = 9\n",
    "                tot.at[row_count, 'TransTypeID'] = transtype\n",
    "                tot.at[row_count, 'VehTypeID'] = vehtype\n",
    "                tot.at[row_count, 'MassCatID'] = masscat\n",
    "                tot.at[row_count, 'TOT_Stock'] = total_numveh\n",
    "                \n",
    "                row_count +=1\n",
    "                \n",
    "tot"
   ]
  },
  {
   "cell_type": "code",
   "execution_count": 5,
   "id": "070e8c8f",
   "metadata": {
    "pycharm": {
     "name": "#%%\n"
    }
   },
   "outputs": [],
   "source": [
    "#tot.to_csv('./out_data/processed/tot95.csv', index=False)\n",
    "tot.to_csv('./out_data/processed/afema_bodge/tot95_afemabodge.csv', index=False)"
   ]
  },
  {
   "cell_type": "code",
   "execution_count": 6,
   "id": "85db9f0f",
   "metadata": {
    "pycharm": {
     "name": "#%%\n"
    }
   },
   "outputs": [
    {
     "data": {
      "text/plain": "2829.2393191954325"
     },
     "execution_count": 6,
     "metadata": {},
     "output_type": "execute_result"
    }
   ],
   "source": [
    "tot[tot.VehTypeID == 6].TOT_Stock.sum()"
   ]
  }
 ],
 "metadata": {
  "kernelspec": {
   "display_name": "Python 3 (ipykernel)",
   "language": "python",
   "name": "python3"
  },
  "language_info": {
   "codemirror_mode": {
    "name": "ipython",
    "version": 3
   },
   "file_extension": ".py",
   "mimetype": "text/x-python",
   "name": "python",
   "nbconvert_exporter": "python",
   "pygments_lexer": "ipython3",
   "version": "3.9.12"
  }
 },
 "nbformat": 4,
 "nbformat_minor": 5
}