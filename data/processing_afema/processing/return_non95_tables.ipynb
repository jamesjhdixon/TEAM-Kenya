{
 "cells": [
  {
   "cell_type": "markdown",
   "id": "bca7936d",
   "metadata": {
    "pycharm": {
     "name": "#%% md\n"
    }
   },
   "source": [
    "TEAM-Kenya is not working and it may be that there are no records of the TechIDs that should be there after the base year. Therefore this notebok takes the established base year (XX95) tables and creates projection tables into the future. the data for years after the base year can be bogus."
   ]
  },
  {
   "cell_type": "code",
   "execution_count": 35,
   "outputs": [],
   "source": [
    "import pandas as pd\n",
    "import numpy as np"
   ],
   "metadata": {
    "collapsed": false,
    "pycharm": {
     "name": "#%%\n"
    }
   }
  },
  {
   "cell_type": "markdown",
   "id": "698baaac",
   "metadata": {
    "pycharm": {
     "name": "#%% md\n"
    }
   },
   "source": [
    "<b>FOR NUMVEH</b>"
   ]
  },
  {
   "cell_type": "code",
   "execution_count": 36,
   "id": "e2750199",
   "metadata": {
    "pycharm": {
     "name": "#%%\n"
    }
   },
   "outputs": [
    {
     "data": {
      "text/plain": "      CountryID  TechID  Age  TransTypeID  VehTypeID  MassCatID  EngineID  \\\n0             9      70    5            1          3          1         1   \n1             9      70    6            1          3          1         1   \n2             9      70    7            1          3          1         1   \n3             9      70    8            1          3          1         1   \n4             9      70    9            1          3          1         1   \n...         ...     ...  ...          ...        ...        ...       ...   \n5205          9    4275   16            1          8         45         7   \n5206          9    4275   32            1          8         45         7   \n5207          9    4275   33            1          8         45         7   \n5208          9    4275   34            1          8         45         7   \n5209          9    4275   35            1          8         45         7   \n\n      FuelID        NumVeh  \n0          1  8.469686e+01  \n1          1  1.693937e+02  \n2          1  5.928780e+02  \n3          1  6.775749e+02  \n4          1  9.316654e+02  \n...      ...           ...  \n5205      15  9.028010e-02  \n5206      15  3.025660e-12  \n5207      15  3.782154e-16  \n5208      15  2.250437e-21  \n5209      15  5.665234e-28  \n\n[5210 rows x 9 columns]",
      "text/html": "<div>\n<style scoped>\n    .dataframe tbody tr th:only-of-type {\n        vertical-align: middle;\n    }\n\n    .dataframe tbody tr th {\n        vertical-align: top;\n    }\n\n    .dataframe thead th {\n        text-align: right;\n    }\n</style>\n<table border=\"1\" class=\"dataframe\">\n  <thead>\n    <tr style=\"text-align: right;\">\n      <th></th>\n      <th>CountryID</th>\n      <th>TechID</th>\n      <th>Age</th>\n      <th>TransTypeID</th>\n      <th>VehTypeID</th>\n      <th>MassCatID</th>\n      <th>EngineID</th>\n      <th>FuelID</th>\n      <th>NumVeh</th>\n    </tr>\n  </thead>\n  <tbody>\n    <tr>\n      <th>0</th>\n      <td>9</td>\n      <td>70</td>\n      <td>5</td>\n      <td>1</td>\n      <td>3</td>\n      <td>1</td>\n      <td>1</td>\n      <td>1</td>\n      <td>8.469686e+01</td>\n    </tr>\n    <tr>\n      <th>1</th>\n      <td>9</td>\n      <td>70</td>\n      <td>6</td>\n      <td>1</td>\n      <td>3</td>\n      <td>1</td>\n      <td>1</td>\n      <td>1</td>\n      <td>1.693937e+02</td>\n    </tr>\n    <tr>\n      <th>2</th>\n      <td>9</td>\n      <td>70</td>\n      <td>7</td>\n      <td>1</td>\n      <td>3</td>\n      <td>1</td>\n      <td>1</td>\n      <td>1</td>\n      <td>5.928780e+02</td>\n    </tr>\n    <tr>\n      <th>3</th>\n      <td>9</td>\n      <td>70</td>\n      <td>8</td>\n      <td>1</td>\n      <td>3</td>\n      <td>1</td>\n      <td>1</td>\n      <td>1</td>\n      <td>6.775749e+02</td>\n    </tr>\n    <tr>\n      <th>4</th>\n      <td>9</td>\n      <td>70</td>\n      <td>9</td>\n      <td>1</td>\n      <td>3</td>\n      <td>1</td>\n      <td>1</td>\n      <td>1</td>\n      <td>9.316654e+02</td>\n    </tr>\n    <tr>\n      <th>...</th>\n      <td>...</td>\n      <td>...</td>\n      <td>...</td>\n      <td>...</td>\n      <td>...</td>\n      <td>...</td>\n      <td>...</td>\n      <td>...</td>\n      <td>...</td>\n    </tr>\n    <tr>\n      <th>5205</th>\n      <td>9</td>\n      <td>4275</td>\n      <td>16</td>\n      <td>1</td>\n      <td>8</td>\n      <td>45</td>\n      <td>7</td>\n      <td>15</td>\n      <td>9.028010e-02</td>\n    </tr>\n    <tr>\n      <th>5206</th>\n      <td>9</td>\n      <td>4275</td>\n      <td>32</td>\n      <td>1</td>\n      <td>8</td>\n      <td>45</td>\n      <td>7</td>\n      <td>15</td>\n      <td>3.025660e-12</td>\n    </tr>\n    <tr>\n      <th>5207</th>\n      <td>9</td>\n      <td>4275</td>\n      <td>33</td>\n      <td>1</td>\n      <td>8</td>\n      <td>45</td>\n      <td>7</td>\n      <td>15</td>\n      <td>3.782154e-16</td>\n    </tr>\n    <tr>\n      <th>5208</th>\n      <td>9</td>\n      <td>4275</td>\n      <td>34</td>\n      <td>1</td>\n      <td>8</td>\n      <td>45</td>\n      <td>7</td>\n      <td>15</td>\n      <td>2.250437e-21</td>\n    </tr>\n    <tr>\n      <th>5209</th>\n      <td>9</td>\n      <td>4275</td>\n      <td>35</td>\n      <td>1</td>\n      <td>8</td>\n      <td>45</td>\n      <td>7</td>\n      <td>15</td>\n      <td>5.665234e-28</td>\n    </tr>\n  </tbody>\n</table>\n<p>5210 rows × 9 columns</p>\n</div>"
     },
     "execution_count": 36,
     "metadata": {},
     "output_type": "execute_result"
    }
   ],
   "source": [
    "# import numveh95 table (output from AEMDA)\n",
    "numveh95 = pd.read_csv(f'./out_data/processed/numveh95.csv')\n",
    "numveh95"
   ]
  },
  {
   "cell_type": "code",
   "execution_count": 37,
   "id": "9cdda8ca",
   "metadata": {
    "pycharm": {
     "name": "#%%\n"
    }
   },
   "outputs": [
    {
     "data": {
      "text/plain": "        ScenarioID  CountryID  TechID  Year  Age  TransTypeID  VehTypeID  \\\n0              0.0        0.0     0.0   0.0  0.0          0.0        0.0   \n1              0.0        0.0     0.0   0.0  0.0          0.0        0.0   \n2              0.0        0.0     0.0   0.0  0.0          0.0        0.0   \n3              0.0        0.0     0.0   0.0  0.0          0.0        0.0   \n4              0.0        0.0     0.0   0.0  0.0          0.0        0.0   \n...            ...        ...     ...   ...  ...          ...        ...   \n203185         0.0        0.0     0.0   0.0  0.0          0.0        0.0   \n203186         0.0        0.0     0.0   0.0  0.0          0.0        0.0   \n203187         0.0        0.0     0.0   0.0  0.0          0.0        0.0   \n203188         0.0        0.0     0.0   0.0  0.0          0.0        0.0   \n203189         0.0        0.0     0.0   0.0  0.0          0.0        0.0   \n\n        MassCatID  EngineID  FuelID  NumVeh  \n0             0.0       0.0     0.0     0.0  \n1             0.0       0.0     0.0     0.0  \n2             0.0       0.0     0.0     0.0  \n3             0.0       0.0     0.0     0.0  \n4             0.0       0.0     0.0     0.0  \n...           ...       ...     ...     ...  \n203185        0.0       0.0     0.0     0.0  \n203186        0.0       0.0     0.0     0.0  \n203187        0.0       0.0     0.0     0.0  \n203188        0.0       0.0     0.0     0.0  \n203189        0.0       0.0     0.0     0.0  \n\n[203190 rows x 11 columns]",
      "text/html": "<div>\n<style scoped>\n    .dataframe tbody tr th:only-of-type {\n        vertical-align: middle;\n    }\n\n    .dataframe tbody tr th {\n        vertical-align: top;\n    }\n\n    .dataframe thead th {\n        text-align: right;\n    }\n</style>\n<table border=\"1\" class=\"dataframe\">\n  <thead>\n    <tr style=\"text-align: right;\">\n      <th></th>\n      <th>ScenarioID</th>\n      <th>CountryID</th>\n      <th>TechID</th>\n      <th>Year</th>\n      <th>Age</th>\n      <th>TransTypeID</th>\n      <th>VehTypeID</th>\n      <th>MassCatID</th>\n      <th>EngineID</th>\n      <th>FuelID</th>\n      <th>NumVeh</th>\n    </tr>\n  </thead>\n  <tbody>\n    <tr>\n      <th>0</th>\n      <td>0.0</td>\n      <td>0.0</td>\n      <td>0.0</td>\n      <td>0.0</td>\n      <td>0.0</td>\n      <td>0.0</td>\n      <td>0.0</td>\n      <td>0.0</td>\n      <td>0.0</td>\n      <td>0.0</td>\n      <td>0.0</td>\n    </tr>\n    <tr>\n      <th>1</th>\n      <td>0.0</td>\n      <td>0.0</td>\n      <td>0.0</td>\n      <td>0.0</td>\n      <td>0.0</td>\n      <td>0.0</td>\n      <td>0.0</td>\n      <td>0.0</td>\n      <td>0.0</td>\n      <td>0.0</td>\n      <td>0.0</td>\n    </tr>\n    <tr>\n      <th>2</th>\n      <td>0.0</td>\n      <td>0.0</td>\n      <td>0.0</td>\n      <td>0.0</td>\n      <td>0.0</td>\n      <td>0.0</td>\n      <td>0.0</td>\n      <td>0.0</td>\n      <td>0.0</td>\n      <td>0.0</td>\n      <td>0.0</td>\n    </tr>\n    <tr>\n      <th>3</th>\n      <td>0.0</td>\n      <td>0.0</td>\n      <td>0.0</td>\n      <td>0.0</td>\n      <td>0.0</td>\n      <td>0.0</td>\n      <td>0.0</td>\n      <td>0.0</td>\n      <td>0.0</td>\n      <td>0.0</td>\n      <td>0.0</td>\n    </tr>\n    <tr>\n      <th>4</th>\n      <td>0.0</td>\n      <td>0.0</td>\n      <td>0.0</td>\n      <td>0.0</td>\n      <td>0.0</td>\n      <td>0.0</td>\n      <td>0.0</td>\n      <td>0.0</td>\n      <td>0.0</td>\n      <td>0.0</td>\n      <td>0.0</td>\n    </tr>\n    <tr>\n      <th>...</th>\n      <td>...</td>\n      <td>...</td>\n      <td>...</td>\n      <td>...</td>\n      <td>...</td>\n      <td>...</td>\n      <td>...</td>\n      <td>...</td>\n      <td>...</td>\n      <td>...</td>\n      <td>...</td>\n    </tr>\n    <tr>\n      <th>203185</th>\n      <td>0.0</td>\n      <td>0.0</td>\n      <td>0.0</td>\n      <td>0.0</td>\n      <td>0.0</td>\n      <td>0.0</td>\n      <td>0.0</td>\n      <td>0.0</td>\n      <td>0.0</td>\n      <td>0.0</td>\n      <td>0.0</td>\n    </tr>\n    <tr>\n      <th>203186</th>\n      <td>0.0</td>\n      <td>0.0</td>\n      <td>0.0</td>\n      <td>0.0</td>\n      <td>0.0</td>\n      <td>0.0</td>\n      <td>0.0</td>\n      <td>0.0</td>\n      <td>0.0</td>\n      <td>0.0</td>\n      <td>0.0</td>\n    </tr>\n    <tr>\n      <th>203187</th>\n      <td>0.0</td>\n      <td>0.0</td>\n      <td>0.0</td>\n      <td>0.0</td>\n      <td>0.0</td>\n      <td>0.0</td>\n      <td>0.0</td>\n      <td>0.0</td>\n      <td>0.0</td>\n      <td>0.0</td>\n      <td>0.0</td>\n    </tr>\n    <tr>\n      <th>203188</th>\n      <td>0.0</td>\n      <td>0.0</td>\n      <td>0.0</td>\n      <td>0.0</td>\n      <td>0.0</td>\n      <td>0.0</td>\n      <td>0.0</td>\n      <td>0.0</td>\n      <td>0.0</td>\n      <td>0.0</td>\n      <td>0.0</td>\n    </tr>\n    <tr>\n      <th>203189</th>\n      <td>0.0</td>\n      <td>0.0</td>\n      <td>0.0</td>\n      <td>0.0</td>\n      <td>0.0</td>\n      <td>0.0</td>\n      <td>0.0</td>\n      <td>0.0</td>\n      <td>0.0</td>\n      <td>0.0</td>\n      <td>0.0</td>\n    </tr>\n  </tbody>\n</table>\n<p>203190 rows × 11 columns</p>\n</div>"
     },
     "execution_count": 37,
     "metadata": {},
     "output_type": "execute_result"
    }
   ],
   "source": [
    "# extra columns are YEAR and ScenarioID (1)\n",
    "years = range(2012,2051)\n",
    "feature_list = ['ScenarioID', 'CountryID', 'TechID', 'Year', 'Age', 'TransTypeID', 'VehTypeID', 'MassCatID', 'EngineID', 'FuelID', 'NumVeh']\n",
    "\n",
    "zero_data = np.zeros(shape=(len(years)*len(numveh95),len(feature_list)))\n",
    "\n",
    "numveh = pd.DataFrame(zero_data, columns=feature_list)\n",
    "numveh"
   ]
  },
  {
   "cell_type": "code",
   "execution_count": 38,
   "id": "e73854a2",
   "metadata": {
    "pycharm": {
     "name": "#%%\n"
    }
   },
   "outputs": [
    {
     "data": {
      "text/plain": "        ScenarioID  CountryID  TechID  Year  Age  TransTypeID  VehTypeID  \\\n0                1          9      70  2012    5            1          3   \n1                1          9      70  2012    6            1          3   \n2                1          9      70  2012    7            1          3   \n3                1          9      70  2012    8            1          3   \n4                1          9      70  2012    9            1          3   \n...            ...        ...     ...   ...  ...          ...        ...   \n203185           1          9    4275  2050   16            1          8   \n203186           1          9    4275  2050   32            1          8   \n203187           1          9    4275  2050   33            1          8   \n203188           1          9    4275  2050   34            1          8   \n203189           1          9    4275  2050   35            1          8   \n\n        MassCatID  EngineID  FuelID      NumVeh  \n0               1         1       1   84.696857  \n1               1         1       1  169.393714  \n2               1         1       1  592.878000  \n3               1         1       1  677.574857  \n4               1         1       1  931.665429  \n...           ...       ...     ...         ...  \n203185         45         7      15    0.000000  \n203186         45         7      15    0.000000  \n203187         45         7      15    0.000000  \n203188         45         7      15    0.000000  \n203189         45         7      15    0.000000  \n\n[203190 rows x 11 columns]",
      "text/html": "<div>\n<style scoped>\n    .dataframe tbody tr th:only-of-type {\n        vertical-align: middle;\n    }\n\n    .dataframe tbody tr th {\n        vertical-align: top;\n    }\n\n    .dataframe thead th {\n        text-align: right;\n    }\n</style>\n<table border=\"1\" class=\"dataframe\">\n  <thead>\n    <tr style=\"text-align: right;\">\n      <th></th>\n      <th>ScenarioID</th>\n      <th>CountryID</th>\n      <th>TechID</th>\n      <th>Year</th>\n      <th>Age</th>\n      <th>TransTypeID</th>\n      <th>VehTypeID</th>\n      <th>MassCatID</th>\n      <th>EngineID</th>\n      <th>FuelID</th>\n      <th>NumVeh</th>\n    </tr>\n  </thead>\n  <tbody>\n    <tr>\n      <th>0</th>\n      <td>1</td>\n      <td>9</td>\n      <td>70</td>\n      <td>2012</td>\n      <td>5</td>\n      <td>1</td>\n      <td>3</td>\n      <td>1</td>\n      <td>1</td>\n      <td>1</td>\n      <td>84.696857</td>\n    </tr>\n    <tr>\n      <th>1</th>\n      <td>1</td>\n      <td>9</td>\n      <td>70</td>\n      <td>2012</td>\n      <td>6</td>\n      <td>1</td>\n      <td>3</td>\n      <td>1</td>\n      <td>1</td>\n      <td>1</td>\n      <td>169.393714</td>\n    </tr>\n    <tr>\n      <th>2</th>\n      <td>1</td>\n      <td>9</td>\n      <td>70</td>\n      <td>2012</td>\n      <td>7</td>\n      <td>1</td>\n      <td>3</td>\n      <td>1</td>\n      <td>1</td>\n      <td>1</td>\n      <td>592.878000</td>\n    </tr>\n    <tr>\n      <th>3</th>\n      <td>1</td>\n      <td>9</td>\n      <td>70</td>\n      <td>2012</td>\n      <td>8</td>\n      <td>1</td>\n      <td>3</td>\n      <td>1</td>\n      <td>1</td>\n      <td>1</td>\n      <td>677.574857</td>\n    </tr>\n    <tr>\n      <th>4</th>\n      <td>1</td>\n      <td>9</td>\n      <td>70</td>\n      <td>2012</td>\n      <td>9</td>\n      <td>1</td>\n      <td>3</td>\n      <td>1</td>\n      <td>1</td>\n      <td>1</td>\n      <td>931.665429</td>\n    </tr>\n    <tr>\n      <th>...</th>\n      <td>...</td>\n      <td>...</td>\n      <td>...</td>\n      <td>...</td>\n      <td>...</td>\n      <td>...</td>\n      <td>...</td>\n      <td>...</td>\n      <td>...</td>\n      <td>...</td>\n      <td>...</td>\n    </tr>\n    <tr>\n      <th>203185</th>\n      <td>1</td>\n      <td>9</td>\n      <td>4275</td>\n      <td>2050</td>\n      <td>16</td>\n      <td>1</td>\n      <td>8</td>\n      <td>45</td>\n      <td>7</td>\n      <td>15</td>\n      <td>0.000000</td>\n    </tr>\n    <tr>\n      <th>203186</th>\n      <td>1</td>\n      <td>9</td>\n      <td>4275</td>\n      <td>2050</td>\n      <td>32</td>\n      <td>1</td>\n      <td>8</td>\n      <td>45</td>\n      <td>7</td>\n      <td>15</td>\n      <td>0.000000</td>\n    </tr>\n    <tr>\n      <th>203187</th>\n      <td>1</td>\n      <td>9</td>\n      <td>4275</td>\n      <td>2050</td>\n      <td>33</td>\n      <td>1</td>\n      <td>8</td>\n      <td>45</td>\n      <td>7</td>\n      <td>15</td>\n      <td>0.000000</td>\n    </tr>\n    <tr>\n      <th>203188</th>\n      <td>1</td>\n      <td>9</td>\n      <td>4275</td>\n      <td>2050</td>\n      <td>34</td>\n      <td>1</td>\n      <td>8</td>\n      <td>45</td>\n      <td>7</td>\n      <td>15</td>\n      <td>0.000000</td>\n    </tr>\n    <tr>\n      <th>203189</th>\n      <td>1</td>\n      <td>9</td>\n      <td>4275</td>\n      <td>2050</td>\n      <td>35</td>\n      <td>1</td>\n      <td>8</td>\n      <td>45</td>\n      <td>7</td>\n      <td>15</td>\n      <td>0.000000</td>\n    </tr>\n  </tbody>\n</table>\n<p>203190 rows × 11 columns</p>\n</div>"
     },
     "execution_count": 38,
     "metadata": {},
     "output_type": "execute_result"
    }
   ],
   "source": [
    "for year in years:\n",
    "    \n",
    "    if year == 2012:\n",
    "        numveh.loc[years.index(year)*len(numveh95):(years.index(year)+1)*len(numveh95)-1, numveh95.columns] = numveh95.loc[:, numveh95.columns].values\n",
    "        numveh.loc[years.index(year)*len(numveh95):(years.index(year)+1)*len(numveh95)-1, 'Year'] = year\n",
    "    else:\n",
    "        numveh.loc[years.index(year)*len(numveh95):(years.index(year)+1)*len(numveh95)-1, [c for c in numveh95.columns if c != 'NumVeh']] = numveh95.loc[:, [c for c in numveh95.columns if c != 'NumVeh']].values\n",
    "        numveh.loc[years.index(year)*len(numveh95):(years.index(year)+1)*len(numveh95)-1, 'Year'] = year\n",
    "\n",
    "numveh = numveh.reset_index(drop=True)\n",
    "numveh['ScenarioID'] = 1\n",
    "numveh[['CountryID', 'TechID', 'Year', 'Age', 'TransTypeID', 'VehTypeID', 'MassCatID', 'EngineID', 'FuelID']] = numveh[['CountryID', 'TechID', 'Year', 'Age', 'TransTypeID', 'VehTypeID', 'MassCatID', 'EngineID', 'FuelID']].astype(int)\n",
    "numveh"
   ]
  },
  {
   "cell_type": "code",
   "execution_count": 39,
   "id": "009e006d",
   "metadata": {
    "pycharm": {
     "name": "#%%\n"
    }
   },
   "outputs": [],
   "source": [
    "numveh.to_csv(f'./out_data/processed/numveh.csv')"
   ]
  },
  {
   "cell_type": "markdown",
   "id": "8a479556",
   "metadata": {
    "pycharm": {
     "name": "#%% md\n"
    }
   },
   "source": [
    "<b>FOR NEWVEH</b>"
   ]
  },
  {
   "cell_type": "code",
   "execution_count": 40,
   "id": "140fb0af",
   "metadata": {
    "pycharm": {
     "name": "#%%\n"
    }
   },
   "outputs": [
    {
     "data": {
      "text/plain": "    CountryID  TransTypeID  VehTypeID  MassCatID  NumNewVeh\n0           9            1          3          1      0.001\n1           9            1          3          2      0.001\n2           9            1          3          3      0.001\n3           9            1          4         11      0.001\n4           9            1          4         13      0.001\n5           9            1          4         12      0.001\n6           9            1          2          4      0.001\n7           9            1          6         31      0.001\n8           9            1          6         32      0.001\n9           9            1          6         33      0.001\n10          9            1          6         34      0.001\n11          9            1          8         41      0.001\n12          9            1          8         42      0.001\n13          9            1          8         43      0.001\n14          9            1          8         44      0.001\n15          9            1          8         45      0.001\n16          9            2          3         11      0.001\n17          9            2          3         21      0.001\n18          9            2          5         11      0.001\n19          9            2          5         21      0.001\n20          9            2          5         22      0.001\n21          9            2          5         23      0.001\n22          9            2          6         32      0.001\n23          9            2          7         51      0.001\n24          9            2          7         52      0.001\n25          9            2          8         42      0.001\n26          9            2          8         43      0.001\n27          9            2          8         44      0.001",
      "text/html": "<div>\n<style scoped>\n    .dataframe tbody tr th:only-of-type {\n        vertical-align: middle;\n    }\n\n    .dataframe tbody tr th {\n        vertical-align: top;\n    }\n\n    .dataframe thead th {\n        text-align: right;\n    }\n</style>\n<table border=\"1\" class=\"dataframe\">\n  <thead>\n    <tr style=\"text-align: right;\">\n      <th></th>\n      <th>CountryID</th>\n      <th>TransTypeID</th>\n      <th>VehTypeID</th>\n      <th>MassCatID</th>\n      <th>NumNewVeh</th>\n    </tr>\n  </thead>\n  <tbody>\n    <tr>\n      <th>0</th>\n      <td>9</td>\n      <td>1</td>\n      <td>3</td>\n      <td>1</td>\n      <td>0.001</td>\n    </tr>\n    <tr>\n      <th>1</th>\n      <td>9</td>\n      <td>1</td>\n      <td>3</td>\n      <td>2</td>\n      <td>0.001</td>\n    </tr>\n    <tr>\n      <th>2</th>\n      <td>9</td>\n      <td>1</td>\n      <td>3</td>\n      <td>3</td>\n      <td>0.001</td>\n    </tr>\n    <tr>\n      <th>3</th>\n      <td>9</td>\n      <td>1</td>\n      <td>4</td>\n      <td>11</td>\n      <td>0.001</td>\n    </tr>\n    <tr>\n      <th>4</th>\n      <td>9</td>\n      <td>1</td>\n      <td>4</td>\n      <td>13</td>\n      <td>0.001</td>\n    </tr>\n    <tr>\n      <th>5</th>\n      <td>9</td>\n      <td>1</td>\n      <td>4</td>\n      <td>12</td>\n      <td>0.001</td>\n    </tr>\n    <tr>\n      <th>6</th>\n      <td>9</td>\n      <td>1</td>\n      <td>2</td>\n      <td>4</td>\n      <td>0.001</td>\n    </tr>\n    <tr>\n      <th>7</th>\n      <td>9</td>\n      <td>1</td>\n      <td>6</td>\n      <td>31</td>\n      <td>0.001</td>\n    </tr>\n    <tr>\n      <th>8</th>\n      <td>9</td>\n      <td>1</td>\n      <td>6</td>\n      <td>32</td>\n      <td>0.001</td>\n    </tr>\n    <tr>\n      <th>9</th>\n      <td>9</td>\n      <td>1</td>\n      <td>6</td>\n      <td>33</td>\n      <td>0.001</td>\n    </tr>\n    <tr>\n      <th>10</th>\n      <td>9</td>\n      <td>1</td>\n      <td>6</td>\n      <td>34</td>\n      <td>0.001</td>\n    </tr>\n    <tr>\n      <th>11</th>\n      <td>9</td>\n      <td>1</td>\n      <td>8</td>\n      <td>41</td>\n      <td>0.001</td>\n    </tr>\n    <tr>\n      <th>12</th>\n      <td>9</td>\n      <td>1</td>\n      <td>8</td>\n      <td>42</td>\n      <td>0.001</td>\n    </tr>\n    <tr>\n      <th>13</th>\n      <td>9</td>\n      <td>1</td>\n      <td>8</td>\n      <td>43</td>\n      <td>0.001</td>\n    </tr>\n    <tr>\n      <th>14</th>\n      <td>9</td>\n      <td>1</td>\n      <td>8</td>\n      <td>44</td>\n      <td>0.001</td>\n    </tr>\n    <tr>\n      <th>15</th>\n      <td>9</td>\n      <td>1</td>\n      <td>8</td>\n      <td>45</td>\n      <td>0.001</td>\n    </tr>\n    <tr>\n      <th>16</th>\n      <td>9</td>\n      <td>2</td>\n      <td>3</td>\n      <td>11</td>\n      <td>0.001</td>\n    </tr>\n    <tr>\n      <th>17</th>\n      <td>9</td>\n      <td>2</td>\n      <td>3</td>\n      <td>21</td>\n      <td>0.001</td>\n    </tr>\n    <tr>\n      <th>18</th>\n      <td>9</td>\n      <td>2</td>\n      <td>5</td>\n      <td>11</td>\n      <td>0.001</td>\n    </tr>\n    <tr>\n      <th>19</th>\n      <td>9</td>\n      <td>2</td>\n      <td>5</td>\n      <td>21</td>\n      <td>0.001</td>\n    </tr>\n    <tr>\n      <th>20</th>\n      <td>9</td>\n      <td>2</td>\n      <td>5</td>\n      <td>22</td>\n      <td>0.001</td>\n    </tr>\n    <tr>\n      <th>21</th>\n      <td>9</td>\n      <td>2</td>\n      <td>5</td>\n      <td>23</td>\n      <td>0.001</td>\n    </tr>\n    <tr>\n      <th>22</th>\n      <td>9</td>\n      <td>2</td>\n      <td>6</td>\n      <td>32</td>\n      <td>0.001</td>\n    </tr>\n    <tr>\n      <th>23</th>\n      <td>9</td>\n      <td>2</td>\n      <td>7</td>\n      <td>51</td>\n      <td>0.001</td>\n    </tr>\n    <tr>\n      <th>24</th>\n      <td>9</td>\n      <td>2</td>\n      <td>7</td>\n      <td>52</td>\n      <td>0.001</td>\n    </tr>\n    <tr>\n      <th>25</th>\n      <td>9</td>\n      <td>2</td>\n      <td>8</td>\n      <td>42</td>\n      <td>0.001</td>\n    </tr>\n    <tr>\n      <th>26</th>\n      <td>9</td>\n      <td>2</td>\n      <td>8</td>\n      <td>43</td>\n      <td>0.001</td>\n    </tr>\n    <tr>\n      <th>27</th>\n      <td>9</td>\n      <td>2</td>\n      <td>8</td>\n      <td>44</td>\n      <td>0.001</td>\n    </tr>\n  </tbody>\n</table>\n</div>"
     },
     "execution_count": 40,
     "metadata": {},
     "output_type": "execute_result"
    }
   ],
   "source": [
    "# import newveh95 table\n",
    "newveh95 = pd.read_csv(f'./out_data/processed/newveh95.csv')\n",
    "newveh95"
   ]
  },
  {
   "cell_type": "code",
   "execution_count": 41,
   "id": "2a055310",
   "metadata": {
    "pycharm": {
     "name": "#%%\n"
    }
   },
   "outputs": [
    {
     "data": {
      "text/plain": "      PolicyID  ScenarioID  CountryID  Year  TransTypeID  VehTypeID  \\\n0          0.0         0.0        0.0   0.0          0.0        0.0   \n1          0.0         0.0        0.0   0.0          0.0        0.0   \n2          0.0         0.0        0.0   0.0          0.0        0.0   \n3          0.0         0.0        0.0   0.0          0.0        0.0   \n4          0.0         0.0        0.0   0.0          0.0        0.0   \n...        ...         ...        ...   ...          ...        ...   \n1087       0.0         0.0        0.0   0.0          0.0        0.0   \n1088       0.0         0.0        0.0   0.0          0.0        0.0   \n1089       0.0         0.0        0.0   0.0          0.0        0.0   \n1090       0.0         0.0        0.0   0.0          0.0        0.0   \n1091       0.0         0.0        0.0   0.0          0.0        0.0   \n\n      MassCatID  NumNewVeh  \n0           0.0        0.0  \n1           0.0        0.0  \n2           0.0        0.0  \n3           0.0        0.0  \n4           0.0        0.0  \n...         ...        ...  \n1087        0.0        0.0  \n1088        0.0        0.0  \n1089        0.0        0.0  \n1090        0.0        0.0  \n1091        0.0        0.0  \n\n[1092 rows x 8 columns]",
      "text/html": "<div>\n<style scoped>\n    .dataframe tbody tr th:only-of-type {\n        vertical-align: middle;\n    }\n\n    .dataframe tbody tr th {\n        vertical-align: top;\n    }\n\n    .dataframe thead th {\n        text-align: right;\n    }\n</style>\n<table border=\"1\" class=\"dataframe\">\n  <thead>\n    <tr style=\"text-align: right;\">\n      <th></th>\n      <th>PolicyID</th>\n      <th>ScenarioID</th>\n      <th>CountryID</th>\n      <th>Year</th>\n      <th>TransTypeID</th>\n      <th>VehTypeID</th>\n      <th>MassCatID</th>\n      <th>NumNewVeh</th>\n    </tr>\n  </thead>\n  <tbody>\n    <tr>\n      <th>0</th>\n      <td>0.0</td>\n      <td>0.0</td>\n      <td>0.0</td>\n      <td>0.0</td>\n      <td>0.0</td>\n      <td>0.0</td>\n      <td>0.0</td>\n      <td>0.0</td>\n    </tr>\n    <tr>\n      <th>1</th>\n      <td>0.0</td>\n      <td>0.0</td>\n      <td>0.0</td>\n      <td>0.0</td>\n      <td>0.0</td>\n      <td>0.0</td>\n      <td>0.0</td>\n      <td>0.0</td>\n    </tr>\n    <tr>\n      <th>2</th>\n      <td>0.0</td>\n      <td>0.0</td>\n      <td>0.0</td>\n      <td>0.0</td>\n      <td>0.0</td>\n      <td>0.0</td>\n      <td>0.0</td>\n      <td>0.0</td>\n    </tr>\n    <tr>\n      <th>3</th>\n      <td>0.0</td>\n      <td>0.0</td>\n      <td>0.0</td>\n      <td>0.0</td>\n      <td>0.0</td>\n      <td>0.0</td>\n      <td>0.0</td>\n      <td>0.0</td>\n    </tr>\n    <tr>\n      <th>4</th>\n      <td>0.0</td>\n      <td>0.0</td>\n      <td>0.0</td>\n      <td>0.0</td>\n      <td>0.0</td>\n      <td>0.0</td>\n      <td>0.0</td>\n      <td>0.0</td>\n    </tr>\n    <tr>\n      <th>...</th>\n      <td>...</td>\n      <td>...</td>\n      <td>...</td>\n      <td>...</td>\n      <td>...</td>\n      <td>...</td>\n      <td>...</td>\n      <td>...</td>\n    </tr>\n    <tr>\n      <th>1087</th>\n      <td>0.0</td>\n      <td>0.0</td>\n      <td>0.0</td>\n      <td>0.0</td>\n      <td>0.0</td>\n      <td>0.0</td>\n      <td>0.0</td>\n      <td>0.0</td>\n    </tr>\n    <tr>\n      <th>1088</th>\n      <td>0.0</td>\n      <td>0.0</td>\n      <td>0.0</td>\n      <td>0.0</td>\n      <td>0.0</td>\n      <td>0.0</td>\n      <td>0.0</td>\n      <td>0.0</td>\n    </tr>\n    <tr>\n      <th>1089</th>\n      <td>0.0</td>\n      <td>0.0</td>\n      <td>0.0</td>\n      <td>0.0</td>\n      <td>0.0</td>\n      <td>0.0</td>\n      <td>0.0</td>\n      <td>0.0</td>\n    </tr>\n    <tr>\n      <th>1090</th>\n      <td>0.0</td>\n      <td>0.0</td>\n      <td>0.0</td>\n      <td>0.0</td>\n      <td>0.0</td>\n      <td>0.0</td>\n      <td>0.0</td>\n      <td>0.0</td>\n    </tr>\n    <tr>\n      <th>1091</th>\n      <td>0.0</td>\n      <td>0.0</td>\n      <td>0.0</td>\n      <td>0.0</td>\n      <td>0.0</td>\n      <td>0.0</td>\n      <td>0.0</td>\n      <td>0.0</td>\n    </tr>\n  </tbody>\n</table>\n<p>1092 rows × 8 columns</p>\n</div>"
     },
     "execution_count": 41,
     "metadata": {},
     "output_type": "execute_result"
    }
   ],
   "source": [
    "# other columns = policyID (all 0), scenarioID (all 1), year\n",
    "years = range(2012,2051)\n",
    "feature_list = ['PolicyID', 'ScenarioID', 'CountryID', 'Year', 'TransTypeID', 'VehTypeID', 'MassCatID', 'NumNewVeh']\n",
    "\n",
    "zero_data = np.zeros(shape=(len(years)*len(newveh95),len(feature_list)))\n",
    "\n",
    "newveh = pd.DataFrame(zero_data, columns=feature_list)\n",
    "newveh"
   ]
  },
  {
   "cell_type": "code",
   "execution_count": 42,
   "id": "0db3e401",
   "metadata": {
    "pycharm": {
     "name": "#%%\n"
    }
   },
   "outputs": [
    {
     "data": {
      "text/plain": "      PolicyID  ScenarioID  CountryID  Year  TransTypeID  VehTypeID  \\\n0            0           1          9  2012            1          3   \n1            0           1          9  2012            1          3   \n2            0           1          9  2012            1          3   \n3            0           1          9  2012            1          4   \n4            0           1          9  2012            1          4   \n...        ...         ...        ...   ...          ...        ...   \n1087         0           1          9  2050            2          7   \n1088         0           1          9  2050            2          7   \n1089         0           1          9  2050            2          8   \n1090         0           1          9  2050            2          8   \n1091         0           1          9  2050            2          8   \n\n      MassCatID  NumNewVeh  \n0             1      0.001  \n1             2      0.001  \n2             3      0.001  \n3            11      0.001  \n4            13      0.001  \n...         ...        ...  \n1087         51      0.000  \n1088         52      0.000  \n1089         42      0.000  \n1090         43      0.000  \n1091         44      0.000  \n\n[1092 rows x 8 columns]",
      "text/html": "<div>\n<style scoped>\n    .dataframe tbody tr th:only-of-type {\n        vertical-align: middle;\n    }\n\n    .dataframe tbody tr th {\n        vertical-align: top;\n    }\n\n    .dataframe thead th {\n        text-align: right;\n    }\n</style>\n<table border=\"1\" class=\"dataframe\">\n  <thead>\n    <tr style=\"text-align: right;\">\n      <th></th>\n      <th>PolicyID</th>\n      <th>ScenarioID</th>\n      <th>CountryID</th>\n      <th>Year</th>\n      <th>TransTypeID</th>\n      <th>VehTypeID</th>\n      <th>MassCatID</th>\n      <th>NumNewVeh</th>\n    </tr>\n  </thead>\n  <tbody>\n    <tr>\n      <th>0</th>\n      <td>0</td>\n      <td>1</td>\n      <td>9</td>\n      <td>2012</td>\n      <td>1</td>\n      <td>3</td>\n      <td>1</td>\n      <td>0.001</td>\n    </tr>\n    <tr>\n      <th>1</th>\n      <td>0</td>\n      <td>1</td>\n      <td>9</td>\n      <td>2012</td>\n      <td>1</td>\n      <td>3</td>\n      <td>2</td>\n      <td>0.001</td>\n    </tr>\n    <tr>\n      <th>2</th>\n      <td>0</td>\n      <td>1</td>\n      <td>9</td>\n      <td>2012</td>\n      <td>1</td>\n      <td>3</td>\n      <td>3</td>\n      <td>0.001</td>\n    </tr>\n    <tr>\n      <th>3</th>\n      <td>0</td>\n      <td>1</td>\n      <td>9</td>\n      <td>2012</td>\n      <td>1</td>\n      <td>4</td>\n      <td>11</td>\n      <td>0.001</td>\n    </tr>\n    <tr>\n      <th>4</th>\n      <td>0</td>\n      <td>1</td>\n      <td>9</td>\n      <td>2012</td>\n      <td>1</td>\n      <td>4</td>\n      <td>13</td>\n      <td>0.001</td>\n    </tr>\n    <tr>\n      <th>...</th>\n      <td>...</td>\n      <td>...</td>\n      <td>...</td>\n      <td>...</td>\n      <td>...</td>\n      <td>...</td>\n      <td>...</td>\n      <td>...</td>\n    </tr>\n    <tr>\n      <th>1087</th>\n      <td>0</td>\n      <td>1</td>\n      <td>9</td>\n      <td>2050</td>\n      <td>2</td>\n      <td>7</td>\n      <td>51</td>\n      <td>0.000</td>\n    </tr>\n    <tr>\n      <th>1088</th>\n      <td>0</td>\n      <td>1</td>\n      <td>9</td>\n      <td>2050</td>\n      <td>2</td>\n      <td>7</td>\n      <td>52</td>\n      <td>0.000</td>\n    </tr>\n    <tr>\n      <th>1089</th>\n      <td>0</td>\n      <td>1</td>\n      <td>9</td>\n      <td>2050</td>\n      <td>2</td>\n      <td>8</td>\n      <td>42</td>\n      <td>0.000</td>\n    </tr>\n    <tr>\n      <th>1090</th>\n      <td>0</td>\n      <td>1</td>\n      <td>9</td>\n      <td>2050</td>\n      <td>2</td>\n      <td>8</td>\n      <td>43</td>\n      <td>0.000</td>\n    </tr>\n    <tr>\n      <th>1091</th>\n      <td>0</td>\n      <td>1</td>\n      <td>9</td>\n      <td>2050</td>\n      <td>2</td>\n      <td>8</td>\n      <td>44</td>\n      <td>0.000</td>\n    </tr>\n  </tbody>\n</table>\n<p>1092 rows × 8 columns</p>\n</div>"
     },
     "execution_count": 42,
     "metadata": {},
     "output_type": "execute_result"
    }
   ],
   "source": [
    "for year in years:\n",
    "    \n",
    "    if year == 2012:\n",
    "        newveh.loc[years.index(year)*len(newveh95):(years.index(year)+1)*len(newveh95)-1, newveh95.columns] = newveh95.loc[:, newveh95.columns].values\n",
    "        newveh.loc[years.index(year)*len(newveh95):(years.index(year)+1)*len(newveh95)-1, 'Year'] = year\n",
    "    else:\n",
    "        newveh.loc[years.index(year)*len(newveh95):(years.index(year)+1)*len(newveh95)-1, [c for c in newveh95.columns if c != 'NumNewVeh']] = newveh95.loc[:, [c for c in newveh95.columns if c != 'NumNewVeh']].values\n",
    "        newveh.loc[years.index(year)*len(newveh95):(years.index(year)+1)*len(newveh95)-1, 'Year'] = year\n",
    "\n",
    "newveh = newveh.reset_index(drop=True)\n",
    "newveh['ScenarioID'] = 1\n",
    "newveh['PolicyID'] = 0\n",
    "newveh[['CountryID', 'Year', 'TransTypeID', 'VehTypeID', 'MassCatID']] = newveh[['CountryID', 'Year', 'TransTypeID', 'VehTypeID', 'MassCatID']].astype(int)\n",
    "newveh"
   ]
  },
  {
   "cell_type": "code",
   "execution_count": 44,
   "id": "bec03e60",
   "metadata": {
    "pycharm": {
     "name": "#%%\n"
    }
   },
   "outputs": [],
   "source": [
    "newveh.to_csv('./out_data/processed/newveh_ZEROES.csv', index=False)"
   ]
  },
  {
   "cell_type": "markdown",
   "id": "6699a895",
   "metadata": {
    "pycharm": {
     "name": "#%% md\n"
    }
   },
   "source": [
    "<b>FOR TOTNUMVEH</b>"
   ]
  },
  {
   "cell_type": "code",
   "execution_count": null,
   "id": "91d8533c",
   "metadata": {
    "pycharm": {
     "name": "#%%\n"
    }
   },
   "outputs": [],
   "source": [
    "# import totnumveh95 table\n",
    "totnumveh95 = pd.read_csv(f'./out_data/processed/totnumveh95.csv')\n",
    "totnumveh95"
   ]
  },
  {
   "cell_type": "code",
   "execution_count": null,
   "id": "93fab282",
   "metadata": {
    "pycharm": {
     "name": "#%%\n"
    }
   },
   "outputs": [],
   "source": [
    "# other columns = scenario, policy, year. take AWAY notnumveh-1\n",
    "years = range(2012,2051)\n",
    "feature_list = ['ScenarioID', 'CountryID', 'PolicyID', 'Year', 'TransTypeID', 'VehTypeID', 'Age', 'TotNumVeh', 'NumVehScrap']\n",
    "\n",
    "zero_data = np.zeros(shape=(len(years)*len(totnumveh95),len(feature_list)))\n",
    "\n",
    "totnumveh = pd.DataFrame(zero_data, columns=feature_list)\n",
    "totnumveh"
   ]
  },
  {
   "cell_type": "code",
   "execution_count": null,
   "id": "69d87970",
   "metadata": {
    "pycharm": {
     "name": "#%%\n"
    }
   },
   "outputs": [],
   "source": [
    "for year in years:\n",
    "    \n",
    "    if year == 2012:\n",
    "        totnumveh.loc[years.index(year)*len(totnumveh95):(years.index(year)+1)*len(totnumveh95)-1, [c for c in totnumveh95.columns if c not in ['TotNumVeh-1']]] = totnumveh95.loc[:, [c for c in totnumveh95.columns if c not in ['TotNumVeh-1']]].values\n",
    "        totnumveh.loc[years.index(year)*len(totnumveh95):(years.index(year)+1)*len(totnumveh95)-1, 'Year'] = year\n",
    "    else:\n",
    "        totnumveh.loc[years.index(year)*len(totnumveh95):(years.index(year)+1)*len(totnumveh95)-1, [c for c in totnumveh95.columns if c not in ['TotNumVeh', 'TotNumVeh-1', 'NumVehScrap']]] = totnumveh95.loc[:, [c for c in totnumveh95.columns if c not in ['TotNumVeh', 'TotNumVeh-1', 'NumVehScrap']]].values\n",
    "        totnumveh.loc[years.index(year)*len(totnumveh95):(years.index(year)+1)*len(totnumveh95)-1, 'Year'] = year\n",
    "\n",
    "totnumveh = totnumveh.reset_index(drop=True)\n",
    "totnumveh['ScenarioID'] = 1\n",
    "totnumveh['PolicyID'] = 0\n",
    "totnumveh[['CountryID', 'Year', 'TransTypeID', 'VehTypeID', 'Age']] = totnumveh[['CountryID', 'Year', 'TransTypeID', 'VehTypeID', 'Age']].astype(int)\n",
    "totnumveh"
   ]
  },
  {
   "cell_type": "code",
   "execution_count": null,
   "id": "8068b21a",
   "metadata": {
    "pycharm": {
     "name": "#%%\n"
    }
   },
   "outputs": [],
   "source": [
    "totnumveh.to_csv('./out_data/processed/totnumveh.csv', index=False)"
   ]
  },
  {
   "cell_type": "markdown",
   "id": "ed97076c",
   "metadata": {
    "pycharm": {
     "name": "#%% md\n"
    }
   },
   "source": [
    "<b>FOR TOT</b>"
   ]
  },
  {
   "cell_type": "code",
   "execution_count": null,
   "id": "c0c46bc9",
   "metadata": {
    "pycharm": {
     "name": "#%%\n"
    }
   },
   "outputs": [],
   "source": [
    "# import tot95 table\n",
    "tot95 = pd.read_csv(f'./out_data/processed/tot95.csv')\n",
    "tot95"
   ]
  },
  {
   "cell_type": "code",
   "execution_count": null,
   "id": "951a4ebe",
   "metadata": {
    "pycharm": {
     "name": "#%%\n"
    }
   },
   "outputs": [],
   "source": [
    "# other columns = scenario, policy, year. take AWAY notnumveh-1\n",
    "years = range(2012,2051)\n",
    "feature_list = ['ScenarioID', 'CountryID', 'PolicyID', 'Year', 'TransTypeID', 'VehTypeID', 'MassCatID', 'TOT_Stock']\n",
    "\n",
    "zero_data = np.zeros(shape=(len(years)*len(tot95),len(feature_list)))\n",
    "\n",
    "tot = pd.DataFrame(zero_data, columns=feature_list)\n",
    "tot"
   ]
  },
  {
   "cell_type": "code",
   "execution_count": null,
   "id": "c755c465",
   "metadata": {
    "pycharm": {
     "name": "#%%\n"
    }
   },
   "outputs": [],
   "source": [
    "for year in years:\n",
    "    \n",
    "    if year == 2012:\n",
    "        tot.loc[years.index(year)*len(tot95):(years.index(year)+1)*len(tot95)-1, [c for c in tot95.columns]] = tot95.loc[:, [c for c in tot95.columns]].values\n",
    "        tot.loc[years.index(year)*len(tot95):(years.index(year)+1)*len(tot95)-1, 'Year'] = year\n",
    "    else:\n",
    "        tot.loc[years.index(year)*len(tot95):(years.index(year)+1)*len(tot95)-1, [c for c in tot95.columns if c not in ['TOT_Stock']]] = tot95.loc[:, [c for c in tot95.columns if c not in ['TOT_Stock']]].values\n",
    "        tot.loc[years.index(year)*len(tot95):(years.index(year)+1)*len(tot95)-1, 'Year'] = year\n",
    "\n",
    "tot = tot.reset_index(drop=True)\n",
    "tot['ScenarioID'] = 1\n",
    "tot['PolicyID'] = 0\n",
    "tot[['CountryID', 'Year', 'TransTypeID', 'VehTypeID', 'MassCatID']] = tot[['CountryID', 'Year', 'TransTypeID', 'VehTypeID', 'MassCatID']].astype(int)\n",
    "tot"
   ]
  },
  {
   "cell_type": "code",
   "execution_count": null,
   "id": "9aab8202",
   "metadata": {
    "pycharm": {
     "name": "#%%\n"
    }
   },
   "outputs": [],
   "source": [
    "tot.to_csv('./out_data/processed/tot.csv', index=False)"
   ]
  },
  {
   "cell_type": "code",
   "execution_count": null,
   "id": "542b762b",
   "metadata": {
    "pycharm": {
     "name": "#%%\n"
    }
   },
   "outputs": [],
   "source": []
  }
 ],
 "metadata": {
  "kernelspec": {
   "display_name": "Python 3 (ipykernel)",
   "language": "python",
   "name": "python3"
  },
  "language_info": {
   "codemirror_mode": {
    "name": "ipython",
    "version": 3
   },
   "file_extension": ".py",
   "mimetype": "text/x-python",
   "name": "python",
   "nbconvert_exporter": "python",
   "pygments_lexer": "ipython3",
   "version": "3.9.12"
  }
 },
 "nbformat": 4,
 "nbformat_minor": 5
}