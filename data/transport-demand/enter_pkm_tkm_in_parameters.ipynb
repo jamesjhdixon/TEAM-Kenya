{
 "cells": [
  {
   "cell_type": "markdown",
   "source": [
    "This notebook enters passenger km and tonne km into the PARAMETERS data table."
   ],
   "metadata": {
    "collapsed": false
   }
  },
  {
   "cell_type": "code",
   "execution_count": 1,
   "outputs": [],
   "source": [
    "import pandas as pd"
   ],
   "metadata": {
    "collapsed": false,
    "ExecuteTime": {
     "end_time": "2024-02-01T16:14:49.868771600Z",
     "start_time": "2024-02-01T16:14:49.868771600Z"
    }
   }
  },
  {
   "cell_type": "code",
   "execution_count": 2,
   "outputs": [
    {
     "data": {
      "text/plain": "     ScenarioID  CountryID  Year    NHH_GR  PassTransIntensity  \\\n0             1          9  2012  1.000000                 1.0   \n1             1          9  2013  2.423965                 0.0   \n2             1          9  2014  4.554588                 0.0   \n3             1          9  2015  2.263506                 0.0   \n4             1          9  2016  2.213406                 0.0   \n..          ...        ...   ...       ...                 ...   \n351           4          9  2096  0.092060                 0.0   \n352           4          9  2097  0.092062                 0.0   \n353           4          9  2098  0.092064                 0.0   \n354           4          9  2099  0.092066                 0.0   \n355           4          9  2100  0.092069                 0.0   \n\n     FreightTransIntensity  ShDe_PassPrivCar  ShDe_PassPublicTrans  \\\n0                 1.000000          1.000000              1.000000   \n1                 0.000000          0.000000              0.000000   \n2                 0.000000          0.000000              0.000000   \n3                 0.000000          0.000000              0.000000   \n4                 0.000000          0.000000              0.000000   \n..                     ...               ...                   ...   \n351              -0.637048         -0.120949             -3.515552   \n352              -0.639966         -0.121092             -3.561816   \n353              -0.642883         -0.121235             -3.608080   \n354              -0.645801         -0.121377             -3.654344   \n355              -0.648719         -0.121520             -3.700608   \n\n     ShDe_PassPlane  ShDe_FreightTransRoad  ...  CEDP_Total  CEDP_Car  \\\n0          1.000000               1.000000  ...        0.38     0.595   \n1          0.000000               0.000000  ...        0.38     0.595   \n2          0.000000               0.000000  ...        0.38     0.595   \n3          0.000000               0.000000  ...        0.38     0.595   \n4          0.000000               0.000000  ...        0.38     0.595   \n..              ...                    ...  ...         ...       ...   \n351        0.753488               0.083091  ...        0.38     0.595   \n352        0.740726               0.083006  ...        0.38     0.595   \n353        0.727964               0.082922  ...        0.38     0.595   \n354        0.715202               0.082837  ...        0.38     0.595   \n355        0.702440               0.082752  ...        0.38     0.595   \n\n     CEDP_BUS  CEDP_Train  CEDP_Plane  CEDF_Total  CEDF_Truck  CEDF_Ship_i  \\\n0        0.28        0.26       0.704         0.7         0.9          0.9   \n1        0.28        0.26       0.704         0.7         0.9          0.9   \n2        0.28        0.26       0.704         0.7         0.9          0.9   \n3        0.28        0.26       0.704         0.7         0.9          0.9   \n4        0.28        0.26       0.704         0.7         0.9          0.9   \n..        ...         ...         ...         ...         ...          ...   \n351      0.28        0.26       0.704         0.7         0.9          0.9   \n352      0.28        0.26       0.704         0.7         0.9          0.9   \n353      0.28        0.26       0.704         0.7         0.9          0.9   \n354      0.28        0.26       0.704         0.7         0.9          0.9   \n355      0.28        0.26       0.704         0.7         0.9          0.9   \n\n     CEDF_Train  CEDF_Plane  \n0           1.2         0.9  \n1           1.2         0.9  \n2           1.2         0.9  \n3           1.2         0.9  \n4           1.2         0.9  \n..          ...         ...  \n351         1.2         0.9  \n352         1.2         0.9  \n353         1.2         0.9  \n354         1.2         0.9  \n355         1.2         0.9  \n\n[356 rows x 85 columns]",
      "text/html": "<div>\n<style scoped>\n    .dataframe tbody tr th:only-of-type {\n        vertical-align: middle;\n    }\n\n    .dataframe tbody tr th {\n        vertical-align: top;\n    }\n\n    .dataframe thead th {\n        text-align: right;\n    }\n</style>\n<table border=\"1\" class=\"dataframe\">\n  <thead>\n    <tr style=\"text-align: right;\">\n      <th></th>\n      <th>ScenarioID</th>\n      <th>CountryID</th>\n      <th>Year</th>\n      <th>NHH_GR</th>\n      <th>PassTransIntensity</th>\n      <th>FreightTransIntensity</th>\n      <th>ShDe_PassPrivCar</th>\n      <th>ShDe_PassPublicTrans</th>\n      <th>ShDe_PassPlane</th>\n      <th>ShDe_FreightTransRoad</th>\n      <th>...</th>\n      <th>CEDP_Total</th>\n      <th>CEDP_Car</th>\n      <th>CEDP_BUS</th>\n      <th>CEDP_Train</th>\n      <th>CEDP_Plane</th>\n      <th>CEDF_Total</th>\n      <th>CEDF_Truck</th>\n      <th>CEDF_Ship_i</th>\n      <th>CEDF_Train</th>\n      <th>CEDF_Plane</th>\n    </tr>\n  </thead>\n  <tbody>\n    <tr>\n      <th>0</th>\n      <td>1</td>\n      <td>9</td>\n      <td>2012</td>\n      <td>1.000000</td>\n      <td>1.0</td>\n      <td>1.000000</td>\n      <td>1.000000</td>\n      <td>1.000000</td>\n      <td>1.000000</td>\n      <td>1.000000</td>\n      <td>...</td>\n      <td>0.38</td>\n      <td>0.595</td>\n      <td>0.28</td>\n      <td>0.26</td>\n      <td>0.704</td>\n      <td>0.7</td>\n      <td>0.9</td>\n      <td>0.9</td>\n      <td>1.2</td>\n      <td>0.9</td>\n    </tr>\n    <tr>\n      <th>1</th>\n      <td>1</td>\n      <td>9</td>\n      <td>2013</td>\n      <td>2.423965</td>\n      <td>0.0</td>\n      <td>0.000000</td>\n      <td>0.000000</td>\n      <td>0.000000</td>\n      <td>0.000000</td>\n      <td>0.000000</td>\n      <td>...</td>\n      <td>0.38</td>\n      <td>0.595</td>\n      <td>0.28</td>\n      <td>0.26</td>\n      <td>0.704</td>\n      <td>0.7</td>\n      <td>0.9</td>\n      <td>0.9</td>\n      <td>1.2</td>\n      <td>0.9</td>\n    </tr>\n    <tr>\n      <th>2</th>\n      <td>1</td>\n      <td>9</td>\n      <td>2014</td>\n      <td>4.554588</td>\n      <td>0.0</td>\n      <td>0.000000</td>\n      <td>0.000000</td>\n      <td>0.000000</td>\n      <td>0.000000</td>\n      <td>0.000000</td>\n      <td>...</td>\n      <td>0.38</td>\n      <td>0.595</td>\n      <td>0.28</td>\n      <td>0.26</td>\n      <td>0.704</td>\n      <td>0.7</td>\n      <td>0.9</td>\n      <td>0.9</td>\n      <td>1.2</td>\n      <td>0.9</td>\n    </tr>\n    <tr>\n      <th>3</th>\n      <td>1</td>\n      <td>9</td>\n      <td>2015</td>\n      <td>2.263506</td>\n      <td>0.0</td>\n      <td>0.000000</td>\n      <td>0.000000</td>\n      <td>0.000000</td>\n      <td>0.000000</td>\n      <td>0.000000</td>\n      <td>...</td>\n      <td>0.38</td>\n      <td>0.595</td>\n      <td>0.28</td>\n      <td>0.26</td>\n      <td>0.704</td>\n      <td>0.7</td>\n      <td>0.9</td>\n      <td>0.9</td>\n      <td>1.2</td>\n      <td>0.9</td>\n    </tr>\n    <tr>\n      <th>4</th>\n      <td>1</td>\n      <td>9</td>\n      <td>2016</td>\n      <td>2.213406</td>\n      <td>0.0</td>\n      <td>0.000000</td>\n      <td>0.000000</td>\n      <td>0.000000</td>\n      <td>0.000000</td>\n      <td>0.000000</td>\n      <td>...</td>\n      <td>0.38</td>\n      <td>0.595</td>\n      <td>0.28</td>\n      <td>0.26</td>\n      <td>0.704</td>\n      <td>0.7</td>\n      <td>0.9</td>\n      <td>0.9</td>\n      <td>1.2</td>\n      <td>0.9</td>\n    </tr>\n    <tr>\n      <th>...</th>\n      <td>...</td>\n      <td>...</td>\n      <td>...</td>\n      <td>...</td>\n      <td>...</td>\n      <td>...</td>\n      <td>...</td>\n      <td>...</td>\n      <td>...</td>\n      <td>...</td>\n      <td>...</td>\n      <td>...</td>\n      <td>...</td>\n      <td>...</td>\n      <td>...</td>\n      <td>...</td>\n      <td>...</td>\n      <td>...</td>\n      <td>...</td>\n      <td>...</td>\n      <td>...</td>\n    </tr>\n    <tr>\n      <th>351</th>\n      <td>4</td>\n      <td>9</td>\n      <td>2096</td>\n      <td>0.092060</td>\n      <td>0.0</td>\n      <td>-0.637048</td>\n      <td>-0.120949</td>\n      <td>-3.515552</td>\n      <td>0.753488</td>\n      <td>0.083091</td>\n      <td>...</td>\n      <td>0.38</td>\n      <td>0.595</td>\n      <td>0.28</td>\n      <td>0.26</td>\n      <td>0.704</td>\n      <td>0.7</td>\n      <td>0.9</td>\n      <td>0.9</td>\n      <td>1.2</td>\n      <td>0.9</td>\n    </tr>\n    <tr>\n      <th>352</th>\n      <td>4</td>\n      <td>9</td>\n      <td>2097</td>\n      <td>0.092062</td>\n      <td>0.0</td>\n      <td>-0.639966</td>\n      <td>-0.121092</td>\n      <td>-3.561816</td>\n      <td>0.740726</td>\n      <td>0.083006</td>\n      <td>...</td>\n      <td>0.38</td>\n      <td>0.595</td>\n      <td>0.28</td>\n      <td>0.26</td>\n      <td>0.704</td>\n      <td>0.7</td>\n      <td>0.9</td>\n      <td>0.9</td>\n      <td>1.2</td>\n      <td>0.9</td>\n    </tr>\n    <tr>\n      <th>353</th>\n      <td>4</td>\n      <td>9</td>\n      <td>2098</td>\n      <td>0.092064</td>\n      <td>0.0</td>\n      <td>-0.642883</td>\n      <td>-0.121235</td>\n      <td>-3.608080</td>\n      <td>0.727964</td>\n      <td>0.082922</td>\n      <td>...</td>\n      <td>0.38</td>\n      <td>0.595</td>\n      <td>0.28</td>\n      <td>0.26</td>\n      <td>0.704</td>\n      <td>0.7</td>\n      <td>0.9</td>\n      <td>0.9</td>\n      <td>1.2</td>\n      <td>0.9</td>\n    </tr>\n    <tr>\n      <th>354</th>\n      <td>4</td>\n      <td>9</td>\n      <td>2099</td>\n      <td>0.092066</td>\n      <td>0.0</td>\n      <td>-0.645801</td>\n      <td>-0.121377</td>\n      <td>-3.654344</td>\n      <td>0.715202</td>\n      <td>0.082837</td>\n      <td>...</td>\n      <td>0.38</td>\n      <td>0.595</td>\n      <td>0.28</td>\n      <td>0.26</td>\n      <td>0.704</td>\n      <td>0.7</td>\n      <td>0.9</td>\n      <td>0.9</td>\n      <td>1.2</td>\n      <td>0.9</td>\n    </tr>\n    <tr>\n      <th>355</th>\n      <td>4</td>\n      <td>9</td>\n      <td>2100</td>\n      <td>0.092069</td>\n      <td>0.0</td>\n      <td>-0.648719</td>\n      <td>-0.121520</td>\n      <td>-3.700608</td>\n      <td>0.702440</td>\n      <td>0.082752</td>\n      <td>...</td>\n      <td>0.38</td>\n      <td>0.595</td>\n      <td>0.28</td>\n      <td>0.26</td>\n      <td>0.704</td>\n      <td>0.7</td>\n      <td>0.9</td>\n      <td>0.9</td>\n      <td>1.2</td>\n      <td>0.9</td>\n    </tr>\n  </tbody>\n</table>\n<p>356 rows × 85 columns</p>\n</div>"
     },
     "execution_count": 2,
     "metadata": {},
     "output_type": "execute_result"
    }
   ],
   "source": [
    "# read parameters table\n",
    "para = pd.read_excel(f'./../../TEAM-Kenya_data_out/original-team-uk-data/parameters.xlsx')\n",
    "para"
   ],
   "metadata": {
    "collapsed": false,
    "ExecuteTime": {
     "end_time": "2024-02-01T16:14:50.592445400Z",
     "start_time": "2024-02-01T16:14:49.868771600Z"
    }
   }
  },
  {
   "cell_type": "code",
   "execution_count": 3,
   "outputs": [],
   "source": [
    "# create a dictionary for data to be entered - PKM in BILLION pkm per year Old\n",
    "# pkm = {'NM':3,  # guess\n",
    "#        'Bic':1,  # guess\n",
    "#        'Moto':0.15*52.485,  # modal split from ITDP report; multiplied by total road pkm (Kenya SDK)\n",
    "#        # 'CAR':0.5*52.485,  # OLD! modal split from ITDP report; multiplied by total road pkm (Kenya SDK)\n",
    "#        'CAR': 11.832*2, # from GIZ 2021_GIZ_TrIGGER_Kenya.xlsx. Vehicle-km = 11,832 million. GIZ/UoN authors assume avg capacity = 2.\n",
    "#        'BUS':0.8*52.485,  # OLD! modal split from ITDP report; multiplied by total road pkm (Kenya SDK)\n",
    "#        'TRAIN':0.113,  # (Kenya SDK)\n",
    "#        'PLANE':9.842}  # Kenya SDK\n",
    "\n",
    "# new, linked up data. \n",
    "pkm = {'NM':22,  # guess\n",
    "       'Bic':2,  # guess\n",
    "       'Moto':7.542,  # modal split from ITDP report; multiplied by total road pkm (Kenya SDK)\n",
    "       'CAR': 9.903, # from GIZ 2021_GIZ_TrIGGER_Kenya.xlsx. Vehicle-km = 11,832 million. GIZ/UoN authors assume avg capacity = 2.\n",
    "       'BUS': 35.040,  # from GIZ 2021_GIZ_TrIGGER_Kenya.xlsx\n",
    "       'TRAIN': 0.113,  # (Kenya SDK)\n",
    "       'PLANE': 0.4921}  # UNDESA - assume 5% of total air pkm is domestic\n",
    "\n",
    "# create a dictionary for data to be entered - TKM\n",
    "tkm = {'SHIP_I':1.506228229,  # assumed to be twice rail (same as UK)\n",
    "       'SHIP_C':10.506228229,\n",
    "       'SHIP_M':0,\n",
    "       'TRAIN':5.506228229,  # from UNDESA data (Kenya SDK)\n",
    "       'TRUCK':8.855190131,  # from UNDESA data (Kenya SDK)\n",
    "       'Plane':0.294965258}  # from UNDESA data (Kenya SDK)"
   ],
   "metadata": {
    "collapsed": false,
    "ExecuteTime": {
     "end_time": "2024-02-01T16:14:50.592445400Z",
     "start_time": "2024-02-01T16:14:50.584915900Z"
    }
   }
  },
  {
   "cell_type": "code",
   "execution_count": 4,
   "outputs": [],
   "source": [
    "# only filling in for the base year.\n",
    "for pcat in pkm:\n",
    "       para.at[0, f'P_{pcat}_a_GDP'] = pkm[pcat]\n",
    "\n",
    "for fcat in tkm:\n",
    "       para.at[0, f'F_{fcat}_a_GDP'] = tkm[fcat]"
   ],
   "metadata": {
    "collapsed": false,
    "ExecuteTime": {
     "end_time": "2024-02-01T16:14:50.596474800Z",
     "start_time": "2024-02-01T16:14:50.585421500Z"
    }
   }
  },
  {
   "cell_type": "code",
   "execution_count": null,
   "outputs": [],
   "source": [
    "para"
   ],
   "metadata": {
    "collapsed": false
   }
  },
  {
   "cell_type": "code",
   "execution_count": 6,
   "outputs": [],
   "source": [
    "para.to_csv(f'./../../TEAM-Kenya_data_out/base-case-kenya-data/parameters_TEAM-Kenya.csv')"
   ],
   "metadata": {
    "collapsed": false,
    "ExecuteTime": {
     "end_time": "2024-02-01T16:14:50.674618900Z",
     "start_time": "2024-02-01T16:14:50.616383800Z"
    }
   }
  }
 ],
 "metadata": {
  "kernelspec": {
   "display_name": "Python 3",
   "language": "python",
   "name": "python3"
  },
  "language_info": {
   "codemirror_mode": {
    "name": "ipython",
    "version": 2
   },
   "file_extension": ".py",
   "mimetype": "text/x-python",
   "name": "python",
   "nbconvert_exporter": "python",
   "pygments_lexer": "ipython2",
   "version": "2.7.6"
  }
 },
 "nbformat": 4,
 "nbformat_minor": 0
}
