{
 "cells": [
  {
   "cell_type": "markdown",
   "source": [
    "This notebook enters data in mode shares data (trip length)\n",
    "\n",
    "Process & philosphy:\n",
    "1. Data in Kenya for mode shares is very limited. We have the GIZ Trigger spread sheet, and the overall road pkm value from UNDESA.\n",
    "2. We use the vehicle-km in GIZ Trigger, multiplied by the assumed occupancy rates of vehicles (Table 7) in the GIZ/UoN report, to generate pkm values for each mode. These do not match the UNDESA values, so they are scaled to match the UNDESA total.\n",
    "3. We then take the UK data and sum td per person for each mode. We divide the total pkm by mode in Kenya by that number, to generate a scaling dictionary for all modes.\n",
    "4. The distribution of trips by distance for each mode is assumed the same for the UK and Kenya, in the absence of other data."
   ],
   "metadata": {
    "collapsed": false
   }
  },
  {
   "cell_type": "code",
   "execution_count": 21,
   "outputs": [],
   "source": [
    "import pandas as pd"
   ],
   "metadata": {
    "collapsed": false,
    "ExecuteTime": {
     "end_time": "2023-08-10T11:04:19.445793200Z",
     "start_time": "2023-08-10T11:04:19.419922500Z"
    }
   }
  },
  {
   "cell_type": "code",
   "execution_count": 22,
   "outputs": [
    {
     "data": {
      "text/plain": "      ScenarioID  CountryID  PolicyID  Year  triplenID  modeID          td\n0              1          9         0  2012          1       1   56.221958\n1              1          9         0  2012          1       2    1.273087\n2              1          9         0  2012          1       3   12.423084\n3              1          9         0  2012          1       4    7.458504\n4              1          9         0  2012          1       5    0.038439\n...          ...        ...       ...   ...        ...     ...         ...\n8539           1          9         0  2100          8       8  221.572479\n8540           1          9         0  2100          8       9   60.330936\n8541           1          9         0  2100          8      10    3.761879\n8542           1          9         0  2100          8      11   14.086174\n8543           1          9         0  2100          8      12    2.828112\n\n[8544 rows x 7 columns]",
      "text/html": "<div>\n<style scoped>\n    .dataframe tbody tr th:only-of-type {\n        vertical-align: middle;\n    }\n\n    .dataframe tbody tr th {\n        vertical-align: top;\n    }\n\n    .dataframe thead th {\n        text-align: right;\n    }\n</style>\n<table border=\"1\" class=\"dataframe\">\n  <thead>\n    <tr style=\"text-align: right;\">\n      <th></th>\n      <th>ScenarioID</th>\n      <th>CountryID</th>\n      <th>PolicyID</th>\n      <th>Year</th>\n      <th>triplenID</th>\n      <th>modeID</th>\n      <th>td</th>\n    </tr>\n  </thead>\n  <tbody>\n    <tr>\n      <th>0</th>\n      <td>1</td>\n      <td>9</td>\n      <td>0</td>\n      <td>2012</td>\n      <td>1</td>\n      <td>1</td>\n      <td>56.221958</td>\n    </tr>\n    <tr>\n      <th>1</th>\n      <td>1</td>\n      <td>9</td>\n      <td>0</td>\n      <td>2012</td>\n      <td>1</td>\n      <td>2</td>\n      <td>1.273087</td>\n    </tr>\n    <tr>\n      <th>2</th>\n      <td>1</td>\n      <td>9</td>\n      <td>0</td>\n      <td>2012</td>\n      <td>1</td>\n      <td>3</td>\n      <td>12.423084</td>\n    </tr>\n    <tr>\n      <th>3</th>\n      <td>1</td>\n      <td>9</td>\n      <td>0</td>\n      <td>2012</td>\n      <td>1</td>\n      <td>4</td>\n      <td>7.458504</td>\n    </tr>\n    <tr>\n      <th>4</th>\n      <td>1</td>\n      <td>9</td>\n      <td>0</td>\n      <td>2012</td>\n      <td>1</td>\n      <td>5</td>\n      <td>0.038439</td>\n    </tr>\n    <tr>\n      <th>...</th>\n      <td>...</td>\n      <td>...</td>\n      <td>...</td>\n      <td>...</td>\n      <td>...</td>\n      <td>...</td>\n      <td>...</td>\n    </tr>\n    <tr>\n      <th>8539</th>\n      <td>1</td>\n      <td>9</td>\n      <td>0</td>\n      <td>2100</td>\n      <td>8</td>\n      <td>8</td>\n      <td>221.572479</td>\n    </tr>\n    <tr>\n      <th>8540</th>\n      <td>1</td>\n      <td>9</td>\n      <td>0</td>\n      <td>2100</td>\n      <td>8</td>\n      <td>9</td>\n      <td>60.330936</td>\n    </tr>\n    <tr>\n      <th>8541</th>\n      <td>1</td>\n      <td>9</td>\n      <td>0</td>\n      <td>2100</td>\n      <td>8</td>\n      <td>10</td>\n      <td>3.761879</td>\n    </tr>\n    <tr>\n      <th>8542</th>\n      <td>1</td>\n      <td>9</td>\n      <td>0</td>\n      <td>2100</td>\n      <td>8</td>\n      <td>11</td>\n      <td>14.086174</td>\n    </tr>\n    <tr>\n      <th>8543</th>\n      <td>1</td>\n      <td>9</td>\n      <td>0</td>\n      <td>2100</td>\n      <td>8</td>\n      <td>12</td>\n      <td>2.828112</td>\n    </tr>\n  </tbody>\n</table>\n<p>8544 rows × 7 columns</p>\n</div>"
     },
     "execution_count": 22,
     "metadata": {},
     "output_type": "execute_result"
    }
   ],
   "source": [
    "mode_shares = pd.read_excel(f'./../../TEAM-Kenya_data_out/original-team-uk-data/Mode_Shares_TripLength.xlsx')\n",
    "mode_shares"
   ],
   "metadata": {
    "collapsed": false,
    "ExecuteTime": {
     "end_time": "2023-08-10T11:04:20.144520800Z",
     "start_time": "2023-08-10T11:04:19.420935600Z"
    }
   }
  },
  {
   "cell_type": "code",
   "execution_count": 23,
   "outputs": [],
   "source": [
    "# create blank mode_scaling dictionary\n",
    "mode_scaling = {}\n",
    "for d in range(1,13):\n",
    "    mode_scaling[d] = 0 \n",
    "\n",
    "# create modeID lookup table from table to TEAM modes.\n",
    "modeID_lookup = {1: 'Walk', \n",
    "                 2: 'Bike', \n",
    "                 3: 'CarDriver', \n",
    "                 4: 'CarPass', \n",
    "                 5: 'Moto', \n",
    "                 6: 'LocalBus', \n",
    "                 7: 'Coach', \n",
    "                 8: 'RailTube',\n",
    "                 9: 'OtherPriv', \n",
    "                 10: 'Taxi',\n",
    "                 11: 'Air', \n",
    "                 12: 'OtherPub'}"
   ],
   "metadata": {
    "collapsed": false,
    "ExecuteTime": {
     "end_time": "2023-08-10T11:04:20.144520800Z",
     "start_time": "2023-08-10T11:04:20.143508400Z"
    }
   }
  },
  {
   "cell_type": "code",
   "execution_count": 24,
   "outputs": [],
   "source": [
    "# use data from GIZ Trigger (2021) --> vkm by mode, with occupancy factors from https://www.changing-transport.org/wp-content/uploads/2018_GIZ_INFRAS_Transport_Mitigation_Options_Kenya.pdf\n",
    "\n",
    "# create a dictionary for GIZ data - pkm derived from vkm and occupancy rates\n",
    "\n",
    "# BILLION pkm\n",
    "kenya_pkm = {'Walk': 22,  # guess - no data. Assume roughly twice that of UK person.\n",
    "       'Bike': 2,  # guess - no data. Assume roughly that of UK person.\n",
    "       'CarDriver': 0.65 * 9.903,  # See Excel sheet data/sources/2021_GIZ_TrIGGER_Kenya-withworkings.xlsx\n",
    "       'CarPass': 0.3 * 9.903,  # See Excel sheet data/sources/2021_GIZ_TrIGGER_Kenya-withworkings.xlsx\n",
    "       'Moto': 7.542,   # See Excel sheet data/sources/2021_GIZ_TrIGGER_Kenya-withworkings.xlsx\n",
    "       'LocalBus': 10.357 + 18.609,   # See Excel sheet data/sources/2021_GIZ_TrIGGER_Kenya-withworkings.xlsx\n",
    "       'Coach': 6.075,  # See Excel sheet data/sources/2021_GIZ_TrIGGER_Kenya-withworkings.xlsx\n",
    "       'RailTube': 0.113,  # See Excel sheet data/sources/2021_GIZ_TrIGGER_Kenya-withworkings.xlsx\n",
    "       'OtherPriv': 0.02 * 9.903, \n",
    "       'Taxi': 0.03 * 9.903, \n",
    "       'Air': 0.05 * 9.842,  # UNDESA - assume 5% of total air pkm is domestic\n",
    "       'OtherPub': 0.001}"
   ],
   "metadata": {
    "collapsed": false,
    "ExecuteTime": {
     "end_time": "2023-08-10T11:04:20.151693200Z",
     "start_time": "2023-08-10T11:04:20.144520800Z"
    }
   }
  },
  {
   "cell_type": "code",
   "execution_count": 25,
   "outputs": [],
   "source": [
    "# now we will sum up the td's in the uk data, to derive multiplications from the UK data to the Kenya data\n",
    "Kenya_pop = 43700000  # 2012\n",
    "UK_pop = 63700000  # 2012\n",
    "km_per_mile = 1.60934 # the td data is in miles...\n",
    "\n",
    "for mode in mode_scaling:\n",
    "    \n",
    "    uk_td_by_mode = mode_shares[(mode_shares.Year == 2012) & (mode_shares.modeID == mode)]['td'].sum() * km_per_mile  # this is in MILES so convert to km!!!!!\n",
    "    \n",
    "    # fill data in mode_scaling dictionary\n",
    "    mode_scaling[mode] = (kenya_pkm[modeID_lookup[mode]] * 10**9 / Kenya_pop) / uk_td_by_mode"
   ],
   "metadata": {
    "collapsed": false,
    "ExecuteTime": {
     "end_time": "2023-08-10T11:04:20.208007900Z",
     "start_time": "2023-08-10T11:04:20.157203200Z"
    }
   }
  },
  {
   "cell_type": "code",
   "execution_count": 26,
   "outputs": [
    {
     "data": {
      "text/plain": "{1: 1.9497685259717847,\n 2: 0.5373066085729336,\n 3: 0.027763272622613577,\n 4: 0.023170865017151713,\n 5: 2.780564418548479,\n 6: 1.413125463726313,\n 7: 1.3196025331477448,\n 8: 0.0025470928700848947,\n 9: 0.02962646401405987,\n 10: 0.08720364970251844,\n 11: 0.24045471297550713,\n 12: 0.00018894024085735914}"
     },
     "execution_count": 26,
     "metadata": {},
     "output_type": "execute_result"
    }
   ],
   "source": [
    "mode_scaling"
   ],
   "metadata": {
    "collapsed": false,
    "ExecuteTime": {
     "end_time": "2023-08-10T11:04:20.240082600Z",
     "start_time": "2023-08-10T11:04:20.165043700Z"
    }
   }
  },
  {
   "cell_type": "code",
   "execution_count": 27,
   "outputs": [
    {
     "data": {
      "text/plain": "      ScenarioID  CountryID  PolicyID  Year  triplenID  modeID          td\n0              1          9         0  2012          1       1  109.619804\n1              1          9         0  2012          1       2    0.684038\n2              1          9         0  2012          1       3    0.344905\n3              1          9         0  2012          1       4    0.172820\n4              1          9         0  2012          1       5    0.106883\n...          ...        ...       ...   ...        ...     ...         ...\n8539           1          9         0  2100          8       8    0.564366\n8540           1          9         0  2100          8       9    1.787392\n8541           1          9         0  2100          8      10    0.328050\n8542           1          9         0  2100          8      11    3.387087\n8543           1          9         0  2100          8      12    0.000534\n\n[8544 rows x 7 columns]",
      "text/html": "<div>\n<style scoped>\n    .dataframe tbody tr th:only-of-type {\n        vertical-align: middle;\n    }\n\n    .dataframe tbody tr th {\n        vertical-align: top;\n    }\n\n    .dataframe thead th {\n        text-align: right;\n    }\n</style>\n<table border=\"1\" class=\"dataframe\">\n  <thead>\n    <tr style=\"text-align: right;\">\n      <th></th>\n      <th>ScenarioID</th>\n      <th>CountryID</th>\n      <th>PolicyID</th>\n      <th>Year</th>\n      <th>triplenID</th>\n      <th>modeID</th>\n      <th>td</th>\n    </tr>\n  </thead>\n  <tbody>\n    <tr>\n      <th>0</th>\n      <td>1</td>\n      <td>9</td>\n      <td>0</td>\n      <td>2012</td>\n      <td>1</td>\n      <td>1</td>\n      <td>109.619804</td>\n    </tr>\n    <tr>\n      <th>1</th>\n      <td>1</td>\n      <td>9</td>\n      <td>0</td>\n      <td>2012</td>\n      <td>1</td>\n      <td>2</td>\n      <td>0.684038</td>\n    </tr>\n    <tr>\n      <th>2</th>\n      <td>1</td>\n      <td>9</td>\n      <td>0</td>\n      <td>2012</td>\n      <td>1</td>\n      <td>3</td>\n      <td>0.344905</td>\n    </tr>\n    <tr>\n      <th>3</th>\n      <td>1</td>\n      <td>9</td>\n      <td>0</td>\n      <td>2012</td>\n      <td>1</td>\n      <td>4</td>\n      <td>0.172820</td>\n    </tr>\n    <tr>\n      <th>4</th>\n      <td>1</td>\n      <td>9</td>\n      <td>0</td>\n      <td>2012</td>\n      <td>1</td>\n      <td>5</td>\n      <td>0.106883</td>\n    </tr>\n    <tr>\n      <th>...</th>\n      <td>...</td>\n      <td>...</td>\n      <td>...</td>\n      <td>...</td>\n      <td>...</td>\n      <td>...</td>\n      <td>...</td>\n    </tr>\n    <tr>\n      <th>8539</th>\n      <td>1</td>\n      <td>9</td>\n      <td>0</td>\n      <td>2100</td>\n      <td>8</td>\n      <td>8</td>\n      <td>0.564366</td>\n    </tr>\n    <tr>\n      <th>8540</th>\n      <td>1</td>\n      <td>9</td>\n      <td>0</td>\n      <td>2100</td>\n      <td>8</td>\n      <td>9</td>\n      <td>1.787392</td>\n    </tr>\n    <tr>\n      <th>8541</th>\n      <td>1</td>\n      <td>9</td>\n      <td>0</td>\n      <td>2100</td>\n      <td>8</td>\n      <td>10</td>\n      <td>0.328050</td>\n    </tr>\n    <tr>\n      <th>8542</th>\n      <td>1</td>\n      <td>9</td>\n      <td>0</td>\n      <td>2100</td>\n      <td>8</td>\n      <td>11</td>\n      <td>3.387087</td>\n    </tr>\n    <tr>\n      <th>8543</th>\n      <td>1</td>\n      <td>9</td>\n      <td>0</td>\n      <td>2100</td>\n      <td>8</td>\n      <td>12</td>\n      <td>0.000534</td>\n    </tr>\n  </tbody>\n</table>\n<p>8544 rows × 7 columns</p>\n</div>"
     },
     "execution_count": 27,
     "metadata": {},
     "output_type": "execute_result"
    }
   ],
   "source": [
    "for mode in mode_scaling:\n",
    "    mode_shares.loc[mode_shares[mode_shares.modeID == mode].index.tolist(), 'td'] *= mode_scaling[mode]\n",
    "\n",
    "mode_shares"
   ],
   "metadata": {
    "collapsed": false,
    "ExecuteTime": {
     "end_time": "2023-08-10T11:04:20.257234300Z",
     "start_time": "2023-08-10T11:04:20.170251400Z"
    }
   }
  },
  {
   "cell_type": "code",
   "execution_count": 28,
   "outputs": [],
   "source": [
    "mode_shares.to_csv(f'./../../TEAM-Kenya_data_out/base-case-kenya-data/mode_shares_triplength_team_kenya.csv', index=False)"
   ],
   "metadata": {
    "collapsed": false,
    "ExecuteTime": {
     "end_time": "2023-08-10T11:04:20.257234300Z",
     "start_time": "2023-08-10T11:04:20.198004600Z"
    }
   }
  }
 ],
 "metadata": {
  "kernelspec": {
   "display_name": "Python 3",
   "language": "python",
   "name": "python3"
  },
  "language_info": {
   "codemirror_mode": {
    "name": "ipython",
    "version": 2
   },
   "file_extension": ".py",
   "mimetype": "text/x-python",
   "name": "python",
   "nbconvert_exporter": "python",
   "pygments_lexer": "ipython2",
   "version": "2.7.6"
  }
 },
 "nbformat": 4,
 "nbformat_minor": 0
}
