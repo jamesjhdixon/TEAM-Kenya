{
 "cells": [
  {
   "cell_type": "markdown",
   "source": [
    "this notebook enters data in mode ahrares data (trip length)"
   ],
   "metadata": {
    "collapsed": false,
    "pycharm": {
     "name": "#%% md\n"
    }
   }
  },
  {
   "cell_type": "code",
   "execution_count": 1,
   "outputs": [],
   "source": [
    "import pandas as pd"
   ],
   "metadata": {
    "collapsed": false,
    "pycharm": {
     "name": "#%%\n"
    }
   }
  },
  {
   "cell_type": "code",
   "execution_count": 2,
   "outputs": [
    {
     "data": {
      "text/plain": "      ScenarioID  CountryID  PolicyID  Year  triplenID  modeID          td\n0              1          9         0  2012          1       1   56.221958\n1              1          9         0  2012          1       2    1.273087\n2              1          9         0  2012          1       3   12.423084\n3              1          9         0  2012          1       4    7.458504\n4              1          9         0  2012          1       5    0.038439\n...          ...        ...       ...   ...        ...     ...         ...\n8539           1          9         0  2100          8       8  221.572479\n8540           1          9         0  2100          8       9   60.330936\n8541           1          9         0  2100          8      10    3.761879\n8542           1          9         0  2100          8      11   14.086174\n8543           1          9         0  2100          8      12    2.828112\n\n[8544 rows x 7 columns]",
      "text/html": "<div>\n<style scoped>\n    .dataframe tbody tr th:only-of-type {\n        vertical-align: middle;\n    }\n\n    .dataframe tbody tr th {\n        vertical-align: top;\n    }\n\n    .dataframe thead th {\n        text-align: right;\n    }\n</style>\n<table border=\"1\" class=\"dataframe\">\n  <thead>\n    <tr style=\"text-align: right;\">\n      <th></th>\n      <th>ScenarioID</th>\n      <th>CountryID</th>\n      <th>PolicyID</th>\n      <th>Year</th>\n      <th>triplenID</th>\n      <th>modeID</th>\n      <th>td</th>\n    </tr>\n  </thead>\n  <tbody>\n    <tr>\n      <th>0</th>\n      <td>1</td>\n      <td>9</td>\n      <td>0</td>\n      <td>2012</td>\n      <td>1</td>\n      <td>1</td>\n      <td>56.221958</td>\n    </tr>\n    <tr>\n      <th>1</th>\n      <td>1</td>\n      <td>9</td>\n      <td>0</td>\n      <td>2012</td>\n      <td>1</td>\n      <td>2</td>\n      <td>1.273087</td>\n    </tr>\n    <tr>\n      <th>2</th>\n      <td>1</td>\n      <td>9</td>\n      <td>0</td>\n      <td>2012</td>\n      <td>1</td>\n      <td>3</td>\n      <td>12.423084</td>\n    </tr>\n    <tr>\n      <th>3</th>\n      <td>1</td>\n      <td>9</td>\n      <td>0</td>\n      <td>2012</td>\n      <td>1</td>\n      <td>4</td>\n      <td>7.458504</td>\n    </tr>\n    <tr>\n      <th>4</th>\n      <td>1</td>\n      <td>9</td>\n      <td>0</td>\n      <td>2012</td>\n      <td>1</td>\n      <td>5</td>\n      <td>0.038439</td>\n    </tr>\n    <tr>\n      <th>...</th>\n      <td>...</td>\n      <td>...</td>\n      <td>...</td>\n      <td>...</td>\n      <td>...</td>\n      <td>...</td>\n      <td>...</td>\n    </tr>\n    <tr>\n      <th>8539</th>\n      <td>1</td>\n      <td>9</td>\n      <td>0</td>\n      <td>2100</td>\n      <td>8</td>\n      <td>8</td>\n      <td>221.572479</td>\n    </tr>\n    <tr>\n      <th>8540</th>\n      <td>1</td>\n      <td>9</td>\n      <td>0</td>\n      <td>2100</td>\n      <td>8</td>\n      <td>9</td>\n      <td>60.330936</td>\n    </tr>\n    <tr>\n      <th>8541</th>\n      <td>1</td>\n      <td>9</td>\n      <td>0</td>\n      <td>2100</td>\n      <td>8</td>\n      <td>10</td>\n      <td>3.761879</td>\n    </tr>\n    <tr>\n      <th>8542</th>\n      <td>1</td>\n      <td>9</td>\n      <td>0</td>\n      <td>2100</td>\n      <td>8</td>\n      <td>11</td>\n      <td>14.086174</td>\n    </tr>\n    <tr>\n      <th>8543</th>\n      <td>1</td>\n      <td>9</td>\n      <td>0</td>\n      <td>2100</td>\n      <td>8</td>\n      <td>12</td>\n      <td>2.828112</td>\n    </tr>\n  </tbody>\n</table>\n<p>8544 rows × 7 columns</p>\n</div>"
     },
     "execution_count": 2,
     "metadata": {},
     "output_type": "execute_result"
    }
   ],
   "source": [
    "mode_shares = pd.read_excel(f'./TEAM-Kenya_data_out/Mode_Shares_TripLength.xlsx')\n",
    "mode_shares"
   ],
   "metadata": {
    "collapsed": false,
    "pycharm": {
     "name": "#%%\n"
    }
   }
  },
  {
   "cell_type": "markdown",
   "source": [],
   "metadata": {
    "collapsed": false,
    "pycharm": {
     "name": "#%% md\n"
    }
   }
  },
  {
   "cell_type": "code",
   "execution_count": 3,
   "outputs": [],
   "source": [
    "# generate scaling dictionary UK --> Kenya\n",
    "# 1\twalk\n",
    "# 2\tbicycle\n",
    "# 3\tcar/van driver\n",
    "# 4\tcar/van passenger\n",
    "# 5\tmotorcycle + e-bike\n",
    "# 6\tlocal bus\n",
    "# 7\tcoach\n",
    "# 8\trail (surface)\n",
    "# 9\tother private (+car clubs)\n",
    "# 10\ttaxi + Uber\n",
    "# 11\tair\n",
    "# 12\tother public + underground\n",
    "\n",
    "mode_scaling = {1:2.5,\n",
    "           2:1.2,\n",
    "           3:0.05,\n",
    "           4:0.05,\n",
    "           5:1.5,\n",
    "           6:2,\n",
    "           7:0.8,\n",
    "           8:0.05,\n",
    "           9:0.1,\n",
    "           10:0.6,\n",
    "           11:0.1,\n",
    "           12:0.05}"
   ],
   "metadata": {
    "collapsed": false,
    "pycharm": {
     "name": "#%%\n"
    }
   }
  },
  {
   "cell_type": "code",
   "execution_count": 4,
   "outputs": [
    {
     "data": {
      "text/plain": "      ScenarioID  CountryID  PolicyID  Year  triplenID  modeID          td\n0              1          9         0  2012          1       1  140.554895\n1              1          9         0  2012          1       2    1.527704\n2              1          9         0  2012          1       3    0.621154\n3              1          9         0  2012          1       4    0.372925\n4              1          9         0  2012          1       5    0.057659\n...          ...        ...       ...   ...        ...     ...         ...\n8539           1          9         0  2100          8       8   11.078624\n8540           1          9         0  2100          8       9    6.033094\n8541           1          9         0  2100          8      10    2.257127\n8542           1          9         0  2100          8      11    1.408617\n8543           1          9         0  2100          8      12    0.141406\n\n[8544 rows x 7 columns]",
      "text/html": "<div>\n<style scoped>\n    .dataframe tbody tr th:only-of-type {\n        vertical-align: middle;\n    }\n\n    .dataframe tbody tr th {\n        vertical-align: top;\n    }\n\n    .dataframe thead th {\n        text-align: right;\n    }\n</style>\n<table border=\"1\" class=\"dataframe\">\n  <thead>\n    <tr style=\"text-align: right;\">\n      <th></th>\n      <th>ScenarioID</th>\n      <th>CountryID</th>\n      <th>PolicyID</th>\n      <th>Year</th>\n      <th>triplenID</th>\n      <th>modeID</th>\n      <th>td</th>\n    </tr>\n  </thead>\n  <tbody>\n    <tr>\n      <th>0</th>\n      <td>1</td>\n      <td>9</td>\n      <td>0</td>\n      <td>2012</td>\n      <td>1</td>\n      <td>1</td>\n      <td>140.554895</td>\n    </tr>\n    <tr>\n      <th>1</th>\n      <td>1</td>\n      <td>9</td>\n      <td>0</td>\n      <td>2012</td>\n      <td>1</td>\n      <td>2</td>\n      <td>1.527704</td>\n    </tr>\n    <tr>\n      <th>2</th>\n      <td>1</td>\n      <td>9</td>\n      <td>0</td>\n      <td>2012</td>\n      <td>1</td>\n      <td>3</td>\n      <td>0.621154</td>\n    </tr>\n    <tr>\n      <th>3</th>\n      <td>1</td>\n      <td>9</td>\n      <td>0</td>\n      <td>2012</td>\n      <td>1</td>\n      <td>4</td>\n      <td>0.372925</td>\n    </tr>\n    <tr>\n      <th>4</th>\n      <td>1</td>\n      <td>9</td>\n      <td>0</td>\n      <td>2012</td>\n      <td>1</td>\n      <td>5</td>\n      <td>0.057659</td>\n    </tr>\n    <tr>\n      <th>...</th>\n      <td>...</td>\n      <td>...</td>\n      <td>...</td>\n      <td>...</td>\n      <td>...</td>\n      <td>...</td>\n      <td>...</td>\n    </tr>\n    <tr>\n      <th>8539</th>\n      <td>1</td>\n      <td>9</td>\n      <td>0</td>\n      <td>2100</td>\n      <td>8</td>\n      <td>8</td>\n      <td>11.078624</td>\n    </tr>\n    <tr>\n      <th>8540</th>\n      <td>1</td>\n      <td>9</td>\n      <td>0</td>\n      <td>2100</td>\n      <td>8</td>\n      <td>9</td>\n      <td>6.033094</td>\n    </tr>\n    <tr>\n      <th>8541</th>\n      <td>1</td>\n      <td>9</td>\n      <td>0</td>\n      <td>2100</td>\n      <td>8</td>\n      <td>10</td>\n      <td>2.257127</td>\n    </tr>\n    <tr>\n      <th>8542</th>\n      <td>1</td>\n      <td>9</td>\n      <td>0</td>\n      <td>2100</td>\n      <td>8</td>\n      <td>11</td>\n      <td>1.408617</td>\n    </tr>\n    <tr>\n      <th>8543</th>\n      <td>1</td>\n      <td>9</td>\n      <td>0</td>\n      <td>2100</td>\n      <td>8</td>\n      <td>12</td>\n      <td>0.141406</td>\n    </tr>\n  </tbody>\n</table>\n<p>8544 rows × 7 columns</p>\n</div>"
     },
     "execution_count": 4,
     "metadata": {},
     "output_type": "execute_result"
    }
   ],
   "source": [
    "for mode in mode_scaling:\n",
    "    mode_shares.loc[mode_shares[mode_shares.modeID == mode].index.tolist(), 'td'] *= mode_scaling[mode]\n",
    "\n",
    "mode_shares"
   ],
   "metadata": {
    "collapsed": false,
    "pycharm": {
     "name": "#%%\n"
    }
   }
  },
  {
   "cell_type": "code",
   "execution_count": 5,
   "outputs": [],
   "source": [
    "mode_shares.to_csv(f'./TEAM-Kenya_data_out/mode_shares_triplength_team_kenya.csv', index=False)"
   ],
   "metadata": {
    "collapsed": false,
    "pycharm": {
     "name": "#%%\n"
    }
   }
  }
 ],
 "metadata": {
  "kernelspec": {
   "display_name": "Python 3",
   "language": "python",
   "name": "python3"
  },
  "language_info": {
   "codemirror_mode": {
    "name": "ipython",
    "version": 2
   },
   "file_extension": ".py",
   "mimetype": "text/x-python",
   "name": "python",
   "nbconvert_exporter": "python",
   "pygments_lexer": "ipython2",
   "version": "2.7.6"
  }
 },
 "nbformat": 4,
 "nbformat_minor": 0
}