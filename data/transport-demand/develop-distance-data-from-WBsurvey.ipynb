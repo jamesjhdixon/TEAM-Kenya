{
 "cells": [
  {
   "cell_type": "markdown",
   "source": [
    "This notebook is based on Eric's work. It takes the WB travel survey stata file and tries to determine distance values based on journey time.\n",
    "\n",
    "I think it's fundamentally flawed because it's based on 'what is travel mode of person X', rather than trip count data. Discounting.  "
   ],
   "metadata": {
    "collapsed": false
   },
   "id": "3f7da6d36b4f8f7c"
  },
  {
   "cell_type": "code",
   "execution_count": 30,
   "outputs": [],
   "source": [
    "import pandas as pd"
   ],
   "metadata": {
    "collapsed": false,
    "ExecuteTime": {
     "start_time": "2023-08-10T13:25:07.378404800Z"
    }
   },
   "id": "initial_id"
  },
  {
   "cell_type": "code",
   "execution_count": 31,
   "outputs": [],
   "source": [
    "# import stata file\n",
    "df = pd.read_stata(f'./../WB_travelsurvey.dta')"
   ],
   "metadata": {
    "collapsed": false,
    "ExecuteTime": {
     "end_time": "2023-08-10T13:25:10.194366600Z",
     "start_time": "2023-08-10T13:25:07.384941300Z"
    }
   },
   "id": "77cff937b690103b"
  },
  {
   "cell_type": "code",
   "execution_count": 32,
   "outputs": [],
   "source": [
    "# transport Qs are mode to work and time to work\n",
    "\n",
    "main_mode_cols = ['age_1', 'age_2', 'age_3', 'age_4', 'age_5', 'age_6', 'age_7', 'age_8', 'age_9', 'age_10', 'age_11',\n",
    "                  'age_12', 'age_13', 'age_14', 'age_15',\n",
    "                  'q14d_1', 'q14d_2', 'q14d_3', 'q14d_4', 'q14d_5', 'q14d_6', 'q14d_7', 'q14d_8', 'q14d_9', 'q14d_10',\n",
    "                  'q14d_11', 'q14d_12', 'q14d_13', 'q14d_14', 'q14d_15',\n",
    "                  'q14l_1', 'q14l_2', 'q14l_3', 'q14l_4', 'q14l_5', 'q14l_6', 'q14l_7', 'q14l_8', 'q14l_9', 'q14l_10',\n",
    "                  'q14l_11', 'q14l_12', 'q14l_13', 'q14l_14', 'q14l_15', 'q14l_1_99', 'q14l_2_99', 'q14l_3_99',\n",
    "                  'q14l_4_99', 'q14l_5_99', 'q14l_6_99', 'q14l_7_99', 'q14l_8_99', 'q14l_9_99', 'q14l_10_99',\n",
    "                  'q14l_11_99', 'q14l_12_99', 'q14l_13_99', 'q14l_14_99', 'q14l_15_99', 'q14m_1', 'q14m_2', 'q14m_3',\n",
    "                  'q14m_4', 'q14m_5', 'q14m_6', 'q14m_7', 'q14m_8', 'q14m_9', 'q14m_10', 'q14m_11', 'q14m_12',\n",
    "                  'q14m_13', 'q14m_14', 'q14m_15']"
   ],
   "metadata": {
    "collapsed": false,
    "ExecuteTime": {
     "end_time": "2023-08-10T13:25:10.209272100Z",
     "start_time": "2023-08-10T13:25:10.194366600Z"
    }
   },
   "id": "7db563c23d2701c9"
  },
  {
   "cell_type": "code",
   "execution_count": 33,
   "outputs": [
    {
     "data": {
      "text/plain": "       age_1  age_2  age_3  age_4  age_5  age_6  age_7  age_8  age_9  age_10  \\\n0         37     34     -7     -1     -1     -1     -1     -1     -1      -1   \n1         27     25      2     -1     -1     -1     -1     -1     -1      -1   \n2         28     -1     -1     -1     -1     -1     -1     -1     -1      -1   \n3         25     22      8     -7     -1     -1     -1     -1     -1      -1   \n4         27      3     -7     -1     -1     -1     -1     -1     -1      -1   \n...      ...    ...    ...    ...    ...    ...    ...    ...    ...     ...   \n14576     23     -1     -1     -1     -1     -1     -1     -1     -1      -1   \n14577     23     20      0     -1     -1     -1     -1     -1     -1      -1   \n14578     42     21     17     14      9     -1     -1     -1     -1      -1   \n14579     71     51     42     -1     -1     -1     -1     -1     -1      -1   \n14580     76     64     12     10      8     -1     -1     -1     -1      -1   \n\n       ...  q14m_6  q14m_7  q14m_8  q14m_9  q14m_10 q14m_11 q14m_12 q14m_13  \\\n0      ...     NaN     NaN     NaN     NaN      NaN     NaN     NaN     NaN   \n1      ...     NaN     NaN     NaN     NaN      NaN     NaN     NaN     NaN   \n2      ...     NaN     NaN     NaN     NaN      NaN     NaN     NaN     NaN   \n3      ...     NaN     NaN     NaN     NaN      NaN     NaN     NaN     NaN   \n4      ...     NaN     NaN     NaN     NaN      NaN     NaN     NaN     NaN   \n...    ...     ...     ...     ...     ...      ...     ...     ...     ...   \n14576  ...     NaN     NaN     NaN     NaN      NaN     NaN     NaN     NaN   \n14577  ...     NaN     NaN     NaN     NaN      NaN     NaN     NaN     NaN   \n14578  ...     NaN     NaN     NaN     NaN      NaN     NaN     NaN     NaN   \n14579  ...     NaN     NaN     NaN     NaN      NaN     NaN     NaN     NaN   \n14580  ...     NaN     NaN     NaN     NaN      NaN     NaN     NaN     NaN   \n\n      q14m_14 q14m_15  \n0         NaN     NaN  \n1         NaN     NaN  \n2         NaN     NaN  \n3         NaN     NaN  \n4         NaN     NaN  \n...       ...     ...  \n14576     NaN     NaN  \n14577     NaN     NaN  \n14578     NaN     NaN  \n14579     NaN     NaN  \n14580     NaN     NaN  \n\n[14581 rows x 75 columns]",
      "text/html": "<div>\n<style scoped>\n    .dataframe tbody tr th:only-of-type {\n        vertical-align: middle;\n    }\n\n    .dataframe tbody tr th {\n        vertical-align: top;\n    }\n\n    .dataframe thead th {\n        text-align: right;\n    }\n</style>\n<table border=\"1\" class=\"dataframe\">\n  <thead>\n    <tr style=\"text-align: right;\">\n      <th></th>\n      <th>age_1</th>\n      <th>age_2</th>\n      <th>age_3</th>\n      <th>age_4</th>\n      <th>age_5</th>\n      <th>age_6</th>\n      <th>age_7</th>\n      <th>age_8</th>\n      <th>age_9</th>\n      <th>age_10</th>\n      <th>...</th>\n      <th>q14m_6</th>\n      <th>q14m_7</th>\n      <th>q14m_8</th>\n      <th>q14m_9</th>\n      <th>q14m_10</th>\n      <th>q14m_11</th>\n      <th>q14m_12</th>\n      <th>q14m_13</th>\n      <th>q14m_14</th>\n      <th>q14m_15</th>\n    </tr>\n  </thead>\n  <tbody>\n    <tr>\n      <th>0</th>\n      <td>37</td>\n      <td>34</td>\n      <td>-7</td>\n      <td>-1</td>\n      <td>-1</td>\n      <td>-1</td>\n      <td>-1</td>\n      <td>-1</td>\n      <td>-1</td>\n      <td>-1</td>\n      <td>...</td>\n      <td>NaN</td>\n      <td>NaN</td>\n      <td>NaN</td>\n      <td>NaN</td>\n      <td>NaN</td>\n      <td>NaN</td>\n      <td>NaN</td>\n      <td>NaN</td>\n      <td>NaN</td>\n      <td>NaN</td>\n    </tr>\n    <tr>\n      <th>1</th>\n      <td>27</td>\n      <td>25</td>\n      <td>2</td>\n      <td>-1</td>\n      <td>-1</td>\n      <td>-1</td>\n      <td>-1</td>\n      <td>-1</td>\n      <td>-1</td>\n      <td>-1</td>\n      <td>...</td>\n      <td>NaN</td>\n      <td>NaN</td>\n      <td>NaN</td>\n      <td>NaN</td>\n      <td>NaN</td>\n      <td>NaN</td>\n      <td>NaN</td>\n      <td>NaN</td>\n      <td>NaN</td>\n      <td>NaN</td>\n    </tr>\n    <tr>\n      <th>2</th>\n      <td>28</td>\n      <td>-1</td>\n      <td>-1</td>\n      <td>-1</td>\n      <td>-1</td>\n      <td>-1</td>\n      <td>-1</td>\n      <td>-1</td>\n      <td>-1</td>\n      <td>-1</td>\n      <td>...</td>\n      <td>NaN</td>\n      <td>NaN</td>\n      <td>NaN</td>\n      <td>NaN</td>\n      <td>NaN</td>\n      <td>NaN</td>\n      <td>NaN</td>\n      <td>NaN</td>\n      <td>NaN</td>\n      <td>NaN</td>\n    </tr>\n    <tr>\n      <th>3</th>\n      <td>25</td>\n      <td>22</td>\n      <td>8</td>\n      <td>-7</td>\n      <td>-1</td>\n      <td>-1</td>\n      <td>-1</td>\n      <td>-1</td>\n      <td>-1</td>\n      <td>-1</td>\n      <td>...</td>\n      <td>NaN</td>\n      <td>NaN</td>\n      <td>NaN</td>\n      <td>NaN</td>\n      <td>NaN</td>\n      <td>NaN</td>\n      <td>NaN</td>\n      <td>NaN</td>\n      <td>NaN</td>\n      <td>NaN</td>\n    </tr>\n    <tr>\n      <th>4</th>\n      <td>27</td>\n      <td>3</td>\n      <td>-7</td>\n      <td>-1</td>\n      <td>-1</td>\n      <td>-1</td>\n      <td>-1</td>\n      <td>-1</td>\n      <td>-1</td>\n      <td>-1</td>\n      <td>...</td>\n      <td>NaN</td>\n      <td>NaN</td>\n      <td>NaN</td>\n      <td>NaN</td>\n      <td>NaN</td>\n      <td>NaN</td>\n      <td>NaN</td>\n      <td>NaN</td>\n      <td>NaN</td>\n      <td>NaN</td>\n    </tr>\n    <tr>\n      <th>...</th>\n      <td>...</td>\n      <td>...</td>\n      <td>...</td>\n      <td>...</td>\n      <td>...</td>\n      <td>...</td>\n      <td>...</td>\n      <td>...</td>\n      <td>...</td>\n      <td>...</td>\n      <td>...</td>\n      <td>...</td>\n      <td>...</td>\n      <td>...</td>\n      <td>...</td>\n      <td>...</td>\n      <td>...</td>\n      <td>...</td>\n      <td>...</td>\n      <td>...</td>\n      <td>...</td>\n    </tr>\n    <tr>\n      <th>14576</th>\n      <td>23</td>\n      <td>-1</td>\n      <td>-1</td>\n      <td>-1</td>\n      <td>-1</td>\n      <td>-1</td>\n      <td>-1</td>\n      <td>-1</td>\n      <td>-1</td>\n      <td>-1</td>\n      <td>...</td>\n      <td>NaN</td>\n      <td>NaN</td>\n      <td>NaN</td>\n      <td>NaN</td>\n      <td>NaN</td>\n      <td>NaN</td>\n      <td>NaN</td>\n      <td>NaN</td>\n      <td>NaN</td>\n      <td>NaN</td>\n    </tr>\n    <tr>\n      <th>14577</th>\n      <td>23</td>\n      <td>20</td>\n      <td>0</td>\n      <td>-1</td>\n      <td>-1</td>\n      <td>-1</td>\n      <td>-1</td>\n      <td>-1</td>\n      <td>-1</td>\n      <td>-1</td>\n      <td>...</td>\n      <td>NaN</td>\n      <td>NaN</td>\n      <td>NaN</td>\n      <td>NaN</td>\n      <td>NaN</td>\n      <td>NaN</td>\n      <td>NaN</td>\n      <td>NaN</td>\n      <td>NaN</td>\n      <td>NaN</td>\n    </tr>\n    <tr>\n      <th>14578</th>\n      <td>42</td>\n      <td>21</td>\n      <td>17</td>\n      <td>14</td>\n      <td>9</td>\n      <td>-1</td>\n      <td>-1</td>\n      <td>-1</td>\n      <td>-1</td>\n      <td>-1</td>\n      <td>...</td>\n      <td>NaN</td>\n      <td>NaN</td>\n      <td>NaN</td>\n      <td>NaN</td>\n      <td>NaN</td>\n      <td>NaN</td>\n      <td>NaN</td>\n      <td>NaN</td>\n      <td>NaN</td>\n      <td>NaN</td>\n    </tr>\n    <tr>\n      <th>14579</th>\n      <td>71</td>\n      <td>51</td>\n      <td>42</td>\n      <td>-1</td>\n      <td>-1</td>\n      <td>-1</td>\n      <td>-1</td>\n      <td>-1</td>\n      <td>-1</td>\n      <td>-1</td>\n      <td>...</td>\n      <td>NaN</td>\n      <td>NaN</td>\n      <td>NaN</td>\n      <td>NaN</td>\n      <td>NaN</td>\n      <td>NaN</td>\n      <td>NaN</td>\n      <td>NaN</td>\n      <td>NaN</td>\n      <td>NaN</td>\n    </tr>\n    <tr>\n      <th>14580</th>\n      <td>76</td>\n      <td>64</td>\n      <td>12</td>\n      <td>10</td>\n      <td>8</td>\n      <td>-1</td>\n      <td>-1</td>\n      <td>-1</td>\n      <td>-1</td>\n      <td>-1</td>\n      <td>...</td>\n      <td>NaN</td>\n      <td>NaN</td>\n      <td>NaN</td>\n      <td>NaN</td>\n      <td>NaN</td>\n      <td>NaN</td>\n      <td>NaN</td>\n      <td>NaN</td>\n      <td>NaN</td>\n      <td>NaN</td>\n    </tr>\n  </tbody>\n</table>\n<p>14581 rows × 75 columns</p>\n</div>"
     },
     "execution_count": 33,
     "metadata": {},
     "output_type": "execute_result"
    }
   ],
   "source": [
    "# narrow down to transport stuff\n",
    "df = df[main_mode_cols]\n",
    "df"
   ],
   "metadata": {
    "collapsed": false,
    "ExecuteTime": {
     "end_time": "2023-08-10T13:25:10.303968700Z",
     "start_time": "2023-08-10T13:25:10.200748800Z"
    }
   },
   "id": "b0ae171987e25c9d"
  },
  {
   "cell_type": "code",
   "execution_count": 34,
   "outputs": [],
   "source": [
    "values = {'Walk': 0,\n",
    "          'Microbus/Matatu': 0,\n",
    "          'Bodaboda (Bicycle taxi)': 0,\n",
    "          'Other, specify': 0,\n",
    "          'Own bicycle': 0,\n",
    "          'Own vehicle': 0,\n",
    "          'Bus regular': 0,\n",
    "          'Taxi (vehicle)': 0,\n",
    "          'Shared taxi': 0}"
   ],
   "metadata": {
    "collapsed": false,
    "ExecuteTime": {
     "end_time": "2023-08-10T13:25:10.303968700Z",
     "start_time": "2023-08-10T13:25:10.295446400Z"
    }
   },
   "id": "a16c93c8e57f2e88"
  },
  {
   "cell_type": "code",
   "execution_count": 35,
   "outputs": [
    {
     "data": {
      "text/plain": "{'Walk': 9226,\n 'Microbus/Matatu': 1704,\n 'Bodaboda (Bicycle taxi)': 228,\n 'Other, specify': 121,\n 'Own bicycle': 48,\n 'Own vehicle': 45,\n 'Bus regular': 139,\n 'Taxi (vehicle)': 9,\n 'Shared taxi': 0}"
     },
     "execution_count": 35,
     "metadata": {},
     "output_type": "execute_result"
    }
   ],
   "source": [
    "# Count school trips by mode\n",
    "for mode in values:\n",
    "    for q in range(1, 16):\n",
    "        values[mode] += len(df[(df[f'q14l_{q}'] == mode) & (df[f'q14d_{q}'] == 'Currently attending')])\n",
    "values"
   ],
   "metadata": {
    "collapsed": false,
    "ExecuteTime": {
     "end_time": "2023-08-10T13:25:10.430088500Z",
     "start_time": "2023-08-10T13:25:10.295961800Z"
    }
   },
   "id": "d360ae1b5a86b280"
  },
  {
   "cell_type": "code",
   "execution_count": 36,
   "outputs": [
    {
     "name": "stdout",
     "output_type": "stream",
     "text": [
      "11520\n"
     ]
    }
   ],
   "source": [
    "# Count total number of students\n",
    "print(sum(values.values()))"
   ],
   "metadata": {
    "collapsed": false,
    "ExecuteTime": {
     "end_time": "2023-08-10T13:25:10.430088500Z",
     "start_time": "2023-08-10T13:25:10.414106500Z"
    }
   },
   "id": "ee5af0e211c3b6e4"
  },
  {
   "cell_type": "code",
   "execution_count": 37,
   "outputs": [
    {
     "data": {
      "text/plain": "{'Walk': 19336,\n 'Microbus/Matatu': 5845,\n 'Bodaboda (Bicycle taxi)': 1092,\n 'Other, specify': 681,\n 'Own bicycle': 418,\n 'Own vehicle': 338,\n 'Bus regular': 199,\n 'Taxi (vehicle)': 51,\n 'Shared taxi': 0}"
     },
     "execution_count": 37,
     "metadata": {},
     "output_type": "execute_result"
    }
   ],
   "source": [
    "# Count work commute trips by mode\n",
    "for mode in values:\n",
    "    for q in range(1, 16):\n",
    "        values[mode] += len(df[(df[f'q14l_{q}'] == mode) & (df[f'q14d_{q}'] != 'Currently attending')])\n",
    "values"
   ],
   "metadata": {
    "collapsed": false,
    "ExecuteTime": {
     "end_time": "2023-08-10T13:25:10.555995500Z",
     "start_time": "2023-08-10T13:25:10.417081600Z"
    }
   },
   "id": "3462b9579f8dc41"
  },
  {
   "cell_type": "code",
   "execution_count": 39,
   "outputs": [
    {
     "name": "stdout",
     "output_type": "stream",
     "text": [
      "27960\n"
     ]
    }
   ],
   "source": [
    "# Count total number of commuting workers\n",
    "print(sum(values.values()))"
   ],
   "metadata": {
    "collapsed": false,
    "ExecuteTime": {
     "end_time": "2023-08-10T13:25:59.047687300Z",
     "start_time": "2023-08-10T13:25:59.039979200Z"
    }
   },
   "id": "68d509f19f4478a9"
  },
  {
   "cell_type": "code",
   "execution_count": 41,
   "outputs": [
    {
     "name": "stdout",
     "output_type": "stream",
     "text": [
      "number of survey respondents: 43892\n",
      "number of students: 11657\n",
      "number of commuting workers: 32235\n"
     ]
    }
   ],
   "source": [
    "# Count total number of people in this survey\n",
    "people = 0\n",
    "for x in range(1, 16):\n",
    "    people += len(df[df[f'age_{x}'] > 0])\n",
    "print(f'number of survey respondents: {people}')\n",
    "\n",
    "# Count total number of students\n",
    "students = 0\n",
    "for y in range(1, 16):\n",
    "    students += len(df[df[f'q14d_{y}'] == 'Currently attending'])\n",
    "print(f'number of students: {students}')\n",
    "\n",
    "print(f'number of commuting workers: {people - students}')"
   ],
   "metadata": {
    "collapsed": false,
    "ExecuteTime": {
     "end_time": "2023-08-10T13:27:54.631588500Z",
     "start_time": "2023-08-10T13:27:54.559338400Z"
    }
   },
   "id": "10c302385dcf93bc"
  },
  {
   "cell_type": "code",
   "execution_count": 42,
   "outputs": [],
   "source": [
    "# Calculate total trip time in hours of each transport mode\n",
    "triptime = {'Walk': 0,\n",
    "            'Microbus/Matatu': 0,\n",
    "            'Bodaboda (Bicycle taxi)': 0,\n",
    "            'Other, specify': 0,\n",
    "            'Own bicycle': 0,\n",
    "            'Own vehicle': 0,\n",
    "            'Bus regular': 0,\n",
    "            'Taxi (vehicle)': 0,\n",
    "            'Shared taxi': 0}"
   ],
   "metadata": {
    "collapsed": false,
    "ExecuteTime": {
     "end_time": "2023-08-10T13:33:19.132960400Z",
     "start_time": "2023-08-10T13:33:19.128362100Z"
    }
   },
   "id": "c32ef5d83f2ca30f"
  },
  {
   "cell_type": "code",
   "execution_count": 43,
   "outputs": [],
   "source": [
    "for d in range(1, 16):\n",
    "    df[f'q14m_{d}'] = df[f'q14m_{d}'].clip(lower=0)\n"
   ],
   "metadata": {
    "collapsed": false,
    "ExecuteTime": {
     "end_time": "2023-08-10T13:33:31.460726800Z",
     "start_time": "2023-08-10T13:33:31.435375300Z"
    }
   },
   "id": "22e341c403f87a35"
  },
  {
   "cell_type": "code",
   "execution_count": 44,
   "outputs": [
    {
     "data": {
      "text/plain": "{'Walk': 5614.15,\n 'Microbus/Matatu': 5058.566666666666,\n 'Bodaboda (Bicycle taxi)': 307.4833333333333,\n 'Other, specify': 419.9833333333334,\n 'Own bicycle': 148.81666666666666,\n 'Own vehicle': 188.16666666666669,\n 'Bus regular': 135.1833333333333,\n 'Taxi (vehicle)': 14.816666666666668,\n 'Shared taxi': 0.0}"
     },
     "execution_count": 44,
     "metadata": {},
     "output_type": "execute_result"
    }
   ],
   "source": [
    "for mode in triptime:\n",
    "    for a in range(1, 16):\n",
    "        triptime[mode] += df.loc[df[f'q14l_{a}'] == mode, f'q14m_{a}'].sum() / 60\n",
    "triptime"
   ],
   "metadata": {
    "collapsed": false,
    "ExecuteTime": {
     "end_time": "2023-08-10T13:33:41.215013500Z",
     "start_time": "2023-08-10T13:33:41.167707300Z"
    }
   },
   "id": "58f39e28e6dee2a7"
  },
  {
   "cell_type": "code",
   "execution_count": 45,
   "outputs": [],
   "source": [
    "# Calculate total trip distance in miles\n",
    "speed = {'Walk': 3,\n",
    "         'Microbus/Matatu': 20,\n",
    "         'Bodaboda (Bicycle taxi)': 15,\n",
    "         'Other, specify': 15,\n",
    "         'Own bicycle': 10,\n",
    "         'Own vehicle': 30,\n",
    "         'Bus regular': 20,\n",
    "         'Taxi (vehicle)': 30,\n",
    "         'Shared taxi': 30}"
   ],
   "metadata": {
    "collapsed": false,
    "ExecuteTime": {
     "end_time": "2023-08-10T13:34:02.559635400Z",
     "start_time": "2023-08-10T13:34:02.555896200Z"
    }
   },
   "id": "8df23501314740cd"
  },
  {
   "cell_type": "code",
   "execution_count": 46,
   "outputs": [],
   "source": [
    "# Create new columns of travel speed in mph\n",
    "for b in range(1, 16):\n",
    "    df[f'speed_{b}'] = df[f'q14l_{b}'].map(speed)"
   ],
   "metadata": {
    "collapsed": false,
    "ExecuteTime": {
     "end_time": "2023-08-10T13:34:09.862187800Z",
     "start_time": "2023-08-10T13:34:09.815017100Z"
    }
   },
   "id": "7164893520a6c390"
  },
  {
   "cell_type": "code",
   "execution_count": 47,
   "outputs": [],
   "source": [
    "# Create new columns of travel distance of each individual\n",
    "df['speed_9'] = df['speed_9'].astype('float64')\n",
    "df['speed_10'] = df['speed_10'].astype('float64')\n",
    "df['speed_11'] = df['speed_11'].astype('float64')\n",
    "df['speed_12'] = df['speed_12'].astype('float64')\n",
    "df['speed_13'] = df['speed_13'].astype('float64')\n",
    "df['speed_14'] = df['speed_14'].astype('float64')\n",
    "df['speed_15'] = df['speed_15'].astype('float64')"
   ],
   "metadata": {
    "collapsed": false,
    "ExecuteTime": {
     "end_time": "2023-08-10T13:34:18.347091400Z",
     "start_time": "2023-08-10T13:34:18.331337700Z"
    }
   },
   "id": "790e7f83fc48c3dc"
  },
  {
   "cell_type": "code",
   "execution_count": 48,
   "outputs": [],
   "source": [
    "for c in range(1, 16):\n",
    "    df[f'tripdist_{c}'] = df[f'speed_{c}'] * df[f'q14m_{c}'] / 60"
   ],
   "metadata": {
    "collapsed": false,
    "ExecuteTime": {
     "end_time": "2023-08-10T13:34:24.657611300Z",
     "start_time": "2023-08-10T13:34:24.614173300Z"
    }
   },
   "id": "ce8aba9e3701a3f8"
  },
  {
   "cell_type": "code",
   "execution_count": 51,
   "outputs": [
    {
     "name": "stdout",
     "output_type": "stream",
     "text": [
      "{'Walk': 8875.899999999998, 'Microbus/Matatu': 35.33333333333333, 'Bodaboda (Bicycle taxi)': 6.75, 'Other, specify': 11.5, 'Own bicycle': 18.833333333333336, 'Own vehicle': 0.5, 'Bus regular': 3.6666666666666665, 'Taxi (vehicle)': 0.0, 'Shared taxi': 0.0}\n"
     ]
    }
   ],
   "source": [
    "# Calculate total trip distance in each trip length bucket\n",
    "tripdistance1 = {'Walk': 0,\n",
    "                 'Microbus/Matatu': 0,\n",
    "                 'Bodaboda (Bicycle taxi)': 0,\n",
    "                 'Other, specify': 0,\n",
    "                 'Own bicycle': 0,\n",
    "                 'Own vehicle': 0,\n",
    "                 'Bus regular': 0,\n",
    "                 'Taxi (vehicle)': 0,\n",
    "                 'Shared taxi': 0}\n",
    "\n",
    "for mode in tripdistance1:\n",
    "    for e in range(1, 16):\n",
    "        tripdistance1[mode] += df.loc[(df[f'q14l_{e}'] == mode) & (df[f'tripdist_{e}'] <= 1), f'tripdist_{e}'].sum()\n",
    "print(tripdistance1)\n"
   ],
   "metadata": {
    "collapsed": false,
    "ExecuteTime": {
     "end_time": "2023-08-10T13:37:11.315290200Z",
     "start_time": "2023-08-10T13:37:11.236006800Z"
    }
   },
   "id": "607c37d89f1e84bf"
  },
  {
   "cell_type": "code",
   "execution_count": 52,
   "outputs": [
    {
     "name": "stdout",
     "output_type": "stream",
     "text": [
      "{'Walk': 5389.6, 'Microbus/Matatu': 251.6666666666667, 'Bodaboda (Bicycle taxi)': 140.0, 'Other, specify': 36.0, 'Own bicycle': 112.66666666666669, 'Own vehicle': 3.5, 'Bus regular': 18.333333333333336, 'Taxi (vehicle)': 5.5, 'Shared taxi': 0.0}\n"
     ]
    }
   ],
   "source": [
    "# Repeat for all other trip length buckets\n",
    "tripdistance2 = {'Walk': 0,\n",
    "                 'Microbus/Matatu': 0,\n",
    "                 'Bodaboda (Bicycle taxi)': 0,\n",
    "                 'Other, specify': 0,\n",
    "                 'Own bicycle': 0,\n",
    "                 'Own vehicle': 0,\n",
    "                 'Bus regular': 0,\n",
    "                 'Taxi (vehicle)': 0,\n",
    "                 'Shared taxi': 0}\n",
    "\n",
    "for mode in tripdistance2:\n",
    "    for e in range(1, 16):\n",
    "        tripdistance2[mode] += df.loc[\n",
    "            (df[f'q14l_{e}'] == mode) & (df[f'tripdist_{e}'] > 1) & (df[f'tripdist_{e}'] <= 2), f'tripdist_{e}'].sum()\n",
    "print(tripdistance2)"
   ],
   "metadata": {
    "collapsed": false,
    "ExecuteTime": {
     "end_time": "2023-08-10T13:37:19.108543900Z",
     "start_time": "2023-08-10T13:37:19.029380Z"
    }
   },
   "id": "d8c8da8e53157f9f"
  },
  {
   "cell_type": "code",
   "execution_count": 53,
   "outputs": [
    {
     "name": "stdout",
     "output_type": "stream",
     "text": [
      "{'Walk': 2220.95, 'Microbus/Matatu': 4733.333333333334, 'Bodaboda (Bicycle taxi)': 2846.25, 'Other, specify': 674.75, 'Own bicycle': 968.8333333333334, 'Own vehicle': 512.0, 'Bus regular': 305.0, 'Taxi (vehicle)': 105.0, 'Shared taxi': 0.0}\n"
     ]
    }
   ],
   "source": [
    "tripdistance3 = {'Walk': 0,\n",
    "                 'Microbus/Matatu': 0,\n",
    "                 'Bodaboda (Bicycle taxi)': 0,\n",
    "                 'Other, specify': 0,\n",
    "                 'Own bicycle': 0,\n",
    "                 'Own vehicle': 0,\n",
    "                 'Bus regular': 0,\n",
    "                 'Taxi (vehicle)': 0,\n",
    "                 'Shared taxi': 0}\n",
    "\n",
    "for mode in tripdistance3:\n",
    "    for e in range(1, 16):\n",
    "        tripdistance3[mode] += df.loc[\n",
    "            (df[f'q14l_{e}'] == mode) & (df[f'tripdist_{e}'] > 2) & (df[f'tripdist_{e}'] <= 5), f'tripdist_{e}'].sum()\n",
    "print(tripdistance3)"
   ],
   "metadata": {
    "collapsed": false,
    "ExecuteTime": {
     "end_time": "2023-08-10T13:37:32.924494600Z",
     "start_time": "2023-08-10T13:37:32.839764900Z"
    }
   },
   "id": "9da265c0daef1d55"
  },
  {
   "cell_type": "code",
   "execution_count": 54,
   "outputs": [
    {
     "name": "stdout",
     "output_type": "stream",
     "text": [
      "{'Walk': 296.0, 'Microbus/Matatu': 22227.000000000004, 'Bodaboda (Bicycle taxi)': 1398.0, 'Other, specify': 1185.0, 'Own bicycle': 327.83333333333337, 'Own vehicle': 616.0, 'Bus regular': 470.0, 'Taxi (vehicle)': 124.0, 'Shared taxi': 0.0}\n"
     ]
    }
   ],
   "source": [
    "tripdistance4 = {'Walk': 0,\n",
    "                 'Microbus/Matatu': 0,\n",
    "                 'Bodaboda (Bicycle taxi)': 0,\n",
    "                 'Other, specify': 0,\n",
    "                 'Own bicycle': 0,\n",
    "                 'Own vehicle': 0,\n",
    "                 'Bus regular': 0,\n",
    "                 'Taxi (vehicle)': 0,\n",
    "                 'Shared taxi': 0}\n",
    "\n",
    "for mode in tripdistance4:\n",
    "    for e in range(1, 16):\n",
    "        tripdistance4[mode] += df.loc[\n",
    "            (df[f'q14l_{e}'] == mode) & (df[f'tripdist_{e}'] > 5) & (df[f'tripdist_{e}'] <= 10), f'tripdist_{e}'].sum()\n",
    "\n",
    "print(tripdistance4)"
   ],
   "metadata": {
    "collapsed": false,
    "ExecuteTime": {
     "end_time": "2023-08-10T13:37:45.647575600Z",
     "start_time": "2023-08-10T13:37:45.568503800Z"
    }
   },
   "id": "f756cf8248bbf3e4"
  },
  {
   "cell_type": "code",
   "execution_count": 55,
   "outputs": [
    {
     "name": "stdout",
     "output_type": "stream",
     "text": [
      "{'Walk': 60.0, 'Microbus/Matatu': 19708.999999999996, 'Bodaboda (Bicycle taxi)': 221.25, 'Other, specify': 1097.5, 'Own bicycle': 30.0, 'Own vehicle': 1883.0, 'Bus regular': 576.6666666666667, 'Taxi (vehicle)': 120.0, 'Shared taxi': 0.0}\n"
     ]
    }
   ],
   "source": [
    "tripdistance5 = {'Walk': 0,\n",
    "                 'Microbus/Matatu': 0,\n",
    "                 'Bodaboda (Bicycle taxi)': 0,\n",
    "                 'Other, specify': 0,\n",
    "                 'Own bicycle': 0,\n",
    "                 'Own vehicle': 0,\n",
    "                 'Bus regular': 0,\n",
    "                 'Taxi (vehicle)': 0,\n",
    "                 'Shared taxi': 0}\n",
    "\n",
    "for mode in tripdistance5:\n",
    "    for e in range(1, 16):\n",
    "        tripdistance5[mode] += df.loc[\n",
    "            (df[f'q14l_{e}'] == mode) & (df[f'tripdist_{e}'] > 10) & (df[f'tripdist_{e}'] <= 25), f'tripdist_{e}'].sum()\n",
    "\n",
    "print(tripdistance5)"
   ],
   "metadata": {
    "collapsed": false,
    "ExecuteTime": {
     "end_time": "2023-08-10T13:37:52.551762600Z",
     "start_time": "2023-08-10T13:37:52.458535600Z"
    }
   },
   "id": "3a20921f49dca9f7"
  },
  {
   "cell_type": "code",
   "execution_count": 56,
   "outputs": [
    {
     "name": "stdout",
     "output_type": "stream",
     "text": [
      "{'Walk': 0.0, 'Microbus/Matatu': 10941.666666666668, 'Bodaboda (Bicycle taxi)': 0.0, 'Other, specify': 335.0, 'Own bicycle': 30.0, 'Own vehicle': 630.0, 'Bus regular': 123.33333333333334, 'Taxi (vehicle)': 90.0, 'Shared taxi': 0.0}\n"
     ]
    }
   ],
   "source": [
    "tripdistance6 = {'Walk': 0,\n",
    "                 'Microbus/Matatu': 0,\n",
    "                 'Bodaboda (Bicycle taxi)': 0,\n",
    "                 'Other, specify': 0,\n",
    "                 'Own bicycle': 0,\n",
    "                 'Own vehicle': 0,\n",
    "                 'Bus regular': 0,\n",
    "                 'Taxi (vehicle)': 0,\n",
    "                 'Shared taxi': 0}\n",
    "\n",
    "for mode in tripdistance6:\n",
    "    for e in range(1, 16):\n",
    "        tripdistance6[mode] += df.loc[\n",
    "            (df[f'q14l_{e}'] == mode) & (df[f'tripdist_{e}'] > 25) & (df[f'tripdist_{e}'] <= 50), f'tripdist_{e}'].sum()\n",
    "\n",
    "print(tripdistance6)"
   ],
   "metadata": {
    "collapsed": false,
    "ExecuteTime": {
     "end_time": "2023-08-10T13:38:13.556950600Z",
     "start_time": "2023-08-10T13:38:13.447525800Z"
    }
   },
   "id": "6777bcfd43ada480"
  },
  {
   "cell_type": "code",
   "execution_count": 57,
   "outputs": [
    {
     "name": "stdout",
     "output_type": "stream",
     "text": [
      "{'Walk': 0.0, 'Microbus/Matatu': 14733.333333333334, 'Bodaboda (Bicycle taxi)': 0.0, 'Other, specify': 400.0, 'Own bicycle': 0.0, 'Own vehicle': 640.0, 'Bus regular': 220.0, 'Taxi (vehicle)': 0.0, 'Shared taxi': 0.0}\n"
     ]
    }
   ],
   "source": [
    "tripdistance7 = {'Walk': 0,\n",
    "                 'Microbus/Matatu': 0,\n",
    "                 'Bodaboda (Bicycle taxi)': 0,\n",
    "                 'Other, specify': 0,\n",
    "                 'Own bicycle': 0,\n",
    "                 'Own vehicle': 0,\n",
    "                 'Bus regular': 0,\n",
    "                 'Taxi (vehicle)': 0,\n",
    "                 'Shared taxi': 0}\n",
    "\n",
    "for mode in tripdistance7:\n",
    "    for e in range(1, 16):\n",
    "        tripdistance7[mode] += df.loc[(df[f'q14l_{e}'] == mode) & (df[f'tripdist_{e}'] > 50) & (\n",
    "                    df[f'tripdist_{e}'] <= 100), f'tripdist_{e}'].sum()\n",
    "\n",
    "print(tripdistance7)"
   ],
   "metadata": {
    "collapsed": false,
    "ExecuteTime": {
     "end_time": "2023-08-10T13:38:19.112361500Z",
     "start_time": "2023-08-10T13:38:19.033808900Z"
    }
   },
   "id": "cc4767dbe27556cd"
  },
  {
   "cell_type": "code",
   "execution_count": 58,
   "outputs": [
    {
     "name": "stdout",
     "output_type": "stream",
     "text": [
      "{'Walk': 0.0, 'Microbus/Matatu': 28540.0, 'Bodaboda (Bicycle taxi)': 0.0, 'Other, specify': 2560.0, 'Own bicycle': 0.0, 'Own vehicle': 1360.0, 'Bus regular': 986.6666666666666, 'Taxi (vehicle)': 0.0, 'Shared taxi': 0.0}\n"
     ]
    }
   ],
   "source": [
    "tripdistance8 = {'Walk': 0,\n",
    "                 'Microbus/Matatu': 0,\n",
    "                 'Bodaboda (Bicycle taxi)': 0,\n",
    "                 'Other, specify': 0,\n",
    "                 'Own bicycle': 0,\n",
    "                 'Own vehicle': 0,\n",
    "                 'Bus regular': 0,\n",
    "                 'Taxi (vehicle)': 0,\n",
    "                 'Shared taxi': 0}\n",
    "\n",
    "for mode in tripdistance8:\n",
    "    for e in range(1, 16):\n",
    "        tripdistance8[mode] += df.loc[(df[f'q14l_{e}'] == mode) & (df[f'tripdist_{e}'] > 100), f'tripdist_{e}'].sum()\n",
    "\n",
    "print(tripdistance8)"
   ],
   "metadata": {
    "collapsed": false,
    "ExecuteTime": {
     "end_time": "2023-08-10T13:38:36.229920Z",
     "start_time": "2023-08-10T13:38:36.169953200Z"
    }
   },
   "id": "2ed0e6aa7fab6001"
  },
  {
   "cell_type": "code",
   "execution_count": null,
   "outputs": [],
   "source": [],
   "metadata": {
    "collapsed": false
   },
   "id": "e505e41a150966b6"
  }
 ],
 "metadata": {
  "kernelspec": {
   "display_name": "Python 3",
   "language": "python",
   "name": "python3"
  },
  "language_info": {
   "codemirror_mode": {
    "name": "ipython",
    "version": 2
   },
   "file_extension": ".py",
   "mimetype": "text/x-python",
   "name": "python",
   "nbconvert_exporter": "python",
   "pygments_lexer": "ipython2",
   "version": "2.7.6"
  }
 },
 "nbformat": 4,
 "nbformat_minor": 5
}
