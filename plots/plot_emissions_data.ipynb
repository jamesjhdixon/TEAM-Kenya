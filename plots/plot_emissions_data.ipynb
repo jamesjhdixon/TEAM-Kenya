{
 "cells": [
  {
   "cell_type": "markdown",
   "source": [
    "To plot output emissions (direct - ED and total - ET) from TEAM-Kenya"
   ],
   "metadata": {
    "collapsed": false
   }
  },
  {
   "cell_type": "code",
   "execution_count": 1,
   "outputs": [],
   "source": [
    "import pandas as pd\n",
    "import matplotlib.pyplot as plt\n",
    "import seaborn as sns\n",
    "\n",
    "sns.set_style('whitegrid')"
   ],
   "metadata": {
    "collapsed": false
   }
  },
  {
   "cell_type": "code",
   "execution_count": 2,
   "outputs": [
    {
     "data": {
      "text/plain": "      TechID  ModeID  VehTypeID  MassCatID  FuelID  EngineID  TransTypeID  \\\n0         10       1          2          4       1        10            1   \n1         20       1          2          4      12        10            1   \n2         25       1          2          4      12        11            1   \n3         26       1          2          4      12        12            1   \n4         30       1          2          4       1        11            1   \n...      ...     ...        ...        ...     ...       ...          ...   \n2241   14889       1          5         28      13        13            2   \n2242   14890       1          5         28      13        13            2   \n2243   14891       1          5         28      13        13            2   \n2244   14892       1          5         28      13        13            2   \n2245   14893       1          5         28      13        13            2   \n\n      Availability  Final_Year  HybridFlag  spec_energ_consump  \\\n0             1980      2000.0           0                6.57   \n1             1995      2010.0           0                9.51   \n2             2010      2020.0           0                8.38   \n3             2020         NaN           0                7.18   \n4             2000      2010.0           0                5.65   \n...            ...         ...         ...                 ...   \n2241          2033      2038.0           0              179.20   \n2242          2038      2043.0           0              153.89   \n2243          2043      2048.0           0              132.15   \n2244          2048      2053.0           0              113.48   \n2245          2053         NaN           0               97.45   \n\n      spec_energ_electric  noise_class  PurchasePrice  ExpectedLifeFactor  \\\n0                     NaN            0         5000.0                   1   \n1                     NaN            2         7000.0                   1   \n2                     NaN            2         6000.0                   1   \n3                     NaN            2         5500.0                   1   \n4                     NaN            0         5000.0                   1   \n...                   ...          ...            ...                 ...   \n2241                  1.0            2        14000.0                   1   \n2242                  1.0            2        12000.0                   1   \n2243                  1.0            2        12000.0                   1   \n2244                  1.0            2        12000.0                   1   \n2245                  1.0            2        12000.0                   1   \n\n      Capacity  AveEconLife  SecondHandImportFlag  note  \n0          2.0           10                     0   NaN  \n1          2.0           10                     0   NaN  \n2          2.0           10                     0   NaN  \n3          2.0           10                     0   NaN  \n4          2.0           10                     0   NaN  \n...        ...          ...                   ...   ...  \n2241       2.5           10                     1   NaN  \n2242       2.5           10                     1   NaN  \n2243       2.5           10                     1   NaN  \n2244       2.5           10                     1   NaN  \n2245       2.5           10                     1   NaN  \n\n[2246 rows x 19 columns]",
      "text/html": "<div>\n<style scoped>\n    .dataframe tbody tr th:only-of-type {\n        vertical-align: middle;\n    }\n\n    .dataframe tbody tr th {\n        vertical-align: top;\n    }\n\n    .dataframe thead th {\n        text-align: right;\n    }\n</style>\n<table border=\"1\" class=\"dataframe\">\n  <thead>\n    <tr style=\"text-align: right;\">\n      <th></th>\n      <th>TechID</th>\n      <th>ModeID</th>\n      <th>VehTypeID</th>\n      <th>MassCatID</th>\n      <th>FuelID</th>\n      <th>EngineID</th>\n      <th>TransTypeID</th>\n      <th>Availability</th>\n      <th>Final_Year</th>\n      <th>HybridFlag</th>\n      <th>spec_energ_consump</th>\n      <th>spec_energ_electric</th>\n      <th>noise_class</th>\n      <th>PurchasePrice</th>\n      <th>ExpectedLifeFactor</th>\n      <th>Capacity</th>\n      <th>AveEconLife</th>\n      <th>SecondHandImportFlag</th>\n      <th>note</th>\n    </tr>\n  </thead>\n  <tbody>\n    <tr>\n      <th>0</th>\n      <td>10</td>\n      <td>1</td>\n      <td>2</td>\n      <td>4</td>\n      <td>1</td>\n      <td>10</td>\n      <td>1</td>\n      <td>1980</td>\n      <td>2000.0</td>\n      <td>0</td>\n      <td>6.57</td>\n      <td>NaN</td>\n      <td>0</td>\n      <td>5000.0</td>\n      <td>1</td>\n      <td>2.0</td>\n      <td>10</td>\n      <td>0</td>\n      <td>NaN</td>\n    </tr>\n    <tr>\n      <th>1</th>\n      <td>20</td>\n      <td>1</td>\n      <td>2</td>\n      <td>4</td>\n      <td>12</td>\n      <td>10</td>\n      <td>1</td>\n      <td>1995</td>\n      <td>2010.0</td>\n      <td>0</td>\n      <td>9.51</td>\n      <td>NaN</td>\n      <td>2</td>\n      <td>7000.0</td>\n      <td>1</td>\n      <td>2.0</td>\n      <td>10</td>\n      <td>0</td>\n      <td>NaN</td>\n    </tr>\n    <tr>\n      <th>2</th>\n      <td>25</td>\n      <td>1</td>\n      <td>2</td>\n      <td>4</td>\n      <td>12</td>\n      <td>11</td>\n      <td>1</td>\n      <td>2010</td>\n      <td>2020.0</td>\n      <td>0</td>\n      <td>8.38</td>\n      <td>NaN</td>\n      <td>2</td>\n      <td>6000.0</td>\n      <td>1</td>\n      <td>2.0</td>\n      <td>10</td>\n      <td>0</td>\n      <td>NaN</td>\n    </tr>\n    <tr>\n      <th>3</th>\n      <td>26</td>\n      <td>1</td>\n      <td>2</td>\n      <td>4</td>\n      <td>12</td>\n      <td>12</td>\n      <td>1</td>\n      <td>2020</td>\n      <td>NaN</td>\n      <td>0</td>\n      <td>7.18</td>\n      <td>NaN</td>\n      <td>2</td>\n      <td>5500.0</td>\n      <td>1</td>\n      <td>2.0</td>\n      <td>10</td>\n      <td>0</td>\n      <td>NaN</td>\n    </tr>\n    <tr>\n      <th>4</th>\n      <td>30</td>\n      <td>1</td>\n      <td>2</td>\n      <td>4</td>\n      <td>1</td>\n      <td>11</td>\n      <td>1</td>\n      <td>2000</td>\n      <td>2010.0</td>\n      <td>0</td>\n      <td>5.65</td>\n      <td>NaN</td>\n      <td>0</td>\n      <td>5000.0</td>\n      <td>1</td>\n      <td>2.0</td>\n      <td>10</td>\n      <td>0</td>\n      <td>NaN</td>\n    </tr>\n    <tr>\n      <th>...</th>\n      <td>...</td>\n      <td>...</td>\n      <td>...</td>\n      <td>...</td>\n      <td>...</td>\n      <td>...</td>\n      <td>...</td>\n      <td>...</td>\n      <td>...</td>\n      <td>...</td>\n      <td>...</td>\n      <td>...</td>\n      <td>...</td>\n      <td>...</td>\n      <td>...</td>\n      <td>...</td>\n      <td>...</td>\n      <td>...</td>\n      <td>...</td>\n    </tr>\n    <tr>\n      <th>2241</th>\n      <td>14889</td>\n      <td>1</td>\n      <td>5</td>\n      <td>28</td>\n      <td>13</td>\n      <td>13</td>\n      <td>2</td>\n      <td>2033</td>\n      <td>2038.0</td>\n      <td>0</td>\n      <td>179.20</td>\n      <td>1.0</td>\n      <td>2</td>\n      <td>14000.0</td>\n      <td>1</td>\n      <td>2.5</td>\n      <td>10</td>\n      <td>1</td>\n      <td>NaN</td>\n    </tr>\n    <tr>\n      <th>2242</th>\n      <td>14890</td>\n      <td>1</td>\n      <td>5</td>\n      <td>28</td>\n      <td>13</td>\n      <td>13</td>\n      <td>2</td>\n      <td>2038</td>\n      <td>2043.0</td>\n      <td>0</td>\n      <td>153.89</td>\n      <td>1.0</td>\n      <td>2</td>\n      <td>12000.0</td>\n      <td>1</td>\n      <td>2.5</td>\n      <td>10</td>\n      <td>1</td>\n      <td>NaN</td>\n    </tr>\n    <tr>\n      <th>2243</th>\n      <td>14891</td>\n      <td>1</td>\n      <td>5</td>\n      <td>28</td>\n      <td>13</td>\n      <td>13</td>\n      <td>2</td>\n      <td>2043</td>\n      <td>2048.0</td>\n      <td>0</td>\n      <td>132.15</td>\n      <td>1.0</td>\n      <td>2</td>\n      <td>12000.0</td>\n      <td>1</td>\n      <td>2.5</td>\n      <td>10</td>\n      <td>1</td>\n      <td>NaN</td>\n    </tr>\n    <tr>\n      <th>2244</th>\n      <td>14892</td>\n      <td>1</td>\n      <td>5</td>\n      <td>28</td>\n      <td>13</td>\n      <td>13</td>\n      <td>2</td>\n      <td>2048</td>\n      <td>2053.0</td>\n      <td>0</td>\n      <td>113.48</td>\n      <td>1.0</td>\n      <td>2</td>\n      <td>12000.0</td>\n      <td>1</td>\n      <td>2.5</td>\n      <td>10</td>\n      <td>1</td>\n      <td>NaN</td>\n    </tr>\n    <tr>\n      <th>2245</th>\n      <td>14893</td>\n      <td>1</td>\n      <td>5</td>\n      <td>28</td>\n      <td>13</td>\n      <td>13</td>\n      <td>2</td>\n      <td>2053</td>\n      <td>NaN</td>\n      <td>0</td>\n      <td>97.45</td>\n      <td>1.0</td>\n      <td>2</td>\n      <td>12000.0</td>\n      <td>1</td>\n      <td>2.5</td>\n      <td>10</td>\n      <td>1</td>\n      <td>NaN</td>\n    </tr>\n  </tbody>\n</table>\n<p>2246 rows × 19 columns</p>\n</div>"
     },
     "execution_count": 2,
     "metadata": {},
     "output_type": "execute_result"
    }
   ],
   "source": [
    "# import technology data\n",
    "technology = pd.read_csv(f'./../data/technology.csv')\n",
    "technology"
   ],
   "metadata": {
    "collapsed": false
   }
  },
  {
   "cell_type": "code",
   "execution_count": 3,
   "outputs": [],
   "source": [
    "def load_data(scenario, emissions_type, purpose='scenario', attempt='BASE'):\n",
    "    if purpose == 'calibration':\n",
    "        emissions = pd.read_excel(f'./../calibration/attempts/attempt{attempt}/E{emissions_type}.xlsx')\n",
    "    else:\n",
    "        emissions = pd.read_excel(f'./../scenarios/data-out/{scenario}/E{emissions_type}.xlsx')\n",
    "    return emissions"
   ],
   "metadata": {
    "collapsed": false
   }
  },
  {
   "cell_type": "code",
   "execution_count": 4,
   "outputs": [],
   "source": [
    "def run_plot(scenario, emissions_type, emissions):\n",
    "\n",
    "    years = range(2012, 2051)\n",
    "\n",
    "    vehtype_dict = {'Moto':[2], 'Car':[3], 'Bus':[4], 'Truck':[5], 'Train':[6], 'Ship':[7], 'Plane':[8], 'All':[2,3,4,5,6,7,8]}\n",
    "\n",
    "    #vehtype_dict = {'Moto':[2], 'Car':[3], 'Bus':[4], 'Train':[6], 'Ship':[7], 'All':[2,3,4,6,7]}\n",
    "\n",
    "    emissions_data = {}\n",
    "    for vehtype in vehtype_dict:\n",
    "\n",
    "        emissions_data[vehtype] = []\n",
    "\n",
    "        for year in years:\n",
    "\n",
    "            # just the vehtype\n",
    "            annual_Data = emissions[(emissions['Year'] == year) & (emissions['EmissionID'] == 1) & (emissions['TechID'].isin(technology[technology['VehTypeID'].isin(vehtype_dict[vehtype])]['TechID']))]\n",
    "\n",
    "            # emissions_data['new_petrol'].append(annual_Data[(annual_Data['TechID'] < 9000) & (annual_Data['FuelID'] == 1)][f'E{emissions_type}_Value'].sum())\n",
    "            # emissions_data['SHI_petrol'].append(annual_Data[(annual_Data['TechID'] >= 9000) & (annual_Data['FuelID'] == 1)][f'E{emissions_type}_Value'].sum())\n",
    "            # emissions_data['new_bev'].append(annual_Data[(annual_Data['TechID'] < 9000) & (annual_Data['FuelID'] == 12)][f'E{emissions_type}_Value'].sum())\n",
    "            # emissions_data['SHI_bev'].append(annual_Data[(annual_Data['TechID'] >= 9000) & (annual_Data['FuelID'] == 12)][f'E{emissions_type}_Value'].sum())\n",
    "\n",
    "            emissions_data[vehtype].append(annual_Data[f'E{emissions_type}_Value'].sum())\n",
    "\n",
    "\n",
    "    # plot\n",
    "    %matplotlib inline\n",
    "\n",
    "    fig,ax = plt.subplots()\n",
    "\n",
    "    clr_cnt = 0\n",
    "    for data in emissions_data:\n",
    "\n",
    "        ax.plot(years, emissions_data[data], label=data, color=sns.color_palette()[clr_cnt])\n",
    "\n",
    "        clr_cnt += 1\n",
    "\n",
    "    st_year = 2012\n",
    "    ax.set_xlim(left=st_year, right=2050)\n",
    "    ax.set_ylabel(f'tCO2')\n",
    "    plt.legend()\n",
    "\n",
    "    plt.title(f'E{emissions_type} - {scenario}')\n",
    "    fig.savefig(f'./E{emissions_type} - {scenario}')\n",
    "    fig.tight_layout()\n",
    "\n"
   ],
   "metadata": {
    "collapsed": false
   }
  },
  {
   "cell_type": "code",
   "execution_count": null,
   "outputs": [],
   "source": [
    "# scenarios = ['OMOKA', 'ELECTRICDREAMS', 'KUJINAO', 'STREETFIGHTING']\n",
    "scenarios = ['OMOKA', 'STREETFIGHTING']\n",
    "emissions_types = ['D', 'T']\n",
    "\n",
    "for emissions_type in emissions_types:\n",
    "    for scenario in scenarios:\n",
    "\n",
    "        emissions = load_data(scenario, emissions_type)\n",
    "\n",
    "        run_plot(scenario, emissions_type, emissions)"
   ],
   "metadata": {
    "collapsed": false,
    "pycharm": {
     "is_executing": true
    }
   }
  }
 ],
 "metadata": {
  "kernelspec": {
   "display_name": "Python 3",
   "language": "python",
   "name": "python3"
  },
  "language_info": {
   "codemirror_mode": {
    "name": "ipython",
    "version": 2
   },
   "file_extension": ".py",
   "mimetype": "text/x-python",
   "name": "python",
   "nbconvert_exporter": "python",
   "pygments_lexer": "ipython2",
   "version": "2.7.6"
  }
 },
 "nbformat": 4,
 "nbformat_minor": 0
}
