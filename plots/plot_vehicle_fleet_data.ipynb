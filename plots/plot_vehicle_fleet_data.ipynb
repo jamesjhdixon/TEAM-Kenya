{
 "cells": [
  {
   "cell_type": "markdown",
   "source": [
    "This notebook plots the vehicle fleet data as output from TEAM-Kenya"
   ],
   "metadata": {
    "collapsed": false,
    "pycharm": {
     "name": "#%% md\n"
    }
   }
  },
  {
   "cell_type": "code",
   "execution_count": 32,
   "outputs": [],
   "source": [
    "import pandas as pd\n",
    "import matplotlib.pyplot as plt\n",
    "import seaborn as sns\n",
    "sns.set_style('whitegrid')"
   ],
   "metadata": {
    "collapsed": false,
    "pycharm": {
     "name": "#%%\n"
    }
   }
  },
  {
   "cell_type": "code",
   "execution_count": 33,
   "outputs": [
    {
     "data": {
      "text/plain": "      TechID  ModeID  VehTypeID  MassCatID  FuelID  EngineID  TransTypeID  \\\n0         10       1          2          4       1        10            1   \n1         20       1          2          4      12        10            1   \n2         25       1          2          4      12        11            1   \n3         26       1          2          4      12        12            1   \n4         30       1          2          4       1        11            1   \n...      ...     ...        ...        ...     ...       ...          ...   \n2241   14889       1          5         28      13        13            2   \n2242   14890       1          5         28      13        13            2   \n2243   14891       1          5         28      13        13            2   \n2244   14892       1          5         28      13        13            2   \n2245   14893       1          5         28      13        13            2   \n\n      Availability  Final_Year  HybridFlag  spec_energ_consump  \\\n0             1980      2000.0           0                6.57   \n1             1995      2010.0           0                9.51   \n2             2010      2020.0           0                8.38   \n3             2020         NaN           0                7.18   \n4             2000      2010.0           0                5.65   \n...            ...         ...         ...                 ...   \n2241          2033      2038.0           0              179.20   \n2242          2038      2043.0           0              153.89   \n2243          2043      2048.0           0              132.15   \n2244          2048      2053.0           0              113.48   \n2245          2053         NaN           0               97.45   \n\n      spec_energ_electric  noise_class  PurchasePrice  ExpectedLifeFactor  \\\n0                     NaN            0         5000.0                   1   \n1                     NaN            2         7000.0                   1   \n2                     NaN            2         6000.0                   1   \n3                     NaN            2         5500.0                   1   \n4                     NaN            0         5000.0                   1   \n...                   ...          ...            ...                 ...   \n2241                  1.0            2        14000.0                   1   \n2242                  1.0            2        12000.0                   1   \n2243                  1.0            2        12000.0                   1   \n2244                  1.0            2        12000.0                   1   \n2245                  1.0            2        12000.0                   1   \n\n      Capacity  AveEconLife  SecondHandImportFlag  note  \n0          2.0           10                     0   NaN  \n1          2.0           10                     0   NaN  \n2          2.0           10                     0   NaN  \n3          2.0           10                     0   NaN  \n4          2.0           10                     0   NaN  \n...        ...          ...                   ...   ...  \n2241       2.5           10                     1   NaN  \n2242       2.5           10                     1   NaN  \n2243       2.5           10                     1   NaN  \n2244       2.5           10                     1   NaN  \n2245       2.5           10                     1   NaN  \n\n[2246 rows x 19 columns]",
      "text/html": "<div>\n<style scoped>\n    .dataframe tbody tr th:only-of-type {\n        vertical-align: middle;\n    }\n\n    .dataframe tbody tr th {\n        vertical-align: top;\n    }\n\n    .dataframe thead th {\n        text-align: right;\n    }\n</style>\n<table border=\"1\" class=\"dataframe\">\n  <thead>\n    <tr style=\"text-align: right;\">\n      <th></th>\n      <th>TechID</th>\n      <th>ModeID</th>\n      <th>VehTypeID</th>\n      <th>MassCatID</th>\n      <th>FuelID</th>\n      <th>EngineID</th>\n      <th>TransTypeID</th>\n      <th>Availability</th>\n      <th>Final_Year</th>\n      <th>HybridFlag</th>\n      <th>spec_energ_consump</th>\n      <th>spec_energ_electric</th>\n      <th>noise_class</th>\n      <th>PurchasePrice</th>\n      <th>ExpectedLifeFactor</th>\n      <th>Capacity</th>\n      <th>AveEconLife</th>\n      <th>SecondHandImportFlag</th>\n      <th>note</th>\n    </tr>\n  </thead>\n  <tbody>\n    <tr>\n      <th>0</th>\n      <td>10</td>\n      <td>1</td>\n      <td>2</td>\n      <td>4</td>\n      <td>1</td>\n      <td>10</td>\n      <td>1</td>\n      <td>1980</td>\n      <td>2000.0</td>\n      <td>0</td>\n      <td>6.57</td>\n      <td>NaN</td>\n      <td>0</td>\n      <td>5000.0</td>\n      <td>1</td>\n      <td>2.0</td>\n      <td>10</td>\n      <td>0</td>\n      <td>NaN</td>\n    </tr>\n    <tr>\n      <th>1</th>\n      <td>20</td>\n      <td>1</td>\n      <td>2</td>\n      <td>4</td>\n      <td>12</td>\n      <td>10</td>\n      <td>1</td>\n      <td>1995</td>\n      <td>2010.0</td>\n      <td>0</td>\n      <td>9.51</td>\n      <td>NaN</td>\n      <td>2</td>\n      <td>7000.0</td>\n      <td>1</td>\n      <td>2.0</td>\n      <td>10</td>\n      <td>0</td>\n      <td>NaN</td>\n    </tr>\n    <tr>\n      <th>2</th>\n      <td>25</td>\n      <td>1</td>\n      <td>2</td>\n      <td>4</td>\n      <td>12</td>\n      <td>11</td>\n      <td>1</td>\n      <td>2010</td>\n      <td>2020.0</td>\n      <td>0</td>\n      <td>8.38</td>\n      <td>NaN</td>\n      <td>2</td>\n      <td>6000.0</td>\n      <td>1</td>\n      <td>2.0</td>\n      <td>10</td>\n      <td>0</td>\n      <td>NaN</td>\n    </tr>\n    <tr>\n      <th>3</th>\n      <td>26</td>\n      <td>1</td>\n      <td>2</td>\n      <td>4</td>\n      <td>12</td>\n      <td>12</td>\n      <td>1</td>\n      <td>2020</td>\n      <td>NaN</td>\n      <td>0</td>\n      <td>7.18</td>\n      <td>NaN</td>\n      <td>2</td>\n      <td>5500.0</td>\n      <td>1</td>\n      <td>2.0</td>\n      <td>10</td>\n      <td>0</td>\n      <td>NaN</td>\n    </tr>\n    <tr>\n      <th>4</th>\n      <td>30</td>\n      <td>1</td>\n      <td>2</td>\n      <td>4</td>\n      <td>1</td>\n      <td>11</td>\n      <td>1</td>\n      <td>2000</td>\n      <td>2010.0</td>\n      <td>0</td>\n      <td>5.65</td>\n      <td>NaN</td>\n      <td>0</td>\n      <td>5000.0</td>\n      <td>1</td>\n      <td>2.0</td>\n      <td>10</td>\n      <td>0</td>\n      <td>NaN</td>\n    </tr>\n    <tr>\n      <th>...</th>\n      <td>...</td>\n      <td>...</td>\n      <td>...</td>\n      <td>...</td>\n      <td>...</td>\n      <td>...</td>\n      <td>...</td>\n      <td>...</td>\n      <td>...</td>\n      <td>...</td>\n      <td>...</td>\n      <td>...</td>\n      <td>...</td>\n      <td>...</td>\n      <td>...</td>\n      <td>...</td>\n      <td>...</td>\n      <td>...</td>\n      <td>...</td>\n    </tr>\n    <tr>\n      <th>2241</th>\n      <td>14889</td>\n      <td>1</td>\n      <td>5</td>\n      <td>28</td>\n      <td>13</td>\n      <td>13</td>\n      <td>2</td>\n      <td>2033</td>\n      <td>2038.0</td>\n      <td>0</td>\n      <td>179.20</td>\n      <td>1.0</td>\n      <td>2</td>\n      <td>14000.0</td>\n      <td>1</td>\n      <td>2.5</td>\n      <td>10</td>\n      <td>1</td>\n      <td>NaN</td>\n    </tr>\n    <tr>\n      <th>2242</th>\n      <td>14890</td>\n      <td>1</td>\n      <td>5</td>\n      <td>28</td>\n      <td>13</td>\n      <td>13</td>\n      <td>2</td>\n      <td>2038</td>\n      <td>2043.0</td>\n      <td>0</td>\n      <td>153.89</td>\n      <td>1.0</td>\n      <td>2</td>\n      <td>12000.0</td>\n      <td>1</td>\n      <td>2.5</td>\n      <td>10</td>\n      <td>1</td>\n      <td>NaN</td>\n    </tr>\n    <tr>\n      <th>2243</th>\n      <td>14891</td>\n      <td>1</td>\n      <td>5</td>\n      <td>28</td>\n      <td>13</td>\n      <td>13</td>\n      <td>2</td>\n      <td>2043</td>\n      <td>2048.0</td>\n      <td>0</td>\n      <td>132.15</td>\n      <td>1.0</td>\n      <td>2</td>\n      <td>12000.0</td>\n      <td>1</td>\n      <td>2.5</td>\n      <td>10</td>\n      <td>1</td>\n      <td>NaN</td>\n    </tr>\n    <tr>\n      <th>2244</th>\n      <td>14892</td>\n      <td>1</td>\n      <td>5</td>\n      <td>28</td>\n      <td>13</td>\n      <td>13</td>\n      <td>2</td>\n      <td>2048</td>\n      <td>2053.0</td>\n      <td>0</td>\n      <td>113.48</td>\n      <td>1.0</td>\n      <td>2</td>\n      <td>12000.0</td>\n      <td>1</td>\n      <td>2.5</td>\n      <td>10</td>\n      <td>1</td>\n      <td>NaN</td>\n    </tr>\n    <tr>\n      <th>2245</th>\n      <td>14893</td>\n      <td>1</td>\n      <td>5</td>\n      <td>28</td>\n      <td>13</td>\n      <td>13</td>\n      <td>2</td>\n      <td>2053</td>\n      <td>NaN</td>\n      <td>0</td>\n      <td>97.45</td>\n      <td>1.0</td>\n      <td>2</td>\n      <td>12000.0</td>\n      <td>1</td>\n      <td>2.5</td>\n      <td>10</td>\n      <td>1</td>\n      <td>NaN</td>\n    </tr>\n  </tbody>\n</table>\n<p>2246 rows × 19 columns</p>\n</div>"
     },
     "execution_count": 33,
     "metadata": {},
     "output_type": "execute_result"
    }
   ],
   "source": [
    "# import technology data\n",
    "technology = pd.read_csv(f'./data/technology.csv')\n",
    "technology"
   ],
   "metadata": {
    "collapsed": false,
    "pycharm": {
     "name": "#%%\n"
    }
   }
  },
  {
   "cell_type": "code",
   "execution_count": 34,
   "outputs": [
    {
     "data": {
      "text/plain": "       TDVSID  ScenarioID  CountryID  Year  TechID VehCatID        NumVeh\n0           0           1          9  2012      10        N   6185.808105\n1           0           1          9  2012      10        S  12066.046875\n2           0           1          9  2012      10        T  34365.600586\n3           0           1          9  2012      70        S   1035.552965\n4           0           1          9  2012      70        T   8772.739710\n...       ...         ...        ...   ...     ...      ...           ...\n84754       0           1          9  2050   14891        S      4.514762\n84755       0           1          9  2050   14891        T    191.944749\n84756       0           1          9  2050   14892        N     49.975517\n84757       0           1          9  2050   14892        S      0.258053\n84758       0           1          9  2050   14892        T    120.074335\n\n[84759 rows x 7 columns]",
      "text/html": "<div>\n<style scoped>\n    .dataframe tbody tr th:only-of-type {\n        vertical-align: middle;\n    }\n\n    .dataframe tbody tr th {\n        vertical-align: top;\n    }\n\n    .dataframe thead th {\n        text-align: right;\n    }\n</style>\n<table border=\"1\" class=\"dataframe\">\n  <thead>\n    <tr style=\"text-align: right;\">\n      <th></th>\n      <th>TDVSID</th>\n      <th>ScenarioID</th>\n      <th>CountryID</th>\n      <th>Year</th>\n      <th>TechID</th>\n      <th>VehCatID</th>\n      <th>NumVeh</th>\n    </tr>\n  </thead>\n  <tbody>\n    <tr>\n      <th>0</th>\n      <td>0</td>\n      <td>1</td>\n      <td>9</td>\n      <td>2012</td>\n      <td>10</td>\n      <td>N</td>\n      <td>6185.808105</td>\n    </tr>\n    <tr>\n      <th>1</th>\n      <td>0</td>\n      <td>1</td>\n      <td>9</td>\n      <td>2012</td>\n      <td>10</td>\n      <td>S</td>\n      <td>12066.046875</td>\n    </tr>\n    <tr>\n      <th>2</th>\n      <td>0</td>\n      <td>1</td>\n      <td>9</td>\n      <td>2012</td>\n      <td>10</td>\n      <td>T</td>\n      <td>34365.600586</td>\n    </tr>\n    <tr>\n      <th>3</th>\n      <td>0</td>\n      <td>1</td>\n      <td>9</td>\n      <td>2012</td>\n      <td>70</td>\n      <td>S</td>\n      <td>1035.552965</td>\n    </tr>\n    <tr>\n      <th>4</th>\n      <td>0</td>\n      <td>1</td>\n      <td>9</td>\n      <td>2012</td>\n      <td>70</td>\n      <td>T</td>\n      <td>8772.739710</td>\n    </tr>\n    <tr>\n      <th>...</th>\n      <td>...</td>\n      <td>...</td>\n      <td>...</td>\n      <td>...</td>\n      <td>...</td>\n      <td>...</td>\n      <td>...</td>\n    </tr>\n    <tr>\n      <th>84754</th>\n      <td>0</td>\n      <td>1</td>\n      <td>9</td>\n      <td>2050</td>\n      <td>14891</td>\n      <td>S</td>\n      <td>4.514762</td>\n    </tr>\n    <tr>\n      <th>84755</th>\n      <td>0</td>\n      <td>1</td>\n      <td>9</td>\n      <td>2050</td>\n      <td>14891</td>\n      <td>T</td>\n      <td>191.944749</td>\n    </tr>\n    <tr>\n      <th>84756</th>\n      <td>0</td>\n      <td>1</td>\n      <td>9</td>\n      <td>2050</td>\n      <td>14892</td>\n      <td>N</td>\n      <td>49.975517</td>\n    </tr>\n    <tr>\n      <th>84757</th>\n      <td>0</td>\n      <td>1</td>\n      <td>9</td>\n      <td>2050</td>\n      <td>14892</td>\n      <td>S</td>\n      <td>0.258053</td>\n    </tr>\n    <tr>\n      <th>84758</th>\n      <td>0</td>\n      <td>1</td>\n      <td>9</td>\n      <td>2050</td>\n      <td>14892</td>\n      <td>T</td>\n      <td>120.074335</td>\n    </tr>\n  </tbody>\n</table>\n<p>84759 rows × 7 columns</p>\n</div>"
     },
     "execution_count": 34,
     "metadata": {},
     "output_type": "execute_result"
    }
   ],
   "source": [
    "# import interface vsm data\n",
    "calibration = True  # if calibration is true, then pick data from the calibration folder\n",
    "attempt = 'BASE'\n",
    "if calibration:\n",
    "    #interface_vsm = pd.read_excel(f'./calibration/attempts/attempt{attempt}/Interface_VSM_NumVeh.xlsx')\n",
    "    interface_vsm = pd.read_excel(f'./calibration/attempts/{attempt}/Interface_VSM_NumVeh.xlsx')\n",
    "else:\n",
    "    interface_vsm = pd.read_excel(f'./TEAM-Kenya_data_out/Interface_VSM_NumVeh.xlsx')\n",
    "interface_vsm"
   ],
   "metadata": {
    "collapsed": false,
    "pycharm": {
     "name": "#%%\n"
    }
   }
  },
  {
   "cell_type": "code",
   "execution_count": 35,
   "outputs": [
    {
     "data": {
      "text/plain": "        Unnamed: 0  ScenarioID  CountryID  TechID  Year  Age  TransTypeID  \\\n0                0           1          9      70  2012    5            1   \n1                1           1          9      70  2012    6            1   \n2                2           1          9      70  2012    7            1   \n3                3           1          9      70  2012    8            1   \n4                4           1          9      70  2012    9            1   \n...            ...         ...        ...     ...   ...  ...          ...   \n177913      177913           1          9    4275  2050   16            1   \n177914      177914           1          9    4275  2050   32            1   \n177915      177915           1          9    4275  2050   33            1   \n177916      177916           1          9    4275  2050   34            1   \n177917      177917           1          9    4275  2050   35            1   \n\n        VehTypeID  MassCatID  EngineID  FuelID      NumVeh  \n0               3          1         1       1   84.696857  \n1               3          1         1       1  169.393714  \n2               3          1         1       1  592.878000  \n3               3          1         1       1  677.574857  \n4               3          1         1       1  931.665429  \n...           ...        ...       ...     ...         ...  \n177913          8         45         7      15    0.000000  \n177914          8         45         7      15    0.000000  \n177915          8         45         7      15    0.000000  \n177916          8         45         7      15    0.000000  \n177917          8         45         7      15    0.000000  \n\n[177918 rows x 12 columns]",
      "text/html": "<div>\n<style scoped>\n    .dataframe tbody tr th:only-of-type {\n        vertical-align: middle;\n    }\n\n    .dataframe tbody tr th {\n        vertical-align: top;\n    }\n\n    .dataframe thead th {\n        text-align: right;\n    }\n</style>\n<table border=\"1\" class=\"dataframe\">\n  <thead>\n    <tr style=\"text-align: right;\">\n      <th></th>\n      <th>Unnamed: 0</th>\n      <th>ScenarioID</th>\n      <th>CountryID</th>\n      <th>TechID</th>\n      <th>Year</th>\n      <th>Age</th>\n      <th>TransTypeID</th>\n      <th>VehTypeID</th>\n      <th>MassCatID</th>\n      <th>EngineID</th>\n      <th>FuelID</th>\n      <th>NumVeh</th>\n    </tr>\n  </thead>\n  <tbody>\n    <tr>\n      <th>0</th>\n      <td>0</td>\n      <td>1</td>\n      <td>9</td>\n      <td>70</td>\n      <td>2012</td>\n      <td>5</td>\n      <td>1</td>\n      <td>3</td>\n      <td>1</td>\n      <td>1</td>\n      <td>1</td>\n      <td>84.696857</td>\n    </tr>\n    <tr>\n      <th>1</th>\n      <td>1</td>\n      <td>1</td>\n      <td>9</td>\n      <td>70</td>\n      <td>2012</td>\n      <td>6</td>\n      <td>1</td>\n      <td>3</td>\n      <td>1</td>\n      <td>1</td>\n      <td>1</td>\n      <td>169.393714</td>\n    </tr>\n    <tr>\n      <th>2</th>\n      <td>2</td>\n      <td>1</td>\n      <td>9</td>\n      <td>70</td>\n      <td>2012</td>\n      <td>7</td>\n      <td>1</td>\n      <td>3</td>\n      <td>1</td>\n      <td>1</td>\n      <td>1</td>\n      <td>592.878000</td>\n    </tr>\n    <tr>\n      <th>3</th>\n      <td>3</td>\n      <td>1</td>\n      <td>9</td>\n      <td>70</td>\n      <td>2012</td>\n      <td>8</td>\n      <td>1</td>\n      <td>3</td>\n      <td>1</td>\n      <td>1</td>\n      <td>1</td>\n      <td>677.574857</td>\n    </tr>\n    <tr>\n      <th>4</th>\n      <td>4</td>\n      <td>1</td>\n      <td>9</td>\n      <td>70</td>\n      <td>2012</td>\n      <td>9</td>\n      <td>1</td>\n      <td>3</td>\n      <td>1</td>\n      <td>1</td>\n      <td>1</td>\n      <td>931.665429</td>\n    </tr>\n    <tr>\n      <th>...</th>\n      <td>...</td>\n      <td>...</td>\n      <td>...</td>\n      <td>...</td>\n      <td>...</td>\n      <td>...</td>\n      <td>...</td>\n      <td>...</td>\n      <td>...</td>\n      <td>...</td>\n      <td>...</td>\n      <td>...</td>\n    </tr>\n    <tr>\n      <th>177913</th>\n      <td>177913</td>\n      <td>1</td>\n      <td>9</td>\n      <td>4275</td>\n      <td>2050</td>\n      <td>16</td>\n      <td>1</td>\n      <td>8</td>\n      <td>45</td>\n      <td>7</td>\n      <td>15</td>\n      <td>0.000000</td>\n    </tr>\n    <tr>\n      <th>177914</th>\n      <td>177914</td>\n      <td>1</td>\n      <td>9</td>\n      <td>4275</td>\n      <td>2050</td>\n      <td>32</td>\n      <td>1</td>\n      <td>8</td>\n      <td>45</td>\n      <td>7</td>\n      <td>15</td>\n      <td>0.000000</td>\n    </tr>\n    <tr>\n      <th>177915</th>\n      <td>177915</td>\n      <td>1</td>\n      <td>9</td>\n      <td>4275</td>\n      <td>2050</td>\n      <td>33</td>\n      <td>1</td>\n      <td>8</td>\n      <td>45</td>\n      <td>7</td>\n      <td>15</td>\n      <td>0.000000</td>\n    </tr>\n    <tr>\n      <th>177916</th>\n      <td>177916</td>\n      <td>1</td>\n      <td>9</td>\n      <td>4275</td>\n      <td>2050</td>\n      <td>34</td>\n      <td>1</td>\n      <td>8</td>\n      <td>45</td>\n      <td>7</td>\n      <td>15</td>\n      <td>0.000000</td>\n    </tr>\n    <tr>\n      <th>177917</th>\n      <td>177917</td>\n      <td>1</td>\n      <td>9</td>\n      <td>4275</td>\n      <td>2050</td>\n      <td>35</td>\n      <td>1</td>\n      <td>8</td>\n      <td>45</td>\n      <td>7</td>\n      <td>15</td>\n      <td>0.000000</td>\n    </tr>\n  </tbody>\n</table>\n<p>177918 rows × 12 columns</p>\n</div>"
     },
     "execution_count": 35,
     "metadata": {},
     "output_type": "execute_result"
    }
   ],
   "source": [
    "# validation\n",
    "\n",
    "# read in numveh baseline data\n",
    "numveh = pd.read_csv('./TEAM-Kenya_data_out/numveh.csv')\n",
    "numveh"
   ],
   "metadata": {
    "collapsed": false,
    "pycharm": {
     "name": "#%%\n"
    }
   }
  },
  {
   "cell_type": "code",
   "execution_count": 36,
   "outputs": [],
   "source": [
    "moto_scale = 539/1296"
   ],
   "metadata": {
    "collapsed": false,
    "pycharm": {
     "name": "#%%\n"
    }
   }
  },
  {
   "cell_type": "code",
   "execution_count": 37,
   "outputs": [],
   "source": [
    "#  mask for SHI for given tech\n",
    "years = range(2012, 2051)\n",
    "\n",
    "vehtype_dict = {'Moto':2, 'Car':3, 'Bus':4, 'Truck':5, 'Train':6, 'Ship':7, 'Plane':8}\n",
    "# vehtype_dict = {'Car':3}\n",
    "# vehtype_dict ={'Moto':2, 'Car':3, 'Bus':4, 'Truck':5}\n",
    "vehtype_dict = {'Moto':2}\n",
    "\n",
    "# plot\n",
    "%matplotlib qt\n",
    "\n",
    "# fig,axes = plt.subplots(2,4)\n",
    "# pos=[]\n",
    "# for i in range(2):\n",
    "#     for j in range(4):\n",
    "#         pos.append((i,j))\n",
    "#\n",
    "# pos_count=0\n",
    "for vehtype in vehtype_dict:\n",
    "    interface_stock_data = {'new_new':[], 'new_SHI':[], 'total_new':[], 'total_SHI':[],\n",
    "                            'scrapped_new':[], 'scrapped_SHI':[], 'total_ALL':[],\n",
    "                            'BEV_all':[], 'BEV_SHI':[], 'BEV_new':[]}\n",
    "    for year in years:\n",
    "\n",
    "        # just cars\n",
    "        annual_Data = interface_vsm[(interface_vsm['Year'] == year) & (interface_vsm['TechID'].isin(technology[technology['VehTypeID'] == vehtype_dict[vehtype]]['TechID']))]\n",
    "\n",
    "        # interface_stock_data['new_petrol'].append(annual_Data[(annual_Data['TechID'] < 9000) & (annual_Data['FuelID'] == 1)]['NumVeh'].sum())\n",
    "        # interface_stock_data['SHI_petrol'].append(annual_Data[(annual_Data['TechID'] >= 9000) & (annual_Data['FuelID'] == 1)]['NumVeh'].sum())\n",
    "        # interface_stock_data['new_bev'].append(annual_Data[(annual_Data['TechID'] < 9000) & (annual_Data['FuelID'] == 12)]['NumVeh'].sum())\n",
    "        # interface_stock_data['SHI_bev'].append(annual_Data[(annual_Data['TechID'] >= 9000) & (annual_Data['FuelID'] == 12)]['NumVeh'].sum())\n",
    "\n",
    "        interface_stock_data['new_new'].append(annual_Data[(annual_Data['TechID'] < 9000) & (annual_Data['VehCatID'] == 'N')]['NumVeh'].sum())\n",
    "        interface_stock_data['new_SHI'].append(annual_Data[(annual_Data['TechID'] >= 9000) & (annual_Data['VehCatID'] == 'N')]['NumVeh'].sum())\n",
    "        interface_stock_data['total_new'].append(annual_Data[(annual_Data['TechID'] < 9000) & (annual_Data['VehCatID'] == 'T')]['NumVeh'].sum()*moto_scale)\n",
    "        interface_stock_data['total_SHI'].append(annual_Data[(annual_Data['TechID'] >= 9000)  & (annual_Data['VehCatID'] == 'T')]['NumVeh'].sum()*moto_scale)\n",
    "        interface_stock_data['scrapped_new'].append(annual_Data[(annual_Data['TechID'] < 9000) & (annual_Data['VehCatID'] == 'S')]['NumVeh'].sum())\n",
    "        interface_stock_data['scrapped_SHI'].append(annual_Data[(annual_Data['TechID'] >= 9000)  & (annual_Data['VehCatID'] == 'S')]['NumVeh'].sum())\n",
    "        interface_stock_data['total_ALL'].append(annual_Data[annual_Data['VehCatID'] == 'T']['NumVeh'].sum()*moto_scale)\n",
    "\n",
    "        interface_stock_data['BEV_all'].append(annual_Data[(annual_Data['TechID'].isin(technology[technology.FuelID==12].TechID)) & (annual_Data['VehCatID'] == 'T')]['NumVeh'].sum()*moto_scale)\n",
    "        interface_stock_data['BEV_SHI'].append(annual_Data[(annual_Data['TechID'].isin(technology[technology.FuelID==12].TechID)) & (annual_Data['TechID'] > 9000) & (annual_Data['VehCatID'] == 'T')]['NumVeh'].sum()*moto_scale)\n",
    "        interface_stock_data['BEV_new'].append(annual_Data[(annual_Data['TechID'].isin(technology[technology.FuelID==12].TechID)) & (annual_Data['TechID'] < 9000) & (annual_Data['VehCatID'] == 'T')]['NumVeh'].sum()*moto_scale)\n",
    "\n",
    "\n",
    "    fig, ax = plt.subplots(figsize=(5,4))\n",
    "\n",
    "    clr_cnt = 0\n",
    "\n",
    "    plot_keys = list(interface_stock_data.keys())\n",
    "    plot_keys = ['total_ALL', 'total_new', 'total_SHI', 'BEV_new', 'BEV_SHI']\n",
    "    for data in plot_keys:\n",
    "\n",
    "        ax.plot(years, interface_stock_data[data], label=data, color=sns.color_palette()[clr_cnt])\n",
    "\n",
    "        clr_cnt += 1\n",
    "\n",
    "    # put a comparison on from input data\n",
    "    st_year = 2015\n",
    "    e_year = 2050\n",
    "    initial_stock = numveh[(numveh.VehTypeID == vehtype_dict[vehtype]) & (numveh.Year == 2012)].NumVeh.sum()\n",
    "\n",
    "    #ax.axhline(initial_stock, color='black', linestyle='--', label='initial')\n",
    "\n",
    "    ax.set_xlim(left=st_year, right=e_year)\n",
    "    ax.set_ylabel('Vehicle stock')\n",
    "    ax.legend()\n",
    "\n",
    "    plt.title(f'Kenya vehicle stock - {vehtype}')\n",
    "    fig.tight_layout()\n",
    "\n",
    "    if calibration:\n",
    "        #fig.savefig(f'./calibration/attempts/attempt{attempt}/vehstock_{vehtype}.png')\n",
    "        fig.savefig(f'./calibration/attempts/{attempt}/vehstock_{vehtype}.png')\n",
    "    else:\n",
    "        fig.savefig(f'./plots/vehstock_{vehtype}.png')\n",
    "\n",
    "    # pos_count+=1"
   ],
   "metadata": {
    "collapsed": false,
    "pycharm": {
     "name": "#%%\n"
    }
   }
  },
  {
   "cell_type": "code",
   "execution_count": 38,
   "outputs": [
    {
     "data": {
      "text/plain": "7017821.062090565"
     },
     "execution_count": 38,
     "metadata": {},
     "output_type": "execute_result"
    }
   ],
   "source": [
    "annual_Data[(annual_Data['TechID'] < 9000) & (annual_Data['VehCatID'] == 'T')]['NumVeh'].sum()"
   ],
   "metadata": {
    "collapsed": false,
    "pycharm": {
     "name": "#%%\n"
    }
   }
  }
 ],
 "metadata": {
  "kernelspec": {
   "display_name": "Python 3",
   "language": "python",
   "name": "python3"
  },
  "language_info": {
   "codemirror_mode": {
    "name": "ipython",
    "version": 2
   },
   "file_extension": ".py",
   "mimetype": "text/x-python",
   "name": "python",
   "nbconvert_exporter": "python",
   "pygments_lexer": "ipython2",
   "version": "2.7.6"
  }
 },
 "nbformat": 4,
 "nbformat_minor": 0
}