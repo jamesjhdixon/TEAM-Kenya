{
 "cells": [
  {
   "cell_type": "markdown",
   "source": [
    "This notebook translates fuel taxation levels from scenarios into the policystep1_fueltax sheet"
   ],
   "metadata": {
    "collapsed": false
   },
   "id": "26ccf3d83743dacf"
  },
  {
   "cell_type": "code",
   "execution_count": 1,
   "outputs": [],
   "source": [
    "import pandas as pd\n",
    "import numpy as np\n",
    "\n",
    "## TODO :: NOT FINISHED!!!!"
   ],
   "metadata": {
    "collapsed": false,
    "ExecuteTime": {
     "end_time": "2023-09-07T10:10:44.361040200Z",
     "start_time": "2023-09-07T10:10:44.356665300Z"
    }
   },
   "id": "c32ec21879d24b0f"
  },
  {
   "cell_type": "code",
   "execution_count": 2,
   "outputs": [],
   "source": [
    "# import uk data for table structure\n",
    "def return_policy_step1_fueltax():\n",
    "    policy_step1 = pd.read_excel(f'./../TEAM-Kenya_data_out/original-team-uk-data/Policy_Step1_FuelTax.xlsx')\n",
    "    return policy_step1"
   ],
   "metadata": {
    "collapsed": false,
    "ExecuteTime": {
     "end_time": "2023-09-07T10:14:32.881882900Z",
     "start_time": "2023-09-07T10:14:32.877933100Z"
    }
   },
   "id": "8062ab306f858a9b"
  },
  {
   "cell_type": "code",
   "execution_count": 3,
   "outputs": [
    {
     "data": {
      "text/plain": "      CountryID  PolicyID  Year  VehTypeID  FuelID  FuelTax\n0             9         0  2012          2       1        0\n1             9         0  2012          2      12        0\n2             9         0  2012          3       1        0\n3             9         0  2012          3       2        0\n4             9         0  2012          3       5        0\n...         ...       ...   ...        ...     ...      ...\n3070          9         0  2100          6      12        0\n3071          9         0  2100          7       2        0\n3072          9         0  2100          8      12        0\n3073          9         0  2100          8      14        0\n3074          9         0  2100          8      15        0\n\n[3075 rows x 6 columns]",
      "text/html": "<div>\n<style scoped>\n    .dataframe tbody tr th:only-of-type {\n        vertical-align: middle;\n    }\n\n    .dataframe tbody tr th {\n        vertical-align: top;\n    }\n\n    .dataframe thead th {\n        text-align: right;\n    }\n</style>\n<table border=\"1\" class=\"dataframe\">\n  <thead>\n    <tr style=\"text-align: right;\">\n      <th></th>\n      <th>CountryID</th>\n      <th>PolicyID</th>\n      <th>Year</th>\n      <th>VehTypeID</th>\n      <th>FuelID</th>\n      <th>FuelTax</th>\n    </tr>\n  </thead>\n  <tbody>\n    <tr>\n      <th>0</th>\n      <td>9</td>\n      <td>0</td>\n      <td>2012</td>\n      <td>2</td>\n      <td>1</td>\n      <td>0</td>\n    </tr>\n    <tr>\n      <th>1</th>\n      <td>9</td>\n      <td>0</td>\n      <td>2012</td>\n      <td>2</td>\n      <td>12</td>\n      <td>0</td>\n    </tr>\n    <tr>\n      <th>2</th>\n      <td>9</td>\n      <td>0</td>\n      <td>2012</td>\n      <td>3</td>\n      <td>1</td>\n      <td>0</td>\n    </tr>\n    <tr>\n      <th>3</th>\n      <td>9</td>\n      <td>0</td>\n      <td>2012</td>\n      <td>3</td>\n      <td>2</td>\n      <td>0</td>\n    </tr>\n    <tr>\n      <th>4</th>\n      <td>9</td>\n      <td>0</td>\n      <td>2012</td>\n      <td>3</td>\n      <td>5</td>\n      <td>0</td>\n    </tr>\n    <tr>\n      <th>...</th>\n      <td>...</td>\n      <td>...</td>\n      <td>...</td>\n      <td>...</td>\n      <td>...</td>\n      <td>...</td>\n    </tr>\n    <tr>\n      <th>3070</th>\n      <td>9</td>\n      <td>0</td>\n      <td>2100</td>\n      <td>6</td>\n      <td>12</td>\n      <td>0</td>\n    </tr>\n    <tr>\n      <th>3071</th>\n      <td>9</td>\n      <td>0</td>\n      <td>2100</td>\n      <td>7</td>\n      <td>2</td>\n      <td>0</td>\n    </tr>\n    <tr>\n      <th>3072</th>\n      <td>9</td>\n      <td>0</td>\n      <td>2100</td>\n      <td>8</td>\n      <td>12</td>\n      <td>0</td>\n    </tr>\n    <tr>\n      <th>3073</th>\n      <td>9</td>\n      <td>0</td>\n      <td>2100</td>\n      <td>8</td>\n      <td>14</td>\n      <td>0</td>\n    </tr>\n    <tr>\n      <th>3074</th>\n      <td>9</td>\n      <td>0</td>\n      <td>2100</td>\n      <td>8</td>\n      <td>15</td>\n      <td>0</td>\n    </tr>\n  </tbody>\n</table>\n<p>3075 rows × 6 columns</p>\n</div>"
     },
     "execution_count": 3,
     "metadata": {},
     "output_type": "execute_result"
    }
   ],
   "source": [
    "# base rates in GB per litre - electricity?\n",
    "def return_base_rates_policy_impacts(policy_impacts, technology, base_rates):\n",
    "\n",
    "    for techid in technology.TechID.unique().tolist():\n",
    "\n",
    "        set_inds = policy_impacts[policy_impacts.TechID == techid].index.tolist()\n",
    "\n",
    "        policy_impacts.loc[set_inds, 'PurchaseTax'] = base_rates['ImportDuty']*technology[technology.TechID == techid]['PurchasePrice'].item() + base_rates['ExciseDuty']*(1+base_rates['ImportDuty'])*technology[technology.TechID == techid]['PurchasePrice'].item() + base_rates['VAT']*(1+base_rates['ExciseDuty'])*(1+base_rates['ImportDuty'])*technology[technology.TechID == techid]['PurchasePrice'].item()\n",
    "\n",
    "    return policy_impacts"
   ],
   "metadata": {
    "collapsed": false,
    "ExecuteTime": {
     "end_time": "2023-09-07T10:14:36.732901Z",
     "start_time": "2023-09-07T10:14:36.214269500Z"
    }
   },
   "id": "83fea3248944bf4b"
  },
  {
   "cell_type": "code",
   "execution_count": null,
   "outputs": [],
   "source": [
    "# taxation rates per fuel type\n",
    "base_rates = {1: 0.2,\n",
    "            2: 0.2,\n",
    "            3: 0.3,\n",
    "            4: 0.4,\n",
    "            5: 0.3,\n",
    "            6: 0.2,\n",
    "            7: 0.2,\n",
    "            8: 0.3,\n",
    "            9: 0.4,\n",
    "            10: 0.3,\n",
    "            11: 0.2,\n",
    "            12: 0.2}\n",
    "\n",
    "# fuel prices per litre/kwh \n",
    "base_rates = {1: 0.2,\n",
    "            2: 0.2,\n",
    "            3: 0.3,\n",
    "            4: 0.4,\n",
    "            5: 0.3,\n",
    "            6: 0.2,\n",
    "            7: 0.2,\n",
    "            8: 0.3,\n",
    "            9: 0.4,\n",
    "            10: 0.3,\n",
    "            11: 0.2,\n",
    "            12: 0.2}"
   ],
   "metadata": {
    "collapsed": false
   },
   "id": "b97b7499424f9ed0"
  }
 ],
 "metadata": {
  "kernelspec": {
   "display_name": "Python 3",
   "language": "python",
   "name": "python3"
  },
  "language_info": {
   "codemirror_mode": {
    "name": "ipython",
    "version": 2
   },
   "file_extension": ".py",
   "mimetype": "text/x-python",
   "name": "python",
   "nbconvert_exporter": "python",
   "pygments_lexer": "ipython2",
   "version": "2.7.6"
  }
 },
 "nbformat": 4,
 "nbformat_minor": 5
}
