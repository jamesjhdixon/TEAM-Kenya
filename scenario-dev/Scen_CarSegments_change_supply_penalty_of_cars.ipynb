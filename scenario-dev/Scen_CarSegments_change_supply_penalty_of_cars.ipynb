{
 "cells": [
  {
   "cell_type": "markdown",
   "source": [
    "This notebook changes supply penalties of specified technology types in Scen_CarSegments.\n",
    "Before, it was being done to Cost_data but I think that was useless as values are reset in Update Costs macro.\n",
    "\n",
    "***MAKE SURE YOU RUN SCEN_CARSEGMENTS_TRANSLATE... BEFORE THIS!!***\n",
    "\n"
   ],
   "metadata": {
    "collapsed": false,
    "pycharm": {
     "name": "#%% md\n"
    }
   }
  },
  {
   "cell_type": "code",
   "execution_count": 65,
   "outputs": [],
   "source": [
    "import pandas as pd"
   ],
   "metadata": {
    "collapsed": false,
    "pycharm": {
     "name": "#%%\n"
    },
    "ExecuteTime": {
     "end_time": "2023-08-14T10:54:52.459701200Z",
     "start_time": "2023-08-14T10:54:52.421095600Z"
    }
   }
  },
  {
   "cell_type": "code",
   "execution_count": 66,
   "outputs": [],
   "source": [
    "# function to return SP cols from df (scen_carsegments)\n",
    "def return_SPcols(powertrain, df):\n",
    "    \n",
    "    cols = [s for s in df.columns.tolist() if s[0:2] == 'SP']\n",
    "    SPcols = [s for s in cols if powertrain in s]\n",
    "    \n",
    "    return SPcols"
   ],
   "metadata": {
    "collapsed": false,
    "ExecuteTime": {
     "end_time": "2023-08-14T10:54:52.475795300Z",
     "start_time": "2023-08-14T10:54:52.428099600Z"
    }
   }
  },
  {
   "cell_type": "code",
   "execution_count": 67,
   "outputs": [],
   "source": [
    "# function to return interpolated values in SP dictionaries (below)\n",
    "def return_interpolated_value(y, powertrain, scenario, SPdata):\n",
    "    \n",
    "    SPdict = SPdata[scenario][powertrain]\n",
    "    \n",
    "    if y in SPdict:\n",
    "        x = SPdict[y]\n",
    "    else:\n",
    "        # if it's not the last one in the sorted list\n",
    "        if sorted(list(SPdict.keys())+[y]).index(y) < len(list(SPdict.keys())+[y]) - 1:\n",
    "            x = SPdict[list(SPdict.keys())[sorted(list(SPdict.keys())+[y]).index(y)-1]] + (y - list(SPdict.keys())[sorted(list(SPdict.keys())+[y]).index(y)-1])/(list(SPdict.keys())[sorted(list(SPdict.keys())+[y]).index(y)] - list(SPdict.keys())[sorted(list(SPdict.keys())+[y]).index(y)-1]) * (SPdict[list(SPdict.keys())[sorted(list(SPdict.keys())+[y]).index(y)]] - SPdict[list(SPdict.keys())[sorted(list(SPdict.keys())+[y]).index(y)-1]])\n",
    "        else:\n",
    "            if sorted(list(SPdict.keys())+[y]).index(y) == 0:\n",
    "                x = 0\n",
    "            else:\n",
    "                x = SPdict[list(SPdict.keys())[-1]]\n",
    "    return int(x)"
   ],
   "metadata": {
    "collapsed": false,
    "ExecuteTime": {
     "end_time": "2023-08-14T10:54:52.491811200Z",
     "start_time": "2023-08-14T10:54:52.437556500Z"
    }
   }
  },
  {
   "cell_type": "code",
   "execution_count": 68,
   "outputs": [],
   "source": [
    "# define desired SPs as a set of years with amounts (£) in a dictionary\n",
    "SPdata = {'OMOKA': {'Petrol': {2012: 0, 2029: 0, 2034: 5000, 2035: 5000}, \n",
    "          'Diesel': {2012: 0, 2029: 0, 2034: 5000, 2035: 5000},\n",
    "          'SPHEV': {2012: 6200, 2015: 3600, 2029: 1800, 2034: 5000, 2035: 5000},\n",
    "          'SPPHEV': {2012: 80000, 2015: 8000, 2034: 5000, 2035: 5000},\n",
    "          'SPBEV': {2012: 9000, 2015: 7000, 2029: 1500, 2035: 0},\n",
    "          'BioV': {2012: 100000},\n",
    "          'GV': {2012: 100000},\n",
    "          'HFC': {2012: 100000}},\n",
    "          'ELECTRICDREAMS': {'Petrol': {2012: 0, 2029: 0, 2034: 7500, 2035: 10000}, \n",
    "          'Diesel': {2012: 0, 2029: 0, 2034: 5000, 2035: 10000},\n",
    "          'SPHEV': {2012: 6200, 2015: 3600, 2029: 1800, 2034: 5000, 2035: 5000},\n",
    "          'SPPHEV': {2012: 80000, 2015: 8000, 2034: 5000, 2035: 5000},\n",
    "          'SPBEV': {2012: 9000, 2015: 7000, 2029: 1500, 2035: 0},\n",
    "          'BioV': {2012: 100000},\n",
    "          'GV': {2012: 100000},\n",
    "          'HFC': {2012: 100000}},\n",
    "          'KUJINAO': {'Petrol': {2012: 0, 2029: 0, 2034: 5000, 2040: 5000}, \n",
    "          'Diesel': {2012: 0, 2029: 0, 2034: 5000, 2040: 5000},\n",
    "          'SPHEV': {2012: 6200, 2015: 3600, 2029: 1800, 2034: 5000, 2035: 5000},\n",
    "          'SPPHEV': {2012: 80000, 2015: 8000, 2034: 5000, 2035: 5000},\n",
    "          'SPBEV': {2012: 9000, 2015: 7000, 2029: 1500, 2035: 0},\n",
    "          'BioV': {2012: 100000},\n",
    "          'GV': {2012: 100000},\n",
    "          'HFC': {2012: 100000}},\n",
    "          'STREETFIGHTING': {'Petrol': {2012: 0}, \n",
    "          'Diesel': {2012: 0},\n",
    "          'SPHEV': {2012: 0},\n",
    "          'SPPHEV': {2012: 0},\n",
    "          'SPBEV': {2012: 0},\n",
    "          'BioV': {2012: 100000},\n",
    "          'GV': {2012: 100000},\n",
    "          'HFC': {2012: 100000}}}"
   ],
   "metadata": {
    "collapsed": false,
    "ExecuteTime": {
     "end_time": "2023-08-14T10:54:52.523147700Z",
     "start_time": "2023-08-14T10:54:52.444064700Z"
    }
   }
  },
  {
   "cell_type": "code",
   "execution_count": 69,
   "outputs": [],
   "source": [
    "for scenario in SPdata:\n",
    "    \n",
    "    # load data\n",
    "    scen_carsegments = pd.read_excel(f'./../TEAM-Kenya_data_out/scenarios/Scen_CarSegments{scenario}.xlsx')\n",
    "    \n",
    "    for powertrain in SPdata[scenario]:\n",
    "        \n",
    "        for y in range(2012, 2101):\n",
    "        \n",
    "            scen_carsegments.loc[scen_carsegments[scen_carsegments.Year == y].index.values[0], return_SPcols(powertrain, scen_carsegments)] = return_interpolated_value(y, powertrain, scenario, SPdata)\n",
    "            \n",
    "    \n",
    "    scen_carsegments.to_excel(f'./../TEAM-Kenya_data_out/scenarios/Scen_CarSegments{scenario}.xlsx', index=False)"
   ],
   "metadata": {
    "collapsed": false,
    "ExecuteTime": {
     "end_time": "2023-08-14T10:54:55.833802600Z",
     "start_time": "2023-08-14T10:54:52.450195300Z"
    }
   }
  },
  {
   "cell_type": "code",
   "execution_count": 70,
   "outputs": [
    {
     "data": {
      "text/plain": "    ScenarioID  CountryID  Year  shPrivate  shFleet  shPSmall  shPMedium  \\\n0            1          9  2012          1        0  0.551779   0.283690   \n1            1          9  2013          1        0  0.550000   0.282000   \n2            1          9  2014          1        0  0.548221   0.280310   \n3            1          9  2015          1        0  0.546441   0.278620   \n4            1          9  2016          1        0  0.544662   0.276929   \n..         ...        ...   ...        ...      ...       ...        ...   \n84           1          9  2096          1        0  0.480000   0.230000   \n85           1          9  2097          1        0  0.480000   0.230000   \n86           1          9  2098          1        0  0.480000   0.230000   \n87           1          9  2099          1        0  0.480000   0.230000   \n88           1          9  2100          1        0  0.480000   0.230000   \n\n    shPLarge  shFSmall  shFMedium  ...  ASC_PHEV_Resistor  ASC_BioV_Resistor  \\\n0   0.164530  0.277528   0.510031  ...           -4.43646           -4.43646   \n1   0.168000  0.277000   0.508000  ...           -4.43646           -4.43646   \n2   0.171470  0.276472   0.505969  ...           -4.43646           -4.43646   \n3   0.174939  0.275944   0.503937  ...           -4.43646           -4.43646   \n4   0.178409  0.275416   0.501906  ...           -4.43646           -4.43646   \n..       ...       ...        ...  ...                ...                ...   \n84  0.290000  0.250000   0.420000  ...           -4.43646           -4.43646   \n85  0.290000  0.250000   0.420000  ...           -4.43646           -4.43646   \n86  0.290000  0.250000   0.420000  ...           -4.43646           -4.43646   \n87  0.290000  0.250000   0.420000  ...           -4.43646           -4.43646   \n88  0.290000  0.250000   0.420000  ...           -4.43646           -4.43646   \n\n    ASC_GV_Resistor  ASC_HFCV_Resistor  ASC_BEV_UserChooser  \\\n0          -4.43646           -9.43628              -5.2815   \n1          -4.43646           -9.43628              -5.2815   \n2          -4.43646           -9.43628              -5.2815   \n3          -4.43646           -9.43628              -5.2815   \n4          -4.43646           -9.43628              -5.2815   \n..              ...                ...                  ...   \n84         -4.43646           -9.43628              -5.2815   \n85         -4.43646           -9.43628              -5.2815   \n86         -4.43646           -9.43628              -5.2815   \n87         -4.43646           -9.43628              -5.2815   \n88         -4.43646           -9.43628              -5.2815   \n\n    ASC_PHEV_UserChooser  ASC_BioV_UserChooser  ASC_GV_UserChooser  \\\n0               -1.33798              -1.33798            -1.33798   \n1               -1.33798              -1.33798            -1.33798   \n2               -1.33798              -1.33798            -1.33798   \n3               -1.33798              -1.33798            -1.33798   \n4               -1.33798              -1.33798            -1.33798   \n..                   ...                   ...                 ...   \n84              -1.33798              -1.33798            -1.33798   \n85              -1.33798              -1.33798            -1.33798   \n86              -1.33798              -1.33798            -1.33798   \n87              -1.33798              -1.33798            -1.33798   \n88              -1.33798              -1.33798            -1.33798   \n\n    ASC_HFCV_UserChooser  ShImport  \n0                -5.2815      0.85  \n1                -5.2815      0.85  \n2                -5.2815      0.85  \n3                -5.2815      0.85  \n4                -5.2815      0.85  \n..                   ...       ...  \n84               -5.2815      0.85  \n85               -5.2815      0.85  \n86               -5.2815      0.85  \n87               -5.2815      0.85  \n88               -5.2815      0.85  \n\n[89 rows x 76 columns]",
      "text/html": "<div>\n<style scoped>\n    .dataframe tbody tr th:only-of-type {\n        vertical-align: middle;\n    }\n\n    .dataframe tbody tr th {\n        vertical-align: top;\n    }\n\n    .dataframe thead th {\n        text-align: right;\n    }\n</style>\n<table border=\"1\" class=\"dataframe\">\n  <thead>\n    <tr style=\"text-align: right;\">\n      <th></th>\n      <th>ScenarioID</th>\n      <th>CountryID</th>\n      <th>Year</th>\n      <th>shPrivate</th>\n      <th>shFleet</th>\n      <th>shPSmall</th>\n      <th>shPMedium</th>\n      <th>shPLarge</th>\n      <th>shFSmall</th>\n      <th>shFMedium</th>\n      <th>...</th>\n      <th>ASC_PHEV_Resistor</th>\n      <th>ASC_BioV_Resistor</th>\n      <th>ASC_GV_Resistor</th>\n      <th>ASC_HFCV_Resistor</th>\n      <th>ASC_BEV_UserChooser</th>\n      <th>ASC_PHEV_UserChooser</th>\n      <th>ASC_BioV_UserChooser</th>\n      <th>ASC_GV_UserChooser</th>\n      <th>ASC_HFCV_UserChooser</th>\n      <th>ShImport</th>\n    </tr>\n  </thead>\n  <tbody>\n    <tr>\n      <th>0</th>\n      <td>1</td>\n      <td>9</td>\n      <td>2012</td>\n      <td>1</td>\n      <td>0</td>\n      <td>0.551779</td>\n      <td>0.283690</td>\n      <td>0.164530</td>\n      <td>0.277528</td>\n      <td>0.510031</td>\n      <td>...</td>\n      <td>-4.43646</td>\n      <td>-4.43646</td>\n      <td>-4.43646</td>\n      <td>-9.43628</td>\n      <td>-5.2815</td>\n      <td>-1.33798</td>\n      <td>-1.33798</td>\n      <td>-1.33798</td>\n      <td>-5.2815</td>\n      <td>0.85</td>\n    </tr>\n    <tr>\n      <th>1</th>\n      <td>1</td>\n      <td>9</td>\n      <td>2013</td>\n      <td>1</td>\n      <td>0</td>\n      <td>0.550000</td>\n      <td>0.282000</td>\n      <td>0.168000</td>\n      <td>0.277000</td>\n      <td>0.508000</td>\n      <td>...</td>\n      <td>-4.43646</td>\n      <td>-4.43646</td>\n      <td>-4.43646</td>\n      <td>-9.43628</td>\n      <td>-5.2815</td>\n      <td>-1.33798</td>\n      <td>-1.33798</td>\n      <td>-1.33798</td>\n      <td>-5.2815</td>\n      <td>0.85</td>\n    </tr>\n    <tr>\n      <th>2</th>\n      <td>1</td>\n      <td>9</td>\n      <td>2014</td>\n      <td>1</td>\n      <td>0</td>\n      <td>0.548221</td>\n      <td>0.280310</td>\n      <td>0.171470</td>\n      <td>0.276472</td>\n      <td>0.505969</td>\n      <td>...</td>\n      <td>-4.43646</td>\n      <td>-4.43646</td>\n      <td>-4.43646</td>\n      <td>-9.43628</td>\n      <td>-5.2815</td>\n      <td>-1.33798</td>\n      <td>-1.33798</td>\n      <td>-1.33798</td>\n      <td>-5.2815</td>\n      <td>0.85</td>\n    </tr>\n    <tr>\n      <th>3</th>\n      <td>1</td>\n      <td>9</td>\n      <td>2015</td>\n      <td>1</td>\n      <td>0</td>\n      <td>0.546441</td>\n      <td>0.278620</td>\n      <td>0.174939</td>\n      <td>0.275944</td>\n      <td>0.503937</td>\n      <td>...</td>\n      <td>-4.43646</td>\n      <td>-4.43646</td>\n      <td>-4.43646</td>\n      <td>-9.43628</td>\n      <td>-5.2815</td>\n      <td>-1.33798</td>\n      <td>-1.33798</td>\n      <td>-1.33798</td>\n      <td>-5.2815</td>\n      <td>0.85</td>\n    </tr>\n    <tr>\n      <th>4</th>\n      <td>1</td>\n      <td>9</td>\n      <td>2016</td>\n      <td>1</td>\n      <td>0</td>\n      <td>0.544662</td>\n      <td>0.276929</td>\n      <td>0.178409</td>\n      <td>0.275416</td>\n      <td>0.501906</td>\n      <td>...</td>\n      <td>-4.43646</td>\n      <td>-4.43646</td>\n      <td>-4.43646</td>\n      <td>-9.43628</td>\n      <td>-5.2815</td>\n      <td>-1.33798</td>\n      <td>-1.33798</td>\n      <td>-1.33798</td>\n      <td>-5.2815</td>\n      <td>0.85</td>\n    </tr>\n    <tr>\n      <th>...</th>\n      <td>...</td>\n      <td>...</td>\n      <td>...</td>\n      <td>...</td>\n      <td>...</td>\n      <td>...</td>\n      <td>...</td>\n      <td>...</td>\n      <td>...</td>\n      <td>...</td>\n      <td>...</td>\n      <td>...</td>\n      <td>...</td>\n      <td>...</td>\n      <td>...</td>\n      <td>...</td>\n      <td>...</td>\n      <td>...</td>\n      <td>...</td>\n      <td>...</td>\n      <td>...</td>\n    </tr>\n    <tr>\n      <th>84</th>\n      <td>1</td>\n      <td>9</td>\n      <td>2096</td>\n      <td>1</td>\n      <td>0</td>\n      <td>0.480000</td>\n      <td>0.230000</td>\n      <td>0.290000</td>\n      <td>0.250000</td>\n      <td>0.420000</td>\n      <td>...</td>\n      <td>-4.43646</td>\n      <td>-4.43646</td>\n      <td>-4.43646</td>\n      <td>-9.43628</td>\n      <td>-5.2815</td>\n      <td>-1.33798</td>\n      <td>-1.33798</td>\n      <td>-1.33798</td>\n      <td>-5.2815</td>\n      <td>0.85</td>\n    </tr>\n    <tr>\n      <th>85</th>\n      <td>1</td>\n      <td>9</td>\n      <td>2097</td>\n      <td>1</td>\n      <td>0</td>\n      <td>0.480000</td>\n      <td>0.230000</td>\n      <td>0.290000</td>\n      <td>0.250000</td>\n      <td>0.420000</td>\n      <td>...</td>\n      <td>-4.43646</td>\n      <td>-4.43646</td>\n      <td>-4.43646</td>\n      <td>-9.43628</td>\n      <td>-5.2815</td>\n      <td>-1.33798</td>\n      <td>-1.33798</td>\n      <td>-1.33798</td>\n      <td>-5.2815</td>\n      <td>0.85</td>\n    </tr>\n    <tr>\n      <th>86</th>\n      <td>1</td>\n      <td>9</td>\n      <td>2098</td>\n      <td>1</td>\n      <td>0</td>\n      <td>0.480000</td>\n      <td>0.230000</td>\n      <td>0.290000</td>\n      <td>0.250000</td>\n      <td>0.420000</td>\n      <td>...</td>\n      <td>-4.43646</td>\n      <td>-4.43646</td>\n      <td>-4.43646</td>\n      <td>-9.43628</td>\n      <td>-5.2815</td>\n      <td>-1.33798</td>\n      <td>-1.33798</td>\n      <td>-1.33798</td>\n      <td>-5.2815</td>\n      <td>0.85</td>\n    </tr>\n    <tr>\n      <th>87</th>\n      <td>1</td>\n      <td>9</td>\n      <td>2099</td>\n      <td>1</td>\n      <td>0</td>\n      <td>0.480000</td>\n      <td>0.230000</td>\n      <td>0.290000</td>\n      <td>0.250000</td>\n      <td>0.420000</td>\n      <td>...</td>\n      <td>-4.43646</td>\n      <td>-4.43646</td>\n      <td>-4.43646</td>\n      <td>-9.43628</td>\n      <td>-5.2815</td>\n      <td>-1.33798</td>\n      <td>-1.33798</td>\n      <td>-1.33798</td>\n      <td>-5.2815</td>\n      <td>0.85</td>\n    </tr>\n    <tr>\n      <th>88</th>\n      <td>1</td>\n      <td>9</td>\n      <td>2100</td>\n      <td>1</td>\n      <td>0</td>\n      <td>0.480000</td>\n      <td>0.230000</td>\n      <td>0.290000</td>\n      <td>0.250000</td>\n      <td>0.420000</td>\n      <td>...</td>\n      <td>-4.43646</td>\n      <td>-4.43646</td>\n      <td>-4.43646</td>\n      <td>-9.43628</td>\n      <td>-5.2815</td>\n      <td>-1.33798</td>\n      <td>-1.33798</td>\n      <td>-1.33798</td>\n      <td>-5.2815</td>\n      <td>0.85</td>\n    </tr>\n  </tbody>\n</table>\n<p>89 rows × 76 columns</p>\n</div>"
     },
     "execution_count": 70,
     "metadata": {},
     "output_type": "execute_result"
    }
   ],
   "source": [
    "scen_carsegments"
   ],
   "metadata": {
    "collapsed": false,
    "ExecuteTime": {
     "end_time": "2023-08-14T10:54:55.850602700Z",
     "start_time": "2023-08-14T10:54:55.832797200Z"
    }
   }
  }
 ],
 "metadata": {
  "kernelspec": {
   "display_name": "Python 3",
   "language": "python",
   "name": "python3"
  },
  "language_info": {
   "codemirror_mode": {
    "name": "ipython",
    "version": 2
   },
   "file_extension": ".py",
   "mimetype": "text/x-python",
   "name": "python",
   "nbconvert_exporter": "python",
   "pygments_lexer": "ipython2",
   "version": "2.7.6"
  }
 },
 "nbformat": 4,
 "nbformat_minor": 0
}
